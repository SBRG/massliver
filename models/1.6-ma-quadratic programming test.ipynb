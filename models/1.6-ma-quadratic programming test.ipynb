{
 "cells": [
  {
   "cell_type": "markdown",
   "metadata": {},
   "source": [
    "# Liver Model Construction: Notebook-Glycolysis ONLY-trial"
   ]
  },
  {
   "cell_type": "markdown",
   "metadata": {},
   "source": [
    "## Setup workflow"
   ]
  },
  {
   "cell_type": "markdown",
   "metadata": {},
   "source": [
    "### Import packages"
   ]
  },
  {
   "cell_type": "code",
   "execution_count": 1,
   "metadata": {},
   "outputs": [
    {
     "name": "stdout",
     "output_type": "stream",
     "text": [
      "MASSpy version: 0.1.1\n"
     ]
    }
   ],
   "source": [
    "import os\n",
    "import warnings\n",
    "from cobra.io.json import load_json_model as load_json_cobra_model\n",
    "import escher\n",
    "import mass\n",
    "import numpy as np\n",
    "import pandas as pd\n",
    "import sympy as sy\n",
    "from cobra import Model, Reaction, Metabolite\n",
    "import cobra.test\n",
    "from os.path import join\n",
    "from mass.util import qcqa_model\n",
    "from cobra import DictList\n",
    "from mass import (\n",
    "    MassConfiguration, MassMetabolite, MassModel,\n",
    "    MassReaction, Simulation, UnitDefinition)\n",
    "from mass.io.json import save_json_model as save_json_mass_model\n",
    "from mass.visualization import plot_comparison, plot_time_profile\n",
    "mass_config = MassConfiguration()\n",
    "\n",
    "mass_config.irreversible_Keq = float(\"inf\")\n",
    "\n",
    "print(\"MASSpy version: {0}\".format(mass.__version__))\n",
    "\n",
    "import pandas as pd\n",
    "\n",
    "from six import iteritems\n",
    "\n",
    "import sympy as sym\n",
    "\n",
    "import matplotlib.pyplot as plt\n",
    "\n",
    "from mass.thermo import (\n",
    "    ConcSolver, sample_concentrations,\n",
    "    update_model_with_concentration_solution)"
   ]
  },
  {
   "cell_type": "code",
   "execution_count": 2,
   "metadata": {},
   "outputs": [
    {
     "name": "stdout",
     "output_type": "stream",
     "text": [
      "Requirement already satisfied: cplex in c:\\users\\mahim\\anaconda3\\lib\\site-packages (20.1.0.1)\n",
      "Note: you may need to restart the kernel to use updated packages.\n"
     ]
    }
   ],
   "source": [
    "pip install cplex"
   ]
  },
  {
   "cell_type": "code",
   "execution_count": 3,
   "metadata": {},
   "outputs": [],
   "source": [
    "seed = int(4)\n",
    "n_models = 1\n",
    "\n",
    "mass_config = MassConfiguration()\n",
    "mass_config.solver = \"cplex\""
   ]
  },
  {
   "cell_type": "markdown",
   "metadata": {},
   "source": [
    "## Set paths and constants"
   ]
  },
  {
   "cell_type": "markdown",
   "metadata": {},
   "source": [
    "### Directory paths"
   ]
  },
  {
   "cell_type": "code",
   "execution_count": 4,
   "metadata": {},
   "outputs": [],
   "source": [
    "#had to remove the mass\n",
    "model_dir = os.path.abspath(\"../models\")\n",
    "maps_dir = os.path.abspath(\"../maps\")"
   ]
  },
  {
   "cell_type": "markdown",
   "metadata": {},
   "source": [
    "# Create MASS model from COBRA model"
   ]
  },
  {
   "cell_type": "markdown",
   "metadata": {},
   "source": [
    "### Load COBRA model"
   ]
  },
  {
   "cell_type": "code",
   "execution_count": 5,
   "metadata": {},
   "outputs": [
    {
     "data": {
      "text/html": [
       "\n",
       "        <table>\n",
       "            <tr>\n",
       "                <td><strong>Name</strong></td>\n",
       "                <td>None</td>\n",
       "            </tr><tr>\n",
       "                <td><strong>Memory address</strong></td>\n",
       "                <td>0x027b7dbb1f70</td>\n",
       "            </tr><tr>\n",
       "                <td><strong>Number of metabolites</strong></td>\n",
       "                <td>178</td>\n",
       "            </tr><tr>\n",
       "                <td><strong>Number of reactions</strong></td>\n",
       "                <td>187</td>\n",
       "            </tr><tr>\n",
       "                <td><strong>Number of groups</strong></td>\n",
       "                <td>0</td>\n",
       "            </tr><tr>\n",
       "                <td><strong>Objective expression</strong></td>\n",
       "                <td>1.0*ATPM - 1.0*ATPM_reverse_5b752</td>\n",
       "            </tr><tr>\n",
       "                <td><strong>Compartments</strong></td>\n",
       "                <td>m, i, c, r, </td>\n",
       "            </tr>\n",
       "          </table>"
      ],
      "text/plain": [
       "<Model None at 0x27b7dbb1f70>"
      ]
     },
     "execution_count": 5,
     "metadata": {},
     "output_type": "execute_result"
    }
   ],
   "source": [
    "core_model=load_json_cobra_model(filename=os.path.join(model_dir,\"CoreModel.json\"))\n",
    "core_model"
   ]
  },
  {
   "cell_type": "code",
   "execution_count": 6,
   "metadata": {},
   "outputs": [],
   "source": [
    "def load_data(filepath, sheet_name):\n",
    "    \"\"\"Load Liver data from an excel sheet\"\"\"\n",
    "    df = pd.read_excel(\n",
    "        io=filepath,\n",
    "        sheet_name=sheet_name,\n",
    "        index_col=0)\n",
    "    #df = df.drop(\"Fasting Time\", axis=1)\n",
    "    #df = df.drop(\"Additional Notes\", axis=1)\n",
    "    #df = df.drop(\"Flux (mmol/(L*hr))\", axis=1)\n",
    "    #df = df.drop(\"Name\", axis=1)\n",
    "    return df"
   ]
  },
  {
   "cell_type": "code",
   "execution_count": 7,
   "metadata": {},
   "outputs": [
    {
     "data": {
      "text/html": [
       "<div>\n",
       "<style scoped>\n",
       "    .dataframe tbody tr th:only-of-type {\n",
       "        vertical-align: middle;\n",
       "    }\n",
       "\n",
       "    .dataframe tbody tr th {\n",
       "        vertical-align: top;\n",
       "    }\n",
       "\n",
       "    .dataframe thead th {\n",
       "        text-align: right;\n",
       "    }\n",
       "</style>\n",
       "<table border=\"1\" class=\"dataframe\">\n",
       "  <thead>\n",
       "    <tr style=\"text-align: right;\">\n",
       "      <th></th>\n",
       "      <th>Flux(mmol/(gDW*hr))</th>\n",
       "    </tr>\n",
       "    <tr>\n",
       "      <th>ID</th>\n",
       "      <th></th>\n",
       "    </tr>\n",
       "  </thead>\n",
       "  <tbody>\n",
       "    <tr>\n",
       "      <th>GLCter</th>\n",
       "      <td>-0.001674</td>\n",
       "    </tr>\n",
       "    <tr>\n",
       "      <th>G6PPer</th>\n",
       "      <td>0.001674</td>\n",
       "    </tr>\n",
       "    <tr>\n",
       "      <th>G6Pter</th>\n",
       "      <td>0.001674</td>\n",
       "    </tr>\n",
       "    <tr>\n",
       "      <th>GLPASE1</th>\n",
       "      <td>0.000215</td>\n",
       "    </tr>\n",
       "    <tr>\n",
       "      <th>PGMT</th>\n",
       "      <td>0.000215</td>\n",
       "    </tr>\n",
       "    <tr>\n",
       "      <th>EX_glygn2_c</th>\n",
       "      <td>-0.000215</td>\n",
       "    </tr>\n",
       "    <tr>\n",
       "      <th>GAPD</th>\n",
       "      <td>0.002903</td>\n",
       "    </tr>\n",
       "    <tr>\n",
       "      <th>PGK</th>\n",
       "      <td>-0.002903</td>\n",
       "    </tr>\n",
       "    <tr>\n",
       "      <th>PGM</th>\n",
       "      <td>0.002903</td>\n",
       "    </tr>\n",
       "    <tr>\n",
       "      <th>ENO</th>\n",
       "      <td>-0.002903</td>\n",
       "    </tr>\n",
       "    <tr>\n",
       "      <th>PEPCKm</th>\n",
       "      <td>0.004178</td>\n",
       "    </tr>\n",
       "    <tr>\n",
       "      <th>PCm</th>\n",
       "      <td>0.003794</td>\n",
       "    </tr>\n",
       "    <tr>\n",
       "      <th>LDH_L</th>\n",
       "      <td>0.002519</td>\n",
       "    </tr>\n",
       "    <tr>\n",
       "      <th>ME2</th>\n",
       "      <td>0.000630</td>\n",
       "    </tr>\n",
       "    <tr>\n",
       "      <th>PYK</th>\n",
       "      <td>0.000630</td>\n",
       "    </tr>\n",
       "    <tr>\n",
       "      <th>CSm</th>\n",
       "      <td>0.002995</td>\n",
       "    </tr>\n",
       "    <tr>\n",
       "      <th>SUCOASm</th>\n",
       "      <td>-0.003379</td>\n",
       "    </tr>\n",
       "    <tr>\n",
       "      <th>SUCD1m</th>\n",
       "      <td>0.003379</td>\n",
       "    </tr>\n",
       "    <tr>\n",
       "      <th>FUMm</th>\n",
       "      <td>0.003379</td>\n",
       "    </tr>\n",
       "    <tr>\n",
       "      <th>MDHm</th>\n",
       "      <td>0.003379</td>\n",
       "    </tr>\n",
       "    <tr>\n",
       "      <th>EX_lac__L_c</th>\n",
       "      <td>0.001567</td>\n",
       "    </tr>\n",
       "  </tbody>\n",
       "</table>\n",
       "</div>"
      ],
      "text/plain": [
       "             Flux(mmol/(gDW*hr))\n",
       "ID                              \n",
       "GLCter                 -0.001674\n",
       "G6PPer                  0.001674\n",
       "G6Pter                  0.001674\n",
       "GLPASE1                 0.000215\n",
       "PGMT                    0.000215\n",
       "EX_glygn2_c            -0.000215\n",
       "GAPD                    0.002903\n",
       "PGK                    -0.002903\n",
       "PGM                     0.002903\n",
       "ENO                    -0.002903\n",
       "PEPCKm                  0.004178\n",
       "PCm                     0.003794\n",
       "LDH_L                   0.002519\n",
       "ME2                     0.000630\n",
       "PYK                     0.000630\n",
       "CSm                     0.002995\n",
       "SUCOASm                -0.003379\n",
       "SUCD1m                  0.003379\n",
       "FUMm                    0.003379\n",
       "MDHm                    0.003379\n",
       "EX_lac__L_c             0.001567"
      ]
     },
     "execution_count": 7,
     "metadata": {},
     "output_type": "execute_result"
    }
   ],
   "source": [
    "flux_df = load_data(\n",
    "    filepath='1.3-ma-data-collection.xlsx',\n",
    "    sheet_name=\"Fluxes\")\n",
    "flux_df = flux_df.drop(\"Fasting Time\", axis=1)\n",
    "flux_df = flux_df.drop(\"Additional Notes\", axis=1)\n",
    "flux_df = flux_df.drop(\"Flux (mmol/(L*hr))\", axis=1)\n",
    "flux_df\n"
   ]
  },
  {
   "cell_type": "code",
   "execution_count": 8,
   "metadata": {},
   "outputs": [],
   "source": [
    "v_vars = []\n",
    "v_data = []\n",
    "\n",
    "# How much flux to allow through irreversible reaction pairs\n",
    "# e.g, PFK/FBP & reverse_flux_percent = 0.1, raise both fluxes by 10% of non-zero flux value\n",
    "reverse_flux_percent = 0.1\n",
    "irreversible_enzyme_pairs = [\"PFK\", \"FBP\"]"
   ]
  },
  {
   "cell_type": "code",
   "execution_count": 9,
   "metadata": {},
   "outputs": [
    {
     "name": "stdout",
     "output_type": "stream",
     "text": [
      "GLCter -0.001674327221\n",
      "G6PPer 0.001674327221\n",
      "G6Pter 0.001674327221\n",
      "GLPASE1 0.0002150512027\n",
      "PGMT 0.0002150512027\n",
      "EX_glygn2_c -0.0002150512027\n",
      "GAPD 0.002903191236\n",
      "PGK -0.002903191236\n",
      "PGM 0.002903191236\n",
      "ENO -0.002903191236\n",
      "PEPCKm 0.004178137652\n",
      "PCm 0.003794117647\n",
      "LDH_L 0.002519171231\n",
      "ME2 0.0006297928078\n",
      "PYK 0.0006297928078\n",
      "CSm 0.002995356037\n",
      "SUCOASm -0.003379376042\n",
      "SUCD1m 0.003379376042\n",
      "FUMm 0.003379376042\n",
      "MDHm 0.003379376042\n",
      "EX_lac__L_c 0.001566801619\n"
     ]
    }
   ],
   "source": [
    "for rid, flux in flux_df.itertuples():\n",
    "    reaction = core_model.reactions.get_by_id(rid)\n",
    "    #reaction.bounds = (flux, flux)\n",
    "    print(rid, flux)\n",
    "\n",
    "    v_vars.append(sym.Symbol(rid))\n",
    "    v_data.append(flux)\n",
    "    \n",
    "#print(v_vars)\n",
    "#print(v_data)"
   ]
  },
  {
   "cell_type": "code",
   "execution_count": 10,
   "metadata": {},
   "outputs": [],
   "source": [
    "# Make symbolic for optlang objective \n",
    "v_vars = sym.Matrix(v_vars)\n",
    "v_data = sym.Matrix(v_data)\n",
    "F = sym.Matrix(2 * sym.eye(len(v_vars)))\n",
    "\n",
    "objective = 0.5 * v_vars.T * F * v_vars  - (2 * v_data).T * v_vars\n",
    "core_model.objective = objective[0]\n",
    "core_model.objective_direction = \"min\"\n",
    "\n",
    "flux_solution = core_model.optimize()\n"
   ]
  },
  {
   "cell_type": "code",
   "execution_count": 11,
   "metadata": {},
   "outputs": [
    {
     "data": {
      "text/plain": [
       "CSm                0.001376\n",
       "ACONTm             0.000688\n",
       "ICDHxm             0.000688\n",
       "AKGDm              0.000688\n",
       "SUCOASm           -0.000688\n",
       "                     ...   \n",
       "EX_nh4_c           0.000000\n",
       "EX_so3_c          -0.000000\n",
       "EX_etoh_c         -0.000000\n",
       "EX_glyc_3octa_c   -0.000000\n",
       "EX_fru_c           0.000000\n",
       "Name: fluxes, Length: 187, dtype: float64"
      ]
     },
     "execution_count": 11,
     "metadata": {},
     "output_type": "execute_result"
    }
   ],
   "source": [
    "# Make adjustments to net flux of PFK/FBP to ensure\n",
    "# no target flux value is 0 in order to create an enzyme module.\n",
    "#performing reverse flux percent on computed values rather than measured values like the MASSpy publication\n",
    "flux_solution.fluxes.FBP = flux_solution.fluxes.PFK * 0.1\n",
    "flux_solution.fluxes"
   ]
  },
  {
   "cell_type": "code",
   "execution_count": 12,
   "metadata": {},
   "outputs": [
    {
     "data": {
      "text/plain": [
       "CSm                0.001376\n",
       "ACONTm             0.000688\n",
       "ICDHxm             0.000688\n",
       "AKGDm              0.000688\n",
       "SUCOASm           -0.000688\n",
       "                     ...   \n",
       "EX_nh4_c           0.000000\n",
       "EX_so3_c          -0.000000\n",
       "EX_etoh_c         -0.000000\n",
       "EX_glyc_3octa_c   -0.000000\n",
       "EX_fru_c           0.000000\n",
       "Name: fluxes, Length: 187, dtype: float64"
      ]
     },
     "execution_count": 12,
     "metadata": {},
     "output_type": "execute_result"
    }
   ],
   "source": [
    "flux_solution.fluxes\n"
   ]
  },
  {
   "cell_type": "code",
   "execution_count": null,
   "metadata": {},
   "outputs": [],
   "source": []
  },
  {
   "cell_type": "code",
   "execution_count": 13,
   "metadata": {},
   "outputs": [
    {
     "data": {
      "image/png": "[encoded data removed]",
      "text/plain": [
       "<Figure size 360x360 with 1 Axes>"
      ]
     },
     "metadata": {
      "needs_background": "light"
     },
     "output_type": "display_data"
    }
   ],
   "source": [
    "flux_comparison_fig, ax = plt.subplots(nrows=1, ncols=1, figsize=(5, 5))\n",
    "plot_comparison(\n",
    "    x=flux_df[\"Flux(mmol/(gDW*hr))\"], y=flux_solution, compare=\"fluxes\",\n",
    "    observable=[rid for rid in flux_df.index], ax=ax,\n",
    "    legend=\"right outside\", plot_function=\"plot\",\n",
    "    xlim=(-0.005,0.005), ylim=(-0.005, 0.005),\n",
    "    xy_line=True,\n",
    "    xy_legend=\"best\", xlabel=\"Measured [mmol/(gDW * h)]\", ylabel=\"Adjusted [mmol/(gDW * h)]\")\n",
    "\n",
    "flux_comparison_fig.tight_layout()\n",
    "#check directionality \n"
   ]
  },
  {
   "cell_type": "markdown",
   "metadata": {},
   "source": [
    "## Create MASS model"
   ]
  },
  {
   "cell_type": "code",
   "execution_count": 14,
   "metadata": {},
   "outputs": [
    {
     "data": {
      "text/html": [
       "\n",
       "            <table>\n",
       "                <tr>\n",
       "                    <td><strong>Name</strong></td><td>Glycolysis</td>\n",
       "                </tr><tr>\n",
       "                    <td><strong>Memory address</strong></td><td>0x027b7e19d100</td>\n",
       "                </tr><tr>\n",
       "                    <td><strong>Stoichiometric Matrix</strong></td>\n",
       "                    <td>0x0</td>\n",
       "                </tr><tr>\n",
       "                    <td><strong>Matrix Rank</strong></td>\n",
       "                    <td>0</td>\n",
       "                </tr><tr>\n",
       "                    <td><strong>Number of metabolites</strong></td>\n",
       "                    <td>0</td>\n",
       "                </tr><tr>\n",
       "                    <td><strong>Initial conditions defined</strong></td>\n",
       "                    <td>0/0</td>\n",
       "                </tr><tr>\n",
       "                    <td><strong>Number of reactions</strong></td>\n",
       "                    <td>0</td>\n",
       "                </tr><tr>\n",
       "                    <td><strong>Number of genes</strong></td>\n",
       "                    <td>0</td>\n",
       "                </tr><tr>\n",
       "                    <td><strong>Number of enzyme modules</strong></td>\n",
       "                    <td>0</td>\n",
       "                </tr><tr>\n",
       "                    <td><strong>Number of groups</strong></td>\n",
       "                    <td>0</td>\n",
       "                </tr><tr>\n",
       "                    <td><strong>Objective expression</strong></td>\n",
       "                    <td>0</td>\n",
       "                </tr><tr>\n",
       "                    <td><strong>Compartments</strong></td>\n",
       "                    <td></td>\n",
       "                </tr>\n",
       "            </table>\n",
       "        "
      ],
      "text/plain": [
       "<MassModel Glycolysis at 0x27b7e19d100>"
      ]
     },
     "execution_count": 14,
     "metadata": {},
     "output_type": "execute_result"
    }
   ],
   "source": [
    "glycolysis = MassModel(\"Glycolysis\", array_type='DataFrame', dtype=np.int64)\n",
    "glycolysis"
   ]
  },
  {
   "cell_type": "markdown",
   "metadata": {},
   "source": [
    "### Define reactions"
   ]
  },
  {
   "cell_type": "code",
   "execution_count": 15,
   "metadata": {},
   "outputs": [],
   "source": [
    "reaction_list = ['HEX1',\n",
    "                'PGI',\n",
    "                'FBP',\n",
    "                'PFK',\n",
    "                'FBA',\n",
    "                'TPI',\n",
    "                'GAPD',\n",
    "                'PGK',\n",
    "                'PGM',\n",
    "                'ENO',\n",
    "                'PEPtm',\n",
    "                'PEPCKm',\n",
    "                'LDH_L',\n",
    "                'PYK',\n",
    "                'PCm',\n",
    "                'PYRt2m']\n",
    "\n",
    "\n"
   ]
  },
  {
   "cell_type": "code",
   "execution_count": 16,
   "metadata": {},
   "outputs": [],
   "source": [
    "\n",
    "\n",
    "# Convert cobra.Reactions to mass.MassReactions\n",
    "for rid in reaction_list:\n",
    "    reaction = core_model.reactions.get_by_id(rid)\n",
    "    glycolysis.add_reactions([MassReaction(reaction)])\n",
    "    \n"
   ]
  },
  {
   "cell_type": "markdown",
   "metadata": {},
   "source": [
    "##  Set Fluxes"
   ]
  },
  {
   "cell_type": "code",
   "execution_count": 17,
   "metadata": {},
   "outputs": [
    {
     "name": "stdout",
     "output_type": "stream",
     "text": [
      "v_HEX1: 0.0032992884001222023\n",
      "v_PGI: 0.0012844120883040366\n",
      "v_FBP: 0.00012844120883040368\n",
      "v_PFK: 0.0012844120883040366\n",
      "v_FBA: 0.0012844120883040366\n",
      "v_TPI: 0.0012844120883040366\n",
      "v_GAPD: 0.002568824176608073\n",
      "v_PGK: -0.002568824176608073\n",
      "v_PGM: 0.0016015026930233987\n",
      "v_ENO: -0.0016015026930233987\n",
      "v_PEPtm: 0.003726559657680128\n",
      "v_PEPCKm: 0.003726559657680128\n",
      "v_LDH_L: -0.0008094464970104237\n",
      "v_PYK: 0.00212505696465673\n",
      "v_PCm: 0.005046263621587325\n",
      "v_PYRt2m: 0.006805641301184971\n"
     ]
    }
   ],
   "source": [
    "for reaction, flux in flux_solution[reaction_list].iteritems():\n",
    "    reaction = glycolysis.reactions.get_by_id(reaction)\n",
    "    reaction.steady_state_flux = flux * 1278.605 / 1000 # mmol/gdW*hr --> mmol/L * hr ---> mol/L*hr\n",
    "    print(\"{0}: {1}\".format(reaction.flux_symbol_str,\n",
    "                            reaction.steady_state_flux))"
   ]
  },
  {
   "cell_type": "markdown",
   "metadata": {},
   "source": [
    "## Set Keqs"
   ]
  },
  {
   "cell_type": "code",
   "execution_count": 18,
   "metadata": {},
   "outputs": [
    {
     "data": {
      "text/html": [
       "<div>\n",
       "<style scoped>\n",
       "    .dataframe tbody tr th:only-of-type {\n",
       "        vertical-align: middle;\n",
       "    }\n",
       "\n",
       "    .dataframe tbody tr th {\n",
       "        vertical-align: top;\n",
       "    }\n",
       "\n",
       "    .dataframe thead th {\n",
       "        text-align: right;\n",
       "    }\n",
       "</style>\n",
       "<table border=\"1\" class=\"dataframe\">\n",
       "  <thead>\n",
       "    <tr style=\"text-align: right;\">\n",
       "      <th></th>\n",
       "      <th>Equlibrium Constant</th>\n",
       "    </tr>\n",
       "    <tr>\n",
       "      <th>Reaction</th>\n",
       "      <th></th>\n",
       "    </tr>\n",
       "  </thead>\n",
       "  <tbody>\n",
       "    <tr>\n",
       "      <th>CSm</th>\n",
       "      <td>2.900000e-07</td>\n",
       "    </tr>\n",
       "    <tr>\n",
       "      <th>ACONTm</th>\n",
       "      <td>1.000000e-01</td>\n",
       "    </tr>\n",
       "    <tr>\n",
       "      <th>ICDHxm</th>\n",
       "      <td>1.000000e-01</td>\n",
       "    </tr>\n",
       "    <tr>\n",
       "      <th>AKGDm</th>\n",
       "      <td>7.100000e+04</td>\n",
       "    </tr>\n",
       "    <tr>\n",
       "      <th>SUCOASm</th>\n",
       "      <td>1.600000e+00</td>\n",
       "    </tr>\n",
       "    <tr>\n",
       "      <th>...</th>\n",
       "      <td>...</td>\n",
       "    </tr>\n",
       "    <tr>\n",
       "      <th>EX_nh4_c</th>\n",
       "      <td>NaN</td>\n",
       "    </tr>\n",
       "    <tr>\n",
       "      <th>EX_so3_c</th>\n",
       "      <td>NaN</td>\n",
       "    </tr>\n",
       "    <tr>\n",
       "      <th>EX_etoh_c</th>\n",
       "      <td>NaN</td>\n",
       "    </tr>\n",
       "    <tr>\n",
       "      <th>EX_glyc_3octa_c</th>\n",
       "      <td>NaN</td>\n",
       "    </tr>\n",
       "    <tr>\n",
       "      <th>EX_fru_c</th>\n",
       "      <td>NaN</td>\n",
       "    </tr>\n",
       "  </tbody>\n",
       "</table>\n",
       "<p>187 rows × 1 columns</p>\n",
       "</div>"
      ],
      "text/plain": [
       "                 Equlibrium Constant\n",
       "Reaction                            \n",
       "CSm                     2.900000e-07\n",
       "ACONTm                  1.000000e-01\n",
       "ICDHxm                  1.000000e-01\n",
       "AKGDm                   7.100000e+04\n",
       "SUCOASm                 1.600000e+00\n",
       "...                              ...\n",
       "EX_nh4_c                         NaN\n",
       "EX_so3_c                         NaN\n",
       "EX_etoh_c                        NaN\n",
       "EX_glyc_3octa_c                  NaN\n",
       "EX_fru_c                         NaN\n",
       "\n",
       "[187 rows x 1 columns]"
      ]
     },
     "execution_count": 18,
     "metadata": {},
     "output_type": "execute_result"
    }
   ],
   "source": [
    "# Load equilibrium constants\n",
    "Keq_df = pd.read_excel(\n",
    "    io='1.3-ma-data-collection.xlsx',\n",
    "    sheet_name=\"Keqs\",\n",
    "    index_col=0).drop(\"Reference\", axis=1).drop(\"Stoichiometry\", axis=1)\n",
    "\n",
    "Keq_df"
   ]
  },
  {
   "cell_type": "code",
   "execution_count": 19,
   "metadata": {},
   "outputs": [
    {
     "name": "stdout",
     "output_type": "stream",
     "text": [
      "Keq_HEX1: 3000.0\n",
      "Keq_PGI: 0.3\n",
      "Keq_PFK: 670.0\n",
      "Keq_FBA: 0.00014\n",
      "Keq_TPI: 9.6\n",
      "Keq_GAPD: 0.6\n",
      "Keq_PGK: 0.00036\n",
      "Keq_PGM: 6.2\n",
      "Keq_ENO: 4.6\n",
      "Keq_PYK: 37000.0\n",
      "Keq_LDH_L: 4.4e-05\n",
      "Keq_PCm: 13.4\n",
      "Keq_PEPCKm: 0.0045\n",
      "Keq_FBP: 190.0\n",
      "Keq_PEPtm: 1.0\n",
      "Keq_PYRt2m: 1.0\n"
     ]
    }
   ],
   "source": [
    "\n",
    "# Set equilibrium constants\n",
    "Keq_list =[]\n",
    "for rid, Keq in Keq_df.itertuples():\n",
    "    if rid in reaction_list: \n",
    "        reaction = glycolysis.reactions.get_by_id(rid)\n",
    "        reaction.Keq = Keq\n",
    "        Keq_list.append(reaction.Keq)\n",
    "        print(\"{0}: {1}\".format(reaction.Keq_str, Keq))\n",
    "        "
   ]
  },
  {
   "cell_type": "code",
   "execution_count": 20,
   "metadata": {},
   "outputs": [
    {
     "data": {
      "text/plain": [
       "True"
      ]
     },
     "execution_count": 20,
     "metadata": {},
     "output_type": "execute_result"
    }
   ],
   "source": [
    "len(reaction_list) == len(Keq_list)"
   ]
  },
  {
   "cell_type": "markdown",
   "metadata": {},
   "source": [
    "## Correct Metabolite Identifiers"
   ]
  },
  {
   "cell_type": "code",
   "execution_count": null,
   "metadata": {},
   "outputs": [],
   "source": []
  },
  {
   "cell_type": "markdown",
   "metadata": {},
   "source": [
    "## Set H2O/H Constants\n"
   ]
  },
  {
   "cell_type": "code",
   "execution_count": 21,
   "metadata": {},
   "outputs": [],
   "source": [
    "# Set concentrations of hydrogen, water as fixed\n",
    "# Assume hydrogen in all compartments are fixed \n",
    "for metabolite in [\"h2o_c\", \"h_c\",'h_i', 'h_m']:\n",
    "    metabolite = glycolysis.metabolites.get_by_id(metabolite)\n",
    "    metabolite.fixed = True\n"
   ]
  },
  {
   "cell_type": "markdown",
   "metadata": {},
   "source": [
    "## Obtain Concentrations"
   ]
  },
  {
   "cell_type": "code",
   "execution_count": 22,
   "metadata": {},
   "outputs": [],
   "source": [
    "#Load Concentration Data\n",
    "conc_df = load_data(\n",
    "    filepath='1.3-ma-data-collection.xlsx',\n",
    "    sheet_name=\"Concentrations\")\n",
    "#conc_df = conc_df.drop(\"Name\", axis=1)\n",
    "conc_df = conc_df.drop(\"Additional Notes\", axis=1)\n",
    "\n",
    "# Fix identifiers in the dataframe\n",
    "#conc_df.index = [prefix_number_id(mid) for mid in conc_df.index]"
   ]
  },
  {
   "cell_type": "code",
   "execution_count": 23,
   "metadata": {},
   "outputs": [
    {
     "data": {
      "text/plain": [
       "Index(['13dpg_c', '2amac_c', '2pg_c', '3haACP_c', '3hbcoa_m', '3hhcoa_m',\n",
       "       '3hhexACP_c', '3hocoa_m', '3hoctACP_c', '3ohcoa_m',\n",
       "       ...\n",
       "       'thex2eACP_c', 'thf_c', 'thf_m', 'toct2eACP_c', 'Tyr_ggn_c', 'udp_c',\n",
       "       'udpg_c', 'urea_c', 'utp_c', 'xu5p__D_c'],\n",
       "      dtype='object', name='ID', length=179)"
      ]
     },
     "execution_count": 23,
     "metadata": {},
     "output_type": "execute_result"
    }
   ],
   "source": [
    "conc_df.index"
   ]
  },
  {
   "cell_type": "code",
   "execution_count": 24,
   "metadata": {},
   "outputs": [],
   "source": [
    "#Set Concentrations\n",
    "\n",
    "metabolite_list = ['glc__D_c',\n",
    "           'g6p_c',\n",
    "           'f6p_c',\n",
    "           'fdp_c',\n",
    "           'dhap_c',\n",
    "           'g3p_c',\n",
    "           '13dpg_c',\n",
    "           '3pg_c',\n",
    "            '2pg_c',\n",
    "            'pep_c',\n",
    "            'pyr_c',\n",
    "            'lac__L_c',\n",
    "           'nad_c',\n",
    "            'nadh_c',\n",
    "           'amp_c',\n",
    "           'adp_c',\n",
    "            'atp_c',\n",
    "            'pi_c',\n",
    "            'h_c',          \n",
    "            'h2o_c',\n",
    "            'pep_m',\n",
    "            'pi_m',\n",
    "            'co2_m',\n",
    "            'gdp_m',\n",
    "            'gtp_m',\n",
    "            'oaa_m',\n",
    "            'adp_m',\n",
    "            'atp_m',\n",
    "            'h_m',\n",
    "            'hco3_m',\n",
    "            'pyr_m',\n",
    "            'h_i']\n",
    "\n",
    "m=[\"amp_c\"]\n",
    "for item in m:\n",
    "    met = core_model.metabolites.get_by_id(item)\n",
    "    glycolysis.add_metabolites([MassMetabolite(met)])"
   ]
  },
  {
   "cell_type": "code",
   "execution_count": 25,
   "metadata": {},
   "outputs": [
    {
     "name": "stdout",
     "output_type": "stream",
     "text": [
      "adp_c: 0.00199495195\n",
      "atp_c: 0.004727145980000001\n",
      "g6p_c: 0.00014000000000000001\n",
      "glc__D_c: 0.01048280703\n",
      "h_c: 1\n",
      "f6p_c: 0.00012713765\n",
      "fdp_c: 5.1470825e-05\n",
      "h2o_c: 1\n",
      "pi_c: 0.0064\n",
      "dhap_c: 0.00017689737\n",
      "g3p_c: 8.783869999999999e-06\n",
      "13dpg_c: nan\n",
      "nad_c: 0.00182530972\n",
      "nadh_c: 4.63542e-06\n",
      "3pg_c: 0.000520630485\n",
      "2pg_c: 0.000110560855\n",
      "pep_c: 0.00031\n",
      "pep_m: 0.0020499999999999997\n",
      "pi_m: 0.00045\n",
      "co2_m: nan\n",
      "gdp_m: nan\n",
      "gtp_m: nan\n",
      "oaa_m: 3.119e-05\n",
      "lac__L_c: 0.00326183772\n",
      "pyr_c: 0.00047999999999999996\n",
      "adp_m: 0.008038905800000001\n",
      "atp_m: 0.00919\n",
      "h_m: nan\n",
      "hco3_m: nan\n",
      "pyr_m: 0.00134\n",
      "h_i: nan\n",
      "amp_c: 0.000365\n"
     ]
    }
   ],
   "source": [
    "met_list = []\n",
    "for mid, name, conc in conc_df.itertuples():\n",
    "    if mid in metabolite_list: \n",
    "        metabolite = glycolysis.metabolites.get_by_id(mid)\n",
    "        metabolite.name = name\n",
    "        \n",
    "        metabolite.ic = conc / 1000 #mM --> M\n",
    "        met_list.append(metabolite.ic)\n",
    "    \n",
    "    \n",
    "    \n",
    "# For \"pi_c\", \"g3p_c\", \"lac__D_c\" use steady state literature concentrations\n",
    "# Set h_c and h2o_c to 1 \n",
    "for metabolite in ['h_i', 'h_m',\"h_c\", \"h2o_c\"]:\n",
    "    metabolite = glycolysis.metabolites.get_by_id(metabolite)\n",
    "    if metabolite.id in [\"h_c\", \"h2o_c\"]:\n",
    "        metabolite.ic = 1\n",
    "    \n",
    "for metabolite in glycolysis.metabolites:\n",
    "    print(\"{0}: {1}\".format(metabolite.id, metabolite.ic))\n",
    "    \n"
   ]
  },
  {
   "cell_type": "code",
   "execution_count": null,
   "metadata": {},
   "outputs": [],
   "source": [
    "#convert nan values to None Type\n",
    "#excluded_metabolites_list = []\n",
    "#for metabolite in glycolysis.metabolites: \n",
    "#    if type(metabolite.ic) == None: \n",
    "#        excluded_metabolites_list.append()\n",
    "#excluded_metabolites_list    \n",
    "\n",
    "#type(glycolysis.metabolites.pyr_m.ic)\n"
   ]
  },
  {
   "cell_type": "code",
   "execution_count": 26,
   "metadata": {},
   "outputs": [
    {
     "data": {
      "text/plain": [
       "nan"
      ]
     },
     "execution_count": 26,
     "metadata": {},
     "output_type": "execute_result"
    }
   ],
   "source": [
    "glycolysis.metabolites.h_i.ic"
   ]
  },
  {
   "cell_type": "code",
   "execution_count": 27,
   "metadata": {},
   "outputs": [
    {
     "data": {
      "text/plain": [
       "True"
      ]
     },
     "execution_count": 27,
     "metadata": {},
     "output_type": "execute_result"
    }
   ],
   "source": [
    "len(metabolite_list) == len(glycolysis.metabolites) == len(met_list)"
   ]
  },
  {
   "cell_type": "code",
   "execution_count": 28,
   "metadata": {},
   "outputs": [
    {
     "data": {
      "text/html": [
       "<strong><em>Optimal</em> solution with objective value 0.000</strong><br><div>\n",
       "<style scoped>\n",
       "    .dataframe tbody tr th:only-of-type {\n",
       "        vertical-align: middle;\n",
       "    }\n",
       "\n",
       "    .dataframe tbody tr th {\n",
       "        vertical-align: top;\n",
       "    }\n",
       "\n",
       "    .dataframe thead th {\n",
       "        text-align: right;\n",
       "    }\n",
       "</style>\n",
       "<table border=\"1\" class=\"dataframe\">\n",
       "  <thead>\n",
       "    <tr style=\"text-align: right;\">\n",
       "      <th></th>\n",
       "      <th>variables</th>\n",
       "      <th>reduced_costs</th>\n",
       "    </tr>\n",
       "  </thead>\n",
       "  <tbody>\n",
       "    <tr>\n",
       "      <th>adp_c</th>\n",
       "      <td>0.001995</td>\n",
       "      <td>0.000000</td>\n",
       "    </tr>\n",
       "    <tr>\n",
       "      <th>atp_c</th>\n",
       "      <td>0.004727</td>\n",
       "      <td>0.000000</td>\n",
       "    </tr>\n",
       "    <tr>\n",
       "      <th>g6p_c</th>\n",
       "      <td>0.000402</td>\n",
       "      <td>0.000000</td>\n",
       "    </tr>\n",
       "    <tr>\n",
       "      <th>glc__D_c</th>\n",
       "      <td>0.010483</td>\n",
       "      <td>0.000000</td>\n",
       "    </tr>\n",
       "    <tr>\n",
       "      <th>f6p_c</th>\n",
       "      <td>0.000044</td>\n",
       "      <td>0.000000</td>\n",
       "    </tr>\n",
       "    <tr>\n",
       "      <th>...</th>\n",
       "      <td>...</td>\n",
       "      <td>...</td>\n",
       "    </tr>\n",
       "    <tr>\n",
       "      <th>Keq_PEPCKm</th>\n",
       "      <td>0.004500</td>\n",
       "      <td>-10.589175</td>\n",
       "    </tr>\n",
       "    <tr>\n",
       "      <th>Keq_LDH_L</th>\n",
       "      <td>0.000044</td>\n",
       "      <td>3.676544</td>\n",
       "    </tr>\n",
       "    <tr>\n",
       "      <th>Keq_PYK</th>\n",
       "      <td>37000.000000</td>\n",
       "      <td>0.000000</td>\n",
       "    </tr>\n",
       "    <tr>\n",
       "      <th>Keq_PCm</th>\n",
       "      <td>13.400000</td>\n",
       "      <td>0.000000</td>\n",
       "    </tr>\n",
       "    <tr>\n",
       "      <th>Keq_PYRt2m</th>\n",
       "      <td>1.000000</td>\n",
       "      <td>-0.188367</td>\n",
       "    </tr>\n",
       "  </tbody>\n",
       "</table>\n",
       "<p>39 rows × 2 columns</p>\n",
       "</div>"
      ],
      "text/plain": [
       "<Solution 0.000 at 0x27b7e175070>"
      ]
     },
     "execution_count": 28,
     "metadata": {},
     "output_type": "execute_result"
    }
   ],
   "source": [
    "#Formulate QP minimization list for concentrations\n",
    "conc_solver = ConcSolver(\n",
    "    glycolysis,\n",
    "    excluded_metabolites=['h_i', 'h_m',\"h_c\", \"h2o_c\",'13dpg_c','co2_m', 'gdp_m', 'gtp_m', 'hco3_m'],\n",
    "    constraint_buffer=1)\n",
    "\n",
    "conc_solver.setup_feasible_qp_problem(\n",
    "    fixed_conc_bounds=list(glycolysis.fixed),\n",
    "    fixed_Keq_bounds=glycolysis.reactions.list_attr(\"Keq_str\"))\n",
    "\n",
    "conc_solution = conc_solver.optimize()\n",
    "conc_solution\n",
    "\n",
    "#FBP flux is 0 --> gives error "
   ]
  },
  {
   "cell_type": "code",
   "execution_count": 29,
   "metadata": {},
   "outputs": [
    {
     "name": "stderr",
     "output_type": "stream",
     "text": [
      "mass\\visualization\\visualization_util.py:1269 UserWarning: Ignoring {'actACP_c', 'hexACP_c', 'h2o_c', 'nadp_m', 'o2_m', 'gln__L_c', 'asp__L_m', 'v', 'urea_c', 'hco3_c', 'glyc3p_c', 'mal__L_m', 'b2coa_m', '3hhexACP_c', 'acac_m', 'but2eACP_c', '13dpg_c', 'glyc_2octa_c', 'occoa_m', 'bhb_m', 'cbp_m', 'pi_r', 'succ_m', 'glyc_3octa_c', 'acACP_c', 'coa_m', '3ohcoa_m', 'glygn2_c', 'hx2coa_m', 'h_i', 'f1p_c', 'citr__L_c', 'oaa_c', 'citr__L_m', 'ppi_m', '3hoctACP_c', 'nadh_m', 'fad_m', 'hxcoa_m', 'nadp_c', 'hmgcoa_m', 'occoa_c', 'gtp_m', 'ocACP_c', 'udpg_c', 'glygn3_c', 'gly_m', 'ru5p__D_c', 'glu__L_m', 'ac_m', 'dxtrn_c', 'octa_prod_c', 'glyc3p_2octa_c', 'Tyr_ggn_c', 'asn__L_c', 'orn_m', 'nh4_m', 'g1p_c', 'aacoa_m', '2amac_c', 'e4p_c', 'ficytC_m', 'co2_c', 's7p_c', '3haACP_c', 'c8crn_m', 'fadh2_m', '3hhcoa_m', 'thf_m', 'accoa_c', 'ala__L_c', 'amp_m', 'glyald_c', 'ACP_c', 'ac_c', 'asp__L_c', 'thf_c', 'glc__D_r', 'nh4_c', 'xu5p__D_c', 'accoa_m', 'h2o_m', 'utp_c', 'mlthf_m', 'o2_c', 'occoa_prod_c', 'ggn_c', 'focytC_m', 'ppi_c', 'butACP_c', 'udp_c', 'icit_m', 'nadph_m', 'etoh_c', '3ooctACP_c', 'acald_m', '3oocoa_m', 'succoa_m', 'coa_c', 'nad_m', 'argsuc_c', 'acetone_m', '3ohexACP_c', 'ser__L_c', 'h_c', 'crn_m', 'crn_c', 'toct2eACP_c', 'glu__L_c', 'akg_m', 'glygn1_c', 'fum_c', 'octa_cons_c', 'hco3_m', 'btcoa_m', 'h_m', 'fum_m', 'arg__L_c', 'acald_c', 'gdp_c', '6pgl_c', 'r5p_c', 'h2o_r', 'c8crn_c', 'cys__L_c', 'gtp_c', 'acetone_c', 'fru_c', 'glyc3p_1octa_c', '6pgc_c', 'oc2coa_m', 'co2_m', 'bhb_c', 'cit_c', '3php_c', 'malcoa_c', 'mlthf_c', 'thex2eACP_c', 'akg_c', 'gdp_m', 'g6p_r', 'q10_m', '3sala_c', 'pser__L_c', 'malACP_c', 'sucr_c', 'q10h2_m', 'orn_c', 'so3_c', 'gly_c', '3hocoa_m', 'cit_m', '3hbcoa_m', 'nadph_c', 'mal__L_c', '3snpyr_c'}, only in one set of given values\n",
      "mass\\visualization\\visualization_util.py:806 UserWarning: Attempted to set non-positive left xlim on a log-scaled axis.\n",
      "Invalid limit will be ignored.\n",
      "mass\\visualization\\visualization_util.py:806 UserWarning: Attempted to set non-positive bottom ylim on a log-scaled axis.\n",
      "Invalid limit will be ignored.\n"
     ]
    },
    {
     "data": {
      "image/png": "[encoded data removed]",
      "text/plain": [
       "<Figure size 360x360 with 1 Axes>"
      ]
     },
     "metadata": {
      "needs_background": "light"
     },
     "output_type": "display_data"
    }
   ],
   "source": [
    "#Compare Results\n",
    "conc_comparison_fig, ax = plt.subplots(nrows=1, ncols=1,\n",
    "                                       figsize=(5, 5))\n",
    "\n",
    "plot_comparison(\n",
    "    x=conc_df[\"Concentration (mM)\"], y=conc_solution,\n",
    "    compare=\"concentrations\",\n",
    "    observable=[mid for mid in conc_df.index], ax=ax,\n",
    "    legend=\"right outside\", plot_function=\"loglog\",\n",
    "    xlim=(0, 20), ylim=(0, 20), xy_line=True,\n",
    "    xy_legend=\"best\", xlabel=\"Initial [mol/L]\", ylabel=\"Adjusted [mol/L]\")\n",
    "\n",
    "conc_comparison_fig.tight_layout()\n",
    "update_model_with_concentration_solution(\n",
    "    glycolysis, conc_solution, concentrations=True, inplace=True);"
   ]
  },
  {
   "cell_type": "markdown",
   "metadata": {},
   "source": [
    "## Sample Concentrations\n"
   ]
  },
  {
   "cell_type": "code",
   "execution_count": null,
   "metadata": {},
   "outputs": [],
   "source": [
    "conc_solver.setup_sampling_problem(\n",
    "    fixed_conc_bounds=list(glycolysis.fixed),\n",
    "    fixed_Keq_bounds=glycolysis.reactions.list_attr(\"Keq_str\"))\n",
    "for variable in conc_solver.variables:\n",
    "    try:\n",
    "        met = glycolysis.metabolites.get_by_id(variable.name)\n",
    "        variable.lb, variable.ub = np.log([met.ic / 10, met.ic * 10])\n",
    "    except:\n",
    "        pass\n",
    "conc_samples = sample_concentrations(conc_solver, n=n_models, seed=seed)\n",
    "conc_samples.head()"
   ]
  },
  {
   "cell_type": "markdown",
   "metadata": {},
   "source": [
    "## Set concentrations and balance models with pseudoreactions\n"
   ]
  },
  {
   "cell_type": "code",
   "execution_count": null,
   "metadata": {},
   "outputs": [],
   "source": [
    "models_for_ensemble = []\n",
    "for idx, conc_sample in conc_samples.iterrows():\n",
    "    # Make copy of new model\n",
    "    new_model = glycolysis.copy()\n",
    "    new_model.id += \"_C{0:d}\".format(idx)\n",
    "    # Get concentration sample and update model with sample\n",
    "    new_model.update_initial_conditions(conc_sample.to_dict())\n",
    "\n",
    "    # Determine imbalances in the reduced network\n",
    "    fluxes = np.array(list(new_model.steady_state_fluxes.values()))\n",
    "    imbalanced_metabolites = new_model.S.dot(fluxes)\n",
    "\n",
    "    # Iterate through metabolites\n",
    "    for mid, imbalance in imbalanced_metabolites.iteritems():\n",
    "        # Ignore balanced metabolites\n",
    "        if imbalance == 0:\n",
    "            continue\n",
    "        # Get metabolite object\n",
    "        met = new_model.metabolites.get_by_id(mid)\n",
    "\n",
    "        # Add boundary reactions for imbalanced metabolites\n",
    "        boundary_type = \"sink\"    \n",
    "        # Add boundary reaction with imbalance as flux value\n",
    "        boundary_reaction = new_model.add_boundary(\n",
    "            mid, boundary_type, boundary_condition=met.ic)\n",
    "        \n",
    "        boundary_reaction.Keq = 1\n",
    "        if imbalance < 0:\n",
    "            boundary_reaction.reverse_stoichiometry(inplace=True)\n",
    "            imbalance = -imbalance\n",
    "\n",
    "        boundary_reaction.kf = imbalance / met.ic\n",
    "        boundary_reaction.steady_state_flux = imbalance\n",
    "        try:\n",
    "            # Update PERCs\n",
    "            new_model.calculate_PERCs(\n",
    "                fluxes={\n",
    "                    r: v for r, v in new_model.steady_state_fluxes.items()\n",
    "                    if not r.boundary},\n",
    "                update_reactions=True)\n",
    "        except:\n",
    "            print(\"Negative PERCs for {0}\".format(new_model.id))\n",
    "            continue\n",
    "    models_for_ensemble.append(new_model)\n",
    "print(\"Number of models in ensemble: {0:d}\".format(\n",
    "    len(models_for_ensemble)))"
   ]
  },
  {
   "cell_type": "code",
   "execution_count": null,
   "metadata": {},
   "outputs": [],
   "source": [
    "models_for_ensemble"
   ]
  },
  {
   "cell_type": "markdown",
   "metadata": {},
   "source": [
    "## QC/QA"
   ]
  },
  {
   "cell_type": "code",
   "execution_count": null,
   "metadata": {},
   "outputs": [],
   "source": [
    "qcqa_model(glycolysis, parameters=True, concentrations=True,\n",
    "           fluxes=True, superfluous=True, elemental=True)"
   ]
  },
  {
   "cell_type": "code",
   "execution_count": null,
   "metadata": {},
   "outputs": [],
   "source": [
    "glycolysis.calculate_PERCs(update_reactions=True)\n",
    "\n",
    "print(\"Forward Rate Constants\\n----------------------\")\n",
    "for reaction in glycolysis.reactions:\n",
    "    print(\"{0}: {1:.6f}\".format(reaction.kf_str, reaction.kf))\n"
   ]
  },
  {
   "cell_type": "code",
   "execution_count": null,
   "metadata": {},
   "outputs": [],
   "source": [
    "\n",
    "# Setup simulation object\n",
    "sim = Simulation(glycolysis, verbose=True)\n",
    "# Simulate from 0 to 1000 with 10001 points in the output\n",
    "conc_sol, flux_sol = sim.simulate(glycolysis, time=(0, 1e3, 1e4 + 1))\n",
    "# Quickly render and display time profiles\n",
    "conc_sol.view_time_profile()\n"
   ]
  },
  {
   "cell_type": "markdown",
   "metadata": {},
   "source": [
    "## Ensure model is in steady state and export"
   ]
  },
  {
   "cell_type": "code",
   "execution_count": null,
   "metadata": {},
   "outputs": [],
   "source": [
    "# Ensure all models are simulated to a long time and that\n",
    "# there are enough time points to determine if model reached steady state.\n",
    "tfinal = 1e4\n",
    "verbose = False\n",
    "\n",
    "sim = Simulation(reference_model=models_for_ensemble[0], verbose=verbose)\n",
    "sim.add_models(models_for_ensemble[1:], verbose=verbose, disable_safe_load=True)\n",
    "sim.integrator.absolute_tolerance = 1e-15\n",
    "sim.integrator.relative_tolerance = 1e-9\n",
    "\n",
    "models_to_export = []\n",
    "with warnings.catch_warnings():\n",
    "    warnings.simplefilter(\"ignore\")\n",
    "    for model in models_for_ensemble:\n",
    "        # Attempt to determine steady state\n",
    "        conc_sol, flux_sol = sim.find_steady_state(\n",
    "            models=model, strategy=\"simulate\", update_values=True,\n",
    "            tfinal=tfinal, \n",
    "            verbose=verbose)\n",
    "        if conc_sol and flux_sol:\n",
    "            continue\n",
    "        print(str(model) + \" first attempt failed.\")\n",
    "        # First attempt was not successful, lengthen time for second attempt\n",
    "        # Attempt to determine steady state\n",
    "        conc_sol, flux_sol = sim.find_steady_state(\n",
    "            models=model, strategy=\"simulate\", update_values=True,\n",
    "            tfinal=tfinal * 10, \n",
    "            verbose=verbose)\n",
    "        if conc_sol and flux_sol:\n",
    "            continue\n",
    "        print(str(model) + \" second attempt failed.\")\n",
    "        # Second attempt was not successful, lengthen time for second attempt\n",
    "        # Attempt to determine steady state\n",
    "        conc_sol, flux_sol = sim.find_steady_state(\n",
    "            models=model, strategy=\"simulate\", update_values=True,\n",
    "            tfinal=tfinal * 100, \n",
    "            verbose=verbose)\n",
    "        if conc_sol and flux_sol:\n",
    "            continue\n",
    "        print(str(model) + \" third attempt failed. Eliminating model.\")\n",
    "        # Third attempt was not successful, eliminate the model\n",
    "        sim.remove_models(models=model, verbose=verbose)"
   ]
  },
  {
   "cell_type": "code",
   "execution_count": null,
   "metadata": {},
   "outputs": [],
   "source": []
  },
  {
   "cell_type": "code",
   "execution_count": null,
   "metadata": {},
   "outputs": [],
   "source": []
  },
  {
   "cell_type": "code",
   "execution_count": null,
   "metadata": {},
   "outputs": [],
   "source": [
    "## Adding additional reactions\n",
    "ADK1 = MassReaction(\n",
    "    \"ADK1\",\n",
    "    name=\"Adenylate kinase\",\n",
    "    subsystem=\"Misc.\",\n",
    "    reversible=True)\n",
    "\n",
    "ADK = ['amp_c','atp_c']\n",
    "for i in ADK:\n",
    "    item = glycolysis.metabolites.get_by_id(i)\n",
    "    ADK1.add_metabolites({item:1})\n",
    "    \n",
    "ADP =['adp_c']\n",
    "for i in ADP:\n",
    "    item = glycolysis.metabolites.get_by_id(i)\n",
    "    ADK1.add_metabolites({item:-2})\n"
   ]
  },
  {
   "cell_type": "code",
   "execution_count": null,
   "metadata": {},
   "outputs": [],
   "source": [
    "ATPM = MassReaction(\n",
    "    \"ATPM\",\n",
    "    name=\"ATP maintenance requirement\",\n",
    "    subsystem=\"Pseudoreaction\",\n",
    "    reversible=False)\n",
    "\n",
    "ATPM_1 = ['atp_c', 'h2o_c']\n",
    "ATPM_2= ['adp_c','h_c','pi_c']\n",
    "\n",
    "for i in ATPM_1:\n",
    "    item = glycolysis.metabolites.get_by_id(i)\n",
    "    ATPM.add_metabolites({item:-1})\n",
    "    \n",
    "\n",
    "for i in ATPM_2:\n",
    "    item = glycolysis.metabolites.get_by_id(i)\n",
    "    ATPM.add_metabolites({item:1})\n",
    "\n"
   ]
  },
  {
   "cell_type": "code",
   "execution_count": null,
   "metadata": {
    "scrolled": true
   },
   "outputs": [],
   "source": [
    "DM_nadh = MassReaction(\n",
    "    \"DM_nadh\",\n",
    "    name=\"Demand NADH\",\n",
    "    subsystem=\"Pseudoreaction\",\n",
    "    reversible=False)\n",
    "\n",
    "DM_nadh_1 = ['nadh_c']\n",
    "DM_nadh_2= ['nad_c','h_c']\n",
    "\n",
    "for i in DM_nadh_1:\n",
    "    item = glycolysis.metabolites.get_by_id(i)\n",
    "    DM_nadh.add_metabolites({item:-1})\n",
    "    \n",
    "\n",
    "for i in DM_nadh_2:\n",
    "    item = glycolysis.metabolites.get_by_id(i)\n",
    "    DM_nadh.add_metabolites({item:1})\n",
    "\n"
   ]
  },
  {
   "cell_type": "code",
   "execution_count": null,
   "metadata": {},
   "outputs": [],
   "source": [
    "# Add new reactions\n",
    "glycolysis.add_reactions([ADK1, ATPM, DM_nadh])\n",
    "\n",
    "for reaction in glycolysis.reactions:\n",
    "    print(reaction)"
   ]
  },
  {
   "cell_type": "markdown",
   "metadata": {},
   "source": [
    "### View extracted network"
   ]
  },
  {
   "cell_type": "code",
   "execution_count": null,
   "metadata": {},
   "outputs": [],
   "source": [
    "### NEED TO CHECK!!\n",
    "escher_builder = escher.Builder(\n",
    "    model=glycolysis,\n",
    "    map_json=os.path.join(\n",
    "        maps_dir, \".\".join((\n",
    "            glycolysis.id, \"map\", \"json\"))\n",
    "    ),\n",
    "    highlight_missing=True)\n",
    "\n",
    "escher_builder"
   ]
  },
  {
   "cell_type": "markdown",
   "metadata": {},
   "source": [
    "### Boundary Reactions"
   ]
  },
  {
   "cell_type": "code",
   "execution_count": null,
   "metadata": {},
   "outputs": [],
   "source": [
    "SK_glc__D_c = glycolysis.add_boundary(\n",
    "    metabolite=glycolysis.metabolites.get_by_id('glc__D_c'), boundary_type=\"sink\", subsystem=\"Pseudoreaction\",\n",
    "    boundary_condition=1)\n",
    "SK_glc__D_c.reverse_stoichiometry(inplace=True)\n",
    "\n",
    "SK_amp_c = glycolysis.add_boundary(\n",
    "    metabolite=glycolysis.metabolites.get_by_id('amp_c'), boundary_type=\"sink\", subsystem=\"Pseudoreaction\",\n",
    "    boundary_condition=1)\n",
    "SK_amp_c.reverse_stoichiometry(inplace=True)\n",
    "\n",
    "\n",
    "SK_lac__L_c = glycolysis.add_boundary(\n",
    "    metabolite=glycolysis.metabolites.get_by_id('lac__L_c'), boundary_type=\"sink\", subsystem=\"Pseudoreaction\",\n",
    "    boundary_condition=1)\n",
    "\n",
    "SK_pyr_c = glycolysis.add_boundary(\n",
    "    metabolite=glycolysis.metabolites.get_by_id('pyr_c'), boundary_type=\"sink\", subsystem=\"Pseudoreaction\",\n",
    "    boundary_condition=0.06)\n",
    "\n",
    "SK_h_c = glycolysis.add_boundary(\n",
    "    metabolite=glycolysis.metabolites.get_by_id('h_c'), boundary_type=\"sink\", subsystem=\"Pseudoreaction\",\n",
    "    boundary_condition=6.30957e-05)\n",
    "\n",
    "SK_h2o_c = glycolysis.add_boundary(\n",
    "    metabolite=glycolysis.metabolites.get_by_id('h2o_c'), boundary_type=\"sink\", subsystem=\"Pseudoreaction\",\n",
    "    boundary_condition=1)\n",
    "\n",
    "\n",
    "\n",
    "DM_amp_c = glycolysis.add_boundary(\n",
    "    metabolite=glycolysis.metabolites.get_by_id('amp_c'), boundary_type=\"demand\", subsystem=\"Pseudoreaction\",\n",
    "    boundary_condition=1)\n",
    "\n",
    "print(\"Boundary Reactions and Values\\n-----------------------------\")\n",
    "for reaction in glycolysis.boundary:\n",
    "    boundary_met = reaction.boundary_metabolite\n",
    "    bc_value = glycolysis.boundary_conditions.get(boundary_met)\n",
    "    print(\"{0}\\n{1}: {2}\\n\".format(\n",
    "        reaction, boundary_met, bc_value))"
   ]
  },
  {
   "cell_type": "code",
   "execution_count": null,
   "metadata": {},
   "outputs": [],
   "source": [
    "\n",
    "\n"
   ]
  },
  {
   "cell_type": "markdown",
   "metadata": {},
   "source": [
    "## Simulate at steady state"
   ]
  },
  {
   "cell_type": "code",
   "execution_count": null,
   "metadata": {},
   "outputs": [],
   "source": [
    "# Setup simulation object\n",
    "sim = Simulation(glycolysis, verbose=True)\n",
    "# Simulate from 0 to 1000 with 10001 points in the output\n",
    "conc_sol, flux_sol = sim.simulate(glycolysis, time=(0, 1e3, 1e4 + 1))\n",
    "# Quickly render and display time profiles\n",
    "conc_sol.view_time_profile()"
   ]
  },
  {
   "cell_type": "code",
   "execution_count": null,
   "metadata": {},
   "outputs": [],
   "source": []
  },
  {
   "cell_type": "markdown",
   "metadata": {},
   "source": [
    "# Export MASS model"
   ]
  },
  {
   "cell_type": "code",
   "execution_count": null,
   "metadata": {},
   "outputs": [],
   "source": [
    "save_json_mass_model(\n",
    "    mass_model=glycolysis,\n",
    "    filename=os.path.join(model_dir, glycolysis.id + \".json\"))"
   ]
  },
  {
   "cell_type": "code",
   "execution_count": null,
   "metadata": {},
   "outputs": [],
   "source": []
  }
 ],
 "metadata": {
  "kernelspec": {
   "display_name": "Python 3",
   "language": "python",
   "name": "python3"
  },
  "language_info": {
   "codemirror_mode": {
    "name": "ipython",
    "version": 3
   },
   "file_extension": ".py",
   "mimetype": "text/x-python",
   "name": "python",
   "nbconvert_exporter": "python",
   "pygments_lexer": "ipython3",
   "version": "3.8.3"
  }
 },
 "nbformat": 4,
 "nbformat_minor": 4
}
