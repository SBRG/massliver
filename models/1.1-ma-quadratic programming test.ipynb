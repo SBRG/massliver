{
 "cells": [
  {
   "cell_type": "markdown",
   "metadata": {},
   "source": [
    "# Liver Model Construction: Notebook-Glycolysis ONLY-trial"
   ]
  },
  {
   "cell_type": "markdown",
   "metadata": {},
   "source": [
    "## Setup workflow"
   ]
  },
  {
   "cell_type": "markdown",
   "metadata": {},
   "source": [
    "### Import packages"
   ]
  },
  {
   "cell_type": "code",
   "execution_count": 1,
   "metadata": {},
   "outputs": [
    {
     "name": "stdout",
     "output_type": "stream",
     "text": [
      "MASSpy version: 0.1.1\n"
     ]
    }
   ],
   "source": [
    "import os\n",
    "import warnings\n",
    "from cobra.io.json import load_json_model as load_json_cobra_model\n",
    "import escher\n",
    "import mass\n",
    "import numpy as np\n",
    "import pandas as pd\n",
    "import sympy as sy\n",
    "from cobra import Model, Reaction, Metabolite\n",
    "import cobra.test\n",
    "from os.path import join\n",
    "from mass.util import qcqa_model\n",
    "from cobra import DictList\n",
    "from mass import (\n",
    "    MassConfiguration, MassMetabolite, MassModel,\n",
    "    MassReaction, Simulation, UnitDefinition)\n",
    "from mass.io.json import save_json_model as save_json_mass_model\n",
    "from mass.visualization import plot_comparison, plot_time_profile\n",
    "mass_config = MassConfiguration()\n",
    "\n",
    "mass_config.irreversible_Keq = float(\"inf\")\n",
    "\n",
    "print(\"MASSpy version: {0}\".format(mass.__version__))\n",
    "\n",
    "import pandas as pd\n",
    "\n",
    "from six import iteritems\n",
    "\n",
    "import sympy as sym"
   ]
  },
  {
   "cell_type": "markdown",
   "metadata": {},
   "source": [
    "## Set paths and constants"
   ]
  },
  {
   "cell_type": "markdown",
   "metadata": {},
   "source": [
    "### Directory paths"
   ]
  },
  {
   "cell_type": "code",
   "execution_count": 2,
   "metadata": {},
   "outputs": [],
   "source": [
    "#had to remove the mass\n",
    "model_dir = os.path.abspath(\"../models\")\n",
    "maps_dir = os.path.abspath(\"../maps\")"
   ]
  },
  {
   "cell_type": "markdown",
   "metadata": {},
   "source": [
    "# Create MASS model from COBRA model"
   ]
  },
  {
   "cell_type": "markdown",
   "metadata": {},
   "source": [
    "### Load COBRA model"
   ]
  },
  {
   "cell_type": "code",
   "execution_count": 3,
   "metadata": {},
   "outputs": [
    {
     "data": {
      "text/html": [
       "\n",
       "        <table>\n",
       "            <tr>\n",
       "                <td><strong>Name</strong></td>\n",
       "                <td>None</td>\n",
       "            </tr><tr>\n",
       "                <td><strong>Memory address</strong></td>\n",
       "                <td>0x018776c64940</td>\n",
       "            </tr><tr>\n",
       "                <td><strong>Number of metabolites</strong></td>\n",
       "                <td>178</td>\n",
       "            </tr><tr>\n",
       "                <td><strong>Number of reactions</strong></td>\n",
       "                <td>187</td>\n",
       "            </tr><tr>\n",
       "                <td><strong>Number of groups</strong></td>\n",
       "                <td>0</td>\n",
       "            </tr><tr>\n",
       "                <td><strong>Objective expression</strong></td>\n",
       "                <td>1.0*ATPM - 1.0*ATPM_reverse_5b752</td>\n",
       "            </tr><tr>\n",
       "                <td><strong>Compartments</strong></td>\n",
       "                <td>m, i, c, r, </td>\n",
       "            </tr>\n",
       "          </table>"
      ],
      "text/plain": [
       "<Model None at 0x18776c64940>"
      ]
     },
     "execution_count": 3,
     "metadata": {},
     "output_type": "execute_result"
    }
   ],
   "source": [
    "core_model=load_json_cobra_model(filename=os.path.join(model_dir,\"CoreModel.json\"))\n",
    "core_model"
   ]
  },
  {
   "cell_type": "code",
   "execution_count": 4,
   "metadata": {},
   "outputs": [],
   "source": [
    "def load_data(filepath, sheet_name):\n",
    "    \"\"\"Load Liver data from an excel sheet\"\"\"\n",
    "    df = pd.read_excel(\n",
    "        io=filepath,\n",
    "        sheet_name=sheet_name,\n",
    "        index_col=0)\n",
    "    df = df.drop(\"Fasting Time\", axis=1)\n",
    "    df = df.drop(\"Additional Notes\", axis=1)\n",
    "    df = df.drop(\"Flux (mmol/(L*hr))\", axis=1)\n",
    "    #df = df.drop(\"Name\", axis=1)\n",
    "    return df"
   ]
  },
  {
   "cell_type": "code",
   "execution_count": 5,
   "metadata": {},
   "outputs": [
    {
     "data": {
      "text/html": [
       "<div>\n",
       "<style scoped>\n",
       "    .dataframe tbody tr th:only-of-type {\n",
       "        vertical-align: middle;\n",
       "    }\n",
       "\n",
       "    .dataframe tbody tr th {\n",
       "        vertical-align: top;\n",
       "    }\n",
       "\n",
       "    .dataframe thead th {\n",
       "        text-align: right;\n",
       "    }\n",
       "</style>\n",
       "<table border=\"1\" class=\"dataframe\">\n",
       "  <thead>\n",
       "    <tr style=\"text-align: right;\">\n",
       "      <th></th>\n",
       "      <th>Flux(mmol/(gDW*hr))</th>\n",
       "    </tr>\n",
       "    <tr>\n",
       "      <th>ID</th>\n",
       "      <th></th>\n",
       "    </tr>\n",
       "  </thead>\n",
       "  <tbody>\n",
       "    <tr>\n",
       "      <th>GLCter</th>\n",
       "      <td>0.001674</td>\n",
       "    </tr>\n",
       "    <tr>\n",
       "      <th>G6PPer</th>\n",
       "      <td>0.001674</td>\n",
       "    </tr>\n",
       "    <tr>\n",
       "      <th>G6Pter</th>\n",
       "      <td>0.001674</td>\n",
       "    </tr>\n",
       "    <tr>\n",
       "      <th>GLPASE1</th>\n",
       "      <td>0.000215</td>\n",
       "    </tr>\n",
       "    <tr>\n",
       "      <th>PGMT</th>\n",
       "      <td>0.000215</td>\n",
       "    </tr>\n",
       "    <tr>\n",
       "      <th>EX_glygn2_c</th>\n",
       "      <td>0.000215</td>\n",
       "    </tr>\n",
       "    <tr>\n",
       "      <th>GAPD</th>\n",
       "      <td>0.002903</td>\n",
       "    </tr>\n",
       "    <tr>\n",
       "      <th>PGK</th>\n",
       "      <td>0.002903</td>\n",
       "    </tr>\n",
       "    <tr>\n",
       "      <th>PGM</th>\n",
       "      <td>0.002903</td>\n",
       "    </tr>\n",
       "    <tr>\n",
       "      <th>ENO</th>\n",
       "      <td>0.002903</td>\n",
       "    </tr>\n",
       "    <tr>\n",
       "      <th>PEPCKm</th>\n",
       "      <td>0.004178</td>\n",
       "    </tr>\n",
       "    <tr>\n",
       "      <th>PCm</th>\n",
       "      <td>0.003794</td>\n",
       "    </tr>\n",
       "    <tr>\n",
       "      <th>LDH_L</th>\n",
       "      <td>0.002519</td>\n",
       "    </tr>\n",
       "    <tr>\n",
       "      <th>ME2</th>\n",
       "      <td>0.000630</td>\n",
       "    </tr>\n",
       "    <tr>\n",
       "      <th>PYK</th>\n",
       "      <td>0.000630</td>\n",
       "    </tr>\n",
       "    <tr>\n",
       "      <th>CSm</th>\n",
       "      <td>0.002995</td>\n",
       "    </tr>\n",
       "    <tr>\n",
       "      <th>SUCOASm</th>\n",
       "      <td>0.003379</td>\n",
       "    </tr>\n",
       "    <tr>\n",
       "      <th>SUCD1m</th>\n",
       "      <td>0.003379</td>\n",
       "    </tr>\n",
       "    <tr>\n",
       "      <th>FUMm</th>\n",
       "      <td>0.003379</td>\n",
       "    </tr>\n",
       "    <tr>\n",
       "      <th>MDHm</th>\n",
       "      <td>0.003379</td>\n",
       "    </tr>\n",
       "    <tr>\n",
       "      <th>EX_lac__L_c</th>\n",
       "      <td>0.001567</td>\n",
       "    </tr>\n",
       "  </tbody>\n",
       "</table>\n",
       "</div>"
      ],
      "text/plain": [
       "             Flux(mmol/(gDW*hr))\n",
       "ID                              \n",
       "GLCter                  0.001674\n",
       "G6PPer                  0.001674\n",
       "G6Pter                  0.001674\n",
       "GLPASE1                 0.000215\n",
       "PGMT                    0.000215\n",
       "EX_glygn2_c             0.000215\n",
       "GAPD                    0.002903\n",
       "PGK                     0.002903\n",
       "PGM                     0.002903\n",
       "ENO                     0.002903\n",
       "PEPCKm                  0.004178\n",
       "PCm                     0.003794\n",
       "LDH_L                   0.002519\n",
       "ME2                     0.000630\n",
       "PYK                     0.000630\n",
       "CSm                     0.002995\n",
       "SUCOASm                 0.003379\n",
       "SUCD1m                  0.003379\n",
       "FUMm                    0.003379\n",
       "MDHm                    0.003379\n",
       "EX_lac__L_c             0.001567"
      ]
     },
     "execution_count": 5,
     "metadata": {},
     "output_type": "execute_result"
    }
   ],
   "source": [
    "flux_df = load_data(\n",
    "    filepath='1.2-ma-data-collection.xlsx',\n",
    "    sheet_name=\"Fluxes\")\n",
    "flux_df\n"
   ]
  },
  {
   "cell_type": "code",
   "execution_count": 6,
   "metadata": {},
   "outputs": [],
   "source": [
    "v_vars = []\n",
    "v_data = []"
   ]
  },
  {
   "cell_type": "code",
   "execution_count": 11,
   "metadata": {},
   "outputs": [
    {
     "ename": "ValueError",
     "evalue": "GLPK only supports linear objectives. Maximize\n3.0*CSm**2 - 0.017972136222*CSm + 3.0*ENO**2 - 0.017419147416*ENO + 3.0*EX_glygn2_c**2 - 0.0012903072162*EX_glygn2_c + 3.0*EX_lac__L_c**2 - 0.009400809714*EX_lac__L_c + 3.0*FUMm**2 - 0.020276256252*FUMm + 3.0*G6PPer**2 - 0.010045963326*G6PPer + 3.0*G6Pter**2 - 0.010045963326*G6Pter + 3.0*GAPD**2 - 0.017419147416*GAPD + 3.0*GLCter**2 - 0.010045963326*GLCter + 3.0*GLPASE1**2 - 0.0012903072162*GLPASE1 + 3.0*LDH_L**2 - 0.015115027386*LDH_L + 3.0*MDHm**2 - 0.020276256252*MDHm + 3.0*ME2**2 - 0.0037787568468*ME2 + 3.0*PCm**2 - 0.022764705882*PCm + 3.0*PEPCKm**2 - 0.025068825912*PEPCKm + 3.0*PGK**2 - 0.017419147416*PGK + 3.0*PGM**2 - 0.017419147416*PGM + 3.0*PGMT**2 - 0.0012903072162*PGMT + 3.0*PYK**2 - 0.0037787568468*PYK + 3.0*SUCD1m**2 - 0.020276256252*SUCD1m + 3.0*SUCOASm**2 - 0.020276256252*SUCOASm is not linear.",
     "output_type": "error",
     "traceback": [
      "\u001b[1;31m---------------------------------------------------------------------------\u001b[0m",
      "\u001b[1;31mValueError\u001b[0m                                Traceback (most recent call last)",
      "\u001b[1;32m<ipython-input-11-d3d9029b7d2d>\u001b[0m in \u001b[0;36m<module>\u001b[1;34m\u001b[0m\n\u001b[0;32m     15\u001b[0m \u001b[1;33m\u001b[0m\u001b[0m\n\u001b[0;32m     16\u001b[0m \u001b[0mobjective\u001b[0m \u001b[1;33m=\u001b[0m \u001b[1;36m0.5\u001b[0m \u001b[1;33m*\u001b[0m \u001b[0mv_vars\u001b[0m\u001b[1;33m.\u001b[0m\u001b[0mT\u001b[0m \u001b[1;33m*\u001b[0m \u001b[0mF\u001b[0m \u001b[1;33m*\u001b[0m \u001b[0mv_vars\u001b[0m  \u001b[1;33m-\u001b[0m \u001b[1;33m(\u001b[0m\u001b[1;36m2\u001b[0m \u001b[1;33m*\u001b[0m \u001b[0mv_data\u001b[0m\u001b[1;33m)\u001b[0m\u001b[1;33m.\u001b[0m\u001b[0mT\u001b[0m \u001b[1;33m*\u001b[0m \u001b[0mv_vars\u001b[0m\u001b[1;33m\u001b[0m\u001b[1;33m\u001b[0m\u001b[0m\n\u001b[1;32m---> 17\u001b[1;33m \u001b[0mcore_model\u001b[0m\u001b[1;33m.\u001b[0m\u001b[0mobjective\u001b[0m \u001b[1;33m=\u001b[0m \u001b[0mobjective\u001b[0m\u001b[1;33m[\u001b[0m\u001b[1;36m0\u001b[0m\u001b[1;33m]\u001b[0m\u001b[1;33m\u001b[0m\u001b[1;33m\u001b[0m\u001b[0m\n\u001b[0m\u001b[0;32m     18\u001b[0m \u001b[0mcore_model\u001b[0m\u001b[1;33m.\u001b[0m\u001b[0mobjective_direction\u001b[0m \u001b[1;33m=\u001b[0m \u001b[1;34m\"min\"\u001b[0m\u001b[1;33m\u001b[0m\u001b[1;33m\u001b[0m\u001b[0m\n\u001b[0;32m     19\u001b[0m \u001b[1;33m\u001b[0m\u001b[0m\n",
      "\u001b[1;32m~\\anaconda3\\lib\\site-packages\\cobra\\core\\model.py\u001b[0m in \u001b[0;36mobjective\u001b[1;34m(self, value)\u001b[0m\n\u001b[0;32m   1169\u001b[0m     \u001b[1;32mdef\u001b[0m \u001b[0mobjective\u001b[0m\u001b[1;33m(\u001b[0m\u001b[0mself\u001b[0m\u001b[1;33m,\u001b[0m \u001b[0mvalue\u001b[0m\u001b[1;33m)\u001b[0m\u001b[1;33m:\u001b[0m\u001b[1;33m\u001b[0m\u001b[1;33m\u001b[0m\u001b[0m\n\u001b[0;32m   1170\u001b[0m         \u001b[1;32mif\u001b[0m \u001b[0misinstance\u001b[0m\u001b[1;33m(\u001b[0m\u001b[0mvalue\u001b[0m\u001b[1;33m,\u001b[0m \u001b[0mBasic\u001b[0m\u001b[1;33m)\u001b[0m\u001b[1;33m:\u001b[0m\u001b[1;33m\u001b[0m\u001b[1;33m\u001b[0m\u001b[0m\n\u001b[1;32m-> 1171\u001b[1;33m             \u001b[0mvalue\u001b[0m \u001b[1;33m=\u001b[0m \u001b[0mself\u001b[0m\u001b[1;33m.\u001b[0m\u001b[0mproblem\u001b[0m\u001b[1;33m.\u001b[0m\u001b[0mObjective\u001b[0m\u001b[1;33m(\u001b[0m\u001b[0mvalue\u001b[0m\u001b[1;33m,\u001b[0m \u001b[0msloppy\u001b[0m\u001b[1;33m=\u001b[0m\u001b[1;32mFalse\u001b[0m\u001b[1;33m)\u001b[0m\u001b[1;33m\u001b[0m\u001b[1;33m\u001b[0m\u001b[0m\n\u001b[0m\u001b[0;32m   1172\u001b[0m         \u001b[1;32mif\u001b[0m \u001b[1;32mnot\u001b[0m \u001b[0misinstance\u001b[0m\u001b[1;33m(\u001b[0m\u001b[0mvalue\u001b[0m\u001b[1;33m,\u001b[0m \u001b[1;33m(\u001b[0m\u001b[0mdict\u001b[0m\u001b[1;33m,\u001b[0m \u001b[0moptlang\u001b[0m\u001b[1;33m.\u001b[0m\u001b[0minterface\u001b[0m\u001b[1;33m.\u001b[0m\u001b[0mObjective\u001b[0m\u001b[1;33m)\u001b[0m\u001b[1;33m)\u001b[0m\u001b[1;33m:\u001b[0m\u001b[1;33m\u001b[0m\u001b[1;33m\u001b[0m\u001b[0m\n\u001b[0;32m   1173\u001b[0m             \u001b[1;32mtry\u001b[0m\u001b[1;33m:\u001b[0m\u001b[1;33m\u001b[0m\u001b[1;33m\u001b[0m\u001b[0m\n",
      "\u001b[1;32m~\\anaconda3\\lib\\site-packages\\optlang\\glpk_interface.py\u001b[0m in \u001b[0;36m__init__\u001b[1;34m(self, expression, sloppy, **kwargs)\u001b[0m\n\u001b[0;32m    314\u001b[0m         \u001b[0mself\u001b[0m\u001b[1;33m.\u001b[0m\u001b[0m_expression_expired\u001b[0m \u001b[1;33m=\u001b[0m \u001b[1;32mFalse\u001b[0m\u001b[1;33m\u001b[0m\u001b[1;33m\u001b[0m\u001b[0m\n\u001b[0;32m    315\u001b[0m         \u001b[1;32mif\u001b[0m \u001b[1;32mnot\u001b[0m \u001b[1;33m(\u001b[0m\u001b[0msloppy\u001b[0m \u001b[1;32mor\u001b[0m \u001b[0mself\u001b[0m\u001b[1;33m.\u001b[0m\u001b[0mis_Linear\u001b[0m\u001b[1;33m)\u001b[0m\u001b[1;33m:\u001b[0m\u001b[1;33m\u001b[0m\u001b[1;33m\u001b[0m\u001b[0m\n\u001b[1;32m--> 316\u001b[1;33m             raise ValueError(\n\u001b[0m\u001b[0;32m    317\u001b[0m                 \"GLPK only supports linear objectives. %s is not linear.\" % self)\n\u001b[0;32m    318\u001b[0m \u001b[1;33m\u001b[0m\u001b[0m\n",
      "\u001b[1;31mValueError\u001b[0m: GLPK only supports linear objectives. Maximize\n3.0*CSm**2 - 0.017972136222*CSm + 3.0*ENO**2 - 0.017419147416*ENO + 3.0*EX_glygn2_c**2 - 0.0012903072162*EX_glygn2_c + 3.0*EX_lac__L_c**2 - 0.009400809714*EX_lac__L_c + 3.0*FUMm**2 - 0.020276256252*FUMm + 3.0*G6PPer**2 - 0.010045963326*G6PPer + 3.0*G6Pter**2 - 0.010045963326*G6Pter + 3.0*GAPD**2 - 0.017419147416*GAPD + 3.0*GLCter**2 - 0.010045963326*GLCter + 3.0*GLPASE1**2 - 0.0012903072162*GLPASE1 + 3.0*LDH_L**2 - 0.015115027386*LDH_L + 3.0*MDHm**2 - 0.020276256252*MDHm + 3.0*ME2**2 - 0.0037787568468*ME2 + 3.0*PCm**2 - 0.022764705882*PCm + 3.0*PEPCKm**2 - 0.025068825912*PEPCKm + 3.0*PGK**2 - 0.017419147416*PGK + 3.0*PGM**2 - 0.017419147416*PGM + 3.0*PGMT**2 - 0.0012903072162*PGMT + 3.0*PYK**2 - 0.0037787568468*PYK + 3.0*SUCD1m**2 - 0.020276256252*SUCD1m + 3.0*SUCOASm**2 - 0.020276256252*SUCOASm is not linear."
     ]
    }
   ],
   "source": [
    "for rid, flux in flux_df.itertuples():\n",
    "    reaction = core_model.reactions.get_by_id(rid)\n",
    "    reaction.bounds = (flux, flux)\n",
    "    \n",
    "    v_vars.append(sym.Symbol(rid))\n",
    "    v_data.append(flux)\n",
    "    \n",
    "#print(v_vars)\n",
    "#print(v_data)\n",
    "\n",
    "# Make symbolic for optlang objective \n",
    "v_vars = sym.Matrix(v_vars)\n",
    "v_data = sym.Matrix(v_data)\n",
    "F = sym.Matrix(2 * sym.eye(len(v_vars)))\n",
    "\n",
    "objective = 0.5 * v_vars.T * F * v_vars  - (2 * v_data).T * v_vars\n",
    "core_model.objective = objective[0]\n",
    "core_model.objective_direction = \"min\"\n",
    "\n",
    "flux_solution = core_model.optimize()"
   ]
  },
  {
   "cell_type": "code",
   "execution_count": null,
   "metadata": {},
   "outputs": [],
   "source": []
  },
  {
   "cell_type": "code",
   "execution_count": null,
   "metadata": {},
   "outputs": [],
   "source": []
  },
  {
   "cell_type": "code",
   "execution_count": null,
   "metadata": {},
   "outputs": [],
   "source": []
  },
  {
   "cell_type": "markdown",
   "metadata": {},
   "source": [
    "## Create MASS model"
   ]
  },
  {
   "cell_type": "code",
   "execution_count": null,
   "metadata": {},
   "outputs": [],
   "source": [
    "glycolysis = MassModel(\"Glycolysis\", array_type='DataFrame', dtype=np.int64)"
   ]
  },
  {
   "cell_type": "markdown",
   "metadata": {},
   "source": [
    "## Parameterize MASS model"
   ]
  },
  {
   "cell_type": "markdown",
   "metadata": {},
   "source": [
    "### Define reactions"
   ]
  },
  {
   "cell_type": "code",
   "execution_count": null,
   "metadata": {},
   "outputs": [],
   "source": []
  },
  {
   "cell_type": "code",
   "execution_count": null,
   "metadata": {},
   "outputs": [],
   "source": [
    "reaction_list = ['HEX1',\n",
    "                'PGI',\n",
    "#                 'FBP',\n",
    "                'PFK',\n",
    "                'FBA',\n",
    "                'TPI',\n",
    "                'GAPD',\n",
    "                'PGK',\n",
    "                'PGM',\n",
    "                'ENO',\n",
    "#                 'PEPtm',\n",
    "#                 'PEPCKm',\n",
    "                 'LDH_L',\n",
    "                'PYK']\n",
    "#                 'PCm',\n",
    "                 \n",
    "#                  'PYRt2m']\n",
    "new_reaction_list = []\n",
    "for item in reaction_list: \n",
    "    item = core_model.reactions.get_by_id(item)\n",
    "    new_reaction_list.append(item) \n",
    "    \n",
    "new_reaction_list\n",
    "\n",
    "# Convert cobra.Reactions to mass.MassReactions\n",
    "for rid in reaction_list:\n",
    "    reaction = core_model.reactions.get_by_id(rid)\n",
    "    glycolysis.add_reactions([MassReaction(reaction)])\n",
    "    \n",
    "## set possible exchanges for in and out?\n",
    "\n",
    "\n"
   ]
  },
  {
   "cell_type": "markdown",
   "metadata": {},
   "source": [
    "#### Adding from masspy documentation"
   ]
  },
  {
   "cell_type": "code",
   "execution_count": null,
   "metadata": {},
   "outputs": [],
   "source": [
    "# new_reaction_list\n",
    "m=[\"adp_c\",\"amp_c\", \"atp_c\",\"pi_c\",\"nadh_c\",\"nad_c\", \"h2o_c\", \"h_c\"]\n"
   ]
  },
  {
   "cell_type": "code",
   "execution_count": null,
   "metadata": {},
   "outputs": [],
   "source": [
    "# Convert cobra.Reactions to mass.MassReactions\n",
    "for rid in m:\n",
    "    met = core_model.metabolites.get_by_id(rid)\n",
    "    glycolysis.add_metabolites([MassMetabolite(met)])"
   ]
  },
  {
   "cell_type": "code",
   "execution_count": null,
   "metadata": {},
   "outputs": [],
   "source": [
    "glycolysis"
   ]
  },
  {
   "cell_type": "code",
   "execution_count": null,
   "metadata": {},
   "outputs": [],
   "source": [
    "## Adding additional reactions\n",
    "ADK1 = MassReaction(\n",
    "    \"ADK1\",\n",
    "    name=\"Adenylate kinase\",\n",
    "    subsystem=\"Misc.\",\n",
    "    reversible=True)\n",
    "\n",
    "ADK = ['amp_c','atp_c']\n",
    "for i in ADK:\n",
    "    item = glycolysis.metabolites.get_by_id(i)\n",
    "    ADK1.add_metabolites({item:1})\n",
    "    \n",
    "ADP =['adp_c']\n",
    "for i in ADP:\n",
    "    item = glycolysis.metabolites.get_by_id(i)\n",
    "    ADK1.add_metabolites({item:-2})\n"
   ]
  },
  {
   "cell_type": "code",
   "execution_count": null,
   "metadata": {},
   "outputs": [],
   "source": [
    "ATPM = MassReaction(\n",
    "    \"ATPM\",\n",
    "    name=\"ATP maintenance requirement\",\n",
    "    subsystem=\"Pseudoreaction\",\n",
    "    reversible=False)\n",
    "\n",
    "ATPM_1 = ['atp_c', 'h2o_c']\n",
    "ATPM_2= ['adp_c','h_c','pi_c']\n",
    "\n",
    "for i in ATPM_1:\n",
    "    item = glycolysis.metabolites.get_by_id(i)\n",
    "    ATPM.add_metabolites({item:-1})\n",
    "    \n",
    "\n",
    "for i in ATPM_2:\n",
    "    item = glycolysis.metabolites.get_by_id(i)\n",
    "    ATPM.add_metabolites({item:1})\n",
    "\n"
   ]
  },
  {
   "cell_type": "code",
   "execution_count": null,
   "metadata": {
    "scrolled": true
   },
   "outputs": [],
   "source": [
    "DM_nadh = MassReaction(\n",
    "    \"DM_nadh\",\n",
    "    name=\"Demand NADH\",\n",
    "    subsystem=\"Pseudoreaction\",\n",
    "    reversible=False)\n",
    "\n",
    "DM_nadh_1 = ['nadh_c']\n",
    "DM_nadh_2= ['nad_c','h_c']\n",
    "\n",
    "for i in DM_nadh_1:\n",
    "    item = glycolysis.metabolites.get_by_id(i)\n",
    "    DM_nadh.add_metabolites({item:-1})\n",
    "    \n",
    "\n",
    "for i in DM_nadh_2:\n",
    "    item = glycolysis.metabolites.get_by_id(i)\n",
    "    DM_nadh.add_metabolites({item:1})\n",
    "\n"
   ]
  },
  {
   "cell_type": "code",
   "execution_count": null,
   "metadata": {},
   "outputs": [],
   "source": [
    "# Add new reactions\n",
    "glycolysis.add_reactions([ADK1, ATPM, DM_nadh])\n",
    "\n",
    "for reaction in glycolysis.reactions:\n",
    "    print(reaction)"
   ]
  },
  {
   "cell_type": "markdown",
   "metadata": {},
   "source": [
    "### View extracted network"
   ]
  },
  {
   "cell_type": "code",
   "execution_count": null,
   "metadata": {},
   "outputs": [],
   "source": [
    "### NEED TO CHECK!!\n",
    "escher_builder = escher.Builder(\n",
    "    model=glycolysis,\n",
    "    map_json=os.path.join(\n",
    "        maps_dir, \".\".join((\n",
    "            glycolysis.id, \"map\", \"json\"))\n",
    "    ),\n",
    "    highlight_missing=True)\n",
    "\n",
    "escher_builder"
   ]
  },
  {
   "cell_type": "markdown",
   "metadata": {},
   "source": [
    "### Boundary Reactions"
   ]
  },
  {
   "cell_type": "code",
   "execution_count": null,
   "metadata": {},
   "outputs": [],
   "source": [
    "SK_glc__D_c = glycolysis.add_boundary(\n",
    "    metabolite=glycolysis.metabolites.get_by_id('glc__D_c'), boundary_type=\"sink\", subsystem=\"Pseudoreaction\",\n",
    "    boundary_condition=1)\n",
    "SK_glc__D_c.reverse_stoichiometry(inplace=True)\n",
    "\n",
    "SK_amp_c = glycolysis.add_boundary(\n",
    "    metabolite=glycolysis.metabolites.get_by_id('amp_c'), boundary_type=\"sink\", subsystem=\"Pseudoreaction\",\n",
    "    boundary_condition=1)\n",
    "SK_amp_c.reverse_stoichiometry(inplace=True)\n",
    "\n",
    "\n",
    "SK_lac__L_c = glycolysis.add_boundary(\n",
    "    metabolite=glycolysis.metabolites.get_by_id('lac__L_c'), boundary_type=\"sink\", subsystem=\"Pseudoreaction\",\n",
    "    boundary_condition=1)\n",
    "\n",
    "SK_pyr_c = glycolysis.add_boundary(\n",
    "    metabolite=glycolysis.metabolites.get_by_id('pyr_c'), boundary_type=\"sink\", subsystem=\"Pseudoreaction\",\n",
    "    boundary_condition=0.06)\n",
    "\n",
    "SK_h_c = glycolysis.add_boundary(\n",
    "    metabolite=glycolysis.metabolites.get_by_id('h_c'), boundary_type=\"sink\", subsystem=\"Pseudoreaction\",\n",
    "    boundary_condition=6.30957e-05)\n",
    "\n",
    "SK_h2o_c = glycolysis.add_boundary(\n",
    "    metabolite=glycolysis.metabolites.get_by_id('h2o_c'), boundary_type=\"sink\", subsystem=\"Pseudoreaction\",\n",
    "    boundary_condition=1)\n",
    "\n",
    "\n",
    "\n",
    "DM_amp_c = glycolysis.add_boundary(\n",
    "    metabolite=glycolysis.metabolites.get_by_id('amp_c'), boundary_type=\"demand\", subsystem=\"Pseudoreaction\",\n",
    "    boundary_condition=1)\n",
    "\n",
    "print(\"Boundary Reactions and Values\\n-----------------------------\")\n",
    "for reaction in glycolysis.boundary:\n",
    "    boundary_met = reaction.boundary_metabolite\n",
    "    bc_value = glycolysis.boundary_conditions.get(boundary_met)\n",
    "    print(\"{0}\\n{1}: {2}\\n\".format(\n",
    "        reaction, boundary_met, bc_value))"
   ]
  },
  {
   "cell_type": "code",
   "execution_count": null,
   "metadata": {},
   "outputs": [],
   "source": [
    "new_metabolite_order = [\n",
    "    \"glc__D_c\", \"g6p_c\", \"f6p_c\", \"fdp_c\", \"dhap_c\",\n",
    "    \"g3p_c\", \"13dpg_c\", \"3pg_c\", \"2pg_c\", \"pep_c\",\n",
    "    \"pyr_c\", \"lac__L_c\", \"nad_c\", \"nadh_c\", \"amp_c\",\n",
    "    \"adp_c\", \"atp_c\", \"pi_c\", \"h_c\", \"h2o_c\"]\n",
    "\n",
    "if len(glycolysis.metabolites) == len(new_metabolite_order):\n",
    "    glycolysis.metabolites = DictList(\n",
    "        glycolysis.metabolites.get_by_any(new_metabolite_order))\n",
    "new_reaction_order = [\n",
    "    \"HEX1\", \"PGI\", \"PFK\", \"FBA\", \"TPI\",\n",
    "    \"GAPD\", \"PGK\", \"PGM\", \"ENO\", \"PYK\",\n",
    "    \"LDH_L\", \"DM_amp_c\", \"ADK1\", \"SK_pyr_c\",\n",
    "    \"SK_lac__L_c\", \"ATPM\", \"DM_nadh\", \"SK_glc__D_c\",\n",
    "    \"SK_amp_c\", \"SK_h_c\", \"SK_h2o_c\"]\n",
    "\n",
    "if len(glycolysis.reactions) == len(new_reaction_order):\n",
    "    glycolysis.reactions = DictList(\n",
    "        glycolysis.reactions.get_by_any(new_reaction_order))\n",
    "glycolysis.update_S(array_type=\"DataFrame\", dtype=int)"
   ]
  },
  {
   "cell_type": "markdown",
   "metadata": {},
   "source": [
    "\n",
    "#### Set fluxes"
   ]
  },
  {
   "cell_type": "code",
   "execution_count": null,
   "metadata": {},
   "outputs": [],
   "source": [
    "minspan_paths = [\n",
    "    [1, 1, 1, 1, 1, 2, 2, 2, 2, 2, 2, 0, 0, 0, 2, 2, 0, 1, 0, 2, 0],\n",
    "    [0, 0, 0, 0, 0, 0, 0, 0, 0, 0, -1, 0, 0, 1, -1, 0, 1, 0, 0, 2, 0],\n",
    "    [0, 0, 0, 0, 0, 0, 0, 0, 0, 0, 0, 1, 0, 0, 0, 0, 0, 0, 1, 0, 0]]\n",
    "glycolysis.compute_steady_state_fluxes(\n",
    "    pathways=minspan_paths,\n",
    "    independent_fluxes={\n",
    "        SK_glc__D_c: 1.12,\n",
    "        DM_nadh: .2 * 1.12,\n",
    "        DM_amp_c: 0.014},\n",
    "    update_reactions=True)\n",
    "\n",
    "print(\"Steady State Fluxes\\n-------------------\")\n",
    "for reaction, steady_state_flux in glycolysis.steady_state_fluxes.items():\n",
    "    print(\"{0}: {1:.6f}\".format(reaction.flux_symbol_str, steady_state_flux))"
   ]
  },
  {
   "cell_type": "markdown",
   "metadata": {},
   "source": [
    "### Obtain Concentrations"
   ]
  },
  {
   "cell_type": "markdown",
   "metadata": {},
   "source": [
    "\n",
    "### Set Initial Concentration"
   ]
  },
  {
   "cell_type": "code",
   "execution_count": null,
   "metadata": {},
   "outputs": [],
   "source": [
    "ID_list = ['glc__D_c',\n",
    "           'g6p_c',\n",
    "           'f6p_c',\n",
    "           'fdp_c',\n",
    "           'dhap_c',\n",
    "           'g3p_c',\n",
    "           '13dpg_c',\n",
    "           '3pg_c',\n",
    "            '2pg_c',\n",
    "            'pep_c',\n",
    "            'pyr_c',\n",
    "            'lac__L_c',\n",
    "           'nad_c',\n",
    "            'nadh_c',\n",
    "           'amp_c',\n",
    "           'adp_c',\n",
    "            'atp_c',\n",
    "            'pi_c',\n",
    "            'h_c',          \n",
    "            'h2o_c']\n",
    "ID_conc = [10.482807,\n",
    "           0.14,\n",
    "           0.127138,\n",
    "           0.0515,\n",
    "           8.78E-03,\n",
    "           0.243,# from textbook\n",
    "           0.176897,\n",
    "           \n",
    "           0.52063,\n",
    "           0.110561,\n",
    "           0.31,\n",
    "           0.48,\n",
    "           3.261838,\n",
    "          \n",
    "           0.0589,\n",
    "           0.0301,\n",
    "           0.365,\n",
    "           1.994952,\n",
    "            4.727146,\n",
    "           6.4,\n",
    "           0.0009,# from textbook\n",
    "           1# from textbook\n",
    "            ]\n",
    "\n",
    "#ID_dic = [{ID_list:ID_conc}]\n",
    "print(\"Initial Conditions\\n------------------\")\n",
    "for i in range(len(ID_list)):\n",
    "    item = glycolysis.metabolites.get_by_id(ID_list[i])\n",
    "    item.ic = ID_conc[i]\n",
    "    print(item, ':', item.ic)\n",
    "    \n",
    "\n"
   ]
  },
  {
   "cell_type": "code",
   "execution_count": null,
   "metadata": {},
   "outputs": [],
   "source": [
    "\n"
   ]
  },
  {
   "cell_type": "code",
   "execution_count": null,
   "metadata": {},
   "outputs": [],
   "source": []
  },
  {
   "cell_type": "markdown",
   "metadata": {},
   "source": [
    "### Keq"
   ]
  },
  {
   "cell_type": "code",
   "execution_count": null,
   "metadata": {},
   "outputs": [],
   "source": []
  },
  {
   "cell_type": "markdown",
   "metadata": {},
   "source": [
    "#### Set equilibrium constants"
   ]
  },
  {
   "cell_type": "code",
   "execution_count": null,
   "metadata": {},
   "outputs": [],
   "source": [
    "reaction_list = ['HEX1',\n",
    "                'PGI',\n",
    "                'PFK',\n",
    "                'FBA',\n",
    "                'TPI',\n",
    "                'GAPD',\n",
    "                'PGK',\n",
    "                'PGM',\n",
    "                'ENO',\n",
    "                 'LDH_L',\n",
    "                'PYK',\n",
    "                'ADK1',\n",
    "                 'ATPM', \n",
    "                 'DM_nadh']\n",
    "rxn_keq = [5000,\n",
    "0.32,\n",
    "1000,\n",
    "0.1,\n",
    "20.4,\n",
    "0.005334127,\n",
    "3200,\n",
    "12.7,\n",
    "4.7,\n",
    "26300,\n",
    "2220,\n",
    "1.65,\n",
    "1000000000,\n",
    "1000000000]\n",
    "\n",
    "\n",
    "\n",
    "irr_rxn=[\"SK_glc__D_c\", \"SK_amp_c\"]\n",
    "\n",
    "for i in irr_rxn:\n",
    "    item = glycolysis.reactions.get_by_id(i)\n",
    "    item.Keq=mass_config.irreversible_Keq\n",
    "    \n",
    "    \n",
    "sink=[\"SK_lac__L_c\",\"SK_pyr_c\",\"SK_h_c\",\"SK_h2o_c\"]\n",
    "# irr=[\"SK_glc__D_c\",\"SK_amp_c\"] \n",
    "for i in sink:\n",
    "    item=glycolysis.reactions.get_by_id(i)\n",
    "    item.Keq= 1\n",
    "\n",
    "\n",
    "for i in range(len(reaction_list)):\n",
    "    item = glycolysis.reactions.get_by_id(reaction_list[i])\n",
    "    item.Keq = rxn_keq[i]\n",
    "#     print(item, ':', item.Keq)\n",
    "print(\"Equilibrium Constants\\n---------------------\")\n",
    "for reaction in glycolysis.reactions:\n",
    "    print(\"{0}: {1}\".format(reaction.Keq_str, reaction.Keq))"
   ]
  },
  {
   "cell_type": "code",
   "execution_count": null,
   "metadata": {},
   "outputs": [],
   "source": [
    "\n",
    "\n"
   ]
  },
  {
   "cell_type": "code",
   "execution_count": null,
   "metadata": {},
   "outputs": [],
   "source": []
  },
  {
   "cell_type": "markdown",
   "metadata": {},
   "source": [
    "### Fluxes"
   ]
  },
  {
   "cell_type": "code",
   "execution_count": null,
   "metadata": {},
   "outputs": [],
   "source": [
    "glycolysis\n",
    "glycolysis.update_S(array_type=\"DataFrame\", dtype=int)"
   ]
  },
  {
   "cell_type": "markdown",
   "metadata": {},
   "source": [
    "#### Calculate PERCS"
   ]
  },
  {
   "cell_type": "code",
   "execution_count": null,
   "metadata": {},
   "outputs": [],
   "source": [
    "\n",
    "glycolysis.calculate_PERCs(update_reactions=True)\n",
    "\n",
    "print(\"Forward Rate Constants\\n----------------------\")\n",
    "for reaction in glycolysis.reactions:\n",
    "    print(\"{0}: {1:.6f}\".format(reaction.kf_str, reaction.kf))"
   ]
  },
  {
   "cell_type": "code",
   "execution_count": null,
   "metadata": {},
   "outputs": [],
   "source": [
    "qcqa_model(glycolysis, parameters=True, concentrations=True,\n",
    "           fluxes=True, superfluous=True, elemental=True)"
   ]
  },
  {
   "cell_type": "code",
   "execution_count": null,
   "metadata": {},
   "outputs": [],
   "source": [
    "\n",
    "# potential conversion factors?\n",
    "# enzyme modules?\n"
   ]
  },
  {
   "cell_type": "code",
   "execution_count": null,
   "metadata": {},
   "outputs": [],
   "source": [
    "## flux split through pathways??"
   ]
  },
  {
   "cell_type": "code",
   "execution_count": null,
   "metadata": {},
   "outputs": [],
   "source": [
    "## making enzyme modules??"
   ]
  },
  {
   "cell_type": "code",
   "execution_count": null,
   "metadata": {
    "scrolled": true
   },
   "outputs": [],
   "source": [
    "## load independent fluxes\n",
    "# minspan paths, independent fluxes\n",
    "# steady state fluxes\n",
    "# print everything"
   ]
  },
  {
   "cell_type": "code",
   "execution_count": null,
   "metadata": {},
   "outputs": [],
   "source": []
  },
  {
   "cell_type": "markdown",
   "metadata": {},
   "source": [
    "#### Set concentrations"
   ]
  },
  {
   "cell_type": "code",
   "execution_count": null,
   "metadata": {},
   "outputs": [],
   "source": [
    "# Provide initial guesses for a few, setting?\n",
    "# load, set, print conc values"
   ]
  },
  {
   "cell_type": "code",
   "execution_count": null,
   "metadata": {},
   "outputs": [],
   "source": [
    "## potential optimal solutions? using QP and then comparing"
   ]
  },
  {
   "cell_type": "code",
   "execution_count": null,
   "metadata": {},
   "outputs": [],
   "source": [
    "## calculate PERC's"
   ]
  },
  {
   "cell_type": "code",
   "execution_count": null,
   "metadata": {},
   "outputs": [],
   "source": [
    "## import/merging enzyme modules into model"
   ]
  },
  {
   "cell_type": "markdown",
   "metadata": {},
   "source": [
    "## Simulate at steady state"
   ]
  },
  {
   "cell_type": "code",
   "execution_count": null,
   "metadata": {},
   "outputs": [],
   "source": [
    "# Setup simulation object\n",
    "sim = Simulation(glycolysis, verbose=True)\n",
    "# Simulate from 0 to 1000 with 10001 points in the output\n",
    "conc_sol, flux_sol = sim.simulate(glycolysis, time=(0, 1e3, 1e4 + 1))\n",
    "# Quickly render and display time profiles\n",
    "conc_sol.view_time_profile()"
   ]
  },
  {
   "cell_type": "code",
   "execution_count": null,
   "metadata": {},
   "outputs": [],
   "source": []
  },
  {
   "cell_type": "markdown",
   "metadata": {},
   "source": [
    "# Export MASS model"
   ]
  },
  {
   "cell_type": "code",
   "execution_count": null,
   "metadata": {},
   "outputs": [],
   "source": [
    "save_json_mass_model(\n",
    "    mass_model=glycolysis,\n",
    "    filename=os.path.join(model_dir, glycolysis.id + \".json\"))"
   ]
  },
  {
   "cell_type": "code",
   "execution_count": null,
   "metadata": {},
   "outputs": [],
   "source": []
  }
 ],
 "metadata": {
  "kernelspec": {
   "display_name": "Python 3",
   "language": "python",
   "name": "python3"
  },
  "language_info": {
   "codemirror_mode": {
    "name": "ipython",
    "version": 3
   },
   "file_extension": ".py",
   "mimetype": "text/x-python",
   "name": "python",
   "nbconvert_exporter": "python",
   "pygments_lexer": "ipython3",
   "version": "3.8.3"
  }
 },
 "nbformat": 4,
 "nbformat_minor": 4
}
