{
 "cells": [
  {
   "cell_type": "code",
   "execution_count": 1,
   "metadata": {},
   "outputs": [
    {
     "name": "stdout",
     "output_type": "stream",
     "text": [
      "Requirement already satisfied: helium in /Users/shulingzhang/opt/anaconda3/lib/python3.7/site-packages (3.0.5)\n",
      "Requirement already satisfied: selenium==3.141.0 in /Users/shulingzhang/opt/anaconda3/lib/python3.7/site-packages (from helium) (3.141.0)\n",
      "Requirement already satisfied: urllib3 in /Users/shulingzhang/opt/anaconda3/lib/python3.7/site-packages (from selenium==3.141.0->helium) (1.24.2)\n",
      "Note: you may need to restart the kernel to use updated packages.\n"
     ]
    }
   ],
   "source": [
    "pip install helium\n"
   ]
  },
  {
   "cell_type": "code",
   "execution_count": 2,
   "metadata": {},
   "outputs": [],
   "source": [
    "from helium import *\n",
    "import pandas as pd\n",
    "from time import sleep"
   ]
  },
  {
   "cell_type": "code",
   "execution_count": 3,
   "metadata": {},
   "outputs": [
    {
     "data": {
      "text/html": [
       "<div>\n",
       "<style scoped>\n",
       "    .dataframe tbody tr th:only-of-type {\n",
       "        vertical-align: middle;\n",
       "    }\n",
       "\n",
       "    .dataframe tbody tr th {\n",
       "        vertical-align: top;\n",
       "    }\n",
       "\n",
       "    .dataframe thead th {\n",
       "        text-align: right;\n",
       "    }\n",
       "</style>\n",
       "<table border=\"1\" class=\"dataframe\">\n",
       "  <thead>\n",
       "    <tr style=\"text-align: right;\">\n",
       "      <th></th>\n",
       "      <th>Reaction</th>\n",
       "    </tr>\n",
       "  </thead>\n",
       "  <tbody>\n",
       "    <tr>\n",
       "      <th>0</th>\n",
       "      <td>CSm</td>\n",
       "    </tr>\n",
       "    <tr>\n",
       "      <th>1</th>\n",
       "      <td>ACONTm</td>\n",
       "    </tr>\n",
       "    <tr>\n",
       "      <th>2</th>\n",
       "      <td>ICDHxm</td>\n",
       "    </tr>\n",
       "  </tbody>\n",
       "</table>\n",
       "</div>"
      ],
      "text/plain": [
       "  Reaction\n",
       "0      CSm\n",
       "1   ACONTm\n",
       "2   ICDHxm"
      ]
     },
     "execution_count": 3,
     "metadata": {},
     "output_type": "execute_result"
    }
   ],
   "source": [
    "ID_table = pd.read_excel(\"rxn_testing.xlsx\")\n",
    "ID_table"
   ]
  },
  {
   "cell_type": "code",
   "execution_count": 4,
   "metadata": {},
   "outputs": [],
   "source": [
    "## Get all the rxn full names"
   ]
  },
  {
   "cell_type": "code",
   "execution_count": 5,
   "metadata": {},
   "outputs": [],
   "source": [
    "list_of_names = []\n",
    "list_of_urls = []\n",
    "\n",
    "n = len(ID_table.Reaction)\n",
    "\n",
    "for i in range(n):\n",
    "    names = ID_table.loc[i, 'Reaction']\n",
    "    url = 'http://bigg.ucsd.edu/universal/reactions/'+ str(names)\n",
    "    \n",
    "    \n",
    "    list_of_names =  list_of_names+[str(names)]\n",
    "    list_of_urls = list_of_urls + [url]  "
   ]
  },
  {
   "cell_type": "code",
   "execution_count": 6,
   "metadata": {},
   "outputs": [
    {
     "data": {
      "text/plain": [
       "True"
      ]
     },
     "execution_count": 6,
     "metadata": {},
     "output_type": "execute_result"
    }
   ],
   "source": [
    "len(list_of_names) == len(ID_table.Reaction) == len(list_of_urls)"
   ]
  },
  {
   "cell_type": "code",
   "execution_count": 7,
   "metadata": {},
   "outputs": [
    {
     "name": "stdout",
     "output_type": "stream",
     "text": [
      "Done!\n"
     ]
    }
   ],
   "source": [
    "list_of_ECnumber = []\n",
    "amount_of_ECcount=[]\n",
    "list_of_noECnumber=[]\n",
    "No_BIGG_rxn=[]\n",
    "rxn_name_indexing =[]\n",
    "full_name = []\n",
    "\n",
    "n=len(list_of_names)\n",
    "for i in range(n): \n",
    "    url=list_of_urls[i]\n",
    "    browser = start_chrome(url,headless=True)\n",
    "    rxn_name=list_of_names[i]\n",
    "#click on the name\n",
    "    sleep(3)\n",
    "    \n",
    "    if Text(rxn_name).exists():\n",
    "        NAME = Text(below= 'Descriptive name:').value\n",
    "        full_name = full_name + [NAME]\n",
    "        \n",
    "        sleep(2)\n",
    "#check if have any EC numbers:\n",
    "        if Text(\"EC Number:\").exists():\n",
    "\n",
    "            ECnumber = Text(to_right_of=\"EC Number:\").value\n",
    "            list_of_ECnumber = list_of_ECnumber+[ECnumber]\n",
    "            rxn_name_indexing = rxn_name_indexing + [rxn_name]\n",
    "\n",
    "            \n",
    "\n",
    "    else:\n",
    "        print(\"no BIGG data found: \",  rxn_name)\n",
    "        No_BIGG_rxn=No_BIGG_rxn+[rxn_name]\n",
    "        list_of_noECnumber = list_of_noECnumber+[rxn_name]\n",
    "    \n",
    "    sleep(2)\n",
    "    kill_browser()\n",
    "    \n",
    "print('Done!')\n"
   ]
  },
  {
   "cell_type": "code",
   "execution_count": 8,
   "metadata": {},
   "outputs": [
    {
     "name": "stdout",
     "output_type": "stream",
     "text": [
      "['Citrate synthase', 'Aconitate hydratase', 'Isocitrate dehydrogenase NAD']\n"
     ]
    }
   ],
   "source": [
    "print(full_name)"
   ]
  },
  {
   "cell_type": "code",
   "execution_count": 9,
   "metadata": {},
   "outputs": [
    {
     "name": "stdout",
     "output_type": "stream",
     "text": [
      "['2.3.3.1', '4.2.1.3', '1.1.1.286']\n"
     ]
    }
   ],
   "source": [
    "print(list_of_ECnumber)"
   ]
  },
  {
   "cell_type": "markdown",
   "metadata": {},
   "source": [
    "### eQuilibrator"
   ]
  },
  {
   "cell_type": "code",
   "execution_count": 114,
   "metadata": {},
   "outputs": [
    {
     "name": "stdout",
     "output_type": "stream",
     "text": [
      "Citrate synthase  reaction: CoA + Citrate => H2O + Acetyl-CoA + Oxaloacetate\n"
     ]
    }
   ],
   "source": [
    "#Testing\n",
    "\n",
    "#Searching by EC #, double-checking with reaction name\n",
    "url ='http://equilibrator.weizmann.ac.il/enzyme?ec='+list_of_ECnumber[0]\n",
    "browser = start_chrome(url)\n",
    "\n",
    "if Text(full_name[0]).exists():\n",
    "    rxn_eqn = Text(below= 'Reactions').value\n",
    "    sleep (1)\n",
    "    click(rxn_eqn)\n",
    "    print(full_name[0],' reaction:', rxn_eqn)\n",
    "    sleep(1.5)\n",
    "    \n",
    " ## Adjust ionic strength, pH, pMg if needed\n",
    "        #Change the pH\n",
    "    write('7.2', into = S('#phField'))\n",
    "        #Change the pMG\n",
    "    write('3.0', into = S('#pmgField'))\n",
    "        # Change the Ionic Strength\n",
    "    write('0.05', into = S('#ionStrengthField'))\n",
    "    #Submbit Changes\n",
    "    sleep(2)\n",
    "\n",
    "    click('UPDATE')\n",
    "    ## extract standard Gibbs Free Energy & the uncertainty\n",
    " \n",
    "\n"
   ]
  },
  {
   "cell_type": "code",
   "execution_count": null,
   "metadata": {},
   "outputs": [],
   "source": [
    "kill_browser()"
   ]
  },
  {
   "cell_type": "markdown",
   "metadata": {},
   "source": [
    "### Beautiful Soup"
   ]
  },
  {
   "cell_type": "code",
   "execution_count": 92,
   "metadata": {},
   "outputs": [],
   "source": [
    "from bs4 import BeautifulSoup\n",
    "import requests\n"
   ]
  },
  {
   "cell_type": "code",
   "execution_count": null,
   "metadata": {},
   "outputs": [],
   "source": []
  },
  {
   "cell_type": "code",
   "execution_count": null,
   "metadata": {},
   "outputs": [],
   "source": []
  },
  {
   "cell_type": "code",
   "execution_count": null,
   "metadata": {},
   "outputs": [],
   "source": []
  },
  {
   "cell_type": "code",
   "execution_count": null,
   "metadata": {},
   "outputs": [],
   "source": []
  },
  {
   "cell_type": "code",
   "execution_count": null,
   "metadata": {},
   "outputs": [],
   "source": []
  },
  {
   "cell_type": "code",
   "execution_count": null,
   "metadata": {},
   "outputs": [],
   "source": []
  },
  {
   "cell_type": "markdown",
   "metadata": {},
   "source": [
    "##### EXTRA:"
   ]
  },
  {
   "cell_type": "code",
   "execution_count": null,
   "metadata": {},
   "outputs": [],
   "source": [
    "n=len(list_of_names)\n",
    "for i in range(n): \n",
    "    eQ_url = 'http://equilibrator.weizmann.ac.il' \n",
    "    browser = start_chrome(url,headless=True)\n",
    "    write(full_name[i], into=text)\n"
   ]
  },
  {
   "cell_type": "code",
   "execution_count": 82,
   "metadata": {},
   "outputs": [
    {
     "name": "stdout",
     "output_type": "stream",
     "text": [
      "\n"
     ]
    }
   ],
   "source": [
    "keq2 = Text(below=keq).value\n",
    "print(keq2)"
   ]
  },
  {
   "cell_type": "code",
   "execution_count": 48,
   "metadata": {},
   "outputs": [],
   "source": [
    "eQ_url = 'http://equilibrator.weizmann.ac.il'  \n",
    "browser = start_chrome(eQ_url)\n",
    "write(full_name[0], into= 'Type a single compound/enzyme name, or a full reaction (using \"=\" to separate the two sides)')\n",
    "press(ENTER)\n",
    "\n"
   ]
  }
 ],
 "metadata": {
  "kernelspec": {
   "display_name": "Python 3",
   "language": "python",
   "name": "python3"
  },
  "language_info": {
   "codemirror_mode": {
    "name": "ipython",
    "version": 3
   },
   "file_extension": ".py",
   "mimetype": "text/x-python",
   "name": "python",
   "nbconvert_exporter": "python",
   "pygments_lexer": "ipython3",
   "version": "3.7.4"
  }
 },
 "nbformat": 4,
 "nbformat_minor": 2
}
