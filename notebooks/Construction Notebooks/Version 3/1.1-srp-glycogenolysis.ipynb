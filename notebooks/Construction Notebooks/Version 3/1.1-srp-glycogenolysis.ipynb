{
 "cells": [
  {
   "cell_type": "markdown",
   "metadata": {},
   "source": [
    "# Liver Model Construction: Notebook-Glycogenolysis"
   ]
  },
  {
   "cell_type": "markdown",
   "metadata": {},
   "source": [
    "## Setup workflow"
   ]
  },
  {
   "cell_type": "markdown",
   "metadata": {},
   "source": [
    "### Import packages"
   ]
  },
  {
   "cell_type": "code",
   "execution_count": 1,
   "metadata": {},
   "outputs": [
    {
     "name": "stdout",
     "output_type": "stream",
     "text": [
      "MASSpy version: 0.1.1\n"
     ]
    }
   ],
   "source": [
    "import os\n",
    "import warnings\n",
    "from cobra.io.json import load_json_model as load_json_cobra_model\n",
    "import escher\n",
    "import mass\n",
    "import numpy as np\n",
    "import pandas as pd\n",
    "import sympy as sym\n",
    "from cobra import Model, Reaction, Metabolite\n",
    "import cobra.test\n",
    "from os.path import join\n",
    "from mass.util import qcqa_model\n",
    "from cobra import DictList\n",
    "from mass import (\n",
    "    MassConfiguration, MassMetabolite, MassModel,\n",
    "    MassReaction, Simulation, UnitDefinition)\n",
    "from mass.io.json import save_json_model as save_json_mass_model\n",
    "from mass.visualization import plot_comparison, plot_time_profile\n",
    "mass_config = MassConfiguration()\n",
    "mass_config.irreversible_Keq = float(\"inf\")\n",
    "print(\"MASSpy version: {0}\".format(mass.__version__))\n",
    "from six import iteritems\n",
    "import matplotlib.pyplot as plt\n",
    "from mass.thermo import (\n",
    "    ConcSolver, sample_concentrations,\n",
    "    update_model_with_concentration_solution)"
   ]
  },
  {
   "cell_type": "markdown",
   "metadata": {},
   "source": [
    "## Set paths and constants"
   ]
  },
  {
   "cell_type": "code",
   "execution_count": 2,
   "metadata": {},
   "outputs": [],
   "source": [
    "seed = int(4)\n",
    "#increase number of models from before\n",
    "n_models = 20\n",
    "\n",
    "mass_config = MassConfiguration()\n",
    "mass_config.solver = \"cplex\""
   ]
  },
  {
   "cell_type": "code",
   "execution_count": null,
   "metadata": {},
   "outputs": [],
   "source": []
  },
  {
   "cell_type": "markdown",
   "metadata": {},
   "source": [
    "### Directory paths"
   ]
  },
  {
   "cell_type": "code",
   "execution_count": 3,
   "metadata": {},
   "outputs": [],
   "source": [
    "#had to remove the mass\n",
    "model_dir = os.path.abspath(\"../mass_user/models\")\n",
    "maps_dir = os.path.abspath(\"../mass_user/maps\")\n",
    "data_dir = os.path.abspath(\"../mass_user/data\")"
   ]
  },
  {
   "cell_type": "code",
   "execution_count": 4,
   "metadata": {},
   "outputs": [],
   "source": [
    "# Allow Escher to close without pop-up\n",
    "escher.rc['never_ask_before_quit'] = True\n"
   ]
  },
  {
   "cell_type": "markdown",
   "metadata": {},
   "source": [
    "### Load COBRA model"
   ]
  },
  {
   "cell_type": "code",
   "execution_count": 5,
   "metadata": {},
   "outputs": [
    {
     "data": {
      "text/html": [
       "\n",
       "        <table>\n",
       "            <tr>\n",
       "                <td><strong>Name</strong></td>\n",
       "                <td>None</td>\n",
       "            </tr><tr>\n",
       "                <td><strong>Memory address</strong></td>\n",
       "                <td>0x07fd822f8f410</td>\n",
       "            </tr><tr>\n",
       "                <td><strong>Number of metabolites</strong></td>\n",
       "                <td>178</td>\n",
       "            </tr><tr>\n",
       "                <td><strong>Number of reactions</strong></td>\n",
       "                <td>187</td>\n",
       "            </tr><tr>\n",
       "                <td><strong>Number of groups</strong></td>\n",
       "                <td>0</td>\n",
       "            </tr><tr>\n",
       "                <td><strong>Objective expression</strong></td>\n",
       "                <td>1.0*ATPM - 1.0*ATPM_reverse_5b752</td>\n",
       "            </tr><tr>\n",
       "                <td><strong>Compartments</strong></td>\n",
       "                <td>m, i, c, r, </td>\n",
       "            </tr>\n",
       "          </table>"
      ],
      "text/plain": [
       "<Model None at 0x7fd822f8f410>"
      ]
     },
     "execution_count": 5,
     "metadata": {},
     "output_type": "execute_result"
    }
   ],
   "source": [
    "core_model=load_json_cobra_model(filename=os.path.join(model_dir,\"CoreModel.json\"))\n",
    "core_model"
   ]
  },
  {
   "cell_type": "code",
   "execution_count": 6,
   "metadata": {},
   "outputs": [],
   "source": [
    "# core_model.remove_reactions(EX_glc__D_c)"
   ]
  },
  {
   "cell_type": "code",
   "execution_count": 7,
   "metadata": {},
   "outputs": [],
   "source": [
    "# core_model.remove_reactions([EX_glc__D_c])"
   ]
  },
  {
   "cell_type": "code",
   "execution_count": 8,
   "metadata": {},
   "outputs": [
    {
     "data": {
      "text/plain": [
       "[<Reaction EX_h_c at 0x7fd822b3db50>,\n",
       " <Reaction EX_pyr_c at 0x7fd822b3ddd0>,\n",
       " <Reaction EX_h2o_c at 0x7fd822b3d810>,\n",
       " <Reaction EX_pi_c at 0x7fd822b45890>,\n",
       " <Reaction EX_glc__D_c at 0x7fd822b45490>,\n",
       " <Reaction EX_lac__L_c at 0x7fd822b45990>,\n",
       " <Reaction EX_co2_c at 0x7fd822b45a90>,\n",
       " <Reaction EX_o2_c at 0x7fd822b45b90>,\n",
       " <Reaction EX_octa_prod_c at 0x7fd822b45c90>,\n",
       " <Reaction EX_octa_cons_c at 0x7fd822b45d90>,\n",
       " <Reaction EX_urea_c at 0x7fd822b45e90>,\n",
       " <Reaction EX_gln__L_c at 0x7fd822b45f90>,\n",
       " <Reaction EX_acetone_c at 0x7fd822b45210>,\n",
       " <Reaction EX_bhb_c at 0x7fd822e8d2d0>,\n",
       " <Reaction EX_glu__L_c at 0x7fd822e8d1d0>,\n",
       " <Reaction EX_ser__L_c at 0x7fd822e8d3d0>,\n",
       " <Reaction EX_cys__L_c at 0x7fd822e8d4d0>,\n",
       " <Reaction EX_gly_c at 0x7fd822e8d5d0>,\n",
       " <Reaction EX_glygn2_c at 0x7fd822e8d6d0>,\n",
       " <Reaction EX_Tyr_ggn_c at 0x7fd822e8d7d0>,\n",
       " <Reaction EX_ala__L_c at 0x7fd822e8d8d0>,\n",
       " <Reaction EX_nh4_c at 0x7fd822e8d9d0>,\n",
       " <Reaction EX_so3_c at 0x7fd822e8dad0>,\n",
       " <Reaction EX_etoh_c at 0x7fd822e8dbd0>,\n",
       " <Reaction EX_glyc_3octa_c at 0x7fd822e8dcd0>,\n",
       " <Reaction EX_fru_c at 0x7fd822e8ddd0>]"
      ]
     },
     "execution_count": 8,
     "metadata": {},
     "output_type": "execute_result"
    }
   ],
   "source": [
    "core_model.boundary"
   ]
  },
  {
   "cell_type": "code",
   "execution_count": 9,
   "metadata": {},
   "outputs": [],
   "source": [
    "## adding reactions from Recon3D\n",
    "R3D=load_json_cobra_model(filename=os.path.join(model_dir,\"Recon3D.json\"))"
   ]
  },
  {
   "cell_type": "code",
   "execution_count": 10,
   "metadata": {},
   "outputs": [],
   "source": [
    "## adding reactions from glycogenloysis \n",
    "gly=load_json_cobra_model(filename=os.path.join(model_dir,\"Glycogenolysis.json\"))"
   ]
  },
  {
   "cell_type": "code",
   "execution_count": 11,
   "metadata": {},
   "outputs": [],
   "source": [
    "## change after double checking this, maybe not needed to be added to core?\n",
    "a= R3D.reactions.EX_glc__D_e\n",
    "b= R3D.reactions.GLCt1\n",
    "g= gly.reactions.SK_g6p_c\n",
    "new_r_list=[\n",
    "            a,\n",
    "            b,\n",
    "            g\n",
    "    \n",
    "]\n"
   ]
  },
  {
   "cell_type": "code",
   "execution_count": 12,
   "metadata": {},
   "outputs": [],
   "source": [
    "for x in new_r_list:\n",
    "    c= x\n",
    "    core_model.add_reaction(c)"
   ]
  },
  {
   "cell_type": "markdown",
   "metadata": {},
   "source": [
    "## View Escher map"
   ]
  },
  {
   "cell_type": "code",
   "execution_count": 13,
   "metadata": {},
   "outputs": [
    {
     "data": {
      "application/vnd.jupyter.widget-view+json": {
       "model_id": "c555fc9d555e4b6da1eea9f255e78cf5",
       "version_major": 2,
       "version_minor": 0
      },
      "text/plain": [
       "Builder(highlight_missing=True, never_ask_before_quit=True)"
      ]
     },
     "metadata": {},
     "output_type": "display_data"
    }
   ],
   "source": [
    "#view all the reactions that we need build\n",
    "escher_builder = escher.Builder(\n",
    "    model=core_model,\n",
    "    map_json=os.path.join(\n",
    "        maps_dir, \".\".join((\n",
    "            \"Glycogenolysis\", \"map\", \"json\"))\n",
    "    ),\n",
    "    highlight_missing=True)\n",
    "\n",
    "escher_builder\n"
   ]
  },
  {
   "cell_type": "markdown",
   "metadata": {},
   "source": [
    "### Loading Measured Fluxes"
   ]
  },
  {
   "cell_type": "code",
   "execution_count": 14,
   "metadata": {},
   "outputs": [],
   "source": [
    "def load_data(filepath, sheet_name):\n",
    "    \"\"\"Load Liver data from an excel sheet\"\"\"\n",
    "    df = pd.read_excel(engine='openpyxl',\n",
    "        io=filepath,\n",
    "        sheet_name=sheet_name,\n",
    "        index_col=0)\n",
    "    return df"
   ]
  },
  {
   "cell_type": "code",
   "execution_count": 15,
   "metadata": {},
   "outputs": [
    {
     "data": {
      "text/html": [
       "<div>\n",
       "<style scoped>\n",
       "    .dataframe tbody tr th:only-of-type {\n",
       "        vertical-align: middle;\n",
       "    }\n",
       "\n",
       "    .dataframe tbody tr th {\n",
       "        vertical-align: top;\n",
       "    }\n",
       "\n",
       "    .dataframe thead th {\n",
       "        text-align: right;\n",
       "    }\n",
       "</style>\n",
       "<table border=\"1\" class=\"dataframe\">\n",
       "  <thead>\n",
       "    <tr style=\"text-align: right;\">\n",
       "      <th></th>\n",
       "      <th>Flux(mmol/(gDW*hr))</th>\n",
       "    </tr>\n",
       "    <tr>\n",
       "      <th>ID</th>\n",
       "      <th></th>\n",
       "    </tr>\n",
       "  </thead>\n",
       "  <tbody>\n",
       "    <tr>\n",
       "      <th>GLCter</th>\n",
       "      <td>-0.001682</td>\n",
       "    </tr>\n",
       "    <tr>\n",
       "      <th>G6PPer</th>\n",
       "      <td>0.001682</td>\n",
       "    </tr>\n",
       "    <tr>\n",
       "      <th>G6Pter</th>\n",
       "      <td>0.001682</td>\n",
       "    </tr>\n",
       "    <tr>\n",
       "      <th>GLPASE1</th>\n",
       "      <td>0.000223</td>\n",
       "    </tr>\n",
       "    <tr>\n",
       "      <th>PGMT</th>\n",
       "      <td>0.000223</td>\n",
       "    </tr>\n",
       "    <tr>\n",
       "      <th>EX_glygn2_c</th>\n",
       "      <td>-0.000223</td>\n",
       "    </tr>\n",
       "    <tr>\n",
       "      <th>GAPD</th>\n",
       "      <td>-0.002919</td>\n",
       "    </tr>\n",
       "    <tr>\n",
       "      <th>PGK</th>\n",
       "      <td>0.002919</td>\n",
       "    </tr>\n",
       "    <tr>\n",
       "      <th>PGM</th>\n",
       "      <td>0.002919</td>\n",
       "    </tr>\n",
       "    <tr>\n",
       "      <th>ENO</th>\n",
       "      <td>-0.002919</td>\n",
       "    </tr>\n",
       "    <tr>\n",
       "      <th>TPI</th>\n",
       "      <td>0.000000</td>\n",
       "    </tr>\n",
       "    <tr>\n",
       "      <th>FBA</th>\n",
       "      <td>-0.002919</td>\n",
       "    </tr>\n",
       "    <tr>\n",
       "      <th>FBP</th>\n",
       "      <td>0.002919</td>\n",
       "    </tr>\n",
       "    <tr>\n",
       "      <th>PFK</th>\n",
       "      <td>0.000000</td>\n",
       "    </tr>\n",
       "    <tr>\n",
       "      <th>PGI</th>\n",
       "      <td>-0.002919</td>\n",
       "    </tr>\n",
       "    <tr>\n",
       "      <th>PEPCKm</th>\n",
       "      <td>0.004877</td>\n",
       "    </tr>\n",
       "    <tr>\n",
       "      <th>PCm</th>\n",
       "      <td>0.004685</td>\n",
       "    </tr>\n",
       "    <tr>\n",
       "      <th>LDH_L</th>\n",
       "      <td>0.002727</td>\n",
       "    </tr>\n",
       "    <tr>\n",
       "      <th>PYK</th>\n",
       "      <td>0.001951</td>\n",
       "    </tr>\n",
       "    <tr>\n",
       "      <th>ME2</th>\n",
       "      <td>0.001951</td>\n",
       "    </tr>\n",
       "    <tr>\n",
       "      <th>CSm</th>\n",
       "      <td>0.002903</td>\n",
       "    </tr>\n",
       "    <tr>\n",
       "      <th>MDHm</th>\n",
       "      <td>0.003095</td>\n",
       "    </tr>\n",
       "    <tr>\n",
       "      <th>EX_lac__L_c</th>\n",
       "      <td>-0.001759</td>\n",
       "    </tr>\n",
       "    <tr>\n",
       "      <th>EX_glc__D_c</th>\n",
       "      <td>0.001682</td>\n",
       "    </tr>\n",
       "  </tbody>\n",
       "</table>\n",
       "</div>"
      ],
      "text/plain": [
       "              Flux(mmol/(gDW*hr))\n",
       "ID                               \n",
       "GLCter                  -0.001682\n",
       "G6PPer                   0.001682\n",
       "G6Pter                   0.001682\n",
       "GLPASE1                  0.000223\n",
       "PGMT                     0.000223\n",
       "EX_glygn2_c             -0.000223\n",
       "GAPD                    -0.002919\n",
       "PGK                      0.002919\n",
       "PGM                      0.002919\n",
       "ENO                     -0.002919\n",
       "TPI                      0.000000\n",
       "FBA                     -0.002919\n",
       "FBP                      0.002919\n",
       "PFK                      0.000000\n",
       "PGI                     -0.002919\n",
       "PEPCKm                   0.004877\n",
       "PCm                      0.004685\n",
       "LDH_L                    0.002727\n",
       "PYK                      0.001951\n",
       "ME2                      0.001951\n",
       "CSm                      0.002903\n",
       "MDHm                     0.003095\n",
       "EX_lac__L_c             -0.001759\n",
       "EX_glc__D_c              0.001682"
      ]
     },
     "execution_count": 15,
     "metadata": {},
     "output_type": "execute_result"
    }
   ],
   "source": [
    "#define data sheet as latest data sheet\n",
    "data_sheet=os.path.join(data_dir,\"1.10-sz-data-collection.xlsx\")\n",
    "\n",
    "flux_df = load_data(\n",
    "    filepath=data_sheet,\n",
    "    sheet_name=\"Fluxes\").drop(\"Fasting Time\", axis=1).drop(\"Additional Notes\", axis=1).drop(\"Unnamed: 4\", axis=1).drop(\"Unnamed: 5\", axis=1)\n",
    "    ## weird anomaly, shouldn't happen * unnames:4 and 5\n",
    "\n",
    "flux_df = flux_df.dropna() #drops rows with NaN\n",
    "flux_df\n"
   ]
  },
  {
   "cell_type": "code",
   "execution_count": 16,
   "metadata": {},
   "outputs": [],
   "source": [
    "v_vars = []\n",
    "v_data = []\n",
    "\n",
    "# How much flux to allow through irreversible reaction pairs\n",
    "# e.g, PFK/FBP & reverse_flux_percent = 0.1, raise both fluxes by 10% of non-zero flux value\n",
    "reverse_flux_percent = 0.1\n",
    "irreversible_enzyme_pairs = [\"PFK\", \"FBP\"]"
   ]
  },
  {
   "cell_type": "code",
   "execution_count": 17,
   "metadata": {},
   "outputs": [
    {
     "data": {
      "text/plain": [
       "[<Reaction CSm at 0x7fd822f1bb50>,\n",
       " <Reaction ACONTm at 0x7fd822f1bb10>,\n",
       " <Reaction ICDHxm at 0x7fd822f1bb90>,\n",
       " <Reaction AKGDm at 0x7fd822f1bbd0>,\n",
       " <Reaction SUCOASm at 0x7fd822f281d0>,\n",
       " <Reaction SUCD1m at 0x7fd822f28190>,\n",
       " <Reaction FUMm at 0x7fd822f28dd0>,\n",
       " <Reaction MDHm at 0x7fd822f280d0>,\n",
       " <Reaction NADH2_u10mi at 0x7fd822f2dd90>,\n",
       " <Reaction FADH2ETC at 0x7fd822f28e10>,\n",
       " <Reaction CYOR_u10mi at 0x7fd822f36250>,\n",
       " <Reaction CYOOm2i at 0x7fd822f362d0>,\n",
       " <Reaction ATPS4mi at 0x7fd822ed0e50>,\n",
       " <Reaction Htmi at 0x7fd822f36c50>,\n",
       " <Reaction HEX1 at 0x7fd822f36210>,\n",
       " <Reaction PGI at 0x7fd822f36f90>,\n",
       " <Reaction PFK at 0x7fd822ecd810>,\n",
       " <Reaction FBA at 0x7fd822ecd610>,\n",
       " <Reaction TPI at 0x7fd822f44c90>,\n",
       " <Reaction GAPD at 0x7fd822f441d0>,\n",
       " <Reaction PGK at 0x7fd822f44210>,\n",
       " <Reaction PGM at 0x7fd822dfa110>,\n",
       " <Reaction ENO at 0x7fd822dfa590>,\n",
       " <Reaction PYK at 0x7fd822dfa2d0>,\n",
       " <Reaction ADK1 at 0x7fd822dfb090>,\n",
       " <Reaction PDHm at 0x7fd822dfbb90>,\n",
       " <Reaction LDH_L at 0x7fd822dfc810>,\n",
       " <Reaction G6PDH2r at 0x7fd822dfc1d0>,\n",
       " <Reaction PGL at 0x7fd822dfc7d0>,\n",
       " <Reaction GND at 0x7fd822dfec90>,\n",
       " <Reaction RPI at 0x7fd822dfcd90>,\n",
       " <Reaction RPE at 0x7fd822df8c90>,\n",
       " <Reaction TKT1 at 0x7fd822df8e50>,\n",
       " <Reaction TKT2 at 0x7fd822df8910>,\n",
       " <Reaction TALA at 0x7fd822dbf150>,\n",
       " <Reaction PCm at 0x7fd822dbf250>,\n",
       " <Reaction PEPCKm at 0x7fd822dbf390>,\n",
       " <Reaction FBP at 0x7fd822dbf410>,\n",
       " <Reaction G6PPer at 0x7fd822dc0250>,\n",
       " <Reaction G6Pter at 0x7fd822dc0790>,\n",
       " <Reaction GLCter at 0x7fd822dc0890>,\n",
       " <Reaction MALtm at 0x7fd822dc0d90>,\n",
       " <Reaction MDH at 0x7fd822dc7950>,\n",
       " <Reaction PEPCK_re at 0x7fd822dc7a10>,\n",
       " <Reaction PGMT at 0x7fd822dc7910>,\n",
       " <Reaction GALUi at 0x7fd822dc76d0>,\n",
       " <Reaction GLGNS1 at 0x7fd822dc7f50>,\n",
       " <Reaction GLBRAN at 0x7fd822dc8490>,\n",
       " <Reaction GLPASE1 at 0x7fd822dc88d0>,\n",
       " <Reaction GLDBRAN at 0x7fd822dc8b90>,\n",
       " <Reaction GLPASE2 at 0x7fd822dcb110>,\n",
       " <Reaction GGNG at 0x7fd822dcbe90>,\n",
       " <Reaction ACACT1m at 0x7fd822eda950>,\n",
       " <Reaction HMGCOASm at 0x7fd822edaad0>,\n",
       " <Reaction HMGLm at 0x7fd822eda450>,\n",
       " <Reaction ADCim at 0x7fd822eeb550>,\n",
       " <Reaction BDHm at 0x7fd822eda910>,\n",
       " <Reaction OCOAT1m at 0x7fd822eebf90>,\n",
       " <Reaction NDPK1 at 0x7fd822ef20d0>,\n",
       " <Reaction NDPK1m at 0x7fd822ef2350>,\n",
       " <Reaction NDPK2 at 0x7fd822ef2790>,\n",
       " <Reaction HCO3Em at 0x7fd822eff090>,\n",
       " <Reaction ATPtm at 0x7fd822eff750>,\n",
       " <Reaction AKGMALtm at 0x7fd822eff4d0>,\n",
       " <Reaction ASPTA at 0x7fd822efffd0>,\n",
       " <Reaction ASPTAm at 0x7fd822eff990>,\n",
       " <Reaction CITtam at 0x7fd822f04b90>,\n",
       " <Reaction CITL at 0x7fd822f044d0>,\n",
       " <Reaction ME2 at 0x7fd822f0b7d0>,\n",
       " <Reaction ACS at 0x7fd822f0b410>,\n",
       " <Reaction ARGN at 0x7fd822f0b090>,\n",
       " <Reaction OCBTm at 0x7fd822f0bc50>,\n",
       " <Reaction ARGSS at 0x7fd822d5b3d0>,\n",
       " <Reaction ARGSL at 0x7fd822d5ba10>,\n",
       " <Reaction CBPSam at 0x7fd822d5b910>,\n",
       " <Reaction NH4tm at 0x7fd822d618d0>,\n",
       " <Reaction GDHm at 0x7fd822d61c90>,\n",
       " <Reaction GLNS at 0x7fd822d61310>,\n",
       " <Reaction GLUN at 0x7fd822d61cd0>,\n",
       " <Reaction ALATA_L at 0x7fd822d6b350>,\n",
       " <Reaction CYSO at 0x7fd822d6b2d0>,\n",
       " <Reaction 3SALATAi at 0x7fd822d71650>,\n",
       " <Reaction 3SPYRSP at 0x7fd822d71250>,\n",
       " <Reaction PGCD at 0x7fd822d71ed0>,\n",
       " <Reaction PSERT at 0x7fd822d71e50>,\n",
       " <Reaction PSP_L at 0x7fd822d79790>,\n",
       " <Reaction GHMT2r at 0x7fd822d719d0>,\n",
       " <Reaction ASNS1 at 0x7fd822d79b50>,\n",
       " <Reaction GLYtm at 0x7fd822d7f390>,\n",
       " <Reaction MLTHFtm at 0x7fd822d79310>,\n",
       " <Reaction THFtm at 0x7fd822d79b90>,\n",
       " <Reaction KHK at 0x7fd822d79fd0>,\n",
       " <Reaction FBA2 at 0x7fd822d87150>,\n",
       " <Reaction TRIOK at 0x7fd822d877d0>,\n",
       " <Reaction ALCD19y at 0x7fd822d87190>,\n",
       " <Reaction GLYK at 0x7fd822d871d0>,\n",
       " <Reaction 2AMACHYD at 0x7fd822d87f10>,\n",
       " <Reaction SERHL at 0x7fd822d87f50>,\n",
       " <Reaction ALCD2x at 0x7fd822d8f090>,\n",
       " <Reaction ACALDtm at 0x7fd822d87450>,\n",
       " <Reaction ALDD2xm at 0x7fd822f04510>,\n",
       " <Reaction ACSm at 0x7fd822d95810>,\n",
       " <Reaction Htm at 0x7fd822d95750>,\n",
       " <Reaction O2tm at 0x7fd822d95510>,\n",
       " <Reaction H2Otr at 0x7fd822d9cd10>,\n",
       " <Reaction H2Otm at 0x7fd822d9c590>,\n",
       " <Reaction PItm at 0x7fd822d9cdd0>,\n",
       " <Reaction PItr at 0x7fd822d9ce10>,\n",
       " <Reaction CO2tm at 0x7fd822d9cfd0>,\n",
       " <Reaction PPA at 0x7fd822da53d0>,\n",
       " <Reaction HCO3E at 0x7fd822da5110>,\n",
       " <Reaction PEPtm at 0x7fd822da5590>,\n",
       " <Reaction PYRt2m at 0x7fd822da5890>,\n",
       " <Reaction ASPGLUm at 0x7fd822da5a50>,\n",
       " <Reaction THD1m at 0x7fd822da5c10>,\n",
       " <Reaction BHBtm at 0x7fd822da5f90>,\n",
       " <Reaction ACETONEt2m at 0x7fd822dae550>,\n",
       " <Reaction ORNt4m at 0x7fd822dae2d0>,\n",
       " <Reaction FUMtm at 0x7fd822daee10>,\n",
       " <Reaction GLUt2m at 0x7fd822db6290>,\n",
       " <Reaction GLYCLm at 0x7fd822db62d0>,\n",
       " <Reaction FACOAL80PROD at 0x7fd822db6650>,\n",
       " <Reaction GAPT at 0x7fd822db6e10>,\n",
       " <Reaction AGPTAT at 0x7fd822db6d50>,\n",
       " <Reaction LPIN at 0x7fd822dbca50>,\n",
       " <Reaction DGAT at 0x7fd822dbc1d0>,\n",
       " <Reaction ACCOAC at 0x7fd822dbcf50>,\n",
       " <Reaction MCOATA at 0x7fd822dbcf10>,\n",
       " <Reaction ACOATA at 0x7fd822dc6990>,\n",
       " <Reaction KAS14 at 0x7fd822dc62d0>,\n",
       " <Reaction 30AR40 at 0x7fd822dc6550>,\n",
       " <Reaction 3HAD40 at 0x7fd822b0f1d0>,\n",
       " <Reaction EAR40y at 0x7fd822b0f210>,\n",
       " <Reaction 30AS60 at 0x7fd822b0f590>,\n",
       " <Reaction 30AR60 at 0x7fd822b0fd10>,\n",
       " <Reaction 3HAD60 at 0x7fd822b0fd50>,\n",
       " <Reaction EAR60y at 0x7fd822b181d0>,\n",
       " <Reaction 30AS80 at 0x7fd822b18450>,\n",
       " <Reaction 30AR80 at 0x7fd822b18c90>,\n",
       " <Reaction 3HAD80 at 0x7fd822b18cd0>,\n",
       " <Reaction EAR80y at 0x7fd822b20150>,\n",
       " <Reaction FA80ACPHi at 0x7fd822b203d0>,\n",
       " <Reaction FACOAL80 at 0x7fd822b20c10>,\n",
       " <Reaction C80CPT1 at 0x7fd822b20c50>,\n",
       " <Reaction r2434 at 0x7fd822b28750>,\n",
       " <Reaction CRNtim at 0x7fd822b28350>,\n",
       " <Reaction r0636 at 0x7fd822b280d0>,\n",
       " <Reaction COAtim at 0x7fd822b28fd0>,\n",
       " <Reaction ACOAD3fm at 0x7fd822b28f90>,\n",
       " <Reaction ECOAH3m at 0x7fd822b2f6d0>,\n",
       " <Reaction HACD3m at 0x7fd822b2f390>,\n",
       " <Reaction ACACT3rm at 0x7fd822b2f890>,\n",
       " <Reaction ACOAD2fm at 0x7fd822b2fbd0>,\n",
       " <Reaction ECOAH2m at 0x7fd822b2fd90>,\n",
       " <Reaction HACD2m at 0x7fd822b36110>,\n",
       " <Reaction ACACT2rm at 0x7fd822b36390>,\n",
       " <Reaction ACOAD1fm at 0x7fd822b36790>,\n",
       " <Reaction ECOAH1m at 0x7fd822b36e10>,\n",
       " <Reaction HACD1m at 0x7fd822b36ad0>,\n",
       " <Reaction ACACT1rm at 0x7fd822b3d4d0>,\n",
       " <Reaction ATPM at 0x7fd822b3d0d0>,\n",
       " <Reaction EX_h_c at 0x7fd822b3db50>,\n",
       " <Reaction EX_pyr_c at 0x7fd822b3ddd0>,\n",
       " <Reaction EX_h2o_c at 0x7fd822b3d810>,\n",
       " <Reaction EX_pi_c at 0x7fd822b45890>,\n",
       " <Reaction EX_glc__D_c at 0x7fd822b45490>,\n",
       " <Reaction EX_lac__L_c at 0x7fd822b45990>,\n",
       " <Reaction EX_co2_c at 0x7fd822b45a90>,\n",
       " <Reaction EX_o2_c at 0x7fd822b45b90>,\n",
       " <Reaction EX_octa_prod_c at 0x7fd822b45c90>,\n",
       " <Reaction EX_octa_cons_c at 0x7fd822b45d90>,\n",
       " <Reaction EX_urea_c at 0x7fd822b45e90>,\n",
       " <Reaction EX_gln__L_c at 0x7fd822b45f90>,\n",
       " <Reaction EX_acetone_c at 0x7fd822b45210>,\n",
       " <Reaction EX_bhb_c at 0x7fd822e8d2d0>,\n",
       " <Reaction EX_glu__L_c at 0x7fd822e8d1d0>,\n",
       " <Reaction EX_ser__L_c at 0x7fd822e8d3d0>,\n",
       " <Reaction EX_cys__L_c at 0x7fd822e8d4d0>,\n",
       " <Reaction EX_gly_c at 0x7fd822e8d5d0>,\n",
       " <Reaction EX_glygn2_c at 0x7fd822e8d6d0>,\n",
       " <Reaction EX_Tyr_ggn_c at 0x7fd822e8d7d0>,\n",
       " <Reaction EX_ala__L_c at 0x7fd822e8d8d0>,\n",
       " <Reaction EX_nh4_c at 0x7fd822e8d9d0>,\n",
       " <Reaction EX_so3_c at 0x7fd822e8dad0>,\n",
       " <Reaction EX_etoh_c at 0x7fd822e8dbd0>,\n",
       " <Reaction EX_glyc_3octa_c at 0x7fd822e8dcd0>,\n",
       " <Reaction EX_fru_c at 0x7fd822e8ddd0>,\n",
       " <Reaction EX_glc__D_e at 0x7fd81cb22510>,\n",
       " <Reaction GLCt1 at 0x7fd81a82fe50>,\n",
       " <Reaction SK_g6p_c at 0x7fd821eaf8d0>]"
      ]
     },
     "execution_count": 17,
     "metadata": {},
     "output_type": "execute_result"
    }
   ],
   "source": [
    "core_model.reactions"
   ]
  },
  {
   "cell_type": "code",
   "execution_count": 18,
   "metadata": {},
   "outputs": [
    {
     "name": "stdout",
     "output_type": "stream",
     "text": [
      "GLCter: glc__D_c <=> glc__D_r\n",
      "G6PPer: g6p_r + h2o_r --> glc__D_r + pi_r\n",
      "G6Pter: g6p_c <=> g6p_r\n",
      "GLPASE1: glygn2_c + 3.0 pi_c --> dxtrn_c + 3.0 g1p_c\n",
      "PGMT: g1p_c <=> g6p_c\n",
      "EX_glygn2_c: glygn2_c --> \n",
      "GAPD: g3p_c + nad_c + pi_c <=> 13dpg_c + h_c + nadh_c\n",
      "PGK: 3pg_c + atp_c <=> 13dpg_c + adp_c\n",
      "PGM: 2pg_c <=> 3pg_c\n",
      "ENO: 2pg_c <=> h2o_c + pep_c\n",
      "TPI: dhap_c <=> g3p_c\n",
      "FBA: fdp_c <=> dhap_c + g3p_c\n",
      "FBP: fdp_c + h2o_c --> f6p_c + pi_c\n",
      "PFK: atp_c + f6p_c --> adp_c + fdp_c + h_c\n",
      "PGI: g6p_c <=> f6p_c\n",
      "PEPCKm: gtp_m + oaa_m --> co2_m + gdp_m + pep_m\n",
      "PCm: atp_m + hco3_m + pyr_m --> adp_m + h_m + oaa_m + pi_m\n",
      "LDH_L: lac__L_c + nad_c <=> h_c + nadh_c + pyr_c\n",
      "PYK: adp_c + h_c + pep_c --> atp_c + pyr_c\n"
     ]
    },
    {
     "ename": "KeyError",
     "evalue": "'ME2\\xa0'",
     "output_type": "error",
     "traceback": [
      "\u001b[0;31m---------------------------------------------------------------------------\u001b[0m",
      "\u001b[0;31mKeyError\u001b[0m                                  Traceback (most recent call last)",
      "\u001b[0;32m<ipython-input-18-dcf8e4f18a7e>\u001b[0m in \u001b[0;36m<module>\u001b[0;34m\u001b[0m\n\u001b[1;32m      1\u001b[0m \u001b[0;32mfor\u001b[0m \u001b[0mrid\u001b[0m\u001b[0;34m,\u001b[0m \u001b[0mflux\u001b[0m \u001b[0;32min\u001b[0m \u001b[0mflux_df\u001b[0m\u001b[0;34m.\u001b[0m\u001b[0mitertuples\u001b[0m\u001b[0;34m(\u001b[0m\u001b[0;34m)\u001b[0m\u001b[0;34m:\u001b[0m\u001b[0;34m\u001b[0m\u001b[0;34m\u001b[0m\u001b[0m\n\u001b[0;32m----> 2\u001b[0;31m     \u001b[0mreaction\u001b[0m \u001b[0;34m=\u001b[0m \u001b[0mcore_model\u001b[0m\u001b[0;34m.\u001b[0m\u001b[0mreactions\u001b[0m\u001b[0;34m.\u001b[0m\u001b[0mget_by_id\u001b[0m\u001b[0;34m(\u001b[0m\u001b[0mrid\u001b[0m\u001b[0;34m)\u001b[0m\u001b[0;34m\u001b[0m\u001b[0;34m\u001b[0m\u001b[0m\n\u001b[0m\u001b[1;32m      3\u001b[0m     \u001b[0mprint\u001b[0m\u001b[0;34m(\u001b[0m\u001b[0mreaction\u001b[0m\u001b[0;34m)\u001b[0m\u001b[0;34m\u001b[0m\u001b[0;34m\u001b[0m\u001b[0m\n",
      "\u001b[0;32m/usr/local/lib/python3.7/site-packages/cobra/core/dictlist.py\u001b[0m in \u001b[0;36mget_by_id\u001b[0;34m(self, id)\u001b[0m\n\u001b[1;32m     56\u001b[0m     \u001b[0;32mdef\u001b[0m \u001b[0mget_by_id\u001b[0m\u001b[0;34m(\u001b[0m\u001b[0mself\u001b[0m\u001b[0;34m,\u001b[0m \u001b[0mid\u001b[0m\u001b[0;34m)\u001b[0m\u001b[0;34m:\u001b[0m\u001b[0;34m\u001b[0m\u001b[0;34m\u001b[0m\u001b[0m\n\u001b[1;32m     57\u001b[0m         \u001b[0;34m\"\"\"return the element with a matching id\"\"\"\u001b[0m\u001b[0;34m\u001b[0m\u001b[0;34m\u001b[0m\u001b[0m\n\u001b[0;32m---> 58\u001b[0;31m         \u001b[0;32mreturn\u001b[0m \u001b[0mlist\u001b[0m\u001b[0;34m.\u001b[0m\u001b[0m__getitem__\u001b[0m\u001b[0;34m(\u001b[0m\u001b[0mself\u001b[0m\u001b[0;34m,\u001b[0m \u001b[0mself\u001b[0m\u001b[0;34m.\u001b[0m\u001b[0m_dict\u001b[0m\u001b[0;34m[\u001b[0m\u001b[0mid\u001b[0m\u001b[0;34m]\u001b[0m\u001b[0;34m)\u001b[0m\u001b[0;34m\u001b[0m\u001b[0;34m\u001b[0m\u001b[0m\n\u001b[0m\u001b[1;32m     59\u001b[0m \u001b[0;34m\u001b[0m\u001b[0m\n\u001b[1;32m     60\u001b[0m     \u001b[0;32mdef\u001b[0m \u001b[0mlist_attr\u001b[0m\u001b[0;34m(\u001b[0m\u001b[0mself\u001b[0m\u001b[0;34m,\u001b[0m \u001b[0mattribute\u001b[0m\u001b[0;34m)\u001b[0m\u001b[0;34m:\u001b[0m\u001b[0;34m\u001b[0m\u001b[0;34m\u001b[0m\u001b[0m\n",
      "\u001b[0;31mKeyError\u001b[0m: 'ME2\\xa0'"
     ]
    }
   ],
   "source": [
    "for rid, flux in flux_df.itertuples():\n",
    "    reaction = core_model.reactions.get_by_id(rid)\n",
    "    print(reaction)"
   ]
  },
  {
   "cell_type": "code",
   "execution_count": null,
   "metadata": {},
   "outputs": [],
   "source": [
    "core_model.reactions"
   ]
  },
  {
   "cell_type": "code",
   "execution_count": null,
   "metadata": {},
   "outputs": [],
   "source": [
    "for rid, flux in flux_df.itertuples():\n",
    "    reaction = core_model.reactions.get_by_id(rid)\n",
    "    #reaction.bounds = (flux, flux)\n",
    "    #set bounds for all boundary reactions \n",
    "    #uptake --> (-value, 1000)\n",
    "    #secretion --> (-1000 --> value)\n",
    "    #reversible --> (-1000,1000)\n",
    "    if (rid == \"EX_lac__L_c\"): #uptake\n",
    "        reaction = core_model.reactions.get_by_id(rid)\n",
    "        reaction.bounds = (0,1000) \n",
    "    elif (rid == \"EX_glc__L_c\"): #secretion\n",
    "        reaction = core_model.reactions.get_by_id(rid)\n",
    "        reaction.bounds = (-1000, 0) \n",
    "    elif (rid == \"EX_pyr_c\"): #uptake\n",
    "        reaction = core_model.reactions.get_by_id(rid)\n",
    "        reaction.bounds = (0, 1000) \n",
    "    elif (rid == \"EX_glygn2_c\"): #uptake\n",
    "        reaction = core_model.reactions.get_by_id(rid)\n",
    "        reaction.bounds = (-1, 1000) \n",
    "    for irreversible_enzyme_pair in irreversible_enzyme_pairs:\n",
    "        if rid in irreversible_enzyme_pair:\n",
    "            flux1, flux2 = flux_df.loc[irreversible_enzyme_pairs, \"Flux(mmol/(gDW*hr))\"].values\n",
    "            if flux1 == 0:\n",
    "                flux += reverse_flux_percent * flux2 # mmol*gDW^-1*hr^-1\n",
    "            if flux2 == 0:\n",
    "                flux += reverse_flux_percent * flux1 # mmol*gDW^-1*hr^-1\n",
    "   \n",
    "    #address irreversible enzyme pair boundary reactions if necessary\n",
    "\n",
    "    print(rid, flux)\n",
    "\n",
    "    v_vars.append(sym.Symbol(rid))\n",
    "    v_data.append(flux)\n",
    "    \n",
    "#print(v_vars)\n",
    "#print(v_data)\n"
   ]
  },
  {
   "cell_type": "code",
   "execution_count": null,
   "metadata": {},
   "outputs": [],
   "source": [
    "core_model.reactions"
   ]
  },
  {
   "cell_type": "code",
   "execution_count": null,
   "metadata": {},
   "outputs": [],
   "source": [
    "# Make symbolic for optlang objective \n",
    "v_vars = sym.Matrix(v_vars)\n",
    "v_data = sym.Matrix(v_data)\n",
    "\n",
    "F = sym.Matrix(2 * sym.eye(len(v_vars)))\n",
    "\n",
    "objective = 0.5 * v_vars.T * F * v_vars  - (2 * v_data).T * v_vars\n",
    "core_model.objective = objective[0]\n",
    "core_model.objective_direction = \"min\"\n",
    "\n",
    "flux_solution = core_model.optimize()"
   ]
  },
  {
   "cell_type": "code",
   "execution_count": null,
   "metadata": {},
   "outputs": [],
   "source": [
    "flux_solution"
   ]
  },
  {
   "cell_type": "code",
   "execution_count": null,
   "metadata": {},
   "outputs": [],
   "source": []
  },
  {
   "cell_type": "code",
   "execution_count": null,
   "metadata": {},
   "outputs": [],
   "source": [
    "flux_comparison_fig, ax = plt.subplots(nrows=1, ncols=1, figsize=(5, 5))\n",
    "plot_comparison(\n",
    "    x=flux_df[\"Flux (mmol/gDW*hr)\"], y=flux_solution, compare=\"fluxes\",\n",
    "    observable=[rid for rid in flux_df.index], ax=ax,\n",
    "    legend=\"right outside\", plot_function=\"plot\",\n",
    "    xlim=(-0.005,0.005), ylim=(-0.005, 0.005),\n",
    "    xy_line=True,\n",
    "    xy_legend=\"best\", xlabel=\"Measured [mmol/(gDW * h)]\", ylabel=\"Adjusted [mmol/(gDW * h)]\")\n",
    "\n",
    "flux_comparison_fig.tight_layout()\n",
    "#check directionality \n"
   ]
  },
  {
   "cell_type": "markdown",
   "metadata": {},
   "source": [
    "## Create MASS model"
   ]
  },
  {
   "cell_type": "code",
   "execution_count": null,
   "metadata": {},
   "outputs": [],
   "source": [
    "glycogenolysis = MassModel(\"Glycogenolysis\", array_type='DataFrame', dtype=np.int64)\n",
    "glycogenolysis"
   ]
  },
  {
   "cell_type": "markdown",
   "metadata": {},
   "source": [
    "### Define reactions"
   ]
  },
  {
   "cell_type": "code",
   "execution_count": null,
   "metadata": {},
   "outputs": [],
   "source": [
    "#add reactions one at a time\n",
    "reaction_list=[]\n",
    "reaction_list = ['HEX1',\n",
    "                 'GLCt1'\n",
    "#                  'G6Pter',\n",
    "#                  'G6PPer'\n",
    "#                 #'PGI',\n",
    "#                 #'FBP',\n",
    "#                 'PFK',\n",
    "#                 'FBA',\n",
    "#                 'TPI',\n",
    "#                 'GAPD',\n",
    "#                 'PGK',\n",
    "#                 'PGM',\n",
    "#                 'ENO',\n",
    "#                 #'PEPtm',\n",
    "#                 #'PEPCKm',\n",
    "#                 #'LDH_L',\n",
    "#                 'PYK'\n",
    "#                 #'PCm',\n",
    "#                 #'PYRt2m'\n",
    "                ]\n",
    "\n",
    "# a= R3D.reactions.EX_glc__D_e\n",
    "# b= R3D.reactions.GLCt1\n",
    "# g= gly.reactions.SK_g6p_c\n",
    "# new_r_list=[\n",
    "#             a,\n",
    "#             b,\n",
    "#             g\n",
    "    \n",
    "# ]\n"
   ]
  },
  {
   "cell_type": "code",
   "execution_count": null,
   "metadata": {},
   "outputs": [],
   "source": [
    "# Convert cobra.Reactions to mass.MassReactions\n",
    "for rid in reaction_list:\n",
    "    reaction = core_model.reactions.get_by_id(rid)\n",
    "    glycogenolysis.add_reactions([MassReaction(reaction)])"
   ]
  },
  {
   "cell_type": "code",
   "execution_count": null,
   "metadata": {},
   "outputs": [],
   "source": [
    "# for x in new_r_list:\n",
    "#     c= x\n",
    "#     core_model.add_reaction(c)"
   ]
  },
  {
   "cell_type": "markdown",
   "metadata": {},
   "source": [
    "##  Set Fluxes"
   ]
  },
  {
   "cell_type": "code",
   "execution_count": null,
   "metadata": {},
   "outputs": [],
   "source": [
    "for reaction, flux in flux_solution[reaction_list].iteritems():\n",
    "    reaction = glycogenolysis.reactions.get_by_id(reaction)\n",
    "    reaction.steady_state_flux = flux * 1278.605 / 1000 \n",
    "    # mmol/gdW*hr --> mmol/L * hr ---> mol/L*hr\n",
    "    print(\"{0}: {1}\".format(reaction.flux_symbol_str,\n",
    "                            reaction.steady_state_flux))"
   ]
  },
  {
   "cell_type": "markdown",
   "metadata": {},
   "source": [
    "## Set Keqs"
   ]
  },
  {
   "cell_type": "code",
   "execution_count": null,
   "metadata": {},
   "outputs": [],
   "source": [
    "# Load equilibrium constants\n",
    "Keq_df = pd.read_excel(engine='openpyxl',\n",
    "    io=data_sheet,\n",
    "    sheet_name=\"Keqs\",\n",
    "    index_col=0).drop(\"Reference\", axis=1).drop(\"Stoichiometry\", axis=1).drop('Keq unit', axis=1)\n",
    "\n",
    "Keq_df = Keq_df.dropna() #drops rows with NaN\n",
    "Keq_df\n",
    "\n",
    "Keq_df\n",
    "#Check the M units of Keq \n",
    "\n"
   ]
  },
  {
   "cell_type": "code",
   "execution_count": null,
   "metadata": {},
   "outputs": [],
   "source": [
    "Keq_list =[]\n",
    "for rid, Keq in Keq_df.itertuples():\n",
    "    if rid in reaction_list: \n",
    "        reaction = glycogenolysis.reactions.get_by_id(rid)\n",
    "        reaction.Keq = Keq\n",
    "        Keq_list.append(reaction.Keq)\n",
    "        print(\"{0}: {1}\".format(reaction.Keq_str, Keq))"
   ]
  },
  {
   "cell_type": "markdown",
   "metadata": {},
   "source": [
    "## Set H2O/H Constants"
   ]
  },
  {
   "cell_type": "code",
   "execution_count": null,
   "metadata": {},
   "outputs": [],
   "source": [
    "# Set concentrations of hydrogen, water as fixed\n",
    "# Assume hydrogen in all compartments are fixed \n",
    "for metabolite in [\n",
    "#     \"h2o_c\",\n",
    "    \"h_c\"\n",
    "#     \"glc__D_e\",\n",
    "#     'h20_r'\n",
    "    \n",
    "       #'h_i'\n",
    "       #'h_m' \n",
    "    #remove h_i and h_m if not mitochondrial reactions\n",
    "                  ]:\n",
    "    metabolite = glycogenolysis.metabolites.get_by_id(metabolite)\n",
    "    metabolite.fixed = True"
   ]
  },
  {
   "cell_type": "markdown",
   "metadata": {},
   "source": [
    "## Obtain Concentrations"
   ]
  },
  {
   "cell_type": "code",
   "execution_count": null,
   "metadata": {},
   "outputs": [],
   "source": [
    "#Load Concentration Data\n",
    "conc_df = load_data(\n",
    "    filepath=data_sheet,\n",
    "    sheet_name=\"Concentrations\").drop(\"Concentration (mM)\", axis=1)\n",
    "#conc_df = conc_df.drop(\"Name\", axis=1)\n",
    "conc_df = conc_df.drop(\"Additional Notes\", axis=1)\n",
    "conc_df = conc_df.dropna() #drops rows with NaN\n",
    "conc_df"
   ]
  },
  {
   "cell_type": "code",
   "execution_count": null,
   "metadata": {},
   "outputs": [],
   "source": [
    "#Set Concentrations\n",
    "\n",
    "metabolite_list = [\n",
    "# HEX1    \n",
    "    'glc__D_c',\n",
    "    'g6p_c',\n",
    "    'adp_c',\n",
    "    'atp_c',\n",
    "    #'pi_c',\n",
    "    'h_c',\n",
    "# GLCt1\n",
    "    'glc__D_e'\n",
    "# #G6Pter\n",
    "#             'g6p_r',\n",
    "# #G6PPer \n",
    "#             'h2o_r',\n",
    "#             'glc__D_r',\n",
    "#             'pi_r'\n",
    "            \n",
    "                  ]"
   ]
  },
  {
   "cell_type": "code",
   "execution_count": null,
   "metadata": {},
   "outputs": [],
   "source": [
    "met_list = []\n",
    "for mid, name, conc in conc_df.itertuples():\n",
    "    if mid in metabolite_list: \n",
    "        metabolite = glycogenolysis.metabolites.get_by_id(mid)\n",
    "        metabolite.name = name\n",
    "        \n",
    "        metabolite.ic = conc #data sheet is in M units\n",
    "        met_list.append(metabolite.ic)"
   ]
  },
  {
   "cell_type": "code",
   "execution_count": null,
   "metadata": {},
   "outputs": [],
   "source": [
    "for metabolite in [\n",
    "    #'h_i',\n",
    "    #'h_m',\n",
    "    \"h_c\", \n",
    "    #\"h2o_c\"\n",
    "#'h20_r'\n",
    "]:\n",
    "    metabolite = glycogenolysis.metabolites.get_by_id(metabolite)\n",
    "    metabolite.ic = 1 #M\n",
    "    \n",
    "glycogenolysis.metabolites.glc__D_e.ic= glycogenolysis.metabolites.glc__D_c.ic\n",
    "\n",
    "for metabolite in glycogenolysis.metabolites:\n",
    "    print(\"{0}: {1}\".format(metabolite.id, metabolite.ic))"
   ]
  },
  {
   "cell_type": "code",
   "execution_count": null,
   "metadata": {},
   "outputs": [],
   "source": [
    "#Formulate QP minimization list for concentrations\n",
    "## double check this?\n",
    "conc_solver = ConcSolver(\n",
    "    glycogenolysis, # bc only want metabolites in glycogenolysis \n",
    "    excluded_metabolites=[\n",
    "        #'h_i', 'h_m', 'co2_m', 'gdp_m', 'gtp_m', 'hco3_m'\n",
    "        \"h_c\", \n",
    "        #\"h2o_c\",'13dpg_c'\n",
    "    ],\n",
    "    constraint_buffer=1)\n",
    "\n",
    "conc_solver.setup_feasible_qp_problem(\n",
    "fixed_conc_bounds=list(glycogenolysis.fixed))\n",
    "fixed_Keq_bounds=glycogenolysis.reactions.list_attr(\"Keq_str\")\n",
    "    \n",
    "#assumption: provide uncertainity to allow for a variance for the Keqs rather than staying fixed\n",
    "#conc_solver.setup_feasible_qp_problem(Keq_percent_deviation=0.1)\n",
    "\n",
    "conc_solution = conc_solver.optimize()\n",
    "conc_solution"
   ]
  },
  {
   "cell_type": "code",
   "execution_count": null,
   "metadata": {},
   "outputs": [],
   "source": [
    "#Compare Results\n",
    "conc_comparison_fig, ax = plt.subplots(nrows=1, ncols=1,\n",
    "                                       figsize=(5, 5))\n",
    "\n",
    "plot_comparison(\n",
    "    x=conc_df[\"Concentration (mM)\"], y=conc_solution,\n",
    "    compare=\"concentrations\",\n",
    "    observable=[mid for mid in conc_df.index], ax=ax,\n",
    "    legend=\"right outside\", plot_function=\"loglog\",\n",
    "    xlim=(0, 20), ylim=(0, 20), xy_line=True,\n",
    "    xy_legend=\"best\", xlabel=\"Initial [mol/L]\", ylabel=\"Adjusted [mol/L]\")\n",
    "\n",
    "conc_comparison_fig.tight_layout()\n",
    "update_model_with_concentration_solution(\n",
    "    glycogenolysis, conc_solution, concentrations=True, inplace=True);"
   ]
  },
  {
   "cell_type": "markdown",
   "metadata": {},
   "source": [
    "## Sample Concentrations"
   ]
  },
  {
   "cell_type": "code",
   "execution_count": null,
   "metadata": {},
   "outputs": [],
   "source": [
    "conc_solver.setup_sampling_problem(\n",
    "    fixed_conc_bounds=list(glycogenolysis.fixed),\n",
    "    fixed_Keq_bounds=glycogenolysis.reactions.list_attr(\"Keq_str\"))\n",
    "for variable in conc_solver.variables:\n",
    "    try:\n",
    "        met = glycogenolysis.metabolites.get_by_id(variable.name)\n",
    "        variable.lb, variable.ub = np.log([met.ic / 10, met.ic * 10])\n",
    "    except:\n",
    "        pass\n",
    "conc_samples = sample_concentrations(conc_solver, n=n_models, seed=seed)\n",
    "conc_samples.head()"
   ]
  },
  {
   "cell_type": "markdown",
   "metadata": {},
   "source": [
    "## Set concentrations and balance models with pseudoreactions"
   ]
  },
  {
   "cell_type": "code",
   "execution_count": null,
   "metadata": {},
   "outputs": [],
   "source": [
    "models_for_ensemble = []\n",
    "for idx, conc_sample in conc_samples.iterrows():\n",
    "    # Make copy of new model\n",
    "    new_model = glycogenolysis.copy()\n",
    "    new_model.id += \"_C{0:d}\".format(idx)\n",
    "    # Get concentration sample and update model with sample\n",
    "    new_model.update_initial_conditions(conc_sample.to_dict())\n",
    "\n",
    "    # Determine imbalances in the reduced network\n",
    "    fluxes = np.array(list(new_model.steady_state_fluxes.values()))\n",
    "    imbalanced_metabolites = new_model.S.dot(fluxes)\n",
    "\n",
    "    # Iterate through metabolites\n",
    "    for mid, imbalance in imbalanced_metabolites.iteritems():\n",
    "        # Ignore balanced metabolites\n",
    "        if imbalance == 0:\n",
    "            continue\n",
    "        # Get metabolite object\n",
    "        met = new_model.metabolites.get_by_id(mid)\n",
    "\n",
    "        # Add boundary reactions for imbalanced metabolites\n",
    "        boundary_type = \"sink\"    \n",
    "        # Add boundary reaction with imbalance as flux value\n",
    "        boundary_reaction = new_model.add_boundary(\n",
    "            mid, boundary_type, boundary_condition=met.ic)\n",
    "        \n",
    "        boundary_reaction.Keq = 1\n",
    "        if imbalance < 0:\n",
    "            boundary_reaction.reverse_stoichiometry(inplace=True)\n",
    "            imbalance = -imbalance\n",
    "\n",
    "        boundary_reaction.kf = imbalance / met.ic\n",
    "        boundary_reaction.steady_state_flux = imbalance\n",
    "        try:\n",
    "            # Update PERCs\n",
    "            new_model.calculate_PERCs(\n",
    "                fluxes={\n",
    "                    r: v for r, v in new_model.steady_state_fluxes.items()\n",
    "                    if not r.boundary},\n",
    "                update_reactions=True)\n",
    "        except:\n",
    "            print(\"Negative PERCs for {0}\".format(new_model.id))\n",
    "            continue\n",
    "    models_for_ensemble.append(new_model)\n",
    "print(\"Number of models in ensemble: {0:d}\".format(\n",
    "    len(models_for_ensemble)))\n",
    "print(models_for_ensemble)"
   ]
  },
  {
   "cell_type": "markdown",
   "metadata": {},
   "source": [
    "#### Ensure model is in steady state and export"
   ]
  },
  {
   "cell_type": "code",
   "execution_count": null,
   "metadata": {},
   "outputs": [],
   "source": [
    "## determine imbalances in the reduced network\n",
    "fluxes = np.array(list(glycogenolysis.steady_state_fluxes.values()))\n",
    "imbalanced_metabolites = glycogenolysis.S.dot(fluxes)\n",
    "\n",
    "# Iterate through metabolites\n",
    "for mid, imbalance in imbalanced_metabolites.iteritems():\n",
    "    # Ignore balanced metabolites\n",
    "    if imbalance == 0:\n",
    "        continue\n",
    "    # Get metabolite object\n",
    "    met = glycogenolysis.metabolites.get_by_id(mid)\n",
    "\n",
    "    # Add boundary reactions for imbalanced metabolites\n",
    "    boundary_type = \"sink\"    \n",
    "    # Add boundary reaction with imbalance as flux value\n",
    "    boundary_reaction = glycogenolysis.add_boundary(\n",
    "        mid, boundary_type, boundary_condition=met.ic)\n",
    "\n",
    "    boundary_reaction.Keq = 1\n",
    "    if imbalance < 0:\n",
    "        boundary_reaction.reverse_stoichiometry(inplace=True)\n",
    "        imbalance = -imbalance\n",
    "\n",
    "    boundary_reaction.kf = imbalance / met.ic\n",
    "    boundary_reaction.steady_state_flux = imbalance\n",
    "    try:\n",
    "        # Update PERCs\n",
    "        glycogenolysis.calculate_PERCs(\n",
    "            fluxes={\n",
    "                r: v for r, v in glycogenolysis.steady_state_fluxes.items()\n",
    "                if not r.boundary},\n",
    "            update_reactions=True)\n",
    "    except:\n",
    "        print(\"Negative PERCs for {0}\".format(new_model.id))\n",
    "        continue"
   ]
  },
  {
   "cell_type": "code",
   "execution_count": null,
   "metadata": {},
   "outputs": [],
   "source": [
    "## balancing charges on reactions manually\n",
    "\n",
    "glycogenolysis.metabolites.h_c.charge=1"
   ]
  },
  {
   "cell_type": "code",
   "execution_count": null,
   "metadata": {},
   "outputs": [],
   "source": [
    "qcqa_model(glycogenolysis, parameters=True, concentrations=True,\n",
    "          fluxes=True, superfluous=True, elemental=True)\n"
   ]
  },
  {
   "cell_type": "code",
   "execution_count": null,
   "metadata": {},
   "outputs": [],
   "source": [
    "# Whether to print messages as loop occurs. \n",
    "verbose = False\n",
    "# Ensure all models are simulated to a long time and that\n",
    "# there are enough time points to determine if model reached steady state.\n",
    "tfinal = 1e4\n",
    "\n",
    "sim = Simulation(reference_model=models_for_ensemble[0], verbose=verbose)\n",
    "sim.add_models(models_for_ensemble[1:], verbose=verbose, disable_safe_load=True)\n",
    "sim.integrator.absolute_tolerance = 1e-15\n",
    "sim.integrator.relative_tolerance = 1e-9\n",
    "\n",
    "models_to_export = []\n",
    "with warnings.catch_warnings():\n",
    "    warnings.simplefilter(\"ignore\")\n",
    "    for model in models_for_ensemble:\n",
    "        # Attempt to determine steady state\n",
    "        conc_sol, flux_sol = sim.find_steady_state(\n",
    "            models=model, strategy=\"simulate\", update_values=True,\n",
    "            tfinal=tfinal, \n",
    "            verbose=verbose)\n",
    "        if conc_sol and flux_sol:\n",
    "            continue\n",
    "        print(str(model) + \" first attempt failed.\")\n",
    "        # First attempt was not successful, lengthen time for second attempt\n",
    "        # Attempt to determine steady state\n",
    "        conc_sol, flux_sol = sim.find_steady_state(\n",
    "            models=model, strategy=\"simulate\", update_values=True,\n",
    "            tfinal=tfinal * 10, \n",
    "            verbose=verbose)\n",
    "        if conc_sol and flux_sol:\n",
    "            continue\n",
    "        print(str(model) + \" second attempt failed.\")\n",
    "        # Second attempt was not successful, lengthen time for second attempt\n",
    "        # Attempt to determine steady state\n",
    "        conc_sol, flux_sol = sim.find_steady_state(\n",
    "            models=model, strategy=\"simulate\", update_values=True,\n",
    "            tfinal=tfinal * 100, \n",
    "            verbose=verbose)\n",
    "        if conc_sol and flux_sol:\n",
    "            continue\n",
    "        print(str(model) + \" third attempt failed. Eliminating model.\")\n",
    "        # Third attempt was not successful, eliminate the model\n",
    "        sim.remove_models(models=model, verbose=verbose)"
   ]
  },
  {
   "cell_type": "code",
   "execution_count": null,
   "metadata": {},
   "outputs": [],
   "source": [
    "glycogenolysis.genes.remove('3098_AT4')\n",
    "glycogenolysis.genes.remove('2542_AT1')"
   ]
  },
  {
   "cell_type": "code",
   "execution_count": null,
   "metadata": {},
   "outputs": [],
   "source": [
    "###RUN THIS FOR TIME PROFILE\n",
    "# Setup simulation object\n",
    "sim = Simulation(glycogenolysis, verbose=False)\n",
    "# Simulate from 0 to 1000 with 10001 points in the output\n",
    "conc_sol, flux_sol = sim.simulate(glycogenolysis, time=(0, 1e3, 1e4 + 1))\n",
    "# Quickly render and display time profiles\n",
    "conc_sol.view_time_profile()"
   ]
  },
  {
   "cell_type": "code",
   "execution_count": null,
   "metadata": {},
   "outputs": [],
   "source": [
    "fig_1, axes = plt.subplots(nrows=2, ncols=1, figsize=(10, 6));\n",
    "(ax1, ax2) = axes.flatten()\n",
    "L_FONT = {\"size\": \"large\"}\n",
    "plot_time_profile(\n",
    "    conc_sol, ax=ax1, legend=\"right outside\",\n",
    "    plot_function=\"semilogx\",\n",
    "    xlabel=\"Time [hr]\", ylabel=\"Concentration [mM]\",\n",
    "    title=(\"Concentration Profile\", L_FONT));\n",
    "\n",
    "plot_time_profile(\n",
    "    flux_sol, ax=ax2, legend=\"right outside\",\n",
    "    plot_function=\"semilogx\",\n",
    "    xlabel=\"Time [hr]\", ylabel=\"Flux [mol/L*hr]\",\n",
    "    title=(\"Flux Profile\", L_FONT));\n",
    "fig_1.tight_layout()\n",
    "\n"
   ]
  },
  {
   "cell_type": "code",
   "execution_count": null,
   "metadata": {},
   "outputs": [],
   "source": []
  }
 ],
 "metadata": {
  "kernelspec": {
   "display_name": "Python 3",
   "language": "python",
   "name": "python3"
  },
  "language_info": {
   "codemirror_mode": {
    "name": "ipython",
    "version": 3
   },
   "file_extension": ".py",
   "mimetype": "text/x-python",
   "name": "python",
   "nbconvert_exporter": "python",
   "pygments_lexer": "ipython3",
   "version": "3.7.9"
  }
 },
 "nbformat": 4,
 "nbformat_minor": 4
}
