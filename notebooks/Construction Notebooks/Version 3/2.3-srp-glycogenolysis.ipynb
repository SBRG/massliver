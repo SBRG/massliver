{
 "cells": [
  {
   "cell_type": "markdown",
   "metadata": {},
   "source": [
    "# Liver Model Construction: Notebook-Glycogenolysis"
   ]
  },
  {
   "cell_type": "markdown",
   "metadata": {},
   "source": [
    "## Setup workflow"
   ]
  },
  {
   "cell_type": "markdown",
   "metadata": {},
   "source": [
    "### Import packages"
   ]
  },
  {
   "cell_type": "code",
   "execution_count": 1,
   "metadata": {},
   "outputs": [
    {
     "name": "stdout",
     "output_type": "stream",
     "text": [
      "MASSpy version: 0.1.1\n"
     ]
    }
   ],
   "source": [
    "import os\n",
    "import warnings\n",
    "from cobra.io.json import load_json_model as load_json_cobra_model\n",
    "import escher\n",
    "import mass\n",
    "import numpy as np\n",
    "import pandas as pd\n",
    "import sympy as sym\n",
    "from cobra import Model, Reaction, Metabolite\n",
    "import cobra.test\n",
    "from os.path import join\n",
    "from mass.util import qcqa_model\n",
    "from cobra import DictList\n",
    "from mass import (\n",
    "    MassConfiguration, MassMetabolite, MassModel,\n",
    "    MassReaction, Simulation, UnitDefinition)\n",
    "from mass.io.json import save_json_model as save_json_mass_model\n",
    "from mass.visualization import plot_comparison, plot_time_profile\n",
    "mass_config = MassConfiguration()\n",
    "mass_config.irreversible_Keq = float(\"inf\")\n",
    "print(\"MASSpy version: {0}\".format(mass.__version__))\n",
    "from six import iteritems\n",
    "import matplotlib.pyplot as plt\n",
    "from mass.thermo import (\n",
    "    ConcSolver, sample_concentrations,\n",
    "    update_model_with_concentration_solution)"
   ]
  },
  {
   "cell_type": "markdown",
   "metadata": {},
   "source": [
    "## Set paths and constants"
   ]
  },
  {
   "cell_type": "code",
   "execution_count": 2,
   "metadata": {},
   "outputs": [],
   "source": [
    "seed = int(4)\n",
    "#increase number of models from before\n",
    "n_models = 3\n",
    "\n",
    "mass_config = MassConfiguration()\n",
    "mass_config.solver = \"cplex\""
   ]
  },
  {
   "cell_type": "markdown",
   "metadata": {},
   "source": [
    "### Directory paths"
   ]
  },
  {
   "cell_type": "code",
   "execution_count": 3,
   "metadata": {},
   "outputs": [],
   "source": [
    "model_dir = os.path.abspath(\"../mass_user/models\")\n",
    "maps_dir = os.path.abspath(\"../mass_user/maps\")\n",
    "data_dir = os.path.abspath(\"../mass_user/data\")"
   ]
  },
  {
   "cell_type": "code",
   "execution_count": 4,
   "metadata": {},
   "outputs": [],
   "source": [
    "# model_dir = os.path.abspath(\".../MASSliver/models\")\n",
    "# maps_dir = os.path.abspath(\".../MASSliver/models/maps\")\n",
    "# data_dir = os.path.abspath(\".../MASSliver/data/interim\")"
   ]
  },
  {
   "cell_type": "code",
   "execution_count": 5,
   "metadata": {},
   "outputs": [],
   "source": [
    "# Allow Escher to close without pop-up\n",
    "escher.rc['never_ask_before_quit'] = True\n"
   ]
  },
  {
   "cell_type": "markdown",
   "metadata": {},
   "source": [
    "### Load COBRA model"
   ]
  },
  {
   "cell_type": "code",
   "execution_count": 6,
   "metadata": {},
   "outputs": [
    {
     "data": {
      "text/html": [
       "\n",
       "        <table>\n",
       "            <tr>\n",
       "                <td><strong>Name</strong></td>\n",
       "                <td>None</td>\n",
       "            </tr><tr>\n",
       "                <td><strong>Memory address</strong></td>\n",
       "                <td>0x07ff81ee67690</td>\n",
       "            </tr><tr>\n",
       "                <td><strong>Number of metabolites</strong></td>\n",
       "                <td>178</td>\n",
       "            </tr><tr>\n",
       "                <td><strong>Number of reactions</strong></td>\n",
       "                <td>187</td>\n",
       "            </tr><tr>\n",
       "                <td><strong>Number of groups</strong></td>\n",
       "                <td>0</td>\n",
       "            </tr><tr>\n",
       "                <td><strong>Objective expression</strong></td>\n",
       "                <td>1.0*ATPM - 1.0*ATPM_reverse_5b752</td>\n",
       "            </tr><tr>\n",
       "                <td><strong>Compartments</strong></td>\n",
       "                <td>m, i, c, r, </td>\n",
       "            </tr>\n",
       "          </table>"
      ],
      "text/plain": [
       "<Model None at 0x7ff81ee67690>"
      ]
     },
     "execution_count": 6,
     "metadata": {},
     "output_type": "execute_result"
    }
   ],
   "source": [
    "core_model=load_json_cobra_model(filename=os.path.join(model_dir,\"CoreModel.json\"))\n",
    "core_model"
   ]
  },
  {
   "cell_type": "code",
   "execution_count": 7,
   "metadata": {},
   "outputs": [
    {
     "data": {
      "text/html": [
       "\n",
       "        <table>\n",
       "            <tr>\n",
       "                <td><strong>Name</strong></td>\n",
       "                <td>Smaller Glycogenolysis</td>\n",
       "            </tr><tr>\n",
       "                <td><strong>Memory address</strong></td>\n",
       "                <td>0x07ff81eeee590</td>\n",
       "            </tr><tr>\n",
       "                <td><strong>Number of metabolites</strong></td>\n",
       "                <td>0</td>\n",
       "            </tr><tr>\n",
       "                <td><strong>Number of reactions</strong></td>\n",
       "                <td>0</td>\n",
       "            </tr><tr>\n",
       "                <td><strong>Number of groups</strong></td>\n",
       "                <td>0</td>\n",
       "            </tr><tr>\n",
       "                <td><strong>Objective expression</strong></td>\n",
       "                <td>0</td>\n",
       "            </tr><tr>\n",
       "                <td><strong>Compartments</strong></td>\n",
       "                <td></td>\n",
       "            </tr>\n",
       "          </table>"
      ],
      "text/plain": [
       "<Model Smaller Glycogenolysis at 0x7ff81eeee590>"
      ]
     },
     "execution_count": 7,
     "metadata": {},
     "output_type": "execute_result"
    }
   ],
   "source": [
    "trial = Model('Smaller Glycogenolysis') \n",
    "trial"
   ]
  },
  {
   "cell_type": "code",
   "execution_count": 8,
   "metadata": {},
   "outputs": [],
   "source": [
    "# core_model.reactions.EX_glc__D_c.remove_from_model()"
   ]
  },
  {
   "cell_type": "code",
   "execution_count": 9,
   "metadata": {},
   "outputs": [],
   "source": [
    "## adding reactions from Recon3D\n",
    "R3D=load_json_cobra_model(filename=os.path.join(model_dir,\"Recon3D.json\"))"
   ]
  },
  {
   "cell_type": "code",
   "execution_count": 10,
   "metadata": {},
   "outputs": [],
   "source": [
    "## adding reactions from glycogenloysis \n",
    "gly=load_json_cobra_model(filename=os.path.join(model_dir,\"Glycogenolysis.json\"))"
   ]
  },
  {
   "cell_type": "code",
   "execution_count": 11,
   "metadata": {},
   "outputs": [],
   "source": [
    "# r_list=[\n",
    "   \n",
    "# #     'EX_pyr_e',\n",
    "# #     'EX_lac__L_e'  \n",
    "# ]\n",
    "# for rid in r_list:\n",
    "#     reaction = core_model.reactions.get_by_id(rid)\n",
    "#     trial.add_reactions([reaction])  \n",
    "r_list_2=[\n",
    "     'HEX1',\n",
    "    'G6PPer',\n",
    "    'G6Pter',\n",
    "    'GLCter',\n",
    "    'PGI', \n",
    "    'H2Oter',\n",
    "    'PIter',\n",
    "    'H2Ot',\n",
    "    'PIt',\n",
    "    'EX_glc__D_e',\n",
    "    'GLCt1',\n",
    "    'Ht'\n",
    "]\n",
    "for rid in r_list_2:\n",
    "    reaction = R3D.reactions.get_by_id(rid)\n",
    "    trial.add_reactions([reaction])"
   ]
  },
  {
   "cell_type": "code",
   "execution_count": 13,
   "metadata": {},
   "outputs": [],
   "source": [
    "## change after double checking this, maybe not needed to be added to core?\n",
    "\n",
    "f=gly.reactions.SK_f6p_c\n",
    "g= gly.reactions.SK_g6p_c\n",
    "\n",
    "new_r_list=[\n",
    "    f,\n",
    "    g    \n",
    "]\n"
   ]
  },
  {
   "cell_type": "code",
   "execution_count": 14,
   "metadata": {},
   "outputs": [],
   "source": [
    "for x in new_r_list:\n",
    "    c= x\n",
    "    trial.add_reaction(c)"
   ]
  },
  {
   "cell_type": "code",
   "execution_count": 15,
   "metadata": {},
   "outputs": [],
   "source": [
    "# create exchange reaction\n",
    "atp=R3D.metabolites.get_by_id('atp_c')\n",
    "adp=R3D.metabolites.get_by_id('adp_c')\n",
    "h2o=R3D.metabolites.get_by_id('h2o_e')\n",
    "pie=R3D.metabolites.get_by_id('pi_e')\n",
    "he=R3D.metabolites.get_by_id('h_e')"
   ]
  },
  {
   "cell_type": "code",
   "execution_count": 16,
   "metadata": {},
   "outputs": [
    {
     "data": {
      "text/html": [
       "\n",
       "        <table>\n",
       "            <tr>\n",
       "                <td><strong>Reaction identifier</strong></td><td>EX_h_e</td>\n",
       "            </tr><tr>\n",
       "                <td><strong>Name</strong></td><td>H+ exchange</td>\n",
       "            </tr><tr>\n",
       "                <td><strong>Memory address</strong></td>\n",
       "                <td>0x07ff81df86550</td>\n",
       "            </tr><tr>\n",
       "                <td><strong>Stoichiometry</strong></td>\n",
       "                <td>\n",
       "                    <p style='text-align:right'>h_e <=> </p>\n",
       "                    <p style='text-align:right'>H+ <=> </p>\n",
       "                </td>\n",
       "            </tr><tr>\n",
       "                <td><strong>GPR</strong></td><td></td>\n",
       "            </tr><tr>\n",
       "                <td><strong>Lower bound</strong></td><td>-1000.0</td>\n",
       "            </tr><tr>\n",
       "                <td><strong>Upper bound</strong></td><td>1000.0</td>\n",
       "            </tr>\n",
       "        </table>\n",
       "        "
      ],
      "text/plain": [
       "<Reaction EX_h_e at 0x7ff81df86550>"
      ]
     },
     "execution_count": 16,
     "metadata": {},
     "output_type": "execute_result"
    }
   ],
   "source": [
    "# create exchange reaction\n",
    "trial.add_boundary(atp, type=\"sink\")\n",
    "trial.add_boundary(adp, type=\"sink\")\n",
    "trial.add_boundary(h2o, type=\"exchange\")\n",
    "trial.add_boundary(pie, type=\"exchange\")\n",
    "trial.add_boundary(he, type=\"exchange\")"
   ]
  },
  {
   "cell_type": "markdown",
   "metadata": {},
   "source": [
    "## View Escher map"
   ]
  },
  {
   "cell_type": "code",
   "execution_count": 19,
   "metadata": {},
   "outputs": [
    {
     "data": {
      "application/vnd.jupyter.widget-view+json": {
       "model_id": "0c0ebcfc20674cd0864c6a3057bbf1e5",
       "version_major": 2,
       "version_minor": 0
      },
      "text/plain": [
       "Builder(highlight_missing=True, never_ask_before_quit=True)"
      ]
     },
     "metadata": {},
     "output_type": "display_data"
    }
   ],
   "source": [
    "#view all the reactions that we need build\n",
    "escher_builder = escher.Builder(\n",
    "    model=trial,\n",
    "    map_json=os.path.join(\n",
    "        maps_dir, \".\".join((\n",
    "            \"Glycogenolysis\", \"map\", \"json\"))\n",
    "    ),\n",
    "    highlight_missing=True)\n",
    "\n",
    "escher_builder\n"
   ]
  },
  {
   "cell_type": "markdown",
   "metadata": {},
   "source": [
    "### Loading Measured Fluxes"
   ]
  },
  {
   "cell_type": "code",
   "execution_count": 20,
   "metadata": {},
   "outputs": [],
   "source": [
    "def load_data(filepath, sheet_name):\n",
    "    \"\"\"Load Liver data from an excel sheet\"\"\"\n",
    "    df = pd.read_excel(engine='openpyxl',\n",
    "        io=filepath,\n",
    "        sheet_name=sheet_name,\n",
    "        index_col=0)\n",
    "    return df"
   ]
  },
  {
   "cell_type": "code",
   "execution_count": 21,
   "metadata": {},
   "outputs": [
    {
     "data": {
      "text/html": [
       "<div>\n",
       "<style scoped>\n",
       "    .dataframe tbody tr th:only-of-type {\n",
       "        vertical-align: middle;\n",
       "    }\n",
       "\n",
       "    .dataframe tbody tr th {\n",
       "        vertical-align: top;\n",
       "    }\n",
       "\n",
       "    .dataframe thead th {\n",
       "        text-align: right;\n",
       "    }\n",
       "</style>\n",
       "<table border=\"1\" class=\"dataframe\">\n",
       "  <thead>\n",
       "    <tr style=\"text-align: right;\">\n",
       "      <th></th>\n",
       "      <th>Flux (mmol/gDW*hr)</th>\n",
       "    </tr>\n",
       "    <tr>\n",
       "      <th>ID</th>\n",
       "      <th></th>\n",
       "    </tr>\n",
       "  </thead>\n",
       "  <tbody>\n",
       "    <tr>\n",
       "      <th>G6PPer</th>\n",
       "      <td>0.001682</td>\n",
       "    </tr>\n",
       "    <tr>\n",
       "      <th>HEX1</th>\n",
       "      <td>0.000000</td>\n",
       "    </tr>\n",
       "    <tr>\n",
       "      <th>GLCt1</th>\n",
       "      <td>-0.001682</td>\n",
       "    </tr>\n",
       "    <tr>\n",
       "      <th>PGI</th>\n",
       "      <td>-0.002919</td>\n",
       "    </tr>\n",
       "    <tr>\n",
       "      <th>EX_glc__D_e</th>\n",
       "      <td>0.085498</td>\n",
       "    </tr>\n",
       "    <tr>\n",
       "      <th>SK_f6p_c</th>\n",
       "      <td>0.002919</td>\n",
       "    </tr>\n",
       "  </tbody>\n",
       "</table>\n",
       "</div>"
      ],
      "text/plain": [
       "             Flux (mmol/gDW*hr)\n",
       "ID                             \n",
       "G6PPer                 0.001682\n",
       "HEX1                   0.000000\n",
       "GLCt1                 -0.001682\n",
       "PGI                   -0.002919\n",
       "EX_glc__D_e            0.085498\n",
       "SK_f6p_c               0.002919"
      ]
     },
     "execution_count": 21,
     "metadata": {},
     "output_type": "execute_result"
    }
   ],
   "source": [
    "#define data sheet as latest data sheet\n",
    "data_sheet=os.path.join(data_dir,\"2.8-srp-data-collection.xlsx\")\n",
    "\n",
    "flux_df = load_data(\n",
    "    filepath=data_sheet,\n",
    "    sheet_name=\"Fluxes\").drop(\"Fasting Time\", axis=1).drop(\"Additional Notes\", axis=1)\n",
    "flux_df = flux_df.dropna() #drops rows with NaN\n",
    "flux_df\n"
   ]
  },
  {
   "cell_type": "code",
   "execution_count": 22,
   "metadata": {},
   "outputs": [],
   "source": [
    "v_vars = []\n",
    "v_data = []\n",
    "\n",
    "# How much flux to allow through irreversible reaction pairs\n",
    "# e.g, PFK/FBP & reverse_flux_percent = 0.1, raise both fluxes by 10% of non-zero flux value\n",
    "reverse_flux_percent = 0.1\n",
    "# irreversible_enzyme_pairs = [\"PFK\", \"FBP\"]\n",
    "irreversible_enzyme_pairs2 = [\"HEX1\", \"G6PPer\"]\n"
   ]
  },
  {
   "cell_type": "code",
   "execution_count": 23,
   "metadata": {},
   "outputs": [
    {
     "name": "stdout",
     "output_type": "stream",
     "text": [
      "G6PPer 0.0018502083831\n",
      "HEX1 0.00016820076210000002\n",
      "GLCt1 -0.001682007621\n",
      "PGI -0.002918552036\n",
      "EX_glc__D_e 0.0854982138575\n",
      "SK_f6p_c 0.002918552\n"
     ]
    }
   ],
   "source": [
    "for rid, flux in flux_df.itertuples():\n",
    "    reaction = trial.reactions.get_by_id(rid)\n",
    "    #reaction.bounds = (flux, flux)\n",
    "    #set bounds for all boundary reactions \n",
    "    #uptake --> (-value, 1000)\n",
    "    #secretion --> (-1000 --> value)\n",
    "    #reversible --> (-1000,1000)\n",
    "#     if (rid == \"EX_lac__L_e\"): #uptake\n",
    "#         pass\n",
    "# #         reaction = trial.reactions.get_by_id(rid)\n",
    "# #         reaction.bounds = (0,1000) \n",
    "    if (rid == \"EX_glc__L_e\"): #secretion\n",
    "        reaction = trial.reactions.get_by_id(rid)\n",
    "        reaction.bounds = (0.085498214,0.085498214) ## restricitng glucose  HEPATOKIN Supplemental 15 \n",
    "\n",
    "#     elif (rid == \"EX_pyr_e\"): #uptake\n",
    "#         reaction = trial.reactions.get_by_id(rid)\n",
    "#         reaction.bounds = (0, 1000) \n",
    "#     elif (rid == \"SK_f6p_c\"): \n",
    "#         reaction = trial.reactions.get_by_id(rid)\n",
    "#         reaction.bounds = (-1000, 0)\n",
    "#     elif (rid == \"SK_g6p_c\"): \n",
    "#         reaction = trial.reactions.get_by_id(rid)\n",
    "#         reaction.bounds = (-1000, 0)\n",
    "#     elif (rid == \"EX_glygn2_c\"): #uptake\n",
    "#         reaction = core_model.reactions.get_by_id(rid)\n",
    "#         reaction.bounds = (-1, 1000) \n",
    "#     for irreversible_enzyme_pair in irreversible_enzyme_pairs:\n",
    "#         if rid in irreversible_enzyme_pair:\n",
    "#             flux1, flux2 = flux_df.loc[irreversible_enzyme_pairs, \"Flux (mmol/gDW*hr)\"].values\n",
    "#             if flux1 == 0:\n",
    "#                 flux += reverse_flux_percent * flux2 # mmol*gDW^-1*hr^-1\n",
    "#             if flux2 == 0:\n",
    "#                 flux += reverse_flux_percent * flux1 # mmol*gDW^-1*hr^-1\n",
    "    for irreversible_enzyme_pair in irreversible_enzyme_pairs2:\n",
    "        if rid in irreversible_enzyme_pair:\n",
    "            flux3, flux4 = flux_df.loc[irreversible_enzyme_pairs2, \"Flux (mmol/gDW*hr)\"].values\n",
    "            if flux3 == 0:\n",
    "                flux += reverse_flux_percent * flux4 # mmol*gDW^-1*hr^-1\n",
    "            if flux4 == 0:\n",
    "                flux += reverse_flux_percent * flux3 # mmol*gDW^-1*hr^-1\n",
    "                \n",
    "    #address irreversible enzyme pair boundary reactions if necessary\n",
    "\n",
    "    print(rid, flux)\n",
    "\n",
    "    v_vars.append(sym.Symbol(rid))\n",
    "    v_data.append(flux)"
   ]
  },
  {
   "cell_type": "code",
   "execution_count": 24,
   "metadata": {},
   "outputs": [],
   "source": [
    "# Make symbolic for optlang objective \n",
    "v_vars = sym.Matrix(v_vars)\n",
    "v_data = sym.Matrix(v_data)\n",
    "\n",
    "F = sym.Matrix(2 * sym.eye(len(v_vars)))\n",
    "\n",
    "objective = 0.5 * v_vars.T * F * v_vars  - (2 * v_data).T * v_vars\n",
    "trial.objective = objective[0]\n",
    "trial.objective_direction = \"min\"\n",
    "\n",
    "flux_solution = trial.optimize()"
   ]
  },
  {
   "cell_type": "code",
   "execution_count": 25,
   "metadata": {},
   "outputs": [
    {
     "data": {
      "text/plain": [
       "HEX1           0.000168\n",
       "G6PPer         0.001850\n",
       "G6Pter         0.001850\n",
       "GLCter        -0.001850\n",
       "PGI           -0.001682\n",
       "H2Oter         0.001850\n",
       "PIter          0.001850\n",
       "H2Ot           0.001850\n",
       "PIt            0.001850\n",
       "EX_glc__D_e    0.001682\n",
       "GLCt1         -0.001682\n",
       "Ht            -0.000168\n",
       "SK_f6p_c      -0.001682\n",
       "SK_g6p_c       0.000000\n",
       "SK_atp_c      -0.000168\n",
       "SK_adp_c       0.000168\n",
       "EX_h2o_e      -0.001850\n",
       "EX_pi_e        0.001850\n",
       "EX_h_e         0.000168\n",
       "Name: fluxes, dtype: float64"
      ]
     },
     "execution_count": 25,
     "metadata": {},
     "output_type": "execute_result"
    }
   ],
   "source": [
    "# ab=pd.DataFrame(flux_solution.fluxes)\n",
    "# ab.to_excel(\"output.xlsx\")\n",
    "flux_solution.fluxes"
   ]
  },
  {
   "cell_type": "code",
   "execution_count": 27,
   "metadata": {},
   "outputs": [
    {
     "data": {
      "image/png": "[encoded data removed]",
      "text/plain": [
       "<Figure size 360x360 with 1 Axes>"
      ]
     },
     "metadata": {
      "needs_background": "light"
     },
     "output_type": "display_data"
    }
   ],
   "source": [
    "flux_comparison_fig, ax = plt.subplots(nrows=1, ncols=1, figsize=(5, 5))\n",
    "plot_comparison(\n",
    "    x=flux_df[\"Flux (mmol/gDW*hr)\"], y=flux_solution, compare=\"fluxes\",\n",
    "    observable=[rid for rid in flux_df.index], ax=ax,\n",
    "    legend=\"right outside\", plot_function=\"plot\",\n",
    "    xlim=(-0.01,0.01), ylim=(-0.01, 0.01),\n",
    "    xy_line=True,\n",
    "    xy_legend=\"best\", xlabel=\"Measured [mmol/(gDW * h)]\", ylabel=\"Adjusted [mmol/(gDW * h)]\")\n",
    "\n",
    "flux_comparison_fig.tight_layout()\n",
    "#check directionality \n"
   ]
  },
  {
   "cell_type": "markdown",
   "metadata": {},
   "source": [
    "## Create MASS model"
   ]
  },
  {
   "cell_type": "code",
   "execution_count": 28,
   "metadata": {},
   "outputs": [
    {
     "data": {
      "text/html": [
       "\n",
       "            <table>\n",
       "                <tr>\n",
       "                    <td><strong>Name</strong></td><td>Glycogenolysis</td>\n",
       "                </tr><tr>\n",
       "                    <td><strong>Memory address</strong></td><td>0x07ff81900f9d0</td>\n",
       "                </tr><tr>\n",
       "                    <td><strong>Stoichiometric Matrix</strong></td>\n",
       "                    <td>0x0</td>\n",
       "                </tr><tr>\n",
       "                    <td><strong>Matrix Rank</strong></td>\n",
       "                    <td>0</td>\n",
       "                </tr><tr>\n",
       "                    <td><strong>Number of metabolites</strong></td>\n",
       "                    <td>0</td>\n",
       "                </tr><tr>\n",
       "                    <td><strong>Initial conditions defined</strong></td>\n",
       "                    <td>0/0</td>\n",
       "                </tr><tr>\n",
       "                    <td><strong>Number of reactions</strong></td>\n",
       "                    <td>0</td>\n",
       "                </tr><tr>\n",
       "                    <td><strong>Number of genes</strong></td>\n",
       "                    <td>0</td>\n",
       "                </tr><tr>\n",
       "                    <td><strong>Number of enzyme modules</strong></td>\n",
       "                    <td>0</td>\n",
       "                </tr><tr>\n",
       "                    <td><strong>Number of groups</strong></td>\n",
       "                    <td>0</td>\n",
       "                </tr><tr>\n",
       "                    <td><strong>Objective expression</strong></td>\n",
       "                    <td>0</td>\n",
       "                </tr><tr>\n",
       "                    <td><strong>Compartments</strong></td>\n",
       "                    <td></td>\n",
       "                </tr>\n",
       "            </table>\n",
       "        "
      ],
      "text/plain": [
       "<MassModel Glycogenolysis at 0x7ff81900f9d0>"
      ]
     },
     "execution_count": 28,
     "metadata": {},
     "output_type": "execute_result"
    }
   ],
   "source": [
    "glycogenolysis = MassModel(\"Glycogenolysis\", array_type='DataFrame', dtype=np.int64)\n",
    "glycogenolysis"
   ]
  },
  {
   "cell_type": "markdown",
   "metadata": {},
   "source": [
    "### Define reactions"
   ]
  },
  {
   "cell_type": "code",
   "execution_count": 29,
   "metadata": {},
   "outputs": [],
   "source": [
    "#add reactions one at a time\n",
    "##G6PPer, HEX1, GLCt1, PGI\n",
    "\n",
    "# EX_glc__D_e    0.001682\n",
    "\n",
    "# SK_f6p_c      -0.001682\n",
    "# SK_g6p_c       0.000000\n",
    "# SK_atp_c      -0.000168\n",
    "# SK_adp_c       0.000168\n",
    "# EX_h2o_e      -0.001850\n",
    "# EX_pi_e        0.001850\n",
    "# EX_h_e         0.000168\n",
    "\n",
    "\n",
    "reaction_list=[]\n",
    "reaction_list = ['HEX1',\n",
    "                 'GLCt1',\n",
    "                 'G6Pter',\n",
    "                 'G6PPer',\n",
    "                 'GLCter',\n",
    "#                  'EX_glc__D_e',\n",
    "                'PGI',\n",
    "                 'H2Oter',\n",
    "                'PIter',\n",
    "                'H2Ot',\n",
    "                'PIt',\n",
    "                'Ht'\n",
    "#                 #'FBP',\n",
    "#                 'PFK',\n",
    "#                 'FBA',\n",
    "#                 'TPI',\n",
    "#                 'GAPD',\n",
    "#                 'PGK',\n",
    "#                 'PGM',\n",
    "#                 'ENO',\n",
    "#                 #'PEPtm',\n",
    "#                 #'PEPCKm',\n",
    "#                 #'LDH_L',\n",
    "#                 'PYK'\n",
    "#                 #'PCm',\n",
    "#                 #'PYRt2m'\n",
    "                ]\n"
   ]
  },
  {
   "cell_type": "code",
   "execution_count": 30,
   "metadata": {},
   "outputs": [],
   "source": [
    "# Convert cobra.Reactions to mass.MassReactions\n",
    "for rid in reaction_list:\n",
    "    reaction = trial.reactions.get_by_id(rid)\n",
    "    glycogenolysis.add_reactions([MassReaction(reaction)])"
   ]
  },
  {
   "cell_type": "markdown",
   "metadata": {},
   "source": [
    "##  Set Fluxes"
   ]
  },
  {
   "cell_type": "code",
   "execution_count": 31,
   "metadata": {},
   "outputs": [
    {
     "name": "stdout",
     "output_type": "stream",
     "text": [
      "v_HEX1: 0.00021506233542487052\n",
      "v_GLCt1: -0.002150623354248705\n",
      "v_G6Pter: 0.002365685689673576\n",
      "v_G6PPer: 0.002365685689673576\n",
      "v_GLCter: -0.002365685689673576\n",
      "v_PGI: -0.002150623354248705\n",
      "v_H2Oter: 0.002365685689673576\n",
      "v_PIter: 0.002365685689673576\n",
      "v_H2Ot: 0.002365685689673576\n",
      "v_PIt: 0.002365685689673576\n",
      "v_Ht: -0.00021506233542487052\n"
     ]
    }
   ],
   "source": [
    "for reaction, flux in flux_solution[reaction_list].iteritems():\n",
    "    reaction = glycogenolysis.reactions.get_by_id(reaction)\n",
    "    reaction.steady_state_flux = flux * 1278.605 / 1000 \n",
    "    # mmol/gdW*hr --> mmol/L * hr ---> mol/L*hr\n",
    "    print(\"{0}: {1}\".format(reaction.flux_symbol_str,\n",
    "                            reaction.steady_state_flux))"
   ]
  },
  {
   "cell_type": "code",
   "execution_count": 32,
   "metadata": {},
   "outputs": [
    {
     "data": {
      "text/plain": [
       "[1.0, -1.0]"
      ]
     },
     "execution_count": 32,
     "metadata": {},
     "output_type": "execute_result"
    }
   ],
   "source": [
    "glycogenolysis.reactions.G6Pter.stoichiometry"
   ]
  },
  {
   "cell_type": "code",
   "execution_count": 33,
   "metadata": {},
   "outputs": [
    {
     "data": {
      "text/html": [
       "\n",
       "            <table>\n",
       "                <tr>\n",
       "                    <td><strong>Reaction identifier</strong></td>\n",
       "                    <td>G6Pter</td>\n",
       "                </tr><tr>\n",
       "                    <td><strong>Name</strong></td>\n",
       "                    <td>Glucose 6 phosphate endoplasmic reticular transport via diffusion</td>\n",
       "                </tr><tr>\n",
       "                    <td><strong>Memory address</strong></td>\n",
       "                    <td>0x07ff8190e6410</td>\n",
       "                </tr><tr>\n",
       "                    <td><strong>Subsystem</strong></td>\n",
       "                    <td>Transport, endoplasmic reticular</td>\n",
       "                </tr><tr>\n",
       "                    <td><strong>Kinetic Reversibility</strong></td>\n",
       "                    <td>True</td>\n",
       "                </tr><tr>\n",
       "                    <td><strong>Stoichiometry</strong></td>\n",
       "                    <td>\n",
       "                        <p style='text-align:right'>g6p_c <=> g6p_r</p>\n",
       "                        <p style='text-align:right'>D-Glucose 6-phosphate <=> D-Glucose 6-phosphate</p>\n",
       "                    </td>\n",
       "                </tr><tr>\n",
       "                    <td><strong>GPR</strong></td><td>2542_AT1</td>\n",
       "                </tr><tr>\n",
       "                    <td><strong>Bounds</strong></td><td>(-1000.0, 1000.0)</td>\n",
       "                </tr>\n",
       "            </table>\n",
       "        "
      ],
      "text/plain": [
       "<MassReaction G6Pter at 0x7ff8190e6410>"
      ]
     },
     "execution_count": 33,
     "metadata": {},
     "output_type": "execute_result"
    }
   ],
   "source": [
    "glycogenolysis.reactions.G6Pter"
   ]
  },
  {
   "cell_type": "markdown",
   "metadata": {},
   "source": [
    "## Set Keqs"
   ]
  },
  {
   "cell_type": "code",
   "execution_count": 34,
   "metadata": {},
   "outputs": [
    {
     "data": {
      "text/html": [
       "<div>\n",
       "<style scoped>\n",
       "    .dataframe tbody tr th:only-of-type {\n",
       "        vertical-align: middle;\n",
       "    }\n",
       "\n",
       "    .dataframe tbody tr th {\n",
       "        vertical-align: top;\n",
       "    }\n",
       "\n",
       "    .dataframe thead th {\n",
       "        text-align: right;\n",
       "    }\n",
       "</style>\n",
       "<table border=\"1\" class=\"dataframe\">\n",
       "  <thead>\n",
       "    <tr style=\"text-align: right;\">\n",
       "      <th></th>\n",
       "      <th>Equlibrium Constant</th>\n",
       "    </tr>\n",
       "    <tr>\n",
       "      <th>Reaction</th>\n",
       "      <th></th>\n",
       "    </tr>\n",
       "  </thead>\n",
       "  <tbody>\n",
       "    <tr>\n",
       "      <th>GLCt1</th>\n",
       "      <td>1.000</td>\n",
       "    </tr>\n",
       "    <tr>\n",
       "      <th>HEX1</th>\n",
       "      <td>28.077</td>\n",
       "    </tr>\n",
       "    <tr>\n",
       "      <th>G6PPer</th>\n",
       "      <td>0.278</td>\n",
       "    </tr>\n",
       "    <tr>\n",
       "      <th>PGI</th>\n",
       "      <td>0.925</td>\n",
       "    </tr>\n",
       "    <tr>\n",
       "      <th>G6Pter</th>\n",
       "      <td>1.000</td>\n",
       "    </tr>\n",
       "    <tr>\n",
       "      <th>GLCter</th>\n",
       "      <td>1.000</td>\n",
       "    </tr>\n",
       "  </tbody>\n",
       "</table>\n",
       "</div>"
      ],
      "text/plain": [
       "          Equlibrium Constant\n",
       "Reaction                     \n",
       "GLCt1                   1.000\n",
       "HEX1                   28.077\n",
       "G6PPer                  0.278\n",
       "PGI                     0.925\n",
       "G6Pter                  1.000\n",
       "GLCter                  1.000"
      ]
     },
     "execution_count": 34,
     "metadata": {},
     "output_type": "execute_result"
    }
   ],
   "source": [
    "# Load equilibrium constants\n",
    "Keq_df = pd.read_excel(engine='openpyxl',\n",
    "    io=data_sheet,\n",
    "    sheet_name=\"Keqs\",\n",
    "    index_col=0).drop(\"Reference\", axis=1).drop(\"Stoichiometry\", axis=1).drop('Keq unit', axis=1)\n",
    "\n",
    "Keq_df = Keq_df.dropna() #drops rows with NaN\n",
    "Keq_df"
   ]
  },
  {
   "cell_type": "code",
   "execution_count": 35,
   "metadata": {},
   "outputs": [
    {
     "name": "stdout",
     "output_type": "stream",
     "text": [
      "Keq_GLCt1: 1.0\n",
      "Keq_HEX1: 28.077\n",
      "Keq_G6PPer: 0.278\n",
      "Keq_PGI: 0.925\n",
      "Keq_G6Pter: 1.0\n",
      "Keq_GLCter: 1.0\n"
     ]
    }
   ],
   "source": [
    "Keq_list =[]\n",
    "#setting exchange constants as 1\n",
    "\n",
    "transport= [\n",
    "    'H2Oter',\n",
    "    'PIter',\n",
    "    'H2Ot',\n",
    "    'PIt',\n",
    "    'Ht',\n",
    "    'GLCter',\n",
    "    'G6Pter'\n",
    "]\n",
    "for x in transport:\n",
    "    a=glycogenolysis.reactions.get_by_id(x)\n",
    "    a.Keq=1\n",
    "\n",
    "glycogenolysis.reactions.G6PPer.Keq=1/0.278 ## value seems to be inverted\n",
    "\n",
    "for rid, Keq in Keq_df.itertuples():\n",
    "    if rid in reaction_list: \n",
    "        reaction = glycogenolysis.reactions.get_by_id(rid)\n",
    "        reaction.Keq = Keq\n",
    "        Keq_list.append(reaction.Keq)\n",
    "        print(\"{0}: {1}\".format(reaction.Keq_str, Keq))\n",
    "glycogenolysis.reactions.G6PPer.Keq=1/0.278"
   ]
  },
  {
   "cell_type": "markdown",
   "metadata": {},
   "source": [
    "## Obtain Concentrations"
   ]
  },
  {
   "cell_type": "code",
   "execution_count": 36,
   "metadata": {},
   "outputs": [
    {
     "data": {
      "text/html": [
       "<div>\n",
       "<style scoped>\n",
       "    .dataframe tbody tr th:only-of-type {\n",
       "        vertical-align: middle;\n",
       "    }\n",
       "\n",
       "    .dataframe tbody tr th {\n",
       "        vertical-align: top;\n",
       "    }\n",
       "\n",
       "    .dataframe thead th {\n",
       "        text-align: right;\n",
       "    }\n",
       "</style>\n",
       "<table border=\"1\" class=\"dataframe\">\n",
       "  <thead>\n",
       "    <tr style=\"text-align: right;\">\n",
       "      <th></th>\n",
       "      <th>Name</th>\n",
       "      <th>Concentration(M)</th>\n",
       "    </tr>\n",
       "    <tr>\n",
       "      <th>ID</th>\n",
       "      <th></th>\n",
       "      <th></th>\n",
       "    </tr>\n",
       "  </thead>\n",
       "  <tbody>\n",
       "    <tr>\n",
       "      <th>glc__D_c</th>\n",
       "      <td>D-Glucose</td>\n",
       "      <td>0.010483</td>\n",
       "    </tr>\n",
       "    <tr>\n",
       "      <th>atp_c</th>\n",
       "      <td>ATP C10H12N5O13P3</td>\n",
       "      <td>0.004727</td>\n",
       "    </tr>\n",
       "    <tr>\n",
       "      <th>adp_c</th>\n",
       "      <td>ADP C10H12N5O10P2</td>\n",
       "      <td>0.001995</td>\n",
       "    </tr>\n",
       "    <tr>\n",
       "      <th>g6p_c</th>\n",
       "      <td>D-Glucose 6-phosphate</td>\n",
       "      <td>0.000140</td>\n",
       "    </tr>\n",
       "    <tr>\n",
       "      <th>g6p_r</th>\n",
       "      <td>D-Glucose 6-phosphate</td>\n",
       "      <td>0.000387</td>\n",
       "    </tr>\n",
       "    <tr>\n",
       "      <th>pi_r</th>\n",
       "      <td>Phosphate</td>\n",
       "      <td>0.009744</td>\n",
       "    </tr>\n",
       "    <tr>\n",
       "      <th>glc__D_r</th>\n",
       "      <td>D-Glucose</td>\n",
       "      <td>0.010483</td>\n",
       "    </tr>\n",
       "    <tr>\n",
       "      <th>f6p_c</th>\n",
       "      <td>D-Fructose-6-phosphate</td>\n",
       "      <td>0.000127</td>\n",
       "    </tr>\n",
       "    <tr>\n",
       "      <th>glc__D_e</th>\n",
       "      <td>D-Glucose</td>\n",
       "      <td>0.000000</td>\n",
       "    </tr>\n",
       "    <tr>\n",
       "      <th>pi_c</th>\n",
       "      <td>Phosphate</td>\n",
       "      <td>0.006400</td>\n",
       "    </tr>\n",
       "  </tbody>\n",
       "</table>\n",
       "</div>"
      ],
      "text/plain": [
       "                            Name  Concentration(M)\n",
       "ID                                                \n",
       "glc__D_c               D-Glucose          0.010483\n",
       "atp_c          ATP C10H12N5O13P3          0.004727\n",
       "adp_c          ADP C10H12N5O10P2          0.001995\n",
       "g6p_c      D-Glucose 6-phosphate          0.000140\n",
       "g6p_r      D-Glucose 6-phosphate          0.000387\n",
       "pi_r                   Phosphate          0.009744\n",
       "glc__D_r               D-Glucose          0.010483\n",
       "f6p_c     D-Fructose-6-phosphate          0.000127\n",
       "glc__D_e               D-Glucose          0.000000\n",
       "pi_c                   Phosphate          0.006400"
      ]
     },
     "execution_count": 36,
     "metadata": {},
     "output_type": "execute_result"
    }
   ],
   "source": [
    "#Load Concentration Data\n",
    "conc_df = load_data(\n",
    "    filepath=data_sheet,\n",
    "    sheet_name=\"Concentrations\").drop(\"Concentration (mM)\", axis=1)\n",
    "conc_df = conc_df.drop(\"Additional Notes\", axis=1)\n",
    "conc_df = conc_df.dropna() #drops rows with NaN\n",
    "conc_df"
   ]
  },
  {
   "cell_type": "code",
   "execution_count": 37,
   "metadata": {},
   "outputs": [],
   "source": [
    "#Set Concentrations\n",
    "\n",
    "metabolite_list = [\n",
    "                    # HEX1    \n",
    "                    'glc__D_c',\n",
    "                    'g6p_c',\n",
    "                    'adp_c',\n",
    "                    'atp_c',\n",
    "                    #'pi_c',\n",
    "                    'h_c',\n",
    "\n",
    "                    # GLCt1\n",
    "                    'glc__D_e',\n",
    "\n",
    "                    # #G6Pter\n",
    "                    'g6p_r',\n",
    "\n",
    "                    # #G6PPer , #GLCter\n",
    "                    'h2o_r',\n",
    "                    'glc__D_r',\n",
    "                    'pi_r',\n",
    "#                     'PGI',\n",
    "'f6p_c', \n",
    "#                     'H2Oter',\n",
    "'h2o_c',\n",
    "\n",
    "#                     'PIter',\n",
    "'pi_r',\n",
    "'pi_c',\n",
    "\n",
    "#                     'H2Ot',\n",
    "'h2o_e',\n",
    "#                     'PIt',\n",
    "'pi_e',\n",
    "\n",
    "#                     'Ht'\n",
    "'h_e'  ]"
   ]
  },
  {
   "cell_type": "code",
   "execution_count": 38,
   "metadata": {},
   "outputs": [],
   "source": [
    "met_list = []\n",
    "for mid, name, conc in conc_df.itertuples():\n",
    "    if mid in metabolite_list: \n",
    "        metabolite = glycogenolysis.metabolites.get_by_id(mid)\n",
    "        metabolite.name = name\n",
    "        \n",
    "        metabolite.ic = conc #data sheet is in M units\n",
    "        met_list.append(metabolite.ic)"
   ]
  },
  {
   "cell_type": "markdown",
   "metadata": {},
   "source": [
    "## Set H2O/H Constants"
   ]
  },
  {
   "cell_type": "code",
   "execution_count": 39,
   "metadata": {},
   "outputs": [],
   "source": [
    "# Set concentrations of hydrogen, water as fixed\n",
    "# Assume hydrogen in all compartments are fixed \n",
    "for metabolite in [\n",
    "#     \"h2o_c\",\n",
    "    \"h_c\",'h_e',\n",
    "    'h2o_r','h2o_e',\"h2o_c\",\n",
    "    \"glc__D_e\", \"pi_e\"\n",
    "       #'h_i'\n",
    "       #'h_m' \n",
    "    #remove h_i and h_m if not mitochondrial reactions\n",
    "                  ]:\n",
    "    metabolite = glycogenolysis.metabolites.get_by_id(metabolite)\n",
    "    metabolite.fixed = True"
   ]
  },
  {
   "cell_type": "code",
   "execution_count": 40,
   "metadata": {},
   "outputs": [
    {
     "name": "stdout",
     "output_type": "stream",
     "text": [
      "adp_c: 0.00199495195\n",
      "atp_c: 0.004727145980000001\n",
      "g6p_c: 0.00014000000000000001\n",
      "glc__D_c: 0.01048280703\n",
      "h_c: 1\n",
      "glc__D_e: 0\n",
      "g6p_r: 0.000386553505\n",
      "glc__D_r: 0.01048280703\n",
      "h2o_r: 1\n",
      "pi_r: 0.0097441228\n",
      "f6p_c: 0.00012713765\n",
      "h2o_c: 1\n",
      "pi_c: 0.0064\n",
      "h2o_e: 1\n",
      "pi_e: 0.0064\n",
      "h_e: 1\n"
     ]
    }
   ],
   "source": [
    "for metabolite in [\n",
    "    #'h_i',\n",
    "    #'h_m',\n",
    "\"h_c\", 'h_e',\n",
    "\"h2o_c\",'h2o_r','h2o_e' \n",
    "]:\n",
    "    metabolite = glycogenolysis.metabolites.get_by_id(metabolite)\n",
    "    metabolite.ic = 1 #M\n",
    "    \n",
    "glycogenolysis.metabolites.glc__D_e.ic= 0 #setting extracellular glucose as 0 because no lactate rn\n",
    "   \n",
    "#plasma phsophate concentration to be equal to intracellular plasma concentration\n",
    "glycogenolysis.metabolites.pi_e.ic=0.0064\n",
    "\n",
    "\n",
    "for metabolite in glycogenolysis.metabolites:\n",
    "    print(\"{0}: {1}\".format(metabolite.id, metabolite.ic))"
   ]
  },
  {
   "cell_type": "code",
   "execution_count": 41,
   "metadata": {},
   "outputs": [
    {
     "data": {
      "text/html": [
       "<strong><em>Optimal</em> solution with objective value 0.000</strong><br><div>\n",
       "<style scoped>\n",
       "    .dataframe tbody tr th:only-of-type {\n",
       "        vertical-align: middle;\n",
       "    }\n",
       "\n",
       "    .dataframe tbody tr th {\n",
       "        vertical-align: top;\n",
       "    }\n",
       "\n",
       "    .dataframe thead th {\n",
       "        text-align: right;\n",
       "    }\n",
       "</style>\n",
       "<table border=\"1\" class=\"dataframe\">\n",
       "  <thead>\n",
       "    <tr style=\"text-align: right;\">\n",
       "      <th></th>\n",
       "      <th>variables</th>\n",
       "      <th>reduced_costs</th>\n",
       "    </tr>\n",
       "  </thead>\n",
       "  <tbody>\n",
       "    <tr>\n",
       "      <th>adp_c</th>\n",
       "      <td>0.001995</td>\n",
       "      <td>0.0</td>\n",
       "    </tr>\n",
       "    <tr>\n",
       "      <th>atp_c</th>\n",
       "      <td>0.004727</td>\n",
       "      <td>0.0</td>\n",
       "    </tr>\n",
       "    <tr>\n",
       "      <th>g6p_c</th>\n",
       "      <td>0.000100</td>\n",
       "      <td>0.0</td>\n",
       "    </tr>\n",
       "    <tr>\n",
       "      <th>glc__D_c</th>\n",
       "      <td>0.010483</td>\n",
       "      <td>0.0</td>\n",
       "    </tr>\n",
       "    <tr>\n",
       "      <th>g6p_r</th>\n",
       "      <td>0.000387</td>\n",
       "      <td>0.0</td>\n",
       "    </tr>\n",
       "    <tr>\n",
       "      <th>...</th>\n",
       "      <td>...</td>\n",
       "      <td>...</td>\n",
       "    </tr>\n",
       "    <tr>\n",
       "      <th>f6p_c</th>\n",
       "      <td>0.000179</td>\n",
       "      <td>0.0</td>\n",
       "    </tr>\n",
       "    <tr>\n",
       "      <th>pi_c</th>\n",
       "      <td>0.006400</td>\n",
       "      <td>0.0</td>\n",
       "    </tr>\n",
       "    <tr>\n",
       "      <th>Keq_HEX1</th>\n",
       "      <td>28.077000</td>\n",
       "      <td>0.0</td>\n",
       "    </tr>\n",
       "    <tr>\n",
       "      <th>Keq_G6PPer</th>\n",
       "      <td>3.597122</td>\n",
       "      <td>0.0</td>\n",
       "    </tr>\n",
       "    <tr>\n",
       "      <th>Keq_PGI</th>\n",
       "      <td>0.658736</td>\n",
       "      <td>0.0</td>\n",
       "    </tr>\n",
       "  </tbody>\n",
       "</table>\n",
       "<p>12 rows × 2 columns</p>\n",
       "</div>"
      ],
      "text/plain": [
       "<Solution 0.000 at 0x7ff81925e590>"
      ]
     },
     "execution_count": 41,
     "metadata": {},
     "output_type": "execute_result"
    }
   ],
   "source": [
    "#Formulate QP minimization list for concentrations\n",
    "## double check this?\n",
    "conc_solver = ConcSolver(\n",
    "    glycogenolysis, # bc only want metabolites in glycogenolysis \n",
    "    excluded_metabolites=[\n",
    "        #'h_i', 'h_m', 'co2_m', 'gdp_m', 'gtp_m', 'hco3_m'\n",
    "        \"h_c\",'h_e',\n",
    "    'h2o_r','h2o_e',\"h2o_c\",\n",
    "        \"pi_e\",\n",
    "        \"glc__D_e\"\n",
    "    ], excluded_reactions=[\"Ht\", \"H2Ot\", \"H2Oter\",\n",
    "                            'PIter',\n",
    "                            'PIt',\n",
    "                           'G6Pter',\n",
    "                           'GLCter',\n",
    "                           'GLCt1'\n",
    "                          ],\n",
    "    constraint_buffer=1)\n",
    "\n",
    "conc_solver.setup_feasible_qp_problem(\n",
    "fixed_conc_bounds=list(glycogenolysis.fixed))\n",
    "fixed_Keq_bounds=glycogenolysis.reactions.list_attr(\"Keq_str\")\n",
    "    \n",
    "#assumption: provide uncertainity to allow for a variance for the Keqs rather than staying fixed\n",
    "#conc_solver.setup_feasible_qp_problem(Keq_percent_deviation=0.1)\n",
    "\n",
    "conc_solution = conc_solver.optimize()\n",
    "conc_solution"
   ]
  },
  {
   "cell_type": "code",
   "execution_count": 42,
   "metadata": {},
   "outputs": [
    {
     "data": {
      "text/plain": [
       "adp_c       0.001995\n",
       "atp_c       0.004727\n",
       "g6p_c       0.000100\n",
       "glc__D_c    0.010483\n",
       "g6p_r       0.000387\n",
       "glc__D_r    0.010483\n",
       "pi_r        0.009744\n",
       "f6p_c       0.000179\n",
       "pi_c        0.006400\n",
       "Name: concentrations, dtype: float64"
      ]
     },
     "execution_count": 42,
     "metadata": {},
     "output_type": "execute_result"
    }
   ],
   "source": [
    "conc_solution.concentrations"
   ]
  },
  {
   "cell_type": "code",
   "execution_count": 43,
   "metadata": {},
   "outputs": [
    {
     "name": "stdout",
     "output_type": "stream",
     "text": [
      "HEX1: -1.0*Keq_HEX1 + 1.0*adp_c - 1.0*atp_c + 1.0*g6p_c - 1.0*glc__D_c <= -1\n",
      "G6PPer: -1.0*Keq_G6PPer - 1.0*g6p_r + 1.0*glc__D_r + 1.0*pi_r <= -1\n",
      "PGI: 1 <= -1.0*Keq_PGI + 1.0*f6p_c - 1.0*g6p_c\n"
     ]
    }
   ],
   "source": [
    "for c in conc_solver.constraints:\n",
    "    print(c)"
   ]
  },
  {
   "cell_type": "code",
   "execution_count": 44,
   "metadata": {},
   "outputs": [
    {
     "name": "stderr",
     "output_type": "stream",
     "text": [
      "mass/visualization/visualization_util.py:1270 \u001b[1;31mUserWarning\u001b[0m: Ignoring {'glc__D_e'}, only in one set of given values\n"
     ]
    },
    {
     "data": {
      "image/png": "[encoded data removed]",
      "text/plain": [
       "<Figure size 360x360 with 1 Axes>"
      ]
     },
     "metadata": {
      "needs_background": "light"
     },
     "output_type": "display_data"
    }
   ],
   "source": [
    "#Compare Results\n",
    "conc_comparison_fig, ax = plt.subplots(nrows=1, ncols=1,\n",
    "                                       figsize=(5, 5))\n",
    "\n",
    "plot_comparison(\n",
    "    x=conc_df[\"Concentration(M)\"], y=conc_solution,\n",
    "    compare=\"concentrations\",\n",
    "    observable=[mid for mid in conc_df.index], ax=ax,\n",
    "    legend=\"right outside\", plot_function=\"plot\",\n",
    "    xlim=(-0.001,0.02), ylim=(-0.001,0.02),\n",
    "    xy_line=True,\n",
    "    xy_legend=\"best\", xlabel=\"Initial [mol/L]\", ylabel=\"Adjusted [mol/L]\")\n",
    "\n",
    "conc_comparison_fig.tight_layout()\n",
    "update_model_with_concentration_solution(\n",
    "    glycogenolysis, conc_solution, concentrations=True, inplace=True);"
   ]
  },
  {
   "cell_type": "markdown",
   "metadata": {},
   "source": [
    "## Sample Concentrations"
   ]
  },
  {
   "cell_type": "code",
   "execution_count": 45,
   "metadata": {},
   "outputs": [
    {
     "data": {
      "text/html": [
       "<div>\n",
       "<style scoped>\n",
       "    .dataframe tbody tr th:only-of-type {\n",
       "        vertical-align: middle;\n",
       "    }\n",
       "\n",
       "    .dataframe tbody tr th {\n",
       "        vertical-align: top;\n",
       "    }\n",
       "\n",
       "    .dataframe thead th {\n",
       "        text-align: right;\n",
       "    }\n",
       "</style>\n",
       "<table border=\"1\" class=\"dataframe\">\n",
       "  <thead>\n",
       "    <tr style=\"text-align: right;\">\n",
       "      <th></th>\n",
       "      <th>adp_c</th>\n",
       "      <th>atp_c</th>\n",
       "      <th>g6p_c</th>\n",
       "      <th>glc__D_c</th>\n",
       "      <th>g6p_r</th>\n",
       "      <th>glc__D_r</th>\n",
       "      <th>pi_r</th>\n",
       "      <th>f6p_c</th>\n",
       "      <th>pi_c</th>\n",
       "    </tr>\n",
       "  </thead>\n",
       "  <tbody>\n",
       "    <tr>\n",
       "      <th>0</th>\n",
       "      <td>0.000988</td>\n",
       "      <td>0.015904</td>\n",
       "      <td>0.000338</td>\n",
       "      <td>0.003638</td>\n",
       "      <td>0.000119</td>\n",
       "      <td>0.001104</td>\n",
       "      <td>0.001026</td>\n",
       "      <td>0.000604</td>\n",
       "      <td>0.020851</td>\n",
       "    </tr>\n",
       "    <tr>\n",
       "      <th>1</th>\n",
       "      <td>0.004142</td>\n",
       "      <td>0.000600</td>\n",
       "      <td>0.000602</td>\n",
       "      <td>0.002026</td>\n",
       "      <td>0.000663</td>\n",
       "      <td>0.013899</td>\n",
       "      <td>0.011056</td>\n",
       "      <td>0.001077</td>\n",
       "      <td>0.012970</td>\n",
       "    </tr>\n",
       "    <tr>\n",
       "      <th>2</th>\n",
       "      <td>0.011224</td>\n",
       "      <td>0.000979</td>\n",
       "      <td>0.000071</td>\n",
       "      <td>0.003320</td>\n",
       "      <td>0.000898</td>\n",
       "      <td>0.002462</td>\n",
       "      <td>0.091686</td>\n",
       "      <td>0.000127</td>\n",
       "      <td>0.001751</td>\n",
       "    </tr>\n",
       "  </tbody>\n",
       "</table>\n",
       "</div>"
      ],
      "text/plain": [
       "      adp_c     atp_c     g6p_c  glc__D_c     g6p_r  glc__D_r      pi_r  \\\n",
       "0  0.000988  0.015904  0.000338  0.003638  0.000119  0.001104  0.001026   \n",
       "1  0.004142  0.000600  0.000602  0.002026  0.000663  0.013899  0.011056   \n",
       "2  0.011224  0.000979  0.000071  0.003320  0.000898  0.002462  0.091686   \n",
       "\n",
       "      f6p_c      pi_c  \n",
       "0  0.000604  0.020851  \n",
       "1  0.001077  0.012970  \n",
       "2  0.000127  0.001751  "
      ]
     },
     "execution_count": 45,
     "metadata": {},
     "output_type": "execute_result"
    }
   ],
   "source": [
    "conc_solver.setup_sampling_problem(\n",
    "    fixed_conc_bounds=list(glycogenolysis.fixed),\n",
    "    fixed_Keq_bounds=glycogenolysis.reactions.list_attr(\"Keq_str\"))\n",
    "for variable in conc_solver.variables:\n",
    "    try:\n",
    "        met = glycogenolysis.metabolites.get_by_id(variable.name)\n",
    "        variable.lb, variable.ub = np.log([met.ic / 10, met.ic * 10])\n",
    "    except:\n",
    "        pass\n",
    "conc_samples = sample_concentrations(conc_solver, n=n_models, seed=seed)\n",
    "conc_samples.head()"
   ]
  },
  {
   "cell_type": "markdown",
   "metadata": {},
   "source": [
    "## Set concentrations and balance models with pseudoreactions"
   ]
  },
  {
   "cell_type": "code",
   "execution_count": 46,
   "metadata": {},
   "outputs": [],
   "source": [
    "glycogenolysis.boundary_conditions['glc__D_b']=0.010482807 ##  initial condition of the metabolite in the model\n"
   ]
  },
  {
   "cell_type": "code",
   "execution_count": 47,
   "metadata": {},
   "outputs": [
    {
     "data": {
      "text/plain": [
       "{<MassReaction HEX1 at 0x7ff8190e6e90>: 0.00021506233542487052,\n",
       " <MassReaction GLCt1 at 0x7ff8190e6dd0>: -0.002150623354248705,\n",
       " <MassReaction G6Pter at 0x7ff8190e6410>: 0.002365685689673576,\n",
       " <MassReaction G6PPer at 0x7ff8190fda50>: 0.002365685689673576,\n",
       " <MassReaction GLCter at 0x7ff8190e6190>: -0.002365685689673576,\n",
       " <MassReaction PGI at 0x7ff81eeee390>: -0.002150623354248705,\n",
       " <MassReaction H2Oter at 0x7ff8191553d0>: 0.002365685689673576,\n",
       " <MassReaction PIter at 0x7ff819155510>: 0.002365685689673576,\n",
       " <MassReaction H2Ot at 0x7ff818f39f90>: 0.002365685689673576,\n",
       " <MassReaction PIt at 0x7ff818efca90>: 0.002365685689673576,\n",
       " <MassReaction Ht at 0x7ff818f92150>: -0.00021506233542487052}"
      ]
     },
     "execution_count": 47,
     "metadata": {},
     "output_type": "execute_result"
    }
   ],
   "source": [
    "glycogenolysis.steady_state_fluxes "
   ]
  },
  {
   "cell_type": "code",
   "execution_count": 48,
   "metadata": {},
   "outputs": [
    {
     "data": {
      "text/plain": [
       "[1.0, -1.0]"
      ]
     },
     "execution_count": 48,
     "metadata": {},
     "output_type": "execute_result"
    }
   ],
   "source": [
    "glycogenolysis.reactions.PGI.stoichiometry\n"
   ]
  },
  {
   "cell_type": "code",
   "execution_count": 49,
   "metadata": {},
   "outputs": [
    {
     "data": {
      "text/html": [
       "\n",
       "            <table>\n",
       "                <tr>\n",
       "                    <td><strong>Reaction identifier</strong></td>\n",
       "                    <td>PGI</td>\n",
       "                </tr><tr>\n",
       "                    <td><strong>Name</strong></td>\n",
       "                    <td>Glucose-6-phosphate isomerase</td>\n",
       "                </tr><tr>\n",
       "                    <td><strong>Memory address</strong></td>\n",
       "                    <td>0x07ff81eeee390</td>\n",
       "                </tr><tr>\n",
       "                    <td><strong>Subsystem</strong></td>\n",
       "                    <td>Glycolysis/gluconeogenesis</td>\n",
       "                </tr><tr>\n",
       "                    <td><strong>Kinetic Reversibility</strong></td>\n",
       "                    <td>True</td>\n",
       "                </tr><tr>\n",
       "                    <td><strong>Stoichiometry</strong></td>\n",
       "                    <td>\n",
       "                        <p style='text-align:right'>g6p_c <=> f6p_c</p>\n",
       "                        <p style='text-align:right'>D-Glucose 6-phosphate <=> D-Fructose-6-phosphate</p>\n",
       "                    </td>\n",
       "                </tr><tr>\n",
       "                    <td><strong>GPR</strong></td><td>2821_AT1</td>\n",
       "                </tr><tr>\n",
       "                    <td><strong>Bounds</strong></td><td>(-1000.0, 1000.0)</td>\n",
       "                </tr>\n",
       "            </table>\n",
       "        "
      ],
      "text/plain": [
       "<MassReaction PGI at 0x7ff81eeee390>"
      ]
     },
     "execution_count": 49,
     "metadata": {},
     "output_type": "execute_result"
    }
   ],
   "source": [
    "glycogenolysis.reactions.PGI  "
   ]
  },
  {
   "cell_type": "code",
   "execution_count": 50,
   "metadata": {},
   "outputs": [
    {
     "data": {
      "text/html": [
       "<div>\n",
       "<style scoped>\n",
       "    .dataframe tbody tr th:only-of-type {\n",
       "        vertical-align: middle;\n",
       "    }\n",
       "\n",
       "    .dataframe tbody tr th {\n",
       "        vertical-align: top;\n",
       "    }\n",
       "\n",
       "    .dataframe thead th {\n",
       "        text-align: right;\n",
       "    }\n",
       "</style>\n",
       "<table border=\"1\" class=\"dataframe\">\n",
       "  <thead>\n",
       "    <tr style=\"text-align: right;\">\n",
       "      <th></th>\n",
       "      <th>HEX1</th>\n",
       "      <th>GLCt1</th>\n",
       "      <th>G6Pter</th>\n",
       "      <th>G6PPer</th>\n",
       "      <th>GLCter</th>\n",
       "      <th>PGI</th>\n",
       "      <th>H2Oter</th>\n",
       "      <th>PIter</th>\n",
       "      <th>H2Ot</th>\n",
       "      <th>PIt</th>\n",
       "      <th>Ht</th>\n",
       "    </tr>\n",
       "  </thead>\n",
       "  <tbody>\n",
       "    <tr>\n",
       "      <th>adp_c</th>\n",
       "      <td>1</td>\n",
       "      <td>0</td>\n",
       "      <td>0</td>\n",
       "      <td>0</td>\n",
       "      <td>0</td>\n",
       "      <td>0</td>\n",
       "      <td>0</td>\n",
       "      <td>0</td>\n",
       "      <td>0</td>\n",
       "      <td>0</td>\n",
       "      <td>0</td>\n",
       "    </tr>\n",
       "    <tr>\n",
       "      <th>atp_c</th>\n",
       "      <td>-1</td>\n",
       "      <td>0</td>\n",
       "      <td>0</td>\n",
       "      <td>0</td>\n",
       "      <td>0</td>\n",
       "      <td>0</td>\n",
       "      <td>0</td>\n",
       "      <td>0</td>\n",
       "      <td>0</td>\n",
       "      <td>0</td>\n",
       "      <td>0</td>\n",
       "    </tr>\n",
       "    <tr>\n",
       "      <th>g6p_c</th>\n",
       "      <td>1</td>\n",
       "      <td>0</td>\n",
       "      <td>-1</td>\n",
       "      <td>0</td>\n",
       "      <td>0</td>\n",
       "      <td>-1</td>\n",
       "      <td>0</td>\n",
       "      <td>0</td>\n",
       "      <td>0</td>\n",
       "      <td>0</td>\n",
       "      <td>0</td>\n",
       "    </tr>\n",
       "    <tr>\n",
       "      <th>glc__D_c</th>\n",
       "      <td>-1</td>\n",
       "      <td>1</td>\n",
       "      <td>0</td>\n",
       "      <td>0</td>\n",
       "      <td>-1</td>\n",
       "      <td>0</td>\n",
       "      <td>0</td>\n",
       "      <td>0</td>\n",
       "      <td>0</td>\n",
       "      <td>0</td>\n",
       "      <td>0</td>\n",
       "    </tr>\n",
       "    <tr>\n",
       "      <th>h_c</th>\n",
       "      <td>1</td>\n",
       "      <td>0</td>\n",
       "      <td>0</td>\n",
       "      <td>0</td>\n",
       "      <td>0</td>\n",
       "      <td>0</td>\n",
       "      <td>0</td>\n",
       "      <td>0</td>\n",
       "      <td>0</td>\n",
       "      <td>0</td>\n",
       "      <td>1</td>\n",
       "    </tr>\n",
       "    <tr>\n",
       "      <th>glc__D_e</th>\n",
       "      <td>0</td>\n",
       "      <td>-1</td>\n",
       "      <td>0</td>\n",
       "      <td>0</td>\n",
       "      <td>0</td>\n",
       "      <td>0</td>\n",
       "      <td>0</td>\n",
       "      <td>0</td>\n",
       "      <td>0</td>\n",
       "      <td>0</td>\n",
       "      <td>0</td>\n",
       "    </tr>\n",
       "    <tr>\n",
       "      <th>g6p_r</th>\n",
       "      <td>0</td>\n",
       "      <td>0</td>\n",
       "      <td>1</td>\n",
       "      <td>-1</td>\n",
       "      <td>0</td>\n",
       "      <td>0</td>\n",
       "      <td>0</td>\n",
       "      <td>0</td>\n",
       "      <td>0</td>\n",
       "      <td>0</td>\n",
       "      <td>0</td>\n",
       "    </tr>\n",
       "    <tr>\n",
       "      <th>glc__D_r</th>\n",
       "      <td>0</td>\n",
       "      <td>0</td>\n",
       "      <td>0</td>\n",
       "      <td>1</td>\n",
       "      <td>1</td>\n",
       "      <td>0</td>\n",
       "      <td>0</td>\n",
       "      <td>0</td>\n",
       "      <td>0</td>\n",
       "      <td>0</td>\n",
       "      <td>0</td>\n",
       "    </tr>\n",
       "    <tr>\n",
       "      <th>h2o_r</th>\n",
       "      <td>0</td>\n",
       "      <td>0</td>\n",
       "      <td>0</td>\n",
       "      <td>-1</td>\n",
       "      <td>0</td>\n",
       "      <td>0</td>\n",
       "      <td>1</td>\n",
       "      <td>0</td>\n",
       "      <td>0</td>\n",
       "      <td>0</td>\n",
       "      <td>0</td>\n",
       "    </tr>\n",
       "    <tr>\n",
       "      <th>pi_r</th>\n",
       "      <td>0</td>\n",
       "      <td>0</td>\n",
       "      <td>0</td>\n",
       "      <td>1</td>\n",
       "      <td>0</td>\n",
       "      <td>0</td>\n",
       "      <td>0</td>\n",
       "      <td>-1</td>\n",
       "      <td>0</td>\n",
       "      <td>0</td>\n",
       "      <td>0</td>\n",
       "    </tr>\n",
       "    <tr>\n",
       "      <th>f6p_c</th>\n",
       "      <td>0</td>\n",
       "      <td>0</td>\n",
       "      <td>0</td>\n",
       "      <td>0</td>\n",
       "      <td>0</td>\n",
       "      <td>1</td>\n",
       "      <td>0</td>\n",
       "      <td>0</td>\n",
       "      <td>0</td>\n",
       "      <td>0</td>\n",
       "      <td>0</td>\n",
       "    </tr>\n",
       "    <tr>\n",
       "      <th>h2o_c</th>\n",
       "      <td>0</td>\n",
       "      <td>0</td>\n",
       "      <td>0</td>\n",
       "      <td>0</td>\n",
       "      <td>0</td>\n",
       "      <td>0</td>\n",
       "      <td>-1</td>\n",
       "      <td>0</td>\n",
       "      <td>1</td>\n",
       "      <td>0</td>\n",
       "      <td>0</td>\n",
       "    </tr>\n",
       "    <tr>\n",
       "      <th>pi_c</th>\n",
       "      <td>0</td>\n",
       "      <td>0</td>\n",
       "      <td>0</td>\n",
       "      <td>0</td>\n",
       "      <td>0</td>\n",
       "      <td>0</td>\n",
       "      <td>0</td>\n",
       "      <td>1</td>\n",
       "      <td>0</td>\n",
       "      <td>-1</td>\n",
       "      <td>0</td>\n",
       "    </tr>\n",
       "    <tr>\n",
       "      <th>h2o_e</th>\n",
       "      <td>0</td>\n",
       "      <td>0</td>\n",
       "      <td>0</td>\n",
       "      <td>0</td>\n",
       "      <td>0</td>\n",
       "      <td>0</td>\n",
       "      <td>0</td>\n",
       "      <td>0</td>\n",
       "      <td>-1</td>\n",
       "      <td>0</td>\n",
       "      <td>0</td>\n",
       "    </tr>\n",
       "    <tr>\n",
       "      <th>pi_e</th>\n",
       "      <td>0</td>\n",
       "      <td>0</td>\n",
       "      <td>0</td>\n",
       "      <td>0</td>\n",
       "      <td>0</td>\n",
       "      <td>0</td>\n",
       "      <td>0</td>\n",
       "      <td>0</td>\n",
       "      <td>0</td>\n",
       "      <td>1</td>\n",
       "      <td>0</td>\n",
       "    </tr>\n",
       "    <tr>\n",
       "      <th>h_e</th>\n",
       "      <td>0</td>\n",
       "      <td>0</td>\n",
       "      <td>0</td>\n",
       "      <td>0</td>\n",
       "      <td>0</td>\n",
       "      <td>0</td>\n",
       "      <td>0</td>\n",
       "      <td>0</td>\n",
       "      <td>0</td>\n",
       "      <td>0</td>\n",
       "      <td>-1</td>\n",
       "    </tr>\n",
       "  </tbody>\n",
       "</table>\n",
       "</div>"
      ],
      "text/plain": [
       "          HEX1  GLCt1  G6Pter  G6PPer  GLCter  PGI  H2Oter  PIter  H2Ot  PIt  \\\n",
       "adp_c        1      0       0       0       0    0       0      0     0    0   \n",
       "atp_c       -1      0       0       0       0    0       0      0     0    0   \n",
       "g6p_c        1      0      -1       0       0   -1       0      0     0    0   \n",
       "glc__D_c    -1      1       0       0      -1    0       0      0     0    0   \n",
       "h_c          1      0       0       0       0    0       0      0     0    0   \n",
       "glc__D_e     0     -1       0       0       0    0       0      0     0    0   \n",
       "g6p_r        0      0       1      -1       0    0       0      0     0    0   \n",
       "glc__D_r     0      0       0       1       1    0       0      0     0    0   \n",
       "h2o_r        0      0       0      -1       0    0       1      0     0    0   \n",
       "pi_r         0      0       0       1       0    0       0     -1     0    0   \n",
       "f6p_c        0      0       0       0       0    1       0      0     0    0   \n",
       "h2o_c        0      0       0       0       0    0      -1      0     1    0   \n",
       "pi_c         0      0       0       0       0    0       0      1     0   -1   \n",
       "h2o_e        0      0       0       0       0    0       0      0    -1    0   \n",
       "pi_e         0      0       0       0       0    0       0      0     0    1   \n",
       "h_e          0      0       0       0       0    0       0      0     0    0   \n",
       "\n",
       "          Ht  \n",
       "adp_c      0  \n",
       "atp_c      0  \n",
       "g6p_c      0  \n",
       "glc__D_c   0  \n",
       "h_c        1  \n",
       "glc__D_e   0  \n",
       "g6p_r      0  \n",
       "glc__D_r   0  \n",
       "h2o_r      0  \n",
       "pi_r       0  \n",
       "f6p_c      0  \n",
       "h2o_c      0  \n",
       "pi_c       0  \n",
       "h2o_e      0  \n",
       "pi_e       0  \n",
       "h_e       -1  "
      ]
     },
     "execution_count": 50,
     "metadata": {},
     "output_type": "execute_result"
    }
   ],
   "source": [
    "# glycogenolysis.steady_state_fluxes.values\n",
    "glycogenolysis.update_S(array_type=\"DataFrame\")"
   ]
  },
  {
   "cell_type": "code",
   "execution_count": 77,
   "metadata": {},
   "outputs": [],
   "source": [
    "# for r, v in glycogenolysis.steady_state_fluxes.items():\n",
    "#      if not r.boundary:\n",
    "#         print(r,v)\n",
    "# for r, v in glycogenolysis.steady_state_fluxes.items():\n",
    "#      if not (r.boundary or r== glycogenolysis.reactions.GLCter or r==glycogenolysis.reactions.PIter):\n",
    "#             print(r,v)"
   ]
  },
  {
   "cell_type": "code",
   "execution_count": null,
   "metadata": {},
   "outputs": [],
   "source": []
  },
  {
   "cell_type": "code",
   "execution_count": 54,
   "metadata": {},
   "outputs": [],
   "source": [
    "transport= [\n",
    "#  'H2Oter',\n",
    "    'PIter',\n",
    "#      'H2Ot',\n",
    "    'PIt',\n",
    "#      'Ht',\n",
    "    'GLCter',\n",
    "     'G6Pter'\n",
    "]\n",
    "for x in transport:\n",
    "    a=glycogenolysis.reactions.get_by_id(x)\n",
    "    a.kf=1e6"
   ]
  },
  {
   "cell_type": "code",
   "execution_count": 55,
   "metadata": {},
   "outputs": [
    {
     "name": "stdout",
     "output_type": "stream",
     "text": [
      "Number of models in ensemble: 3\n"
     ]
    }
   ],
   "source": [
    "models_for_ensemble = []\n",
    "for idx, conc_sample in conc_samples.iterrows():\n",
    "    # Make copy of new model\n",
    "    new_model = glycogenolysis.copy()\n",
    "    new_model.id += \"_C{0:d}\".format(idx)\n",
    "    # Get concentration sample and update model with sample\n",
    "    new_model.update_initial_conditions(conc_sample.to_dict())\n",
    "\n",
    "    # Determine imbalances in the reduced network\n",
    "    fluxes = np.array(list(new_model.steady_state_fluxes.values()))\n",
    "    imbalanced_metabolites = new_model.S.dot(fluxes)\n",
    "\n",
    "    # Iterate through metabolites\n",
    "    for mid, imbalance in imbalanced_metabolites.iteritems():\n",
    "        # Ignore balanced metabolites\n",
    "        if imbalance == 0 or new_model.metabolites.get_by_id(mid).compartment== \"e\": # to remove SK_glc__D_e\n",
    "            continue\n",
    "        # Get metabolite object\n",
    "        met = new_model.metabolites.get_by_id(mid)\n",
    "        # Add boundary reactions for imbalanced metabolites\n",
    "        boundary_type = \"sink\"    \n",
    "        # Add boundary reaction with imbalance as flux value\n",
    "        boundary_reaction = new_model.add_boundary(\n",
    "            mid, boundary_type, boundary_condition=met.ic)\n",
    "\n",
    "        boundary_reaction.Keq = 1\n",
    "        if imbalance < 0:\n",
    "            boundary_reaction.reverse_stoichiometry(inplace=True)\n",
    "            imbalance = -imbalance\n",
    "\n",
    "        boundary_reaction.kf = imbalance / met.ic\n",
    "        boundary_reaction.steady_state_flux = imbalance\n",
    "        try:\n",
    "            # Update PERCs\n",
    "            new_model.calculate_PERCs(\n",
    "                fluxes={\n",
    "                    r: v for r, v in new_model.steady_state_fluxes.items() \n",
    "                    if not (r.boundary or r== new_model.reactions.GLCter or r== new_model.reactions.PIter \n",
    "                           or r== new_model.reactions.G6Pter or r== new_model.reactions.PIt)},\n",
    "                update_reactions=True)\n",
    "        except:\n",
    "            print(\"Negative PERCs for {0}\".format(new_model.id))\n",
    "            percs = new_model.calculate_PERCs(\n",
    "                fluxes={\n",
    "                    r: v for r, v in new_model.steady_state_fluxes.items()\n",
    "                    if not (r.boundary  or r== new_model.reactions.GLCter or r== new_model.reactions.PIter\n",
    "                           or r== new_model.reactions.G6Pter or r== new_model.reactions.PIt)},\n",
    "                update_reactions=False)\n",
    "            print(percs)\n",
    "            continue\n",
    "    models_for_ensemble.append(new_model)\n",
    "print(\"Number of models in ensemble: {0:d}\".format(len(models_for_ensemble)))\n",
    "# print(models_for_ensemble)"
   ]
  },
  {
   "cell_type": "code",
   "execution_count": 56,
   "metadata": {},
   "outputs": [
    {
     "data": {
      "text/plain": [
       "3"
      ]
     },
     "execution_count": 56,
     "metadata": {},
     "output_type": "execute_result"
    }
   ],
   "source": [
    "len(models_for_ensemble)"
   ]
  },
  {
   "cell_type": "markdown",
   "metadata": {},
   "source": [
    "#### Ensure model is in steady state and export"
   ]
  },
  {
   "cell_type": "code",
   "execution_count": 57,
   "metadata": {},
   "outputs": [
    {
     "name": "stdout",
     "output_type": "stream",
     "text": [
      "{'kf_HEX1': 4.3406007573249115, 'kf_GLCt1': 0.20515720151043415, 'kf_G6PPer': 6.605164202707909, 'kf_PGI': 12.553705846217452, 'kf_H2Oter': 100000.0, 'kf_H2Ot': 100000.0, 'kf_Ht': 100000.0}\n",
      "{'kf_HEX1': 4.3406007573249115, 'kf_GLCt1': 0.20515720151043415, 'kf_G6PPer': 6.605164202707909, 'kf_PGI': 12.553705846217452, 'kf_H2Oter': 100000.0, 'kf_H2Ot': 100000.0, 'kf_Ht': 100000.0}\n",
      "{'kf_HEX1': 4.3406007573249115, 'kf_GLCt1': 0.20515720151043415, 'kf_G6PPer': 6.605164202707909, 'kf_PGI': 12.553705846217452, 'kf_H2Oter': 100000.0, 'kf_H2Ot': 100000.0, 'kf_Ht': 100000.0}\n",
      "{'kf_HEX1': 4.3406007573249115, 'kf_GLCt1': 0.20515720151043415, 'kf_G6PPer': 6.605164202707909, 'kf_PGI': 12.553705846217452, 'kf_H2Oter': 100000.0, 'kf_H2Ot': 100000.0, 'kf_Ht': 100000.0}\n",
      "{'kf_HEX1': 4.3406007573249115, 'kf_GLCt1': 0.20515720151043415, 'kf_G6PPer': 6.605164202707909, 'kf_PGI': 12.553705846217452, 'kf_H2Oter': 100000.0, 'kf_H2Ot': 100000.0, 'kf_Ht': 100000.0}\n"
     ]
    }
   ],
   "source": [
    "## determine imbalances in the reduced network\n",
    "fluxes = np.array(list(glycogenolysis.steady_state_fluxes.values()))\n",
    "imbalanced_metabolites = glycogenolysis.S.dot(fluxes)\n",
    "\n",
    "# Iterate through metabolites\n",
    "for mid, imbalance in imbalanced_metabolites.iteritems():\n",
    "    # Ignore balanced metabolites\n",
    "    if imbalance == 0 or glycogenolysis.metabolites.get_by_id(mid).compartment== \"e\": # to remove SK_glc__D_e:\n",
    "        continue\n",
    "    # Get metabolite object\n",
    "    met = glycogenolysis.metabolites.get_by_id(mid)\n",
    "\n",
    "    # Add boundary reactions for imbalanced metabolites\n",
    "    boundary_type = \"sink\"    \n",
    "    # Add boundary reaction with imbalance as flux value\n",
    "    boundary_reaction = glycogenolysis.add_boundary(\n",
    "        mid, boundary_type, boundary_condition=met.ic)\n",
    "\n",
    "    boundary_reaction.Keq = 1\n",
    "    if imbalance < 0:\n",
    "        boundary_reaction.reverse_stoichiometry(inplace=True)\n",
    "        imbalance = -imbalance\n",
    "\n",
    "    boundary_reaction.kf = imbalance / met.ic\n",
    "    boundary_reaction.steady_state_flux = imbalance\n",
    "    try:\n",
    "        # Update PERCs\n",
    "            percs= glycogenolysis.calculate_PERCs(\n",
    "            fluxes={\n",
    "                r: v for r, v in glycogenolysis.steady_state_fluxes.items()\n",
    "                if not (r.boundary  or r== glycogenolysis.reactions.GLCter or r== glycogenolysis.reactions.PIter\n",
    "                           or r== glycogenolysis.reactions.G6Pter or r== glycogenolysis.reactions.PIt)},\n",
    "            update_reactions=True)\n",
    "            print(percs)\n",
    "    except:\n",
    "        print(\"Negative PERCs for {0}\".format(new_model.id))\n",
    "        continue"
   ]
  },
  {
   "cell_type": "code",
   "execution_count": 58,
   "metadata": {},
   "outputs": [
    {
     "name": "stdout",
     "output_type": "stream",
     "text": [
      "HEX1 4.3406007573249115\n",
      "GLCt1 0.20515720151043415\n",
      "G6Pter 1000000.0\n",
      "G6PPer 6.605164202707909\n",
      "GLCter 1000000.0\n",
      "PGI 12.553705846217452\n",
      "H2Oter 100000.0\n",
      "PIter 1000000.0\n",
      "H2Ot 100000.0\n",
      "PIt 1000000.0\n",
      "Ht 100000.0\n",
      "SK_adp_c 0.10780326585052365\n",
      "SK_atp_c 0.04549517538378842\n",
      "SK_g6p_c 4.349829681098129e-15\n",
      "SK_glc__D_c 4.1370681321623253e-17\n",
      "SK_f6p_c 12.046479734950944\n"
     ]
    }
   ],
   "source": [
    "# glycogenolysis.reactions.EX_glc__D_e.kf= 1000\n",
    "for reaction in glycogenolysis.reactions:\n",
    "    print(reaction.id, reaction.kf)"
   ]
  },
  {
   "cell_type": "code",
   "execution_count": 60,
   "metadata": {},
   "outputs": [],
   "source": [
    "## balancing charges on reactions manually\n",
    "\n",
    "glycogenolysis.metabolites.h_c.charge=1\n",
    "\n",
    "glycogenolysis.metabolites.h_e.charge=1\n",
    "# glycolysis.metabolites.h_c.charge=1\n",
    "# glycolysis.metabolites.h_m.charge=1\n",
    "# glycolysis.metabolites.h_i.charge=1\n",
    "glycogenolysis.metabolites.pi_c.charge=-2\n",
    "glycogenolysis.metabolites.pi_e.charge=-2\n",
    "# glycolysis.metabolites.pi_m.charge=-2\n",
    "glycogenolysis.metabolites.pi_r.charge=-2\n"
   ]
  },
  {
   "cell_type": "code",
   "execution_count": 61,
   "metadata": {},
   "outputs": [
    {
     "name": "stdout",
     "output_type": "stream",
     "text": [
      "Forward Rate Constants\n",
      "----------------------\n",
      "kf_HEX1: 4.340601\n",
      "kf_GLCt1: 0.205157\n",
      "kf_G6Pter: 1000000.000000\n",
      "kf_G6PPer: 6.605164\n",
      "kf_GLCter: 1000000.000000\n",
      "kf_PGI: 12.553706\n",
      "kf_H2Oter: 100000.000000\n",
      "kf_PIter: 1000000.000000\n",
      "kf_H2Ot: 100000.000000\n",
      "kf_PIt: 1000000.000000\n",
      "kf_Ht: 100000.000000\n",
      "kf_SK_adp_c: 0.107803\n",
      "kf_SK_atp_c: 0.045495\n",
      "kf_SK_g6p_c: 0.000000\n",
      "kf_SK_glc__D_c: 0.000000\n",
      "kf_SK_f6p_c: 12.046480\n"
     ]
    }
   ],
   "source": [
    "glycogenolysis.calculate_PERCs(fluxes={\n",
    "                r: v for r, v in glycogenolysis.steady_state_fluxes.items()\n",
    "                if not (r.boundary  or r== glycogenolysis.reactions.GLCter or r== glycogenolysis.reactions.PIter\n",
    "                           or r== glycogenolysis.reactions.G6Pter or r== glycogenolysis.reactions.PIt)}, update_reactions=True)\n",
    "\n",
    "print(\"Forward Rate Constants\\n----------------------\")\n",
    "for reaction in glycogenolysis.reactions:\n",
    "    print(\"{0}: {1:.6f}\".format(reaction.kf_str, reaction.kf))"
   ]
  },
  {
   "cell_type": "code",
   "execution_count": 63,
   "metadata": {},
   "outputs": [
    {
     "ename": "IndexError",
     "evalue": "list index out of range",
     "output_type": "error",
     "traceback": [
      "\u001b[0;31m---------------------------------------------------------------------------\u001b[0m",
      "\u001b[0;31mIndexError\u001b[0m                                Traceback (most recent call last)",
      "\u001b[0;32m<ipython-input-63-f152f2a50ced>\u001b[0m in \u001b[0;36m<module>\u001b[0;34m\u001b[0m\n\u001b[1;32m      2\u001b[0m \u001b[0mrange\u001b[0m\u001b[0;34m(\u001b[0m\u001b[0mlen\u001b[0m\u001b[0;34m(\u001b[0m\u001b[0mmodel\u001b[0m\u001b[0;34m.\u001b[0m\u001b[0mgenes\u001b[0m\u001b[0;34m)\u001b[0m\u001b[0;34m)\u001b[0m\u001b[0;34m\u001b[0m\u001b[0;34m\u001b[0m\u001b[0m\n\u001b[1;32m      3\u001b[0m \u001b[0;32mfor\u001b[0m \u001b[0mx\u001b[0m \u001b[0;32min\u001b[0m \u001b[0mrange\u001b[0m\u001b[0;34m(\u001b[0m\u001b[0mlen\u001b[0m\u001b[0;34m(\u001b[0m\u001b[0mmodel\u001b[0m\u001b[0;34m.\u001b[0m\u001b[0mgenes\u001b[0m\u001b[0;34m)\u001b[0m\u001b[0;34m)\u001b[0m\u001b[0;34m:\u001b[0m\u001b[0;34m\u001b[0m\u001b[0;34m\u001b[0m\u001b[0m\n\u001b[0;32m----> 4\u001b[0;31m     \u001b[0ma\u001b[0m\u001b[0;34m=\u001b[0m \u001b[0mmodel\u001b[0m\u001b[0;34m.\u001b[0m\u001b[0mgenes\u001b[0m\u001b[0;34m[\u001b[0m\u001b[0mx\u001b[0m\u001b[0;34m]\u001b[0m\u001b[0;34m\u001b[0m\u001b[0;34m\u001b[0m\u001b[0m\n\u001b[0m\u001b[1;32m      5\u001b[0m     \u001b[0mmodel\u001b[0m\u001b[0;34m.\u001b[0m\u001b[0mgenes\u001b[0m\u001b[0;34m.\u001b[0m\u001b[0mremove\u001b[0m\u001b[0;34m(\u001b[0m\u001b[0ma\u001b[0m\u001b[0;34m)\u001b[0m\u001b[0;34m\u001b[0m\u001b[0;34m\u001b[0m\u001b[0m\n\u001b[1;32m      6\u001b[0m \u001b[0;34m\u001b[0m\u001b[0m\n",
      "\u001b[0;32m/usr/local/lib/python3.7/site-packages/cobra/core/dictlist.py\u001b[0m in \u001b[0;36m__getitem__\u001b[0;34m(self, i)\u001b[0m\n\u001b[1;32m    394\u001b[0m     \u001b[0;32mdef\u001b[0m \u001b[0m__getitem__\u001b[0m\u001b[0;34m(\u001b[0m\u001b[0mself\u001b[0m\u001b[0;34m,\u001b[0m \u001b[0mi\u001b[0m\u001b[0;34m)\u001b[0m\u001b[0;34m:\u001b[0m\u001b[0;34m\u001b[0m\u001b[0;34m\u001b[0m\u001b[0m\n\u001b[1;32m    395\u001b[0m         \u001b[0;32mif\u001b[0m \u001b[0misinstance\u001b[0m\u001b[0;34m(\u001b[0m\u001b[0mi\u001b[0m\u001b[0;34m,\u001b[0m \u001b[0mint\u001b[0m\u001b[0;34m)\u001b[0m\u001b[0;34m:\u001b[0m\u001b[0;34m\u001b[0m\u001b[0;34m\u001b[0m\u001b[0m\n\u001b[0;32m--> 396\u001b[0;31m             \u001b[0;32mreturn\u001b[0m \u001b[0mlist\u001b[0m\u001b[0;34m.\u001b[0m\u001b[0m__getitem__\u001b[0m\u001b[0;34m(\u001b[0m\u001b[0mself\u001b[0m\u001b[0;34m,\u001b[0m \u001b[0mi\u001b[0m\u001b[0;34m)\u001b[0m\u001b[0;34m\u001b[0m\u001b[0;34m\u001b[0m\u001b[0m\n\u001b[0m\u001b[1;32m    397\u001b[0m         \u001b[0;32melif\u001b[0m \u001b[0misinstance\u001b[0m\u001b[0;34m(\u001b[0m\u001b[0mi\u001b[0m\u001b[0;34m,\u001b[0m \u001b[0mslice\u001b[0m\u001b[0;34m)\u001b[0m\u001b[0;34m:\u001b[0m\u001b[0;34m\u001b[0m\u001b[0;34m\u001b[0m\u001b[0m\n\u001b[1;32m    398\u001b[0m             \u001b[0mselection\u001b[0m \u001b[0;34m=\u001b[0m \u001b[0mself\u001b[0m\u001b[0;34m.\u001b[0m\u001b[0m__class__\u001b[0m\u001b[0;34m(\u001b[0m\u001b[0;34m)\u001b[0m\u001b[0;34m\u001b[0m\u001b[0;34m\u001b[0m\u001b[0m\n",
      "\u001b[0;31mIndexError\u001b[0m: list index out of range"
     ]
    }
   ],
   "source": [
    "model= models_for_ensemble[0]"
   ]
  },
  {
   "cell_type": "code",
   "execution_count": 68,
   "metadata": {},
   "outputs": [],
   "source": [
    "for x in list(range(len(list(model.genes)))):\n",
    "    a= model.genes[x]\n",
    "    model.genes.remove(a)"
   ]
  },
  {
   "cell_type": "code",
   "execution_count": 69,
   "metadata": {},
   "outputs": [],
   "source": [
    "# Whether to print messages as loop occurs. \n",
    "verbose = False\n",
    "# Ensure all models are simulated to a long time and that\n",
    "# there are enough time points to determine if model reached steady state.\n",
    "tfinal = 1e4\n",
    "\n",
    "sim = Simulation(reference_model=models_for_ensemble[0], verbose=verbose)\n",
    "sim.add_models(models_for_ensemble[1:], verbose=verbose, disable_safe_load=True)\n",
    "sim.integrator.absolute_tolerance = 1e-15\n",
    "sim.integrator.relative_tolerance = 1e-9\n",
    "\n",
    "models_to_export = []\n",
    "with warnings.catch_warnings():\n",
    "    warnings.simplefilter(\"ignore\")\n",
    "    for model in models_for_ensemble:\n",
    "        # Attempt to determine steady state\n",
    "        conc_sol, flux_sol = sim.find_steady_state(\n",
    "            models=model, strategy=\"simulate\", update_values=True,\n",
    "            tfinal=tfinal, \n",
    "            verbose=verbose)\n",
    "        if conc_sol and flux_sol:\n",
    "            continue\n",
    "        print(str(model) + \" first attempt failed.\")\n",
    "        # First attempt was not successful, lengthen time for second attempt\n",
    "        # Attempt to determine steady state\n",
    "        conc_sol, flux_sol = sim.find_steady_state(\n",
    "            models=model, strategy=\"simulate\", update_values=True,\n",
    "            tfinal=tfinal * 10, \n",
    "            verbose=verbose)\n",
    "        if conc_sol and flux_sol:\n",
    "            continue\n",
    "        print(str(model) + \" second attempt failed.\")\n",
    "        # Second attempt was not successful, lengthen time for second attempt\n",
    "        # Attempt to determine steady state\n",
    "        conc_sol, flux_sol = sim.find_steady_state(\n",
    "            models=model, strategy=\"simulate\", update_values=True,\n",
    "            tfinal=tfinal * 100, \n",
    "            verbose=verbose)\n",
    "        if conc_sol and flux_sol:\n",
    "            continue\n",
    "        print(str(model) + \" third attempt failed. Eliminating model.\")\n",
    "        # Third attempt was not successful, eliminate the model\n",
    "        sim.remove_models(models=model, verbose=verbose)"
   ]
  },
  {
   "cell_type": "code",
   "execution_count": 70,
   "metadata": {},
   "outputs": [
    {
     "name": "stdout",
     "output_type": "stream",
     "text": [
      "╒══════════════════════════════════════════╕\n",
      "│ MODEL ID: Glycogenolysis                 │\n",
      "│ SIMULATABLE: True                        │\n",
      "│ PARAMETERS NUMERICALY CONSISTENT: True   │\n",
      "╞══════════════════════════════════════════╡\n",
      "╘══════════════════════════════════════════╛\n"
     ]
    }
   ],
   "source": [
    "models_for_ensemble = []\n",
    "qcqa_model(glycogenolysis, parameters=True, concentrations=True,\n",
    "          fluxes=True, superfluous=True, elemental=True)\n"
   ]
  },
  {
   "cell_type": "code",
   "execution_count": 74,
   "metadata": {},
   "outputs": [],
   "source": [
    "# range(len(glycogenolysis.genes))\n",
    "for x in list(range(len(list(glycogenolysis.genes)))):\n",
    "    a= glycogenolysis.genes[x]\n",
    "    glycogenolysis.genes.remove(a)\n",
    "\n"
   ]
  },
  {
   "cell_type": "code",
   "execution_count": 75,
   "metadata": {},
   "outputs": [
    {
     "data": {
      "image/png": "[encoded data removed]",
      "text/plain": [
       "<Figure size 432x288 with 1 Axes>"
      ]
     },
     "metadata": {
      "needs_background": "light"
     },
     "output_type": "display_data"
    }
   ],
   "source": [
    "###RUN THIS FOR TIME PROFILE\n",
    "# Setup simulation object\n",
    "sim = Simulation(glycogenolysis, verbose=False)\n",
    "# Simulate from 0 to 1000 with 10001 points in the output\n",
    "conc_sol, flux_sol = sim.simulate(glycogenolysis, time=(0, 1e10, 1e4 + 1))\n",
    "# Quickly render and display time profiles\n",
    "conc_sol.view_time_profile()"
   ]
  },
  {
   "cell_type": "code",
   "execution_count": 76,
   "metadata": {},
   "outputs": [
    {
     "data": {
      "image/png": "[encoded data removed]",
      "text/plain": [
       "<Figure size 720x432 with 2 Axes>"
      ]
     },
     "metadata": {
      "needs_background": "light"
     },
     "output_type": "display_data"
    }
   ],
   "source": [
    "fig_1, axes = plt.subplots(nrows=2, ncols=1, figsize=(10, 6));\n",
    "(ax1, ax2) = axes.flatten()\n",
    "L_FONT = {\"size\": \"large\"}\n",
    "plot_time_profile(\n",
    "    conc_sol, ax=ax1, legend=\"right outside\",\n",
    "    plot_function=\"semilogx\",\n",
    "    xlabel=\"Time [hr]\", ylabel=\"Concentration [M]\",\n",
    "    title=(\"Concentration Profile\", L_FONT));\n",
    "\n",
    "plot_time_profile(\n",
    "    flux_sol, ax=ax2, legend=\"right outside\",\n",
    "    plot_function=\"semilogx\",\n",
    "    xlabel=\"Time [hr]\", ylabel=\"Flux (mmol/gDW*hr)\",\n",
    "    title=(\"Flux Profile\", L_FONT));\n",
    "fig_1.tight_layout()\n",
    "\n"
   ]
  },
  {
   "cell_type": "code",
   "execution_count": null,
   "metadata": {},
   "outputs": [],
   "source": []
  },
  {
   "cell_type": "code",
   "execution_count": null,
   "metadata": {},
   "outputs": [],
   "source": []
  },
  {
   "cell_type": "code",
   "execution_count": null,
   "metadata": {},
   "outputs": [],
   "source": []
  },
  {
   "cell_type": "code",
   "execution_count": null,
   "metadata": {},
   "outputs": [],
   "source": []
  }
 ],
 "metadata": {
  "kernelspec": {
   "display_name": "Python 3",
   "language": "python",
   "name": "python3"
  },
  "language_info": {
   "codemirror_mode": {
    "name": "ipython",
    "version": 3
   },
   "file_extension": ".py",
   "mimetype": "text/x-python",
   "name": "python",
   "nbconvert_exporter": "python",
   "pygments_lexer": "ipython3",
   "version": "3.7.9"
  }
 },
 "nbformat": 4,
 "nbformat_minor": 4
}
