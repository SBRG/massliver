{
 "cells": [
  {
   "cell_type": "markdown",
   "metadata": {},
   "source": [
    "# Liver Model Construction: Notebook-Glycogenolysis"
   ]
  },
  {
   "cell_type": "markdown",
   "metadata": {},
   "source": [
    "## Setup workflow"
   ]
  },
  {
   "cell_type": "markdown",
   "metadata": {},
   "source": [
    "### Import packages"
   ]
  },
  {
   "cell_type": "code",
   "execution_count": 1,
   "metadata": {},
   "outputs": [
    {
     "name": "stdout",
     "output_type": "stream",
     "text": [
      "MASSpy version: 0.1.1\n"
     ]
    }
   ],
   "source": [
    "import os\n",
    "import warnings\n",
    "from cobra.io.json import load_json_model as load_json_cobra_model\n",
    "import escher\n",
    "import mass\n",
    "import numpy as np\n",
    "import pandas as pd\n",
    "import sympy as sym\n",
    "from cobra import Model, Reaction, Metabolite\n",
    "import cobra.test\n",
    "from os.path import join\n",
    "from mass.util import qcqa_model\n",
    "from cobra import DictList\n",
    "from mass import (\n",
    "    MassConfiguration, MassMetabolite, MassModel,\n",
    "    MassReaction, Simulation, UnitDefinition)\n",
    "from mass.io.json import save_json_model as save_json_mass_model\n",
    "from mass.visualization import plot_comparison, plot_time_profile\n",
    "mass_config = MassConfiguration()\n",
    "mass_config.irreversible_Keq = float(\"inf\")\n",
    "print(\"MASSpy version: {0}\".format(mass.__version__))\n",
    "from six import iteritems\n",
    "import matplotlib.pyplot as plt\n",
    "from mass.thermo import (\n",
    "    ConcSolver, sample_concentrations,\n",
    "    update_model_with_concentration_solution)"
   ]
  },
  {
   "cell_type": "markdown",
   "metadata": {},
   "source": [
    "## Set paths and constants"
   ]
  },
  {
   "cell_type": "code",
   "execution_count": 2,
   "metadata": {},
   "outputs": [],
   "source": [
    "seed = int(4)\n",
    "#increase number of models from before\n",
    "n_models = 20\n",
    "\n",
    "mass_config = MassConfiguration()\n",
    "mass_config.solver = \"cplex\""
   ]
  },
  {
   "cell_type": "code",
   "execution_count": null,
   "metadata": {},
   "outputs": [],
   "source": []
  },
  {
   "cell_type": "markdown",
   "metadata": {},
   "source": [
    "### Directory paths"
   ]
  },
  {
   "cell_type": "code",
   "execution_count": 3,
   "metadata": {},
   "outputs": [],
   "source": [
    "#had to remove the mass\n",
    "model_dir = os.path.abspath(\"/Users/RiyaMathur/MASSliver/models\")\n",
    "maps_dir = os.path.abspath(\"/Users/RiyaMathur/MASSliver/models/maps\")\n",
    "data_dir = os.path.abspath(\"/Users/RiyaMathur/Downloads\")\n",
    "\n",
    "#model_dir = os.path.abspath(\"../mass_user/models\")\n",
    "#maps_dir = os.path.abspath(\"../mass_user/maps\")\n",
    "#data_dir = os.path.abspath(\"../mass_user/data\")"
   ]
  },
  {
   "cell_type": "code",
   "execution_count": 4,
   "metadata": {},
   "outputs": [],
   "source": [
    "# Allow Escher to close without pop-up\n",
    "escher.rc['never_ask_before_quit'] = True\n"
   ]
  },
  {
   "cell_type": "markdown",
   "metadata": {},
   "source": [
    "### Load COBRA model"
   ]
  },
  {
   "cell_type": "code",
   "execution_count": 5,
   "metadata": {},
   "outputs": [
    {
     "data": {
      "text/html": [
       "\n",
       "        <table>\n",
       "            <tr>\n",
       "                <td><strong>Name</strong></td>\n",
       "                <td>None</td>\n",
       "            </tr><tr>\n",
       "                <td><strong>Memory address</strong></td>\n",
       "                <td>0x07f8dab30d490</td>\n",
       "            </tr><tr>\n",
       "                <td><strong>Number of metabolites</strong></td>\n",
       "                <td>178</td>\n",
       "            </tr><tr>\n",
       "                <td><strong>Number of reactions</strong></td>\n",
       "                <td>187</td>\n",
       "            </tr><tr>\n",
       "                <td><strong>Number of groups</strong></td>\n",
       "                <td>0</td>\n",
       "            </tr><tr>\n",
       "                <td><strong>Objective expression</strong></td>\n",
       "                <td>1.0*ATPM - 1.0*ATPM_reverse_5b752</td>\n",
       "            </tr><tr>\n",
       "                <td><strong>Compartments</strong></td>\n",
       "                <td>m, i, c, r, </td>\n",
       "            </tr>\n",
       "          </table>"
      ],
      "text/plain": [
       "<Model None at 0x7f8dab30d490>"
      ]
     },
     "execution_count": 5,
     "metadata": {},
     "output_type": "execute_result"
    }
   ],
   "source": [
    "core_model=load_json_cobra_model(filename=os.path.join(model_dir,\"CoreModel.json\"))\n",
    "core_model"
   ]
  },
  {
   "cell_type": "code",
   "execution_count": 6,
   "metadata": {},
   "outputs": [],
   "source": [
    "# core_model.remove_reactions(EX_glc__D_c)"
   ]
  },
  {
   "cell_type": "code",
   "execution_count": 7,
   "metadata": {},
   "outputs": [],
   "source": [
    "# core_model.remove_reactions([EX_glc__D_c])"
   ]
  },
  {
   "cell_type": "code",
   "execution_count": 8,
   "metadata": {},
   "outputs": [
    {
     "data": {
      "text/plain": [
       "[<Reaction EX_h_c at 0x7f8db4636e80>,\n",
       " <Reaction EX_pyr_c at 0x7f8db46364c0>,\n",
       " <Reaction EX_h2o_c at 0x7f8db463d6a0>,\n",
       " <Reaction EX_pi_c at 0x7f8db463d7c0>,\n",
       " <Reaction EX_glc__D_c at 0x7f8db463d880>,\n",
       " <Reaction EX_lac__L_c at 0x7f8db463d940>,\n",
       " <Reaction EX_co2_c at 0x7f8db463da00>,\n",
       " <Reaction EX_o2_c at 0x7f8db463dac0>,\n",
       " <Reaction EX_octa_prod_c at 0x7f8db463db80>,\n",
       " <Reaction EX_octa_cons_c at 0x7f8db463dc40>,\n",
       " <Reaction EX_urea_c at 0x7f8db463ddc0>,\n",
       " <Reaction EX_gln__L_c at 0x7f8db463de80>,\n",
       " <Reaction EX_acetone_c at 0x7f8db463dd00>,\n",
       " <Reaction EX_bhb_c at 0x7f8db463df40>,\n",
       " <Reaction EX_glu__L_c at 0x7f8db463d1c0>,\n",
       " <Reaction EX_ser__L_c at 0x7f8db463d3a0>,\n",
       " <Reaction EX_cys__L_c at 0x7f8db45c6100>,\n",
       " <Reaction EX_gly_c at 0x7f8db45c6280>,\n",
       " <Reaction EX_glygn2_c at 0x7f8db45c6340>,\n",
       " <Reaction EX_Tyr_ggn_c at 0x7f8db45c6400>,\n",
       " <Reaction EX_ala__L_c at 0x7f8db45c64c0>,\n",
       " <Reaction EX_nh4_c at 0x7f8db45c6580>,\n",
       " <Reaction EX_so3_c at 0x7f8db45c6640>,\n",
       " <Reaction EX_etoh_c at 0x7f8db45c6700>,\n",
       " <Reaction EX_glyc_3octa_c at 0x7f8db45c67c0>,\n",
       " <Reaction EX_fru_c at 0x7f8db45c6880>]"
      ]
     },
     "execution_count": 8,
     "metadata": {},
     "output_type": "execute_result"
    }
   ],
   "source": [
    "core_model.boundary"
   ]
  },
  {
   "cell_type": "code",
   "execution_count": 9,
   "metadata": {},
   "outputs": [],
   "source": [
    "## adding reactions from Recon3D\n",
    "R3D=load_json_cobra_model(filename=os.path.join(model_dir,\"Recon3D.json\"))"
   ]
  },
  {
   "cell_type": "code",
   "execution_count": 10,
   "metadata": {},
   "outputs": [],
   "source": [
    "## adding reactions from glycogenloysis \n",
    "gly=load_json_cobra_model(filename=os.path.join(model_dir,\"Glycogenolysis.json\"))"
   ]
  },
  {
   "cell_type": "code",
   "execution_count": 11,
   "metadata": {},
   "outputs": [],
   "source": [
    "## change after double checking this, maybe not needed to be added to core?\n",
    "a= R3D.reactions.EX_glc__D_e\n",
    "b= R3D.reactions.GLCt1\n",
    "g= gly.reactions.SK_g6p_c\n",
    "new_r_list=[\n",
    "            a,\n",
    "            b,\n",
    "            g\n",
    "    \n",
    "]\n"
   ]
  },
  {
   "cell_type": "code",
   "execution_count": 12,
   "metadata": {},
   "outputs": [],
   "source": [
    "for x in new_r_list:\n",
    "    c= x\n",
    "    core_model.add_reaction(c)"
   ]
  },
  {
   "cell_type": "code",
   "execution_count": 13,
   "metadata": {},
   "outputs": [
    {
     "data": {
      "text/plain": [
       "[<Reaction CSm at 0x7f8db42deb20>,\n",
       " <Reaction ACONTm at 0x7f8db42deb50>,\n",
       " <Reaction ICDHxm at 0x7f8db42debb0>,\n",
       " <Reaction AKGDm at 0x7f8db42deb80>,\n",
       " <Reaction SUCOASm at 0x7f8db42debe0>,\n",
       " <Reaction SUCD1m at 0x7f8db42defa0>,\n",
       " <Reaction FUMm at 0x7f8db42ebdf0>,\n",
       " <Reaction MDHm at 0x7f8db42ebb50>,\n",
       " <Reaction NADH2_u10mi at 0x7f8db42eb190>,\n",
       " <Reaction FADH2ETC at 0x7f8db42eb970>,\n",
       " <Reaction CYOR_u10mi at 0x7f8db43110d0>,\n",
       " <Reaction CYOOm2i at 0x7f8db42f5700>,\n",
       " <Reaction ATPS4mi at 0x7f8db42f53d0>,\n",
       " <Reaction Htmi at 0x7f8db42f5340>,\n",
       " <Reaction HEX1 at 0x7f8db42f5af0>,\n",
       " <Reaction PGI at 0x7f8db42f5d90>,\n",
       " <Reaction PFK at 0x7f8db4311eb0>,\n",
       " <Reaction FBA at 0x7f8db4311a30>,\n",
       " <Reaction TPI at 0x7f8db42fc6d0>,\n",
       " <Reaction GAPD at 0x7f8db42fc9a0>,\n",
       " <Reaction PGK at 0x7f8db42fcfa0>,\n",
       " <Reaction PGM at 0x7f8db45bbee0>,\n",
       " <Reaction ENO at 0x7f8db45bbf70>,\n",
       " <Reaction PYK at 0x7f8db4304af0>,\n",
       " <Reaction ADK1 at 0x7f8db4304d60>,\n",
       " <Reaction PDHm at 0x7f8db4304880>,\n",
       " <Reaction LDH_L at 0x7f8db4304580>,\n",
       " <Reaction G6PDH2r at 0x7f8db4304190>,\n",
       " <Reaction PGL at 0x7f8db4309e80>,\n",
       " <Reaction GND at 0x7f8db4309490>,\n",
       " <Reaction RPI at 0x7f8db4309af0>,\n",
       " <Reaction RPE at 0x7f8db45823d0>,\n",
       " <Reaction TKT1 at 0x7f8db4582610>,\n",
       " <Reaction TKT2 at 0x7f8db4582a00>,\n",
       " <Reaction TALA at 0x7f8db4582c70>,\n",
       " <Reaction PCm at 0x7f8db4582f70>,\n",
       " <Reaction PEPCKm at 0x7f8db4582790>,\n",
       " <Reaction FBP at 0x7f8db4582040>,\n",
       " <Reaction G6PPer at 0x7f8db4589a90>,\n",
       " <Reaction G6Pter at 0x7f8db4589d60>,\n",
       " <Reaction GLCter at 0x7f8db4589730>,\n",
       " <Reaction MALtm at 0x7f8db4589220>,\n",
       " <Reaction MDH at 0x7f8db45892e0>,\n",
       " <Reaction PEPCK_re at 0x7f8db458d250>,\n",
       " <Reaction PGMT at 0x7f8db458d970>,\n",
       " <Reaction GALUi at 0x7f8db458d580>,\n",
       " <Reaction GLGNS1 at 0x7f8db458de50>,\n",
       " <Reaction GLBRAN at 0x7f8db458d190>,\n",
       " <Reaction GLPASE1 at 0x7f8db458dcd0>,\n",
       " <Reaction GLDBRAN at 0x7f8db458dc10>,\n",
       " <Reaction GLPASE2 at 0x7f8db4596a30>,\n",
       " <Reaction GGNG at 0x7f8db4596df0>,\n",
       " <Reaction ACACT1m at 0x7f8db4596730>,\n",
       " <Reaction HMGCOASm at 0x7f8db45965e0>,\n",
       " <Reaction HMGLm at 0x7f8db45966a0>,\n",
       " <Reaction ADCim at 0x7f8db459f0a0>,\n",
       " <Reaction BDHm at 0x7f8db459f7c0>,\n",
       " <Reaction OCOAT1m at 0x7f8db459fd60>,\n",
       " <Reaction NDPK1 at 0x7f8db459fbb0>,\n",
       " <Reaction NDPK1m at 0x7f8db459ffa0>,\n",
       " <Reaction NDPK2 at 0x7f8db459faf0>,\n",
       " <Reaction HCO3Em at 0x7f8db45a4cd0>,\n",
       " <Reaction ATPtm at 0x7f8db45a4ac0>,\n",
       " <Reaction AKGMALtm at 0x7f8db45a4640>,\n",
       " <Reaction ASPTA at 0x7f8db45a4310>,\n",
       " <Reaction ASPTAm at 0x7f8db45a4fd0>,\n",
       " <Reaction CITtam at 0x7f8db45b0670>,\n",
       " <Reaction CITL at 0x7f8db45b0bb0>,\n",
       " <Reaction ME2 at 0x7f8db45b0e20>,\n",
       " <Reaction ACS at 0x7f8db45b0970>,\n",
       " <Reaction ARGN at 0x7f8db4326100>,\n",
       " <Reaction OCBTm at 0x7f8db4326ac0>,\n",
       " <Reaction ARGSS at 0x7f8db4326df0>,\n",
       " <Reaction ARGSL at 0x7f8db4326730>,\n",
       " <Reaction CBPSam at 0x7f8db43263d0>,\n",
       " <Reaction NH4tm at 0x7f8db432f0d0>,\n",
       " <Reaction GDHm at 0x7f8db432f5e0>,\n",
       " <Reaction GLNS at 0x7f8db432fc70>,\n",
       " <Reaction GLUN at 0x7f8db432f520>,\n",
       " <Reaction ALATA_L at 0x7f8db432fd90>,\n",
       " <Reaction CYSO at 0x7f8db432f790>,\n",
       " <Reaction 3SALATAi at 0x7f8db4336c70>,\n",
       " <Reaction 3SPYRSP at 0x7f8db4336940>,\n",
       " <Reaction PGCD at 0x7f8db4336700>,\n",
       " <Reaction PSERT at 0x7f8db4336f40>,\n",
       " <Reaction PSP_L at 0x7f8db433e520>,\n",
       " <Reaction GHMT2r at 0x7f8db433eb80>,\n",
       " <Reaction ASNS1 at 0x7f8db433ee50>,\n",
       " <Reaction GLYtm at 0x7f8db433e2b0>,\n",
       " <Reaction MLTHFtm at 0x7f8db433e850>,\n",
       " <Reaction THFtm at 0x7f8db433e910>,\n",
       " <Reaction KHK at 0x7f8db43461f0>,\n",
       " <Reaction FBA2 at 0x7f8db4346760>,\n",
       " <Reaction TRIOK at 0x7f8db4346f10>,\n",
       " <Reaction ALCD19y at 0x7f8db4346a00>,\n",
       " <Reaction GLYK at 0x7f8db43468e0>,\n",
       " <Reaction 2AMACHYD at 0x7f8db4346b50>,\n",
       " <Reaction SERHL at 0x7f8db434ec40>,\n",
       " <Reaction ALCD2x at 0x7f8db434e250>,\n",
       " <Reaction ACALDtm at 0x7f8db434ef10>,\n",
       " <Reaction ALDD2xm at 0x7f8db434e880>,\n",
       " <Reaction ACSm at 0x7f8db4355820>,\n",
       " <Reaction Htm at 0x7f8db4355b80>,\n",
       " <Reaction O2tm at 0x7f8db4355160>,\n",
       " <Reaction H2Otr at 0x7f8db4355e80>,\n",
       " <Reaction H2Otm at 0x7f8db4355f40>,\n",
       " <Reaction PItm at 0x7f8db43550a0>,\n",
       " <Reaction PItr at 0x7f8db435c190>,\n",
       " <Reaction CO2tm at 0x7f8db435c2e0>,\n",
       " <Reaction PPA at 0x7f8db435c430>,\n",
       " <Reaction HCO3E at 0x7f8db435c6a0>,\n",
       " <Reaction PEPtm at 0x7f8db435c7f0>,\n",
       " <Reaction PYRt2m at 0x7f8db435c940>,\n",
       " <Reaction ASPGLUm at 0x7f8db435cbb0>,\n",
       " <Reaction THD1m at 0x7f8db435ce20>,\n",
       " <Reaction BHBtm at 0x7f8db435c040>,\n",
       " <Reaction ACETONEt2m at 0x7f8db4603a60>,\n",
       " <Reaction ORNt4m at 0x7f8db46039d0>,\n",
       " <Reaction FUMtm at 0x7f8db4603cd0>,\n",
       " <Reaction GLUt2m at 0x7f8db4603df0>,\n",
       " <Reaction GLYCLm at 0x7f8db4603f40>,\n",
       " <Reaction FACOAL80PROD at 0x7f8db46030d0>,\n",
       " <Reaction GAPT at 0x7f8db460a7f0>,\n",
       " <Reaction AGPTAT at 0x7f8db460a580>,\n",
       " <Reaction LPIN at 0x7f8db460af10>,\n",
       " <Reaction DGAT at 0x7f8db460afa0>,\n",
       " <Reaction ACCOAC at 0x7f8db460a310>,\n",
       " <Reaction MCOATA at 0x7f8db46179a0>,\n",
       " <Reaction ACOATA at 0x7f8db4617430>,\n",
       " <Reaction KAS14 at 0x7f8db4617ee0>,\n",
       " <Reaction 30AR40 at 0x7f8db4617fa0>,\n",
       " <Reaction 3HAD40 at 0x7f8db4617610>,\n",
       " <Reaction EAR40y at 0x7f8db461d4c0>,\n",
       " <Reaction 30AS60 at 0x7f8db461d970>,\n",
       " <Reaction 30AR60 at 0x7f8db461db50>,\n",
       " <Reaction 3HAD60 at 0x7f8db461dfa0>,\n",
       " <Reaction EAR60y at 0x7f8db461de50>,\n",
       " <Reaction 30AS80 at 0x7f8db461d670>,\n",
       " <Reaction 30AR80 at 0x7f8db4623a00>,\n",
       " <Reaction 3HAD80 at 0x7f8db4623d90>,\n",
       " <Reaction EAR80y at 0x7f8db4623d00>,\n",
       " <Reaction FA80ACPHi at 0x7f8db4623ee0>,\n",
       " <Reaction FACOAL80 at 0x7f8db4623700>,\n",
       " <Reaction C80CPT1 at 0x7f8db46288b0>,\n",
       " <Reaction r2434 at 0x7f8db4628520>,\n",
       " <Reaction CRNtim at 0x7f8db4628eb0>,\n",
       " <Reaction r0636 at 0x7f8db4628e20>,\n",
       " <Reaction COAtim at 0x7f8db4628fd0>,\n",
       " <Reaction ACOAD3fm at 0x7f8db46285b0>,\n",
       " <Reaction ECOAH3m at 0x7f8db462f3d0>,\n",
       " <Reaction HACD3m at 0x7f8db462f8e0>,\n",
       " <Reaction ACACT3rm at 0x7f8db462fac0>,\n",
       " <Reaction ACOAD2fm at 0x7f8db462f850>,\n",
       " <Reaction ECOAH2m at 0x7f8db462fdc0>,\n",
       " <Reaction HACD2m at 0x7f8db462fee0>,\n",
       " <Reaction ACACT2rm at 0x7f8db462f520>,\n",
       " <Reaction ACOAD1fm at 0x7f8db4636250>,\n",
       " <Reaction ECOAH1m at 0x7f8db46368e0>,\n",
       " <Reaction HACD1m at 0x7f8db4636b80>,\n",
       " <Reaction ACACT1rm at 0x7f8db4636ca0>,\n",
       " <Reaction ATPM at 0x7f8db4636fa0>,\n",
       " <Reaction EX_h_c at 0x7f8db4636e80>,\n",
       " <Reaction EX_pyr_c at 0x7f8db46364c0>,\n",
       " <Reaction EX_h2o_c at 0x7f8db463d6a0>,\n",
       " <Reaction EX_pi_c at 0x7f8db463d7c0>,\n",
       " <Reaction EX_glc__D_c at 0x7f8db463d880>,\n",
       " <Reaction EX_lac__L_c at 0x7f8db463d940>,\n",
       " <Reaction EX_co2_c at 0x7f8db463da00>,\n",
       " <Reaction EX_o2_c at 0x7f8db463dac0>,\n",
       " <Reaction EX_octa_prod_c at 0x7f8db463db80>,\n",
       " <Reaction EX_octa_cons_c at 0x7f8db463dc40>,\n",
       " <Reaction EX_urea_c at 0x7f8db463ddc0>,\n",
       " <Reaction EX_gln__L_c at 0x7f8db463de80>,\n",
       " <Reaction EX_acetone_c at 0x7f8db463dd00>,\n",
       " <Reaction EX_bhb_c at 0x7f8db463df40>,\n",
       " <Reaction EX_glu__L_c at 0x7f8db463d1c0>,\n",
       " <Reaction EX_ser__L_c at 0x7f8db463d3a0>,\n",
       " <Reaction EX_cys__L_c at 0x7f8db45c6100>,\n",
       " <Reaction EX_gly_c at 0x7f8db45c6280>,\n",
       " <Reaction EX_glygn2_c at 0x7f8db45c6340>,\n",
       " <Reaction EX_Tyr_ggn_c at 0x7f8db45c6400>,\n",
       " <Reaction EX_ala__L_c at 0x7f8db45c64c0>,\n",
       " <Reaction EX_nh4_c at 0x7f8db45c6580>,\n",
       " <Reaction EX_so3_c at 0x7f8db45c6640>,\n",
       " <Reaction EX_etoh_c at 0x7f8db45c6700>,\n",
       " <Reaction EX_glyc_3octa_c at 0x7f8db45c67c0>,\n",
       " <Reaction EX_fru_c at 0x7f8db45c6880>,\n",
       " <Reaction EX_glc__D_e at 0x7f8d9ab186d0>,\n",
       " <Reaction GLCt1 at 0x7f8d9cc2c8e0>,\n",
       " <Reaction SK_g6p_c at 0x7f8db5038e20>]"
      ]
     },
     "execution_count": 13,
     "metadata": {},
     "output_type": "execute_result"
    }
   ],
   "source": [
    "core_model.reactions"
   ]
  },
  {
   "cell_type": "markdown",
   "metadata": {},
   "source": [
    "## View Escher map"
   ]
  },
  {
   "cell_type": "code",
   "execution_count": 14,
   "metadata": {
    "scrolled": true
   },
   "outputs": [
    {
     "data": {
      "application/vnd.jupyter.widget-view+json": {
       "model_id": "4178d3c6562c415fbbbc2cf27e126ea9",
       "version_major": 2,
       "version_minor": 0
      },
      "text/plain": [
       "Builder(highlight_missing=True, never_ask_before_quit=True)"
      ]
     },
     "metadata": {},
     "output_type": "display_data"
    }
   ],
   "source": [
    "#view all the reactions that we need build\n",
    "escher_builder = escher.Builder(\n",
    "    model=core_model,\n",
    "    map_json=os.path.join(\n",
    "        maps_dir, \".\".join((\n",
    "            \"Glycogenolysis\", \"map\", \"json\"))\n",
    "    ),\n",
    "    highlight_missing=True)\n",
    "\n",
    "escher_builder\n"
   ]
  },
  {
   "cell_type": "markdown",
   "metadata": {},
   "source": [
    "### Loading Measured Fluxes"
   ]
  },
  {
   "cell_type": "code",
   "execution_count": 15,
   "metadata": {},
   "outputs": [],
   "source": [
    "def load_data(filepath, sheet_name):\n",
    "    \"\"\"Load Liver data from an excel sheet\"\"\"\n",
    "    df = pd.read_excel(engine='openpyxl',\n",
    "        io=filepath,\n",
    "        sheet_name=sheet_name,\n",
    "        index_col=0)\n",
    "    return df"
   ]
  },
  {
   "cell_type": "code",
   "execution_count": 16,
   "metadata": {},
   "outputs": [
    {
     "data": {
      "text/html": [
       "<div>\n",
       "<style scoped>\n",
       "    .dataframe tbody tr th:only-of-type {\n",
       "        vertical-align: middle;\n",
       "    }\n",
       "\n",
       "    .dataframe tbody tr th {\n",
       "        vertical-align: top;\n",
       "    }\n",
       "\n",
       "    .dataframe thead th {\n",
       "        text-align: right;\n",
       "    }\n",
       "</style>\n",
       "<table border=\"1\" class=\"dataframe\">\n",
       "  <thead>\n",
       "    <tr style=\"text-align: right;\">\n",
       "      <th></th>\n",
       "      <th>Flux (mmol/gDW*hr)</th>\n",
       "    </tr>\n",
       "    <tr>\n",
       "      <th>ID</th>\n",
       "      <th></th>\n",
       "    </tr>\n",
       "  </thead>\n",
       "  <tbody>\n",
       "    <tr>\n",
       "      <th>GLCter</th>\n",
       "      <td>-0.001682</td>\n",
       "    </tr>\n",
       "    <tr>\n",
       "      <th>G6PPer</th>\n",
       "      <td>0.001682</td>\n",
       "    </tr>\n",
       "    <tr>\n",
       "      <th>G6Pter</th>\n",
       "      <td>0.001682</td>\n",
       "    </tr>\n",
       "    <tr>\n",
       "      <th>EX_glc__D_e</th>\n",
       "      <td>0.001682</td>\n",
       "    </tr>\n",
       "    <tr>\n",
       "      <th>GLCt1</th>\n",
       "      <td>-0.001682</td>\n",
       "    </tr>\n",
       "  </tbody>\n",
       "</table>\n",
       "</div>"
      ],
      "text/plain": [
       "             Flux (mmol/gDW*hr)\n",
       "ID                             \n",
       "GLCter                -0.001682\n",
       "G6PPer                 0.001682\n",
       "G6Pter                 0.001682\n",
       "EX_glc__D_e            0.001682\n",
       "GLCt1                 -0.001682"
      ]
     },
     "execution_count": 16,
     "metadata": {},
     "output_type": "execute_result"
    }
   ],
   "source": [
    "#define data sheet as latest data sheet\n",
    "data_sheet=os.path.join(data_dir,\"1.12-ma-rm-QPdata-collection-glycogenolysis.xlsx\")\n",
    "\n",
    "flux_df = load_data(\n",
    "    filepath=data_sheet,\n",
    "    sheet_name=\"Fluxes\").drop(\"Fasting Time\", axis=1).drop(\"Additional Notes\", axis=1).drop(\"Unnamed: 4\", axis=1).drop(\"Unnamed: 5\", axis=1)\n",
    "    ## weird anomaly, shouldn't happen * unnames:4 and 5\n",
    "\n",
    "flux_df = flux_df.dropna() #drops rows with NaN\n",
    "flux_df\n"
   ]
  },
  {
   "cell_type": "code",
   "execution_count": 17,
   "metadata": {},
   "outputs": [],
   "source": [
    "v_vars = []\n",
    "v_data = []\n",
    "\n",
    "# How much flux to allow through irreversible reaction pairs\n",
    "# e.g, PFK/FBP & reverse_flux_percent = 0.1, raise both fluxes by 10% of non-zero flux value\n",
    "reverse_flux_percent = 0.1\n",
    "irreversible_enzyme_pairs = [\"PFK\", \"FBP\"]"
   ]
  },
  {
   "cell_type": "code",
   "execution_count": 18,
   "metadata": {},
   "outputs": [
    {
     "data": {
      "text/plain": [
       "[<Reaction CSm at 0x7f8db42deb20>,\n",
       " <Reaction ACONTm at 0x7f8db42deb50>,\n",
       " <Reaction ICDHxm at 0x7f8db42debb0>,\n",
       " <Reaction AKGDm at 0x7f8db42deb80>,\n",
       " <Reaction SUCOASm at 0x7f8db42debe0>,\n",
       " <Reaction SUCD1m at 0x7f8db42defa0>,\n",
       " <Reaction FUMm at 0x7f8db42ebdf0>,\n",
       " <Reaction MDHm at 0x7f8db42ebb50>,\n",
       " <Reaction NADH2_u10mi at 0x7f8db42eb190>,\n",
       " <Reaction FADH2ETC at 0x7f8db42eb970>,\n",
       " <Reaction CYOR_u10mi at 0x7f8db43110d0>,\n",
       " <Reaction CYOOm2i at 0x7f8db42f5700>,\n",
       " <Reaction ATPS4mi at 0x7f8db42f53d0>,\n",
       " <Reaction Htmi at 0x7f8db42f5340>,\n",
       " <Reaction HEX1 at 0x7f8db42f5af0>,\n",
       " <Reaction PGI at 0x7f8db42f5d90>,\n",
       " <Reaction PFK at 0x7f8db4311eb0>,\n",
       " <Reaction FBA at 0x7f8db4311a30>,\n",
       " <Reaction TPI at 0x7f8db42fc6d0>,\n",
       " <Reaction GAPD at 0x7f8db42fc9a0>,\n",
       " <Reaction PGK at 0x7f8db42fcfa0>,\n",
       " <Reaction PGM at 0x7f8db45bbee0>,\n",
       " <Reaction ENO at 0x7f8db45bbf70>,\n",
       " <Reaction PYK at 0x7f8db4304af0>,\n",
       " <Reaction ADK1 at 0x7f8db4304d60>,\n",
       " <Reaction PDHm at 0x7f8db4304880>,\n",
       " <Reaction LDH_L at 0x7f8db4304580>,\n",
       " <Reaction G6PDH2r at 0x7f8db4304190>,\n",
       " <Reaction PGL at 0x7f8db4309e80>,\n",
       " <Reaction GND at 0x7f8db4309490>,\n",
       " <Reaction RPI at 0x7f8db4309af0>,\n",
       " <Reaction RPE at 0x7f8db45823d0>,\n",
       " <Reaction TKT1 at 0x7f8db4582610>,\n",
       " <Reaction TKT2 at 0x7f8db4582a00>,\n",
       " <Reaction TALA at 0x7f8db4582c70>,\n",
       " <Reaction PCm at 0x7f8db4582f70>,\n",
       " <Reaction PEPCKm at 0x7f8db4582790>,\n",
       " <Reaction FBP at 0x7f8db4582040>,\n",
       " <Reaction G6PPer at 0x7f8db4589a90>,\n",
       " <Reaction G6Pter at 0x7f8db4589d60>,\n",
       " <Reaction GLCter at 0x7f8db4589730>,\n",
       " <Reaction MALtm at 0x7f8db4589220>,\n",
       " <Reaction MDH at 0x7f8db45892e0>,\n",
       " <Reaction PEPCK_re at 0x7f8db458d250>,\n",
       " <Reaction PGMT at 0x7f8db458d970>,\n",
       " <Reaction GALUi at 0x7f8db458d580>,\n",
       " <Reaction GLGNS1 at 0x7f8db458de50>,\n",
       " <Reaction GLBRAN at 0x7f8db458d190>,\n",
       " <Reaction GLPASE1 at 0x7f8db458dcd0>,\n",
       " <Reaction GLDBRAN at 0x7f8db458dc10>,\n",
       " <Reaction GLPASE2 at 0x7f8db4596a30>,\n",
       " <Reaction GGNG at 0x7f8db4596df0>,\n",
       " <Reaction ACACT1m at 0x7f8db4596730>,\n",
       " <Reaction HMGCOASm at 0x7f8db45965e0>,\n",
       " <Reaction HMGLm at 0x7f8db45966a0>,\n",
       " <Reaction ADCim at 0x7f8db459f0a0>,\n",
       " <Reaction BDHm at 0x7f8db459f7c0>,\n",
       " <Reaction OCOAT1m at 0x7f8db459fd60>,\n",
       " <Reaction NDPK1 at 0x7f8db459fbb0>,\n",
       " <Reaction NDPK1m at 0x7f8db459ffa0>,\n",
       " <Reaction NDPK2 at 0x7f8db459faf0>,\n",
       " <Reaction HCO3Em at 0x7f8db45a4cd0>,\n",
       " <Reaction ATPtm at 0x7f8db45a4ac0>,\n",
       " <Reaction AKGMALtm at 0x7f8db45a4640>,\n",
       " <Reaction ASPTA at 0x7f8db45a4310>,\n",
       " <Reaction ASPTAm at 0x7f8db45a4fd0>,\n",
       " <Reaction CITtam at 0x7f8db45b0670>,\n",
       " <Reaction CITL at 0x7f8db45b0bb0>,\n",
       " <Reaction ME2 at 0x7f8db45b0e20>,\n",
       " <Reaction ACS at 0x7f8db45b0970>,\n",
       " <Reaction ARGN at 0x7f8db4326100>,\n",
       " <Reaction OCBTm at 0x7f8db4326ac0>,\n",
       " <Reaction ARGSS at 0x7f8db4326df0>,\n",
       " <Reaction ARGSL at 0x7f8db4326730>,\n",
       " <Reaction CBPSam at 0x7f8db43263d0>,\n",
       " <Reaction NH4tm at 0x7f8db432f0d0>,\n",
       " <Reaction GDHm at 0x7f8db432f5e0>,\n",
       " <Reaction GLNS at 0x7f8db432fc70>,\n",
       " <Reaction GLUN at 0x7f8db432f520>,\n",
       " <Reaction ALATA_L at 0x7f8db432fd90>,\n",
       " <Reaction CYSO at 0x7f8db432f790>,\n",
       " <Reaction 3SALATAi at 0x7f8db4336c70>,\n",
       " <Reaction 3SPYRSP at 0x7f8db4336940>,\n",
       " <Reaction PGCD at 0x7f8db4336700>,\n",
       " <Reaction PSERT at 0x7f8db4336f40>,\n",
       " <Reaction PSP_L at 0x7f8db433e520>,\n",
       " <Reaction GHMT2r at 0x7f8db433eb80>,\n",
       " <Reaction ASNS1 at 0x7f8db433ee50>,\n",
       " <Reaction GLYtm at 0x7f8db433e2b0>,\n",
       " <Reaction MLTHFtm at 0x7f8db433e850>,\n",
       " <Reaction THFtm at 0x7f8db433e910>,\n",
       " <Reaction KHK at 0x7f8db43461f0>,\n",
       " <Reaction FBA2 at 0x7f8db4346760>,\n",
       " <Reaction TRIOK at 0x7f8db4346f10>,\n",
       " <Reaction ALCD19y at 0x7f8db4346a00>,\n",
       " <Reaction GLYK at 0x7f8db43468e0>,\n",
       " <Reaction 2AMACHYD at 0x7f8db4346b50>,\n",
       " <Reaction SERHL at 0x7f8db434ec40>,\n",
       " <Reaction ALCD2x at 0x7f8db434e250>,\n",
       " <Reaction ACALDtm at 0x7f8db434ef10>,\n",
       " <Reaction ALDD2xm at 0x7f8db434e880>,\n",
       " <Reaction ACSm at 0x7f8db4355820>,\n",
       " <Reaction Htm at 0x7f8db4355b80>,\n",
       " <Reaction O2tm at 0x7f8db4355160>,\n",
       " <Reaction H2Otr at 0x7f8db4355e80>,\n",
       " <Reaction H2Otm at 0x7f8db4355f40>,\n",
       " <Reaction PItm at 0x7f8db43550a0>,\n",
       " <Reaction PItr at 0x7f8db435c190>,\n",
       " <Reaction CO2tm at 0x7f8db435c2e0>,\n",
       " <Reaction PPA at 0x7f8db435c430>,\n",
       " <Reaction HCO3E at 0x7f8db435c6a0>,\n",
       " <Reaction PEPtm at 0x7f8db435c7f0>,\n",
       " <Reaction PYRt2m at 0x7f8db435c940>,\n",
       " <Reaction ASPGLUm at 0x7f8db435cbb0>,\n",
       " <Reaction THD1m at 0x7f8db435ce20>,\n",
       " <Reaction BHBtm at 0x7f8db435c040>,\n",
       " <Reaction ACETONEt2m at 0x7f8db4603a60>,\n",
       " <Reaction ORNt4m at 0x7f8db46039d0>,\n",
       " <Reaction FUMtm at 0x7f8db4603cd0>,\n",
       " <Reaction GLUt2m at 0x7f8db4603df0>,\n",
       " <Reaction GLYCLm at 0x7f8db4603f40>,\n",
       " <Reaction FACOAL80PROD at 0x7f8db46030d0>,\n",
       " <Reaction GAPT at 0x7f8db460a7f0>,\n",
       " <Reaction AGPTAT at 0x7f8db460a580>,\n",
       " <Reaction LPIN at 0x7f8db460af10>,\n",
       " <Reaction DGAT at 0x7f8db460afa0>,\n",
       " <Reaction ACCOAC at 0x7f8db460a310>,\n",
       " <Reaction MCOATA at 0x7f8db46179a0>,\n",
       " <Reaction ACOATA at 0x7f8db4617430>,\n",
       " <Reaction KAS14 at 0x7f8db4617ee0>,\n",
       " <Reaction 30AR40 at 0x7f8db4617fa0>,\n",
       " <Reaction 3HAD40 at 0x7f8db4617610>,\n",
       " <Reaction EAR40y at 0x7f8db461d4c0>,\n",
       " <Reaction 30AS60 at 0x7f8db461d970>,\n",
       " <Reaction 30AR60 at 0x7f8db461db50>,\n",
       " <Reaction 3HAD60 at 0x7f8db461dfa0>,\n",
       " <Reaction EAR60y at 0x7f8db461de50>,\n",
       " <Reaction 30AS80 at 0x7f8db461d670>,\n",
       " <Reaction 30AR80 at 0x7f8db4623a00>,\n",
       " <Reaction 3HAD80 at 0x7f8db4623d90>,\n",
       " <Reaction EAR80y at 0x7f8db4623d00>,\n",
       " <Reaction FA80ACPHi at 0x7f8db4623ee0>,\n",
       " <Reaction FACOAL80 at 0x7f8db4623700>,\n",
       " <Reaction C80CPT1 at 0x7f8db46288b0>,\n",
       " <Reaction r2434 at 0x7f8db4628520>,\n",
       " <Reaction CRNtim at 0x7f8db4628eb0>,\n",
       " <Reaction r0636 at 0x7f8db4628e20>,\n",
       " <Reaction COAtim at 0x7f8db4628fd0>,\n",
       " <Reaction ACOAD3fm at 0x7f8db46285b0>,\n",
       " <Reaction ECOAH3m at 0x7f8db462f3d0>,\n",
       " <Reaction HACD3m at 0x7f8db462f8e0>,\n",
       " <Reaction ACACT3rm at 0x7f8db462fac0>,\n",
       " <Reaction ACOAD2fm at 0x7f8db462f850>,\n",
       " <Reaction ECOAH2m at 0x7f8db462fdc0>,\n",
       " <Reaction HACD2m at 0x7f8db462fee0>,\n",
       " <Reaction ACACT2rm at 0x7f8db462f520>,\n",
       " <Reaction ACOAD1fm at 0x7f8db4636250>,\n",
       " <Reaction ECOAH1m at 0x7f8db46368e0>,\n",
       " <Reaction HACD1m at 0x7f8db4636b80>,\n",
       " <Reaction ACACT1rm at 0x7f8db4636ca0>,\n",
       " <Reaction ATPM at 0x7f8db4636fa0>,\n",
       " <Reaction EX_h_c at 0x7f8db4636e80>,\n",
       " <Reaction EX_pyr_c at 0x7f8db46364c0>,\n",
       " <Reaction EX_h2o_c at 0x7f8db463d6a0>,\n",
       " <Reaction EX_pi_c at 0x7f8db463d7c0>,\n",
       " <Reaction EX_glc__D_c at 0x7f8db463d880>,\n",
       " <Reaction EX_lac__L_c at 0x7f8db463d940>,\n",
       " <Reaction EX_co2_c at 0x7f8db463da00>,\n",
       " <Reaction EX_o2_c at 0x7f8db463dac0>,\n",
       " <Reaction EX_octa_prod_c at 0x7f8db463db80>,\n",
       " <Reaction EX_octa_cons_c at 0x7f8db463dc40>,\n",
       " <Reaction EX_urea_c at 0x7f8db463ddc0>,\n",
       " <Reaction EX_gln__L_c at 0x7f8db463de80>,\n",
       " <Reaction EX_acetone_c at 0x7f8db463dd00>,\n",
       " <Reaction EX_bhb_c at 0x7f8db463df40>,\n",
       " <Reaction EX_glu__L_c at 0x7f8db463d1c0>,\n",
       " <Reaction EX_ser__L_c at 0x7f8db463d3a0>,\n",
       " <Reaction EX_cys__L_c at 0x7f8db45c6100>,\n",
       " <Reaction EX_gly_c at 0x7f8db45c6280>,\n",
       " <Reaction EX_glygn2_c at 0x7f8db45c6340>,\n",
       " <Reaction EX_Tyr_ggn_c at 0x7f8db45c6400>,\n",
       " <Reaction EX_ala__L_c at 0x7f8db45c64c0>,\n",
       " <Reaction EX_nh4_c at 0x7f8db45c6580>,\n",
       " <Reaction EX_so3_c at 0x7f8db45c6640>,\n",
       " <Reaction EX_etoh_c at 0x7f8db45c6700>,\n",
       " <Reaction EX_glyc_3octa_c at 0x7f8db45c67c0>,\n",
       " <Reaction EX_fru_c at 0x7f8db45c6880>,\n",
       " <Reaction EX_glc__D_e at 0x7f8d9ab186d0>,\n",
       " <Reaction GLCt1 at 0x7f8d9cc2c8e0>,\n",
       " <Reaction SK_g6p_c at 0x7f8db5038e20>]"
      ]
     },
     "execution_count": 18,
     "metadata": {},
     "output_type": "execute_result"
    }
   ],
   "source": [
    "core_model.reactions"
   ]
  },
  {
   "cell_type": "code",
   "execution_count": 19,
   "metadata": {},
   "outputs": [
    {
     "name": "stdout",
     "output_type": "stream",
     "text": [
      "GLCter: glc__D_c <=> glc__D_r\n",
      "G6PPer: g6p_r + h2o_r --> glc__D_r + pi_r\n",
      "G6Pter: g6p_c <=> g6p_r\n",
      "EX_glc__D_e: glc__D_e <=> \n",
      "GLCt1: glc__D_e <=> glc__D_c\n"
     ]
    }
   ],
   "source": [
    "for rid, flux in flux_df.itertuples():\n",
    "    reaction = core_model.reactions.get_by_id(rid)\n",
    "    print(reaction)"
   ]
  },
  {
   "cell_type": "code",
   "execution_count": 20,
   "metadata": {},
   "outputs": [
    {
     "data": {
      "text/plain": [
       "[<Reaction CSm at 0x7f8db42deb20>,\n",
       " <Reaction ACONTm at 0x7f8db42deb50>,\n",
       " <Reaction ICDHxm at 0x7f8db42debb0>,\n",
       " <Reaction AKGDm at 0x7f8db42deb80>,\n",
       " <Reaction SUCOASm at 0x7f8db42debe0>,\n",
       " <Reaction SUCD1m at 0x7f8db42defa0>,\n",
       " <Reaction FUMm at 0x7f8db42ebdf0>,\n",
       " <Reaction MDHm at 0x7f8db42ebb50>,\n",
       " <Reaction NADH2_u10mi at 0x7f8db42eb190>,\n",
       " <Reaction FADH2ETC at 0x7f8db42eb970>,\n",
       " <Reaction CYOR_u10mi at 0x7f8db43110d0>,\n",
       " <Reaction CYOOm2i at 0x7f8db42f5700>,\n",
       " <Reaction ATPS4mi at 0x7f8db42f53d0>,\n",
       " <Reaction Htmi at 0x7f8db42f5340>,\n",
       " <Reaction HEX1 at 0x7f8db42f5af0>,\n",
       " <Reaction PGI at 0x7f8db42f5d90>,\n",
       " <Reaction PFK at 0x7f8db4311eb0>,\n",
       " <Reaction FBA at 0x7f8db4311a30>,\n",
       " <Reaction TPI at 0x7f8db42fc6d0>,\n",
       " <Reaction GAPD at 0x7f8db42fc9a0>,\n",
       " <Reaction PGK at 0x7f8db42fcfa0>,\n",
       " <Reaction PGM at 0x7f8db45bbee0>,\n",
       " <Reaction ENO at 0x7f8db45bbf70>,\n",
       " <Reaction PYK at 0x7f8db4304af0>,\n",
       " <Reaction ADK1 at 0x7f8db4304d60>,\n",
       " <Reaction PDHm at 0x7f8db4304880>,\n",
       " <Reaction LDH_L at 0x7f8db4304580>,\n",
       " <Reaction G6PDH2r at 0x7f8db4304190>,\n",
       " <Reaction PGL at 0x7f8db4309e80>,\n",
       " <Reaction GND at 0x7f8db4309490>,\n",
       " <Reaction RPI at 0x7f8db4309af0>,\n",
       " <Reaction RPE at 0x7f8db45823d0>,\n",
       " <Reaction TKT1 at 0x7f8db4582610>,\n",
       " <Reaction TKT2 at 0x7f8db4582a00>,\n",
       " <Reaction TALA at 0x7f8db4582c70>,\n",
       " <Reaction PCm at 0x7f8db4582f70>,\n",
       " <Reaction PEPCKm at 0x7f8db4582790>,\n",
       " <Reaction FBP at 0x7f8db4582040>,\n",
       " <Reaction G6PPer at 0x7f8db4589a90>,\n",
       " <Reaction G6Pter at 0x7f8db4589d60>,\n",
       " <Reaction GLCter at 0x7f8db4589730>,\n",
       " <Reaction MALtm at 0x7f8db4589220>,\n",
       " <Reaction MDH at 0x7f8db45892e0>,\n",
       " <Reaction PEPCK_re at 0x7f8db458d250>,\n",
       " <Reaction PGMT at 0x7f8db458d970>,\n",
       " <Reaction GALUi at 0x7f8db458d580>,\n",
       " <Reaction GLGNS1 at 0x7f8db458de50>,\n",
       " <Reaction GLBRAN at 0x7f8db458d190>,\n",
       " <Reaction GLPASE1 at 0x7f8db458dcd0>,\n",
       " <Reaction GLDBRAN at 0x7f8db458dc10>,\n",
       " <Reaction GLPASE2 at 0x7f8db4596a30>,\n",
       " <Reaction GGNG at 0x7f8db4596df0>,\n",
       " <Reaction ACACT1m at 0x7f8db4596730>,\n",
       " <Reaction HMGCOASm at 0x7f8db45965e0>,\n",
       " <Reaction HMGLm at 0x7f8db45966a0>,\n",
       " <Reaction ADCim at 0x7f8db459f0a0>,\n",
       " <Reaction BDHm at 0x7f8db459f7c0>,\n",
       " <Reaction OCOAT1m at 0x7f8db459fd60>,\n",
       " <Reaction NDPK1 at 0x7f8db459fbb0>,\n",
       " <Reaction NDPK1m at 0x7f8db459ffa0>,\n",
       " <Reaction NDPK2 at 0x7f8db459faf0>,\n",
       " <Reaction HCO3Em at 0x7f8db45a4cd0>,\n",
       " <Reaction ATPtm at 0x7f8db45a4ac0>,\n",
       " <Reaction AKGMALtm at 0x7f8db45a4640>,\n",
       " <Reaction ASPTA at 0x7f8db45a4310>,\n",
       " <Reaction ASPTAm at 0x7f8db45a4fd0>,\n",
       " <Reaction CITtam at 0x7f8db45b0670>,\n",
       " <Reaction CITL at 0x7f8db45b0bb0>,\n",
       " <Reaction ME2 at 0x7f8db45b0e20>,\n",
       " <Reaction ACS at 0x7f8db45b0970>,\n",
       " <Reaction ARGN at 0x7f8db4326100>,\n",
       " <Reaction OCBTm at 0x7f8db4326ac0>,\n",
       " <Reaction ARGSS at 0x7f8db4326df0>,\n",
       " <Reaction ARGSL at 0x7f8db4326730>,\n",
       " <Reaction CBPSam at 0x7f8db43263d0>,\n",
       " <Reaction NH4tm at 0x7f8db432f0d0>,\n",
       " <Reaction GDHm at 0x7f8db432f5e0>,\n",
       " <Reaction GLNS at 0x7f8db432fc70>,\n",
       " <Reaction GLUN at 0x7f8db432f520>,\n",
       " <Reaction ALATA_L at 0x7f8db432fd90>,\n",
       " <Reaction CYSO at 0x7f8db432f790>,\n",
       " <Reaction 3SALATAi at 0x7f8db4336c70>,\n",
       " <Reaction 3SPYRSP at 0x7f8db4336940>,\n",
       " <Reaction PGCD at 0x7f8db4336700>,\n",
       " <Reaction PSERT at 0x7f8db4336f40>,\n",
       " <Reaction PSP_L at 0x7f8db433e520>,\n",
       " <Reaction GHMT2r at 0x7f8db433eb80>,\n",
       " <Reaction ASNS1 at 0x7f8db433ee50>,\n",
       " <Reaction GLYtm at 0x7f8db433e2b0>,\n",
       " <Reaction MLTHFtm at 0x7f8db433e850>,\n",
       " <Reaction THFtm at 0x7f8db433e910>,\n",
       " <Reaction KHK at 0x7f8db43461f0>,\n",
       " <Reaction FBA2 at 0x7f8db4346760>,\n",
       " <Reaction TRIOK at 0x7f8db4346f10>,\n",
       " <Reaction ALCD19y at 0x7f8db4346a00>,\n",
       " <Reaction GLYK at 0x7f8db43468e0>,\n",
       " <Reaction 2AMACHYD at 0x7f8db4346b50>,\n",
       " <Reaction SERHL at 0x7f8db434ec40>,\n",
       " <Reaction ALCD2x at 0x7f8db434e250>,\n",
       " <Reaction ACALDtm at 0x7f8db434ef10>,\n",
       " <Reaction ALDD2xm at 0x7f8db434e880>,\n",
       " <Reaction ACSm at 0x7f8db4355820>,\n",
       " <Reaction Htm at 0x7f8db4355b80>,\n",
       " <Reaction O2tm at 0x7f8db4355160>,\n",
       " <Reaction H2Otr at 0x7f8db4355e80>,\n",
       " <Reaction H2Otm at 0x7f8db4355f40>,\n",
       " <Reaction PItm at 0x7f8db43550a0>,\n",
       " <Reaction PItr at 0x7f8db435c190>,\n",
       " <Reaction CO2tm at 0x7f8db435c2e0>,\n",
       " <Reaction PPA at 0x7f8db435c430>,\n",
       " <Reaction HCO3E at 0x7f8db435c6a0>,\n",
       " <Reaction PEPtm at 0x7f8db435c7f0>,\n",
       " <Reaction PYRt2m at 0x7f8db435c940>,\n",
       " <Reaction ASPGLUm at 0x7f8db435cbb0>,\n",
       " <Reaction THD1m at 0x7f8db435ce20>,\n",
       " <Reaction BHBtm at 0x7f8db435c040>,\n",
       " <Reaction ACETONEt2m at 0x7f8db4603a60>,\n",
       " <Reaction ORNt4m at 0x7f8db46039d0>,\n",
       " <Reaction FUMtm at 0x7f8db4603cd0>,\n",
       " <Reaction GLUt2m at 0x7f8db4603df0>,\n",
       " <Reaction GLYCLm at 0x7f8db4603f40>,\n",
       " <Reaction FACOAL80PROD at 0x7f8db46030d0>,\n",
       " <Reaction GAPT at 0x7f8db460a7f0>,\n",
       " <Reaction AGPTAT at 0x7f8db460a580>,\n",
       " <Reaction LPIN at 0x7f8db460af10>,\n",
       " <Reaction DGAT at 0x7f8db460afa0>,\n",
       " <Reaction ACCOAC at 0x7f8db460a310>,\n",
       " <Reaction MCOATA at 0x7f8db46179a0>,\n",
       " <Reaction ACOATA at 0x7f8db4617430>,\n",
       " <Reaction KAS14 at 0x7f8db4617ee0>,\n",
       " <Reaction 30AR40 at 0x7f8db4617fa0>,\n",
       " <Reaction 3HAD40 at 0x7f8db4617610>,\n",
       " <Reaction EAR40y at 0x7f8db461d4c0>,\n",
       " <Reaction 30AS60 at 0x7f8db461d970>,\n",
       " <Reaction 30AR60 at 0x7f8db461db50>,\n",
       " <Reaction 3HAD60 at 0x7f8db461dfa0>,\n",
       " <Reaction EAR60y at 0x7f8db461de50>,\n",
       " <Reaction 30AS80 at 0x7f8db461d670>,\n",
       " <Reaction 30AR80 at 0x7f8db4623a00>,\n",
       " <Reaction 3HAD80 at 0x7f8db4623d90>,\n",
       " <Reaction EAR80y at 0x7f8db4623d00>,\n",
       " <Reaction FA80ACPHi at 0x7f8db4623ee0>,\n",
       " <Reaction FACOAL80 at 0x7f8db4623700>,\n",
       " <Reaction C80CPT1 at 0x7f8db46288b0>,\n",
       " <Reaction r2434 at 0x7f8db4628520>,\n",
       " <Reaction CRNtim at 0x7f8db4628eb0>,\n",
       " <Reaction r0636 at 0x7f8db4628e20>,\n",
       " <Reaction COAtim at 0x7f8db4628fd0>,\n",
       " <Reaction ACOAD3fm at 0x7f8db46285b0>,\n",
       " <Reaction ECOAH3m at 0x7f8db462f3d0>,\n",
       " <Reaction HACD3m at 0x7f8db462f8e0>,\n",
       " <Reaction ACACT3rm at 0x7f8db462fac0>,\n",
       " <Reaction ACOAD2fm at 0x7f8db462f850>,\n",
       " <Reaction ECOAH2m at 0x7f8db462fdc0>,\n",
       " <Reaction HACD2m at 0x7f8db462fee0>,\n",
       " <Reaction ACACT2rm at 0x7f8db462f520>,\n",
       " <Reaction ACOAD1fm at 0x7f8db4636250>,\n",
       " <Reaction ECOAH1m at 0x7f8db46368e0>,\n",
       " <Reaction HACD1m at 0x7f8db4636b80>,\n",
       " <Reaction ACACT1rm at 0x7f8db4636ca0>,\n",
       " <Reaction ATPM at 0x7f8db4636fa0>,\n",
       " <Reaction EX_h_c at 0x7f8db4636e80>,\n",
       " <Reaction EX_pyr_c at 0x7f8db46364c0>,\n",
       " <Reaction EX_h2o_c at 0x7f8db463d6a0>,\n",
       " <Reaction EX_pi_c at 0x7f8db463d7c0>,\n",
       " <Reaction EX_glc__D_c at 0x7f8db463d880>,\n",
       " <Reaction EX_lac__L_c at 0x7f8db463d940>,\n",
       " <Reaction EX_co2_c at 0x7f8db463da00>,\n",
       " <Reaction EX_o2_c at 0x7f8db463dac0>,\n",
       " <Reaction EX_octa_prod_c at 0x7f8db463db80>,\n",
       " <Reaction EX_octa_cons_c at 0x7f8db463dc40>,\n",
       " <Reaction EX_urea_c at 0x7f8db463ddc0>,\n",
       " <Reaction EX_gln__L_c at 0x7f8db463de80>,\n",
       " <Reaction EX_acetone_c at 0x7f8db463dd00>,\n",
       " <Reaction EX_bhb_c at 0x7f8db463df40>,\n",
       " <Reaction EX_glu__L_c at 0x7f8db463d1c0>,\n",
       " <Reaction EX_ser__L_c at 0x7f8db463d3a0>,\n",
       " <Reaction EX_cys__L_c at 0x7f8db45c6100>,\n",
       " <Reaction EX_gly_c at 0x7f8db45c6280>,\n",
       " <Reaction EX_glygn2_c at 0x7f8db45c6340>,\n",
       " <Reaction EX_Tyr_ggn_c at 0x7f8db45c6400>,\n",
       " <Reaction EX_ala__L_c at 0x7f8db45c64c0>,\n",
       " <Reaction EX_nh4_c at 0x7f8db45c6580>,\n",
       " <Reaction EX_so3_c at 0x7f8db45c6640>,\n",
       " <Reaction EX_etoh_c at 0x7f8db45c6700>,\n",
       " <Reaction EX_glyc_3octa_c at 0x7f8db45c67c0>,\n",
       " <Reaction EX_fru_c at 0x7f8db45c6880>,\n",
       " <Reaction EX_glc__D_e at 0x7f8d9ab186d0>,\n",
       " <Reaction GLCt1 at 0x7f8d9cc2c8e0>,\n",
       " <Reaction SK_g6p_c at 0x7f8db5038e20>]"
      ]
     },
     "execution_count": 20,
     "metadata": {},
     "output_type": "execute_result"
    }
   ],
   "source": [
    "core_model.reactions"
   ]
  },
  {
   "cell_type": "code",
   "execution_count": 21,
   "metadata": {},
   "outputs": [
    {
     "name": "stdout",
     "output_type": "stream",
     "text": [
      "GLCter -0.001682007621\n",
      "G6PPer 0.001682007621\n",
      "G6Pter 0.001682007621\n",
      "EX_glc__D_e 0.001682007621\n",
      "GLCt1 -0.001682007621\n"
     ]
    }
   ],
   "source": [
    "for rid, flux in flux_df.itertuples():\n",
    "    reaction = core_model.reactions.get_by_id(rid)\n",
    "    #reaction.bounds = (flux, flux)\n",
    "    #set bounds for all boundary reactions \n",
    "    #uptake --> (-value, 1000)\n",
    "    #secretion --> (-1000 --> value)\n",
    "    #reversible --> (-1000,1000)\n",
    "    if (rid == \"EX_lac__L_c\"): #uptake\n",
    "        reaction = core_model.reactions.get_by_id(rid)\n",
    "        reaction.bounds = (0,1000) \n",
    "    elif (rid == \"EX_glc__L_e\"): #secretion\n",
    "        reaction = core_model.reactions.get_by_id(rid)\n",
    "        reaction.bounds = (-1000, 0) \n",
    "    elif (rid == \"EX_pyr_c\"): #uptake\n",
    "        reaction = core_model.reactions.get_by_id(rid)\n",
    "        reaction.bounds = (0, 1000) \n",
    "    elif (rid == \"EX_glygn2_c\"): #uptake\n",
    "        reaction = core_model.reactions.get_by_id(rid)\n",
    "        reaction.bounds = (-1, 1000) \n",
    "    for irreversible_enzyme_pair in irreversible_enzyme_pairs:\n",
    "        if rid in irreversible_enzyme_pair:\n",
    "            flux1, flux2 = flux_df.loc[irreversible_enzyme_pairs, \"Flux(mmol/(gDW*hr))\"].values\n",
    "            if flux1 == 0:\n",
    "                flux += reverse_flux_percent * flux2 # mmol*gDW^-1*hr^-1\n",
    "            if flux2 == 0:\n",
    "                flux += reverse_flux_percent * flux1 # mmol*gDW^-1*hr^-1\n",
    "   \n",
    "    #address irreversible enzyme pair boundary reactions if necessary\n",
    "\n",
    "    print(rid, flux)\n",
    "\n",
    "    v_vars.append(sym.Symbol(rid))\n",
    "    v_data.append(flux)\n",
    "    \n",
    "#print(v_vars)\n",
    "#print(v_data)\n"
   ]
  },
  {
   "cell_type": "code",
   "execution_count": 22,
   "metadata": {},
   "outputs": [
    {
     "data": {
      "text/plain": [
       "[<Reaction CSm at 0x7f8db42deb20>,\n",
       " <Reaction ACONTm at 0x7f8db42deb50>,\n",
       " <Reaction ICDHxm at 0x7f8db42debb0>,\n",
       " <Reaction AKGDm at 0x7f8db42deb80>,\n",
       " <Reaction SUCOASm at 0x7f8db42debe0>,\n",
       " <Reaction SUCD1m at 0x7f8db42defa0>,\n",
       " <Reaction FUMm at 0x7f8db42ebdf0>,\n",
       " <Reaction MDHm at 0x7f8db42ebb50>,\n",
       " <Reaction NADH2_u10mi at 0x7f8db42eb190>,\n",
       " <Reaction FADH2ETC at 0x7f8db42eb970>,\n",
       " <Reaction CYOR_u10mi at 0x7f8db43110d0>,\n",
       " <Reaction CYOOm2i at 0x7f8db42f5700>,\n",
       " <Reaction ATPS4mi at 0x7f8db42f53d0>,\n",
       " <Reaction Htmi at 0x7f8db42f5340>,\n",
       " <Reaction HEX1 at 0x7f8db42f5af0>,\n",
       " <Reaction PGI at 0x7f8db42f5d90>,\n",
       " <Reaction PFK at 0x7f8db4311eb0>,\n",
       " <Reaction FBA at 0x7f8db4311a30>,\n",
       " <Reaction TPI at 0x7f8db42fc6d0>,\n",
       " <Reaction GAPD at 0x7f8db42fc9a0>,\n",
       " <Reaction PGK at 0x7f8db42fcfa0>,\n",
       " <Reaction PGM at 0x7f8db45bbee0>,\n",
       " <Reaction ENO at 0x7f8db45bbf70>,\n",
       " <Reaction PYK at 0x7f8db4304af0>,\n",
       " <Reaction ADK1 at 0x7f8db4304d60>,\n",
       " <Reaction PDHm at 0x7f8db4304880>,\n",
       " <Reaction LDH_L at 0x7f8db4304580>,\n",
       " <Reaction G6PDH2r at 0x7f8db4304190>,\n",
       " <Reaction PGL at 0x7f8db4309e80>,\n",
       " <Reaction GND at 0x7f8db4309490>,\n",
       " <Reaction RPI at 0x7f8db4309af0>,\n",
       " <Reaction RPE at 0x7f8db45823d0>,\n",
       " <Reaction TKT1 at 0x7f8db4582610>,\n",
       " <Reaction TKT2 at 0x7f8db4582a00>,\n",
       " <Reaction TALA at 0x7f8db4582c70>,\n",
       " <Reaction PCm at 0x7f8db4582f70>,\n",
       " <Reaction PEPCKm at 0x7f8db4582790>,\n",
       " <Reaction FBP at 0x7f8db4582040>,\n",
       " <Reaction G6PPer at 0x7f8db4589a90>,\n",
       " <Reaction G6Pter at 0x7f8db4589d60>,\n",
       " <Reaction GLCter at 0x7f8db4589730>,\n",
       " <Reaction MALtm at 0x7f8db4589220>,\n",
       " <Reaction MDH at 0x7f8db45892e0>,\n",
       " <Reaction PEPCK_re at 0x7f8db458d250>,\n",
       " <Reaction PGMT at 0x7f8db458d970>,\n",
       " <Reaction GALUi at 0x7f8db458d580>,\n",
       " <Reaction GLGNS1 at 0x7f8db458de50>,\n",
       " <Reaction GLBRAN at 0x7f8db458d190>,\n",
       " <Reaction GLPASE1 at 0x7f8db458dcd0>,\n",
       " <Reaction GLDBRAN at 0x7f8db458dc10>,\n",
       " <Reaction GLPASE2 at 0x7f8db4596a30>,\n",
       " <Reaction GGNG at 0x7f8db4596df0>,\n",
       " <Reaction ACACT1m at 0x7f8db4596730>,\n",
       " <Reaction HMGCOASm at 0x7f8db45965e0>,\n",
       " <Reaction HMGLm at 0x7f8db45966a0>,\n",
       " <Reaction ADCim at 0x7f8db459f0a0>,\n",
       " <Reaction BDHm at 0x7f8db459f7c0>,\n",
       " <Reaction OCOAT1m at 0x7f8db459fd60>,\n",
       " <Reaction NDPK1 at 0x7f8db459fbb0>,\n",
       " <Reaction NDPK1m at 0x7f8db459ffa0>,\n",
       " <Reaction NDPK2 at 0x7f8db459faf0>,\n",
       " <Reaction HCO3Em at 0x7f8db45a4cd0>,\n",
       " <Reaction ATPtm at 0x7f8db45a4ac0>,\n",
       " <Reaction AKGMALtm at 0x7f8db45a4640>,\n",
       " <Reaction ASPTA at 0x7f8db45a4310>,\n",
       " <Reaction ASPTAm at 0x7f8db45a4fd0>,\n",
       " <Reaction CITtam at 0x7f8db45b0670>,\n",
       " <Reaction CITL at 0x7f8db45b0bb0>,\n",
       " <Reaction ME2 at 0x7f8db45b0e20>,\n",
       " <Reaction ACS at 0x7f8db45b0970>,\n",
       " <Reaction ARGN at 0x7f8db4326100>,\n",
       " <Reaction OCBTm at 0x7f8db4326ac0>,\n",
       " <Reaction ARGSS at 0x7f8db4326df0>,\n",
       " <Reaction ARGSL at 0x7f8db4326730>,\n",
       " <Reaction CBPSam at 0x7f8db43263d0>,\n",
       " <Reaction NH4tm at 0x7f8db432f0d0>,\n",
       " <Reaction GDHm at 0x7f8db432f5e0>,\n",
       " <Reaction GLNS at 0x7f8db432fc70>,\n",
       " <Reaction GLUN at 0x7f8db432f520>,\n",
       " <Reaction ALATA_L at 0x7f8db432fd90>,\n",
       " <Reaction CYSO at 0x7f8db432f790>,\n",
       " <Reaction 3SALATAi at 0x7f8db4336c70>,\n",
       " <Reaction 3SPYRSP at 0x7f8db4336940>,\n",
       " <Reaction PGCD at 0x7f8db4336700>,\n",
       " <Reaction PSERT at 0x7f8db4336f40>,\n",
       " <Reaction PSP_L at 0x7f8db433e520>,\n",
       " <Reaction GHMT2r at 0x7f8db433eb80>,\n",
       " <Reaction ASNS1 at 0x7f8db433ee50>,\n",
       " <Reaction GLYtm at 0x7f8db433e2b0>,\n",
       " <Reaction MLTHFtm at 0x7f8db433e850>,\n",
       " <Reaction THFtm at 0x7f8db433e910>,\n",
       " <Reaction KHK at 0x7f8db43461f0>,\n",
       " <Reaction FBA2 at 0x7f8db4346760>,\n",
       " <Reaction TRIOK at 0x7f8db4346f10>,\n",
       " <Reaction ALCD19y at 0x7f8db4346a00>,\n",
       " <Reaction GLYK at 0x7f8db43468e0>,\n",
       " <Reaction 2AMACHYD at 0x7f8db4346b50>,\n",
       " <Reaction SERHL at 0x7f8db434ec40>,\n",
       " <Reaction ALCD2x at 0x7f8db434e250>,\n",
       " <Reaction ACALDtm at 0x7f8db434ef10>,\n",
       " <Reaction ALDD2xm at 0x7f8db434e880>,\n",
       " <Reaction ACSm at 0x7f8db4355820>,\n",
       " <Reaction Htm at 0x7f8db4355b80>,\n",
       " <Reaction O2tm at 0x7f8db4355160>,\n",
       " <Reaction H2Otr at 0x7f8db4355e80>,\n",
       " <Reaction H2Otm at 0x7f8db4355f40>,\n",
       " <Reaction PItm at 0x7f8db43550a0>,\n",
       " <Reaction PItr at 0x7f8db435c190>,\n",
       " <Reaction CO2tm at 0x7f8db435c2e0>,\n",
       " <Reaction PPA at 0x7f8db435c430>,\n",
       " <Reaction HCO3E at 0x7f8db435c6a0>,\n",
       " <Reaction PEPtm at 0x7f8db435c7f0>,\n",
       " <Reaction PYRt2m at 0x7f8db435c940>,\n",
       " <Reaction ASPGLUm at 0x7f8db435cbb0>,\n",
       " <Reaction THD1m at 0x7f8db435ce20>,\n",
       " <Reaction BHBtm at 0x7f8db435c040>,\n",
       " <Reaction ACETONEt2m at 0x7f8db4603a60>,\n",
       " <Reaction ORNt4m at 0x7f8db46039d0>,\n",
       " <Reaction FUMtm at 0x7f8db4603cd0>,\n",
       " <Reaction GLUt2m at 0x7f8db4603df0>,\n",
       " <Reaction GLYCLm at 0x7f8db4603f40>,\n",
       " <Reaction FACOAL80PROD at 0x7f8db46030d0>,\n",
       " <Reaction GAPT at 0x7f8db460a7f0>,\n",
       " <Reaction AGPTAT at 0x7f8db460a580>,\n",
       " <Reaction LPIN at 0x7f8db460af10>,\n",
       " <Reaction DGAT at 0x7f8db460afa0>,\n",
       " <Reaction ACCOAC at 0x7f8db460a310>,\n",
       " <Reaction MCOATA at 0x7f8db46179a0>,\n",
       " <Reaction ACOATA at 0x7f8db4617430>,\n",
       " <Reaction KAS14 at 0x7f8db4617ee0>,\n",
       " <Reaction 30AR40 at 0x7f8db4617fa0>,\n",
       " <Reaction 3HAD40 at 0x7f8db4617610>,\n",
       " <Reaction EAR40y at 0x7f8db461d4c0>,\n",
       " <Reaction 30AS60 at 0x7f8db461d970>,\n",
       " <Reaction 30AR60 at 0x7f8db461db50>,\n",
       " <Reaction 3HAD60 at 0x7f8db461dfa0>,\n",
       " <Reaction EAR60y at 0x7f8db461de50>,\n",
       " <Reaction 30AS80 at 0x7f8db461d670>,\n",
       " <Reaction 30AR80 at 0x7f8db4623a00>,\n",
       " <Reaction 3HAD80 at 0x7f8db4623d90>,\n",
       " <Reaction EAR80y at 0x7f8db4623d00>,\n",
       " <Reaction FA80ACPHi at 0x7f8db4623ee0>,\n",
       " <Reaction FACOAL80 at 0x7f8db4623700>,\n",
       " <Reaction C80CPT1 at 0x7f8db46288b0>,\n",
       " <Reaction r2434 at 0x7f8db4628520>,\n",
       " <Reaction CRNtim at 0x7f8db4628eb0>,\n",
       " <Reaction r0636 at 0x7f8db4628e20>,\n",
       " <Reaction COAtim at 0x7f8db4628fd0>,\n",
       " <Reaction ACOAD3fm at 0x7f8db46285b0>,\n",
       " <Reaction ECOAH3m at 0x7f8db462f3d0>,\n",
       " <Reaction HACD3m at 0x7f8db462f8e0>,\n",
       " <Reaction ACACT3rm at 0x7f8db462fac0>,\n",
       " <Reaction ACOAD2fm at 0x7f8db462f850>,\n",
       " <Reaction ECOAH2m at 0x7f8db462fdc0>,\n",
       " <Reaction HACD2m at 0x7f8db462fee0>,\n",
       " <Reaction ACACT2rm at 0x7f8db462f520>,\n",
       " <Reaction ACOAD1fm at 0x7f8db4636250>,\n",
       " <Reaction ECOAH1m at 0x7f8db46368e0>,\n",
       " <Reaction HACD1m at 0x7f8db4636b80>,\n",
       " <Reaction ACACT1rm at 0x7f8db4636ca0>,\n",
       " <Reaction ATPM at 0x7f8db4636fa0>,\n",
       " <Reaction EX_h_c at 0x7f8db4636e80>,\n",
       " <Reaction EX_pyr_c at 0x7f8db46364c0>,\n",
       " <Reaction EX_h2o_c at 0x7f8db463d6a0>,\n",
       " <Reaction EX_pi_c at 0x7f8db463d7c0>,\n",
       " <Reaction EX_glc__D_c at 0x7f8db463d880>,\n",
       " <Reaction EX_lac__L_c at 0x7f8db463d940>,\n",
       " <Reaction EX_co2_c at 0x7f8db463da00>,\n",
       " <Reaction EX_o2_c at 0x7f8db463dac0>,\n",
       " <Reaction EX_octa_prod_c at 0x7f8db463db80>,\n",
       " <Reaction EX_octa_cons_c at 0x7f8db463dc40>,\n",
       " <Reaction EX_urea_c at 0x7f8db463ddc0>,\n",
       " <Reaction EX_gln__L_c at 0x7f8db463de80>,\n",
       " <Reaction EX_acetone_c at 0x7f8db463dd00>,\n",
       " <Reaction EX_bhb_c at 0x7f8db463df40>,\n",
       " <Reaction EX_glu__L_c at 0x7f8db463d1c0>,\n",
       " <Reaction EX_ser__L_c at 0x7f8db463d3a0>,\n",
       " <Reaction EX_cys__L_c at 0x7f8db45c6100>,\n",
       " <Reaction EX_gly_c at 0x7f8db45c6280>,\n",
       " <Reaction EX_glygn2_c at 0x7f8db45c6340>,\n",
       " <Reaction EX_Tyr_ggn_c at 0x7f8db45c6400>,\n",
       " <Reaction EX_ala__L_c at 0x7f8db45c64c0>,\n",
       " <Reaction EX_nh4_c at 0x7f8db45c6580>,\n",
       " <Reaction EX_so3_c at 0x7f8db45c6640>,\n",
       " <Reaction EX_etoh_c at 0x7f8db45c6700>,\n",
       " <Reaction EX_glyc_3octa_c at 0x7f8db45c67c0>,\n",
       " <Reaction EX_fru_c at 0x7f8db45c6880>,\n",
       " <Reaction EX_glc__D_e at 0x7f8d9ab186d0>,\n",
       " <Reaction GLCt1 at 0x7f8d9cc2c8e0>,\n",
       " <Reaction SK_g6p_c at 0x7f8db5038e20>]"
      ]
     },
     "execution_count": 22,
     "metadata": {},
     "output_type": "execute_result"
    }
   ],
   "source": [
    "core_model.reactions"
   ]
  },
  {
   "cell_type": "code",
   "execution_count": 23,
   "metadata": {},
   "outputs": [],
   "source": [
    "# Make symbolic for optlang objective \n",
    "v_vars = sym.Matrix(v_vars)\n",
    "v_data = sym.Matrix(v_data)\n",
    "\n",
    "F = sym.Matrix(2 * sym.eye(len(v_vars)))\n",
    "\n",
    "objective = 0.5 * v_vars.T * F * v_vars  - (2 * v_data).T * v_vars\n",
    "core_model.objective = objective[0]\n",
    "core_model.objective_direction = \"min\"\n",
    "\n",
    "flux_solution = core_model.optimize()"
   ]
  },
  {
   "cell_type": "code",
   "execution_count": 24,
   "metadata": {},
   "outputs": [
    {
     "data": {
      "text/html": [
       "<strong><em>Optimal</em> solution with objective value -0.000</strong><br><div>\n",
       "<style scoped>\n",
       "    .dataframe tbody tr th:only-of-type {\n",
       "        vertical-align: middle;\n",
       "    }\n",
       "\n",
       "    .dataframe tbody tr th {\n",
       "        vertical-align: top;\n",
       "    }\n",
       "\n",
       "    .dataframe thead th {\n",
       "        text-align: right;\n",
       "    }\n",
       "</style>\n",
       "<table border=\"1\" class=\"dataframe\">\n",
       "  <thead>\n",
       "    <tr style=\"text-align: right;\">\n",
       "      <th></th>\n",
       "      <th>fluxes</th>\n",
       "      <th>reduced_costs</th>\n",
       "    </tr>\n",
       "  </thead>\n",
       "  <tbody>\n",
       "    <tr>\n",
       "      <th>CSm</th>\n",
       "      <td>0.000000</td>\n",
       "      <td>0.000000</td>\n",
       "    </tr>\n",
       "    <tr>\n",
       "      <th>ACONTm</th>\n",
       "      <td>0.000000</td>\n",
       "      <td>0.000000</td>\n",
       "    </tr>\n",
       "    <tr>\n",
       "      <th>ICDHxm</th>\n",
       "      <td>0.000000</td>\n",
       "      <td>0.000000</td>\n",
       "    </tr>\n",
       "    <tr>\n",
       "      <th>AKGDm</th>\n",
       "      <td>0.000000</td>\n",
       "      <td>0.000000</td>\n",
       "    </tr>\n",
       "    <tr>\n",
       "      <th>SUCOASm</th>\n",
       "      <td>0.000000</td>\n",
       "      <td>0.000000</td>\n",
       "    </tr>\n",
       "    <tr>\n",
       "      <th>...</th>\n",
       "      <td>...</td>\n",
       "      <td>...</td>\n",
       "    </tr>\n",
       "    <tr>\n",
       "      <th>EX_glyc_3octa_c</th>\n",
       "      <td>-0.000000</td>\n",
       "      <td>0.000000</td>\n",
       "    </tr>\n",
       "    <tr>\n",
       "      <th>EX_fru_c</th>\n",
       "      <td>-0.000000</td>\n",
       "      <td>0.000000</td>\n",
       "    </tr>\n",
       "    <tr>\n",
       "      <th>EX_glc__D_e</th>\n",
       "      <td>0.001682</td>\n",
       "      <td>0.000000</td>\n",
       "    </tr>\n",
       "    <tr>\n",
       "      <th>GLCt1</th>\n",
       "      <td>-0.001682</td>\n",
       "      <td>0.003364</td>\n",
       "    </tr>\n",
       "    <tr>\n",
       "      <th>SK_g6p_c</th>\n",
       "      <td>-0.001682</td>\n",
       "      <td>0.000000</td>\n",
       "    </tr>\n",
       "  </tbody>\n",
       "</table>\n",
       "<p>190 rows × 2 columns</p>\n",
       "</div>"
      ],
      "text/plain": [
       "<Solution -0.000 at 0x7f8db5c5dc70>"
      ]
     },
     "execution_count": 24,
     "metadata": {},
     "output_type": "execute_result"
    }
   ],
   "source": [
    "flux_solution"
   ]
  },
  {
   "cell_type": "code",
   "execution_count": 25,
   "metadata": {},
   "outputs": [
    {
     "data": {
      "text/plain": [
       "CSm                0.000000\n",
       "ACONTm             0.000000\n",
       "ICDHxm             0.000000\n",
       "AKGDm              0.000000\n",
       "SUCOASm            0.000000\n",
       "                     ...   \n",
       "EX_glyc_3octa_c   -0.000000\n",
       "EX_fru_c          -0.000000\n",
       "EX_glc__D_e        0.001682\n",
       "GLCt1             -0.001682\n",
       "SK_g6p_c          -0.001682\n",
       "Name: fluxes, Length: 190, dtype: float64"
      ]
     },
     "execution_count": 25,
     "metadata": {},
     "output_type": "execute_result"
    }
   ],
   "source": [
    "flux_solution.fluxes"
   ]
  },
  {
   "cell_type": "code",
   "execution_count": 26,
   "metadata": {},
   "outputs": [
    {
     "data": {
      "image/png": "[encoded data removed]",
      "text/plain": [
       "<Figure size 360x360 with 1 Axes>"
      ]
     },
     "metadata": {
      "needs_background": "light"
     },
     "output_type": "display_data"
    }
   ],
   "source": [
    "flux_comparison_fig, ax = plt.subplots(nrows=1, ncols=1, figsize=(5, 5))\n",
    "plot_comparison(\n",
    "    x=flux_df[\"Flux (mmol/gDW*hr)\"], y=flux_solution, compare=\"fluxes\",\n",
    "    observable=[rid for rid in flux_df.index], ax=ax,\n",
    "    legend=\"right outside\", plot_function=\"plot\",\n",
    "    xlim=(-0.002,0.002), ylim=(-0.002, 0.002),\n",
    "    xy_line=True,\n",
    "    xy_legend=\"best\", xlabel=\"Measured [mmol/(gDW * h)]\", ylabel=\"Adjusted [mmol/(gDW * h)]\")\n",
    "\n",
    "flux_comparison_fig.tight_layout()\n",
    "#check directionality \n"
   ]
  },
  {
   "cell_type": "markdown",
   "metadata": {},
   "source": [
    "## Create MASS model"
   ]
  },
  {
   "cell_type": "code",
   "execution_count": 27,
   "metadata": {},
   "outputs": [
    {
     "data": {
      "text/html": [
       "\n",
       "            <table>\n",
       "                <tr>\n",
       "                    <td><strong>Name</strong></td><td>Glycogenolysis</td>\n",
       "                </tr><tr>\n",
       "                    <td><strong>Memory address</strong></td><td>0x07f8db54e6550</td>\n",
       "                </tr><tr>\n",
       "                    <td><strong>Stoichiometric Matrix</strong></td>\n",
       "                    <td>0x0</td>\n",
       "                </tr><tr>\n",
       "                    <td><strong>Matrix Rank</strong></td>\n",
       "                    <td>0</td>\n",
       "                </tr><tr>\n",
       "                    <td><strong>Number of metabolites</strong></td>\n",
       "                    <td>0</td>\n",
       "                </tr><tr>\n",
       "                    <td><strong>Initial conditions defined</strong></td>\n",
       "                    <td>0/0</td>\n",
       "                </tr><tr>\n",
       "                    <td><strong>Number of reactions</strong></td>\n",
       "                    <td>0</td>\n",
       "                </tr><tr>\n",
       "                    <td><strong>Number of genes</strong></td>\n",
       "                    <td>0</td>\n",
       "                </tr><tr>\n",
       "                    <td><strong>Number of enzyme modules</strong></td>\n",
       "                    <td>0</td>\n",
       "                </tr><tr>\n",
       "                    <td><strong>Number of groups</strong></td>\n",
       "                    <td>0</td>\n",
       "                </tr><tr>\n",
       "                    <td><strong>Objective expression</strong></td>\n",
       "                    <td>0</td>\n",
       "                </tr><tr>\n",
       "                    <td><strong>Compartments</strong></td>\n",
       "                    <td></td>\n",
       "                </tr>\n",
       "            </table>\n",
       "        "
      ],
      "text/plain": [
       "<MassModel Glycogenolysis at 0x7f8db54e6550>"
      ]
     },
     "execution_count": 27,
     "metadata": {},
     "output_type": "execute_result"
    }
   ],
   "source": [
    "glycogenolysis = MassModel(\"Glycogenolysis\", array_type='DataFrame', dtype=np.int64)\n",
    "glycogenolysis"
   ]
  },
  {
   "cell_type": "markdown",
   "metadata": {},
   "source": [
    "### Define reactions"
   ]
  },
  {
   "cell_type": "code",
   "execution_count": 30,
   "metadata": {},
   "outputs": [],
   "source": [
    "#add reactions one at a time\n",
    "reaction_list=[]\n",
    "reaction_list = ['HEX1',\n",
    "                 'GLCt1',\n",
    "                  'G6Pter',\n",
    "                  'G6PPer',\n",
    "                 'GLCter'\n",
    "#                 #'PGI',\n",
    "#                 #'FBP',\n",
    "#                 'PFK',\n",
    "#                 'FBA',\n",
    "#                 'TPI',\n",
    "#                 'GAPD',\n",
    "#                 'PGK',\n",
    "#                 'PGM',\n",
    "#                 'ENO',\n",
    "#                 #'PEPtm',\n",
    "#                 #'PEPCKm',\n",
    "#                 #'LDH_L',\n",
    "#                 'PYK'\n",
    "#                 #'PCm',\n",
    "#                 #'PYRt2m'\n",
    "                ]\n",
    "\n",
    "# a= R3D.reactions.EX_glc__D_e\n",
    "# b= R3D.reactions.GLCt1\n",
    "# g= gly.reactions.SK_g6p_c\n",
    "# new_r_list=[\n",
    "#             a,\n",
    "#             b,\n",
    "#             g\n",
    "    \n",
    "# ]\n"
   ]
  },
  {
   "cell_type": "code",
   "execution_count": 32,
   "metadata": {},
   "outputs": [],
   "source": [
    "# Convert cobra.Reactions to mass.MassReactions\n",
    "for rid in reaction_list:\n",
    "    reaction = core_model.reactions.get_by_id(rid)\n",
    "    glycogenolysis.add_reactions([MassReaction(reaction)])"
   ]
  },
  {
   "cell_type": "code",
   "execution_count": 33,
   "metadata": {},
   "outputs": [
    {
     "data": {
      "text/html": [
       "\n",
       "            <table>\n",
       "                <tr>\n",
       "                    <td><strong>Reaction identifier</strong></td>\n",
       "                    <td>GLCt1</td>\n",
       "                </tr><tr>\n",
       "                    <td><strong>Name</strong></td>\n",
       "                    <td>Glucose transport  uniport </td>\n",
       "                </tr><tr>\n",
       "                    <td><strong>Memory address</strong></td>\n",
       "                    <td>0x07f8db55afca0</td>\n",
       "                </tr><tr>\n",
       "                    <td><strong>Subsystem</strong></td>\n",
       "                    <td>Transport, extracellular</td>\n",
       "                </tr><tr>\n",
       "                    <td><strong>Kinetic Reversibility</strong></td>\n",
       "                    <td>True</td>\n",
       "                </tr><tr>\n",
       "                    <td><strong>Stoichiometry</strong></td>\n",
       "                    <td>\n",
       "                        <p style='text-align:right'>glc__D_e <=> glc__D_c</p>\n",
       "                        <p style='text-align:right'>D-Glucose <=> D-Glucose</p>\n",
       "                    </td>\n",
       "                </tr><tr>\n",
       "                    <td><strong>GPR</strong></td><td>66035_AT1 or 6517_AT1 or 56606_AT1 or 154091_AT1 or 6513_AT1 or 11182_AT1 or 29988_AT1 or 6514_AT1 or 155184_AT1 or 56606_AT2 or 144195_AT1 or 6515_AT1 or 81031_AT1</td>\n",
       "                </tr><tr>\n",
       "                    <td><strong>Bounds</strong></td><td>(-1000.0, 1000.0)</td>\n",
       "                </tr>\n",
       "            </table>\n",
       "        "
      ],
      "text/plain": [
       "<MassReaction GLCt1 at 0x7f8db55afca0>"
      ]
     },
     "execution_count": 33,
     "metadata": {},
     "output_type": "execute_result"
    }
   ],
   "source": [
    "glycogenolysis.reactions.GLCt1"
   ]
  },
  {
   "cell_type": "code",
   "execution_count": null,
   "metadata": {},
   "outputs": [],
   "source": [
    "# for x in new_r_list:\n",
    "#     c= x\n",
    "#     core_model.add_reaction(c)"
   ]
  },
  {
   "cell_type": "markdown",
   "metadata": {},
   "source": [
    "##  Set Fluxes"
   ]
  },
  {
   "cell_type": "code",
   "execution_count": 34,
   "metadata": {},
   "outputs": [
    {
     "name": "stdout",
     "output_type": "stream",
     "text": [
      "v_HEX1: 0.0\n",
      "v_GLCt1: -0.002150623354248705\n",
      "v_G6Pter: 0.002150623354248705\n",
      "v_G6PPer: 0.002150623354248705\n",
      "v_GLCter: -0.002150623354248705\n"
     ]
    }
   ],
   "source": [
    "for reaction, flux in flux_solution[reaction_list].iteritems():\n",
    "    reaction = glycogenolysis.reactions.get_by_id(reaction)\n",
    "    reaction.steady_state_flux = flux * 1278.605 / 1000 \n",
    "    # mmol/gdW*hr --> mmol/L * hr ---> mol/L*hr\n",
    "    print(\"{0}: {1}\".format(reaction.flux_symbol_str,\n",
    "                            reaction.steady_state_flux))"
   ]
  },
  {
   "cell_type": "markdown",
   "metadata": {},
   "source": [
    "## Set Keqs"
   ]
  },
  {
   "cell_type": "code",
   "execution_count": 35,
   "metadata": {},
   "outputs": [
    {
     "data": {
      "text/html": [
       "<div>\n",
       "<style scoped>\n",
       "    .dataframe tbody tr th:only-of-type {\n",
       "        vertical-align: middle;\n",
       "    }\n",
       "\n",
       "    .dataframe tbody tr th {\n",
       "        vertical-align: top;\n",
       "    }\n",
       "\n",
       "    .dataframe thead th {\n",
       "        text-align: right;\n",
       "    }\n",
       "</style>\n",
       "<table border=\"1\" class=\"dataframe\">\n",
       "  <thead>\n",
       "    <tr style=\"text-align: right;\">\n",
       "      <th></th>\n",
       "      <th>Equlibrium Constant</th>\n",
       "    </tr>\n",
       "    <tr>\n",
       "      <th>Reaction</th>\n",
       "      <th></th>\n",
       "    </tr>\n",
       "  </thead>\n",
       "  <tbody>\n",
       "    <tr>\n",
       "      <th>GLCt1</th>\n",
       "      <td>1.000000</td>\n",
       "    </tr>\n",
       "    <tr>\n",
       "      <th>HEX1</th>\n",
       "      <td>3000.000000</td>\n",
       "    </tr>\n",
       "    <tr>\n",
       "      <th>G6PPer</th>\n",
       "      <td>41.300000</td>\n",
       "    </tr>\n",
       "    <tr>\n",
       "      <th>G6Pter</th>\n",
       "      <td>2.761096</td>\n",
       "    </tr>\n",
       "    <tr>\n",
       "      <th>GLCter</th>\n",
       "      <td>1.000000</td>\n",
       "    </tr>\n",
       "  </tbody>\n",
       "</table>\n",
       "</div>"
      ],
      "text/plain": [
       "          Equlibrium Constant\n",
       "Reaction                     \n",
       "GLCt1                1.000000\n",
       "HEX1              3000.000000\n",
       "G6PPer              41.300000\n",
       "G6Pter               2.761096\n",
       "GLCter               1.000000"
      ]
     },
     "execution_count": 35,
     "metadata": {},
     "output_type": "execute_result"
    }
   ],
   "source": [
    "# Load equilibrium constants\n",
    "Keq_df = pd.read_excel(engine='openpyxl',\n",
    "    io=data_sheet,\n",
    "    sheet_name=\"Keqs\",\n",
    "    index_col=0).drop(\"Reference\", axis=1).drop(\"Stoichiometry\", axis=1).drop('Keq unit', axis=1)\n",
    "\n",
    "Keq_df = Keq_df.dropna() #drops rows with NaN\n",
    "Keq_df\n",
    "\n",
    "Keq_df\n",
    "#Check the M units of Keq \n",
    "\n"
   ]
  },
  {
   "cell_type": "code",
   "execution_count": 36,
   "metadata": {},
   "outputs": [
    {
     "name": "stdout",
     "output_type": "stream",
     "text": [
      "Keq_GLCt1: 1.0\n",
      "Keq_HEX1: 3000.0\n",
      "Keq_G6PPer: 41.3\n",
      "Keq_G6Pter: 2.761096464\n",
      "Keq_GLCter: 1.0\n"
     ]
    }
   ],
   "source": [
    "Keq_list =[]\n",
    "for rid, Keq in Keq_df.itertuples():\n",
    "    if rid in reaction_list: \n",
    "        reaction = glycogenolysis.reactions.get_by_id(rid)\n",
    "        reaction.Keq = Keq\n",
    "        Keq_list.append(reaction.Keq)\n",
    "        print(\"{0}: {1}\".format(reaction.Keq_str, Keq))"
   ]
  },
  {
   "cell_type": "markdown",
   "metadata": {},
   "source": [
    "## Set H2O/H Constants"
   ]
  },
  {
   "cell_type": "code",
   "execution_count": 37,
   "metadata": {},
   "outputs": [],
   "source": [
    "# Set concentrations of hydrogen, water as fixed\n",
    "# Assume hydrogen in all compartments are fixed \n",
    "for metabolite in [\n",
    "#     \"h2o_c\",\n",
    "    \"h_c\",\n",
    "#    \"glc__D_e\",\n",
    "#     'h20_r'\n",
    "    \n",
    "       #'h_i'\n",
    "       #'h_m' \n",
    "    #remove h_i and h_m if not mitochondrial reactions\n",
    "                  ]:\n",
    "    metabolite = glycogenolysis.metabolites.get_by_id(metabolite)\n",
    "    metabolite.fixed = True"
   ]
  },
  {
   "cell_type": "markdown",
   "metadata": {},
   "source": [
    "## Obtain Concentrations"
   ]
  },
  {
   "cell_type": "code",
   "execution_count": 38,
   "metadata": {},
   "outputs": [
    {
     "data": {
      "text/html": [
       "<div>\n",
       "<style scoped>\n",
       "    .dataframe tbody tr th:only-of-type {\n",
       "        vertical-align: middle;\n",
       "    }\n",
       "\n",
       "    .dataframe tbody tr th {\n",
       "        vertical-align: top;\n",
       "    }\n",
       "\n",
       "    .dataframe thead th {\n",
       "        text-align: right;\n",
       "    }\n",
       "</style>\n",
       "<table border=\"1\" class=\"dataframe\">\n",
       "  <thead>\n",
       "    <tr style=\"text-align: right;\">\n",
       "      <th></th>\n",
       "      <th>Name</th>\n",
       "      <th>Concentration(M)</th>\n",
       "    </tr>\n",
       "    <tr>\n",
       "      <th>ID</th>\n",
       "      <th></th>\n",
       "      <th></th>\n",
       "    </tr>\n",
       "  </thead>\n",
       "  <tbody>\n",
       "    <tr>\n",
       "      <th>glc__D_c</th>\n",
       "      <td>D-Glucose</td>\n",
       "      <td>0.010483</td>\n",
       "    </tr>\n",
       "    <tr>\n",
       "      <th>atp_c</th>\n",
       "      <td>ATP C10H12N5O13P3</td>\n",
       "      <td>0.004727</td>\n",
       "    </tr>\n",
       "    <tr>\n",
       "      <th>adp_c</th>\n",
       "      <td>ADP C10H12N5O10P2</td>\n",
       "      <td>0.001995</td>\n",
       "    </tr>\n",
       "    <tr>\n",
       "      <th>g6p_c</th>\n",
       "      <td>D-Glucose 6-phosphate</td>\n",
       "      <td>0.000140</td>\n",
       "    </tr>\n",
       "    <tr>\n",
       "      <th>g6p_r</th>\n",
       "      <td>D-Glucose 6-phosphate</td>\n",
       "      <td>0.000387</td>\n",
       "    </tr>\n",
       "    <tr>\n",
       "      <th>pi_r</th>\n",
       "      <td>Phosphate</td>\n",
       "      <td>0.009744</td>\n",
       "    </tr>\n",
       "  </tbody>\n",
       "</table>\n",
       "</div>"
      ],
      "text/plain": [
       "                           Name  Concentration(M)\n",
       "ID                                               \n",
       "glc__D_c              D-Glucose          0.010483\n",
       "atp_c         ATP C10H12N5O13P3          0.004727\n",
       "adp_c         ADP C10H12N5O10P2          0.001995\n",
       "g6p_c     D-Glucose 6-phosphate          0.000140\n",
       "g6p_r     D-Glucose 6-phosphate          0.000387\n",
       "pi_r                  Phosphate          0.009744"
      ]
     },
     "execution_count": 38,
     "metadata": {},
     "output_type": "execute_result"
    }
   ],
   "source": [
    "#Load Concentration Data\n",
    "conc_df = load_data(\n",
    "    filepath=data_sheet,\n",
    "    sheet_name=\"Concentrations\").drop(\"Concentration (mM)\", axis=1)\n",
    "#conc_df = conc_df.drop(\"Name\", axis=1)\n",
    "conc_df = conc_df.drop(\"Additional Notes\", axis=1)\n",
    "conc_df = conc_df.dropna() #drops rows with NaN\n",
    "conc_df"
   ]
  },
  {
   "cell_type": "code",
   "execution_count": 39,
   "metadata": {},
   "outputs": [],
   "source": [
    "#Set Concentrations\n",
    "\n",
    "metabolite_list = [\n",
    "# HEX1    \n",
    "    'glc__D_c',\n",
    "    'g6p_c',\n",
    "    'adp_c',\n",
    "    'atp_c',\n",
    "    #'pi_c',\n",
    "    'h_c',\n",
    "\n",
    "    'glc__D_e'\n",
    "    # GLCt1\n",
    "# #G6Pter\n",
    "#             'g6p_r',\n",
    "# #G6PPer \n",
    "#             'h2o_r',\n",
    "#             'glc__D_r',\n",
    "#             'pi_r'\n",
    "            \n",
    "                  ]"
   ]
  },
  {
   "cell_type": "code",
   "execution_count": 40,
   "metadata": {},
   "outputs": [],
   "source": [
    "met_list = []\n",
    "for mid, name, conc in conc_df.itertuples():\n",
    "    if mid in metabolite_list: \n",
    "        metabolite = glycogenolysis.metabolites.get_by_id(mid)\n",
    "        metabolite.name = name\n",
    "        \n",
    "        metabolite.ic = conc #data sheet is in M units\n",
    "        met_list.append(metabolite.ic)"
   ]
  },
  {
   "cell_type": "code",
   "execution_count": 41,
   "metadata": {},
   "outputs": [
    {
     "data": {
      "text/plain": [
       "[<MassMetabolite adp_c at 0x7f8db55afe20>,\n",
       " <MassMetabolite atp_c at 0x7f8db55afdf0>,\n",
       " <MassMetabolite g6p_c at 0x7f8db55afe50>,\n",
       " <MassMetabolite glc__D_c at 0x7f8db55afaf0>,\n",
       " <MassMetabolite h_c at 0x7f8db55afd00>,\n",
       " <MassMetabolite glc__D_e at 0x7f8db55af4f0>,\n",
       " <MassMetabolite g6p_r at 0x7f8d9875e880>,\n",
       " <MassMetabolite glc__D_r at 0x7f8d9875eac0>,\n",
       " <MassMetabolite h2o_r at 0x7f8d9875ecd0>,\n",
       " <MassMetabolite pi_r at 0x7f8d9875eca0>]"
      ]
     },
     "execution_count": 41,
     "metadata": {},
     "output_type": "execute_result"
    }
   ],
   "source": [
    "glycogenolysis.metabolites"
   ]
  },
  {
   "cell_type": "code",
   "execution_count": 42,
   "metadata": {},
   "outputs": [
    {
     "name": "stdout",
     "output_type": "stream",
     "text": [
      "adp_c: 0.00199495195\n",
      "atp_c: 0.004727145980000001\n",
      "g6p_c: 0.00014000000000000001\n",
      "glc__D_c: 0.01048280703\n",
      "h_c: 1\n",
      "glc__D_e: 0.01048280703\n",
      "g6p_r: None\n",
      "glc__D_r: None\n",
      "h2o_r: None\n",
      "pi_r: None\n"
     ]
    }
   ],
   "source": [
    "for metabolite in [\n",
    "    #'h_i',\n",
    "    #'h_m',\n",
    "    \"h_c\", \n",
    "    #\"h2o_c\"\n",
    "#'h20_r'\n",
    "]:\n",
    "    metabolite = glycogenolysis.metabolites.get_by_id(metabolite)\n",
    "    metabolite.ic = 1 #M\n",
    "    \n",
    "glycogenolysis.metabolites.glc__D_e.ic= glycogenolysis.metabolites.glc__D_c.ic\n",
    "\n",
    "for metabolite in glycogenolysis.metabolites:\n",
    "    print(\"{0}: {1}\".format(metabolite.id, metabolite.ic))"
   ]
  },
  {
   "cell_type": "code",
   "execution_count": 43,
   "metadata": {},
   "outputs": [
    {
     "name": "stderr",
     "output_type": "stream",
     "text": [
      "\u001b[93mWARNING:\u001b[0m \u001b[93mMissing concentrations for the following: ['g6p_r', 'glc__D_r', 'pi_r']\u001b[0m\n",
      "\u001b[93mWARNING:\u001b[0m \u001b[93mNo Keq variables or reaction constraints created for the following reactions not defined as equilibrium reactions but with steady state fluxes of 0.:\n",
      "['HEX1']\u001b[0m\n"
     ]
    },
    {
     "data": {
      "text/html": [
       "<strong><em>Optimal</em> solution with objective value 0.000</strong><br><div>\n",
       "<style scoped>\n",
       "    .dataframe tbody tr th:only-of-type {\n",
       "        vertical-align: middle;\n",
       "    }\n",
       "\n",
       "    .dataframe tbody tr th {\n",
       "        vertical-align: top;\n",
       "    }\n",
       "\n",
       "    .dataframe thead th {\n",
       "        text-align: right;\n",
       "    }\n",
       "</style>\n",
       "<table border=\"1\" class=\"dataframe\">\n",
       "  <thead>\n",
       "    <tr style=\"text-align: right;\">\n",
       "      <th></th>\n",
       "      <th>variables</th>\n",
       "      <th>reduced_costs</th>\n",
       "    </tr>\n",
       "  </thead>\n",
       "  <tbody>\n",
       "    <tr>\n",
       "      <th>adp_c</th>\n",
       "      <td>1.994952e-03</td>\n",
       "      <td>0.0</td>\n",
       "    </tr>\n",
       "    <tr>\n",
       "      <th>atp_c</th>\n",
       "      <td>4.727146e-03</td>\n",
       "      <td>0.0</td>\n",
       "    </tr>\n",
       "    <tr>\n",
       "      <th>g6p_c</th>\n",
       "      <td>1.400000e-04</td>\n",
       "      <td>0.0</td>\n",
       "    </tr>\n",
       "    <tr>\n",
       "      <th>glc__D_c</th>\n",
       "      <td>1.462994e-02</td>\n",
       "      <td>0.0</td>\n",
       "    </tr>\n",
       "    <tr>\n",
       "      <th>glc__D_e</th>\n",
       "      <td>7.511259e-03</td>\n",
       "      <td>0.0</td>\n",
       "    </tr>\n",
       "    <tr>\n",
       "      <th>...</th>\n",
       "      <td>...</td>\n",
       "      <td>...</td>\n",
       "    </tr>\n",
       "    <tr>\n",
       "      <th>pi_r</th>\n",
       "      <td>1.000000e-10</td>\n",
       "      <td>0.0</td>\n",
       "    </tr>\n",
       "    <tr>\n",
       "      <th>Keq_GLCt1</th>\n",
       "      <td>7.165313e-01</td>\n",
       "      <td>0.0</td>\n",
       "    </tr>\n",
       "    <tr>\n",
       "      <th>Keq_G6Pter</th>\n",
       "      <td>2.761096e+00</td>\n",
       "      <td>0.0</td>\n",
       "    </tr>\n",
       "    <tr>\n",
       "      <th>Keq_G6PPer</th>\n",
       "      <td>4.130000e+01</td>\n",
       "      <td>0.0</td>\n",
       "    </tr>\n",
       "    <tr>\n",
       "      <th>Keq_GLCter</th>\n",
       "      <td>1.000000e+00</td>\n",
       "      <td>0.0</td>\n",
       "    </tr>\n",
       "  </tbody>\n",
       "</table>\n",
       "<p>13 rows × 2 columns</p>\n",
       "</div>"
      ],
      "text/plain": [
       "<Solution 0.000 at 0x7f8db5bb66a0>"
      ]
     },
     "execution_count": 43,
     "metadata": {},
     "output_type": "execute_result"
    }
   ],
   "source": [
    "#Formulate QP minimization list for concentrations\n",
    "## double check this?\n",
    "conc_solver = ConcSolver(\n",
    "    glycogenolysis, # bc only want metabolites in glycogenolysis \n",
    "    excluded_metabolites=[\n",
    "        #'h_i', 'h_m', 'co2_m', 'gdp_m', 'gtp_m', 'hco3_m'\n",
    "        \"h_c\", \n",
    "        #\"h2o_c\",'13dpg_c'\n",
    "    ],\n",
    "    constraint_buffer=1)\n",
    "\n",
    "conc_solver.setup_feasible_qp_problem(\n",
    "fixed_conc_bounds=list(glycogenolysis.fixed))\n",
    "fixed_Keq_bounds=glycogenolysis.reactions.list_attr(\"Keq_str\")\n",
    "    \n",
    "#assumption: provide uncertainity to allow for a variance for the Keqs rather than staying fixed\n",
    "#conc_solver.setup_feasible_qp_problem(Keq_percent_deviation=0.1)\n",
    "\n",
    "conc_solution = conc_solver.optimize()\n",
    "conc_solution"
   ]
  },
  {
   "cell_type": "code",
   "execution_count": 46,
   "metadata": {},
   "outputs": [
    {
     "name": "stderr",
     "output_type": "stream",
     "text": [
      "mass/visualization/visualization_util.py:806 \u001b[1;31mUserWarning\u001b[0m: Attempted to set non-positive left xlim on a log-scaled axis.\n",
      "Invalid limit will be ignored.\n",
      "mass/visualization/visualization_util.py:806 \u001b[1;31mUserWarning\u001b[0m: Attempted to set non-positive bottom ylim on a log-scaled axis.\n",
      "Invalid limit will be ignored.\n"
     ]
    },
    {
     "data": {
      "image/png": "[encoded data removed]",
      "text/plain": [
       "<Figure size 360x360 with 1 Axes>"
      ]
     },
     "metadata": {
      "needs_background": "light"
     },
     "output_type": "display_data"
    }
   ],
   "source": [
    "#Compare Results\n",
    "conc_comparison_fig, ax = plt.subplots(nrows=1, ncols=1,\n",
    "                                       figsize=(5, 5))\n",
    "\n",
    "plot_comparison(\n",
    "    x=conc_df[\"Concentration(M)\"], y=conc_solution,\n",
    "    compare=\"concentrations\",\n",
    "    observable=[mid for mid in conc_df.index], ax=ax,\n",
    "    legend=\"right outside\", plot_function=\"loglog\",\n",
    "    xlim=(0, 20), ylim=(0, 20), \n",
    "    xy_line=True,\n",
    "    xy_legend=\"best\", xlabel=\"Initial [mol/L]\", ylabel=\"Adjusted [mol/L]\")\n",
    "\n",
    "conc_comparison_fig.tight_layout()\n",
    "update_model_with_concentration_solution(\n",
    "    glycogenolysis, conc_solution, concentrations=True, inplace=True);"
   ]
  },
  {
   "cell_type": "markdown",
   "metadata": {},
   "source": [
    "## Sample Concentrations"
   ]
  },
  {
   "cell_type": "code",
   "execution_count": 47,
   "metadata": {},
   "outputs": [
    {
     "data": {
      "text/html": [
       "<div>\n",
       "<style scoped>\n",
       "    .dataframe tbody tr th:only-of-type {\n",
       "        vertical-align: middle;\n",
       "    }\n",
       "\n",
       "    .dataframe tbody tr th {\n",
       "        vertical-align: top;\n",
       "    }\n",
       "\n",
       "    .dataframe thead th {\n",
       "        text-align: right;\n",
       "    }\n",
       "</style>\n",
       "<table border=\"1\" class=\"dataframe\">\n",
       "  <thead>\n",
       "    <tr style=\"text-align: right;\">\n",
       "      <th></th>\n",
       "      <th>adp_c</th>\n",
       "      <th>atp_c</th>\n",
       "      <th>g6p_c</th>\n",
       "      <th>glc__D_c</th>\n",
       "      <th>glc__D_e</th>\n",
       "      <th>g6p_r</th>\n",
       "      <th>glc__D_r</th>\n",
       "      <th>h2o_r</th>\n",
       "      <th>pi_r</th>\n",
       "    </tr>\n",
       "  </thead>\n",
       "  <tbody>\n",
       "    <tr>\n",
       "      <th>0</th>\n",
       "      <td>0.005261</td>\n",
       "      <td>0.007833</td>\n",
       "      <td>0.000283</td>\n",
       "      <td>0.026252</td>\n",
       "      <td>0.012035</td>\n",
       "      <td>0.000025</td>\n",
       "      <td>0.071359</td>\n",
       "      <td>5.557400e-09</td>\n",
       "      <td>3.007346e-11</td>\n",
       "    </tr>\n",
       "    <tr>\n",
       "      <th>1</th>\n",
       "      <td>0.014180</td>\n",
       "      <td>0.017773</td>\n",
       "      <td>0.000236</td>\n",
       "      <td>0.079493</td>\n",
       "      <td>0.004714</td>\n",
       "      <td>0.000023</td>\n",
       "      <td>0.216085</td>\n",
       "      <td>7.084821e-09</td>\n",
       "      <td>1.139515e-11</td>\n",
       "    </tr>\n",
       "    <tr>\n",
       "      <th>2</th>\n",
       "      <td>0.006181</td>\n",
       "      <td>0.003189</td>\n",
       "      <td>0.001113</td>\n",
       "      <td>0.089168</td>\n",
       "      <td>0.017677</td>\n",
       "      <td>0.000899</td>\n",
       "      <td>0.242384</td>\n",
       "      <td>8.960530e-10</td>\n",
       "      <td>5.051344e-11</td>\n",
       "    </tr>\n",
       "    <tr>\n",
       "      <th>3</th>\n",
       "      <td>0.010675</td>\n",
       "      <td>0.000673</td>\n",
       "      <td>0.000094</td>\n",
       "      <td>0.035067</td>\n",
       "      <td>0.001464</td>\n",
       "      <td>0.000052</td>\n",
       "      <td>0.095323</td>\n",
       "      <td>2.788620e-09</td>\n",
       "      <td>2.315632e-11</td>\n",
       "    </tr>\n",
       "    <tr>\n",
       "      <th>4</th>\n",
       "      <td>0.004188</td>\n",
       "      <td>0.001800</td>\n",
       "      <td>0.000430</td>\n",
       "      <td>0.017253</td>\n",
       "      <td>0.006928</td>\n",
       "      <td>0.000062</td>\n",
       "      <td>0.046897</td>\n",
       "      <td>1.639667e-09</td>\n",
       "      <td>3.301627e-11</td>\n",
       "    </tr>\n",
       "  </tbody>\n",
       "</table>\n",
       "</div>"
      ],
      "text/plain": [
       "      adp_c     atp_c     g6p_c  glc__D_c  glc__D_e     g6p_r  glc__D_r  \\\n",
       "0  0.005261  0.007833  0.000283  0.026252  0.012035  0.000025  0.071359   \n",
       "1  0.014180  0.017773  0.000236  0.079493  0.004714  0.000023  0.216085   \n",
       "2  0.006181  0.003189  0.001113  0.089168  0.017677  0.000899  0.242384   \n",
       "3  0.010675  0.000673  0.000094  0.035067  0.001464  0.000052  0.095323   \n",
       "4  0.004188  0.001800  0.000430  0.017253  0.006928  0.000062  0.046897   \n",
       "\n",
       "          h2o_r          pi_r  \n",
       "0  5.557400e-09  3.007346e-11  \n",
       "1  7.084821e-09  1.139515e-11  \n",
       "2  8.960530e-10  5.051344e-11  \n",
       "3  2.788620e-09  2.315632e-11  \n",
       "4  1.639667e-09  3.301627e-11  "
      ]
     },
     "execution_count": 47,
     "metadata": {},
     "output_type": "execute_result"
    }
   ],
   "source": [
    "conc_solver.setup_sampling_problem(\n",
    "    fixed_conc_bounds=list(glycogenolysis.fixed),\n",
    "    fixed_Keq_bounds=glycogenolysis.reactions.list_attr(\"Keq_str\"))\n",
    "for variable in conc_solver.variables:\n",
    "    try:\n",
    "        met = glycogenolysis.metabolites.get_by_id(variable.name)\n",
    "        variable.lb, variable.ub = np.log([met.ic / 10, met.ic * 10])\n",
    "    except:\n",
    "        pass\n",
    "conc_samples = sample_concentrations(conc_solver, n=n_models, seed=seed)\n",
    "conc_samples.head()"
   ]
  },
  {
   "cell_type": "markdown",
   "metadata": {},
   "source": [
    "## Set concentrations and balance models with pseudoreactions"
   ]
  },
  {
   "cell_type": "code",
   "execution_count": 48,
   "metadata": {},
   "outputs": [
    {
     "name": "stdout",
     "output_type": "stream",
     "text": [
      "Number of models in ensemble: 20\n",
      "[<MassModel Glycogenolysis_C0 at 0x7f8d97bb8880>, <MassModel Glycogenolysis_C1 at 0x7f8d97a00a90>, <MassModel Glycogenolysis_C2 at 0x7f8d97a008b0>, <MassModel Glycogenolysis_C3 at 0x7f8d9c775e50>, <MassModel Glycogenolysis_C4 at 0x7f8d9c1a1d30>, <MassModel Glycogenolysis_C5 at 0x7f8d9b5398e0>, <MassModel Glycogenolysis_C6 at 0x7f8d9aec8b20>, <MassModel Glycogenolysis_C7 at 0x7f8d9a9268e0>, <MassModel Glycogenolysis_C8 at 0x7f8d9c985520>, <MassModel Glycogenolysis_C9 at 0x7f8d993ad790>, <MassModel Glycogenolysis_C10 at 0x7f8d99257eb0>, <MassModel Glycogenolysis_C11 at 0x7f8d98171700>, <MassModel Glycogenolysis_C12 at 0x7f8d9c3f74c0>, <MassModel Glycogenolysis_C13 at 0x7f8d99d87520>, <MassModel Glycogenolysis_C14 at 0x7f8d98894670>, <MassModel Glycogenolysis_C15 at 0x7f8d98894370>, <MassModel Glycogenolysis_C16 at 0x7f8d99cdd4c0>, <MassModel Glycogenolysis_C17 at 0x7f8db55ee5e0>, <MassModel Glycogenolysis_C18 at 0x7f8d9d2c77c0>, <MassModel Glycogenolysis_C19 at 0x7f8d9d5bad30>]\n"
     ]
    }
   ],
   "source": [
    "models_for_ensemble = []\n",
    "for idx, conc_sample in conc_samples.iterrows():\n",
    "    # Make copy of new model\n",
    "    new_model = glycogenolysis.copy()\n",
    "    new_model.id += \"_C{0:d}\".format(idx)\n",
    "    # Get concentration sample and update model with sample\n",
    "    new_model.update_initial_conditions(conc_sample.to_dict())\n",
    "\n",
    "    # Determine imbalances in the reduced network\n",
    "    fluxes = np.array(list(new_model.steady_state_fluxes.values()))\n",
    "    imbalanced_metabolites = new_model.S.dot(fluxes)\n",
    "\n",
    "    # Iterate through metabolites\n",
    "    for mid, imbalance in imbalanced_metabolites.iteritems():\n",
    "        # Ignore balanced metabolites\n",
    "        if imbalance == 0:\n",
    "            continue\n",
    "        # Get metabolite object\n",
    "        met = new_model.metabolites.get_by_id(mid)\n",
    "\n",
    "        # Add boundary reactions for imbalanced metabolites\n",
    "        boundary_type = \"sink\"    \n",
    "        # Add boundary reaction with imbalance as flux value\n",
    "        boundary_reaction = new_model.add_boundary(\n",
    "            mid, boundary_type, boundary_condition=met.ic)\n",
    "        \n",
    "        boundary_reaction.Keq = 1\n",
    "        if imbalance < 0:\n",
    "            boundary_reaction.reverse_stoichiometry(inplace=True)\n",
    "            imbalance = -imbalance\n",
    "\n",
    "        boundary_reaction.kf = imbalance / met.ic\n",
    "        boundary_reaction.steady_state_flux = imbalance\n",
    "        try:\n",
    "            # Update PERCs\n",
    "            new_model.calculate_PERCs(\n",
    "                fluxes={\n",
    "                    r: v for r, v in new_model.steady_state_fluxes.items()\n",
    "                    if not r.boundary},\n",
    "                update_reactions=True)\n",
    "        except:\n",
    "            print(\"Negative PERCs for {0}\".format(new_model.id))\n",
    "            continue\n",
    "    models_for_ensemble.append(new_model)\n",
    "print(\"Number of models in ensemble: {0:d}\".format(\n",
    "    len(models_for_ensemble)))\n",
    "print(models_for_ensemble)"
   ]
  },
  {
   "cell_type": "markdown",
   "metadata": {},
   "source": [
    "#### Ensure model is in steady state and export"
   ]
  },
  {
   "cell_type": "code",
   "execution_count": 49,
   "metadata": {},
   "outputs": [],
   "source": [
    "## determine imbalances in the reduced network\n",
    "fluxes = np.array(list(glycogenolysis.steady_state_fluxes.values()))\n",
    "imbalanced_metabolites = glycogenolysis.S.dot(fluxes)\n",
    "\n",
    "# Iterate through metabolites\n",
    "for mid, imbalance in imbalanced_metabolites.iteritems():\n",
    "    # Ignore balanced metabolites\n",
    "    if imbalance == 0:\n",
    "        continue\n",
    "    # Get metabolite object\n",
    "    met = glycogenolysis.metabolites.get_by_id(mid)\n",
    "\n",
    "    # Add boundary reactions for imbalanced metabolites\n",
    "    boundary_type = \"sink\"    \n",
    "    # Add boundary reaction with imbalance as flux value\n",
    "    boundary_reaction = glycogenolysis.add_boundary(\n",
    "        mid, boundary_type, boundary_condition=met.ic)\n",
    "\n",
    "    boundary_reaction.Keq = 1\n",
    "    if imbalance < 0:\n",
    "        boundary_reaction.reverse_stoichiometry(inplace=True)\n",
    "        imbalance = -imbalance\n",
    "\n",
    "    boundary_reaction.kf = imbalance / met.ic\n",
    "    boundary_reaction.steady_state_flux = imbalance\n",
    "    try:\n",
    "        # Update PERCs\n",
    "        glycogenolysis.calculate_PERCs(\n",
    "            fluxes={\n",
    "                r: v for r, v in glycogenolysis.steady_state_fluxes.items()\n",
    "                if not r.boundary},\n",
    "            update_reactions=True)\n",
    "    except:\n",
    "        print(\"Negative PERCs for {0}\".format(new_model.id))\n",
    "        continue"
   ]
  },
  {
   "cell_type": "code",
   "execution_count": 58,
   "metadata": {},
   "outputs": [],
   "source": [
    "## balancing charges on reactions manually\n",
    "\n",
    "glycogenolysis.metabolites.h_c.charge=1\n",
    "glycogenolysis.metabolites.pi_r.charge=-2"
   ]
  },
  {
   "cell_type": "code",
   "execution_count": 52,
   "metadata": {},
   "outputs": [
    {
     "data": {
      "text/html": [
       "\n",
       "            <table>\n",
       "                <tr>\n",
       "                    <td><strong>Reaction identifier</strong></td>\n",
       "                    <td>G6PPer</td>\n",
       "                </tr><tr>\n",
       "                    <td><strong>Name</strong></td>\n",
       "                    <td>Glucose-6-phosphate phosphatase, edoplasmic reticular</td>\n",
       "                </tr><tr>\n",
       "                    <td><strong>Memory address</strong></td>\n",
       "                    <td>0x07f8db55afa90</td>\n",
       "                </tr><tr>\n",
       "                    <td><strong>Subsystem</strong></td>\n",
       "                    <td>Glycolysis/gluconeogenesis</td>\n",
       "                </tr><tr>\n",
       "                    <td><strong>Kinetic Reversibility</strong></td>\n",
       "                    <td>True</td>\n",
       "                </tr><tr>\n",
       "                    <td><strong>Stoichiometry</strong></td>\n",
       "                    <td>\n",
       "                        <p style='text-align:right'>g6p_r + h2o_r <=> glc__D_r + pi_r</p>\n",
       "                        <p style='text-align:right'>D-Glucose 6-phosphate + H2O H2O <=> D-Glucose + Phosphate</p>\n",
       "                    </td>\n",
       "                </tr><tr>\n",
       "                    <td><strong>GPR</strong></td><td>57818_AT1 or 2538_AT1 or 92579_AT1</td>\n",
       "                </tr><tr>\n",
       "                    <td><strong>Bounds</strong></td><td>(0.0, 1000.0)</td>\n",
       "                </tr>\n",
       "            </table>\n",
       "        "
      ],
      "text/plain": [
       "<MassReaction G6PPer at 0x7f8db55afa90>"
      ]
     },
     "execution_count": 52,
     "metadata": {},
     "output_type": "execute_result"
    }
   ],
   "source": [
    "glycogenolysis.reactions.G6PPer"
   ]
  },
  {
   "cell_type": "code",
   "execution_count": 57,
   "metadata": {},
   "outputs": [
    {
     "data": {
      "text/plain": [
       "0"
      ]
     },
     "execution_count": 57,
     "metadata": {},
     "output_type": "execute_result"
    }
   ],
   "source": [
    "glycogenolysis.metabolites.pi_r.charge"
   ]
  },
  {
   "cell_type": "code",
   "execution_count": 59,
   "metadata": {},
   "outputs": [
    {
     "name": "stdout",
     "output_type": "stream",
     "text": [
      "╒══════════════════════════════════════════╕\n",
      "│ MODEL ID: Glycogenolysis                 │\n",
      "│ SIMULATABLE: True                        │\n",
      "│ PARAMETERS NUMERICALY CONSISTENT: True   │\n",
      "╞══════════════════════════════════════════╡\n",
      "╘══════════════════════════════════════════╛\n"
     ]
    }
   ],
   "source": [
    "qcqa_model(glycogenolysis, parameters=True, concentrations=True,\n",
    "          fluxes=True, superfluous=True, elemental=True)\n"
   ]
  },
  {
   "cell_type": "code",
   "execution_count": 60,
   "metadata": {
    "scrolled": true
   },
   "outputs": [
    {
     "name": "stderr",
     "output_type": "stream",
     "text": [
      "\u001b[91mERROR:\u001b[0m \u001b[91mError encountered trying to  <set gene id  for '2645_AT1'>.\u001b[0m\n",
      "\u001b[91mERROR:\u001b[0m \u001b[91mLibSBML error code -4: A value passed as an argument to the method is not of a type that is valid for the operation or kind of object involved. For example, this return code is used when a calling program attempts to set an SBML object identifier to a string whose syntax does not conform to the SBML identifier syntax.\u001b[0m\n",
      "\u001b[91mERROR:\u001b[0m \u001b[91mError encountered trying to  <set gene id  for '6513_AT1'>.\u001b[0m\n",
      "\u001b[91mERROR:\u001b[0m \u001b[91mLibSBML error code -4: A value passed as an argument to the method is not of a type that is valid for the operation or kind of object involved. For example, this return code is used when a calling program attempts to set an SBML object identifier to a string whose syntax does not conform to the SBML identifier syntax.\u001b[0m\n",
      "\u001b[91mERROR:\u001b[0m \u001b[91mError encountered trying to  <set gene id  for '2542_AT1'>.\u001b[0m\n",
      "\u001b[91mERROR:\u001b[0m \u001b[91mLibSBML error code -4: A value passed as an argument to the method is not of a type that is valid for the operation or kind of object involved. For example, this return code is used when a calling program attempts to set an SBML object identifier to a string whose syntax does not conform to the SBML identifier syntax.\u001b[0m\n",
      "\u001b[91mERROR:\u001b[0m \u001b[91mError encountered trying to  <set gene id  for '2538_AT1'>.\u001b[0m\n",
      "\u001b[91mERROR:\u001b[0m \u001b[91mLibSBML error code -4: A value passed as an argument to the method is not of a type that is valid for the operation or kind of object involved. For example, this return code is used when a calling program attempts to set an SBML object identifier to a string whose syntax does not conform to the SBML identifier syntax.\u001b[0m\n"
     ]
    },
    {
     "ename": "MassSimulationError",
     "evalue": "Could not load MassModel 'Glycogenolysis_C0'",
     "output_type": "error",
     "traceback": [
      "\u001b[0;31m---------------------------------------------------------------------------\u001b[0m",
      "\u001b[0;31mMassSimulationError\u001b[0m                       Traceback (most recent call last)",
      "\u001b[0;32m/opt/anaconda3/lib/python3.8/site-packages/mass/simulation/simulation.py\u001b[0m in \u001b[0;36m__init__\u001b[0;34m(self, reference_model, id, name, verbose, **kwargs)\u001b[0m\n\u001b[1;32m    186\u001b[0m             \u001b[0;31m# Load model into RoadRunner\u001b[0m\u001b[0;34m\u001b[0m\u001b[0;34m\u001b[0m\u001b[0;34m\u001b[0m\u001b[0m\n\u001b[0;32m--> 187\u001b[0;31m             rr = _load_model_into_roadrunner(reference_model, rr=None,\n\u001b[0m\u001b[1;32m    188\u001b[0m                                              verbose=verbose, **_SBML_KWARGS)\n",
      "\u001b[0;32m/opt/anaconda3/lib/python3.8/site-packages/mass/simulation/simulation.py\u001b[0m in \u001b[0;36m_load_model_into_roadrunner\u001b[0;34m(mass_model, rr, verbose, **kwargs)\u001b[0m\n\u001b[1;32m   1394\u001b[0m                        \"issues with the model.\")\n\u001b[0;32m-> 1395\u001b[0;31m         \u001b[0;32mraise\u001b[0m \u001b[0mMassSimulationError\u001b[0m\u001b[0;34m(\u001b[0m\u001b[0mmsg\u001b[0m\u001b[0;34m)\u001b[0m\u001b[0;34m\u001b[0m\u001b[0;34m\u001b[0m\u001b[0m\n\u001b[0m\u001b[1;32m   1396\u001b[0m \u001b[0;34m\u001b[0m\u001b[0m\n",
      "\u001b[0;31mMassSimulationError\u001b[0m: Cannot load SBML Model 'Glycogenolysis_C0' ",
      "\nDuring handling of the above exception, another exception occurred:\n",
      "\u001b[0;31mMassSimulationError\u001b[0m                       Traceback (most recent call last)",
      "\u001b[0;32m<ipython-input-60-382032ae61a3>\u001b[0m in \u001b[0;36m<module>\u001b[0;34m\u001b[0m\n\u001b[1;32m      5\u001b[0m \u001b[0mtfinal\u001b[0m \u001b[0;34m=\u001b[0m \u001b[0;36m1e4\u001b[0m\u001b[0;34m\u001b[0m\u001b[0;34m\u001b[0m\u001b[0m\n\u001b[1;32m      6\u001b[0m \u001b[0;34m\u001b[0m\u001b[0m\n\u001b[0;32m----> 7\u001b[0;31m \u001b[0msim\u001b[0m \u001b[0;34m=\u001b[0m \u001b[0mSimulation\u001b[0m\u001b[0;34m(\u001b[0m\u001b[0mreference_model\u001b[0m\u001b[0;34m=\u001b[0m\u001b[0mmodels_for_ensemble\u001b[0m\u001b[0;34m[\u001b[0m\u001b[0;36m0\u001b[0m\u001b[0;34m]\u001b[0m\u001b[0;34m,\u001b[0m \u001b[0mverbose\u001b[0m\u001b[0;34m=\u001b[0m\u001b[0mverbose\u001b[0m\u001b[0;34m)\u001b[0m\u001b[0;34m\u001b[0m\u001b[0;34m\u001b[0m\u001b[0m\n\u001b[0m\u001b[1;32m      8\u001b[0m \u001b[0msim\u001b[0m\u001b[0;34m.\u001b[0m\u001b[0madd_models\u001b[0m\u001b[0;34m(\u001b[0m\u001b[0mmodels_for_ensemble\u001b[0m\u001b[0;34m[\u001b[0m\u001b[0;36m1\u001b[0m\u001b[0;34m:\u001b[0m\u001b[0;34m]\u001b[0m\u001b[0;34m,\u001b[0m \u001b[0mverbose\u001b[0m\u001b[0;34m=\u001b[0m\u001b[0mverbose\u001b[0m\u001b[0;34m,\u001b[0m \u001b[0mdisable_safe_load\u001b[0m\u001b[0;34m=\u001b[0m\u001b[0;32mTrue\u001b[0m\u001b[0;34m)\u001b[0m\u001b[0;34m\u001b[0m\u001b[0;34m\u001b[0m\u001b[0m\n\u001b[1;32m      9\u001b[0m \u001b[0msim\u001b[0m\u001b[0;34m.\u001b[0m\u001b[0mintegrator\u001b[0m\u001b[0;34m.\u001b[0m\u001b[0mabsolute_tolerance\u001b[0m \u001b[0;34m=\u001b[0m \u001b[0;36m1e-15\u001b[0m\u001b[0;34m\u001b[0m\u001b[0;34m\u001b[0m\u001b[0m\n",
      "\u001b[0;32m/opt/anaconda3/lib/python3.8/site-packages/mass/simulation/simulation.py\u001b[0m in \u001b[0;36m__init__\u001b[0;34m(self, reference_model, id, name, verbose, **kwargs)\u001b[0m\n\u001b[1;32m    192\u001b[0m             \u001b[0;32mif\u001b[0m \u001b[0mverbose\u001b[0m\u001b[0;34m:\u001b[0m\u001b[0;34m\u001b[0m\u001b[0;34m\u001b[0m\u001b[0m\n\u001b[1;32m    193\u001b[0m                 \u001b[0mmsg\u001b[0m \u001b[0;34m+=\u001b[0m \u001b[0;34m\": \"\u001b[0m \u001b[0;34m+\u001b[0m \u001b[0mstr\u001b[0m\u001b[0;34m(\u001b[0m\u001b[0me\u001b[0m\u001b[0;34m)\u001b[0m\u001b[0;34m\u001b[0m\u001b[0;34m\u001b[0m\u001b[0m\n\u001b[0;32m--> 194\u001b[0;31m             \u001b[0;32mraise\u001b[0m \u001b[0mMassSimulationError\u001b[0m\u001b[0;34m(\u001b[0m\u001b[0mmsg\u001b[0m\u001b[0;34m)\u001b[0m\u001b[0;34m\u001b[0m\u001b[0;34m\u001b[0m\u001b[0m\n\u001b[0m\u001b[1;32m    195\u001b[0m \u001b[0;34m\u001b[0m\u001b[0m\n\u001b[1;32m    196\u001b[0m         \u001b[0;31m# Initialize Simulation\u001b[0m\u001b[0;34m\u001b[0m\u001b[0;34m\u001b[0m\u001b[0;34m\u001b[0m\u001b[0m\n",
      "\u001b[0;31mMassSimulationError\u001b[0m: Could not load MassModel 'Glycogenolysis_C0'"
     ]
    }
   ],
   "source": [
    "# Whether to print messages as loop occurs. \n",
    "verbose = False\n",
    "# Ensure all models are simulated to a long time and that\n",
    "# there are enough time points to determine if model reached steady state.\n",
    "tfinal = 1e4\n",
    "\n",
    "sim = Simulation(reference_model=models_for_ensemble[0], verbose=verbose)\n",
    "sim.add_models(models_for_ensemble[1:], verbose=verbose, disable_safe_load=True)\n",
    "sim.integrator.absolute_tolerance = 1e-15\n",
    "sim.integrator.relative_tolerance = 1e-9\n",
    "\n",
    "models_to_export = []\n",
    "with warnings.catch_warnings():\n",
    "    warnings.simplefilter(\"ignore\")\n",
    "    for model in models_for_ensemble:\n",
    "        # Attempt to determine steady state\n",
    "        conc_sol, flux_sol = sim.find_steady_state(\n",
    "            models=model, strategy=\"simulate\", update_values=True,\n",
    "            tfinal=tfinal, \n",
    "            verbose=verbose)\n",
    "        if conc_sol and flux_sol:\n",
    "            continue\n",
    "        print(str(model) + \" first attempt failed.\")\n",
    "        # First attempt was not successful, lengthen time for second attempt\n",
    "        # Attempt to determine steady state\n",
    "        conc_sol, flux_sol = sim.find_steady_state(\n",
    "            models=model, strategy=\"simulate\", update_values=True,\n",
    "            tfinal=tfinal * 10, \n",
    "            verbose=verbose)\n",
    "        if conc_sol and flux_sol:\n",
    "            continue\n",
    "        print(str(model) + \" second attempt failed.\")\n",
    "        # Second attempt was not successful, lengthen time for second attempt\n",
    "        # Attempt to determine steady state\n",
    "        conc_sol, flux_sol = sim.find_steady_state(\n",
    "            models=model, strategy=\"simulate\", update_values=True,\n",
    "            tfinal=tfinal * 100, \n",
    "            verbose=verbose)\n",
    "        if conc_sol and flux_sol:\n",
    "            continue\n",
    "        print(str(model) + \" third attempt failed. Eliminating model.\")\n",
    "        # Third attempt was not successful, eliminate the model\n",
    "        sim.remove_models(models=model, verbose=verbose)"
   ]
  },
  {
   "cell_type": "code",
   "execution_count": 63,
   "metadata": {
    "scrolled": true
   },
   "outputs": [],
   "source": [
    "glycogenolysis.genes.remove('2645_AT1')\n",
    "glycogenolysis.genes.remove('6513_AT1')\n",
    "glycogenolysis.genes.remove('2542_AT1')\n",
    "glycogenolysis.genes.remove('2538_AT1')"
   ]
  },
  {
   "cell_type": "code",
   "execution_count": 64,
   "metadata": {},
   "outputs": [
    {
     "data": {
      "image/png": "[encoded data removed]",
      "text/plain": [
       "<Figure size 432x288 with 1 Axes>"
      ]
     },
     "metadata": {
      "needs_background": "light"
     },
     "output_type": "display_data"
    }
   ],
   "source": [
    "###RUN THIS FOR TIME PROFILE\n",
    "# Setup simulation object\n",
    "sim = Simulation(glycogenolysis, verbose=False)\n",
    "# Simulate from 0 to 1000 with 10001 points in the output\n",
    "conc_sol, flux_sol = sim.simulate(glycogenolysis, time=(0, 1e3, 1e4 + 1))\n",
    "# Quickly render and display time profiles\n",
    "conc_sol.view_time_profile()"
   ]
  },
  {
   "cell_type": "code",
   "execution_count": 72,
   "metadata": {},
   "outputs": [
    {
     "data": {
      "image/png": "[encoded data removed]",
      "text/plain": [
       "<Figure size 720x432 with 2 Axes>"
      ]
     },
     "metadata": {
      "needs_background": "light"
     },
     "output_type": "display_data"
    }
   ],
   "source": [
    "fig_1, axes = plt.subplots(nrows=2, ncols=1, figsize=(10, 6));\n",
    "(ax1, ax2) = axes.flatten()\n",
    "L_FONT = {\"size\": \"large\"}\n",
    "plot_time_profile(\n",
    "    conc_sol, ax=ax1, legend=\"right outside\",\n",
    "    plot_function=\"semilogx\",\n",
    "    xlabel=\"Time [hr]\", ylabel=\"Concentration [mM]\",\n",
    "    title=(\"Concentration Profile\", L_FONT));\n",
    "\n",
    "plot_time_profile(\n",
    "    flux_sol, ax=ax2, legend=\"right outside\",\n",
    "    plot_function='loglog',\n",
    "    xlabel=\"Time [hr]\", ylabel=\"Flux [mol/L*hr]\",\n",
    "    title=(\"Flux Profile\", L_FONT));\n",
    "fig_1.tight_layout()\n",
    "\n"
   ]
  },
  {
   "cell_type": "code",
   "execution_count": null,
   "metadata": {},
   "outputs": [],
   "source": []
  }
 ],
 "metadata": {
  "kernelspec": {
   "display_name": "Python 3",
   "language": "python",
   "name": "python3"
  },
  "language_info": {
   "codemirror_mode": {
    "name": "ipython",
    "version": 3
   },
   "file_extension": ".py",
   "mimetype": "text/x-python",
   "name": "python",
   "nbconvert_exporter": "python",
   "pygments_lexer": "ipython3",
   "version": "3.8.3"
  }
 },
 "nbformat": 4,
 "nbformat_minor": 4
}
