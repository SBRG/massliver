{
 "cells": [
  {
   "cell_type": "markdown",
   "metadata": {},
   "source": [
    "# Liver Model Construction: Notebook-Glycolysis ONLY-trial"
   ]
  },
  {
   "cell_type": "markdown",
   "metadata": {},
   "source": [
    "## Setup workflow"
   ]
  },
  {
   "cell_type": "markdown",
   "metadata": {},
   "source": [
    "### Import packages"
   ]
  },
  {
   "cell_type": "code",
   "execution_count": 1,
   "metadata": {},
   "outputs": [
    {
     "name": "stdout",
     "output_type": "stream",
     "text": [
      "MASSpy version: 0.1.1\n"
     ]
    }
   ],
   "source": [
    "import os\n",
    "import warnings\n",
    "from cobra.io.json import load_json_model as load_json_cobra_model\n",
    "import escher\n",
    "import mass\n",
    "import numpy as np\n",
    "import pandas as pd\n",
    "import sympy as sy\n",
    "from cobra import Model, Reaction, Metabolite\n",
    "import cobra.test\n",
    "from os.path import join\n",
    "from mass.util import qcqa_model\n",
    "from cobra import DictList\n",
    "from mass import (\n",
    "    MassConfiguration, MassMetabolite, MassModel,\n",
    "    MassReaction, Simulation, UnitDefinition)\n",
    "from mass.io.json import save_json_model as save_json_mass_model\n",
    "from mass.visualization import plot_comparison, plot_time_profile\n",
    "mass_config = MassConfiguration()\n",
    "\n",
    "mass_config.irreversible_Keq = float(\"inf\")\n",
    "\n",
    "print(\"MASSpy version: {0}\".format(mass.__version__))\n",
    "\n",
    "import pandas as pd\n",
    "\n",
    "from six import iteritems\n",
    "\n",
    "import sympy as sym\n",
    "\n",
    "import matplotlib.pyplot as plt\n",
    "\n",
    "from mass.thermo import (\n",
    "    ConcSolver, sample_concentrations,\n",
    "    update_model_with_concentration_solution)"
   ]
  },
  {
   "cell_type": "code",
   "execution_count": null,
   "metadata": {},
   "outputs": [],
   "source": [
    "pip install cplex"
   ]
  },
  {
   "cell_type": "code",
   "execution_count": 2,
   "metadata": {},
   "outputs": [],
   "source": [
    "seed = int(4)\n",
    "n_models = 1\n",
    "\n",
    "mass_config = MassConfiguration()\n",
    "mass_config.solver = \"cplex\""
   ]
  },
  {
   "cell_type": "markdown",
   "metadata": {},
   "source": [
    "## Set paths and constants"
   ]
  },
  {
   "cell_type": "markdown",
   "metadata": {},
   "source": [
    "### Directory paths"
   ]
  },
  {
   "cell_type": "code",
   "execution_count": 3,
   "metadata": {},
   "outputs": [],
   "source": [
    "#had to remove the mass\n",
    "model_dir = os.path.abspath(\"../models\")\n",
    "maps_dir = os.path.abspath(\"../maps\")"
   ]
  },
  {
   "cell_type": "markdown",
   "metadata": {},
   "source": [
    "# Create MASS model from COBRA model"
   ]
  },
  {
   "cell_type": "markdown",
   "metadata": {},
   "source": [
    "### Load COBRA model"
   ]
  },
  {
   "cell_type": "code",
   "execution_count": 4,
   "metadata": {},
   "outputs": [
    {
     "data": {
      "text/html": [
       "\n",
       "        <table>\n",
       "            <tr>\n",
       "                <td><strong>Name</strong></td>\n",
       "                <td>None</td>\n",
       "            </tr><tr>\n",
       "                <td><strong>Memory address</strong></td>\n",
       "                <td>0x026368e7fbe0</td>\n",
       "            </tr><tr>\n",
       "                <td><strong>Number of metabolites</strong></td>\n",
       "                <td>178</td>\n",
       "            </tr><tr>\n",
       "                <td><strong>Number of reactions</strong></td>\n",
       "                <td>187</td>\n",
       "            </tr><tr>\n",
       "                <td><strong>Number of groups</strong></td>\n",
       "                <td>0</td>\n",
       "            </tr><tr>\n",
       "                <td><strong>Objective expression</strong></td>\n",
       "                <td>1.0*ATPM - 1.0*ATPM_reverse_5b752</td>\n",
       "            </tr><tr>\n",
       "                <td><strong>Compartments</strong></td>\n",
       "                <td>m, i, c, r, </td>\n",
       "            </tr>\n",
       "          </table>"
      ],
      "text/plain": [
       "<Model None at 0x26368e7fbe0>"
      ]
     },
     "execution_count": 4,
     "metadata": {},
     "output_type": "execute_result"
    }
   ],
   "source": [
    "core_model=load_json_cobra_model(filename=os.path.join(model_dir,\"CoreModel.json\"))\n",
    "core_model"
   ]
  },
  {
   "cell_type": "code",
   "execution_count": 5,
   "metadata": {},
   "outputs": [],
   "source": [
    "def load_data(filepath, sheet_name):\n",
    "    \"\"\"Load Liver data from an excel sheet\"\"\"\n",
    "    df = pd.read_excel(engine='openpyxl',\n",
    "        io=filepath,\n",
    "        sheet_name=sheet_name,\n",
    "        index_col=0)\n",
    "    #df = df.drop(\"Fasting Time\", axis=1)\n",
    "    #df = df.drop(\"Additional Notes\", axis=1)\n",
    "    #df = df.drop(\"Flux (mmol/(L*hr))\", axis=1)\n",
    "    #df = df.drop(\"Name\", axis=1)\n",
    "    return df"
   ]
  },
  {
   "cell_type": "code",
   "execution_count": 6,
   "metadata": {},
   "outputs": [
    {
     "data": {
      "text/html": [
       "<div>\n",
       "<style scoped>\n",
       "    .dataframe tbody tr th:only-of-type {\n",
       "        vertical-align: middle;\n",
       "    }\n",
       "\n",
       "    .dataframe tbody tr th {\n",
       "        vertical-align: top;\n",
       "    }\n",
       "\n",
       "    .dataframe thead th {\n",
       "        text-align: right;\n",
       "    }\n",
       "</style>\n",
       "<table border=\"1\" class=\"dataframe\">\n",
       "  <thead>\n",
       "    <tr style=\"text-align: right;\">\n",
       "      <th></th>\n",
       "      <th>Flux(mmol/(gDW*hr))</th>\n",
       "    </tr>\n",
       "    <tr>\n",
       "      <th>ID</th>\n",
       "      <th></th>\n",
       "    </tr>\n",
       "  </thead>\n",
       "  <tbody>\n",
       "    <tr>\n",
       "      <th>GLCter</th>\n",
       "      <td>-0.001674</td>\n",
       "    </tr>\n",
       "    <tr>\n",
       "      <th>G6PPer</th>\n",
       "      <td>0.001674</td>\n",
       "    </tr>\n",
       "    <tr>\n",
       "      <th>G6Pter</th>\n",
       "      <td>0.001674</td>\n",
       "    </tr>\n",
       "    <tr>\n",
       "      <th>GLPASE1</th>\n",
       "      <td>0.000215</td>\n",
       "    </tr>\n",
       "    <tr>\n",
       "      <th>PGMT</th>\n",
       "      <td>0.000215</td>\n",
       "    </tr>\n",
       "    <tr>\n",
       "      <th>EX_glygn2_c</th>\n",
       "      <td>-0.000215</td>\n",
       "    </tr>\n",
       "    <tr>\n",
       "      <th>GAPD</th>\n",
       "      <td>0.002903</td>\n",
       "    </tr>\n",
       "    <tr>\n",
       "      <th>PGK</th>\n",
       "      <td>-0.002903</td>\n",
       "    </tr>\n",
       "    <tr>\n",
       "      <th>PGM</th>\n",
       "      <td>0.002903</td>\n",
       "    </tr>\n",
       "    <tr>\n",
       "      <th>ENO</th>\n",
       "      <td>-0.002903</td>\n",
       "    </tr>\n",
       "    <tr>\n",
       "      <th>PEPCKm</th>\n",
       "      <td>0.004178</td>\n",
       "    </tr>\n",
       "    <tr>\n",
       "      <th>PCm</th>\n",
       "      <td>0.003794</td>\n",
       "    </tr>\n",
       "    <tr>\n",
       "      <th>LDH_L</th>\n",
       "      <td>0.002519</td>\n",
       "    </tr>\n",
       "    <tr>\n",
       "      <th>ME2</th>\n",
       "      <td>0.000630</td>\n",
       "    </tr>\n",
       "    <tr>\n",
       "      <th>PYK</th>\n",
       "      <td>0.000630</td>\n",
       "    </tr>\n",
       "    <tr>\n",
       "      <th>CSm</th>\n",
       "      <td>0.002995</td>\n",
       "    </tr>\n",
       "    <tr>\n",
       "      <th>SUCOASm</th>\n",
       "      <td>-0.003379</td>\n",
       "    </tr>\n",
       "    <tr>\n",
       "      <th>SUCD1m</th>\n",
       "      <td>0.003379</td>\n",
       "    </tr>\n",
       "    <tr>\n",
       "      <th>FUMm</th>\n",
       "      <td>0.003379</td>\n",
       "    </tr>\n",
       "    <tr>\n",
       "      <th>MDHm</th>\n",
       "      <td>0.003379</td>\n",
       "    </tr>\n",
       "    <tr>\n",
       "      <th>EX_lac__L_c</th>\n",
       "      <td>0.001567</td>\n",
       "    </tr>\n",
       "  </tbody>\n",
       "</table>\n",
       "</div>"
      ],
      "text/plain": [
       "             Flux(mmol/(gDW*hr))\n",
       "ID                              \n",
       "GLCter                 -0.001674\n",
       "G6PPer                  0.001674\n",
       "G6Pter                  0.001674\n",
       "GLPASE1                 0.000215\n",
       "PGMT                    0.000215\n",
       "EX_glygn2_c            -0.000215\n",
       "GAPD                    0.002903\n",
       "PGK                    -0.002903\n",
       "PGM                     0.002903\n",
       "ENO                    -0.002903\n",
       "PEPCKm                  0.004178\n",
       "PCm                     0.003794\n",
       "LDH_L                   0.002519\n",
       "ME2                     0.000630\n",
       "PYK                     0.000630\n",
       "CSm                     0.002995\n",
       "SUCOASm                -0.003379\n",
       "SUCD1m                  0.003379\n",
       "FUMm                    0.003379\n",
       "MDHm                    0.003379\n",
       "EX_lac__L_c             0.001567"
      ]
     },
     "execution_count": 6,
     "metadata": {},
     "output_type": "execute_result"
    }
   ],
   "source": [
    "flux_df = load_data(\n",
    "    filepath='1.5-ma-data-collection.xlsx',\n",
    "    sheet_name=\"Fluxes\")\n",
    "flux_df = flux_df.drop(\"Fasting Time\", axis=1)\n",
    "flux_df = flux_df.drop(\"Additional Notes\", axis=1)\n",
    "flux_df = flux_df.drop(\"Flux (mmol/(L*hr))\", axis=1)\n",
    "flux_df = flux_df.drop(\"Unnamed: 5\", axis=1) ## weird anomaly, shouldn't happen\n",
    "flux_df = flux_df.drop(\"Unnamed: 6\", axis=1)## weird anomaly, shouldn't happen\n",
    "flux_df\n"
   ]
  },
  {
   "cell_type": "code",
   "execution_count": 7,
   "metadata": {},
   "outputs": [],
   "source": [
    "v_vars = []\n",
    "v_data = []\n",
    "\n",
    "# How much flux to allow through irreversible reaction pairs\n",
    "# e.g, PFK/FBP & reverse_flux_percent = 0.1, raise both fluxes by 10% of non-zero flux value\n",
    "#reverse_flux_percent = 0.1\n",
    "#irreversible_enzyme_pairs = [\"PFK\", \"FBP\"]"
   ]
  },
  {
   "cell_type": "code",
   "execution_count": 8,
   "metadata": {},
   "outputs": [
    {
     "name": "stdout",
     "output_type": "stream",
     "text": [
      "GLCter -0.001674327221\n",
      "G6PPer 0.001674327221\n",
      "G6Pter 0.001674327221\n",
      "GLPASE1 0.0002150512027\n",
      "PGMT 0.0002150512027\n",
      "EX_glygn2_c -0.0002150512027\n",
      "GAPD 0.002903191236\n",
      "PGK -0.002903191236\n",
      "PGM 0.002903191236\n",
      "ENO -0.002903191236\n",
      "PEPCKm 0.004178137652\n",
      "PCm 0.003794117647\n",
      "LDH_L 0.002519171231\n",
      "ME2 0.0006297928078\n",
      "PYK 0.0006297928078\n",
      "CSm 0.002995356037\n",
      "SUCOASm -0.003379376042\n",
      "SUCD1m 0.003379376042\n",
      "FUMm 0.003379376042\n",
      "MDHm 0.003379376042\n",
      "EX_lac__L_c 0.001566801619\n"
     ]
    }
   ],
   "source": [
    "for rid, flux in flux_df.itertuples():\n",
    "    reaction = core_model.reactions.get_by_id(rid)\n",
    "    #reaction.bounds = (flux, flux)\n",
    "    print(rid, flux)\n",
    "\n",
    "    v_vars.append(sym.Symbol(rid))\n",
    "    v_data.append(flux)\n",
    "    \n",
    "#print(v_vars)\n",
    "#print(v_data)"
   ]
  },
  {
   "cell_type": "code",
   "execution_count": 9,
   "metadata": {},
   "outputs": [],
   "source": [
    "# Make symbolic for optlang objective \n",
    "v_vars = sym.Matrix(v_vars)\n",
    "v_data = sym.Matrix(v_data)\n",
    "\n",
    "F = sym.Matrix(2 * sym.eye(len(v_vars)))\n",
    "\n",
    "objective = 0.5 * v_vars.T * F * v_vars  - (2 * v_data).T * v_vars\n",
    "core_model.objective = objective[0]\n",
    "core_model.objective_direction = \"min\"\n",
    "\n",
    "flux_solution = core_model.optimize()\n"
   ]
  },
  {
   "cell_type": "code",
   "execution_count": 10,
   "metadata": {},
   "outputs": [
    {
     "data": {
      "text/plain": [
       "CSm                0.001376\n",
       "ACONTm             0.000688\n",
       "ICDHxm             0.000688\n",
       "AKGDm              0.000688\n",
       "SUCOASm           -0.000688\n",
       "                     ...   \n",
       "EX_nh4_c           0.000000\n",
       "EX_so3_c          -0.000000\n",
       "EX_etoh_c         -0.000000\n",
       "EX_glyc_3octa_c   -0.000000\n",
       "EX_fru_c           0.000000\n",
       "Name: fluxes, Length: 187, dtype: float64"
      ]
     },
     "execution_count": 10,
     "metadata": {},
     "output_type": "execute_result"
    }
   ],
   "source": [
    "# Make adjustments to net flux of PFK/FBP to ensure\n",
    "# no target flux value is 0 in order to create an enzyme module.\n",
    "#performing reverse flux percent on computed values rather than measured values like the MASSpy publication\n",
    "flux_solution.fluxes.FBP = flux_solution.fluxes.PFK * 0.1\n",
    "flux_solution.fluxes"
   ]
  },
  {
   "cell_type": "code",
   "execution_count": 11,
   "metadata": {},
   "outputs": [
    {
     "data": {
      "image/png": "[encoded data removed]",
      "text/plain": [
       "<Figure size 360x360 with 1 Axes>"
      ]
     },
     "metadata": {
      "needs_background": "light"
     },
     "output_type": "display_data"
    }
   ],
   "source": [
    "flux_comparison_fig, ax = plt.subplots(nrows=1, ncols=1, figsize=(5, 5))\n",
    "plot_comparison(\n",
    "    x=flux_df[\"Flux(mmol/(gDW*hr))\"], y=flux_solution, compare=\"fluxes\",\n",
    "    observable=[rid for rid in flux_df.index], ax=ax,\n",
    "    legend=\"right outside\", plot_function=\"plot\",\n",
    "    xlim=(-0.005,0.005), ylim=(-0.005, 0.005),\n",
    "    xy_line=True,\n",
    "    xy_legend=\"best\", xlabel=\"Measured [mmol/(gDW * h)]\", ylabel=\"Adjusted [mmol/(gDW * h)]\")\n",
    "\n",
    "flux_comparison_fig.tight_layout()\n",
    "#check directionality \n"
   ]
  },
  {
   "cell_type": "code",
   "execution_count": 12,
   "metadata": {},
   "outputs": [
    {
     "name": "stdout",
     "output_type": "stream",
     "text": [
      "CSm {'charge': -1.0}\n",
      "ACONTm {}\n",
      "ICDHxm {}\n",
      "AKGDm {}\n",
      "SUCOASm {'charge': 2.0}\n",
      "SUCD1m {}\n",
      "FUMm {}\n",
      "MDHm {'charge': -1.0}\n",
      "NADH2_u10mi {'charge': 1.0}\n",
      "FADH2ETC {}\n",
      "CYOR_u10mi {'charge': -2.0}\n",
      "CYOOm2i {'charge': 4.0}\n",
      "ATPS4mi {'charge': -1.0}\n",
      "Htmi {}\n",
      "HEX1 {'charge': -1.0}\n",
      "PGI {}\n",
      "PFK {'charge': -1.0}\n",
      "FBA {}\n",
      "TPI {}\n",
      "GAPD {'charge': -3.0}\n",
      "PGK {}\n",
      "PGM {}\n",
      "ENO {}\n",
      "PYK {'charge': 1.0}\n",
      "ADK1 {}\n",
      "PDHm {}\n",
      "LDH_L {'charge': -1.0}\n",
      "G6PDH2r {'charge': -1.0}\n",
      "PGL {'charge': -1.0}\n",
      "GND {}\n",
      "RPI {}\n",
      "RPE {}\n",
      "TKT1 {}\n",
      "TKT2 {}\n",
      "TALA {}\n",
      "PCm {'charge': 1.0}\n",
      "PEPCKm {}\n",
      "FBP {'charge': 2.0}\n",
      "G6PPer {'charge': 2.0}\n",
      "G6Pter {}\n",
      "GLCter {}\n",
      "MALtm {}\n",
      "MDH {'charge': -1.0}\n",
      "PEPCK_re {}\n",
      "PGMT {}\n",
      "GALUi {'charge': 1.0}\n",
      "GLGNS1 {'charge': -3.0}\n",
      "GLBRAN {}\n",
      "GLPASE1 {'charge': -6.0}\n",
      "GLDBRAN {}\n",
      "GLPASE2 {}\n",
      "GGNG {'charge': -8.0}\n",
      "ACACT1m {}\n",
      "HMGCOASm {'charge': 1.0}\n",
      "HMGLm {}\n",
      "ADCim {'charge': 1.0}\n",
      "BDHm {'charge': -1.0}\n",
      "OCOAT1m {}\n",
      "NDPK1 {}\n",
      "NDPK1m {}\n",
      "NDPK2 {}\n",
      "HCO3Em {'charge': -1.0}\n",
      "ATPtm {}\n",
      "AKGMALtm {}\n",
      "ASPTA {}\n",
      "ASPTAm {}\n",
      "CITtam {}\n",
      "CITL {}\n",
      "ME2 {}\n",
      "ACS {}\n",
      "ARGN {}\n",
      "OCBTm {'charge': 1.0}\n",
      "ARGSS {'charge': -1.0}\n",
      "ARGSL {}\n",
      "CBPSam {}\n",
      "NH4tm {}\n",
      "GDHm {'charge': -1.0}\n",
      "GLNS {'charge': 1.0}\n",
      "GLUN {}\n",
      "ALATA_L {}\n",
      "CYSO {'charge': -2.0}\n",
      "3SALATAi {'charge': 1.0}\n",
      "3SPYRSP {'charge': -1.0}\n",
      "PGCD {'charge': -1.0}\n",
      "PSERT {}\n",
      "PSP_L {'charge': 2.0}\n",
      "GHMT2r {}\n",
      "ASNS1 {'charge': -1.0}\n",
      "GLYtm {}\n",
      "MLTHFtm {}\n",
      "THFtm {}\n",
      "KHK {'charge': -1.0}\n",
      "FBA2 {}\n",
      "TRIOK {'charge': -1.0}\n",
      "ALCD19y {'charge': 1.0}\n",
      "GLYK {'charge': -1.0}\n",
      "2AMACHYD {}\n",
      "SERHL {}\n",
      "ALCD2x {'charge': -1.0}\n",
      "ACALDtm {}\n",
      "ALDD2xm {'charge': -2.0}\n",
      "ACSm {}\n",
      "Htm {}\n",
      "O2tm {}\n",
      "H2Otr {}\n",
      "H2Otm {}\n",
      "PItm {}\n",
      "PItr {}\n",
      "CO2tm {}\n",
      "PPA {'charge': 3.0}\n",
      "HCO3E {'charge': -1}\n",
      "PEPtm {}\n",
      "PYRt2m {}\n",
      "ASPGLUm {}\n",
      "THD1m {'charge': 1, 'H': -1}\n",
      "BHBtm {'charge': -1, 'C': 4, 'H': 7, 'O': 3}\n",
      "ACETONEt2m {'C': 3, 'H': 6, 'O': 1}\n",
      "ORNt4m {}\n",
      "FUMtm {}\n",
      "GLUt2m {}\n",
      "GLYCLm {}\n",
      "FACOAL80PROD {'charge': 3, 'C': -21, 'H': -31, 'N': -7, 'O': -15, 'P': -3, 'S': -1}\n",
      "GAPT {'charge': -2, 'C': 18, 'H': 25, 'N': 7, 'O': 10, 'P': 2, 'S': 1}\n",
      "AGPTAT {'charge': -4, 'C': 21, 'H': 32, 'N': 7, 'O': 16, 'P': 3, 'S': 1}\n",
      "LPIN {'H': -1, 'O': 3, 'P': 1}\n",
      "DGAT {'charge': -4, 'C': 21, 'H': 32, 'N': 7, 'O': 16, 'P': 3, 'S': 1}\n",
      "ACCOAC {'charge': 6, 'C': -24, 'H': -33, 'N': -7, 'O': -19, 'P': -3, 'S': -1}\n",
      "MCOATA {'charge': -4, 'C': 21, 'H': 32, 'N': 7, 'O': 16, 'P': 3, 'S': 1}\n",
      "ACOATA {'C': -2, 'H': -2, 'O': -1}\n",
      "KAS14 {'C': 1, 'O': 2, 'H': -1}\n",
      "30AR40 {'charge': 1, 'H': -2}\n",
      "3HAD40 {'H': 2, 'O': 1}\n",
      "EAR40y {'charge': 1, 'H': -2}\n",
      "30AS60 {'C': 1, 'O': 2, 'H': -1}\n",
      "30AR60 {'charge': 1, 'H': -2}\n",
      "3HAD60 {'H': 2, 'O': 1}\n",
      "EAR60y {'charge': 1, 'H': -2}\n",
      "30AS80 {'C': 1, 'O': 2, 'H': -1}\n",
      "30AR80 {'charge': 1, 'H': -2}\n",
      "3HAD80 {'H': 2, 'O': 1}\n",
      "EAR80y {'charge': 1, 'H': -2}\n",
      "FA80ACPHi {'H': -1, 'O': -1}\n",
      "FACOAL80 {'charge': 3, 'C': -21, 'H': -31, 'N': -7, 'O': -15, 'P': -3, 'S': -1}\n",
      "C80CPT1 {'charge': -4, 'C': 21, 'H': 32, 'N': 7, 'O': 16, 'P': 3, 'S': 1}\n",
      "r2434 {}\n",
      "CRNtim {}\n",
      "r0636 {'charge': 4, 'C': -21, 'H': -32, 'N': -7, 'O': -16, 'P': -3, 'S': -1}\n",
      "COAtim {}\n",
      "ACOAD3fm {'H': 2}\n",
      "ECOAH3m {'H': 2, 'O': 1}\n",
      "HACD3m {'charge': 1, 'H': -2}\n",
      "ACACT3rm {'C': -2, 'H': -2, 'O': -1}\n",
      "ACOAD2fm {'H': 2}\n",
      "ECOAH2m {'H': 2, 'O': 1}\n",
      "HACD2m {'charge': 1, 'H': -2}\n",
      "ACACT2rm {'C': -2, 'H': -2, 'O': -1}\n",
      "ACOAD1fm {'H': 2}\n",
      "ECOAH1m {'H': 2, 'O': 1}\n",
      "HACD1m {'charge': 5, 'C': -25, 'H': -38, 'N': -7, 'O': -18, 'P': -3, 'S': -1}\n",
      "ACACT1rm {}\n",
      "ATPM {'charge': 1}\n",
      "EX_h_c {'H': -1}\n",
      "EX_pyr_c {'charge': 1, 'C': -3, 'H': -3, 'O': -3}\n",
      "EX_h2o_c {'H': -2, 'O': -1}\n",
      "EX_pi_c {'H': -1, 'O': -4, 'P': -1}\n",
      "EX_glc__D_c {'C': -6, 'H': -12, 'O': -6}\n",
      "EX_lac__L_c {'charge': 1, 'C': -3, 'H': -5, 'O': -3}\n",
      "EX_co2_c {'C': -1, 'O': -2}\n",
      "EX_o2_c {'O': -2}\n",
      "EX_octa_prod_c {}\n",
      "EX_octa_cons_c {}\n",
      "EX_urea_c {'C': -1, 'H': -4, 'N': -2, 'O': -1}\n",
      "EX_gln__L_c {'C': -5, 'H': -10, 'N': -2, 'O': -3}\n",
      "EX_acetone_c {}\n",
      "EX_bhb_c {}\n",
      "EX_glu__L_c {'charge': 1, 'C': -5, 'H': -8, 'N': -1, 'O': -4}\n",
      "EX_ser__L_c {'C': -3, 'H': -7, 'N': -1, 'O': -3}\n",
      "EX_cys__L_c {'C': -3, 'H': -7, 'N': -1, 'O': -2, 'S': -1}\n",
      "EX_gly_c {'C': -2, 'H': -5, 'N': -1, 'O': -2}\n",
      "EX_glygn2_c {'C': -66, 'H': -111, 'O': -56, 'X': -1}\n",
      "EX_Tyr_ggn_c {'X': -1, 'O': -1, 'H': -1}\n",
      "EX_ala__L_c {'C': -3, 'H': -7, 'N': -1, 'O': -2}\n",
      "EX_nh4_c {'charge': -1, 'H': -4, 'N': -1}\n",
      "EX_so3_c {'charge': 2, 'O': -3, 'S': -1}\n",
      "EX_etoh_c {'C': -2, 'H': -6, 'O': -1}\n",
      "EX_glyc_3octa_c {}\n",
      "EX_fru_c {'C': -6, 'H': -12, 'O': -6}\n"
     ]
    }
   ],
   "source": [
    "for reaction in core_model.reactions:\n",
    "    print(reaction.id, reaction.check_mass_balance())\n"
   ]
  },
  {
   "cell_type": "markdown",
   "metadata": {},
   "source": [
    "## Create MASS model"
   ]
  },
  {
   "cell_type": "code",
   "execution_count": 13,
   "metadata": {},
   "outputs": [
    {
     "data": {
      "text/html": [
       "\n",
       "            <table>\n",
       "                <tr>\n",
       "                    <td><strong>Name</strong></td><td>Glycolysis</td>\n",
       "                </tr><tr>\n",
       "                    <td><strong>Memory address</strong></td><td>0x0263014c1a90</td>\n",
       "                </tr><tr>\n",
       "                    <td><strong>Stoichiometric Matrix</strong></td>\n",
       "                    <td>0x0</td>\n",
       "                </tr><tr>\n",
       "                    <td><strong>Matrix Rank</strong></td>\n",
       "                    <td>0</td>\n",
       "                </tr><tr>\n",
       "                    <td><strong>Number of metabolites</strong></td>\n",
       "                    <td>0</td>\n",
       "                </tr><tr>\n",
       "                    <td><strong>Initial conditions defined</strong></td>\n",
       "                    <td>0/0</td>\n",
       "                </tr><tr>\n",
       "                    <td><strong>Number of reactions</strong></td>\n",
       "                    <td>0</td>\n",
       "                </tr><tr>\n",
       "                    <td><strong>Number of genes</strong></td>\n",
       "                    <td>0</td>\n",
       "                </tr><tr>\n",
       "                    <td><strong>Number of enzyme modules</strong></td>\n",
       "                    <td>0</td>\n",
       "                </tr><tr>\n",
       "                    <td><strong>Number of groups</strong></td>\n",
       "                    <td>0</td>\n",
       "                </tr><tr>\n",
       "                    <td><strong>Objective expression</strong></td>\n",
       "                    <td>0</td>\n",
       "                </tr><tr>\n",
       "                    <td><strong>Compartments</strong></td>\n",
       "                    <td></td>\n",
       "                </tr>\n",
       "            </table>\n",
       "        "
      ],
      "text/plain": [
       "<MassModel Glycolysis at 0x263014c1a90>"
      ]
     },
     "execution_count": 13,
     "metadata": {},
     "output_type": "execute_result"
    }
   ],
   "source": [
    "glycolysis = MassModel(\"Glycolysis\", array_type='DataFrame', dtype=np.int64)\n",
    "glycolysis"
   ]
  },
  {
   "cell_type": "markdown",
   "metadata": {},
   "source": [
    "### Define reactions"
   ]
  },
  {
   "cell_type": "code",
   "execution_count": 14,
   "metadata": {},
   "outputs": [],
   "source": [
    "reaction_list = ['HEX1',\n",
    "                'PGI',\n",
    "                'FBP',\n",
    "                'PFK',\n",
    "                'FBA',\n",
    "                'TPI',\n",
    "                'GAPD',\n",
    "                'PGK',\n",
    "                'PGM',\n",
    "                'ENO',\n",
    "                'PEPtm',\n",
    "                'PEPCKm',\n",
    "                'LDH_L',\n",
    "                'PYK',\n",
    "                'PCm',\n",
    "                'PYRt2m']\n",
    "\n",
    "\n"
   ]
  },
  {
   "cell_type": "code",
   "execution_count": 15,
   "metadata": {},
   "outputs": [],
   "source": [
    "# Convert cobra.Reactions to mass.MassReactions\n",
    "for rid in reaction_list:\n",
    "    reaction = core_model.reactions.get_by_id(rid)\n",
    "    glycolysis.add_reactions([MassReaction(reaction)])"
   ]
  },
  {
   "cell_type": "code",
   "execution_count": 16,
   "metadata": {},
   "outputs": [
    {
     "data": {
      "text/html": [
       "\n",
       "            <table>\n",
       "                <tr>\n",
       "                    <td><strong>Reaction identifier</strong></td>\n",
       "                    <td>HEX1</td>\n",
       "                </tr><tr>\n",
       "                    <td><strong>Name</strong></td>\n",
       "                    <td>Hexokinase (D-glucose:ATP)</td>\n",
       "                </tr><tr>\n",
       "                    <td><strong>Memory address</strong></td>\n",
       "                    <td>0x0263015989d0</td>\n",
       "                </tr><tr>\n",
       "                    <td><strong>Subsystem</strong></td>\n",
       "                    <td>Glycolysis/gluconeogenesis</td>\n",
       "                </tr><tr>\n",
       "                    <td><strong>Kinetic Reversibility</strong></td>\n",
       "                    <td>True</td>\n",
       "                </tr><tr>\n",
       "                    <td><strong>Stoichiometry</strong></td>\n",
       "                    <td>\n",
       "                        <p style='text-align:right'>atp_c + glc__D_c <=> adp_c + g6p_c + h_c</p>\n",
       "                        <p style='text-align:right'>ATP C10H12N5O13P3 + D-Glucose <=> ADP C10H12N5O10P2 + D-Glucose 6-phosphate + H+</p>\n",
       "                    </td>\n",
       "                </tr><tr>\n",
       "                    <td><strong>GPR</strong></td><td>3098_AT3 or 80201_AT1 or 2645_AT3 or 3098_AT4 or 3099_AT1 or 2645_AT2 or 3098_AT5 or 2645_AT1 or 3098_AT1 or 3101_AT1 or 3098_AT2</td>\n",
       "                </tr><tr>\n",
       "                    <td><strong>Bounds</strong></td><td>(0.0, 1000.0)</td>\n",
       "                </tr>\n",
       "            </table>\n",
       "        "
      ],
      "text/plain": [
       "<MassReaction HEX1 at 0x263015989d0>"
      ]
     },
     "execution_count": 16,
     "metadata": {},
     "output_type": "execute_result"
    }
   ],
   "source": [
    "glycolysis.reactions.HEX1"
   ]
  },
  {
   "cell_type": "markdown",
   "metadata": {},
   "source": [
    "##  Set Fluxes"
   ]
  },
  {
   "cell_type": "code",
   "execution_count": 17,
   "metadata": {},
   "outputs": [
    {
     "name": "stdout",
     "output_type": "stream",
     "text": [
      "v_HEX1: 3.2992884001222023\n",
      "v_PGI: 1.2844120883040366\n",
      "v_FBP: 0.1284412088304037\n",
      "v_PFK: 1.2844120883040366\n",
      "v_FBA: 1.2844120883040366\n",
      "v_TPI: 1.2844120883040366\n",
      "v_GAPD: 2.5688241766080733\n",
      "v_PGK: -2.5688241766080733\n",
      "v_PGM: 1.6015026930233986\n",
      "v_ENO: -1.6015026930233986\n",
      "v_PEPtm: 3.726559657680128\n",
      "v_PEPCKm: 3.726559657680128\n",
      "v_LDH_L: -0.8094464970104237\n",
      "v_PYK: 2.12505696465673\n",
      "v_PCm: 5.046263621587324\n",
      "v_PYRt2m: 6.805641301184972\n"
     ]
    }
   ],
   "source": [
    "for reaction, flux in flux_solution[reaction_list].iteritems():\n",
    "    reaction = glycolysis.reactions.get_by_id(reaction)\n",
    "    reaction.steady_state_flux = flux * 1278.605\n",
    "    #/ 1000 # mmol/gdW*hr --> mmol/L * hr ---> mol/L*hr\n",
    "    print(\"{0}: {1}\".format(reaction.flux_symbol_str,\n",
    "                            reaction.steady_state_flux))"
   ]
  },
  {
   "cell_type": "markdown",
   "metadata": {},
   "source": [
    "## Set Keqs"
   ]
  },
  {
   "cell_type": "code",
   "execution_count": 18,
   "metadata": {},
   "outputs": [
    {
     "data": {
      "text/html": [
       "<div>\n",
       "<style scoped>\n",
       "    .dataframe tbody tr th:only-of-type {\n",
       "        vertical-align: middle;\n",
       "    }\n",
       "\n",
       "    .dataframe tbody tr th {\n",
       "        vertical-align: top;\n",
       "    }\n",
       "\n",
       "    .dataframe thead th {\n",
       "        text-align: right;\n",
       "    }\n",
       "</style>\n",
       "<table border=\"1\" class=\"dataframe\">\n",
       "  <thead>\n",
       "    <tr style=\"text-align: right;\">\n",
       "      <th></th>\n",
       "      <th>Equlibrium Constant</th>\n",
       "    </tr>\n",
       "    <tr>\n",
       "      <th>Reaction</th>\n",
       "      <th></th>\n",
       "    </tr>\n",
       "  </thead>\n",
       "  <tbody>\n",
       "    <tr>\n",
       "      <th>CSm</th>\n",
       "      <td>5.225834e-07</td>\n",
       "    </tr>\n",
       "    <tr>\n",
       "      <th>ACONTm</th>\n",
       "      <td>7.157880e-02</td>\n",
       "    </tr>\n",
       "    <tr>\n",
       "      <th>ICDHxm</th>\n",
       "      <td>1.331211e-01</td>\n",
       "    </tr>\n",
       "    <tr>\n",
       "      <th>AKGDm</th>\n",
       "      <td>4.624549e+04</td>\n",
       "    </tr>\n",
       "    <tr>\n",
       "      <th>SUCOASm</th>\n",
       "      <td>1.592564e+00</td>\n",
       "    </tr>\n",
       "    <tr>\n",
       "      <th>...</th>\n",
       "      <td>...</td>\n",
       "    </tr>\n",
       "    <tr>\n",
       "      <th>EX_nh4_c</th>\n",
       "      <td>NaN</td>\n",
       "    </tr>\n",
       "    <tr>\n",
       "      <th>EX_so3_c</th>\n",
       "      <td>NaN</td>\n",
       "    </tr>\n",
       "    <tr>\n",
       "      <th>EX_etoh_c</th>\n",
       "      <td>NaN</td>\n",
       "    </tr>\n",
       "    <tr>\n",
       "      <th>EX_glyc_3octa_c</th>\n",
       "      <td>NaN</td>\n",
       "    </tr>\n",
       "    <tr>\n",
       "      <th>EX_fru_c</th>\n",
       "      <td>NaN</td>\n",
       "    </tr>\n",
       "  </tbody>\n",
       "</table>\n",
       "<p>187 rows × 1 columns</p>\n",
       "</div>"
      ],
      "text/plain": [
       "                 Equlibrium Constant\n",
       "Reaction                            \n",
       "CSm                     5.225834e-07\n",
       "ACONTm                  7.157880e-02\n",
       "ICDHxm                  1.331211e-01\n",
       "AKGDm                   4.624549e+04\n",
       "SUCOASm                 1.592564e+00\n",
       "...                              ...\n",
       "EX_nh4_c                         NaN\n",
       "EX_so3_c                         NaN\n",
       "EX_etoh_c                        NaN\n",
       "EX_glyc_3octa_c                  NaN\n",
       "EX_fru_c                         NaN\n",
       "\n",
       "[187 rows x 1 columns]"
      ]
     },
     "execution_count": 18,
     "metadata": {},
     "output_type": "execute_result"
    }
   ],
   "source": [
    "# Load equilibrium constants\n",
    "Keq_df = pd.read_excel(engine='openpyxl',\n",
    "    io='1.5-ma-data-collection.xlsx',\n",
    "    sheet_name=\"Keqs\",\n",
    "    index_col=0).drop(\"Reference\", axis=1).drop(\"Stoichiometry\", axis=1)\n",
    "\n",
    "Keq_df"
   ]
  },
  {
   "cell_type": "code",
   "execution_count": 19,
   "metadata": {},
   "outputs": [
    {
     "name": "stdout",
     "output_type": "stream",
     "text": [
      "Keq_HEX1: 2246.155176\n",
      "Keq_PGI: 0.3509797361\n",
      "Keq_PFK: 514.5959163\n",
      "Keq_FBA: 0.0002049897414\n",
      "Keq_TPI: 8.772406043\n",
      "Keq_GAPD: 0.6279182855\n",
      "Keq_PGK: 0.0005001317907\n",
      "Keq_PGM: 5.726157133\n",
      "Keq_ENO: 4.364891179\n",
      "Keq_PYK: 23920.23878\n",
      "Keq_LDH_L: 6.404569654e-05\n",
      "Keq_PCm: 13.4\n",
      "Keq_PEPCKm: 0.005536708019\n",
      "Keq_FBP: 154.6616914\n",
      "Keq_PEPtm: 1.0\n",
      "Keq_PYRt2m: 1.0\n"
     ]
    }
   ],
   "source": [
    "# Set equilibrium constants\n",
    "Keq_list =[]\n",
    "for rid, Keq in Keq_df.itertuples():\n",
    "    if rid in reaction_list: \n",
    "        reaction = glycolysis.reactions.get_by_id(rid)\n",
    "        reaction.Keq = Keq\n",
    "        Keq_list.append(reaction.Keq)\n",
    "        print(\"{0}: {1}\".format(reaction.Keq_str, Keq))\n",
    "        "
   ]
  },
  {
   "cell_type": "code",
   "execution_count": 20,
   "metadata": {},
   "outputs": [
    {
     "data": {
      "text/plain": [
       "True"
      ]
     },
     "execution_count": 20,
     "metadata": {},
     "output_type": "execute_result"
    }
   ],
   "source": [
    "len(reaction_list) == len(Keq_list)"
   ]
  },
  {
   "cell_type": "markdown",
   "metadata": {},
   "source": [
    "## Correct Metabolite Identifiers"
   ]
  },
  {
   "cell_type": "markdown",
   "metadata": {},
   "source": [
    "## Set H2O/H Constants\n"
   ]
  },
  {
   "cell_type": "code",
   "execution_count": 21,
   "metadata": {},
   "outputs": [],
   "source": [
    "# Set concentrations of hydrogen, water as fixed\n",
    "# Assume hydrogen in all compartments are fixed \n",
    "for metabolite in [\"h2o_c\", \"h_c\",'h_i', 'h_m']:\n",
    "    metabolite = glycolysis.metabolites.get_by_id(metabolite)\n",
    "    metabolite.fixed = True\n"
   ]
  },
  {
   "cell_type": "markdown",
   "metadata": {},
   "source": [
    "## Obtain Concentrations"
   ]
  },
  {
   "cell_type": "code",
   "execution_count": 22,
   "metadata": {},
   "outputs": [],
   "source": [
    "#Load Concentration Data\n",
    "conc_df = load_data(\n",
    "    filepath='1.5-ma-data-collection.xlsx',\n",
    "    sheet_name=\"Concentrations\")\n",
    "#conc_df = conc_df.drop(\"Name\", axis=1)\n",
    "conc_df = conc_df.drop(\"Additional Notes\", axis=1)\n",
    "\n",
    "# Fix identifiers in the dataframe\n",
    "#conc_df.index = [prefix_number_id(mid) for mid in conc_df.index]"
   ]
  },
  {
   "cell_type": "code",
   "execution_count": 23,
   "metadata": {},
   "outputs": [],
   "source": [
    "# conc_df.index"
   ]
  },
  {
   "cell_type": "code",
   "execution_count": 24,
   "metadata": {},
   "outputs": [],
   "source": [
    "#Set Concentrations\n",
    "\n",
    "metabolite_list = ['glc__D_c',\n",
    "           'g6p_c',\n",
    "           'f6p_c',\n",
    "           'fdp_c',\n",
    "           'dhap_c',\n",
    "           'g3p_c',\n",
    "           '13dpg_c',\n",
    "           '3pg_c',\n",
    "            '2pg_c',\n",
    "            'pep_c',\n",
    "            'pyr_c',\n",
    "            'lac__L_c',\n",
    "           'nad_c',\n",
    "            'nadh_c',\n",
    "           'amp_c',\n",
    "           'adp_c',\n",
    "            'atp_c',\n",
    "            'pi_c',\n",
    "            'h_c',          \n",
    "            'h2o_c',\n",
    "            'pep_m',\n",
    "            'pi_m',\n",
    "            'co2_m',\n",
    "            'gdp_m',\n",
    "            'gtp_m',\n",
    "            'oaa_m',\n",
    "            'adp_m',\n",
    "            'atp_m',\n",
    "            'h_m',\n",
    "            'hco3_m',\n",
    "            'pyr_m',\n",
    "            'h_i']\n",
    "\n",
    "m=[\"amp_c\"]\n",
    "for item in m:\n",
    "    met = core_model.metabolites.get_by_id(item)\n",
    "    glycolysis.add_metabolites([MassMetabolite(met)])"
   ]
  },
  {
   "cell_type": "code",
   "execution_count": 25,
   "metadata": {},
   "outputs": [
    {
     "name": "stdout",
     "output_type": "stream",
     "text": [
      "adp_c: 1.99495195\n",
      "atp_c: 4.72714598\n",
      "g6p_c: 0.14\n",
      "glc__D_c: 10.48280703\n",
      "h_c: 1000\n",
      "f6p_c: 0.12713765\n",
      "fdp_c: 0.051470825\n",
      "h2o_c: 1000\n",
      "pi_c: 6.4\n",
      "dhap_c: 0.17689737\n",
      "g3p_c: 0.00878387\n",
      "13dpg_c: nan\n",
      "nad_c: 1.82530972\n",
      "nadh_c: 0.00463542\n",
      "3pg_c: 0.520630485\n",
      "2pg_c: 0.110560855\n",
      "pep_c: 0.31\n",
      "pep_m: 2.05\n",
      "pi_m: 0.45\n",
      "co2_m: nan\n",
      "gdp_m: nan\n",
      "gtp_m: nan\n",
      "oaa_m: 0.03119\n",
      "lac__L_c: 3.26183772\n",
      "pyr_c: 0.48\n",
      "adp_m: 8.0389058\n",
      "atp_m: 9.19\n",
      "h_m: nan\n",
      "hco3_m: nan\n",
      "pyr_m: 1.34\n",
      "h_i: nan\n",
      "amp_c: 0.365\n"
     ]
    }
   ],
   "source": [
    "met_list = []\n",
    "for mid, name, conc in conc_df.itertuples():\n",
    "    if mid in metabolite_list: \n",
    "        metabolite = glycolysis.metabolites.get_by_id(mid)\n",
    "        metabolite.name = name\n",
    "        \n",
    "        metabolite.ic = conc\n",
    "        #/ 1000 #mM --> M\n",
    "        met_list.append(metabolite.ic)\n",
    "    \n",
    "    \n",
    "    \n",
    "# For \"pi_c\", \"g3p_c\", \"lac__D_c\" use steady state literature concentrations\n",
    "# Set h_c and h2o_c to 1 \n",
    "for metabolite in ['h_i', 'h_m',\"h_c\", \"h2o_c\"]:\n",
    "    metabolite = glycolysis.metabolites.get_by_id(metabolite)\n",
    "    if metabolite.id in [\"h_c\", \"h2o_c\"]:\n",
    "        metabolite.ic = 1000\n",
    "    \n",
    "for metabolite in glycolysis.metabolites:\n",
    "    print(\"{0}: {1}\".format(metabolite.id, metabolite.ic))\n",
    "    \n"
   ]
  },
  {
   "cell_type": "code",
   "execution_count": 26,
   "metadata": {},
   "outputs": [],
   "source": [
    "#convert nan values to None Type\n",
    "#excluded_metabolites_list = []\n",
    "#for metabolite in glycolysis.metabolites: \n",
    "#    if type(metabolite.ic) == None: \n",
    "#        excluded_metabolites_list.append()\n",
    "#excluded_metabolites_list    \n",
    "\n",
    "#type(glycolysis.metabolites.pyr_m.ic)\n"
   ]
  },
  {
   "cell_type": "code",
   "execution_count": 27,
   "metadata": {},
   "outputs": [
    {
     "data": {
      "text/plain": [
       "['Keq_HEX1',\n",
       " 'Keq_PGI',\n",
       " 'Keq_FBP',\n",
       " 'Keq_PFK',\n",
       " 'Keq_FBA',\n",
       " 'Keq_TPI',\n",
       " 'Keq_GAPD',\n",
       " 'Keq_PGK',\n",
       " 'Keq_PGM',\n",
       " 'Keq_ENO',\n",
       " 'Keq_PEPtm',\n",
       " 'Keq_PEPCKm',\n",
       " 'Keq_LDH_L',\n",
       " 'Keq_PYK',\n",
       " 'Keq_PCm',\n",
       " 'Keq_PYRt2m']"
      ]
     },
     "execution_count": 27,
     "metadata": {},
     "output_type": "execute_result"
    }
   ],
   "source": [
    "# glycolysis.metabolites.h_i.ic\n",
    "glycolysis.reactions.list_attr(\"Keq_str\")"
   ]
  },
  {
   "cell_type": "code",
   "execution_count": 28,
   "metadata": {},
   "outputs": [
    {
     "data": {
      "text/plain": [
       "True"
      ]
     },
     "execution_count": 28,
     "metadata": {},
     "output_type": "execute_result"
    }
   ],
   "source": [
    "len(metabolite_list) == len(glycolysis.metabolites) == len(met_list)"
   ]
  },
  {
   "cell_type": "code",
   "execution_count": 29,
   "metadata": {},
   "outputs": [
    {
     "name": "stderr",
     "output_type": "stream",
     "text": [
      "mass\\util\\util.py:159 UserWarning: Unrecognized kwargs: ['Keq_percent_deviation']\n"
     ]
    },
    {
     "data": {
      "text/html": [
       "<strong><em>Optimal</em> solution with objective value 0.000</strong><br><div>\n",
       "<style scoped>\n",
       "    .dataframe tbody tr th:only-of-type {\n",
       "        vertical-align: middle;\n",
       "    }\n",
       "\n",
       "    .dataframe tbody tr th {\n",
       "        vertical-align: top;\n",
       "    }\n",
       "\n",
       "    .dataframe thead th {\n",
       "        text-align: right;\n",
       "    }\n",
       "</style>\n",
       "<table border=\"1\" class=\"dataframe\">\n",
       "  <thead>\n",
       "    <tr style=\"text-align: right;\">\n",
       "      <th></th>\n",
       "      <th>variables</th>\n",
       "      <th>reduced_costs</th>\n",
       "    </tr>\n",
       "  </thead>\n",
       "  <tbody>\n",
       "    <tr>\n",
       "      <th>adp_c</th>\n",
       "      <td>1.994952</td>\n",
       "      <td>0.0</td>\n",
       "    </tr>\n",
       "    <tr>\n",
       "      <th>atp_c</th>\n",
       "      <td>4.727146</td>\n",
       "      <td>0.0</td>\n",
       "    </tr>\n",
       "    <tr>\n",
       "      <th>g6p_c</th>\n",
       "      <td>0.268234</td>\n",
       "      <td>0.0</td>\n",
       "    </tr>\n",
       "    <tr>\n",
       "      <th>glc__D_c</th>\n",
       "      <td>10.482807</td>\n",
       "      <td>0.0</td>\n",
       "    </tr>\n",
       "    <tr>\n",
       "      <th>f6p_c</th>\n",
       "      <td>0.066357</td>\n",
       "      <td>0.0</td>\n",
       "    </tr>\n",
       "    <tr>\n",
       "      <th>...</th>\n",
       "      <td>...</td>\n",
       "      <td>...</td>\n",
       "    </tr>\n",
       "    <tr>\n",
       "      <th>Keq_PEPCKm</th>\n",
       "      <td>0.184082</td>\n",
       "      <td>0.0</td>\n",
       "    </tr>\n",
       "    <tr>\n",
       "      <th>Keq_LDH_L</th>\n",
       "      <td>0.000064</td>\n",
       "      <td>0.0</td>\n",
       "    </tr>\n",
       "    <tr>\n",
       "      <th>Keq_PYK</th>\n",
       "      <td>23920.238780</td>\n",
       "      <td>0.0</td>\n",
       "    </tr>\n",
       "    <tr>\n",
       "      <th>Keq_PCm</th>\n",
       "      <td>13.400000</td>\n",
       "      <td>0.0</td>\n",
       "    </tr>\n",
       "    <tr>\n",
       "      <th>Keq_PYRt2m</th>\n",
       "      <td>1.965106</td>\n",
       "      <td>0.0</td>\n",
       "    </tr>\n",
       "  </tbody>\n",
       "</table>\n",
       "<p>39 rows × 2 columns</p>\n",
       "</div>"
      ],
      "text/plain": [
       "<Solution 0.000 at 0x26304f0ddc0>"
      ]
     },
     "execution_count": 29,
     "metadata": {},
     "output_type": "execute_result"
    }
   ],
   "source": [
    "#Formulate QP minimization list for concentrations\n",
    "conc_solver = ConcSolver(\n",
    "    glycolysis,\n",
    "    excluded_metabolites=['h_i', 'h_m',\"h_c\", \"h2o_c\",'13dpg_c','co2_m', 'gdp_m', 'gtp_m', 'hco3_m'],\n",
    "    constraint_buffer=1)\n",
    "\n",
    "conc_solver.setup_feasible_qp_problem(\n",
    "    fixed_conc_bounds=list(glycolysis.fixed))\n",
    "#     fixed_Keq_bounds=glycolysis.reactions.list_attr(\"Keq_str\")\n",
    "    \n",
    "#assumption: provide uncertainity to allow for a variance for the Keqs rather than staying fixed\n",
    "conc_solver.setup_feasible_qp_problem(Keq_percent_deviation=0.1)\n",
    "\n",
    "conc_solution = conc_solver.optimize()\n",
    "conc_solution\n",
    "\n"
   ]
  },
  {
   "cell_type": "code",
   "execution_count": 30,
   "metadata": {},
   "outputs": [
    {
     "name": "stderr",
     "output_type": "stream",
     "text": [
      "mass\\visualization\\visualization_util.py:1269 UserWarning: Ignoring {'thf_c', '13dpg_c', 'acald_m', 'nadp_c', 'h_c', 'orn_c', 'fru_c', 'Tyr_ggn_c', 'gdp_m', 'mal__L_m', 'acACP_c', '3ooctACP_c', 'hco3_m', 'toct2eACP_c', '3hhcoa_m', 'hmgcoa_m', 'ac_c', 'succ_m', 'hx2coa_m', 'fum_m', '3hocoa_m', 'h_i', 'argsuc_c', 'gtp_c', 'thf_m', 'mal__L_c', 'glyc_3octa_c', 'akg_c', '3haACP_c', '3ohcoa_m', 'oc2coa_m', 'hxcoa_m', 'occoa_prod_c', 'glu__L_c', 'acald_c', 'but2eACP_c', 'h2o_r', '3ohexACP_c', 'malACP_c', 'acetone_m', 'fad_m', 'asn__L_c', 'h2o_m', 'glyald_c', 'ficytC_m', 'arg__L_c', 'aacoa_m', 'gly_c', 'glyc_2octa_c', 'oaa_c', 'coa_m', 'cbp_m', 'crn_c', 'fadh2_m', 'g1p_c', 'gln__L_c', '6pgc_c', '3oocoa_m', 'ala__L_c', 'ser__L_c', 'h_m', 'co2_m', 'ac_m', '3hhexACP_c', 'nadp_m', 'o2_m', 'b2coa_m', 'malcoa_c', 'hco3_c', 'cit_c', 'accoa_c', 'utp_c', 'btcoa_m', 'nh4_m', 'akg_m', 'glc__D_r', 'occoa_c', 'crn_m', 'bhb_c', '2amac_c', 'ocACP_c', 'citr__L_c', 'actACP_c', 'dxtrn_c', 'acac_m', 'q10h2_m', 'nadph_c', 'icit_m', 'glyc3p_2octa_c', 'v', 'nad_m', 'mlthf_m', 'ACP_c', 'c8crn_m', 'nadh_m', 'coa_c', 'acetone_c', 'asp__L_c', 'c8crn_c', 'pser__L_c', 'succoa_m', 'orn_m', 'bhb_m', 'glygn2_c', 'h2o_c', 'hexACP_c', 'o2_c', 'amp_m', 'e4p_c', 'r5p_c', 'urea_c', '3php_c', 'cys__L_c', 'co2_c', 'octa_cons_c', 'udpg_c', '3hoctACP_c', 'butACP_c', 'xu5p__D_c', '3sala_c', '3hbcoa_m', 'sucr_c', 'glygn3_c', 'glyc3p_1octa_c', 'asp__L_m', 'g6p_r', 'fum_c', 'nh4_c', 'octa_prod_c', 'gtp_m', 'glyc3p_c', 'focytC_m', 'ppi_c', 'f1p_c', 'udp_c', 'ggn_c', '3snpyr_c', 'occoa_m', 'gdp_c', 'gly_m', 'glu__L_m', 'accoa_m', '6pgl_c', 'mlthf_c', 'thex2eACP_c', 'pi_r', 'ppi_m', 'etoh_c', 'so3_c', 'citr__L_m', 'glygn1_c', 'ru5p__D_c', 's7p_c', 'nadph_m', 'cit_m', 'q10_m'}, only in one set of given values\n",
      "mass\\visualization\\visualization_util.py:806 UserWarning: Attempted to set non-positive left xlim on a log-scaled axis.\n",
      "Invalid limit will be ignored.\n",
      "mass\\visualization\\visualization_util.py:806 UserWarning: Attempted to set non-positive bottom ylim on a log-scaled axis.\n",
      "Invalid limit will be ignored.\n"
     ]
    },
    {
     "data": {
      "image/png": "[encoded data removed]",
      "text/plain": [
       "<Figure size 360x360 with 1 Axes>"
      ]
     },
     "metadata": {
      "needs_background": "light"
     },
     "output_type": "display_data"
    }
   ],
   "source": [
    "#Compare Results\n",
    "conc_comparison_fig, ax = plt.subplots(nrows=1, ncols=1,\n",
    "                                       figsize=(5, 5))\n",
    "\n",
    "plot_comparison(\n",
    "    x=conc_df[\"Concentration (mM)\"], y=conc_solution,\n",
    "    compare=\"concentrations\",\n",
    "    observable=[mid for mid in conc_df.index], ax=ax,\n",
    "    legend=\"right outside\", plot_function=\"loglog\",\n",
    "    xlim=(0, 20), ylim=(0, 20), xy_line=True,\n",
    "    xy_legend=\"best\", xlabel=\"Initial [mol/L]\", ylabel=\"Adjusted [mol/L]\")\n",
    "\n",
    "conc_comparison_fig.tight_layout()\n",
    "update_model_with_concentration_solution(\n",
    "    glycolysis, conc_solution, concentrations=True, inplace=True);"
   ]
  },
  {
   "cell_type": "markdown",
   "metadata": {},
   "source": [
    "## Sample Concentrations\n"
   ]
  },
  {
   "cell_type": "code",
   "execution_count": 31,
   "metadata": {},
   "outputs": [
    {
     "data": {
      "text/html": [
       "<div>\n",
       "<style scoped>\n",
       "    .dataframe tbody tr th:only-of-type {\n",
       "        vertical-align: middle;\n",
       "    }\n",
       "\n",
       "    .dataframe tbody tr th {\n",
       "        vertical-align: top;\n",
       "    }\n",
       "\n",
       "    .dataframe thead th {\n",
       "        text-align: right;\n",
       "    }\n",
       "</style>\n",
       "<table border=\"1\" class=\"dataframe\">\n",
       "  <thead>\n",
       "    <tr style=\"text-align: right;\">\n",
       "      <th></th>\n",
       "      <th>adp_c</th>\n",
       "      <th>atp_c</th>\n",
       "      <th>g6p_c</th>\n",
       "      <th>glc__D_c</th>\n",
       "      <th>f6p_c</th>\n",
       "      <th>fdp_c</th>\n",
       "      <th>pi_c</th>\n",
       "      <th>dhap_c</th>\n",
       "      <th>g3p_c</th>\n",
       "      <th>nad_c</th>\n",
       "      <th>...</th>\n",
       "      <th>pep_c</th>\n",
       "      <th>pep_m</th>\n",
       "      <th>pi_m</th>\n",
       "      <th>oaa_m</th>\n",
       "      <th>lac__L_c</th>\n",
       "      <th>pyr_c</th>\n",
       "      <th>adp_m</th>\n",
       "      <th>atp_m</th>\n",
       "      <th>pyr_m</th>\n",
       "      <th>amp_c</th>\n",
       "    </tr>\n",
       "  </thead>\n",
       "  <tbody>\n",
       "    <tr>\n",
       "      <th>0</th>\n",
       "      <td>4.461286</td>\n",
       "      <td>29.103508</td>\n",
       "      <td>0.963458</td>\n",
       "      <td>38.676244</td>\n",
       "      <td>0.122818</td>\n",
       "      <td>0.115727</td>\n",
       "      <td>6.286298</td>\n",
       "      <td>0.023618</td>\n",
       "      <td>0.00053</td>\n",
       "      <td>6.876521</td>\n",
       "      <td>...</td>\n",
       "      <td>0.070769</td>\n",
       "      <td>0.065896</td>\n",
       "      <td>1.023699</td>\n",
       "      <td>0.973067</td>\n",
       "      <td>1.607367</td>\n",
       "      <td>0.714967</td>\n",
       "      <td>2.941692</td>\n",
       "      <td>47.589148</td>\n",
       "      <td>0.075842</td>\n",
       "      <td>0.040006</td>\n",
       "    </tr>\n",
       "  </tbody>\n",
       "</table>\n",
       "<p>1 rows × 23 columns</p>\n",
       "</div>"
      ],
      "text/plain": [
       "      adp_c      atp_c     g6p_c   glc__D_c     f6p_c     fdp_c      pi_c  \\\n",
       "0  4.461286  29.103508  0.963458  38.676244  0.122818  0.115727  6.286298   \n",
       "\n",
       "     dhap_c    g3p_c     nad_c  ...     pep_c     pep_m      pi_m     oaa_m  \\\n",
       "0  0.023618  0.00053  6.876521  ...  0.070769  0.065896  1.023699  0.973067   \n",
       "\n",
       "   lac__L_c     pyr_c     adp_m      atp_m     pyr_m     amp_c  \n",
       "0  1.607367  0.714967  2.941692  47.589148  0.075842  0.040006  \n",
       "\n",
       "[1 rows x 23 columns]"
      ]
     },
     "execution_count": 31,
     "metadata": {},
     "output_type": "execute_result"
    }
   ],
   "source": [
    "conc_solver.setup_sampling_problem(\n",
    "    fixed_conc_bounds=list(glycolysis.fixed),\n",
    "    fixed_Keq_bounds=glycolysis.reactions.list_attr(\"Keq_str\"))\n",
    "for variable in conc_solver.variables:\n",
    "    try:\n",
    "        met = glycolysis.metabolites.get_by_id(variable.name)\n",
    "        variable.lb, variable.ub = np.log([met.ic / 10, met.ic * 10])\n",
    "    except:\n",
    "        pass\n",
    "conc_samples = sample_concentrations(conc_solver, n=n_models, seed=seed)\n",
    "conc_samples.head()"
   ]
  },
  {
   "cell_type": "code",
   "execution_count": null,
   "metadata": {},
   "outputs": [],
   "source": []
  },
  {
   "cell_type": "markdown",
   "metadata": {},
   "source": [
    "## Set concentrations and balance models with pseudoreactions\n"
   ]
  },
  {
   "cell_type": "code",
   "execution_count": null,
   "metadata": {},
   "outputs": [],
   "source": [
    "models_for_ensemble = []\n",
    "for idx, conc_sample in conc_samples.iterrows():\n",
    "    # Make copy of new model\n",
    "    new_model = glycolysis.copy()\n",
    "    new_model.id += \"_C{0:d}\".format(idx)\n",
    "    # Get concentration sample and update model with sample\n",
    "    new_model.update_initial_conditions(conc_sample.to_dict())\n",
    "\n",
    "    # Determine imbalances in the reduced network\n",
    "    fluxes = np.array(list(new_model.steady_state_fluxes.values()))\n",
    "    imbalanced_metabolites = new_model.S.dot(fluxes)\n",
    "\n",
    "    # Iterate through metabolites\n",
    "    for mid, imbalance in imbalanced_metabolites.iteritems():\n",
    "        # Ignore balanced metabolites\n",
    "        if imbalance == 0:\n",
    "            continue\n",
    "        # Get metabolite object\n",
    "        met = new_model.metabolites.get_by_id(mid)\n",
    "\n",
    "        # Add boundary reactions for imbalanced metabolites\n",
    "        boundary_type = \"sink\"    \n",
    "        # Add boundary reaction with imbalance as flux value\n",
    "        boundary_reaction = new_model.add_boundary(\n",
    "            mid, boundary_type, boundary_condition=met.ic)\n",
    "        \n",
    "        boundary_reaction.Keq = 1\n",
    "        if imbalance < 0:\n",
    "            boundary_reaction.reverse_stoichiometry(inplace=True)\n",
    "            imbalance = -imbalance\n",
    "\n",
    "        boundary_reaction.kf = imbalance / met.ic\n",
    "        boundary_reaction.steady_state_flux = imbalance\n",
    "        try:\n",
    "            # Update PERCs\n",
    "            new_model.calculate_PERCs(\n",
    "                fluxes={\n",
    "                    r: v for r, v in new_model.steady_state_fluxes.items()\n",
    "                    if not r.boundary},\n",
    "                update_reactions=True)\n",
    "        except:\n",
    "            print(\"Negative PERCs for {0}\".format(new_model.id))\n",
    "            continue\n",
    "    models_for_ensemble.append(new_model)\n",
    "print(\"Number of models in ensemble: {0:d}\".format(\n",
    "    len(models_for_ensemble)))"
   ]
  },
  {
   "cell_type": "code",
   "execution_count": 51,
   "metadata": {},
   "outputs": [],
   "source": [
    "# Determine imbalances in the reduced network\n",
    "fluxes = np.array(list(glycolysis.steady_state_fluxes.values()))\n",
    "imbalanced_metabolites = glycolysis.S.dot(fluxes)\n",
    "\n",
    "# Iterate through metabolites\n",
    "for mid, imbalance in imbalanced_metabolites.iteritems():\n",
    "    # Ignore balanced metabolites\n",
    "    if imbalance == 0:\n",
    "        continue\n",
    "    # Get metabolite object\n",
    "    met = glycolysis.metabolites.get_by_id(mid)\n",
    "\n",
    "    # Add boundary reactions for imbalanced metabolites\n",
    "    boundary_type = \"sink\"    \n",
    "    # Add boundary reaction with imbalance as flux value\n",
    "    boundary_reaction = glycolysis.add_boundary(\n",
    "        mid, boundary_type, boundary_condition=met.ic)\n",
    "\n",
    "    boundary_reaction.Keq = 1\n",
    "    if imbalance < 0:\n",
    "        boundary_reaction.reverse_stoichiometry(inplace=True)\n",
    "        imbalance = -imbalance\n",
    "\n",
    "    boundary_reaction.kf = imbalance / met.ic\n",
    "    boundary_reaction.steady_state_flux = imbalance\n",
    "    try:\n",
    "        # Update PERCs\n",
    "        glycolysis.calculate_PERCs(\n",
    "            fluxes={\n",
    "                r: v for r, v in glycolysis.steady_state_fluxes.items()\n",
    "                if not r.boundary},\n",
    "            update_reactions=True)\n",
    "    except:\n",
    "        print(\"Negative PERCs for {0}\".format(new_model.id))\n",
    "        continue"
   ]
  },
  {
   "cell_type": "markdown",
   "metadata": {},
   "source": [
    "## QC/QA"
   ]
  },
  {
   "cell_type": "code",
   "execution_count": 52,
   "metadata": {},
   "outputs": [
    {
     "name": "stdout",
     "output_type": "stream",
     "text": [
      "╒══════════════════════════════════════════╕\n",
      "│ MODEL ID: Glycolysis                     │\n",
      "│ SIMULATABLE: True                        │\n",
      "│ PARAMETERS NUMERICALY CONSISTENT: True   │\n",
      "╞══════════════════════════════════════════╡\n",
      "╘══════════════════════════════════════════╛\n"
     ]
    }
   ],
   "source": [
    "qcqa_model(glycolysis, parameters=True, concentrations=True,\n",
    "           fluxes=True, superfluous=True, elemental=True)\n"
   ]
  },
  {
   "cell_type": "code",
   "execution_count": 53,
   "metadata": {},
   "outputs": [],
   "source": [
    "## balancing charges on reactions manually\n",
    "\n",
    "glycolysis.metabolites.h_c.charge=1\n",
    "glycolysis.metabolites.h_m.charge=1\n",
    "glycolysis.metabolites.h_i.charge=1\n",
    "glycolysis.metabolites.pi_c.charge=-2\n",
    "glycolysis.metabolites.pi_m.charge=-2\n"
   ]
  },
  {
   "cell_type": "code",
   "execution_count": 54,
   "metadata": {},
   "outputs": [
    {
     "ename": "ValueError",
     "evalue": "Must be a non-negative number",
     "output_type": "error",
     "traceback": [
      "\u001b[1;31m---------------------------------------------------------------------------\u001b[0m",
      "\u001b[1;31mValueError\u001b[0m                                Traceback (most recent call last)",
      "\u001b[1;32m<ipython-input-54-4c8d82619948>\u001b[0m in \u001b[0;36m<module>\u001b[1;34m\u001b[0m\n\u001b[1;32m----> 1\u001b[1;33m \u001b[0mglycolysis\u001b[0m\u001b[1;33m.\u001b[0m\u001b[0mcalculate_PERCs\u001b[0m\u001b[1;33m(\u001b[0m\u001b[0mupdate_reactions\u001b[0m\u001b[1;33m=\u001b[0m\u001b[1;32mTrue\u001b[0m\u001b[1;33m)\u001b[0m\u001b[1;33m\u001b[0m\u001b[1;33m\u001b[0m\u001b[0m\n\u001b[0m\u001b[0;32m      2\u001b[0m \u001b[1;33m\u001b[0m\u001b[0m\n\u001b[0;32m      3\u001b[0m \u001b[0mprint\u001b[0m\u001b[1;33m(\u001b[0m\u001b[1;34m\"Forward Rate Constants\\n----------------------\"\u001b[0m\u001b[1;33m)\u001b[0m\u001b[1;33m\u001b[0m\u001b[1;33m\u001b[0m\u001b[0m\n\u001b[0;32m      4\u001b[0m \u001b[1;32mfor\u001b[0m \u001b[0mreaction\u001b[0m \u001b[1;32min\u001b[0m \u001b[0mglycolysis\u001b[0m\u001b[1;33m.\u001b[0m\u001b[0mreactions\u001b[0m\u001b[1;33m:\u001b[0m\u001b[1;33m\u001b[0m\u001b[1;33m\u001b[0m\u001b[0m\n\u001b[0;32m      5\u001b[0m     \u001b[0mprint\u001b[0m\u001b[1;33m(\u001b[0m\u001b[1;34m\"{0}: {1:.6f}\"\u001b[0m\u001b[1;33m.\u001b[0m\u001b[0mformat\u001b[0m\u001b[1;33m(\u001b[0m\u001b[0mreaction\u001b[0m\u001b[1;33m.\u001b[0m\u001b[0mkf_str\u001b[0m\u001b[1;33m,\u001b[0m \u001b[0mreaction\u001b[0m\u001b[1;33m.\u001b[0m\u001b[0mkf\u001b[0m\u001b[1;33m)\u001b[0m\u001b[1;33m)\u001b[0m\u001b[1;33m\u001b[0m\u001b[1;33m\u001b[0m\u001b[0m\n",
      "\u001b[1;32m~\\anaconda3\\lib\\site-packages\\mass\\core\\mass_model.py\u001b[0m in \u001b[0;36mcalculate_PERCs\u001b[1;34m(self, at_equilibrium_default, update_reactions, verbose, **kwargs)\u001b[0m\n\u001b[0;32m   1654\u001b[0m             \u001b[0mpercs_dict\u001b[0m\u001b[1;33m.\u001b[0m\u001b[0mupdate\u001b[0m\u001b[1;33m(\u001b[0m\u001b[1;33m{\u001b[0m\u001b[0mreaction\u001b[0m\u001b[1;33m.\u001b[0m\u001b[0mkf_str\u001b[0m\u001b[1;33m:\u001b[0m \u001b[0msol\u001b[0m\u001b[1;33m}\u001b[0m\u001b[1;33m)\u001b[0m\u001b[1;33m\u001b[0m\u001b[1;33m\u001b[0m\u001b[0m\n\u001b[0;32m   1655\u001b[0m             \u001b[1;32mif\u001b[0m \u001b[0mupdate_reactions\u001b[0m\u001b[1;33m:\u001b[0m\u001b[1;33m\u001b[0m\u001b[1;33m\u001b[0m\u001b[0m\n\u001b[1;32m-> 1656\u001b[1;33m                 \u001b[0mreaction\u001b[0m\u001b[1;33m.\u001b[0m\u001b[0mkf\u001b[0m \u001b[1;33m=\u001b[0m \u001b[0mpercs_dict\u001b[0m\u001b[1;33m[\u001b[0m\u001b[0mreaction\u001b[0m\u001b[1;33m.\u001b[0m\u001b[0mkf_str\u001b[0m\u001b[1;33m]\u001b[0m\u001b[1;33m\u001b[0m\u001b[1;33m\u001b[0m\u001b[0m\n\u001b[0m\u001b[0;32m   1657\u001b[0m \u001b[1;33m\u001b[0m\u001b[0m\n\u001b[0;32m   1658\u001b[0m         \u001b[1;32mreturn\u001b[0m \u001b[0mpercs_dict\u001b[0m\u001b[1;33m\u001b[0m\u001b[1;33m\u001b[0m\u001b[0m\n",
      "\u001b[1;32m~\\anaconda3\\lib\\site-packages\\mass\\core\\mass_reaction.py\u001b[0m in \u001b[0;36mkf\u001b[1;34m(self, value)\u001b[0m\n\u001b[0;32m    587\u001b[0m     \u001b[1;32mdef\u001b[0m \u001b[0mkf\u001b[0m\u001b[1;33m(\u001b[0m\u001b[0mself\u001b[0m\u001b[1;33m,\u001b[0m \u001b[0mvalue\u001b[0m\u001b[1;33m)\u001b[0m\u001b[1;33m:\u001b[0m\u001b[1;33m\u001b[0m\u001b[1;33m\u001b[0m\u001b[0m\n\u001b[0;32m    588\u001b[0m         \u001b[1;34m\"\"\"Alias for the :attr:`forward_rate_constant`.\"\"\"\u001b[0m\u001b[1;33m\u001b[0m\u001b[1;33m\u001b[0m\u001b[0m\n\u001b[1;32m--> 589\u001b[1;33m         \u001b[0mself\u001b[0m\u001b[1;33m.\u001b[0m\u001b[0mforward_rate_constant\u001b[0m \u001b[1;33m=\u001b[0m \u001b[0mvalue\u001b[0m\u001b[1;33m\u001b[0m\u001b[1;33m\u001b[0m\u001b[0m\n\u001b[0m\u001b[0;32m    590\u001b[0m \u001b[1;33m\u001b[0m\u001b[0m\n\u001b[0;32m    591\u001b[0m     \u001b[1;33m@\u001b[0m\u001b[0mproperty\u001b[0m\u001b[1;33m\u001b[0m\u001b[1;33m\u001b[0m\u001b[0m\n",
      "\u001b[1;32m~\\anaconda3\\lib\\site-packages\\cobra\\util\\context.py\u001b[0m in \u001b[0;36mwrapper\u001b[1;34m(self, new_value)\u001b[0m\n\u001b[0;32m    109\u001b[0m             \u001b[0mcontext\u001b[0m\u001b[1;33m(\u001b[0m\u001b[0mpartial\u001b[0m\u001b[1;33m(\u001b[0m\u001b[0mfunc\u001b[0m\u001b[1;33m,\u001b[0m \u001b[0mself\u001b[0m\u001b[1;33m,\u001b[0m \u001b[0mold_value\u001b[0m\u001b[1;33m)\u001b[0m\u001b[1;33m)\u001b[0m\u001b[1;33m\u001b[0m\u001b[1;33m\u001b[0m\u001b[0m\n\u001b[0;32m    110\u001b[0m \u001b[1;33m\u001b[0m\u001b[0m\n\u001b[1;32m--> 111\u001b[1;33m         \u001b[0mfunc\u001b[0m\u001b[1;33m(\u001b[0m\u001b[0mself\u001b[0m\u001b[1;33m,\u001b[0m \u001b[0mnew_value\u001b[0m\u001b[1;33m)\u001b[0m\u001b[1;33m\u001b[0m\u001b[1;33m\u001b[0m\u001b[0m\n\u001b[0m\u001b[0;32m    112\u001b[0m \u001b[1;33m\u001b[0m\u001b[0m\n\u001b[0;32m    113\u001b[0m     \u001b[1;32mreturn\u001b[0m \u001b[0mwrapper\u001b[0m\u001b[1;33m\u001b[0m\u001b[1;33m\u001b[0m\u001b[0m\n",
      "\u001b[1;32m~\\anaconda3\\lib\\site-packages\\mass\\core\\mass_reaction.py\u001b[0m in \u001b[0;36mforward_rate_constant\u001b[1;34m(self, value)\u001b[0m\n\u001b[0;32m    259\u001b[0m     \u001b[1;32mdef\u001b[0m \u001b[0mforward_rate_constant\u001b[0m\u001b[1;33m(\u001b[0m\u001b[0mself\u001b[0m\u001b[1;33m,\u001b[0m \u001b[0mvalue\u001b[0m\u001b[1;33m)\u001b[0m\u001b[1;33m:\u001b[0m\u001b[1;33m\u001b[0m\u001b[1;33m\u001b[0m\u001b[0m\n\u001b[0;32m    260\u001b[0m         \u001b[1;34m\"\"\"Set the forward rate constant (kf) of the reaction.\"\"\"\u001b[0m\u001b[1;33m\u001b[0m\u001b[1;33m\u001b[0m\u001b[0m\n\u001b[1;32m--> 261\u001b[1;33m         \u001b[0mvalue\u001b[0m \u001b[1;33m=\u001b[0m \u001b[0mensure_non_negative_value\u001b[0m\u001b[1;33m(\u001b[0m\u001b[0mvalue\u001b[0m\u001b[1;33m)\u001b[0m\u001b[1;33m\u001b[0m\u001b[1;33m\u001b[0m\u001b[0m\n\u001b[0m\u001b[0;32m    262\u001b[0m         \u001b[0msetattr\u001b[0m\u001b[1;33m(\u001b[0m\u001b[0mself\u001b[0m\u001b[1;33m,\u001b[0m \u001b[1;34m\"_forward_rate_constant\"\u001b[0m\u001b[1;33m,\u001b[0m \u001b[0mvalue\u001b[0m\u001b[1;33m)\u001b[0m\u001b[1;33m\u001b[0m\u001b[1;33m\u001b[0m\u001b[0m\n\u001b[0;32m    263\u001b[0m \u001b[1;33m\u001b[0m\u001b[0m\n",
      "\u001b[1;32m~\\anaconda3\\lib\\site-packages\\mass\\util\\util.py\u001b[0m in \u001b[0;36mensure_non_negative_value\u001b[1;34m(value, exclude_zero)\u001b[0m\n\u001b[0;32m     77\u001b[0m \u001b[1;33m\u001b[0m\u001b[0m\n\u001b[0;32m     78\u001b[0m         \u001b[1;32mif\u001b[0m \u001b[0mcomparision\u001b[0m\u001b[1;33m(\u001b[0m\u001b[0mvalue\u001b[0m\u001b[1;33m,\u001b[0m \u001b[1;36m0.\u001b[0m\u001b[1;33m)\u001b[0m\u001b[1;33m:\u001b[0m\u001b[1;33m\u001b[0m\u001b[1;33m\u001b[0m\u001b[0m\n\u001b[1;32m---> 79\u001b[1;33m             \u001b[1;32mraise\u001b[0m \u001b[0mValueError\u001b[0m\u001b[1;33m(\u001b[0m\u001b[0mmsg\u001b[0m\u001b[1;33m)\u001b[0m\u001b[1;33m\u001b[0m\u001b[1;33m\u001b[0m\u001b[0m\n\u001b[0m\u001b[0;32m     80\u001b[0m \u001b[1;33m\u001b[0m\u001b[0m\n\u001b[0;32m     81\u001b[0m     \u001b[1;32mreturn\u001b[0m \u001b[0mvalue\u001b[0m\u001b[1;33m\u001b[0m\u001b[1;33m\u001b[0m\u001b[0m\n",
      "\u001b[1;31mValueError\u001b[0m: Must be a non-negative number"
     ]
    }
   ],
   "source": [
    "glycolysis.calculate_PERCs(update_reactions=True)\n",
    "\n",
    "print(\"Forward Rate Constants\\n----------------------\")\n",
    "for reaction in glycolysis.reactions:\n",
    "    print(\"{0}: {1:.6f}\".format(reaction.kf_str, reaction.kf))\n"
   ]
  },
  {
   "cell_type": "code",
   "execution_count": 50,
   "metadata": {},
   "outputs": [
    {
     "data": {
      "text/html": [
       "\n",
       "            <table>\n",
       "                <tr>\n",
       "                    <td><strong>Reaction identifier</strong></td>\n",
       "                    <td>PGK</td>\n",
       "                </tr><tr>\n",
       "                    <td><strong>Name</strong></td>\n",
       "                    <td>Phosphoglycerate kinase</td>\n",
       "                </tr><tr>\n",
       "                    <td><strong>Memory address</strong></td>\n",
       "                    <td>0x0263015a0610</td>\n",
       "                </tr><tr>\n",
       "                    <td><strong>Subsystem</strong></td>\n",
       "                    <td>Glycolysis/gluconeogenesis</td>\n",
       "                </tr><tr>\n",
       "                    <td><strong>Kinetic Reversibility</strong></td>\n",
       "                    <td>True</td>\n",
       "                </tr><tr>\n",
       "                    <td><strong>Stoichiometry</strong></td>\n",
       "                    <td>\n",
       "                        <p style='text-align:right'>3pg_c + atp_c <=> 13dpg_c + adp_c</p>\n",
       "                        <p style='text-align:right'>3-Phospho-D-glycerate/ 3-\n",
       "Phosphoglycerate + ATP C10H12N5O13P3 <=> 3-Phospho-D-glyceroyl phosphate/ 1,3\n",
       "Bisphosphoglycer\n",
       "ate\n",
       " + ADP C10H12N5O10P2</p>\n",
       "                    </td>\n",
       "                </tr><tr>\n",
       "                    <td><strong>GPR</strong></td><td>5230_AT1 or 375056_AT1 or 5232_AT1</td>\n",
       "                </tr><tr>\n",
       "                    <td><strong>Bounds</strong></td><td>(-1000.0, 1000.0)</td>\n",
       "                </tr>\n",
       "            </table>\n",
       "        "
      ],
      "text/plain": [
       "<MassReaction PGK at 0x263015a0610>"
      ]
     },
     "execution_count": 50,
     "metadata": {},
     "output_type": "execute_result"
    }
   ],
   "source": [
    "glycolysis.reactions.PGK"
   ]
  },
  {
   "cell_type": "markdown",
   "metadata": {},
   "source": [
    "## Simulate Glycolysis"
   ]
  },
  {
   "cell_type": "code",
   "execution_count": 55,
   "metadata": {},
   "outputs": [
    {
     "name": "stderr",
     "output_type": "stream",
     "text": [
      "\u001b[91mERROR:\u001b[0m \u001b[91mError encountered trying to  <set specie id for '13dpg_c'>.\u001b[0m\n",
      "\u001b[91mERROR:\u001b[0m \u001b[91mLibSBML error code -4: A value passed as an argument to the method is not of a type that is valid for the operation or kind of object involved. For example, this return code is used when a calling program attempts to set an SBML object identifier to a string whose syntax does not conform to the SBML identifier syntax.\u001b[0m\n",
      "\u001b[91mERROR:\u001b[0m \u001b[91mError encountered trying to  <set specie id for '3pg_c'>.\u001b[0m\n",
      "\u001b[91mERROR:\u001b[0m \u001b[91mLibSBML error code -4: A value passed as an argument to the method is not of a type that is valid for the operation or kind of object involved. For example, this return code is used when a calling program attempts to set an SBML object identifier to a string whose syntax does not conform to the SBML identifier syntax.\u001b[0m\n",
      "\u001b[91mERROR:\u001b[0m \u001b[91mError encountered trying to  <set specie id for '2pg_c'>.\u001b[0m\n",
      "\u001b[91mERROR:\u001b[0m \u001b[91mLibSBML error code -4: A value passed as an argument to the method is not of a type that is valid for the operation or kind of object involved. For example, this return code is used when a calling program attempts to set an SBML object identifier to a string whose syntax does not conform to the SBML identifier syntax.\u001b[0m\n",
      "\u001b[91mERROR:\u001b[0m \u001b[91mError encountered trying to  <set gene id  for '3098_AT4'>.\u001b[0m\n",
      "\u001b[91mERROR:\u001b[0m \u001b[91mLibSBML error code -4: A value passed as an argument to the method is not of a type that is valid for the operation or kind of object involved. For example, this return code is used when a calling program attempts to set an SBML object identifier to a string whose syntax does not conform to the SBML identifier syntax.\u001b[0m\n",
      "\u001b[91mERROR:\u001b[0m \u001b[91mError encountered trying to  <set gene id  for '2821_AT1'>.\u001b[0m\n",
      "\u001b[91mERROR:\u001b[0m \u001b[91mLibSBML error code -4: A value passed as an argument to the method is not of a type that is valid for the operation or kind of object involved. For example, this return code is used when a calling program attempts to set an SBML object identifier to a string whose syntax does not conform to the SBML identifier syntax.\u001b[0m\n",
      "\u001b[91mERROR:\u001b[0m \u001b[91mError encountered trying to  <set gene id  for '2203_AT1'>.\u001b[0m\n",
      "\u001b[91mERROR:\u001b[0m \u001b[91mLibSBML error code -4: A value passed as an argument to the method is not of a type that is valid for the operation or kind of object involved. For example, this return code is used when a calling program attempts to set an SBML object identifier to a string whose syntax does not conform to the SBML identifier syntax.\u001b[0m\n",
      "\u001b[91mERROR:\u001b[0m \u001b[91mError encountered trying to  <set gene id  for '5213_AT1'>.\u001b[0m\n",
      "\u001b[91mERROR:\u001b[0m \u001b[91mLibSBML error code -4: A value passed as an argument to the method is not of a type that is valid for the operation or kind of object involved. For example, this return code is used when a calling program attempts to set an SBML object identifier to a string whose syntax does not conform to the SBML identifier syntax.\u001b[0m\n",
      "\u001b[91mERROR:\u001b[0m \u001b[91mError encountered trying to  <set gene id  for '230_AT1'>.\u001b[0m\n",
      "\u001b[91mERROR:\u001b[0m \u001b[91mLibSBML error code -4: A value passed as an argument to the method is not of a type that is valid for the operation or kind of object involved. For example, this return code is used when a calling program attempts to set an SBML object identifier to a string whose syntax does not conform to the SBML identifier syntax.\u001b[0m\n",
      "\u001b[91mERROR:\u001b[0m \u001b[91mError encountered trying to  <set gene id  for '286016_AT1'>.\u001b[0m\n",
      "\u001b[91mERROR:\u001b[0m \u001b[91mLibSBML error code -4: A value passed as an argument to the method is not of a type that is valid for the operation or kind of object involved. For example, this return code is used when a calling program attempts to set an SBML object identifier to a string whose syntax does not conform to the SBML identifier syntax.\u001b[0m\n",
      "\u001b[91mERROR:\u001b[0m \u001b[91mError encountered trying to  <set gene id  for '26330_AT1'>.\u001b[0m\n",
      "\u001b[91mERROR:\u001b[0m \u001b[91mLibSBML error code -4: A value passed as an argument to the method is not of a type that is valid for the operation or kind of object involved. For example, this return code is used when a calling program attempts to set an SBML object identifier to a string whose syntax does not conform to the SBML identifier syntax.\u001b[0m\n",
      "\u001b[91mERROR:\u001b[0m \u001b[91mError encountered trying to  <set gene id  for '375056_AT1'>.\u001b[0m\n",
      "\u001b[91mERROR:\u001b[0m \u001b[91mLibSBML error code -4: A value passed as an argument to the method is not of a type that is valid for the operation or kind of object involved. For example, this return code is used when a calling program attempts to set an SBML object identifier to a string whose syntax does not conform to the SBML identifier syntax.\u001b[0m\n",
      "\u001b[91mERROR:\u001b[0m \u001b[91mError encountered trying to  <set gene id  for '5224_AT2'>.\u001b[0m\n",
      "\u001b[91mERROR:\u001b[0m \u001b[91mLibSBML error code -4: A value passed as an argument to the method is not of a type that is valid for the operation or kind of object involved. For example, this return code is used when a calling program attempts to set an SBML object identifier to a string whose syntax does not conform to the SBML identifier syntax.\u001b[0m\n",
      "\u001b[91mERROR:\u001b[0m \u001b[91mError encountered trying to  <set gene id  for '2027_AT2'>.\u001b[0m\n",
      "\u001b[91mERROR:\u001b[0m \u001b[91mLibSBML error code -4: A value passed as an argument to the method is not of a type that is valid for the operation or kind of object involved. For example, this return code is used when a calling program attempts to set an SBML object identifier to a string whose syntax does not conform to the SBML identifier syntax.\u001b[0m\n",
      "\u001b[91mERROR:\u001b[0m \u001b[91mError encountered trying to  <set gene id  for '5105_AT1'>.\u001b[0m\n",
      "\u001b[91mERROR:\u001b[0m \u001b[91mLibSBML error code -4: A value passed as an argument to the method is not of a type that is valid for the operation or kind of object involved. For example, this return code is used when a calling program attempts to set an SBML object identifier to a string whose syntax does not conform to the SBML identifier syntax.\u001b[0m\n",
      "\u001b[91mERROR:\u001b[0m \u001b[91mError encountered trying to  <set gene id  for '3945_AT1'>.\u001b[0m\n",
      "\u001b[91mERROR:\u001b[0m \u001b[91mLibSBML error code -4: A value passed as an argument to the method is not of a type that is valid for the operation or kind of object involved. For example, this return code is used when a calling program attempts to set an SBML object identifier to a string whose syntax does not conform to the SBML identifier syntax.\u001b[0m\n",
      "\u001b[91mERROR:\u001b[0m \u001b[91mError encountered trying to  <set gene id  for '5315_AT1'>.\u001b[0m\n",
      "\u001b[91mERROR:\u001b[0m \u001b[91mLibSBML error code -4: A value passed as an argument to the method is not of a type that is valid for the operation or kind of object involved. For example, this return code is used when a calling program attempts to set an SBML object identifier to a string whose syntax does not conform to the SBML identifier syntax.\u001b[0m\n",
      "\u001b[91mERROR:\u001b[0m \u001b[91mError encountered trying to  <set gene id  for '5091_AT2'>.\u001b[0m\n",
      "\u001b[91mERROR:\u001b[0m \u001b[91mLibSBML error code -4: A value passed as an argument to the method is not of a type that is valid for the operation or kind of object involved. For example, this return code is used when a calling program attempts to set an SBML object identifier to a string whose syntax does not conform to the SBML identifier syntax.\u001b[0m\n",
      "\u001b[91mERROR:\u001b[0m \u001b[91mError encountered trying to  <set specie reference id for '13dpg_c'>.\u001b[0m\n",
      "\u001b[91mERROR:\u001b[0m \u001b[91mLibSBML error code -4: A value passed as an argument to the method is not of a type that is valid for the operation or kind of object involved. For example, this return code is used when a calling program attempts to set an SBML object identifier to a string whose syntax does not conform to the SBML identifier syntax.\u001b[0m\n",
      "\u001b[91mERROR:\u001b[0m \u001b[91mError encountered trying to  <set specie reference id for '3pg_c'>.\u001b[0m\n",
      "\u001b[91mERROR:\u001b[0m \u001b[91mLibSBML error code -4: A value passed as an argument to the method is not of a type that is valid for the operation or kind of object involved. For example, this return code is used when a calling program attempts to set an SBML object identifier to a string whose syntax does not conform to the SBML identifier syntax.\u001b[0m\n",
      "\u001b[91mERROR:\u001b[0m \u001b[91mError encountered trying to  <set specie reference id for '13dpg_c'>.\u001b[0m\n"
     ]
    },
    {
     "name": "stderr",
     "output_type": "stream",
     "text": [
      "\u001b[91mERROR:\u001b[0m \u001b[91mLibSBML error code -4: A value passed as an argument to the method is not of a type that is valid for the operation or kind of object involved. For example, this return code is used when a calling program attempts to set an SBML object identifier to a string whose syntax does not conform to the SBML identifier syntax.\u001b[0m\n",
      "\u001b[91mERROR:\u001b[0m \u001b[91mError encountered trying to  <set specie reference id for '2pg_c'>.\u001b[0m\n",
      "\u001b[91mERROR:\u001b[0m \u001b[91mLibSBML error code -4: A value passed as an argument to the method is not of a type that is valid for the operation or kind of object involved. For example, this return code is used when a calling program attempts to set an SBML object identifier to a string whose syntax does not conform to the SBML identifier syntax.\u001b[0m\n",
      "\u001b[91mERROR:\u001b[0m \u001b[91mError encountered trying to  <set specie reference id for '3pg_c'>.\u001b[0m\n",
      "\u001b[91mERROR:\u001b[0m \u001b[91mLibSBML error code -4: A value passed as an argument to the method is not of a type that is valid for the operation or kind of object involved. For example, this return code is used when a calling program attempts to set an SBML object identifier to a string whose syntax does not conform to the SBML identifier syntax.\u001b[0m\n",
      "\u001b[91mERROR:\u001b[0m \u001b[91mError encountered trying to  <set specie reference id for '2pg_c'>.\u001b[0m\n",
      "\u001b[91mERROR:\u001b[0m \u001b[91mLibSBML error code -4: A value passed as an argument to the method is not of a type that is valid for the operation or kind of object involved. For example, this return code is used when a calling program attempts to set an SBML object identifier to a string whose syntax does not conform to the SBML identifier syntax.\u001b[0m\n",
      "\u001b[91mERROR:\u001b[0m \u001b[91mError encountered trying to  <set specie reference id for '3pg_c'>.\u001b[0m\n",
      "\u001b[91mERROR:\u001b[0m \u001b[91mLibSBML error code -4: A value passed as an argument to the method is not of a type that is valid for the operation or kind of object involved. For example, this return code is used when a calling program attempts to set an SBML object identifier to a string whose syntax does not conform to the SBML identifier syntax.\u001b[0m\n",
      "\u001b[91mERROR:\u001b[0m \u001b[91mError encountered trying to  <set model parameter id for '3pg_b'>.\u001b[0m\n",
      "\u001b[91mERROR:\u001b[0m \u001b[91mLibSBML error code -4: A value passed as an argument to the method is not of a type that is valid for the operation or kind of object involved. For example, this return code is used when a calling program attempts to set an SBML object identifier to a string whose syntax does not conform to the SBML identifier syntax.\u001b[0m\n"
     ]
    },
    {
     "ename": "MassSimulationError",
     "evalue": "Could not load MassModel 'Glycolysis'",
     "output_type": "error",
     "traceback": [
      "\u001b[1;31m---------------------------------------------------------------------------\u001b[0m",
      "\u001b[1;31mMassSimulationError\u001b[0m                       Traceback (most recent call last)",
      "\u001b[1;32m~\\anaconda3\\lib\\site-packages\\mass\\simulation\\simulation.py\u001b[0m in \u001b[0;36m__init__\u001b[1;34m(self, reference_model, id, name, verbose, **kwargs)\u001b[0m\n\u001b[0;32m    186\u001b[0m             \u001b[1;31m# Load model into RoadRunner\u001b[0m\u001b[1;33m\u001b[0m\u001b[1;33m\u001b[0m\u001b[1;33m\u001b[0m\u001b[0m\n\u001b[1;32m--> 187\u001b[1;33m             rr = _load_model_into_roadrunner(reference_model, rr=None,\n\u001b[0m\u001b[0;32m    188\u001b[0m                                              verbose=verbose, **_SBML_KWARGS)\n",
      "\u001b[1;32m~\\anaconda3\\lib\\site-packages\\mass\\simulation\\simulation.py\u001b[0m in \u001b[0;36m_load_model_into_roadrunner\u001b[1;34m(mass_model, rr, verbose, **kwargs)\u001b[0m\n\u001b[0;32m   1394\u001b[0m                        \"issues with the model.\")\n\u001b[1;32m-> 1395\u001b[1;33m         \u001b[1;32mraise\u001b[0m \u001b[0mMassSimulationError\u001b[0m\u001b[1;33m(\u001b[0m\u001b[0mmsg\u001b[0m\u001b[1;33m)\u001b[0m\u001b[1;33m\u001b[0m\u001b[1;33m\u001b[0m\u001b[0m\n\u001b[0m\u001b[0;32m   1396\u001b[0m \u001b[1;33m\u001b[0m\u001b[0m\n",
      "\u001b[1;31mMassSimulationError\u001b[0m: Cannot load SBML Model 'Glycolysis' ",
      "\nDuring handling of the above exception, another exception occurred:\n",
      "\u001b[1;31mMassSimulationError\u001b[0m                       Traceback (most recent call last)",
      "\u001b[1;32m<ipython-input-55-3dcc10ed6870>\u001b[0m in \u001b[0;36m<module>\u001b[1;34m\u001b[0m\n\u001b[0;32m      2\u001b[0m \u001b[0mverbose\u001b[0m \u001b[1;33m=\u001b[0m \u001b[1;32mFalse\u001b[0m\u001b[1;33m\u001b[0m\u001b[1;33m\u001b[0m\u001b[0m\n\u001b[0;32m      3\u001b[0m \u001b[1;33m\u001b[0m\u001b[0m\n\u001b[1;32m----> 4\u001b[1;33m \u001b[0msim\u001b[0m \u001b[1;33m=\u001b[0m \u001b[0mSimulation\u001b[0m\u001b[1;33m(\u001b[0m\u001b[0mglycolysis\u001b[0m\u001b[1;33m,\u001b[0m \u001b[0mverbose\u001b[0m\u001b[1;33m=\u001b[0m\u001b[1;32mFalse\u001b[0m\u001b[1;33m)\u001b[0m\u001b[1;33m\u001b[0m\u001b[1;33m\u001b[0m\u001b[0m\n\u001b[0m\u001b[0;32m      5\u001b[0m \u001b[1;33m\u001b[0m\u001b[0m\n\u001b[0;32m      6\u001b[0m \u001b[1;33m\u001b[0m\u001b[0m\n",
      "\u001b[1;32m~\\anaconda3\\lib\\site-packages\\mass\\simulation\\simulation.py\u001b[0m in \u001b[0;36m__init__\u001b[1;34m(self, reference_model, id, name, verbose, **kwargs)\u001b[0m\n\u001b[0;32m    192\u001b[0m             \u001b[1;32mif\u001b[0m \u001b[0mverbose\u001b[0m\u001b[1;33m:\u001b[0m\u001b[1;33m\u001b[0m\u001b[1;33m\u001b[0m\u001b[0m\n\u001b[0;32m    193\u001b[0m                 \u001b[0mmsg\u001b[0m \u001b[1;33m+=\u001b[0m \u001b[1;34m\": \"\u001b[0m \u001b[1;33m+\u001b[0m \u001b[0mstr\u001b[0m\u001b[1;33m(\u001b[0m\u001b[0me\u001b[0m\u001b[1;33m)\u001b[0m\u001b[1;33m\u001b[0m\u001b[1;33m\u001b[0m\u001b[0m\n\u001b[1;32m--> 194\u001b[1;33m             \u001b[1;32mraise\u001b[0m \u001b[0mMassSimulationError\u001b[0m\u001b[1;33m(\u001b[0m\u001b[0mmsg\u001b[0m\u001b[1;33m)\u001b[0m\u001b[1;33m\u001b[0m\u001b[1;33m\u001b[0m\u001b[0m\n\u001b[0m\u001b[0;32m    195\u001b[0m \u001b[1;33m\u001b[0m\u001b[0m\n\u001b[0;32m    196\u001b[0m         \u001b[1;31m# Initialize Simulation\u001b[0m\u001b[1;33m\u001b[0m\u001b[1;33m\u001b[0m\u001b[1;33m\u001b[0m\u001b[0m\n",
      "\u001b[1;31mMassSimulationError\u001b[0m: Could not load MassModel 'Glycolysis'"
     ]
    }
   ],
   "source": [
    "tfinal = 1e4\n",
    "verbose = False\n",
    "\n",
    "sim = Simulation(glycolysis, verbose=False)\n",
    "\n",
    "\n",
    "# Setup simulation object\n",
    "#sim = Simulation(glycolysis, verbose=True)\n",
    "# Simulate from 0 to 1000 with 10001 points in the output\n",
    "#conc_sol, flux_sol = sim.simulate(glycolysis, time=(0, 1e3, 1e4 + 1))\n",
    "# Quickly render and display time profiles\n",
    "#conc_sol.view_time_profile()\n"
   ]
  },
  {
   "cell_type": "markdown",
   "metadata": {},
   "source": [
    "## Ensure model is in steady state and export"
   ]
  },
  {
   "cell_type": "code",
   "execution_count": null,
   "metadata": {},
   "outputs": [],
   "source": [
    "# Ensure all models are simulated to a long time and that\n",
    "# there are enough time points to determine if model reached steady state.\n",
    "tfinal = 1e4\n",
    "verbose = False\n",
    "\n",
    "sim = Simulation(reference_model=models_for_ensemble[0], verbose=verbose)\n",
    "sim.add_models(models_for_ensemble[1:], verbose=verbose, disable_safe_load=True)\n",
    "sim.integrator.absolute_tolerance = 1e-15\n",
    "sim.integrator.relative_tolerance = 1e-9\n",
    "\n",
    "models_to_export = []\n",
    "with warnings.catch_warnings():\n",
    "    warnings.simplefilter(\"ignore\")\n",
    "    for model in models_for_ensemble:\n",
    "        # Attempt to determine steady state\n",
    "        conc_sol, flux_sol = sim.find_steady_state(\n",
    "            models=model, strategy=\"simulate\", update_values=True,\n",
    "            tfinal=tfinal, \n",
    "            verbose=verbose)\n",
    "        if conc_sol and flux_sol:\n",
    "            continue\n",
    "        print(str(model) + \" first attempt failed.\")\n",
    "        # First attempt was not successful, lengthen time for second attempt\n",
    "        # Attempt to determine steady state\n",
    "        conc_sol, flux_sol = sim.find_steady_state(\n",
    "            models=model, strategy=\"simulate\", update_values=True,\n",
    "            tfinal=tfinal * 10, \n",
    "            verbose=verbose)\n",
    "        if conc_sol and flux_sol:\n",
    "            continue\n",
    "        print(str(model) + \" second attempt failed.\")\n",
    "        # Second attempt was not successful, lengthen time for second attempt\n",
    "        # Attempt to determine steady state\n",
    "        conc_sol, flux_sol = sim.find_steady_state(\n",
    "            models=model, strategy=\"simulate\", update_values=True,\n",
    "            tfinal=tfinal * 100, \n",
    "            verbose=verbose)\n",
    "        if conc_sol and flux_sol:\n",
    "            continue\n",
    "        print(str(model) + \" third attempt failed. Eliminating model.\")\n",
    "        # Third attempt was not successful, eliminate the model\n",
    "        sim.remove_models(models=model, verbose=verbose)"
   ]
  },
  {
   "cell_type": "code",
   "execution_count": null,
   "metadata": {},
   "outputs": [],
   "source": []
  },
  {
   "cell_type": "code",
   "execution_count": null,
   "metadata": {},
   "outputs": [],
   "source": []
  },
  {
   "cell_type": "code",
   "execution_count": null,
   "metadata": {},
   "outputs": [],
   "source": [
    "## Adding additional reactions\n",
    "ADK1 = MassReaction(\n",
    "    \"ADK1\",\n",
    "    name=\"Adenylate kinase\",\n",
    "    subsystem=\"Misc.\",\n",
    "    reversible=True)\n",
    "\n",
    "ADK = ['amp_c','atp_c']\n",
    "for i in ADK:\n",
    "    item = glycolysis.metabolites.get_by_id(i)\n",
    "    ADK1.add_metabolites({item:1})\n",
    "    \n",
    "ADP =['adp_c']\n",
    "for i in ADP:\n",
    "    item = glycolysis.metabolites.get_by_id(i)\n",
    "    ADK1.add_metabolites({item:-2})\n"
   ]
  },
  {
   "cell_type": "code",
   "execution_count": null,
   "metadata": {},
   "outputs": [],
   "source": [
    "ATPM = MassReaction(\n",
    "    \"ATPM\",\n",
    "    name=\"ATP maintenance requirement\",\n",
    "    subsystem=\"Pseudoreaction\",\n",
    "    reversible=False)\n",
    "\n",
    "ATPM_1 = ['atp_c', 'h2o_c']\n",
    "ATPM_2= ['adp_c','h_c','pi_c']\n",
    "\n",
    "for i in ATPM_1:\n",
    "    item = glycolysis.metabolites.get_by_id(i)\n",
    "    ATPM.add_metabolites({item:-1})\n",
    "    \n",
    "\n",
    "for i in ATPM_2:\n",
    "    item = glycolysis.metabolites.get_by_id(i)\n",
    "    ATPM.add_metabolites({item:1})\n",
    "\n"
   ]
  },
  {
   "cell_type": "code",
   "execution_count": null,
   "metadata": {
    "scrolled": true
   },
   "outputs": [],
   "source": [
    "DM_nadh = MassReaction(\n",
    "    \"DM_nadh\",\n",
    "    name=\"Demand NADH\",\n",
    "    subsystem=\"Pseudoreaction\",\n",
    "    reversible=False)\n",
    "\n",
    "DM_nadh_1 = ['nadh_c']\n",
    "DM_nadh_2= ['nad_c','h_c']\n",
    "\n",
    "for i in DM_nadh_1:\n",
    "    item = glycolysis.metabolites.get_by_id(i)\n",
    "    DM_nadh.add_metabolites({item:-1})\n",
    "    \n",
    "\n",
    "for i in DM_nadh_2:\n",
    "    item = glycolysis.metabolites.get_by_id(i)\n",
    "    DM_nadh.add_metabolites({item:1})\n",
    "\n"
   ]
  },
  {
   "cell_type": "code",
   "execution_count": null,
   "metadata": {},
   "outputs": [],
   "source": [
    "# Add new reactions\n",
    "glycolysis.add_reactions([ADK1, ATPM, DM_nadh])\n",
    "\n",
    "for reaction in glycolysis.reactions:\n",
    "    print(reaction)"
   ]
  },
  {
   "cell_type": "markdown",
   "metadata": {},
   "source": [
    "### View extracted network"
   ]
  },
  {
   "cell_type": "code",
   "execution_count": null,
   "metadata": {},
   "outputs": [],
   "source": [
    "### NEED TO CHECK!!\n",
    "escher_builder = escher.Builder(\n",
    "    model=glycolysis,\n",
    "    map_json=os.path.join(\n",
    "        maps_dir, \".\".join((\n",
    "            glycolysis.id, \"map\", \"json\"))\n",
    "    ),\n",
    "    highlight_missing=True)\n",
    "\n",
    "escher_builder"
   ]
  },
  {
   "cell_type": "markdown",
   "metadata": {},
   "source": [
    "### Boundary Reactions"
   ]
  },
  {
   "cell_type": "code",
   "execution_count": null,
   "metadata": {},
   "outputs": [],
   "source": [
    "SK_glc__D_c = glycolysis.add_boundary(\n",
    "    metabolite=glycolysis.metabolites.get_by_id('glc__D_c'), boundary_type=\"sink\", subsystem=\"Pseudoreaction\",\n",
    "    boundary_condition=1)\n",
    "SK_glc__D_c.reverse_stoichiometry(inplace=True)\n",
    "\n",
    "SK_amp_c = glycolysis.add_boundary(\n",
    "    metabolite=glycolysis.metabolites.get_by_id('amp_c'), boundary_type=\"sink\", subsystem=\"Pseudoreaction\",\n",
    "    boundary_condition=1)\n",
    "SK_amp_c.reverse_stoichiometry(inplace=True)\n",
    "\n",
    "\n",
    "SK_lac__L_c = glycolysis.add_boundary(\n",
    "    metabolite=glycolysis.metabolites.get_by_id('lac__L_c'), boundary_type=\"sink\", subsystem=\"Pseudoreaction\",\n",
    "    boundary_condition=1)\n",
    "\n",
    "SK_pyr_c = glycolysis.add_boundary(\n",
    "    metabolite=glycolysis.metabolites.get_by_id('pyr_c'), boundary_type=\"sink\", subsystem=\"Pseudoreaction\",\n",
    "    boundary_condition=0.06)\n",
    "\n",
    "SK_h_c = glycolysis.add_boundary(\n",
    "    metabolite=glycolysis.metabolites.get_by_id('h_c'), boundary_type=\"sink\", subsystem=\"Pseudoreaction\",\n",
    "    boundary_condition=6.30957e-05)\n",
    "\n",
    "SK_h2o_c = glycolysis.add_boundary(\n",
    "    metabolite=glycolysis.metabolites.get_by_id('h2o_c'), boundary_type=\"sink\", subsystem=\"Pseudoreaction\",\n",
    "    boundary_condition=1)\n",
    "\n",
    "\n",
    "\n",
    "DM_amp_c = glycolysis.add_boundary(\n",
    "    metabolite=glycolysis.metabolites.get_by_id('amp_c'), boundary_type=\"demand\", subsystem=\"Pseudoreaction\",\n",
    "    boundary_condition=1)\n",
    "\n",
    "print(\"Boundary Reactions and Values\\n-----------------------------\")\n",
    "for reaction in glycolysis.boundary:\n",
    "    boundary_met = reaction.boundary_metabolite\n",
    "    bc_value = glycolysis.boundary_conditions.get(boundary_met)\n",
    "    print(\"{0}\\n{1}: {2}\\n\".format(\n",
    "        reaction, boundary_met, bc_value))"
   ]
  },
  {
   "cell_type": "code",
   "execution_count": null,
   "metadata": {},
   "outputs": [],
   "source": [
    "\n",
    "\n"
   ]
  },
  {
   "cell_type": "markdown",
   "metadata": {},
   "source": [
    "## Simulate at steady state"
   ]
  },
  {
   "cell_type": "code",
   "execution_count": null,
   "metadata": {},
   "outputs": [],
   "source": [
    "# Setup simulation object\n",
    "sim = Simulation(glycolysis, verbose=True)\n",
    "# Simulate from 0 to 1000 with 10001 points in the output\n",
    "conc_sol, flux_sol = sim.simulate(glycolysis, time=(0, 1e3, 1e4 + 1))\n",
    "# Quickly render and display time profiles\n",
    "conc_sol.view_time_profile()"
   ]
  },
  {
   "cell_type": "code",
   "execution_count": null,
   "metadata": {},
   "outputs": [],
   "source": []
  },
  {
   "cell_type": "markdown",
   "metadata": {},
   "source": [
    "# Export MASS model"
   ]
  },
  {
   "cell_type": "code",
   "execution_count": null,
   "metadata": {},
   "outputs": [],
   "source": [
    "save_json_mass_model(\n",
    "    mass_model=glycolysis,\n",
    "    filename=os.path.join(model_dir, glycolysis.id + \".json\"))"
   ]
  },
  {
   "cell_type": "code",
   "execution_count": null,
   "metadata": {},
   "outputs": [],
   "source": []
  }
 ],
 "metadata": {
  "kernelspec": {
   "display_name": "Python 3",
   "language": "python",
   "name": "python3"
  },
  "language_info": {
   "codemirror_mode": {
    "name": "ipython",
    "version": 3
   },
   "file_extension": ".py",
   "mimetype": "text/x-python",
   "name": "python",
   "nbconvert_exporter": "python",
   "pygments_lexer": "ipython3",
   "version": "3.8.3"
  }
 },
 "nbformat": 4,
 "nbformat_minor": 4
}
