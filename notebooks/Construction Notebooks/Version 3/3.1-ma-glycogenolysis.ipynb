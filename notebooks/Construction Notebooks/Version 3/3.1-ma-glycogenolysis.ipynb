{
 "cells": [
  {
   "cell_type": "markdown",
   "metadata": {},
   "source": [
    "# Liver Model Construction: Notebook-Glycogenolysis"
   ]
  },
  {
   "cell_type": "markdown",
   "metadata": {},
   "source": [
    "## Setup workflow"
   ]
  },
  {
   "cell_type": "markdown",
   "metadata": {},
   "source": [
    "### Import packages"
   ]
  },
  {
   "cell_type": "code",
   "execution_count": 1,
   "metadata": {},
   "outputs": [
    {
     "name": "stdout",
     "output_type": "stream",
     "text": [
      "MASSpy version: 0.1.1\n"
     ]
    }
   ],
   "source": [
    "import os\n",
    "import re\n",
    "import warnings\n",
    "from cobra.io.json import load_json_model as load_json_cobra_model\n",
    "import escher\n",
    "import mass\n",
    "import numpy as np\n",
    "import pandas as pd\n",
    "import sympy as sym\n",
    "from cobra import Model, Reaction, Metabolite\n",
    "import cobra.test\n",
    "from os.path import join\n",
    "from mass.util import qcqa_model\n",
    "from cobra import DictList\n",
    "from mass import (\n",
    "    MassConfiguration, MassMetabolite, MassModel,\n",
    "    MassReaction, Simulation, UnitDefinition)\n",
    "from mass.io.json import save_json_model as save_json_mass_model\n",
    "from mass.visualization import plot_comparison, plot_time_profile\n",
    "mass_config = MassConfiguration()\n",
    "mass_config.irreversible_Keq = float(\"inf\")\n",
    "print(\"MASSpy version: {0}\".format(mass.__version__))\n",
    "from six import iteritems\n",
    "import matplotlib.pyplot as plt\n",
    "from mass.thermo import (\n",
    "    ConcSolver, sample_concentrations,\n",
    "    update_model_with_concentration_solution)"
   ]
  },
  {
   "cell_type": "markdown",
   "metadata": {},
   "source": [
    "## Set paths and constants"
   ]
  },
  {
   "cell_type": "code",
   "execution_count": 2,
   "metadata": {},
   "outputs": [],
   "source": [
    "seed = int(4)\n",
    "#increase number of models from before\n",
    "n_models = 3\n",
    "\n",
    "mass_config = MassConfiguration()\n",
    "mass_config.solver = \"cplex\""
   ]
  },
  {
   "cell_type": "markdown",
   "metadata": {},
   "source": [
    "### Directory paths"
   ]
  },
  {
   "cell_type": "code",
   "execution_count": 3,
   "metadata": {},
   "outputs": [],
   "source": [
    "model_dir = os.path.abspath(\"../models\")\n",
    "maps_dir = os.path.abspath(\"../maps\")\n",
    "data_dir = os.path.abspath(\"../data\")"
   ]
  },
  {
   "cell_type": "code",
   "execution_count": 4,
   "metadata": {},
   "outputs": [],
   "source": [
    "# model_dir = os.path.abspath(\".../MASSliver/models\")\n",
    "# maps_dir = os.path.abspath(\".../MASSliver/models/maps\")\n",
    "# data_dir = os.path.abspath(\".../MASSliver/data/interim\")"
   ]
  },
  {
   "cell_type": "code",
   "execution_count": 5,
   "metadata": {},
   "outputs": [],
   "source": [
    "# Allow Escher to close without pop-up\n",
    "escher.rc['never_ask_before_quit'] = True\n"
   ]
  },
  {
   "cell_type": "markdown",
   "metadata": {},
   "source": [
    "### Load COBRA model"
   ]
  },
  {
   "cell_type": "code",
   "execution_count": 6,
   "metadata": {},
   "outputs": [
    {
     "data": {
      "text/html": [
       "\n",
       "        <table>\n",
       "            <tr>\n",
       "                <td><strong>Name</strong></td>\n",
       "                <td>None</td>\n",
       "            </tr><tr>\n",
       "                <td><strong>Memory address</strong></td>\n",
       "                <td>0x01f485b982e0</td>\n",
       "            </tr><tr>\n",
       "                <td><strong>Number of metabolites</strong></td>\n",
       "                <td>178</td>\n",
       "            </tr><tr>\n",
       "                <td><strong>Number of reactions</strong></td>\n",
       "                <td>187</td>\n",
       "            </tr><tr>\n",
       "                <td><strong>Number of groups</strong></td>\n",
       "                <td>0</td>\n",
       "            </tr><tr>\n",
       "                <td><strong>Objective expression</strong></td>\n",
       "                <td>1.0*ATPM - 1.0*ATPM_reverse_5b752</td>\n",
       "            </tr><tr>\n",
       "                <td><strong>Compartments</strong></td>\n",
       "                <td>m, i, c, r, </td>\n",
       "            </tr>\n",
       "          </table>"
      ],
      "text/plain": [
       "<Model None at 0x1f485b982e0>"
      ]
     },
     "execution_count": 6,
     "metadata": {},
     "output_type": "execute_result"
    }
   ],
   "source": [
    "#load core model\n",
    "core_model=load_json_cobra_model(filename=os.path.join(model_dir,\"CoreModel.json\"))\n",
    "core_model"
   ]
  },
  {
   "cell_type": "code",
   "execution_count": 7,
   "metadata": {},
   "outputs": [
    {
     "data": {
      "text/html": [
       "\n",
       "        <table>\n",
       "            <tr>\n",
       "                <td><strong>Name</strong></td>\n",
       "                <td>Smaller Glycogenolysis</td>\n",
       "            </tr><tr>\n",
       "                <td><strong>Memory address</strong></td>\n",
       "                <td>0x01f485e9caf0</td>\n",
       "            </tr><tr>\n",
       "                <td><strong>Number of metabolites</strong></td>\n",
       "                <td>0</td>\n",
       "            </tr><tr>\n",
       "                <td><strong>Number of reactions</strong></td>\n",
       "                <td>0</td>\n",
       "            </tr><tr>\n",
       "                <td><strong>Number of groups</strong></td>\n",
       "                <td>0</td>\n",
       "            </tr><tr>\n",
       "                <td><strong>Objective expression</strong></td>\n",
       "                <td>0</td>\n",
       "            </tr><tr>\n",
       "                <td><strong>Compartments</strong></td>\n",
       "                <td></td>\n",
       "            </tr>\n",
       "          </table>"
      ],
      "text/plain": [
       "<Model Smaller Glycogenolysis at 0x1f485e9caf0>"
      ]
     },
     "execution_count": 7,
     "metadata": {},
     "output_type": "execute_result"
    }
   ],
   "source": [
    "#create trial model\n",
    "trial = Model('Smaller Glycogenolysis') \n",
    "trial"
   ]
  },
  {
   "cell_type": "code",
   "execution_count": 8,
   "metadata": {},
   "outputs": [],
   "source": [
    "#load Recon3D\n",
    "R3D=load_json_cobra_model(filename=os.path.join(model_dir,\"Recon3D.json\"))"
   ]
  },
  {
   "cell_type": "code",
   "execution_count": 9,
   "metadata": {},
   "outputs": [],
   "source": [
    "# ## adding reactions from glycogenloysis \n",
    "# gly=load_json_cobra_model(filename=os.path.join(model_dir,\"Glycogenolysis.json\"))\n",
    "# r_list=[\n",
    "   \n",
    "# #     'EX_pyr_e',\n",
    "# #     'EX_lac__L_e'  \n",
    "# ]\n",
    "# for rid in r_list:\n",
    "#     reaction = core_model.reactions.get_by_id(rid)\n",
    "#     trial.add_reactions([reaction])"
   ]
  },
  {
   "cell_type": "code",
   "execution_count": 10,
   "metadata": {},
   "outputs": [],
   "source": [
    "#add all reactions to a list\n",
    "R3D_list=[\n",
    "    'HEX1',\n",
    "    'PGI', \n",
    "    'PFK',\n",
    "    'FBP',\n",
    "    'FBA',\n",
    "    'TPI',\n",
    "    'GAPD',\n",
    "    'PGK',\n",
    "    'PGM',\n",
    "    'ENO',\n",
    "    'PYK',\n",
    "    'PYRt2m',\n",
    "    'PCm',\n",
    "    'PEPCKm',\n",
    "    'LDH_L',\n",
    "    'G6PPer',\n",
    "    'G6Pter',\n",
    "    'GLCter',\n",
    "    'H2Oter',\n",
    "    'PIter',\n",
    "    'H2Ot',\n",
    "    'PIt',\n",
    "    'EX_glc__D_e',\n",
    "    'GLCt1',\n",
    "    'Ht',\n",
    "    'L_LACt2r', #lactose transport between lactate in cytosol and extracellular \n",
    "    'PYRt2' #pyruvate transport between pyruvate in cytosol and extracellular \n",
    "]\n",
    "#add reactions from R3D to trial model\n",
    "for rid in R3D_list:\n",
    "    reaction = R3D.reactions.get_by_id(rid)\n",
    "    trial.add_reactions([reaction])\n",
    "    \n",
    "#add reactions from core to trial model\n",
    "core_list=['PEPtm']\n",
    "for rid in core_list:\n",
    "    reaction = core_model.reactions.get_by_id(rid)\n",
    "    trial.add_reactions([reaction])"
   ]
  },
  {
   "cell_type": "code",
   "execution_count": 11,
   "metadata": {},
   "outputs": [],
   "source": [
    "#get metabolites for sinks/exchanges\n",
    "pyrc=R3D.metabolites.get_by_id('pyr_c')\n",
    "pyrm=R3D.metabolites.get_by_id('pyr_m')\n",
    "hco3=R3D.metabolites.get_by_id('hco3_m')\n",
    "co2=R3D.metabolites.get_by_id('co2_m')\n",
    "gtp=R3D.metabolites.get_by_id('gtp_m')\n",
    "gdp=R3D.metabolites.get_by_id('gdp_m')\n",
    "\n",
    "atpc=R3D.metabolites.get_by_id('atp_c')\n",
    "atpm=R3D.metabolites.get_by_id('atp_m')\n",
    "adp=R3D.metabolites.get_by_id('adp_c')\n",
    "h2o=R3D.metabolites.get_by_id('h2o_e')\n",
    "pie=R3D.metabolites.get_by_id('pi_e')\n",
    "pim=R3D.metabolites.get_by_id('pi_m')\n",
    "he=R3D.metabolites.get_by_id('h_e')\n",
    "hm=R3D.metabolites.get_by_id('h_m')\n",
    "nadh=R3D.metabolites.get_by_id('nadh_c')\n",
    "nad=R3D.metabolites.get_by_id('nad_c')\n",
    "\n",
    "\n",
    "pyre = R3D.metabolites.get_by_id(\"pyr_e\")\n",
    "lace = R3D.metabolites.get_by_id(\"lac__L_e\")"
   ]
  },
  {
   "cell_type": "code",
   "execution_count": 12,
   "metadata": {},
   "outputs": [
    {
     "data": {
      "text/html": [
       "\n",
       "        <table>\n",
       "            <tr>\n",
       "                <td><strong>Reaction identifier</strong></td><td>EX_lac__L_e</td>\n",
       "            </tr><tr>\n",
       "                <td><strong>Name</strong></td><td>L-Lactate exchange</td>\n",
       "            </tr><tr>\n",
       "                <td><strong>Memory address</strong></td>\n",
       "                <td>0x01f486664910</td>\n",
       "            </tr><tr>\n",
       "                <td><strong>Stoichiometry</strong></td>\n",
       "                <td>\n",
       "                    <p style='text-align:right'>lac__L_e <=> </p>\n",
       "                    <p style='text-align:right'>L-Lactate <=> </p>\n",
       "                </td>\n",
       "            </tr><tr>\n",
       "                <td><strong>GPR</strong></td><td></td>\n",
       "            </tr><tr>\n",
       "                <td><strong>Lower bound</strong></td><td>-1000.0</td>\n",
       "            </tr><tr>\n",
       "                <td><strong>Upper bound</strong></td><td>1000.0</td>\n",
       "            </tr>\n",
       "        </table>\n",
       "        "
      ],
      "text/plain": [
       "<Reaction EX_lac__L_e at 0x1f486664910>"
      ]
     },
     "execution_count": 12,
     "metadata": {},
     "output_type": "execute_result"
    }
   ],
   "source": [
    "# create sink/exchange reaction\n",
    "trial.add_boundary(atpc, type=\"sink\")\n",
    "trial.add_boundary(gtp, type=\"sink\")\n",
    "trial.add_boundary(gdp, type=\"sink\")\n",
    "trial.add_boundary(atpm, type=\"sink\")\n",
    "trial.add_boundary(pyrm, type=\"sink\")\n",
    "trial.add_boundary(pyrc, type=\"sink\")\n",
    "trial.add_boundary(nadh, type=\"sink\")\n",
    "trial.add_boundary(nad, type=\"sink\")\n",
    "trial.add_boundary(adp, type=\"sink\")\n",
    "trial.add_boundary(hm, type=\"sink\")\n",
    "trial.add_boundary(hco3, type=\"sink\")\n",
    "trial.add_boundary(co2, type=\"sink\")\n",
    "trial.add_boundary(pim, type=\"sink\")\n",
    "\n",
    "#why are these exchanges\n",
    "trial.add_boundary(h2o, type=\"exchange\")\n",
    "trial.add_boundary(pie, type=\"exchange\")\n",
    "trial.add_boundary(he, type=\"exchange\")\n",
    "trial.add_boundary(pyre, type=\"exchange\")\n",
    "trial.add_boundary(lace, type=\"exchange\")"
   ]
  },
  {
   "cell_type": "code",
   "execution_count": 13,
   "metadata": {},
   "outputs": [
    {
     "data": {
      "text/plain": [
       "[<Reaction HEX1 at 0x1f48d97da30>,\n",
       " <Reaction PGI at 0x1f48d742a60>,\n",
       " <Reaction PFK at 0x1f48bcffdf0>,\n",
       " <Reaction FBP at 0x1f48d940370>,\n",
       " <Reaction FBA at 0x1f48d726ee0>,\n",
       " <Reaction TPI at 0x1f48bcc8220>,\n",
       " <Reaction GAPD at 0x1f48d940eb0>,\n",
       " <Reaction PGK at 0x1f48d742c70>,\n",
       " <Reaction PGM at 0x1f48bc3caf0>,\n",
       " <Reaction ENO at 0x1f48d6d7eb0>,\n",
       " <Reaction PYK at 0x1f48bd1c7f0>,\n",
       " <Reaction PYRt2m at 0x1f48e936bb0>,\n",
       " <Reaction PCm at 0x1f48e874fd0>,\n",
       " <Reaction PEPCKm at 0x1f48e893c70>,\n",
       " <Reaction LDH_L at 0x1f48d7c1460>,\n",
       " <Reaction G6PPer at 0x1f48938f1f0>,\n",
       " <Reaction G6Pter at 0x1f48e412490>,\n",
       " <Reaction GLCter at 0x1f4894357c0>,\n",
       " <Reaction H2Oter at 0x1f48948be50>,\n",
       " <Reaction PIter at 0x1f4897cbbb0>,\n",
       " <Reaction H2Ot at 0x1f48bc1e490>,\n",
       " <Reaction PIt at 0x1f48ac72af0>,\n",
       " <Reaction EX_glc__D_e at 0x1f48c7de490>,\n",
       " <Reaction GLCt1 at 0x1f48e4abaf0>,\n",
       " <Reaction Ht at 0x1f48d6d7430>,\n",
       " <Reaction L_LACt2r at 0x1f48d97ddc0>,\n",
       " <Reaction PYRt2 at 0x1f48bd3ccd0>,\n",
       " <Reaction PEPtm at 0x1f4860b2e50>,\n",
       " <Reaction SK_atp_c at 0x1f48f0ee340>,\n",
       " <Reaction SK_gtp_m at 0x1f48f0ee2b0>,\n",
       " <Reaction SK_gdp_m at 0x1f48f0ee3a0>,\n",
       " <Reaction SK_atp_m at 0x1f48f0ee3d0>,\n",
       " <Reaction SK_pyr_m at 0x1f485fc3280>,\n",
       " <Reaction SK_pyr_c at 0x1f486664370>,\n",
       " <Reaction SK_nadh_c at 0x1f48ba6c910>,\n",
       " <Reaction SK_nad_c at 0x1f4866648b0>,\n",
       " <Reaction SK_adp_c at 0x1f4edd7ca00>,\n",
       " <Reaction SK_h_m at 0x1f48f0eecd0>,\n",
       " <Reaction SK_hco3_m at 0x1f48f0eeee0>,\n",
       " <Reaction SK_co2_m at 0x1f486664820>,\n",
       " <Reaction SK_pi_m at 0x1f4866649a0>,\n",
       " <Reaction EX_h2o_e at 0x1f487a940d0>,\n",
       " <Reaction EX_pi_e at 0x1f4866640a0>,\n",
       " <Reaction EX_h_e at 0x1f487a94df0>,\n",
       " <Reaction EX_pyr_e at 0x1f487a94070>,\n",
       " <Reaction EX_lac__L_e at 0x1f486664910>]"
      ]
     },
     "execution_count": 13,
     "metadata": {},
     "output_type": "execute_result"
    }
   ],
   "source": [
    "trial.reactions"
   ]
  },
  {
   "cell_type": "markdown",
   "metadata": {},
   "source": [
    "## View Escher map"
   ]
  },
  {
   "cell_type": "code",
   "execution_count": 14,
   "metadata": {},
   "outputs": [
    {
     "data": {
      "application/vnd.jupyter.widget-view+json": {
       "model_id": "e9a65a449ced4caab3dec994915f1b33",
       "version_major": 2,
       "version_minor": 0
      },
      "text/plain": [
       "Builder(highlight_missing=True, never_ask_before_quit=True)"
      ]
     },
     "metadata": {},
     "output_type": "display_data"
    }
   ],
   "source": [
    "#view all the reactions that we need build\n",
    "escher_builder = escher.Builder(\n",
    "    model=trial,\n",
    "    map_json=os.path.join(\n",
    "        maps_dir, \".\".join((\n",
    "            \"Glycogenolysis\", \"map\", \"json\"))\n",
    "    ),\n",
    "    highlight_missing=True)\n",
    "\n",
    "escher_builder\n"
   ]
  },
  {
   "cell_type": "markdown",
   "metadata": {},
   "source": [
    "### Loading Measured Fluxes"
   ]
  },
  {
   "cell_type": "code",
   "execution_count": 17,
   "metadata": {},
   "outputs": [],
   "source": [
    "def load_data(filepath, sheet_name):\n",
    "    \"\"\"Load Liver data from an excel sheet\"\"\"\n",
    "    df = pd.read_excel(engine='openpyxl',\n",
    "        io=filepath,\n",
    "        sheet_name=sheet_name,\n",
    "        index_col=0)\n",
    "    return df"
   ]
  },
  {
   "cell_type": "code",
   "execution_count": 18,
   "metadata": {},
   "outputs": [
    {
     "data": {
      "text/html": [
       "<div>\n",
       "<style scoped>\n",
       "    .dataframe tbody tr th:only-of-type {\n",
       "        vertical-align: middle;\n",
       "    }\n",
       "\n",
       "    .dataframe tbody tr th {\n",
       "        vertical-align: top;\n",
       "    }\n",
       "\n",
       "    .dataframe thead th {\n",
       "        text-align: right;\n",
       "    }\n",
       "</style>\n",
       "<table border=\"1\" class=\"dataframe\">\n",
       "  <thead>\n",
       "    <tr style=\"text-align: right;\">\n",
       "      <th></th>\n",
       "      <th>Flux (mmol/gDW*hr)</th>\n",
       "    </tr>\n",
       "    <tr>\n",
       "      <th>ID</th>\n",
       "      <th></th>\n",
       "    </tr>\n",
       "  </thead>\n",
       "  <tbody>\n",
       "    <tr>\n",
       "      <th>G6PPer</th>\n",
       "      <td>0.001682</td>\n",
       "    </tr>\n",
       "    <tr>\n",
       "      <th>HEX1</th>\n",
       "      <td>0.000000</td>\n",
       "    </tr>\n",
       "    <tr>\n",
       "      <th>GLCt1</th>\n",
       "      <td>-0.001682</td>\n",
       "    </tr>\n",
       "    <tr>\n",
       "      <th>PGI</th>\n",
       "      <td>-0.002919</td>\n",
       "    </tr>\n",
       "    <tr>\n",
       "      <th>EX_glc__D_e</th>\n",
       "      <td>0.085498</td>\n",
       "    </tr>\n",
       "    <tr>\n",
       "      <th>FBP</th>\n",
       "      <td>0.002919</td>\n",
       "    </tr>\n",
       "    <tr>\n",
       "      <th>PFK</th>\n",
       "      <td>0.000000</td>\n",
       "    </tr>\n",
       "    <tr>\n",
       "      <th>FBA</th>\n",
       "      <td>-0.002919</td>\n",
       "    </tr>\n",
       "    <tr>\n",
       "      <th>GAPD</th>\n",
       "      <td>-0.002919</td>\n",
       "    </tr>\n",
       "    <tr>\n",
       "      <th>PGK</th>\n",
       "      <td>0.002919</td>\n",
       "    </tr>\n",
       "    <tr>\n",
       "      <th>PGM</th>\n",
       "      <td>0.002919</td>\n",
       "    </tr>\n",
       "    <tr>\n",
       "      <th>ENO</th>\n",
       "      <td>-0.002919</td>\n",
       "    </tr>\n",
       "    <tr>\n",
       "      <th>PYK</th>\n",
       "      <td>0.001951</td>\n",
       "    </tr>\n",
       "    <tr>\n",
       "      <th>PCm</th>\n",
       "      <td>0.004685</td>\n",
       "    </tr>\n",
       "    <tr>\n",
       "      <th>PEPCKm</th>\n",
       "      <td>0.004877</td>\n",
       "    </tr>\n",
       "    <tr>\n",
       "      <th>EX_pyr_e</th>\n",
       "      <td>-0.042186</td>\n",
       "    </tr>\n",
       "    <tr>\n",
       "      <th>EX_lac__L_e</th>\n",
       "      <td>-0.084372</td>\n",
       "    </tr>\n",
       "  </tbody>\n",
       "</table>\n",
       "</div>"
      ],
      "text/plain": [
       "             Flux (mmol/gDW*hr)\n",
       "ID                             \n",
       "G6PPer                 0.001682\n",
       "HEX1                   0.000000\n",
       "GLCt1                 -0.001682\n",
       "PGI                   -0.002919\n",
       "EX_glc__D_e            0.085498\n",
       "FBP                    0.002919\n",
       "PFK                    0.000000\n",
       "FBA                   -0.002919\n",
       "GAPD                  -0.002919\n",
       "PGK                    0.002919\n",
       "PGM                    0.002919\n",
       "ENO                   -0.002919\n",
       "PYK                    0.001951\n",
       "PCm                    0.004685\n",
       "PEPCKm                 0.004877\n",
       "EX_pyr_e              -0.042186\n",
       "EX_lac__L_e           -0.084372"
      ]
     },
     "execution_count": 18,
     "metadata": {},
     "output_type": "execute_result"
    }
   ],
   "source": [
    "#define data sheet as latest data sheet\n",
    "data_sheet=os.path.join(data_dir,\"3.7-ma-data-collection.xlsx\")\n",
    "\n",
    "flux_df = load_data(\n",
    "    filepath=data_sheet,\n",
    "    sheet_name=\"Fluxes\").drop(\"Fasting Time\", axis=1).drop(\"Additional Notes\", axis=1)\n",
    "flux_df = flux_df.dropna() #drops rows with NaN\n",
    "flux_df\n"
   ]
  },
  {
   "cell_type": "code",
   "execution_count": 19,
   "metadata": {},
   "outputs": [],
   "source": [
    "v_vars = []\n",
    "v_data = []\n",
    "\n",
    "# How much flux to allow through irreversible reaction pairs\n",
    "# e.g, PFK/FBP & reverse_flux_percent = 0.1, raise both fluxes by 10% of non-zero flux value\n",
    "reverse_flux_percent = 0.1\n",
    "irreversible_enzyme_pairs = [\"PFK\", \"FBP\"]\n",
    "irreversible_enzyme_pairs2 = [\"HEX1\", \"G6PPer\"]\n",
    "irreversible_enzyme_pairs3 = [\"PYK\", \"PEPCKm\"]\n"
   ]
  },
  {
   "cell_type": "code",
   "execution_count": 20,
   "metadata": {},
   "outputs": [
    {
     "name": "stdout",
     "output_type": "stream",
     "text": [
      "G6PPer 0.0018502083831\n",
      "HEX1 0.00016820076210000002\n",
      "GLCt1 -0.001682007621\n",
      "PGI -0.002918552036\n",
      "EX_glc__D_e 0.0854982138575\n",
      "FBP 0.0032104072395999998\n",
      "PFK 0.0002918552036\n",
      "FBA -0.002918552036\n",
      "GAPD -0.002918552036\n",
      "PGK 0.002918552036\n",
      "PGM 0.002918552036\n",
      "ENO -0.002918552036\n",
      "PYK 0.001950821624\n",
      "PCm 0.004685044058\n",
      "PEPCKm 0.00487705406\n",
      "EX_pyr_e -0.0421858770764\n",
      "EX_lac__L_e -0.0843718063796\n"
     ]
    }
   ],
   "source": [
    "for rid, flux in flux_df.itertuples():\n",
    "    reaction = trial.reactions.get_by_id(rid)\n",
    "    #reaction.bounds = (flux, flux)\n",
    "    #set bounds for all boundary reactions \n",
    "    #uptake --> (-value, 1000)\n",
    "    #secretion --> (-1000 --> value)\n",
    "    #reversible --> (-1000,1000)\n",
    "    if (rid == \"EX_lac__L_e\"): #uptake\n",
    "#         pass\n",
    "        reaction = trial.reactions.get_by_id(rid)\n",
    "        reaction.bounds = (-0.084372,-0.084372) \n",
    "    if (rid == \"EX_glc__L_c\"): #secretion\n",
    "        reaction = trial.reactions.get_by_id(rid)\n",
    "        reaction.bounds = (0.085498214,0.085498214) ## restricting glucose  HEPATOKIN Supplemental 15 \n",
    "    elif (rid == \"EX_pyr_e\"): #uptake\n",
    "        reaction = trial.reactions.get_by_id(rid)\n",
    "        reaction.bounds = (0, 1000) \n",
    "#     elif (rid == \"SK_f6p_c\"): \n",
    "#         reaction = trial.reactions.get_by_id(rid)\n",
    "#         reaction.bounds = (-1000, 0)\n",
    "#     elif (rid == \"SK_g6p_c\"): \n",
    "#         reaction = trial.reactions.get_by_id(rid)\n",
    "#         reaction.bounds = (-1000, 0)\n",
    "#     elif (rid == \"EX_glygn2_c\"): #uptake\n",
    "#         reaction = core_model.reactions.get_by_id(rid)\n",
    "#         reaction.bounds = (-1, 1000) \n",
    "    for irreversible_enzyme_pair in irreversible_enzyme_pairs:\n",
    "        if rid in irreversible_enzyme_pair:\n",
    "            flux1, flux2 = flux_df.loc[irreversible_enzyme_pairs, \"Flux (mmol/gDW*hr)\"].values\n",
    "            if flux1 == 0:\n",
    "                flux += reverse_flux_percent * flux2 # mmol*gDW^-1*hr^-1\n",
    "            if flux2 == 0:\n",
    "                flux += reverse_flux_percent * flux1 # mmol*gDW^-1*hr^-1\n",
    "    for irreversible_enzyme_pair in irreversible_enzyme_pairs2:\n",
    "        if rid in irreversible_enzyme_pair:\n",
    "            flux3, flux4 = flux_df.loc[irreversible_enzyme_pairs2, \"Flux (mmol/gDW*hr)\"].values\n",
    "            if flux3 == 0:\n",
    "                flux += reverse_flux_percent * flux4 # mmol*gDW^-1*hr^-1\n",
    "            if flux4 == 0:\n",
    "                flux += reverse_flux_percent * flux3 # mmol*gDW^-1*hr^-1\n",
    "                \n",
    "    for irreversible_enzyme_pair in irreversible_enzyme_pairs3:\n",
    "        if rid in irreversible_enzyme_pair:\n",
    "            flux5, flux6 = flux_df.loc[irreversible_enzyme_pairs3, \"Flux (mmol/gDW*hr)\"].values\n",
    "            if flux5 == 0:\n",
    "                flux += reverse_flux_percent * flux6 # mmol*gDW^-1*hr^-1\n",
    "            if flux6 == 0:\n",
    "                flux += reverse_flux_percent * flux5 # mmol*gDW^-1*hr^-1\n",
    "    #address irreversible enzyme pair boundary reactions if necessary\n",
    "\n",
    "    print(rid, flux)\n",
    "\n",
    "    v_vars.append(sym.Symbol(rid))\n",
    "    v_data.append(flux)"
   ]
  },
  {
   "cell_type": "code",
   "execution_count": 21,
   "metadata": {},
   "outputs": [],
   "source": [
    "# Make symbolic for optlang objective \n",
    "v_vars = sym.Matrix(v_vars)\n",
    "v_data = sym.Matrix(v_data)\n",
    "\n",
    "F = sym.Matrix(2 * sym.eye(len(v_vars)))\n",
    "\n",
    "objective = 0.5 * v_vars.T * F * v_vars  - (2 * v_data).T * v_vars\n",
    "trial.objective = objective[0]\n",
    "trial.objective_direction = \"min\"\n",
    "\n",
    "flux_solution = trial.optimize()"
   ]
  },
  {
   "cell_type": "code",
   "execution_count": 22,
   "metadata": {},
   "outputs": [
    {
     "data": {
      "text/plain": [
       "HEX1           0.001009\n",
       "PGI            0.000000\n",
       "PFK            0.001751\n",
       "FBP            0.001751\n",
       "FBA            0.000000\n",
       "TPI            0.000000\n",
       "GAPD           0.000000\n",
       "PGK            0.000000\n",
       "PGM            0.000000\n",
       "ENO            0.000000\n",
       "PYK            0.000000\n",
       "PYRt2m         0.087132\n",
       "PCm            0.000000\n",
       "PEPCKm         0.000000\n",
       "LDH_L          0.084372\n",
       "G6PPer         0.001009\n",
       "G6Pter         0.001009\n",
       "GLCter        -0.001009\n",
       "H2Oter         0.001009\n",
       "PIter          0.001009\n",
       "H2Ot           0.002760\n",
       "PIt            0.002760\n",
       "EX_glc__D_e    0.000000\n",
       "GLCt1          0.000000\n",
       "Ht            -0.084372\n",
       "L_LACt2r       0.084372\n",
       "PYRt2          0.000000\n",
       "PEPtm          0.000000\n",
       "SK_atp_c      -0.002760\n",
       "SK_gtp_m       0.000000\n",
       "SK_gdp_m      -0.000000\n",
       "SK_atp_m      -0.000000\n",
       "SK_pyr_m       0.087132\n",
       "SK_pyr_c      -0.002760\n",
       "SK_nadh_c      0.084372\n",
       "SK_nad_c      -0.084372\n",
       "SK_adp_c       0.002760\n",
       "SK_h_m         0.087132\n",
       "SK_hco3_m      0.000000\n",
       "SK_co2_m      -0.000000\n",
       "SK_pi_m       -0.000000\n",
       "EX_h2o_e      -0.002760\n",
       "EX_pi_e        0.002760\n",
       "EX_h_e         0.000000\n",
       "EX_pyr_e       0.000000\n",
       "EX_lac__L_e   -0.084372\n",
       "Name: fluxes, dtype: float64"
      ]
     },
     "execution_count": 22,
     "metadata": {},
     "output_type": "execute_result"
    }
   ],
   "source": [
    "# ab=pd.DataFrame(flux_solution.fluxes)\n",
    "# ab.to_excel(\"output.xlsx\")\n",
    "flux_solution.fluxes"
   ]
  },
  {
   "cell_type": "code",
   "execution_count": 23,
   "metadata": {},
   "outputs": [
    {
     "data": {
      "image/png": "[encoded data removed]",
      "text/plain": [
       "<Figure size 360x360 with 1 Axes>"
      ]
     },
     "metadata": {
      "needs_background": "light"
     },
     "output_type": "display_data"
    }
   ],
   "source": [
    "flux_comparison_fig, ax = plt.subplots(nrows=1, ncols=1, figsize=(5, 5))\n",
    "plot_comparison(\n",
    "    x=flux_df[\"Flux (mmol/gDW*hr)\"], y=flux_solution, compare=\"fluxes\",\n",
    "    observable=[rid for rid in flux_df.index], ax=ax,\n",
    "    legend=\"right outside\", plot_function=\"plot\",\n",
    "    xlim=(-0.01,0.01), ylim=(-0.01, 0.01),\n",
    "    xy_line=True,\n",
    "    xy_legend=\"best\", xlabel=\"Measured [mmol/(gDW * h)]\", ylabel=\"Adjusted [mmol/(gDW * h)]\")\n",
    "\n",
    "flux_comparison_fig.tight_layout()\n",
    "#check directionality \n"
   ]
  },
  {
   "cell_type": "markdown",
   "metadata": {},
   "source": [
    "## Create MASS model"
   ]
  },
  {
   "cell_type": "code",
   "execution_count": null,
   "metadata": {},
   "outputs": [],
   "source": [
    "glycogenolysis = MassModel(\"Glycogenolysis\", array_type='DataFrame', dtype=np.int64)\n",
    "glycogenolysis"
   ]
  },
  {
   "cell_type": "markdown",
   "metadata": {},
   "source": [
    "### Define reactions"
   ]
  },
  {
   "cell_type": "code",
   "execution_count": null,
   "metadata": {},
   "outputs": [],
   "source": [
    "#add reactions one at a time\n",
    "##G6PPer, HEX1, GLCt1, PGI\n",
    "\n",
    "# EX_glc__D_e    0.001682\n",
    "\n",
    "# SK_f6p_c      -0.001682\n",
    "# SK_g6p_c       0.000000\n",
    "# SK_atp_c      -0.000168\n",
    "# SK_adp_c       0.000168\n",
    "# EX_h2o_e      -0.001850\n",
    "# EX_pi_e        0.001850\n",
    "# EX_h_e         0.000168\n",
    "\n",
    "\n",
    "reaction_list=[]\n",
    "reaction_list = ['HEX1',\n",
    "                 'PFK',\n",
    "                 'FBP',\n",
    "                 'FBA',\n",
    "                 'TPI',\n",
    "                 'GLCt1',\n",
    "                 'G6Pter',\n",
    "                 'G6PPer',\n",
    "                 'GLCter',\n",
    "#                  'EX_glc__D_e',\n",
    "                'PGI',\n",
    "                'H2Oter',\n",
    "                'PIter',\n",
    "                'H2Ot',\n",
    "                'PIt',\n",
    "                'Ht',\n",
    "                'GAPD',\n",
    "                'PGK',\n",
    "                'PGM',\n",
    "                'ENO',\n",
    "                 'PEPtm',\n",
    "                 'PEPCKm',\n",
    "#                 #'LDH_L',\n",
    "                 'PYK',\n",
    "                 'PCm',\n",
    "                 'PYRt2m'\n",
    "                ]\n"
   ]
  },
  {
   "cell_type": "code",
   "execution_count": null,
   "metadata": {},
   "outputs": [],
   "source": [
    "# Convert cobra.Reactions to mass.MassReactions\n",
    "for rid in reaction_list:\n",
    "    reaction = trial.reactions.get_by_id(rid)\n",
    "    glycogenolysis.add_reactions([MassReaction(reaction)])"
   ]
  },
  {
   "cell_type": "markdown",
   "metadata": {},
   "source": [
    "##  Set Fluxes"
   ]
  },
  {
   "cell_type": "code",
   "execution_count": null,
   "metadata": {},
   "outputs": [],
   "source": [
    "for reaction, flux in flux_solution[reaction_list].iteritems():\n",
    "    reaction = glycogenolysis.reactions.get_by_id(reaction)\n",
    "    reaction.steady_state_flux = flux * 1278.605 / 1000 \n",
    "    # mmol/gdW*hr --> mmol/L * hr ---> mol/L*hr\n",
    "    print(\"{0}: {1}\".format(reaction.flux_symbol_str,\n",
    "                            reaction.steady_state_flux))"
   ]
  },
  {
   "cell_type": "markdown",
   "metadata": {},
   "source": [
    "## Set Keqs"
   ]
  },
  {
   "cell_type": "code",
   "execution_count": null,
   "metadata": {},
   "outputs": [],
   "source": [
    "# Load equilibrium constants\n",
    "Keq_df = pd.read_excel(engine='openpyxl',\n",
    "    io=data_sheet,\n",
    "    sheet_name=\"Keqs\",\n",
    "    index_col=0).drop(\"Reference\", axis=1).drop(\"Stoichiometry\", axis=1).drop('Keq unit', axis=1)\n",
    "\n",
    "Keq_df = Keq_df.dropna() #drops rows with NaN\n",
    "Keq_df"
   ]
  },
  {
   "cell_type": "code",
   "execution_count": null,
   "metadata": {},
   "outputs": [],
   "source": [
    "Keq_list =[]\n",
    "#setting exchange constants as 1\n",
    "\n",
    "transport= [\n",
    "    'H2Oter',\n",
    "    'PIter',\n",
    "    'H2Ot',\n",
    "    'PIt',\n",
    "    'Ht',\n",
    "    'GLCter',\n",
    "    'G6Pter',\n",
    "    'PYRt2m',\n",
    "    'PEPtm'\n",
    "]\n",
    "for x in transport:\n",
    "    a=glycogenolysis.reactions.get_by_id(x)\n",
    "    a.Keq=1\n",
    "\n",
    "glycogenolysis.reactions.G6PPer.Keq=1/0.278 ## value seems to be inverted\n",
    "\n",
    "for rid, Keq in Keq_df.itertuples():\n",
    "    if rid in reaction_list: \n",
    "        reaction = glycogenolysis.reactions.get_by_id(rid)\n",
    "        reaction.Keq = Keq\n",
    "        Keq_list.append(reaction.Keq)\n",
    "        print(\"{0}: {1}\".format(reaction.Keq_str, Keq))\n",
    "glycogenolysis.reactions.G6PPer.Keq=1/0.278"
   ]
  },
  {
   "cell_type": "markdown",
   "metadata": {},
   "source": [
    "## Obtain Concentrations"
   ]
  },
  {
   "cell_type": "code",
   "execution_count": null,
   "metadata": {},
   "outputs": [],
   "source": [
    "compartment_finder_re = re.compile(r\"\\s*\\[([A-Za-z])\\]\")\n",
    "rateconst_re = re.compile(r\"k_(\\S*)_(fwd|rev)\\Z\")\n",
    "bound_metabolites_re = re.compile(r\"&|@|#\")"
   ]
  },
  {
   "cell_type": "code",
   "execution_count": null,
   "metadata": {},
   "outputs": [],
   "source": [
    "def prefix_number_id(id_str):\n",
    "    \"\"\"Prefix identifiers that start with numbers.\"\"\"\n",
    "    if re.match(r\"^\\d\", id_str):\n",
    "        id_str = \"_\" + id_str\n",
    "    return id_str"
   ]
  },
  {
   "cell_type": "code",
   "execution_count": null,
   "metadata": {},
   "outputs": [],
   "source": [
    "# prefix_number_id('13dpg_c')"
   ]
  },
  {
   "cell_type": "code",
   "execution_count": null,
   "metadata": {},
   "outputs": [],
   "source": [
    "for metabolite in glycogenolysis.metabolites:\n",
    "    new_met_id = prefix_number_id(metabolite.id)\n",
    "    metabolite.id = new_met_id\n",
    "glycogenolysis.repair()"
   ]
  },
  {
   "cell_type": "code",
   "execution_count": null,
   "metadata": {},
   "outputs": [],
   "source": [
    "for metabolite in glycogenolysis.metabolites:\n",
    "    print(\"{0}: {1}\".format(metabolite.id, metabolite.ic))"
   ]
  },
  {
   "cell_type": "code",
   "execution_count": null,
   "metadata": {},
   "outputs": [],
   "source": [
    "#Load Concentration Data\n",
    "conc_df = load_data(\n",
    "    filepath=data_sheet,\n",
    "    sheet_name=\"Concentrations\").drop(\"Concentration (mM)\", axis=1)\n",
    "conc_df = conc_df.drop(\"Additional Notes\", axis=1)\n",
    "conc_df = conc_df.dropna() #drops rows with NaN\n",
    "conc_df"
   ]
  },
  {
   "cell_type": "code",
   "execution_count": null,
   "metadata": {},
   "outputs": [],
   "source": [
    "# Fix identifiers in the dataframe\n",
    "conc_df.index = [prefix_number_id(mid) for mid in conc_df.index]"
   ]
  },
  {
   "cell_type": "code",
   "execution_count": null,
   "metadata": {},
   "outputs": [],
   "source": [
    "#Set Concentrations\n",
    "\n",
    "metabolite_list = [\n",
    "# HEX1    \n",
    "                    'glc__D_c',\n",
    "                    'g6p_c',\n",
    "                    'adp_c',\n",
    "                    'atp_c',\n",
    "                    'h_c',\n",
    "# GLCt1\n",
    "                    'glc__D_e',\n",
    "\n",
    "# #G6Pter\n",
    "                    'g6p_r',\n",
    "\n",
    "# #G6PPer , #GLCter\n",
    "                    'h2o_r',\n",
    "                    'glc__D_r',\n",
    "                    'pi_r',\n",
    "#  'PGI',\n",
    "                    'f6p_c', \n",
    "# 'H2Oter',\n",
    "                    'h2o_c',\n",
    "\n",
    "# 'PIter',\n",
    "                    'pi_r',\n",
    "                    'pi_c',\n",
    "\n",
    "#'H2Ot',\n",
    "                    'h2o_e',\n",
    "#'PIt',\n",
    "                    'pi_e',\n",
    "\n",
    "#'Ht'\n",
    "                    'h_e'  ,\n",
    "# PFK/ FBP\n",
    "                    'fdp_c',\n",
    "# FBA/TPI\n",
    "                    'dhap_c',\n",
    "                    'g3p_c',\n",
    "# GAPD\n",
    "                    'nad_c',\n",
    "                    'nadh_c',\n",
    "                    '13dpg_c',\n",
    "#PGK\n",
    "                    '3pg_c',\n",
    "#PGM\n",
    "                    '2pg_c',\n",
    "#ENO\n",
    "                    'pep_c',\n",
    "#PYK\n",
    "                    'pyr_c',\n",
    "#PYRt2m #what should we do about h_i\n",
    "                    'h_m',\n",
    "                    'pyr_m',\n",
    "#PCm\n",
    "                    'hco3_m',\n",
    "                    'pi_m',\n",
    "                    'atp_m',\n",
    "                    'adp_m',\n",
    "                    'oaa_m',\n",
    "#PEPCKm\n",
    "                    'gtp_m',\n",
    "                    'co2_m',\n",
    "                    'gdp_m',\n",
    "                    'pep_m'\n",
    "#PEPtm\n",
    "]"
   ]
  },
  {
   "cell_type": "code",
   "execution_count": null,
   "metadata": {},
   "outputs": [],
   "source": [
    "met_list = []\n",
    "for mid, name, conc in conc_df.itertuples():\n",
    "    if mid in metabolite_list: \n",
    "        metabolite = glycogenolysis.metabolites.get_by_id(mid)\n",
    "        metabolite.name = name\n",
    "        \n",
    "        metabolite.ic = conc #data sheet is in M units\n",
    "        met_list.append(metabolite.ic)\n",
    "\n",
    "for metabolite in glycogenolysis.metabolites:\n",
    "    print(\"{0}: {1}\".format(metabolite.id, metabolite.ic))"
   ]
  },
  {
   "cell_type": "markdown",
   "metadata": {},
   "source": [
    "## Set H2O/H Constants"
   ]
  },
  {
   "cell_type": "code",
   "execution_count": null,
   "metadata": {},
   "outputs": [],
   "source": [
    "# Set concentrations of hydrogen, water as fixed\n",
    "# Assume hydrogen in all compartments are fixed \n",
    "for metabolite in [\n",
    "    \"h_c\",'h_e','h_m',\n",
    "    'h2o_r','h2o_e',\"h2o_c\",\n",
    "    \"glc__D_e\", \"pi_e\",'pi_m','pi_c'\n",
    "    #remove h_i and h_m if not mitochondrial reactions\n",
    "                  ]:\n",
    "    metabolite = glycogenolysis.metabolites.get_by_id(metabolite)\n",
    "    metabolite.fixed = True"
   ]
  },
  {
   "cell_type": "code",
   "execution_count": null,
   "metadata": {},
   "outputs": [],
   "source": [
    "for metabolite in [\n",
    "    #'h_i',\n",
    "    'h_m',\n",
    "\"h_c\", 'h_e',\n",
    "\"h2o_c\",'h2o_r','h2o_e' \n",
    "]:\n",
    "    metabolite = glycogenolysis.metabolites.get_by_id(metabolite)\n",
    "    metabolite.ic = 1 #M\n",
    "    \n",
    "glycogenolysis.metabolites.glc__D_e.ic= 0 #setting extracellular glucose as 0 because no lactate rn\n",
    "   \n",
    "#plasma phsophate concentration to be equal to intracellular plasma concentration\n",
    "glycogenolysis.metabolites.pi_e.ic=0.0064\n",
    "\n"
   ]
  },
  {
   "cell_type": "code",
   "execution_count": null,
   "metadata": {},
   "outputs": [],
   "source": [
    "#Formulate QP minimization list for concentrations\n",
    "## double check this?\n",
    "conc_solver = ConcSolver(\n",
    "    glycogenolysis, # bc only want metabolites in glycogenolysis \n",
    "    excluded_metabolites=[\n",
    "        #'h_i','co2_m', 'gdp_m', 'gtp_m', 'hco3_m'\n",
    "        \"h_c\",'h_e', 'h_m',\n",
    "    'h2o_r','h2o_e',\"h2o_c\",\n",
    "        \"pi_e\",\n",
    "        \"glc__D_e\"\n",
    "    ], excluded_reactions=[\"Ht\", \"H2Ot\", \"H2Oter\",\n",
    "                            'PIter',\n",
    "                            'PIt',\n",
    "                           'G6Pter',\n",
    "                           'GLCter',\n",
    "                           'GLCt1',\n",
    "                           'PYRt2m',\n",
    "                           'PEPtm'\n",
    "                          ],\n",
    "    constraint_buffer=1)\n",
    "\n",
    "conc_solver.setup_feasible_qp_problem(\n",
    "fixed_conc_bounds=list(glycogenolysis.fixed))\n",
    "fixed_Keq_bounds=glycogenolysis.reactions.list_attr(\"Keq_str\")\n",
    "    \n",
    "#assumption: provide uncertainity to allow for a variance for the Keqs rather than staying fixed\n",
    "#conc_solver.setup_feasible_qp_problem(Keq_percent_deviation=0.1)\n",
    "\n",
    "conc_solution = conc_solver.optimize()\n",
    "conc_solution"
   ]
  },
  {
   "cell_type": "code",
   "execution_count": null,
   "metadata": {},
   "outputs": [],
   "source": [
    "conc_solution.concentrations"
   ]
  },
  {
   "cell_type": "code",
   "execution_count": null,
   "metadata": {},
   "outputs": [],
   "source": [
    "for c in conc_solver.constraints:\n",
    "    print(c)"
   ]
  },
  {
   "cell_type": "code",
   "execution_count": null,
   "metadata": {},
   "outputs": [],
   "source": [
    "#Compare Results\n",
    "conc_comparison_fig, ax = plt.subplots(nrows=1, ncols=1,\n",
    "                                       figsize=(5, 5))\n",
    "\n",
    "plot_comparison(\n",
    "    x=conc_df[\"Concentration(M)\"], y=conc_solution,\n",
    "    compare=\"concentrations\",\n",
    "    observable=[mid for mid in conc_df.index], ax=ax,\n",
    "    legend=\"right outside\", plot_function=\"loglog\",\n",
    "    xlim=(-0.001,0.02), ylim=(-0.001,0.02),\n",
    "    xy_line=True,\n",
    "    xy_legend=\"best\", xlabel=\"Initial [mol/L]\", ylabel=\"Adjusted [mol/L]\")\n",
    "\n",
    "conc_comparison_fig.tight_layout()\n",
    "update_model_with_concentration_solution(\n",
    "    glycogenolysis, conc_solution, concentrations=True, inplace=True);"
   ]
  },
  {
   "cell_type": "markdown",
   "metadata": {},
   "source": [
    "## Sample Concentrations"
   ]
  },
  {
   "cell_type": "code",
   "execution_count": null,
   "metadata": {},
   "outputs": [],
   "source": [
    "conc_solver.setup_sampling_problem(\n",
    "    fixed_conc_bounds=list(glycogenolysis.fixed),\n",
    "    fixed_Keq_bounds=glycogenolysis.reactions.list_attr(\"Keq_str\"))\n",
    "for variable in conc_solver.variables:\n",
    "    try:\n",
    "        met = glycogenolysis.metabolites.get_by_id(variable.name)\n",
    "        variable.lb, variable.ub = np.log([met.ic / 10, met.ic * 10])\n",
    "    except:\n",
    "        pass\n",
    "conc_samples = sample_concentrations(conc_solver, n=n_models, seed=seed)\n",
    "conc_samples.head()"
   ]
  },
  {
   "cell_type": "markdown",
   "metadata": {},
   "source": [
    "## Set concentrations and balance models with pseudoreactions"
   ]
  },
  {
   "cell_type": "code",
   "execution_count": null,
   "metadata": {},
   "outputs": [],
   "source": [
    "glycogenolysis.boundary_conditions['glc__D_b']=0.010482807 ##  initial condition of the metabolite in the model\n"
   ]
  },
  {
   "cell_type": "code",
   "execution_count": null,
   "metadata": {},
   "outputs": [],
   "source": [
    "# glycogenolysis.steady_state_fluxes.values\n",
    "glycogenolysis.update_S(array_type=\"DataFrame\")"
   ]
  },
  {
   "cell_type": "code",
   "execution_count": null,
   "metadata": {},
   "outputs": [],
   "source": [
    "# for r, v in glycogenolysis.steady_state_fluxes.items():\n",
    "#      if not r.boundary:\n",
    "#         print(r,v)\n",
    "# for r, v in glycogenolysis.steady_state_fluxes.items():\n",
    "#      if not (r.boundary or r== glycogenolysis.reactions.GLCter or r==glycogenolysis.reactions.PIter):\n",
    "#             print(r,v)"
   ]
  },
  {
   "cell_type": "code",
   "execution_count": null,
   "metadata": {},
   "outputs": [],
   "source": [
    "transport= [\n",
    "#  'H2Oter',\n",
    "    'PIter',\n",
    "#      'H2Ot',\n",
    "    'PIt',\n",
    "#      'Ht',\n",
    "    'GLCter',\n",
    "     'G6Pter',\n",
    "    'PYRt2m',\n",
    "    'PEPtm'\n",
    "]\n",
    "for x in transport:\n",
    "    a=glycogenolysis.reactions.get_by_id(x)\n",
    "    a.kf=1e6"
   ]
  },
  {
   "cell_type": "code",
   "execution_count": null,
   "metadata": {},
   "outputs": [],
   "source": [
    "models_for_ensemble = []\n",
    "for idx, conc_sample in conc_samples.iterrows():\n",
    "    # Make copy of new model\n",
    "    new_model = glycogenolysis.copy()\n",
    "    new_model.id += \"_C{0:d}\".format(idx)\n",
    "    # Get concentration sample and update model with sample\n",
    "    new_model.update_initial_conditions(conc_sample.to_dict())\n",
    "\n",
    "    # Determine imbalances in the reduced network\n",
    "    fluxes = np.array(list(new_model.steady_state_fluxes.values()))\n",
    "    imbalanced_metabolites = new_model.S.dot(fluxes)\n",
    "\n",
    "    # Iterate through metabolites\n",
    "    for mid, imbalance in imbalanced_metabolites.iteritems():\n",
    "        # Ignore balanced metabolites\n",
    "        if imbalance == 0 or new_model.metabolites.get_by_id(mid).compartment== \"e\": # to remove SK_glc__D_e\n",
    "            continue\n",
    "        # Get metabolite object\n",
    "        met = new_model.metabolites.get_by_id(mid)\n",
    "        # Add boundary reactions for imbalanced metabolites\n",
    "        boundary_type = \"sink\"    \n",
    "        # Add boundary reaction with imbalance as flux value\n",
    "        boundary_reaction = new_model.add_boundary(\n",
    "            mid, boundary_type, boundary_condition=met.ic)\n",
    "\n",
    "        boundary_reaction.Keq = 1\n",
    "        if imbalance < 0:\n",
    "            boundary_reaction.reverse_stoichiometry(inplace=True)\n",
    "            imbalance = -imbalance\n",
    "\n",
    "        boundary_reaction.kf = imbalance / met.ic\n",
    "        boundary_reaction.steady_state_flux = imbalance\n",
    "        try:\n",
    "            # Update PERCs\n",
    "            new_model.calculate_PERCs(\n",
    "                fluxes={\n",
    "                    r: v for r, v in new_model.steady_state_fluxes.items() \n",
    "                    if not (r.boundary or r== new_model.reactions.GLCter or r== new_model.reactions.PIter \n",
    "                           or r== new_model.reactions.G6Pter or r== new_model.reactions.PIt)},\n",
    "                update_reactions=True)\n",
    "        except:\n",
    "            print(\"Negative PERCs for {0}\".format(new_model.id))\n",
    "            percs = new_model.calculate_PERCs(\n",
    "                fluxes={\n",
    "                    r: v for r, v in new_model.steady_state_fluxes.items()\n",
    "                    if not (r.boundary  or r== new_model.reactions.GLCter or r== new_model.reactions.PIter\n",
    "                           or r== new_model.reactions.G6Pter or r== new_model.reactions.PIt)},\n",
    "                update_reactions=False)\n",
    "            print(percs)\n",
    "            continue\n",
    "    models_for_ensemble.append(new_model)\n",
    "print(\"Number of models in ensemble: {0:d}\".format(len(models_for_ensemble)))\n",
    "# print(models_for_ensemble)"
   ]
  },
  {
   "cell_type": "code",
   "execution_count": null,
   "metadata": {},
   "outputs": [],
   "source": [
    "len(models_for_ensemble)"
   ]
  },
  {
   "cell_type": "markdown",
   "metadata": {},
   "source": [
    "#### Ensure model is in steady state and export"
   ]
  },
  {
   "cell_type": "code",
   "execution_count": null,
   "metadata": {},
   "outputs": [],
   "source": [
    "## determine imbalances in the reduced network\n",
    "fluxes = np.array(list(glycogenolysis.steady_state_fluxes.values()))\n",
    "imbalanced_metabolites = glycogenolysis.S.dot(fluxes)\n",
    "\n",
    "# Iterate through metabolites\n",
    "for mid, imbalance in imbalanced_metabolites.iteritems():\n",
    "    # Ignore balanced metabolites\n",
    "    if imbalance == 0 or glycogenolysis.metabolites.get_by_id(mid).compartment== \"e\": # to remove SK_glc__D_e:\n",
    "        continue\n",
    "    # Get metabolite object\n",
    "    met = glycogenolysis.metabolites.get_by_id(mid)\n",
    "\n",
    "    # Add boundary reactions for imbalanced metabolites\n",
    "    boundary_type = \"sink\"    \n",
    "    # Add boundary reaction with imbalance as flux value\n",
    "    boundary_reaction = glycogenolysis.add_boundary(\n",
    "        mid, boundary_type, boundary_condition=met.ic)\n",
    "\n",
    "    boundary_reaction.Keq = 1\n",
    "    if imbalance < 0:\n",
    "        boundary_reaction.reverse_stoichiometry(inplace=True)\n",
    "        imbalance = -imbalance\n",
    "\n",
    "    boundary_reaction.kf = imbalance / met.ic\n",
    "    boundary_reaction.steady_state_flux = imbalance\n",
    "    try:\n",
    "        # Update PERCs\n",
    "            percs= glycogenolysis.calculate_PERCs(\n",
    "            fluxes={\n",
    "                r: v for r, v in glycogenolysis.steady_state_fluxes.items()\n",
    "                if not (r.boundary  or r== glycogenolysis.reactions.GLCter or r== glycogenolysis.reactions.PIter\n",
    "                           or r== glycogenolysis.reactions.G6Pter or r== glycogenolysis.reactions.PIt)},\n",
    "            update_reactions=True)\n",
    "            print(percs)\n",
    "    except:\n",
    "        print(\"Negative PERCs for {0}\".format(new_model.id))\n",
    "        continue"
   ]
  },
  {
   "cell_type": "code",
   "execution_count": null,
   "metadata": {},
   "outputs": [],
   "source": [
    "# glycogenolysis.reactions.EX_glc__D_e.kf= 1000\n",
    "for reaction in glycogenolysis.reactions:\n",
    "    print(reaction.id, reaction.kf)"
   ]
  },
  {
   "cell_type": "code",
   "execution_count": null,
   "metadata": {},
   "outputs": [],
   "source": [
    "## balancing charges on reactions manually\n",
    "\n",
    "glycogenolysis.metabolites.h_c.charge=1\n",
    "\n",
    "glycogenolysis.metabolites.h_e.charge=1\n",
    "# glycolysis.metabolites.h_c.charge=1\n",
    "# glycolysis.metabolites.h_m.charge=1\n",
    "# glycolysis.metabolites.h_i.charge=1\n",
    "glycogenolysis.metabolites.pi_c.charge=-2\n",
    "glycogenolysis.metabolites.pi_e.charge=-2\n",
    "# glycolysis.metabolites.pi_m.charge=-2\n",
    "glycogenolysis.metabolites.pi_r.charge=-2\n"
   ]
  },
  {
   "cell_type": "code",
   "execution_count": null,
   "metadata": {},
   "outputs": [],
   "source": [
    "glycogenolysis.calculate_PERCs(fluxes={\n",
    "                r: v for r, v in glycogenolysis.steady_state_fluxes.items()\n",
    "                if not (r.boundary  or r== glycogenolysis.reactions.GLCter or r== glycogenolysis.reactions.PIter\n",
    "                           or r== glycogenolysis.reactions.G6Pter or r== glycogenolysis.reactions.PIt)}, update_reactions=True)\n",
    "\n",
    "print(\"Forward Rate Constants\\n----------------------\")\n",
    "for reaction in glycogenolysis.reactions:\n",
    "    print(\"{0}: {1:.6f}\".format(reaction.kf_str, reaction.kf))"
   ]
  },
  {
   "cell_type": "code",
   "execution_count": null,
   "metadata": {},
   "outputs": [],
   "source": [
    "#list(range(len\n",
    "(list(model.genes))\n",
    "\n",
    "#           )))"
   ]
  },
  {
   "cell_type": "code",
   "execution_count": null,
   "metadata": {},
   "outputs": [],
   "source": [
    "for x in list(range(len(list(model.genes)))):\n",
    "#     print(a)\n",
    "    #a= model.genes[x]\n",
    "    model.genes.remove(a)\n",
    "    \n",
    "print(list(model.genes))"
   ]
  },
  {
   "cell_type": "code",
   "execution_count": null,
   "metadata": {},
   "outputs": [],
   "source": [
    "# Whether to print messages as loop occurs. \n",
    "verbose = False\n",
    "# Ensure all models are simulated to a long time and that\n",
    "# there are enough time points to determine if model reached steady state.\n",
    "tfinal = 1e4\n",
    "\n",
    "sim = Simulation(reference_model=models_for_ensemble[0], verbose=verbose)\n",
    "sim.add_models(models_for_ensemble[1:], verbose=verbose, disable_safe_load=True)\n",
    "sim.integrator.absolute_tolerance = 1e-15\n",
    "sim.integrator.relative_tolerance = 1e-9\n",
    "\n",
    "models_to_export = []\n",
    "with warnings.catch_warnings():\n",
    "    warnings.simplefilter(\"ignore\")\n",
    "    for model in models_for_ensemble:\n",
    "        # Attempt to determine steady state\n",
    "        conc_sol, flux_sol = sim.find_steady_state(\n",
    "            models=model, strategy=\"simulate\", update_values=True,\n",
    "            tfinal=tfinal, \n",
    "            verbose=verbose)\n",
    "        if conc_sol and flux_sol:\n",
    "            continue\n",
    "        print(str(model) + \" first attempt failed.\")\n",
    "        # First attempt was not successful, lengthen time for second attempt\n",
    "        # Attempt to determine steady state\n",
    "        conc_sol, flux_sol = sim.find_steady_state(\n",
    "            models=model, strategy=\"simulate\", update_values=True,\n",
    "            tfinal=tfinal * 10, \n",
    "            verbose=verbose)\n",
    "        if conc_sol and flux_sol:\n",
    "            continue\n",
    "        print(str(model) + \" second attempt failed.\")\n",
    "        # Second attempt was not successful, lengthen time for second attempt\n",
    "        # Attempt to determine steady state\n",
    "        conc_sol, flux_sol = sim.find_steady_state(\n",
    "            models=model, strategy=\"simulate\", update_values=True,\n",
    "            tfinal=tfinal * 100, \n",
    "            verbose=verbose)\n",
    "        if conc_sol and flux_sol:\n",
    "            continue\n",
    "        print(str(model) + \" third attempt failed. Eliminating model.\")\n",
    "        # Third attempt was not successful, eliminate the model\n",
    "        sim.remove_models(models=model, verbose=verbose)"
   ]
  },
  {
   "cell_type": "code",
   "execution_count": null,
   "metadata": {},
   "outputs": [],
   "source": [
    "models_for_ensemble = []\n",
    "qcqa_model(glycogenolysis, parameters=True, concentrations=True,\n",
    "          fluxes=True, superfluous=True, elemental=True)\n"
   ]
  },
  {
   "cell_type": "code",
   "execution_count": null,
   "metadata": {},
   "outputs": [],
   "source": [
    "# range(len(glycogenolysis.genes))\n",
    "for x in list(glycogenolysis.genes):\n",
    "    glycogenolysis.genes.remove(x)\n",
    "print(list(glycogenolysis.genes))\n",
    "\n"
   ]
  },
  {
   "cell_type": "code",
   "execution_count": null,
   "metadata": {},
   "outputs": [],
   "source": [
    "###RUN THIS FOR TIME PROFILE\n",
    "# Setup simulation object\n",
    "sim = Simulation(glycogenolysis, verbose=False)\n",
    "# Simulate from 0 to 1000 with 10001 points in the output\n",
    "conc_sol, flux_sol = sim.simulate(glycogenolysis, time=(0, 1e10, 1e4 + 1))\n",
    "# Quickly render and display time profiles\n",
    "conc_sol.view_time_profile()"
   ]
  },
  {
   "cell_type": "code",
   "execution_count": null,
   "metadata": {},
   "outputs": [],
   "source": [
    "fig_1, axes = plt.subplots(nrows=2, ncols=1, figsize=(10, 6));\n",
    "(ax1, ax2) = axes.flatten()\n",
    "L_FONT = {\"size\": \"large\"}\n",
    "plot_time_profile(\n",
    "    conc_sol, ax=ax1, legend=\"right outside\",\n",
    "    plot_function=\"semilogx\",\n",
    "    xlabel=\"Time [hr]\", ylabel=\"Concentration [M]\",\n",
    "    title=(\"Concentration Profile\", L_FONT));\n",
    "\n",
    "plot_time_profile(\n",
    "    flux_sol, ax=ax2, legend=\"right outside\",\n",
    "    plot_function=\"loglog\",\n",
    "    xlabel=\"Time [hr]\", ylabel=\"Flux (mmol/gDW*hr)\",\n",
    "    title=(\"Flux Profile\", L_FONT));\n",
    "fig_1.tight_layout()\n",
    "\n"
   ]
  },
  {
   "cell_type": "code",
   "execution_count": null,
   "metadata": {},
   "outputs": [],
   "source": []
  }
 ],
 "metadata": {
  "kernelspec": {
   "display_name": "Python 3",
   "language": "python",
   "name": "python3"
  },
  "language_info": {
   "codemirror_mode": {
    "name": "ipython",
    "version": 3
   },
   "file_extension": ".py",
   "mimetype": "text/x-python",
   "name": "python",
   "nbconvert_exporter": "python",
   "pygments_lexer": "ipython3",
   "version": "3.8.3"
  }
 },
 "nbformat": 4,
 "nbformat_minor": 4
}
