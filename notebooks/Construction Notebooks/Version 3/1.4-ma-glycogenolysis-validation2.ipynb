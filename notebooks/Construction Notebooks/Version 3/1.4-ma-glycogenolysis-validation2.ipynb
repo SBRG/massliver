{
 "cells": [
  {
   "cell_type": "markdown",
   "metadata": {},
   "source": [
    "# Liver Model Construction: Notebook-Glycogenolysis"
   ]
  },
  {
   "cell_type": "markdown",
   "metadata": {},
   "source": [
    "## Setup workflow"
   ]
  },
  {
   "cell_type": "markdown",
   "metadata": {},
   "source": [
    "### Import packages"
   ]
  },
  {
   "cell_type": "code",
   "execution_count": 1,
   "metadata": {},
   "outputs": [
    {
     "name": "stdout",
     "output_type": "stream",
     "text": [
      "MASSpy version: 0.1.1\n"
     ]
    }
   ],
   "source": [
    "import os\n",
    "import warnings\n",
    "from cobra.io.json import load_json_model as load_json_cobra_model\n",
    "import escher\n",
    "import mass\n",
    "import numpy as np\n",
    "import pandas as pd\n",
    "import sympy as sym\n",
    "from cobra import Model, Reaction, Metabolite\n",
    "import cobra.test\n",
    "from os.path import join\n",
    "from mass.util import qcqa_model\n",
    "from cobra import DictList\n",
    "from mass import (\n",
    "    MassConfiguration, MassMetabolite, MassModel,\n",
    "    MassReaction, Simulation, UnitDefinition)\n",
    "from mass.io.json import save_json_model as save_json_mass_model\n",
    "from mass.visualization import plot_comparison, plot_time_profile\n",
    "mass_config = MassConfiguration()\n",
    "mass_config.irreversible_Keq = float(\"inf\")\n",
    "print(\"MASSpy version: {0}\".format(mass.__version__))\n",
    "from six import iteritems\n",
    "import matplotlib.pyplot as plt\n",
    "from mass.thermo import (\n",
    "    ConcSolver, sample_concentrations,\n",
    "    update_model_with_concentration_solution)"
   ]
  },
  {
   "cell_type": "markdown",
   "metadata": {},
   "source": [
    "## Set paths and constants"
   ]
  },
  {
   "cell_type": "code",
   "execution_count": 2,
   "metadata": {},
   "outputs": [],
   "source": [
    "seed = int(4)\n",
    "#increase number of models from before\n",
    "n_models = 20\n",
    "\n",
    "mass_config = MassConfiguration()\n",
    "mass_config.solver = \"cplex\""
   ]
  },
  {
   "cell_type": "markdown",
   "metadata": {},
   "source": [
    "### Directory paths"
   ]
  },
  {
   "cell_type": "code",
   "execution_count": 3,
   "metadata": {},
   "outputs": [],
   "source": [
    "#had to remove the mass\n",
    "model_dir = os.path.abspath(\"../models\")\n",
    "maps_dir = os.path.abspath(\"../maps\")\n",
    "data_dir = os.path.abspath(\"../data\")"
   ]
  },
  {
   "cell_type": "code",
   "execution_count": 4,
   "metadata": {},
   "outputs": [],
   "source": [
    "# Allow Escher to close without pop-up\n",
    "escher.rc['never_ask_before_quit'] = True\n"
   ]
  },
  {
   "cell_type": "markdown",
   "metadata": {},
   "source": [
    "### Load COBRA model"
   ]
  },
  {
   "cell_type": "code",
   "execution_count": 5,
   "metadata": {},
   "outputs": [
    {
     "data": {
      "text/html": [
       "\n",
       "        <table>\n",
       "            <tr>\n",
       "                <td><strong>Name</strong></td>\n",
       "                <td>None</td>\n",
       "            </tr><tr>\n",
       "                <td><strong>Memory address</strong></td>\n",
       "                <td>0x022853ba2be0</td>\n",
       "            </tr><tr>\n",
       "                <td><strong>Number of metabolites</strong></td>\n",
       "                <td>178</td>\n",
       "            </tr><tr>\n",
       "                <td><strong>Number of reactions</strong></td>\n",
       "                <td>187</td>\n",
       "            </tr><tr>\n",
       "                <td><strong>Number of groups</strong></td>\n",
       "                <td>0</td>\n",
       "            </tr><tr>\n",
       "                <td><strong>Objective expression</strong></td>\n",
       "                <td>1.0*ATPM - 1.0*ATPM_reverse_5b752</td>\n",
       "            </tr><tr>\n",
       "                <td><strong>Compartments</strong></td>\n",
       "                <td>m, i, c, r, </td>\n",
       "            </tr>\n",
       "          </table>"
      ],
      "text/plain": [
       "<Model None at 0x22853ba2be0>"
      ]
     },
     "execution_count": 5,
     "metadata": {},
     "output_type": "execute_result"
    }
   ],
   "source": [
    "core_model=load_json_cobra_model(filename=os.path.join(model_dir,\"CoreModel.json\"))\n",
    "core_model"
   ]
  },
  {
   "cell_type": "code",
   "execution_count": 6,
   "metadata": {},
   "outputs": [],
   "source": [
    "# core_model.reactions.remove_from_model()\n",
    "\n",
    "core_model.reactions.EX_glc__D_c.remove_from_model()\n"
   ]
  },
  {
   "cell_type": "code",
   "execution_count": 7,
   "metadata": {},
   "outputs": [],
   "source": [
    "## adding reactions from Recon3D\n",
    "R3D=load_json_cobra_model(filename=os.path.join(model_dir,\"Recon3D.json\"))"
   ]
  },
  {
   "cell_type": "code",
   "execution_count": 8,
   "metadata": {},
   "outputs": [],
   "source": [
    "## adding reactions from glycogenloysis \n",
    "gly=load_json_cobra_model(filename=os.path.join(model_dir,\"Glycogenolysis.json\"))"
   ]
  },
  {
   "cell_type": "code",
   "execution_count": 9,
   "metadata": {},
   "outputs": [],
   "source": [
    "## change after double checking this, maybe not needed to be added to core?\n",
    "a= R3D.reactions.EX_glc__D_e\n",
    "b= R3D.reactions.GLCt1\n",
    "g= gly.reactions.SK_g6p_c\n",
    "new_r_list=[\n",
    "            a,\n",
    "            b,\n",
    "            g\n",
    "    \n",
    "]\n"
   ]
  },
  {
   "cell_type": "code",
   "execution_count": 10,
   "metadata": {},
   "outputs": [],
   "source": [
    "for x in new_r_list:\n",
    "    c= x\n",
    "    core_model.add_reaction(c)"
   ]
  },
  {
   "cell_type": "code",
   "execution_count": 11,
   "metadata": {},
   "outputs": [
    {
     "data": {
      "text/html": [
       "\n",
       "        <table>\n",
       "            <tr>\n",
       "                <td><strong>Reaction identifier</strong></td><td>GLCt1</td>\n",
       "            </tr><tr>\n",
       "                <td><strong>Name</strong></td><td>Glucose transport  uniport </td>\n",
       "            </tr><tr>\n",
       "                <td><strong>Memory address</strong></td>\n",
       "                <td>0x02285c49ac70</td>\n",
       "            </tr><tr>\n",
       "                <td><strong>Stoichiometry</strong></td>\n",
       "                <td>\n",
       "                    <p style='text-align:right'>glc__D_e <=> glc__D_c</p>\n",
       "                    <p style='text-align:right'>D-Glucose <=> D-Glucose</p>\n",
       "                </td>\n",
       "            </tr><tr>\n",
       "                <td><strong>GPR</strong></td><td>66035_AT1 or 6517_AT1 or 56606_AT1 or 154091_AT1 or 6513_AT1 or 11182_AT1 or 29988_AT1 or 6514_AT...</td>\n",
       "            </tr><tr>\n",
       "                <td><strong>Lower bound</strong></td><td>-1000.0</td>\n",
       "            </tr><tr>\n",
       "                <td><strong>Upper bound</strong></td><td>1000.0</td>\n",
       "            </tr>\n",
       "        </table>\n",
       "        "
      ],
      "text/plain": [
       "<Reaction GLCt1 at 0x2285c49ac70>"
      ]
     },
     "execution_count": 11,
     "metadata": {},
     "output_type": "execute_result"
    }
   ],
   "source": [
    "core_model.reactions.GLCt1"
   ]
  },
  {
   "cell_type": "markdown",
   "metadata": {},
   "source": [
    "## View Escher map"
   ]
  },
  {
   "cell_type": "code",
   "execution_count": 12,
   "metadata": {},
   "outputs": [
    {
     "data": {
      "application/vnd.jupyter.widget-view+json": {
       "model_id": "9981a5cb462f43a88b58117a42f46fb3",
       "version_major": 2,
       "version_minor": 0
      },
      "text/plain": [
       "Builder(highlight_missing=True, never_ask_before_quit=True)"
      ]
     },
     "metadata": {},
     "output_type": "display_data"
    }
   ],
   "source": [
    "#view all the reactions that we need build\n",
    "escher_builder = escher.Builder(\n",
    "    model=core_model,\n",
    "    map_json=os.path.join(\n",
    "        maps_dir, \".\".join((\n",
    "            \"Glycogenolysis\", \"map\", \"json\"))\n",
    "    ),\n",
    "    highlight_missing=True)\n",
    "\n",
    "escher_builder\n"
   ]
  },
  {
   "cell_type": "markdown",
   "metadata": {},
   "source": [
    "### Loading Measured Fluxes"
   ]
  },
  {
   "cell_type": "code",
   "execution_count": 13,
   "metadata": {},
   "outputs": [],
   "source": [
    "def load_data(filepath, sheet_name):\n",
    "    \"\"\"Load Liver data from an excel sheet\"\"\"\n",
    "    df = pd.read_excel(engine='openpyxl',\n",
    "        io=filepath,\n",
    "        sheet_name=sheet_name,\n",
    "        index_col=0)\n",
    "    return df"
   ]
  },
  {
   "cell_type": "code",
   "execution_count": 14,
   "metadata": {},
   "outputs": [
    {
     "data": {
      "text/html": [
       "<div>\n",
       "<style scoped>\n",
       "    .dataframe tbody tr th:only-of-type {\n",
       "        vertical-align: middle;\n",
       "    }\n",
       "\n",
       "    .dataframe tbody tr th {\n",
       "        vertical-align: top;\n",
       "    }\n",
       "\n",
       "    .dataframe thead th {\n",
       "        text-align: right;\n",
       "    }\n",
       "</style>\n",
       "<table border=\"1\" class=\"dataframe\">\n",
       "  <thead>\n",
       "    <tr style=\"text-align: right;\">\n",
       "      <th></th>\n",
       "      <th>Flux (mmol/gDW*hr)</th>\n",
       "    </tr>\n",
       "    <tr>\n",
       "      <th>ID</th>\n",
       "      <th></th>\n",
       "    </tr>\n",
       "  </thead>\n",
       "  <tbody>\n",
       "    <tr>\n",
       "      <th>GLCter</th>\n",
       "      <td>-0.001682</td>\n",
       "    </tr>\n",
       "    <tr>\n",
       "      <th>G6PPer</th>\n",
       "      <td>0.001682</td>\n",
       "    </tr>\n",
       "    <tr>\n",
       "      <th>G6Pter</th>\n",
       "      <td>0.001682</td>\n",
       "    </tr>\n",
       "    <tr>\n",
       "      <th>GLPASE1</th>\n",
       "      <td>0.000223</td>\n",
       "    </tr>\n",
       "    <tr>\n",
       "      <th>PGMT</th>\n",
       "      <td>0.000223</td>\n",
       "    </tr>\n",
       "    <tr>\n",
       "      <th>EX_glygn2_c</th>\n",
       "      <td>-0.000223</td>\n",
       "    </tr>\n",
       "    <tr>\n",
       "      <th>GAPD</th>\n",
       "      <td>-0.002919</td>\n",
       "    </tr>\n",
       "    <tr>\n",
       "      <th>PGK</th>\n",
       "      <td>0.002919</td>\n",
       "    </tr>\n",
       "    <tr>\n",
       "      <th>PGM</th>\n",
       "      <td>0.002919</td>\n",
       "    </tr>\n",
       "    <tr>\n",
       "      <th>ENO</th>\n",
       "      <td>-0.002919</td>\n",
       "    </tr>\n",
       "    <tr>\n",
       "      <th>PEPCKm</th>\n",
       "      <td>0.004877</td>\n",
       "    </tr>\n",
       "    <tr>\n",
       "      <th>PCm</th>\n",
       "      <td>0.004685</td>\n",
       "    </tr>\n",
       "    <tr>\n",
       "      <th>LDH_L</th>\n",
       "      <td>0.002727</td>\n",
       "    </tr>\n",
       "    <tr>\n",
       "      <th>PYK</th>\n",
       "      <td>0.001951</td>\n",
       "    </tr>\n",
       "    <tr>\n",
       "      <th>ME2</th>\n",
       "      <td>0.001951</td>\n",
       "    </tr>\n",
       "    <tr>\n",
       "      <th>CSm</th>\n",
       "      <td>0.002903</td>\n",
       "    </tr>\n",
       "    <tr>\n",
       "      <th>MDHm</th>\n",
       "      <td>0.003095</td>\n",
       "    </tr>\n",
       "    <tr>\n",
       "      <th>EX_glc__D_e</th>\n",
       "      <td>0.001682</td>\n",
       "    </tr>\n",
       "    <tr>\n",
       "      <th>GLCt1</th>\n",
       "      <td>-0.001682</td>\n",
       "    </tr>\n",
       "    <tr>\n",
       "      <th>EX_lac__L_c</th>\n",
       "      <td>-0.000548</td>\n",
       "    </tr>\n",
       "    <tr>\n",
       "      <th>EX_pyr_c</th>\n",
       "      <td>-0.000078</td>\n",
       "    </tr>\n",
       "    <tr>\n",
       "      <th>TPI</th>\n",
       "      <td>0.000000</td>\n",
       "    </tr>\n",
       "    <tr>\n",
       "      <th>FBA</th>\n",
       "      <td>-0.002919</td>\n",
       "    </tr>\n",
       "    <tr>\n",
       "      <th>FBP</th>\n",
       "      <td>0.002919</td>\n",
       "    </tr>\n",
       "    <tr>\n",
       "      <th>PFK</th>\n",
       "      <td>0.000000</td>\n",
       "    </tr>\n",
       "    <tr>\n",
       "      <th>PGI</th>\n",
       "      <td>-0.002919</td>\n",
       "    </tr>\n",
       "  </tbody>\n",
       "</table>\n",
       "</div>"
      ],
      "text/plain": [
       "             Flux (mmol/gDW*hr)\n",
       "ID                             \n",
       "GLCter                -0.001682\n",
       "G6PPer                 0.001682\n",
       "G6Pter                 0.001682\n",
       "GLPASE1                0.000223\n",
       "PGMT                   0.000223\n",
       "EX_glygn2_c           -0.000223\n",
       "GAPD                  -0.002919\n",
       "PGK                    0.002919\n",
       "PGM                    0.002919\n",
       "ENO                   -0.002919\n",
       "PEPCKm                 0.004877\n",
       "PCm                    0.004685\n",
       "LDH_L                  0.002727\n",
       "PYK                    0.001951\n",
       "ME2                    0.001951\n",
       "CSm                    0.002903\n",
       "MDHm                   0.003095\n",
       "EX_glc__D_e            0.001682\n",
       "GLCt1                 -0.001682\n",
       "EX_lac__L_c           -0.000548\n",
       "EX_pyr_c              -0.000078\n",
       "TPI                    0.000000\n",
       "FBA                   -0.002919\n",
       "FBP                    0.002919\n",
       "PFK                    0.000000\n",
       "PGI                   -0.002919"
      ]
     },
     "execution_count": 14,
     "metadata": {},
     "output_type": "execute_result"
    }
   ],
   "source": [
    "#define data sheet as latest data sheet\n",
    "data_sheet=os.path.join(data_dir,\"1.12-ma-data-collection-glycogenolysis.xlsx\")\n",
    "\n",
    "flux_df = load_data(\n",
    "    filepath=data_sheet,\n",
    "    sheet_name=\"Fluxes\").drop(\"Fasting Time\", axis=1).drop(\"Additional Notes\", axis=1).drop(\"Unnamed: 4\", axis=1).drop(\"Unnamed: 5\", axis=1)\n",
    "    ## weird anomaly, shouldn't happen * unnames:4 and 5\n",
    "\n",
    "flux_df = flux_df.dropna() #drops rows with NaN\n",
    "flux_df\n"
   ]
  },
  {
   "cell_type": "code",
   "execution_count": 15,
   "metadata": {},
   "outputs": [],
   "source": [
    "v_vars = []\n",
    "v_data = []\n",
    "\n",
    "# How much flux to allow through irreversible reaction pairs\n",
    "# e.g, PFK/FBP & reverse_flux_percent = 0.1, raise both fluxes by 10% of non-zero flux value\n",
    "reverse_flux_percent = 0.1\n",
    "irreversible_enzyme_pairs = [\"PFK\", \"FBP\"]"
   ]
  },
  {
   "cell_type": "code",
   "execution_count": 16,
   "metadata": {},
   "outputs": [
    {
     "data": {
      "text/plain": [
       "[<Reaction CSm at 0x22853e673a0>,\n",
       " <Reaction ACONTm at 0x228517c49a0>,\n",
       " <Reaction ICDHxm at 0x22853e67370>,\n",
       " <Reaction AKGDm at 0x22853e673d0>,\n",
       " <Reaction SUCOASm at 0x22853e67400>,\n",
       " <Reaction SUCD1m at 0x2283c00b520>,\n",
       " <Reaction FUMm at 0x22853f68d90>,\n",
       " <Reaction MDHm at 0x22853f68dc0>,\n",
       " <Reaction NADH2_u10mi at 0x22853e70cd0>,\n",
       " <Reaction FADH2ETC at 0x22853f79e50>,\n",
       " <Reaction CYOR_u10mi at 0x22853f79520>,\n",
       " <Reaction CYOOm2i at 0x22853f79b50>,\n",
       " <Reaction ATPS4mi at 0x22853f79ac0>,\n",
       " <Reaction Htmi at 0x22853f98430>,\n",
       " <Reaction HEX1 at 0x22853f98820>,\n",
       " <Reaction PGI at 0x22853f98040>,\n",
       " <Reaction PFK at 0x22853f98400>,\n",
       " <Reaction FBA at 0x22853f98190>,\n",
       " <Reaction TPI at 0x22853f987f0>,\n",
       " <Reaction GAPD at 0x22853fa7970>,\n",
       " <Reaction PGK at 0x22853fa7b20>,\n",
       " <Reaction PGM at 0x22853f83910>,\n",
       " <Reaction ENO at 0x22853f83dc0>,\n",
       " <Reaction PYK at 0x2285411c880>,\n",
       " <Reaction ADK1 at 0x2285411c610>,\n",
       " <Reaction PDHm at 0x2285411c1f0>,\n",
       " <Reaction LDH_L at 0x22853f97070>,\n",
       " <Reaction G6PDH2r at 0x22853f97400>,\n",
       " <Reaction PGL at 0x22853f97760>,\n",
       " <Reaction GND at 0x22853f970d0>,\n",
       " <Reaction RPI at 0x22853f979a0>,\n",
       " <Reaction RPE at 0x22853f97ca0>,\n",
       " <Reaction TKT1 at 0x22853f97f10>,\n",
       " <Reaction TKT2 at 0x22853f970a0>,\n",
       " <Reaction TALA at 0x22854176550>,\n",
       " <Reaction PCm at 0x22854176f40>,\n",
       " <Reaction PEPCKm at 0x22853fad430>,\n",
       " <Reaction FBP at 0x22853fadeb0>,\n",
       " <Reaction G6PPer at 0x22853fad730>,\n",
       " <Reaction G6Pter at 0x22853fad3d0>,\n",
       " <Reaction GLCter at 0x22853fada60>,\n",
       " <Reaction MALtm at 0x22853fb37c0>,\n",
       " <Reaction MDH at 0x22853fb3520>,\n",
       " <Reaction PEPCK_re at 0x22853fb3a00>,\n",
       " <Reaction PGMT at 0x22853fb3940>,\n",
       " <Reaction GALUi at 0x22853fb3d00>,\n",
       " <Reaction GLGNS1 at 0x22853fb3dc0>,\n",
       " <Reaction GLBRAN at 0x22853fb8970>,\n",
       " <Reaction GLPASE1 at 0x22853fb8eb0>,\n",
       " <Reaction GLDBRAN at 0x22853fb83d0>,\n",
       " <Reaction GLPASE2 at 0x22853fb8610>,\n",
       " <Reaction GGNG at 0x22853fb8d60>,\n",
       " <Reaction ACACT1m at 0x22853fb8e20>,\n",
       " <Reaction HMGCOASm at 0x22853fc0dc0>,\n",
       " <Reaction HMGLm at 0x22853fc0f40>,\n",
       " <Reaction ADCim at 0x22853fc05b0>,\n",
       " <Reaction BDHm at 0x22853fc0850>,\n",
       " <Reaction OCOAT1m at 0x22853fc44f0>,\n",
       " <Reaction NDPK1 at 0x22853fc4a90>,\n",
       " <Reaction NDPK1m at 0x22853fc4dc0>,\n",
       " <Reaction NDPK2 at 0x22853fc4310>,\n",
       " <Reaction HCO3Em at 0x22853fc4760>,\n",
       " <Reaction ATPtm at 0x22853fc4250>,\n",
       " <Reaction AKGMALtm at 0x22853fc9b20>,\n",
       " <Reaction ASPTA at 0x22853fc9df0>,\n",
       " <Reaction ASPTAm at 0x22853fc9910>,\n",
       " <Reaction CITtam at 0x22853fc9280>,\n",
       " <Reaction CITL at 0x22853fc9490>,\n",
       " <Reaction ME2 at 0x228541235e0>,\n",
       " <Reaction ACS at 0x22854123b50>,\n",
       " <Reaction ARGN at 0x22854123880>,\n",
       " <Reaction OCBTm at 0x22854123370>,\n",
       " <Reaction ARGSS at 0x22854123df0>,\n",
       " <Reaction ARGSL at 0x22854123eb0>,\n",
       " <Reaction CBPSam at 0x2285412bd60>,\n",
       " <Reaction NH4tm at 0x2285412b850>,\n",
       " <Reaction GDHm at 0x2285412bca0>,\n",
       " <Reaction GLNS at 0x2285412b280>,\n",
       " <Reaction GLUN at 0x2285412bf10>,\n",
       " <Reaction ALATA_L at 0x22854134e80>,\n",
       " <Reaction CYSO at 0x22854134430>,\n",
       " <Reaction 3SALATAi at 0x22854134a00>,\n",
       " <Reaction 3SPYRSP at 0x2285413d0d0>,\n",
       " <Reaction PGCD at 0x2285413d430>,\n",
       " <Reaction PSERT at 0x2285413d700>,\n",
       " <Reaction PSP_L at 0x2285413dca0>,\n",
       " <Reaction GHMT2r at 0x2285413da30>,\n",
       " <Reaction ASNS1 at 0x2285413dfa0>,\n",
       " <Reaction GLYtm at 0x22854142970>,\n",
       " <Reaction MLTHFtm at 0x22854142610>,\n",
       " <Reaction THFtm at 0x22854142340>,\n",
       " <Reaction KHK at 0x228541420a0>,\n",
       " <Reaction FBA2 at 0x22854142ee0>,\n",
       " <Reaction TRIOK at 0x2285414b6d0>,\n",
       " <Reaction ALCD19y at 0x2285414b070>,\n",
       " <Reaction GLYK at 0x2285414b9d0>,\n",
       " <Reaction 2AMACHYD at 0x2285414bfd0>,\n",
       " <Reaction SERHL at 0x2285414b310>,\n",
       " <Reaction ALCD2x at 0x2285414bc40>,\n",
       " <Reaction ACALDtm at 0x2285414b1c0>,\n",
       " <Reaction ALDD2xm at 0x228541156d0>,\n",
       " <Reaction ACSm at 0x22854115fa0>,\n",
       " <Reaction Htm at 0x228541158e0>,\n",
       " <Reaction O2tm at 0x22854115820>,\n",
       " <Reaction H2Otr at 0x22854115ca0>,\n",
       " <Reaction H2Otm at 0x228540d3700>,\n",
       " <Reaction PItm at 0x228540d37c0>,\n",
       " <Reaction PItr at 0x228540d3910>,\n",
       " <Reaction CO2tm at 0x228540d3a60>,\n",
       " <Reaction PPA at 0x228540d3bb0>,\n",
       " <Reaction HCO3E at 0x228540d3e20>,\n",
       " <Reaction PEPtm at 0x228540d3f70>,\n",
       " <Reaction PYRt2m at 0x228540d3640>,\n",
       " <Reaction ASPGLUm at 0x228540dc370>,\n",
       " <Reaction THD1m at 0x228540dc5e0>,\n",
       " <Reaction BHBtm at 0x228540dc850>,\n",
       " <Reaction ACETONEt2m at 0x228540dcac0>,\n",
       " <Reaction ORNt4m at 0x228540dce50>,\n",
       " <Reaction FUMtm at 0x228540dc100>,\n",
       " <Reaction GLUt2m at 0x228540e35b0>,\n",
       " <Reaction GLYCLm at 0x228540e3700>,\n",
       " <Reaction FACOAL80PROD at 0x228540e3a90>,\n",
       " <Reaction GAPT at 0x228540e3f70>,\n",
       " <Reaction AGPTAT at 0x228540e3d00>,\n",
       " <Reaction LPIN at 0x228540e3490>,\n",
       " <Reaction DGAT at 0x228540eac40>,\n",
       " <Reaction ACCOAC at 0x228540ead90>,\n",
       " <Reaction MCOATA at 0x228540eabb0>,\n",
       " <Reaction ACOATA at 0x228540eaeb0>,\n",
       " <Reaction KAS14 at 0x228540ea9d0>,\n",
       " <Reaction 30AR40 at 0x228540ef940>,\n",
       " <Reaction 3HAD40 at 0x228540efdf0>,\n",
       " <Reaction EAR40y at 0x228540efc40>,\n",
       " <Reaction 30AS60 at 0x228540eff40>,\n",
       " <Reaction 30AR60 at 0x228540ef7f0>,\n",
       " <Reaction 3HAD60 at 0x228540f99a0>,\n",
       " <Reaction EAR60y at 0x228540f97f0>,\n",
       " <Reaction 30AS80 at 0x228540f9e80>,\n",
       " <Reaction 30AR80 at 0x228540f9ca0>,\n",
       " <Reaction 3HAD80 at 0x228540f9dc0>,\n",
       " <Reaction EAR80y at 0x228540f9310>,\n",
       " <Reaction FA80ACPHi at 0x22854101a30>,\n",
       " <Reaction FACOAL80 at 0x22854101d30>,\n",
       " <Reaction C80CPT1 at 0x22854101ca0>,\n",
       " <Reaction r2434 at 0x22854101fa0>,\n",
       " <Reaction CRNtim at 0x228541014c0>,\n",
       " <Reaction r0636 at 0x2285410c8e0>,\n",
       " <Reaction COAtim at 0x2285410ca30>,\n",
       " <Reaction ACOAD3fm at 0x2285410cca0>,\n",
       " <Reaction ECOAH3m at 0x2285410cb50>,\n",
       " <Reaction HACD3m at 0x2285410cc10>,\n",
       " <Reaction ACACT3rm at 0x2285410cdf0>,\n",
       " <Reaction ACOAD2fm at 0x2285410c670>,\n",
       " <Reaction ECOAH2m at 0x228541527f0>,\n",
       " <Reaction HACD2m at 0x22854152a60>,\n",
       " <Reaction ACACT2rm at 0x22854152c40>,\n",
       " <Reaction ACOAD1fm at 0x228541529d0>,\n",
       " <Reaction ECOAH1m at 0x22854152d90>,\n",
       " <Reaction HACD1m at 0x22854152f40>,\n",
       " <Reaction ACACT1rm at 0x228541521c0>,\n",
       " <Reaction ATPM at 0x22854158760>,\n",
       " <Reaction EX_h_c at 0x22854158940>,\n",
       " <Reaction EX_pyr_c at 0x22854158b20>,\n",
       " <Reaction EX_h2o_c at 0x22854158e20>,\n",
       " <Reaction EX_pi_c at 0x22854158f40>,\n",
       " <Reaction EX_lac__L_c at 0x22854158460>,\n",
       " <Reaction EX_co2_c at 0x228541601c0>,\n",
       " <Reaction EX_o2_c at 0x22854160280>,\n",
       " <Reaction EX_octa_prod_c at 0x22854160340>,\n",
       " <Reaction EX_octa_cons_c at 0x22854160400>,\n",
       " <Reaction EX_urea_c at 0x22854160580>,\n",
       " <Reaction EX_gln__L_c at 0x22854160640>,\n",
       " <Reaction EX_acetone_c at 0x228541604c0>,\n",
       " <Reaction EX_bhb_c at 0x22854160700>,\n",
       " <Reaction EX_glu__L_c at 0x22854160880>,\n",
       " <Reaction EX_ser__L_c at 0x22854160940>,\n",
       " <Reaction EX_cys__L_c at 0x228541607c0>,\n",
       " <Reaction EX_gly_c at 0x22854160a00>,\n",
       " <Reaction EX_glygn2_c at 0x22854160ac0>,\n",
       " <Reaction EX_Tyr_ggn_c at 0x22854160b80>,\n",
       " <Reaction EX_ala__L_c at 0x22854160c40>,\n",
       " <Reaction EX_nh4_c at 0x22854160d00>,\n",
       " <Reaction EX_so3_c at 0x22854160dc0>,\n",
       " <Reaction EX_etoh_c at 0x22854160e80>,\n",
       " <Reaction EX_glyc_3octa_c at 0x22854160f40>,\n",
       " <Reaction EX_fru_c at 0x22854160040>,\n",
       " <Reaction EX_glc__D_e at 0x2285a7cc610>,\n",
       " <Reaction GLCt1 at 0x2285c49ac70>,\n",
       " <Reaction SK_g6p_c at 0x22854905c10>]"
      ]
     },
     "execution_count": 16,
     "metadata": {},
     "output_type": "execute_result"
    }
   ],
   "source": [
    "core_model.reactions"
   ]
  },
  {
   "cell_type": "code",
   "execution_count": 17,
   "metadata": {},
   "outputs": [
    {
     "name": "stdout",
     "output_type": "stream",
     "text": [
      "GLCter -0.001682007621\n",
      "G6PPer 0.001682007621\n",
      "G6Pter 0.001682007621\n",
      "GLPASE1 0.0002227316028\n",
      "PGMT 0.0002227316028\n",
      "EX_glygn2_c -0.0002227316028\n",
      "GAPD -0.002918552036\n",
      "PGK 0.002918552036\n",
      "PGM 0.002918552036\n",
      "ENO -0.002918552036\n",
      "PEPCKm 0.00487705406\n",
      "PCm 0.004685044058\n",
      "LDH_L 0.002726542034\n",
      "PYK 0.001950821624\n",
      "ME2 0.001950821624\n",
      "CSm 0.002903191236\n",
      "MDHm 0.003095201238\n",
      "EX_glc__D_e 0.001682007621\n",
      "GLCt1 -0.001682007621\n",
      "EX_lac__L_c -0.0005484158966\n",
      "EX_pyr_c -7.774254584e-05\n",
      "TPI 0.0\n",
      "FBA -0.002918552036\n",
      "FBP 0.0032104072395999998\n",
      "PFK 0.0002918552036\n",
      "PGI -0.002918552036\n"
     ]
    }
   ],
   "source": [
    "for rid, flux in flux_df.itertuples():\n",
    "    reaction = core_model.reactions.get_by_id(rid)\n",
    "    #reaction.bounds = (flux, flux)\n",
    "    #set bounds for all boundary reactions \n",
    "    #uptake --> (-value, 1000)\n",
    "    #secretion --> (-1000 --> value)\n",
    "    #reversible --> (-1000,1000)\n",
    "    if (rid == \"EX_lac__L_c\"): #uptake\n",
    "        reaction = core_model.reactions.get_by_id(rid)\n",
    "        reaction.bounds = (0,1000) \n",
    "    elif (rid == \"EX_glc__L_e\"): #secretion\n",
    "        reaction = core_model.reactions.get_by_id(rid)\n",
    "        reaction.bounds = (-1000, 0) \n",
    "    elif (rid == \"EX_pyr_c\"): #uptake\n",
    "        reaction = core_model.reactions.get_by_id(rid)\n",
    "        reaction.bounds = (0, 1000) \n",
    "    elif (rid == \"EX_glygn2_c\"): #uptake\n",
    "        reaction = core_model.reactions.get_by_id(rid)\n",
    "        reaction.bounds = (-1, 1000) \n",
    "    for irreversible_enzyme_pair in irreversible_enzyme_pairs:\n",
    "        if rid in irreversible_enzyme_pair:\n",
    "            flux1, flux2 = flux_df.loc[irreversible_enzyme_pairs, \"Flux (mmol/gDW*hr)\"].values\n",
    "            if flux1 == 0:\n",
    "                flux += reverse_flux_percent * flux2 # mmol*gDW^-1*hr^-1\n",
    "            if flux2 == 0:\n",
    "                flux += reverse_flux_percent * flux1 # mmol*gDW^-1*hr^-1\n",
    "   \n",
    "    #address irreversible enzyme pair boundary reactions if necessary\n",
    "\n",
    "    print(rid, flux)\n",
    "\n",
    "    v_vars.append(sym.Symbol(rid))\n",
    "    v_data.append(flux)\n",
    "    \n",
    "#print(v_vars)\n",
    "#print(v_data)\n"
   ]
  },
  {
   "cell_type": "code",
   "execution_count": 18,
   "metadata": {},
   "outputs": [],
   "source": [
    "# Make symbolic for optlang objective \n",
    "v_vars = sym.Matrix(v_vars)\n",
    "v_data = sym.Matrix(v_data)\n",
    "\n",
    "F = sym.Matrix(2 * sym.eye(len(v_vars)))\n",
    "\n",
    "objective = 0.5 * v_vars.T * F * v_vars  - (2 * v_data).T * v_vars\n",
    "core_model.objective = objective[0]\n",
    "core_model.objective_direction = \"min\"\n",
    "\n",
    "flux_solution = core_model.optimize()"
   ]
  },
  {
   "cell_type": "code",
   "execution_count": 19,
   "metadata": {},
   "outputs": [
    {
     "data": {
      "text/html": [
       "<strong><em>Optimal</em> solution with objective value -0.000</strong><br><div>\n",
       "<style scoped>\n",
       "    .dataframe tbody tr th:only-of-type {\n",
       "        vertical-align: middle;\n",
       "    }\n",
       "\n",
       "    .dataframe tbody tr th {\n",
       "        vertical-align: top;\n",
       "    }\n",
       "\n",
       "    .dataframe thead th {\n",
       "        text-align: right;\n",
       "    }\n",
       "</style>\n",
       "<table border=\"1\" class=\"dataframe\">\n",
       "  <thead>\n",
       "    <tr style=\"text-align: right;\">\n",
       "      <th></th>\n",
       "      <th>fluxes</th>\n",
       "      <th>reduced_costs</th>\n",
       "    </tr>\n",
       "  </thead>\n",
       "  <tbody>\n",
       "    <tr>\n",
       "      <th>CSm</th>\n",
       "      <td>0.000657</td>\n",
       "      <td>0.004492</td>\n",
       "    </tr>\n",
       "    <tr>\n",
       "      <th>ACONTm</th>\n",
       "      <td>0.000657</td>\n",
       "      <td>0.000000</td>\n",
       "    </tr>\n",
       "    <tr>\n",
       "      <th>ICDHxm</th>\n",
       "      <td>0.000657</td>\n",
       "      <td>0.000000</td>\n",
       "    </tr>\n",
       "    <tr>\n",
       "      <th>AKGDm</th>\n",
       "      <td>0.000657</td>\n",
       "      <td>0.000000</td>\n",
       "    </tr>\n",
       "    <tr>\n",
       "      <th>SUCOASm</th>\n",
       "      <td>-0.000657</td>\n",
       "      <td>0.000000</td>\n",
       "    </tr>\n",
       "    <tr>\n",
       "      <th>...</th>\n",
       "      <td>...</td>\n",
       "      <td>...</td>\n",
       "    </tr>\n",
       "    <tr>\n",
       "      <th>EX_glyc_3octa_c</th>\n",
       "      <td>-0.000000</td>\n",
       "      <td>0.000000</td>\n",
       "    </tr>\n",
       "    <tr>\n",
       "      <th>EX_fru_c</th>\n",
       "      <td>0.000000</td>\n",
       "      <td>0.032422</td>\n",
       "    </tr>\n",
       "    <tr>\n",
       "      <th>EX_glc__D_e</th>\n",
       "      <td>0.001690</td>\n",
       "      <td>-0.000016</td>\n",
       "    </tr>\n",
       "    <tr>\n",
       "      <th>GLCt1</th>\n",
       "      <td>-0.001690</td>\n",
       "      <td>0.003364</td>\n",
       "    </tr>\n",
       "    <tr>\n",
       "      <th>SK_g6p_c</th>\n",
       "      <td>-0.000722</td>\n",
       "      <td>0.000000</td>\n",
       "    </tr>\n",
       "  </tbody>\n",
       "</table>\n",
       "<p>189 rows × 2 columns</p>\n",
       "</div>"
      ],
      "text/plain": [
       "<Solution -0.000 at 0x228567d3700>"
      ]
     },
     "execution_count": 19,
     "metadata": {},
     "output_type": "execute_result"
    }
   ],
   "source": [
    "flux_solution"
   ]
  },
  {
   "cell_type": "code",
   "execution_count": 20,
   "metadata": {},
   "outputs": [
    {
     "data": {
      "image/png": "[encoded data removed]",
      "text/plain": [
       "<Figure size 360x360 with 1 Axes>"
      ]
     },
     "metadata": {
      "needs_background": "light"
     },
     "output_type": "display_data"
    }
   ],
   "source": [
    "flux_comparison_fig, ax = plt.subplots(nrows=1, ncols=1, figsize=(5, 5))\n",
    "plot_comparison(\n",
    "    x=flux_df[\"Flux (mmol/gDW*hr)\"], y=flux_solution, compare=\"fluxes\",\n",
    "    observable=[rid for rid in flux_df.index], ax=ax,\n",
    "    legend=\"right outside\", plot_function=\"plot\",\n",
    "    xlim=(-0.005,0.005), ylim=(-0.005, 0.005),\n",
    "    xy_line=True,\n",
    "    xy_legend=\"best\", xlabel=\"Measured [mmol/(gDW * h)]\", ylabel=\"Adjusted [mmol/(gDW * h)]\")\n",
    "\n",
    "flux_comparison_fig.tight_layout()\n",
    "#check directionality \n"
   ]
  },
  {
   "cell_type": "markdown",
   "metadata": {},
   "source": [
    "## Create MASS model"
   ]
  },
  {
   "cell_type": "code",
   "execution_count": 21,
   "metadata": {},
   "outputs": [
    {
     "data": {
      "text/html": [
       "\n",
       "            <table>\n",
       "                <tr>\n",
       "                    <td><strong>Name</strong></td><td>Glycogenolysis</td>\n",
       "                </tr><tr>\n",
       "                    <td><strong>Memory address</strong></td><td>0x022855335c10</td>\n",
       "                </tr><tr>\n",
       "                    <td><strong>Stoichiometric Matrix</strong></td>\n",
       "                    <td>0x0</td>\n",
       "                </tr><tr>\n",
       "                    <td><strong>Matrix Rank</strong></td>\n",
       "                    <td>0</td>\n",
       "                </tr><tr>\n",
       "                    <td><strong>Number of metabolites</strong></td>\n",
       "                    <td>0</td>\n",
       "                </tr><tr>\n",
       "                    <td><strong>Initial conditions defined</strong></td>\n",
       "                    <td>0/0</td>\n",
       "                </tr><tr>\n",
       "                    <td><strong>Number of reactions</strong></td>\n",
       "                    <td>0</td>\n",
       "                </tr><tr>\n",
       "                    <td><strong>Number of genes</strong></td>\n",
       "                    <td>0</td>\n",
       "                </tr><tr>\n",
       "                    <td><strong>Number of enzyme modules</strong></td>\n",
       "                    <td>0</td>\n",
       "                </tr><tr>\n",
       "                    <td><strong>Number of groups</strong></td>\n",
       "                    <td>0</td>\n",
       "                </tr><tr>\n",
       "                    <td><strong>Objective expression</strong></td>\n",
       "                    <td>0</td>\n",
       "                </tr><tr>\n",
       "                    <td><strong>Compartments</strong></td>\n",
       "                    <td></td>\n",
       "                </tr>\n",
       "            </table>\n",
       "        "
      ],
      "text/plain": [
       "<MassModel Glycogenolysis at 0x22855335c10>"
      ]
     },
     "execution_count": 21,
     "metadata": {},
     "output_type": "execute_result"
    }
   ],
   "source": [
    "glycogenolysis = MassModel(\"Glycogenolysis\", array_type='DataFrame', dtype=np.int64)\n",
    "glycogenolysis"
   ]
  },
  {
   "cell_type": "markdown",
   "metadata": {},
   "source": [
    "### Define reactions"
   ]
  },
  {
   "cell_type": "code",
   "execution_count": 22,
   "metadata": {},
   "outputs": [],
   "source": [
    "#add reactions one at a time\n",
    "reaction_list=[]\n",
    "reaction_list = ['HEX1',\n",
    "                  'GLCt1'\n",
    "#                  'G6Pter',\n",
    "#                  'G6PPer'\n",
    "#                 #'PGI',\n",
    "#                 #'FBP',\n",
    "#                 'PFK',\n",
    "#                 'FBA',\n",
    "#                 'TPI',\n",
    "#                 'GAPD',\n",
    "#                 'PGK',\n",
    "#                 'PGM',\n",
    "#                 'ENO',\n",
    "#                 #'PEPtm',\n",
    "#                 #'PEPCKm',\n",
    "#                 #'LDH_L',\n",
    "#                 'PYK'\n",
    "#                 #'PCm',\n",
    "#                 #'PYRt2m'\n",
    "                ]\n",
    "\n",
    "# a= R3D.reactions.EX_glc__D_e\n",
    "# b= R3D.reactions.GLCt1\n",
    "# g= gly.reactions.SK_g6p_c\n",
    "# new_r_list=[\n",
    "#             a,\n",
    "#             b,\n",
    "#             g\n",
    "    \n",
    "# ]\n"
   ]
  },
  {
   "cell_type": "code",
   "execution_count": 23,
   "metadata": {},
   "outputs": [],
   "source": [
    "# Convert cobra.Reactions to mass.MassReactions\n",
    "for rid in reaction_list:\n",
    "    reaction = core_model.reactions.get_by_id(rid)\n",
    "    glycogenolysis.add_reactions([MassReaction(reaction)])"
   ]
  },
  {
   "cell_type": "code",
   "execution_count": 24,
   "metadata": {},
   "outputs": [
    {
     "data": {
      "text/html": [
       "<strong><em>Optimal</em> solution with objective value -0.000</strong><br><div>\n",
       "<style scoped>\n",
       "    .dataframe tbody tr th:only-of-type {\n",
       "        vertical-align: middle;\n",
       "    }\n",
       "\n",
       "    .dataframe tbody tr th {\n",
       "        vertical-align: top;\n",
       "    }\n",
       "\n",
       "    .dataframe thead th {\n",
       "        text-align: right;\n",
       "    }\n",
       "</style>\n",
       "<table border=\"1\" class=\"dataframe\">\n",
       "  <thead>\n",
       "    <tr style=\"text-align: right;\">\n",
       "      <th></th>\n",
       "      <th>fluxes</th>\n",
       "      <th>reduced_costs</th>\n",
       "    </tr>\n",
       "  </thead>\n",
       "  <tbody>\n",
       "    <tr>\n",
       "      <th>CSm</th>\n",
       "      <td>0.000657</td>\n",
       "      <td>0.004492</td>\n",
       "    </tr>\n",
       "    <tr>\n",
       "      <th>ACONTm</th>\n",
       "      <td>0.000657</td>\n",
       "      <td>0.000000</td>\n",
       "    </tr>\n",
       "    <tr>\n",
       "      <th>ICDHxm</th>\n",
       "      <td>0.000657</td>\n",
       "      <td>0.000000</td>\n",
       "    </tr>\n",
       "    <tr>\n",
       "      <th>AKGDm</th>\n",
       "      <td>0.000657</td>\n",
       "      <td>0.000000</td>\n",
       "    </tr>\n",
       "    <tr>\n",
       "      <th>SUCOASm</th>\n",
       "      <td>-0.000657</td>\n",
       "      <td>0.000000</td>\n",
       "    </tr>\n",
       "    <tr>\n",
       "      <th>...</th>\n",
       "      <td>...</td>\n",
       "      <td>...</td>\n",
       "    </tr>\n",
       "    <tr>\n",
       "      <th>EX_glyc_3octa_c</th>\n",
       "      <td>-0.000000</td>\n",
       "      <td>0.000000</td>\n",
       "    </tr>\n",
       "    <tr>\n",
       "      <th>EX_fru_c</th>\n",
       "      <td>0.000000</td>\n",
       "      <td>0.032422</td>\n",
       "    </tr>\n",
       "    <tr>\n",
       "      <th>EX_glc__D_e</th>\n",
       "      <td>0.001690</td>\n",
       "      <td>-0.000016</td>\n",
       "    </tr>\n",
       "    <tr>\n",
       "      <th>GLCt1</th>\n",
       "      <td>-0.001690</td>\n",
       "      <td>0.003364</td>\n",
       "    </tr>\n",
       "    <tr>\n",
       "      <th>SK_g6p_c</th>\n",
       "      <td>-0.000722</td>\n",
       "      <td>0.000000</td>\n",
       "    </tr>\n",
       "  </tbody>\n",
       "</table>\n",
       "<p>189 rows × 2 columns</p>\n",
       "</div>"
      ],
      "text/plain": [
       "<Solution -0.000 at 0x228567d3700>"
      ]
     },
     "execution_count": 24,
     "metadata": {},
     "output_type": "execute_result"
    }
   ],
   "source": [
    "flux_solution"
   ]
  },
  {
   "cell_type": "markdown",
   "metadata": {},
   "source": [
    "##  Set Fluxes"
   ]
  },
  {
   "cell_type": "code",
   "execution_count": 25,
   "metadata": {},
   "outputs": [
    {
     "name": "stdout",
     "output_type": "stream",
     "text": [
      "v_HEX1: 0.0013421134913894743\n",
      "v_GLCt1: -0.0021610252702108745\n"
     ]
    }
   ],
   "source": [
    "for reaction, flux in flux_solution[reaction_list].iteritems():\n",
    "    reaction = glycogenolysis.reactions.get_by_id(reaction)\n",
    "    reaction.steady_state_flux = flux * 1278.605 / 1000 \n",
    "    # mmol/gdW*hr --> mmol/L * hr ---> mol/L*hr\n",
    "    print(\"{0}: {1}\".format(reaction.flux_symbol_str,\n",
    "                            reaction.steady_state_flux))"
   ]
  },
  {
   "cell_type": "markdown",
   "metadata": {},
   "source": [
    "## Set Keqs"
   ]
  },
  {
   "cell_type": "code",
   "execution_count": 26,
   "metadata": {},
   "outputs": [
    {
     "data": {
      "text/html": [
       "<div>\n",
       "<style scoped>\n",
       "    .dataframe tbody tr th:only-of-type {\n",
       "        vertical-align: middle;\n",
       "    }\n",
       "\n",
       "    .dataframe tbody tr th {\n",
       "        vertical-align: top;\n",
       "    }\n",
       "\n",
       "    .dataframe thead th {\n",
       "        text-align: right;\n",
       "    }\n",
       "</style>\n",
       "<table border=\"1\" class=\"dataframe\">\n",
       "  <thead>\n",
       "    <tr style=\"text-align: right;\">\n",
       "      <th></th>\n",
       "      <th>Equlibrium Constant</th>\n",
       "    </tr>\n",
       "    <tr>\n",
       "      <th>Reaction</th>\n",
       "      <th></th>\n",
       "    </tr>\n",
       "  </thead>\n",
       "  <tbody>\n",
       "    <tr>\n",
       "      <th>GLCt1</th>\n",
       "      <td>1.000000</td>\n",
       "    </tr>\n",
       "    <tr>\n",
       "      <th>HEX1</th>\n",
       "      <td>3000.000000</td>\n",
       "    </tr>\n",
       "    <tr>\n",
       "      <th>G6PPer</th>\n",
       "      <td>41.300000</td>\n",
       "    </tr>\n",
       "    <tr>\n",
       "      <th>G6Pter</th>\n",
       "      <td>2.761096</td>\n",
       "    </tr>\n",
       "    <tr>\n",
       "      <th>GLCter</th>\n",
       "      <td>1.000000</td>\n",
       "    </tr>\n",
       "  </tbody>\n",
       "</table>\n",
       "</div>"
      ],
      "text/plain": [
       "          Equlibrium Constant\n",
       "Reaction                     \n",
       "GLCt1                1.000000\n",
       "HEX1              3000.000000\n",
       "G6PPer              41.300000\n",
       "G6Pter               2.761096\n",
       "GLCter               1.000000"
      ]
     },
     "execution_count": 26,
     "metadata": {},
     "output_type": "execute_result"
    }
   ],
   "source": [
    "# Load equilibrium constants\n",
    "Keq_df = pd.read_excel(engine='openpyxl',\n",
    "    io=data_sheet,\n",
    "    sheet_name=\"Keqs\",\n",
    "    index_col=0).drop(\"Reference\", axis=1).drop(\"Stoichiometry\", axis=1).drop('Keq unit', axis=1)\n",
    "\n",
    "Keq_df = Keq_df.dropna() #drops rows with NaN\n",
    "Keq_df\n",
    "\n",
    "Keq_df"
   ]
  },
  {
   "cell_type": "code",
   "execution_count": 27,
   "metadata": {},
   "outputs": [
    {
     "name": "stdout",
     "output_type": "stream",
     "text": [
      "Keq_GLCt1: 1.0\n",
      "Keq_HEX1: 3000.0\n"
     ]
    }
   ],
   "source": [
    "Keq_list =[]\n",
    "for rid, Keq in Keq_df.itertuples():\n",
    "    if rid in reaction_list: \n",
    "        reaction = glycogenolysis.reactions.get_by_id(rid)\n",
    "        reaction.Keq = Keq\n",
    "        Keq_list.append(reaction.Keq)\n",
    "        print(\"{0}: {1}\".format(reaction.Keq_str, Keq))"
   ]
  },
  {
   "cell_type": "markdown",
   "metadata": {},
   "source": [
    "## Set H2O/H Constants"
   ]
  },
  {
   "cell_type": "code",
   "execution_count": 28,
   "metadata": {},
   "outputs": [],
   "source": [
    "# Set concentrations of hydrogen, water as fixed\n",
    "# Assume hydrogen in all compartments are fixed \n",
    "for metabolite in [\n",
    "#     \"h2o_c\",\n",
    "    \"h_c\",\n",
    "#     \"glc__D_e\",\n",
    "#     'h20_r'\n",
    "    \n",
    "       #'h_i'\n",
    "       #'h_m' \n",
    "    #remove h_i and h_m if not mitochondrial reactions\n",
    "                  ]:\n",
    "    metabolite = glycogenolysis.metabolites.get_by_id(metabolite)\n",
    "    metabolite.fixed = True"
   ]
  },
  {
   "cell_type": "markdown",
   "metadata": {},
   "source": [
    "## Obtain Concentrations"
   ]
  },
  {
   "cell_type": "code",
   "execution_count": 29,
   "metadata": {},
   "outputs": [
    {
     "data": {
      "text/html": [
       "<div>\n",
       "<style scoped>\n",
       "    .dataframe tbody tr th:only-of-type {\n",
       "        vertical-align: middle;\n",
       "    }\n",
       "\n",
       "    .dataframe tbody tr th {\n",
       "        vertical-align: top;\n",
       "    }\n",
       "\n",
       "    .dataframe thead th {\n",
       "        text-align: right;\n",
       "    }\n",
       "</style>\n",
       "<table border=\"1\" class=\"dataframe\">\n",
       "  <thead>\n",
       "    <tr style=\"text-align: right;\">\n",
       "      <th></th>\n",
       "      <th>Name</th>\n",
       "      <th>Concentration(M)</th>\n",
       "    </tr>\n",
       "    <tr>\n",
       "      <th>ID</th>\n",
       "      <th></th>\n",
       "      <th></th>\n",
       "    </tr>\n",
       "  </thead>\n",
       "  <tbody>\n",
       "    <tr>\n",
       "      <th>glc__D_c</th>\n",
       "      <td>D-Glucose</td>\n",
       "      <td>0.010483</td>\n",
       "    </tr>\n",
       "    <tr>\n",
       "      <th>atp_c</th>\n",
       "      <td>ATP C10H12N5O13P3</td>\n",
       "      <td>0.004727</td>\n",
       "    </tr>\n",
       "    <tr>\n",
       "      <th>adp_c</th>\n",
       "      <td>ADP C10H12N5O10P2</td>\n",
       "      <td>0.001995</td>\n",
       "    </tr>\n",
       "    <tr>\n",
       "      <th>g6p_c</th>\n",
       "      <td>D-Glucose 6-phosphate</td>\n",
       "      <td>0.000140</td>\n",
       "    </tr>\n",
       "    <tr>\n",
       "      <th>g6p_r</th>\n",
       "      <td>D-Glucose 6-phosphate</td>\n",
       "      <td>0.000387</td>\n",
       "    </tr>\n",
       "    <tr>\n",
       "      <th>pi_r</th>\n",
       "      <td>Phosphate</td>\n",
       "      <td>0.009744</td>\n",
       "    </tr>\n",
       "  </tbody>\n",
       "</table>\n",
       "</div>"
      ],
      "text/plain": [
       "                           Name  Concentration(M)\n",
       "ID                                               \n",
       "glc__D_c              D-Glucose          0.010483\n",
       "atp_c         ATP C10H12N5O13P3          0.004727\n",
       "adp_c         ADP C10H12N5O10P2          0.001995\n",
       "g6p_c     D-Glucose 6-phosphate          0.000140\n",
       "g6p_r     D-Glucose 6-phosphate          0.000387\n",
       "pi_r                  Phosphate          0.009744"
      ]
     },
     "execution_count": 29,
     "metadata": {},
     "output_type": "execute_result"
    }
   ],
   "source": [
    "#Load Concentration Data\n",
    "conc_df = load_data(\n",
    "    filepath=data_sheet,\n",
    "    sheet_name=\"Concentrations\").drop(\"Concentration (mM)\", axis=1)\n",
    "#conc_df = conc_df.drop(\"Name\", axis=1)\n",
    "conc_df = conc_df.drop(\"Additional Notes\", axis=1)\n",
    "conc_df = conc_df.dropna() #drops rows with NaN\n",
    "conc_df"
   ]
  },
  {
   "cell_type": "code",
   "execution_count": 30,
   "metadata": {},
   "outputs": [],
   "source": [
    "#Set Concentrations\n",
    "\n",
    "metabolite_list = [\n",
    "# HEX1    \n",
    "    'glc__D_c',\n",
    "    'g6p_c',\n",
    "    'adp_c',\n",
    "    'atp_c',\n",
    "    #'pi_c',\n",
    "    'h_c',\n",
    "# GLCt1\n",
    "    'glc__D_e'\n",
    "# #G6Pter\n",
    "#             'g6p_r',\n",
    "# #G6PPer \n",
    "#             'h2o_r',\n",
    "#             'glc__D_r',\n",
    "#             'pi_r'\n",
    "            \n",
    "                  ]"
   ]
  },
  {
   "cell_type": "code",
   "execution_count": 31,
   "metadata": {},
   "outputs": [],
   "source": [
    "met_list = []\n",
    "for mid, name, conc in conc_df.itertuples():\n",
    "    if mid in metabolite_list: \n",
    "        metabolite = glycogenolysis.metabolites.get_by_id(mid)\n",
    "        metabolite.name = name\n",
    "        \n",
    "        metabolite.ic = conc #data sheet is in M units\n",
    "        met_list.append(metabolite.ic)"
   ]
  },
  {
   "cell_type": "code",
   "execution_count": 32,
   "metadata": {},
   "outputs": [
    {
     "name": "stdout",
     "output_type": "stream",
     "text": [
      "adp_c: 0.00199495195\n",
      "atp_c: 0.004727145980000001\n",
      "g6p_c: 0.00014000000000000001\n",
      "glc__D_c: 0.01048280703\n",
      "h_c: 1\n",
      "glc__D_e: 0.01048280703\n"
     ]
    }
   ],
   "source": [
    "for metabolite in [\n",
    "    #'h_i',\n",
    "    #'h_m',\n",
    "    \"h_c\", \n",
    "    #\"h2o_c\"\n",
    "#'h20_r'\n",
    "]:\n",
    "    metabolite = glycogenolysis.metabolites.get_by_id(metabolite)\n",
    "    metabolite.ic = 1 #M\n",
    "    \n",
    "glycogenolysis.metabolites.glc__D_e.ic= glycogenolysis.metabolites.glc__D_c.ic\n",
    "\n",
    "for metabolite in glycogenolysis.metabolites:\n",
    "    print(\"{0}: {1}\".format(metabolite.id, metabolite.ic))"
   ]
  },
  {
   "cell_type": "code",
   "execution_count": 33,
   "metadata": {},
   "outputs": [
    {
     "data": {
      "text/html": [
       "<strong><em>Optimal</em> solution with objective value 0.000</strong><br><div>\n",
       "<style scoped>\n",
       "    .dataframe tbody tr th:only-of-type {\n",
       "        vertical-align: middle;\n",
       "    }\n",
       "\n",
       "    .dataframe tbody tr th {\n",
       "        vertical-align: top;\n",
       "    }\n",
       "\n",
       "    .dataframe thead th {\n",
       "        text-align: right;\n",
       "    }\n",
       "</style>\n",
       "<table border=\"1\" class=\"dataframe\">\n",
       "  <thead>\n",
       "    <tr style=\"text-align: right;\">\n",
       "      <th></th>\n",
       "      <th>variables</th>\n",
       "      <th>reduced_costs</th>\n",
       "    </tr>\n",
       "  </thead>\n",
       "  <tbody>\n",
       "    <tr>\n",
       "      <th>adp_c</th>\n",
       "      <td>0.001995</td>\n",
       "      <td>0.0</td>\n",
       "    </tr>\n",
       "    <tr>\n",
       "      <th>atp_c</th>\n",
       "      <td>0.004727</td>\n",
       "      <td>0.0</td>\n",
       "    </tr>\n",
       "    <tr>\n",
       "      <th>g6p_c</th>\n",
       "      <td>0.000140</td>\n",
       "      <td>0.0</td>\n",
       "    </tr>\n",
       "    <tr>\n",
       "      <th>glc__D_c</th>\n",
       "      <td>0.014630</td>\n",
       "      <td>0.0</td>\n",
       "    </tr>\n",
       "    <tr>\n",
       "      <th>glc__D_e</th>\n",
       "      <td>0.007511</td>\n",
       "      <td>0.0</td>\n",
       "    </tr>\n",
       "    <tr>\n",
       "      <th>Keq_HEX1</th>\n",
       "      <td>3000.000000</td>\n",
       "      <td>0.0</td>\n",
       "    </tr>\n",
       "    <tr>\n",
       "      <th>Keq_GLCt1</th>\n",
       "      <td>0.716531</td>\n",
       "      <td>0.0</td>\n",
       "    </tr>\n",
       "  </tbody>\n",
       "</table>\n",
       "</div>"
      ],
      "text/plain": [
       "<Solution 0.000 at 0x228549572e0>"
      ]
     },
     "execution_count": 33,
     "metadata": {},
     "output_type": "execute_result"
    }
   ],
   "source": [
    "#Formulate QP minimization list for concentrations\n",
    "## double check this?\n",
    "conc_solver = ConcSolver(\n",
    "    glycogenolysis, # bc only want metabolites in glycogenolysis \n",
    "    excluded_metabolites=[\n",
    "        #'h_i', 'h_m', 'co2_m', 'gdp_m', 'gtp_m', 'hco3_m'\n",
    "        \"h_c\", \n",
    "        #\"h2o_c\",'13dpg_c'\n",
    "    ],\n",
    "    constraint_buffer=1)\n",
    "\n",
    "conc_solver.setup_feasible_qp_problem(\n",
    "fixed_conc_bounds=list(glycogenolysis.fixed))\n",
    "fixed_Keq_bounds=glycogenolysis.reactions.list_attr(\"Keq_str\")\n",
    "    \n",
    "#assumption: provide uncertainity to allow for a variance for the Keqs rather than staying fixed\n",
    "#conc_solver.setup_feasible_qp_problem(Keq_percent_deviation=0.1)\n",
    "\n",
    "conc_solution = conc_solver.optimize()\n",
    "conc_solution"
   ]
  },
  {
   "cell_type": "code",
   "execution_count": 34,
   "metadata": {},
   "outputs": [
    {
     "name": "stderr",
     "output_type": "stream",
     "text": [
      "mass\\visualization\\visualization_util.py:1269 UserWarning: Ignoring {'pi_r', 'g6p_r'}, only in one set of given values\n",
      "mass\\visualization\\visualization_util.py:806 UserWarning: Attempted to set non-positive left xlim on a log-scaled axis.\n",
      "Invalid limit will be ignored.\n",
      "mass\\visualization\\visualization_util.py:806 UserWarning: Attempted to set non-positive bottom ylim on a log-scaled axis.\n",
      "Invalid limit will be ignored.\n"
     ]
    },
    {
     "data": {
      "image/png": "[encoded data removed]",
      "text/plain": [
       "<Figure size 360x360 with 1 Axes>"
      ]
     },
     "metadata": {
      "needs_background": "light"
     },
     "output_type": "display_data"
    }
   ],
   "source": [
    "#Compare Results\n",
    "conc_comparison_fig, ax = plt.subplots(nrows=1, ncols=1,\n",
    "                                       figsize=(5, 5))\n",
    "\n",
    "plot_comparison(\n",
    "    x=conc_df[\"Concentration(M)\"], y=conc_solution,\n",
    "    compare=\"concentrations\",\n",
    "    observable=[mid for mid in conc_df.index], ax=ax,\n",
    "    legend=\"right outside\", plot_function=\"loglog\",\n",
    "    xlim=(0, 20), ylim=(0, 20), xy_line=True,\n",
    "    xy_legend=\"best\", xlabel=\"Initial [mol/L]\", ylabel=\"Adjusted [mol/L]\")\n",
    "\n",
    "conc_comparison_fig.tight_layout()\n",
    "update_model_with_concentration_solution(\n",
    "    glycogenolysis, conc_solution, concentrations=True, inplace=True);"
   ]
  },
  {
   "cell_type": "markdown",
   "metadata": {},
   "source": [
    "## Sample Concentrations"
   ]
  },
  {
   "cell_type": "code",
   "execution_count": 35,
   "metadata": {},
   "outputs": [
    {
     "data": {
      "text/html": [
       "<div>\n",
       "<style scoped>\n",
       "    .dataframe tbody tr th:only-of-type {\n",
       "        vertical-align: middle;\n",
       "    }\n",
       "\n",
       "    .dataframe tbody tr th {\n",
       "        vertical-align: top;\n",
       "    }\n",
       "\n",
       "    .dataframe thead th {\n",
       "        text-align: right;\n",
       "    }\n",
       "</style>\n",
       "<table border=\"1\" class=\"dataframe\">\n",
       "  <thead>\n",
       "    <tr style=\"text-align: right;\">\n",
       "      <th></th>\n",
       "      <th>adp_c</th>\n",
       "      <th>atp_c</th>\n",
       "      <th>g6p_c</th>\n",
       "      <th>glc__D_c</th>\n",
       "      <th>glc__D_e</th>\n",
       "    </tr>\n",
       "  </thead>\n",
       "  <tbody>\n",
       "    <tr>\n",
       "      <th>0</th>\n",
       "      <td>0.003654</td>\n",
       "      <td>0.001531</td>\n",
       "      <td>0.000111</td>\n",
       "      <td>0.006823</td>\n",
       "      <td>0.001107</td>\n",
       "    </tr>\n",
       "    <tr>\n",
       "      <th>1</th>\n",
       "      <td>0.000571</td>\n",
       "      <td>0.001135</td>\n",
       "      <td>0.000789</td>\n",
       "      <td>0.012839</td>\n",
       "      <td>0.003689</td>\n",
       "    </tr>\n",
       "    <tr>\n",
       "      <th>2</th>\n",
       "      <td>0.010671</td>\n",
       "      <td>0.001391</td>\n",
       "      <td>0.000066</td>\n",
       "      <td>0.002028</td>\n",
       "      <td>0.000848</td>\n",
       "    </tr>\n",
       "    <tr>\n",
       "      <th>3</th>\n",
       "      <td>0.014204</td>\n",
       "      <td>0.006498</td>\n",
       "      <td>0.000314</td>\n",
       "      <td>0.053941</td>\n",
       "      <td>0.002023</td>\n",
       "    </tr>\n",
       "    <tr>\n",
       "      <th>4</th>\n",
       "      <td>0.007301</td>\n",
       "      <td>0.002004</td>\n",
       "      <td>0.000104</td>\n",
       "      <td>0.062034</td>\n",
       "      <td>0.001812</td>\n",
       "    </tr>\n",
       "  </tbody>\n",
       "</table>\n",
       "</div>"
      ],
      "text/plain": [
       "      adp_c     atp_c     g6p_c  glc__D_c  glc__D_e\n",
       "0  0.003654  0.001531  0.000111  0.006823  0.001107\n",
       "1  0.000571  0.001135  0.000789  0.012839  0.003689\n",
       "2  0.010671  0.001391  0.000066  0.002028  0.000848\n",
       "3  0.014204  0.006498  0.000314  0.053941  0.002023\n",
       "4  0.007301  0.002004  0.000104  0.062034  0.001812"
      ]
     },
     "execution_count": 35,
     "metadata": {},
     "output_type": "execute_result"
    }
   ],
   "source": [
    "conc_solver.setup_sampling_problem(\n",
    "    fixed_conc_bounds=list(glycogenolysis.fixed),\n",
    "    fixed_Keq_bounds=glycogenolysis.reactions.list_attr(\"Keq_str\"))\n",
    "for variable in conc_solver.variables:\n",
    "    try:\n",
    "        met = glycogenolysis.metabolites.get_by_id(variable.name)\n",
    "        variable.lb, variable.ub = np.log([met.ic / 10, met.ic * 10])\n",
    "    except:\n",
    "        pass\n",
    "conc_samples = sample_concentrations(conc_solver, n=n_models, seed=seed)\n",
    "conc_samples.head()"
   ]
  },
  {
   "cell_type": "markdown",
   "metadata": {},
   "source": [
    "## Set concentrations and balance models with pseudoreactions"
   ]
  },
  {
   "cell_type": "code",
   "execution_count": 36,
   "metadata": {},
   "outputs": [
    {
     "name": "stdout",
     "output_type": "stream",
     "text": [
      "Number of models in ensemble: 20\n",
      "[<MassModel Glycogenolysis_C0 at 0x2285bf8f280>, <MassModel Glycogenolysis_C1 at 0x2285c024220>, <MassModel Glycogenolysis_C2 at 0x2285c756f10>, <MassModel Glycogenolysis_C3 at 0x2285bbf2490>, <MassModel Glycogenolysis_C4 at 0x2285b995f40>, <MassModel Glycogenolysis_C5 at 0x2285b3baac0>, <MassModel Glycogenolysis_C6 at 0x2285b075910>, <MassModel Glycogenolysis_C7 at 0x2285a9077f0>, <MassModel Glycogenolysis_C8 at 0x228597283a0>, <MassModel Glycogenolysis_C9 at 0x2285940cc70>, <MassModel Glycogenolysis_C10 at 0x228579e7be0>, <MassModel Glycogenolysis_C11 at 0x2285c789a00>, <MassModel Glycogenolysis_C12 at 0x2285ac03b80>, <MassModel Glycogenolysis_C13 at 0x2285c7942e0>, <MassModel Glycogenolysis_C14 at 0x22859bd6730>, <MassModel Glycogenolysis_C15 at 0x2285a2df7c0>, <MassModel Glycogenolysis_C16 at 0x2285784a7f0>, <MassModel Glycogenolysis_C17 at 0x2285bb20250>, <MassModel Glycogenolysis_C18 at 0x2285751f580>, <MassModel Glycogenolysis_C19 at 0x2285c204400>]\n"
     ]
    }
   ],
   "source": [
    "models_for_ensemble = []\n",
    "for idx, conc_sample in conc_samples.iterrows():\n",
    "    # Make copy of new model\n",
    "    new_model = glycogenolysis.copy()\n",
    "    new_model.id += \"_C{0:d}\".format(idx)\n",
    "    # Get concentration sample and update model with sample\n",
    "    new_model.update_initial_conditions(conc_sample.to_dict())\n",
    "\n",
    "    # Determine imbalances in the reduced network\n",
    "    fluxes = np.array(list(new_model.steady_state_fluxes.values()))\n",
    "    imbalanced_metabolites = new_model.S.dot(fluxes)\n",
    "\n",
    "    # Iterate through metabolites\n",
    "    for mid, imbalance in imbalanced_metabolites.iteritems():\n",
    "        # Ignore balanced metabolites\n",
    "        if imbalance == 0:\n",
    "            continue\n",
    "        # Get metabolite object\n",
    "        met = new_model.metabolites.get_by_id(mid)\n",
    "\n",
    "        # Add boundary reactions for imbalanced metabolites\n",
    "        boundary_type = \"sink\"    \n",
    "        # Add boundary reaction with imbalance as flux value\n",
    "        boundary_reaction = new_model.add_boundary(\n",
    "            mid, boundary_type, boundary_condition=met.ic)\n",
    "        \n",
    "        boundary_reaction.Keq = 1\n",
    "        if imbalance < 0:\n",
    "            boundary_reaction.reverse_stoichiometry(inplace=True)\n",
    "            imbalance = -imbalance\n",
    "\n",
    "        boundary_reaction.kf = imbalance / met.ic\n",
    "        boundary_reaction.steady_state_flux = imbalance\n",
    "        try:\n",
    "            # Update PERCs\n",
    "            new_model.calculate_PERCs(\n",
    "                fluxes={\n",
    "                    r: v for r, v in new_model.steady_state_fluxes.items()\n",
    "                    if not r.boundary},\n",
    "                update_reactions=True)\n",
    "        except:\n",
    "            print(\"Negative PERCs for {0}\".format(new_model.id))\n",
    "            continue\n",
    "    models_for_ensemble.append(new_model)\n",
    "print(\"Number of models in ensemble: {0:d}\".format(\n",
    "    len(models_for_ensemble)))\n",
    "print(models_for_ensemble)"
   ]
  },
  {
   "cell_type": "code",
   "execution_count": 37,
   "metadata": {},
   "outputs": [],
   "source": [
    "## determine imbalances in the reduced network\n",
    "fluxes = np.array(list(glycogenolysis.steady_state_fluxes.values()))\n",
    "imbalanced_metabolites = glycogenolysis.S.dot(fluxes)\n",
    "\n",
    "# Iterate through metabolites\n",
    "for mid, imbalance in imbalanced_metabolites.iteritems():\n",
    "    # Ignore balanced metabolites\n",
    "    if imbalance == 0:\n",
    "        continue\n",
    "    # Get metabolite object\n",
    "    met = glycogenolysis.metabolites.get_by_id(mid)\n",
    "\n",
    "    # Add boundary reactions for imbalanced metabolites\n",
    "    boundary_type = \"sink\"    \n",
    "    # Add boundary reaction with imbalance as flux value\n",
    "    boundary_reaction = glycogenolysis.add_boundary(\n",
    "        mid, boundary_type, boundary_condition=met.ic)\n",
    "\n",
    "    boundary_reaction.Keq = 1\n",
    "    if imbalance < 0:\n",
    "        boundary_reaction.reverse_stoichiometry(inplace=True)\n",
    "        imbalance = -imbalance\n",
    "\n",
    "    boundary_reaction.kf = imbalance / met.ic\n",
    "    boundary_reaction.steady_state_flux = imbalance\n",
    "    try:\n",
    "        # Update PERCs\n",
    "        glycogenolysis.calculate_PERCs(\n",
    "            fluxes={\n",
    "                r: v for r, v in glycogenolysis.steady_state_fluxes.items()\n",
    "                if not r.boundary},\n",
    "            update_reactions=True)\n",
    "    except:\n",
    "        print(\"Negative PERCs for {0}\".format(new_model.id))\n",
    "        continue"
   ]
  },
  {
   "cell_type": "code",
   "execution_count": 38,
   "metadata": {},
   "outputs": [],
   "source": [
    "## balancing charges on reactions manually\n",
    "\n",
    "glycogenolysis.metabolites.h_c.charge=1"
   ]
  },
  {
   "cell_type": "code",
   "execution_count": 39,
   "metadata": {},
   "outputs": [
    {
     "name": "stdout",
     "output_type": "stream",
     "text": [
      "╒══════════════════════════════════════════╕\n",
      "│ MODEL ID: Glycogenolysis                 │\n",
      "│ SIMULATABLE: True                        │\n",
      "│ PARAMETERS NUMERICALY CONSISTENT: True   │\n",
      "╞══════════════════════════════════════════╡\n",
      "╘══════════════════════════════════════════╛\n"
     ]
    }
   ],
   "source": [
    "qcqa_model(glycogenolysis, parameters=True, concentrations=True,\n",
    "          fluxes=True, superfluous=True, elemental=True)\n"
   ]
  },
  {
   "cell_type": "code",
   "execution_count": 42,
   "metadata": {},
   "outputs": [
    {
     "data": {
      "text/plain": [
       "[]"
      ]
     },
     "execution_count": 42,
     "metadata": {},
     "output_type": "execute_result"
    }
   ],
   "source": [
    "glycogenolysis.genes\n",
    "#for x in range(len(glycogenolysis.genes)):\n",
    "#    a= glycogenolysis.genes[x]\n",
    "#    glycogenolysis.genes.remove(a)\n"
   ]
  },
  {
   "cell_type": "code",
   "execution_count": 45,
   "metadata": {},
   "outputs": [
    {
     "data": {
      "image/png": "[encoded data removed]",
      "text/plain": [
       "<Figure size 432x288 with 1 Axes>"
      ]
     },
     "metadata": {
      "needs_background": "light"
     },
     "output_type": "display_data"
    }
   ],
   "source": [
    "###RUN THIS FOR TIME PROFILE\n",
    "# Setup simulation object\n",
    "sim = Simulation(glycogenolysis, verbose=False)\n",
    "# Simulate from 0 to 1000 with 10001 points in the output\n",
    "conc_sol, flux_sol = sim.simulate(glycogenolysis, time=(0, 1e10, 1e4 + 1))\n",
    "# Quickly render and display time profiles\n",
    "conc_sol.view_time_profile()"
   ]
  },
  {
   "cell_type": "markdown",
   "metadata": {},
   "source": [
    "## Perturbation/Validation\n"
   ]
  },
  {
   "cell_type": "code",
   "execution_count": 46,
   "metadata": {},
   "outputs": [
    {
     "data": {
      "image/png": "[encoded data removed]",
      "text/plain": [
       "<Figure size 432x288 with 1 Axes>"
      ]
     },
     "metadata": {
      "needs_background": "light"
     },
     "output_type": "display_data"
    }
   ],
   "source": [
    "#perturbing it with half the amount of blood glucose --> literature\n",
    "conc_sol, flux_sol = sim.simulate(glycogenolysis, time=(0, 1e10, 1e4 + 1), \n",
    "    perturbations={\"glc__D_e\": \"glc__D_e * 0.5\"})\n",
    "\n",
    "conc_sol.view_time_profile()"
   ]
  },
  {
   "cell_type": "code",
   "execution_count": 48,
   "metadata": {},
   "outputs": [
    {
     "data": {
      "image/png": "[encoded data removed]",
      "text/plain": [
       "<Figure size 432x288 with 1 Axes>"
      ]
     },
     "metadata": {
      "needs_background": "light"
     },
     "output_type": "display_data"
    }
   ],
   "source": [
    "#perturbing it with double the amount of blood glucose --> literature\n",
    "conc_sol, flux_sol = sim.simulate(glycogenolysis, time=(0, 1e10, 1e4 + 1), \n",
    "    perturbations={\"glc__D_e\": \"glc__D_e * 2\"})\n",
    "\n",
    "conc_sol.view_time_profile()"
   ]
  },
  {
   "cell_type": "code",
   "execution_count": null,
   "metadata": {},
   "outputs": [],
   "source": [
    "fig_1, axes = plt.subplots(nrows=2, ncols=1, figsize=(10, 6));\n",
    "(ax1, ax2) = axes.flatten()\n",
    "L_FONT = {\"size\": \"large\"}\n",
    "plot_time_profile(\n",
    "    conc_sol, ax=ax1, legend=\"right outside\",\n",
    "    plot_function=\"semilogx\",\n",
    "    xlabel=\"Time [hr]\", ylabel=\"Concentration [mM]\",\n",
    "    title=(\"Concentration Profile\", L_FONT));\n",
    "\n",
    "plot_time_profile(\n",
    "    flux_sol, ax=ax2, legend=\"right outside\",\n",
    "    plot_function=\"semilogx\",\n",
    "    xlabel=\"Time [hr]\", ylabel=\"Flux [mol/L*hr]\",\n",
    "    title=(\"Flux Profile\", L_FONT));\n",
    "fig_1.tight_layout()\n",
    "\n"
   ]
  },
  {
   "cell_type": "code",
   "execution_count": null,
   "metadata": {},
   "outputs": [],
   "source": []
  },
  {
   "cell_type": "markdown",
   "metadata": {},
   "source": [
    "#### Ensure model is in steady state and export"
   ]
  },
  {
   "cell_type": "code",
   "execution_count": null,
   "metadata": {},
   "outputs": [],
   "source": [
    "# Whether to print messages as loop occurs. \n",
    "verbose = False\n",
    "# Ensure all models are simulated to a long time and that\n",
    "# there are enough time points to determine if model reached steady state.\n",
    "tfinal = 1e4\n",
    "\n",
    "sim = Simulation(reference_model=models_for_ensemble[0], verbose=verbose)\n",
    "sim.add_models(models_for_ensemble[1:], verbose=verbose, disable_safe_load=True)\n",
    "sim.integrator.absolute_tolerance = 1e-15\n",
    "sim.integrator.relative_tolerance = 1e-9\n",
    "\n",
    "models_to_export = []\n",
    "with warnings.catch_warnings():\n",
    "    warnings.simplefilter(\"ignore\")\n",
    "    for model in models_for_ensemble:\n",
    "        # Attempt to determine steady state\n",
    "        conc_sol, flux_sol = sim.find_steady_state(\n",
    "            models=model, strategy=\"simulate\", update_values=True,\n",
    "            tfinal=tfinal, \n",
    "            verbose=verbose)\n",
    "        if conc_sol and flux_sol:\n",
    "            continue\n",
    "        print(str(model) + \" first attempt failed.\")\n",
    "        # First attempt was not successful, lengthen time for second attempt\n",
    "        # Attempt to determine steady state\n",
    "        conc_sol, flux_sol = sim.find_steady_state(\n",
    "            models=model, strategy=\"simulate\", update_values=True,\n",
    "            tfinal=tfinal * 10, \n",
    "            verbose=verbose)\n",
    "        if conc_sol and flux_sol:\n",
    "            continue\n",
    "        print(str(model) + \" second attempt failed.\")\n",
    "        # Second attempt was not successful, lengthen time for second attempt\n",
    "        # Attempt to determine steady state\n",
    "        conc_sol, flux_sol = sim.find_steady_state(\n",
    "            models=model, strategy=\"simulate\", update_values=True,\n",
    "            tfinal=tfinal * 100, \n",
    "            verbose=verbose)\n",
    "        if conc_sol and flux_sol:\n",
    "            continue\n",
    "        print(str(model) + \" third attempt failed. Eliminating model.\")\n",
    "        # Third attempt was not successful, eliminate the model\n",
    "        sim.remove_models(models=model, verbose=verbose)"
   ]
  }
 ],
 "metadata": {
  "kernelspec": {
   "display_name": "Python 3",
   "language": "python",
   "name": "python3"
  },
  "language_info": {
   "codemirror_mode": {
    "name": "ipython",
    "version": 3
   },
   "file_extension": ".py",
   "mimetype": "text/x-python",
   "name": "python",
   "nbconvert_exporter": "python",
   "pygments_lexer": "ipython3",
   "version": "3.8.3"
  }
 },
 "nbformat": 4,
 "nbformat_minor": 4
}
