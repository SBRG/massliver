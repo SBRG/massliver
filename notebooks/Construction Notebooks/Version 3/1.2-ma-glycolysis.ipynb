{
 "cells": [
  {
   "cell_type": "markdown",
   "metadata": {},
   "source": [
    "# Liver Model Construction: Notebook-Glycolysis ONLY-trial"
   ]
  },
  {
   "cell_type": "markdown",
   "metadata": {},
   "source": [
    "## Setup workflow"
   ]
  },
  {
   "cell_type": "markdown",
   "metadata": {},
   "source": [
    "### Import packages"
   ]
  },
  {
   "cell_type": "code",
   "execution_count": 15,
   "metadata": {},
   "outputs": [
    {
     "name": "stdout",
     "output_type": "stream",
     "text": [
      "MASSpy version: 0.1.1\n"
     ]
    }
   ],
   "source": [
    "import os\n",
    "import warnings\n",
    "from cobra.io.json import load_json_model as load_json_cobra_model\n",
    "import escher\n",
    "import mass\n",
    "import numpy as np\n",
    "import pandas as pd\n",
    "import sympy as sy\n",
    "from cobra import Model, Reaction, Metabolite\n",
    "import cobra.test\n",
    "from os.path import join\n",
    "from mass.util import qcqa_model\n",
    "from cobra import DictList\n",
    "from mass import (\n",
    "    MassConfiguration, MassMetabolite, MassModel,\n",
    "    MassReaction, Simulation, UnitDefinition)\n",
    "from mass.io.json import save_json_model as save_json_mass_model\n",
    "from mass.visualization import plot_comparison, plot_time_profile\n",
    "mass_config = MassConfiguration()\n",
    "\n",
    "mass_config.irreversible_Keq = float(\"inf\")\n",
    "\n",
    "print(\"MASSpy version: {0}\".format(mass.__version__))\n",
    "\n",
    "import pandas as pd\n",
    "\n",
    "from six import iteritems\n",
    "\n",
    "import sympy as sym\n",
    "\n",
    "import matplotlib.pyplot as plt\n",
    "\n",
    "from mass.thermo import (\n",
    "    ConcSolver, sample_concentrations,\n",
    "    update_model_with_concentration_solution)"
   ]
  },
  {
   "cell_type": "code",
   "execution_count": 16,
   "metadata": {},
   "outputs": [
    {
     "name": "stdout",
     "output_type": "stream",
     "text": [
      "Requirement already satisfied: cplex in c:\\users\\mahim\\anaconda3\\lib\\site-packages (20.1.0.1)\n",
      "Note: you may need to restart the kernel to use updated packages.\n"
     ]
    }
   ],
   "source": [
    "pip install cplex"
   ]
  },
  {
   "cell_type": "markdown",
   "metadata": {},
   "source": [
    "## Set paths and constants"
   ]
  },
  {
   "cell_type": "code",
   "execution_count": 17,
   "metadata": {},
   "outputs": [],
   "source": [
    "seed = int(4)\n",
    "#increase number of models from before\n",
    "n_models = 20\n",
    "\n",
    "mass_config = MassConfiguration()\n",
    "mass_config.solver = \"cplex\"\n",
    "\n"
   ]
  },
  {
   "cell_type": "code",
   "execution_count": 18,
   "metadata": {},
   "outputs": [],
   "source": [
    "#for irreversible enzyme pair\n",
    "#add reverse_flux_percent here "
   ]
  },
  {
   "cell_type": "markdown",
   "metadata": {},
   "source": [
    "### Directory paths"
   ]
  },
  {
   "cell_type": "code",
   "execution_count": 19,
   "metadata": {},
   "outputs": [],
   "source": [
    "#had to remove the mass\n",
    "model_dir = os.path.abspath(\"../models\")\n",
    "maps_dir = os.path.abspath(\"../maps\")\n",
    "data_dir = os.path.abspath(\"../data\")\n",
    "# add to data directory"
   ]
  },
  {
   "cell_type": "code",
   "execution_count": 20,
   "metadata": {},
   "outputs": [],
   "source": [
    "# Allow Escher to close without pop-up\n",
    "escher.rc['never_ask_before_quit'] = True\n"
   ]
  },
  {
   "cell_type": "code",
   "execution_count": 21,
   "metadata": {},
   "outputs": [],
   "source": [
    "#set conversion factor gDW --> L later function"
   ]
  },
  {
   "cell_type": "markdown",
   "metadata": {},
   "source": [
    "# Create MASS model from COBRA model"
   ]
  },
  {
   "cell_type": "markdown",
   "metadata": {},
   "source": [
    "### Load COBRA model"
   ]
  },
  {
   "cell_type": "code",
   "execution_count": 22,
   "metadata": {},
   "outputs": [
    {
     "data": {
      "text/html": [
       "\n",
       "        <table>\n",
       "            <tr>\n",
       "                <td><strong>Name</strong></td>\n",
       "                <td>None</td>\n",
       "            </tr><tr>\n",
       "                <td><strong>Memory address</strong></td>\n",
       "                <td>0x02292acabd60</td>\n",
       "            </tr><tr>\n",
       "                <td><strong>Number of metabolites</strong></td>\n",
       "                <td>178</td>\n",
       "            </tr><tr>\n",
       "                <td><strong>Number of reactions</strong></td>\n",
       "                <td>187</td>\n",
       "            </tr><tr>\n",
       "                <td><strong>Number of groups</strong></td>\n",
       "                <td>0</td>\n",
       "            </tr><tr>\n",
       "                <td><strong>Objective expression</strong></td>\n",
       "                <td>1.0*ATPM - 1.0*ATPM_reverse_5b752</td>\n",
       "            </tr><tr>\n",
       "                <td><strong>Compartments</strong></td>\n",
       "                <td>m, i, c, r, </td>\n",
       "            </tr>\n",
       "          </table>"
      ],
      "text/plain": [
       "<Model None at 0x2292acabd60>"
      ]
     },
     "execution_count": 22,
     "metadata": {},
     "output_type": "execute_result"
    }
   ],
   "source": [
    "core_model=load_json_cobra_model(filename=os.path.join(model_dir,\"CoreModel.json\"))\n",
    "core_model"
   ]
  },
  {
   "cell_type": "code",
   "execution_count": 23,
   "metadata": {},
   "outputs": [
    {
     "data": {
      "text/html": [
       "\n",
       "        <table>\n",
       "            <tr>\n",
       "                <td><strong>Reaction identifier</strong></td><td>PYK</td>\n",
       "            </tr><tr>\n",
       "                <td><strong>Name</strong></td><td>Pyruvate kinase</td>\n",
       "            </tr><tr>\n",
       "                <td><strong>Memory address</strong></td>\n",
       "                <td>0x02292afcee80</td>\n",
       "            </tr><tr>\n",
       "                <td><strong>Stoichiometry</strong></td>\n",
       "                <td>\n",
       "                    <p style='text-align:right'>adp_c + h_c + pep_c --> atp_c + pyr_c</p>\n",
       "                    <p style='text-align:right'>ADP C10H12N5O10P2 + H+ + Phosphoenolpyruvate --> ATP C10H12N5O13P3 + Pyruvate</p>\n",
       "                </td>\n",
       "            </tr><tr>\n",
       "                <td><strong>GPR</strong></td><td>5315_AT2 or 5313_AT2 or 5315_AT3 or 5313_AT1 or 5315_AT1</td>\n",
       "            </tr><tr>\n",
       "                <td><strong>Lower bound</strong></td><td>0.0</td>\n",
       "            </tr><tr>\n",
       "                <td><strong>Upper bound</strong></td><td>1000.0</td>\n",
       "            </tr>\n",
       "        </table>\n",
       "        "
      ],
      "text/plain": [
       "<Reaction PYK at 0x2292afcee80>"
      ]
     },
     "execution_count": 23,
     "metadata": {},
     "output_type": "execute_result"
    }
   ],
   "source": [
    "core_model.reactions.PYK"
   ]
  },
  {
   "cell_type": "markdown",
   "metadata": {},
   "source": [
    "### View Escher Map\n"
   ]
  },
  {
   "cell_type": "code",
   "execution_count": 24,
   "metadata": {},
   "outputs": [
    {
     "data": {
      "application/vnd.jupyter.widget-view+json": {
       "model_id": "70dc9bd9338741b89992b78dafccebcc",
       "version_major": 2,
       "version_minor": 0
      },
      "text/plain": [
       "Builder(highlight_missing=True, never_ask_before_quit=True)"
      ]
     },
     "metadata": {},
     "output_type": "display_data"
    }
   ],
   "source": [
    "#view all the reactions that we need build\n",
    "escher_builder = escher.Builder(\n",
    "    model=core_model,\n",
    "    map_json=os.path.join(\n",
    "        maps_dir, \".\".join((\n",
    "            \"Glycolysis\", \"map\", \"json\"))\n",
    "    ),\n",
    "    highlight_missing=True)\n",
    "\n",
    "escher_builder\n"
   ]
  },
  {
   "cell_type": "code",
   "execution_count": 25,
   "metadata": {},
   "outputs": [],
   "source": [
    "def load_data(filepath, sheet_name):\n",
    "    \"\"\"Load Liver data from an excel sheet\"\"\"\n",
    "    df = pd.read_excel(engine='openpyxl',\n",
    "        io=filepath,\n",
    "        sheet_name=sheet_name,\n",
    "        index_col=0)\n",
    "    #df = df.drop(\"Fasting Time\", axis=1)\n",
    "    #df = df.drop(\"Additional Notes\", axis=1)\n",
    "    #df = df.drop(\"Flux (mmol/(L*hr))\", axis=1)\n",
    "    #df = df.drop(\"Name\", axis=1)\n",
    "    return df"
   ]
  },
  {
   "cell_type": "code",
   "execution_count": 70,
   "metadata": {},
   "outputs": [
    {
     "data": {
      "text/html": [
       "<div>\n",
       "<style scoped>\n",
       "    .dataframe tbody tr th:only-of-type {\n",
       "        vertical-align: middle;\n",
       "    }\n",
       "\n",
       "    .dataframe tbody tr th {\n",
       "        vertical-align: top;\n",
       "    }\n",
       "\n",
       "    .dataframe thead th {\n",
       "        text-align: right;\n",
       "    }\n",
       "</style>\n",
       "<table border=\"1\" class=\"dataframe\">\n",
       "  <thead>\n",
       "    <tr style=\"text-align: right;\">\n",
       "      <th></th>\n",
       "      <th>Flux(mmol/(gDW*hr))</th>\n",
       "    </tr>\n",
       "    <tr>\n",
       "      <th>ID</th>\n",
       "      <th></th>\n",
       "    </tr>\n",
       "  </thead>\n",
       "  <tbody>\n",
       "    <tr>\n",
       "      <th>GLCter</th>\n",
       "      <td>-0.001682</td>\n",
       "    </tr>\n",
       "    <tr>\n",
       "      <th>G6PPer</th>\n",
       "      <td>0.001682</td>\n",
       "    </tr>\n",
       "    <tr>\n",
       "      <th>G6Pter</th>\n",
       "      <td>0.001682</td>\n",
       "    </tr>\n",
       "    <tr>\n",
       "      <th>GLPASE1</th>\n",
       "      <td>0.000223</td>\n",
       "    </tr>\n",
       "    <tr>\n",
       "      <th>PGMT</th>\n",
       "      <td>0.000223</td>\n",
       "    </tr>\n",
       "    <tr>\n",
       "      <th>EX_glygn2_c</th>\n",
       "      <td>-0.000223</td>\n",
       "    </tr>\n",
       "    <tr>\n",
       "      <th>GAPD</th>\n",
       "      <td>-0.002919</td>\n",
       "    </tr>\n",
       "    <tr>\n",
       "      <th>PGK</th>\n",
       "      <td>0.002919</td>\n",
       "    </tr>\n",
       "    <tr>\n",
       "      <th>PGM</th>\n",
       "      <td>0.002919</td>\n",
       "    </tr>\n",
       "    <tr>\n",
       "      <th>ENO</th>\n",
       "      <td>-0.002919</td>\n",
       "    </tr>\n",
       "    <tr>\n",
       "      <th>PEPCKm</th>\n",
       "      <td>0.004877</td>\n",
       "    </tr>\n",
       "    <tr>\n",
       "      <th>PCm</th>\n",
       "      <td>0.004685</td>\n",
       "    </tr>\n",
       "    <tr>\n",
       "      <th>LDH_L</th>\n",
       "      <td>0.002727</td>\n",
       "    </tr>\n",
       "    <tr>\n",
       "      <th>ME2</th>\n",
       "      <td>0.001951</td>\n",
       "    </tr>\n",
       "    <tr>\n",
       "      <th>PYK</th>\n",
       "      <td>0.001951</td>\n",
       "    </tr>\n",
       "    <tr>\n",
       "      <th>CSm</th>\n",
       "      <td>0.002903</td>\n",
       "    </tr>\n",
       "    <tr>\n",
       "      <th>MDHm</th>\n",
       "      <td>0.003095</td>\n",
       "    </tr>\n",
       "    <tr>\n",
       "      <th>EX_lac__L_c</th>\n",
       "      <td>-0.001759</td>\n",
       "    </tr>\n",
       "    <tr>\n",
       "      <th>EX_glc__D_c</th>\n",
       "      <td>0.001682</td>\n",
       "    </tr>\n",
       "  </tbody>\n",
       "</table>\n",
       "</div>"
      ],
      "text/plain": [
       "             Flux(mmol/(gDW*hr))\n",
       "ID                              \n",
       "GLCter                 -0.001682\n",
       "G6PPer                  0.001682\n",
       "G6Pter                  0.001682\n",
       "GLPASE1                 0.000223\n",
       "PGMT                    0.000223\n",
       "EX_glygn2_c            -0.000223\n",
       "GAPD                   -0.002919\n",
       "PGK                     0.002919\n",
       "PGM                     0.002919\n",
       "ENO                    -0.002919\n",
       "PEPCKm                  0.004877\n",
       "PCm                     0.004685\n",
       "LDH_L                   0.002727\n",
       "ME2                     0.001951\n",
       "PYK                     0.001951\n",
       "CSm                     0.002903\n",
       "MDHm                    0.003095\n",
       "EX_lac__L_c            -0.001759\n",
       "EX_glc__D_c             0.001682"
      ]
     },
     "execution_count": 70,
     "metadata": {},
     "output_type": "execute_result"
    }
   ],
   "source": [
    "#define data sheet as latest data sheet\n",
    "data_sheet=os.path.join(data_dir,\"1.8-ma-data-collection.xlsx\")\n",
    "\n",
    "flux_df = load_data(\n",
    "    filepath=data_sheet,\n",
    "    sheet_name=\"Fluxes\")\n",
    "flux_df = flux_df.drop(\"Fasting Time\", axis=1)\n",
    "flux_df = flux_df.drop(\"Additional Notes\", axis=1)\n",
    "#flux_df = flux_df.drop(\"Flux (mmol/(L*hr))\", axis=1)\n",
    "flux_df = flux_df.drop(\"Unnamed: 4\", axis=1) ## weird anomaly, shouldn't happen\n",
    "flux_df = flux_df.drop(\"Unnamed: 5\", axis=1)## weird anomaly, shouldn't happen\n",
    "flux_df\n"
   ]
  },
  {
   "cell_type": "code",
   "execution_count": 71,
   "metadata": {},
   "outputs": [],
   "source": [
    "v_vars = []\n",
    "v_data = []\n"
   ]
  },
  {
   "cell_type": "code",
   "execution_count": 72,
   "metadata": {},
   "outputs": [],
   "source": [
    "# Set PFK/FBP irreversible enzyme pair \n",
    "#How much flux to allow through irreversible reaction pairs --> address when doing more than glycolysis\n",
    "#irreversible_enzyme_pairs = [\"PFK\", \"FBP\"]"
   ]
  },
  {
   "cell_type": "code",
   "execution_count": 74,
   "metadata": {},
   "outputs": [
    {
     "name": "stdout",
     "output_type": "stream",
     "text": [
      "GLCter -0.001682007621\n",
      "G6PPer 0.001682007621\n",
      "G6Pter 0.001682007621\n",
      "GLPASE1 0.0002227316028\n",
      "PGMT 0.0002227316028\n",
      "EX_glygn2_c -0.0002227316028\n",
      "GAPD -0.002918552036\n",
      "PGK 0.002918552036\n",
      "PGM 0.002918552036\n",
      "ENO -0.002918552036\n",
      "PEPCKm 0.00487705406\n",
      "PCm 0.004685044058\n",
      "LDH_L 0.002726542034\n",
      "ME2 0.001950821624\n",
      "PYK 0.001950821624\n",
      "CSm 0.002903191236\n",
      "MDHm 0.003095201238\n",
      "EX_lac__L_c -0.001758811622\n",
      "EX_glc__D_c 0.001682007621\n"
     ]
    }
   ],
   "source": [
    "for rid, flux in flux_df.itertuples():\n",
    "    reaction = core_model.reactions.get_by_id(rid)\n",
    "    #reaction.bounds = (flux, flux)\n",
    "    #set bounds for all boundary reactions \n",
    "    #uptake --> (-value, 1000)\n",
    "    #secretion --> (-1000 --> value)\n",
    "    #reversible --> (-1000,1000)\n",
    "    if (rid == \"EX_lac__L_c\"): #uptake\n",
    "        reaction = core_model.reactions.get_by_id(rid)\n",
    "        reaction.bounds = (0,1000) \n",
    "    elif (rid == \"EX_glc__L_c\"): #secretion\n",
    "        reaction = core_model.reactions.get_by_id(rid)\n",
    "        reaction.bounds = (-1000, 0) \n",
    "    elif (rid == \"EX_pyr_c\"): #uptake\n",
    "        reaction = core_model.reactions.get_by_id(rid)\n",
    "        reaction.bounds = (0, 1000) \n",
    "    elif (rid == \"EX_glygn2_c\"): #uptake\n",
    "        reaction = core_model.reactions.get_by_id(rid)\n",
    "        reaction.bounds = (-1, 1000) \n",
    "        \n",
    "#address irreversible enzyme pair boundary reactions if necessary\n",
    "\n",
    "    print(rid, flux)\n",
    "\n",
    "    v_vars.append(sym.Symbol(rid))\n",
    "    v_data.append(flux)\n",
    "    \n",
    "#print(v_vars)\n",
    "#print(v_data)"
   ]
  },
  {
   "cell_type": "code",
   "execution_count": 75,
   "metadata": {},
   "outputs": [],
   "source": [
    "# Make symbolic for optlang objective \n",
    "v_vars = sym.Matrix(v_vars)\n",
    "v_data = sym.Matrix(v_data)\n",
    "\n",
    "F = sym.Matrix(2 * sym.eye(len(v_vars)))\n",
    "\n",
    "objective = 0.5 * v_vars.T * F * v_vars  - (2 * v_data).T * v_vars\n",
    "core_model.objective = objective[0]\n",
    "core_model.objective_direction = \"min\"\n",
    "\n",
    "flux_solution = core_model.optimize()\n"
   ]
  },
  {
   "cell_type": "code",
   "execution_count": 76,
   "metadata": {},
   "outputs": [
    {
     "data": {
      "text/plain": [
       "0.0010707170479567654"
      ]
     },
     "execution_count": 76,
     "metadata": {},
     "output_type": "execute_result"
    }
   ],
   "source": [
    "# Make adjustments to net flux of PFK/FBP to ensure\n",
    "# no target flux value is 0 in order to create an enzyme module.\n",
    "#performing reverse flux percent on computed values rather than measured values like the MASSpy publication\n",
    "#flux_solution.fluxes.FBP = flux_solution.fluxes.PFK * 0.1\n",
    "flux_solution.fluxes.EX_glc__D_c"
   ]
  },
  {
   "cell_type": "code",
   "execution_count": 78,
   "metadata": {},
   "outputs": [
    {
     "data": {
      "image/png": "[encoded data removed]",
      "text/plain": [
       "<Figure size 360x360 with 1 Axes>"
      ]
     },
     "metadata": {
      "needs_background": "light"
     },
     "output_type": "display_data"
    }
   ],
   "source": [
    "flux_comparison_fig, ax = plt.subplots(nrows=1, ncols=1, figsize=(5, 5))\n",
    "plot_comparison(\n",
    "    x=flux_df[\"Flux(mmol/(gDW*hr))\"], y=flux_solution, compare=\"fluxes\",\n",
    "    observable=[rid for rid in flux_df.index], ax=ax,\n",
    "    legend=\"right outside\", plot_function=\"plot\",\n",
    "    xlim=(-0.005,0.005), ylim=(-0.005, 0.005),\n",
    "    xy_line=True,\n",
    "    xy_legend=\"best\", xlabel=\"Measured [mmol/(gDW * h)]\", ylabel=\"Adjusted [mmol/(gDW * h)]\")\n",
    "\n",
    "flux_comparison_fig.tight_layout()\n",
    "#check directionality \n"
   ]
  },
  {
   "cell_type": "code",
   "execution_count": 17,
   "metadata": {},
   "outputs": [],
   "source": [
    "#for reaction in core_model.reactions:\n",
    "#    print(reaction.id, reaction.check_mass_balance())\n"
   ]
  },
  {
   "cell_type": "markdown",
   "metadata": {},
   "source": [
    "## Create MASS model"
   ]
  },
  {
   "cell_type": "code",
   "execution_count": 18,
   "metadata": {},
   "outputs": [
    {
     "data": {
      "text/html": [
       "\n",
       "            <table>\n",
       "                <tr>\n",
       "                    <td><strong>Name</strong></td><td>Glycolysis</td>\n",
       "                </tr><tr>\n",
       "                    <td><strong>Memory address</strong></td><td>0x01b19a1b73d0</td>\n",
       "                </tr><tr>\n",
       "                    <td><strong>Stoichiometric Matrix</strong></td>\n",
       "                    <td>0x0</td>\n",
       "                </tr><tr>\n",
       "                    <td><strong>Matrix Rank</strong></td>\n",
       "                    <td>0</td>\n",
       "                </tr><tr>\n",
       "                    <td><strong>Number of metabolites</strong></td>\n",
       "                    <td>0</td>\n",
       "                </tr><tr>\n",
       "                    <td><strong>Initial conditions defined</strong></td>\n",
       "                    <td>0/0</td>\n",
       "                </tr><tr>\n",
       "                    <td><strong>Number of reactions</strong></td>\n",
       "                    <td>0</td>\n",
       "                </tr><tr>\n",
       "                    <td><strong>Number of genes</strong></td>\n",
       "                    <td>0</td>\n",
       "                </tr><tr>\n",
       "                    <td><strong>Number of enzyme modules</strong></td>\n",
       "                    <td>0</td>\n",
       "                </tr><tr>\n",
       "                    <td><strong>Number of groups</strong></td>\n",
       "                    <td>0</td>\n",
       "                </tr><tr>\n",
       "                    <td><strong>Objective expression</strong></td>\n",
       "                    <td>0</td>\n",
       "                </tr><tr>\n",
       "                    <td><strong>Compartments</strong></td>\n",
       "                    <td></td>\n",
       "                </tr>\n",
       "            </table>\n",
       "        "
      ],
      "text/plain": [
       "<MassModel Glycolysis at 0x1b19a1b73d0>"
      ]
     },
     "execution_count": 18,
     "metadata": {},
     "output_type": "execute_result"
    }
   ],
   "source": [
    "glycolysis = MassModel(\"Glycolysis\", array_type='DataFrame', dtype=np.int64)\n",
    "glycolysis"
   ]
  },
  {
   "cell_type": "markdown",
   "metadata": {},
   "source": [
    "### Define reactions"
   ]
  },
  {
   "cell_type": "code",
   "execution_count": 19,
   "metadata": {},
   "outputs": [],
   "source": [
    "#add reactions one at a time\n",
    "reaction_list = ['HEX1',\n",
    "                ##'PGI',\n",
    "                ##'FBP',\n",
    "                #'PFK',\n",
    "                #'FBA',\n",
    "                #'TPI',\n",
    "                #'GAPD',\n",
    "                #'PGK',\n",
    "                #'PGM',\n",
    "                #'ENO',\n",
    "                ##'PEPtm',\n",
    "                ##'PEPCKm',\n",
    "                ##'LDH_L',\n",
    "                #'PYK'\n",
    "                ##'PCm',\n",
    "                ##'PYRt2m'\n",
    "                ]\n",
    "\n",
    "#commented out the ones not in glycolysis\n"
   ]
  },
  {
   "cell_type": "code",
   "execution_count": 20,
   "metadata": {},
   "outputs": [],
   "source": [
    "#define metabolites in HEX1\n",
    "#glc__D_c = MassMetabolite(\n",
    "#    \"glc__D_c\",\n",
    "#    name=\"D-Glucose\",\n",
    "#    formula=\"C6H12O6\",\n",
    "#    charge=0,\n",
    "#    compartment=\"c\",\n",
    "#    fixed=False)\n",
    "#atp_c = MassMetabolite(\n",
    "#    \"atp_c\",\n",
    "#    name=\"ATP\",\n",
    "#    formula=\"C10H12N5O13P3\",\n",
    "#    charge=-4,\n",
    "#    compartment=\"c\",\n",
    "#    fixed=False)\n",
    "#adp_c = MassMetabolite(\n",
    "#    \"adp_c\",\n",
    "#    name=\"ADP\",\n",
    "#    formula=\"C10H12N5O10P2\",\n",
    "#    charge=-3,\n",
    "#    compartment=\"c\",\n",
    "#    fixed=False)\n",
    "#g6p_c = MassMetabolite(\n",
    "#    \"g6p_c\",\n",
    "#    name=\"D-Glucose 6-phosphate\",\n",
    "#    formula=\"C6H11O9P\",\n",
    "#    charge=-2,\n",
    "#    compartment=\"c\",\n",
    "#    fixed=False)\n",
    "\n",
    "#h_c = MassMetabolite(\n",
    "#    \"h_c\",\n",
    "#    name=\"H+\",\n",
    "#    formula=\"H\",\n",
    "#    charge=1,\n",
    "#    compartment=\"c\",\n",
    "#    fixed=False)\n",
    "\n",
    "\n",
    "#add HEX1 manually\n",
    "\n",
    "#HEX1 = MassReaction(\n",
    "#    \"HEX1\",\n",
    "#    name=\"Hexokinase (D-glucose:ATP)\",\n",
    "#    subsystem=glycolysis.id,\n",
    "#    reversible=True)\n",
    "#HEX1.add_metabolites({\n",
    "#    glc__D_c: -1,\n",
    "#    atp_c: -1,\n",
    "#    adp_c: 1,\n",
    "#    g6p_c: 1,\n",
    "#    h_c: 1})\n",
    "\n",
    "#set the exchange glucose flux"
   ]
  },
  {
   "cell_type": "code",
   "execution_count": 21,
   "metadata": {},
   "outputs": [],
   "source": [
    "#glycolysis.add_reactions([\n",
    "#    HEX1, \n",
    "    #PGI, PFK, FBA, TPI, GAPD, PGK,\n",
    "    #PGM, ENO, PYK, LDH_L, ADK1, ATPM, DM_nadh\n",
    "#])\n",
    "#for reaction in glycolysis.reactions:\n",
    "#    print(reaction)"
   ]
  },
  {
   "cell_type": "code",
   "execution_count": 22,
   "metadata": {},
   "outputs": [],
   "source": [
    "# Convert cobra.Reactions to mass.MassReactions\n",
    "for rid in reaction_list:\n",
    "    reaction = core_model.reactions.get_by_id(rid)\n",
    "    glycolysis.add_reactions([MassReaction(reaction)])"
   ]
  },
  {
   "cell_type": "code",
   "execution_count": 23,
   "metadata": {},
   "outputs": [
    {
     "data": {
      "text/html": [
       "\n",
       "            <table>\n",
       "                <tr>\n",
       "                    <td><strong>Reaction identifier</strong></td>\n",
       "                    <td>HEX1</td>\n",
       "                </tr><tr>\n",
       "                    <td><strong>Name</strong></td>\n",
       "                    <td>Hexokinase (D-glucose:ATP)</td>\n",
       "                </tr><tr>\n",
       "                    <td><strong>Memory address</strong></td>\n",
       "                    <td>0x01b19a1bd0a0</td>\n",
       "                </tr><tr>\n",
       "                    <td><strong>Subsystem</strong></td>\n",
       "                    <td>Glycolysis/gluconeogenesis</td>\n",
       "                </tr><tr>\n",
       "                    <td><strong>Kinetic Reversibility</strong></td>\n",
       "                    <td>True</td>\n",
       "                </tr><tr>\n",
       "                    <td><strong>Stoichiometry</strong></td>\n",
       "                    <td>\n",
       "                        <p style='text-align:right'>atp_c + glc__D_c <=> adp_c + g6p_c + h_c</p>\n",
       "                        <p style='text-align:right'>ATP C10H12N5O13P3 + D-Glucose <=> ADP C10H12N5O10P2 + D-Glucose 6-phosphate + H+</p>\n",
       "                    </td>\n",
       "                </tr><tr>\n",
       "                    <td><strong>GPR</strong></td><td>3098_AT3 or 80201_AT1 or 2645_AT3 or 3098_AT4 or 3099_AT1 or 2645_AT2 or 3098_AT5 or 2645_AT1 or 3098_AT1 or 3101_AT1 or 3098_AT2</td>\n",
       "                </tr><tr>\n",
       "                    <td><strong>Bounds</strong></td><td>(0.0, 1000.0)</td>\n",
       "                </tr>\n",
       "            </table>\n",
       "        "
      ],
      "text/plain": [
       "<MassReaction HEX1 at 0x1b19a1bd0a0>"
      ]
     },
     "execution_count": 23,
     "metadata": {},
     "output_type": "execute_result"
    }
   ],
   "source": [
    "glycolysis.reactions.HEX1"
   ]
  },
  {
   "cell_type": "markdown",
   "metadata": {},
   "source": [
    "##  Set Fluxes"
   ]
  },
  {
   "cell_type": "code",
   "execution_count": 24,
   "metadata": {},
   "outputs": [
    {
     "name": "stdout",
     "output_type": "stream",
     "text": [
      "v_HEX1: 0.0030090915435541416\n"
     ]
    }
   ],
   "source": [
    "for reaction, flux in flux_solution[reaction_list].iteritems():\n",
    "    reaction = glycolysis.reactions.get_by_id(reaction)\n",
    "    reaction.steady_state_flux = flux * 1278.605 / 1000 \n",
    "    # mmol/gdW*hr --> mmol/L * hr ---> mol/L*hr\n",
    "    print(\"{0}: {1}\".format(reaction.flux_symbol_str,\n",
    "                            reaction.steady_state_flux))"
   ]
  },
  {
   "cell_type": "markdown",
   "metadata": {},
   "source": [
    "## Set Keqs"
   ]
  },
  {
   "cell_type": "code",
   "execution_count": 25,
   "metadata": {},
   "outputs": [
    {
     "data": {
      "text/html": [
       "<div>\n",
       "<style scoped>\n",
       "    .dataframe tbody tr th:only-of-type {\n",
       "        vertical-align: middle;\n",
       "    }\n",
       "\n",
       "    .dataframe tbody tr th {\n",
       "        vertical-align: top;\n",
       "    }\n",
       "\n",
       "    .dataframe thead th {\n",
       "        text-align: right;\n",
       "    }\n",
       "</style>\n",
       "<table border=\"1\" class=\"dataframe\">\n",
       "  <thead>\n",
       "    <tr style=\"text-align: right;\">\n",
       "      <th></th>\n",
       "      <th>Equlibrium Constant</th>\n",
       "    </tr>\n",
       "    <tr>\n",
       "      <th>Reaction</th>\n",
       "      <th></th>\n",
       "    </tr>\n",
       "  </thead>\n",
       "  <tbody>\n",
       "    <tr>\n",
       "      <th>CSm</th>\n",
       "      <td>5.225834e-07</td>\n",
       "    </tr>\n",
       "    <tr>\n",
       "      <th>ACONTm</th>\n",
       "      <td>7.157880e-02</td>\n",
       "    </tr>\n",
       "    <tr>\n",
       "      <th>ICDHxm</th>\n",
       "      <td>1.331211e-01</td>\n",
       "    </tr>\n",
       "    <tr>\n",
       "      <th>AKGDm</th>\n",
       "      <td>4.624549e+04</td>\n",
       "    </tr>\n",
       "    <tr>\n",
       "      <th>SUCOASm</th>\n",
       "      <td>1.592564e+00</td>\n",
       "    </tr>\n",
       "    <tr>\n",
       "      <th>...</th>\n",
       "      <td>...</td>\n",
       "    </tr>\n",
       "    <tr>\n",
       "      <th>EX_nh4_c</th>\n",
       "      <td>NaN</td>\n",
       "    </tr>\n",
       "    <tr>\n",
       "      <th>EX_so3_c</th>\n",
       "      <td>NaN</td>\n",
       "    </tr>\n",
       "    <tr>\n",
       "      <th>EX_etoh_c</th>\n",
       "      <td>NaN</td>\n",
       "    </tr>\n",
       "    <tr>\n",
       "      <th>EX_glyc_3octa_c</th>\n",
       "      <td>NaN</td>\n",
       "    </tr>\n",
       "    <tr>\n",
       "      <th>EX_fru_c</th>\n",
       "      <td>NaN</td>\n",
       "    </tr>\n",
       "  </tbody>\n",
       "</table>\n",
       "<p>187 rows × 1 columns</p>\n",
       "</div>"
      ],
      "text/plain": [
       "                 Equlibrium Constant\n",
       "Reaction                            \n",
       "CSm                     5.225834e-07\n",
       "ACONTm                  7.157880e-02\n",
       "ICDHxm                  1.331211e-01\n",
       "AKGDm                   4.624549e+04\n",
       "SUCOASm                 1.592564e+00\n",
       "...                              ...\n",
       "EX_nh4_c                         NaN\n",
       "EX_so3_c                         NaN\n",
       "EX_etoh_c                        NaN\n",
       "EX_glyc_3octa_c                  NaN\n",
       "EX_fru_c                         NaN\n",
       "\n",
       "[187 rows x 1 columns]"
      ]
     },
     "execution_count": 25,
     "metadata": {},
     "output_type": "execute_result"
    }
   ],
   "source": [
    "# Load equilibrium constants\n",
    "Keq_df = pd.read_excel(engine='openpyxl',\n",
    "    io=data_sheet,\n",
    "    sheet_name=\"Keqs\",\n",
    "    index_col=0).drop(\"Reference\", axis=1).drop(\"Stoichiometry\", axis=1)\n",
    "\n",
    "Keq_df\n",
    "#Check the M units of Keq "
   ]
  },
  {
   "cell_type": "code",
   "execution_count": 26,
   "metadata": {},
   "outputs": [
    {
     "name": "stdout",
     "output_type": "stream",
     "text": [
      "Keq_HEX1: 2246.155176\n"
     ]
    }
   ],
   "source": [
    "# Set equilibrium constants\n",
    "# Should we upload only the required Keqs or is this still okay \n",
    "Keq_list =[]\n",
    "for rid, Keq in Keq_df.itertuples():\n",
    "    if rid in reaction_list: \n",
    "        reaction = glycolysis.reactions.get_by_id(rid)\n",
    "        reaction.Keq = Keq\n",
    "        Keq_list.append(reaction.Keq)\n",
    "        print(\"{0}: {1}\".format(reaction.Keq_str, Keq))\n",
    "        "
   ]
  },
  {
   "cell_type": "code",
   "execution_count": 27,
   "metadata": {},
   "outputs": [
    {
     "data": {
      "text/plain": [
       "True"
      ]
     },
     "execution_count": 27,
     "metadata": {},
     "output_type": "execute_result"
    }
   ],
   "source": [
    "len(reaction_list) == len(Keq_list)"
   ]
  },
  {
   "cell_type": "markdown",
   "metadata": {},
   "source": [
    "## Correct Metabolite Identifiers"
   ]
  },
  {
   "cell_type": "code",
   "execution_count": 28,
   "metadata": {},
   "outputs": [],
   "source": [
    "#for metabolite in glycolysis.metabolites:\n",
    "#    new_met_id = prefix_number_id(metabolite.id)\n",
    "#    metabolite.id = new_met_id\n",
    "#glycolysis.repair()\n",
    "\n",
    "#what is the prefix_number_id function --> in the github 1.0 load_data"
   ]
  },
  {
   "cell_type": "markdown",
   "metadata": {},
   "source": [
    "## Set H2O/H Constants\n"
   ]
  },
  {
   "cell_type": "code",
   "execution_count": 29,
   "metadata": {},
   "outputs": [],
   "source": [
    "# Set concentrations of hydrogen, water as fixed\n",
    "# Assume hydrogen in all compartments are fixed \n",
    "for metabolite in [ \"h_c\"\n",
    "                   #\"h2o_c\",\n",
    "                   #'h_i'\n",
    "                   #'h_m'\n",
    "                   #remove h_i and h_m if not mitochondrial reactions\n",
    "                  ]:\n",
    "    metabolite = glycolysis.metabolites.get_by_id(metabolite)\n",
    "    metabolite.fixed = True\n"
   ]
  },
  {
   "cell_type": "markdown",
   "metadata": {},
   "source": [
    "## Obtain Concentrations"
   ]
  },
  {
   "cell_type": "code",
   "execution_count": 30,
   "metadata": {},
   "outputs": [],
   "source": [
    "#Load Concentration Data\n",
    "conc_df = load_data(\n",
    "    filepath=data_sheet,\n",
    "    sheet_name=\"Concentrations\")\n",
    "#conc_df = conc_df.drop(\"Name\", axis=1)\n",
    "conc_df = conc_df.drop(\"Additional Notes\", axis=1)\n",
    "conc_df = conc_df.drop(\"Concentration (mM)\", axis=1)\n",
    "\n",
    "# Fix identifiers in the dataframe\n",
    "#conc_df.index = [prefix_number_id(mid) for mid in conc_df.index]"
   ]
  },
  {
   "cell_type": "code",
   "execution_count": 31,
   "metadata": {},
   "outputs": [
    {
     "data": {
      "text/html": [
       "<div>\n",
       "<style scoped>\n",
       "    .dataframe tbody tr th:only-of-type {\n",
       "        vertical-align: middle;\n",
       "    }\n",
       "\n",
       "    .dataframe tbody tr th {\n",
       "        vertical-align: top;\n",
       "    }\n",
       "\n",
       "    .dataframe thead th {\n",
       "        text-align: right;\n",
       "    }\n",
       "</style>\n",
       "<table border=\"1\" class=\"dataframe\">\n",
       "  <thead>\n",
       "    <tr style=\"text-align: right;\">\n",
       "      <th></th>\n",
       "      <th>Name</th>\n",
       "      <th>Concentration(M)</th>\n",
       "    </tr>\n",
       "    <tr>\n",
       "      <th>ID</th>\n",
       "      <th></th>\n",
       "      <th></th>\n",
       "    </tr>\n",
       "  </thead>\n",
       "  <tbody>\n",
       "    <tr>\n",
       "      <th>13dpg_c</th>\n",
       "      <td>3-Phospho-D-glyceroyl phosphate/ 1,3\\nBisphosp...</td>\n",
       "      <td>NaN</td>\n",
       "    </tr>\n",
       "    <tr>\n",
       "      <th>2amac_c</th>\n",
       "      <td>2-Aminoacrylate</td>\n",
       "      <td>NaN</td>\n",
       "    </tr>\n",
       "    <tr>\n",
       "      <th>2pg_c</th>\n",
       "      <td>D-Glycerate 2-phosphate/ 2-\\nPhosphoglycerate</td>\n",
       "      <td>0.000111</td>\n",
       "    </tr>\n",
       "    <tr>\n",
       "      <th>3haACP_c</th>\n",
       "      <td>NaN</td>\n",
       "      <td>NaN</td>\n",
       "    </tr>\n",
       "    <tr>\n",
       "      <th>3hbcoa_m</th>\n",
       "      <td>NaN</td>\n",
       "      <td>NaN</td>\n",
       "    </tr>\n",
       "    <tr>\n",
       "      <th>...</th>\n",
       "      <td>...</td>\n",
       "      <td>...</td>\n",
       "    </tr>\n",
       "    <tr>\n",
       "      <th>udp_c</th>\n",
       "      <td>UDP C9H11N2O12P2</td>\n",
       "      <td>0.000316</td>\n",
       "    </tr>\n",
       "    <tr>\n",
       "      <th>udpg_c</th>\n",
       "      <td>UDPglucose</td>\n",
       "      <td>0.000680</td>\n",
       "    </tr>\n",
       "    <tr>\n",
       "      <th>urea_c</th>\n",
       "      <td>Urea CH4N2O</td>\n",
       "      <td>0.031940</td>\n",
       "    </tr>\n",
       "    <tr>\n",
       "      <th>utp_c</th>\n",
       "      <td>UTP C9H11N2O15P3</td>\n",
       "      <td>0.000882</td>\n",
       "    </tr>\n",
       "    <tr>\n",
       "      <th>xu5p__D_c</th>\n",
       "      <td>D-Xylulose 5-phosphate</td>\n",
       "      <td>0.000043</td>\n",
       "    </tr>\n",
       "  </tbody>\n",
       "</table>\n",
       "<p>179 rows × 2 columns</p>\n",
       "</div>"
      ],
      "text/plain": [
       "                                                        Name  Concentration(M)\n",
       "ID                                                                            \n",
       "13dpg_c    3-Phospho-D-glyceroyl phosphate/ 1,3\\nBisphosp...               NaN\n",
       "2amac_c                                      2-Aminoacrylate               NaN\n",
       "2pg_c          D-Glycerate 2-phosphate/ 2-\\nPhosphoglycerate          0.000111\n",
       "3haACP_c                                                 NaN               NaN\n",
       "3hbcoa_m                                                 NaN               NaN\n",
       "...                                                      ...               ...\n",
       "udp_c                                       UDP C9H11N2O12P2          0.000316\n",
       "udpg_c                                            UDPglucose          0.000680\n",
       "urea_c                                           Urea CH4N2O          0.031940\n",
       "utp_c                                       UTP C9H11N2O15P3          0.000882\n",
       "xu5p__D_c                             D-Xylulose 5-phosphate          0.000043\n",
       "\n",
       "[179 rows x 2 columns]"
      ]
     },
     "execution_count": 31,
     "metadata": {},
     "output_type": "execute_result"
    }
   ],
   "source": [
    "conc_df"
   ]
  },
  {
   "cell_type": "code",
   "execution_count": 32,
   "metadata": {},
   "outputs": [],
   "source": [
    "#Set Concentrations\n",
    "\n",
    "metabolite_list = ['glc__D_c',\n",
    "           'g6p_c',\n",
    "           #'f6p_c',\n",
    "           #'fdp_c',\n",
    "           #'dhap_c',\n",
    "           #'g3p_c',\n",
    "           #'13dpg_c',\n",
    "           #'3pg_c',\n",
    "            #'2pg_c',\n",
    "            #'pep_c',\n",
    "            #'pyr_c',\n",
    "            #'lac__L_c',\n",
    "           #'nad_c',\n",
    "            #'nadh_c',\n",
    "           #'amp_c',\n",
    "           'adp_c',\n",
    "            'atp_c',\n",
    "            #'pi_c',\n",
    "            'h_c',          \n",
    "            #'h2o_c',\n",
    "            #'pep_m',\n",
    "            #'pi_m',\n",
    "            #'co2_m',\n",
    "            #'gdp_m',\n",
    "#           'gtp_m',\n",
    "#           'oaa_m',\n",
    "#           'adp_m',\n",
    "#           'atp_m',\n",
    "            #'h_m',\n",
    "            #'hco3_m',\n",
    "            #'pyr_m',\n",
    "            #'h_i'\n",
    "                  ]\n",
    "# add later when adding other metabolites\n",
    "#m=[\"amp_c\"]\n",
    "#for item in m:\n",
    "#    met = core_model.metabolites.get_by_id(item)\n",
    "#    glycolysis.add_metabolites([MassMetabolite(met)])"
   ]
  },
  {
   "cell_type": "code",
   "execution_count": 33,
   "metadata": {},
   "outputs": [],
   "source": [
    "met_list = []\n",
    "for mid, name, conc in conc_df.itertuples():\n",
    "    if mid in metabolite_list: \n",
    "        metabolite = glycolysis.metabolites.get_by_id(mid)\n",
    "        metabolite.name = name\n",
    "        \n",
    "        metabolite.ic = conc #data sheet is in M units\n",
    "        met_list.append(metabolite.ic)\n",
    "    \n",
    "    \n",
    "\n"
   ]
  },
  {
   "cell_type": "code",
   "execution_count": 34,
   "metadata": {},
   "outputs": [
    {
     "name": "stdout",
     "output_type": "stream",
     "text": [
      "adp_c: 0.00199495195\n",
      "atp_c: 0.004727145980000001\n",
      "g6p_c: 0.00014000000000000001\n",
      "glc__D_c: 0.01048280703\n",
      "h_c: 1\n"
     ]
    }
   ],
   "source": [
    "# For \"pi_c\", \"g3p_c\", \"lac__D_c\" use steady state literature concentrations\n",
    "# Set h_c and h2o_c to 1 \n",
    "for metabolite in [\n",
    "    #'h_i',\n",
    "    #'h_m',\n",
    "    \"h_c\", \n",
    "    #\"h2o_c\"\n",
    "]:\n",
    "    metabolite = glycolysis.metabolites.get_by_id(metabolite)\n",
    "    if metabolite.id in [\"h_c\" \n",
    "                         #\"h2o_c\"\n",
    "                        ]:\n",
    "        metabolite.ic = 1  #temporarily --> M Adjust number when add more compartments\n",
    "    \n",
    "for metabolite in glycolysis.metabolites:\n",
    "    print(\"{0}: {1}\".format(metabolite.id, metabolite.ic))\n",
    "    \n"
   ]
  },
  {
   "cell_type": "code",
   "execution_count": 35,
   "metadata": {},
   "outputs": [],
   "source": [
    "#convert nan values to None Type\n",
    "#excluded_metabolites_list = []\n",
    "#for metabolite in glycolysis.metabolites: \n",
    "#    if type(metabolite.ic) == None: \n",
    "#        excluded_metabolites_list.append()\n",
    "#excluded_metabolites_list    \n",
    "\n",
    "#type(glycolysis.metabolites.pyr_m.ic)\n"
   ]
  },
  {
   "cell_type": "code",
   "execution_count": 36,
   "metadata": {},
   "outputs": [
    {
     "data": {
      "text/plain": [
       "['Keq_HEX1']"
      ]
     },
     "execution_count": 36,
     "metadata": {},
     "output_type": "execute_result"
    }
   ],
   "source": [
    "# glycolysis.metabolites.h_i.ic\n",
    "glycolysis.reactions.list_attr(\"Keq_str\")"
   ]
  },
  {
   "cell_type": "code",
   "execution_count": 37,
   "metadata": {},
   "outputs": [
    {
     "data": {
      "text/plain": [
       "True"
      ]
     },
     "execution_count": 37,
     "metadata": {},
     "output_type": "execute_result"
    }
   ],
   "source": [
    "len(metabolite_list) == len(glycolysis.metabolites) == len(met_list)"
   ]
  },
  {
   "cell_type": "code",
   "execution_count": 38,
   "metadata": {},
   "outputs": [
    {
     "data": {
      "text/html": [
       "<strong><em>Optimal</em> solution with objective value 0.000</strong><br><div>\n",
       "<style scoped>\n",
       "    .dataframe tbody tr th:only-of-type {\n",
       "        vertical-align: middle;\n",
       "    }\n",
       "\n",
       "    .dataframe tbody tr th {\n",
       "        vertical-align: top;\n",
       "    }\n",
       "\n",
       "    .dataframe thead th {\n",
       "        text-align: right;\n",
       "    }\n",
       "</style>\n",
       "<table border=\"1\" class=\"dataframe\">\n",
       "  <thead>\n",
       "    <tr style=\"text-align: right;\">\n",
       "      <th></th>\n",
       "      <th>variables</th>\n",
       "      <th>reduced_costs</th>\n",
       "    </tr>\n",
       "  </thead>\n",
       "  <tbody>\n",
       "    <tr>\n",
       "      <th>adp_c</th>\n",
       "      <td>0.001995</td>\n",
       "      <td>0.0</td>\n",
       "    </tr>\n",
       "    <tr>\n",
       "      <th>atp_c</th>\n",
       "      <td>0.004727</td>\n",
       "      <td>0.0</td>\n",
       "    </tr>\n",
       "    <tr>\n",
       "      <th>g6p_c</th>\n",
       "      <td>0.000140</td>\n",
       "      <td>0.0</td>\n",
       "    </tr>\n",
       "    <tr>\n",
       "      <th>glc__D_c</th>\n",
       "      <td>0.010483</td>\n",
       "      <td>0.0</td>\n",
       "    </tr>\n",
       "    <tr>\n",
       "      <th>Keq_HEX1</th>\n",
       "      <td>2246.155176</td>\n",
       "      <td>0.0</td>\n",
       "    </tr>\n",
       "  </tbody>\n",
       "</table>\n",
       "</div>"
      ],
      "text/plain": [
       "<Solution 0.000 at 0x1b19dadac70>"
      ]
     },
     "execution_count": 38,
     "metadata": {},
     "output_type": "execute_result"
    }
   ],
   "source": [
    "#Formulate QP minimization list for concentrations\n",
    "conc_solver = ConcSolver(\n",
    "    glycolysis, # bc only want metabolites in glycolysis \n",
    "    excluded_metabolites=[\n",
    "        #'h_i', 'h_m', 'co2_m', 'gdp_m', 'gtp_m', 'hco3_m'\n",
    "        \"h_c\", \n",
    "        #\"h2o_c\",'13dpg_c'\n",
    "    ],\n",
    "    constraint_buffer=1)\n",
    "\n",
    "conc_solver.setup_feasible_qp_problem(\n",
    "fixed_conc_bounds=list(glycolysis.fixed))\n",
    "fixed_Keq_bounds=glycolysis.reactions.list_attr(\"Keq_str\")\n",
    "    \n",
    "#assumption: provide uncertainity to allow for a variance for the Keqs rather than staying fixed\n",
    "#conc_solver.setup_feasible_qp_problem(Keq_percent_deviation=0.1)\n",
    "\n",
    "conc_solution = conc_solver.optimize()\n",
    "conc_solution\n",
    "\n"
   ]
  },
  {
   "cell_type": "code",
   "execution_count": 39,
   "metadata": {},
   "outputs": [
    {
     "name": "stderr",
     "output_type": "stream",
     "text": [
      "mass\\visualization\\visualization_util.py:1269 UserWarning: Ignoring {'2pg_c', 'glyald_c', 'pep_m', 'dhap_c', 'fum_m', 'glc__D_r', 'acACP_c', 'acetone_c', 'glygn2_c', 'h_m', 'nadp_c', 'bhb_c', 'sucr_c', 'mal__L_m', 'fadh2_m', 'hxcoa_m', 'focytC_m', 'hmgcoa_m', 'gly_c', 'btcoa_m', 'h2o_m', 'hco3_m', 'h_i', 'glygn3_c', 'acald_c', 'amp_m', 'pser__L_c', 'q10h2_m', 'fru_c', 'ac_m', 'glyc_2octa_c', '3hhexACP_c', 'dxtrn_c', 'urea_c', 'g6p_r', 'q10_m', 'nadh_m', 'malcoa_c', 'pyr_c', 'nad_m', 'argsuc_c', 'c8crn_m', 'crn_c', 'ppi_m', 'oc2coa_m', 'cit_m', '3hbcoa_m', 'succ_m', 'ser__L_c', 'fum_c', 'ru5p__D_c', 'nad_c', '6pgc_c', 'octa_cons_c', 'asp__L_m', '3pg_c', 'orn_m', 'nh4_c', 'udp_c', 'ocACP_c', 'nadp_m', 'glu__L_m', 'akg_c', 'oaa_m', 'adp_m', '3haACP_c', 'acetone_m', 'gdp_m', 'amp_c', 'h2o_r', '2amac_c', 'orn_c', 'crn_m', 'akg_m', 'cit_c', 'fdp_c', 'actACP_c', 'icit_m', 's7p_c', 'lac__L_c', 'ficytC_m', 'glu__L_c', 'coa_c', 'octa_prod_c', 'gtp_c', 'acac_m', 'b2coa_m', 'oaa_c', 'h_c', 'succoa_m', 'mal__L_c', 'asn__L_c', 'xu5p__D_c', 'f1p_c', 'glyc3p_2octa_c', 'ala__L_c', 'ACP_c', 'g1p_c', 'pi_m', 'accoa_c', 'ggn_c', 'gln__L_c', 'accoa_m', 'udpg_c', 'atp_m', 'malACP_c', 'hco3_c', 'f6p_c', 'pi_r', 'glyc3p_1octa_c', 'hexACP_c', 'butACP_c', 'h2o_c', 'thf_c', 'glyc3p_c', '3hhcoa_m', 'occoa_m', 'citr__L_c', 'occoa_c', 'glygn1_c', 'thex2eACP_c', 'pep_c', 'toct2eACP_c', '3ooctACP_c', 'bhb_m', '13dpg_c', '3snpyr_c', '3ohexACP_c', '6pgl_c', 'aacoa_m', 'mlthf_c', 'nadph_c', 'g3p_c', 'o2_m', 'acald_m', 'glyc_3octa_c', 'thf_m', 'arg__L_c', 'gly_m', '3ohcoa_m', 'co2_m', 'gtp_m', 'citr__L_m', '3sala_c', 'asp__L_c', 'coa_m', 'v', 'ac_c', 'pyr_m', 'Tyr_ggn_c', 'gdp_c', '3oocoa_m', 'etoh_c', 'pi_c', 'ppi_c', 'e4p_c', '3php_c', 'hx2coa_m', 'r5p_c', 'utp_c', 'so3_c', 'mlthf_m', 'co2_c', 'c8crn_c', 'nh4_m', 'fad_m', 'occoa_prod_c', 'cbp_m', 'o2_c', 'nadph_m', '3hoctACP_c', 'cys__L_c', 'nadh_c', '3hocoa_m', 'but2eACP_c'}, only in one set of given values\n",
      "mass\\visualization\\visualization_util.py:806 UserWarning: Attempted to set non-positive left xlim on a log-scaled axis.\n",
      "Invalid limit will be ignored.\n",
      "mass\\visualization\\visualization_util.py:806 UserWarning: Attempted to set non-positive bottom ylim on a log-scaled axis.\n",
      "Invalid limit will be ignored.\n"
     ]
    },
    {
     "data": {
      "image/png": "[encoded data removed]",
      "text/plain": [
       "<Figure size 360x360 with 1 Axes>"
      ]
     },
     "metadata": {
      "needs_background": "light"
     },
     "output_type": "display_data"
    }
   ],
   "source": [
    "#Compare Results\n",
    "conc_comparison_fig, ax = plt.subplots(nrows=1, ncols=1,\n",
    "                                       figsize=(5, 5))\n",
    "\n",
    "plot_comparison(\n",
    "    x=conc_df[\"Concentration(M)\"], y=conc_solution,\n",
    "    compare=\"concentrations\",\n",
    "    observable=[mid for mid in conc_df.index], ax=ax,\n",
    "    legend=\"right outside\", plot_function=\"loglog\",\n",
    "    xlim=(0, 20), ylim=(0, 20), xy_line=True,\n",
    "    xy_legend=\"best\", xlabel=\"Initial [mol/L]\", ylabel=\"Adjusted [mol/L]\")\n",
    "\n",
    "conc_comparison_fig.tight_layout()\n",
    "update_model_with_concentration_solution(\n",
    "    glycolysis, conc_solution, concentrations=True, inplace=True);"
   ]
  },
  {
   "cell_type": "markdown",
   "metadata": {},
   "source": [
    "### Reset Concentrations to Computed Concentrations"
   ]
  },
  {
   "cell_type": "code",
   "execution_count": null,
   "metadata": {},
   "outputs": [],
   "source": [
    "#Updated model with new concentrations?? "
   ]
  },
  {
   "cell_type": "markdown",
   "metadata": {},
   "source": [
    "## Sample Concentrations\n"
   ]
  },
  {
   "cell_type": "code",
   "execution_count": 40,
   "metadata": {},
   "outputs": [
    {
     "data": {
      "text/html": [
       "<div>\n",
       "<style scoped>\n",
       "    .dataframe tbody tr th:only-of-type {\n",
       "        vertical-align: middle;\n",
       "    }\n",
       "\n",
       "    .dataframe tbody tr th {\n",
       "        vertical-align: top;\n",
       "    }\n",
       "\n",
       "    .dataframe thead th {\n",
       "        text-align: right;\n",
       "    }\n",
       "</style>\n",
       "<table border=\"1\" class=\"dataframe\">\n",
       "  <thead>\n",
       "    <tr style=\"text-align: right;\">\n",
       "      <th></th>\n",
       "      <th>adp_c</th>\n",
       "      <th>atp_c</th>\n",
       "      <th>g6p_c</th>\n",
       "      <th>glc__D_c</th>\n",
       "    </tr>\n",
       "  </thead>\n",
       "  <tbody>\n",
       "    <tr>\n",
       "      <th>0</th>\n",
       "      <td>0.000458</td>\n",
       "      <td>0.003233</td>\n",
       "      <td>0.000086</td>\n",
       "      <td>0.004534</td>\n",
       "    </tr>\n",
       "    <tr>\n",
       "      <th>1</th>\n",
       "      <td>0.012110</td>\n",
       "      <td>0.017798</td>\n",
       "      <td>0.000202</td>\n",
       "      <td>0.001990</td>\n",
       "    </tr>\n",
       "    <tr>\n",
       "      <th>2</th>\n",
       "      <td>0.002373</td>\n",
       "      <td>0.004979</td>\n",
       "      <td>0.000261</td>\n",
       "      <td>0.027939</td>\n",
       "    </tr>\n",
       "    <tr>\n",
       "      <th>3</th>\n",
       "      <td>0.016889</td>\n",
       "      <td>0.002251</td>\n",
       "      <td>0.000092</td>\n",
       "      <td>0.004773</td>\n",
       "    </tr>\n",
       "    <tr>\n",
       "      <th>4</th>\n",
       "      <td>0.006630</td>\n",
       "      <td>0.001071</td>\n",
       "      <td>0.000393</td>\n",
       "      <td>0.032647</td>\n",
       "    </tr>\n",
       "  </tbody>\n",
       "</table>\n",
       "</div>"
      ],
      "text/plain": [
       "      adp_c     atp_c     g6p_c  glc__D_c\n",
       "0  0.000458  0.003233  0.000086  0.004534\n",
       "1  0.012110  0.017798  0.000202  0.001990\n",
       "2  0.002373  0.004979  0.000261  0.027939\n",
       "3  0.016889  0.002251  0.000092  0.004773\n",
       "4  0.006630  0.001071  0.000393  0.032647"
      ]
     },
     "execution_count": 40,
     "metadata": {},
     "output_type": "execute_result"
    }
   ],
   "source": [
    "conc_solver.setup_sampling_problem(\n",
    "    fixed_conc_bounds=list(glycolysis.fixed),\n",
    "    fixed_Keq_bounds=glycolysis.reactions.list_attr(\"Keq_str\"))\n",
    "for variable in conc_solver.variables:\n",
    "    try:\n",
    "        met = glycolysis.metabolites.get_by_id(variable.name)\n",
    "        variable.lb, variable.ub = np.log([met.ic / 10, met.ic * 10])\n",
    "    except:\n",
    "        pass\n",
    "conc_samples = sample_concentrations(conc_solver, n=n_models, seed=seed)\n",
    "conc_samples.head()"
   ]
  },
  {
   "cell_type": "code",
   "execution_count": null,
   "metadata": {},
   "outputs": [],
   "source": []
  },
  {
   "cell_type": "markdown",
   "metadata": {},
   "source": [
    "## Set concentrations and balance models with pseudoreactions\n"
   ]
  },
  {
   "cell_type": "code",
   "execution_count": null,
   "metadata": {},
   "outputs": [],
   "source": [
    "models_for_ensemble = []\n",
    "for idx, conc_sample in conc_samples.iterrows():\n",
    "    # Make copy of new model\n",
    "    new_model = glycolysis.copy()\n",
    "    new_model.id += \"_C{0:d}\".format(idx)\n",
    "    # Get concentration sample and update model with sample\n",
    "    new_model.update_initial_conditions(conc_sample.to_dict())\n",
    "\n",
    "    # Determine imbalances in the reduced network\n",
    "    fluxes = np.array(list(new_model.steady_state_fluxes.values()))\n",
    "    imbalanced_metabolites = new_model.S.dot(fluxes)\n",
    "\n",
    "    # Iterate through metabolites\n",
    "    for mid, imbalance in imbalanced_metabolites.iteritems():\n",
    "        # Ignore balanced metabolites\n",
    "        if imbalance == 0:\n",
    "            continue\n",
    "        # Get metabolite object\n",
    "        met = new_model.metabolites.get_by_id(mid)\n",
    "\n",
    "        # Add boundary reactions for imbalanced metabolites\n",
    "        boundary_type = \"sink\"    \n",
    "        # Add boundary reaction with imbalance as flux value\n",
    "        boundary_reaction = new_model.add_boundary(\n",
    "            mid, boundary_type, boundary_condition=met.ic)\n",
    "        \n",
    "        boundary_reaction.Keq = 1\n",
    "        if imbalance < 0:\n",
    "            boundary_reaction.reverse_stoichiometry(inplace=True)\n",
    "            imbalance = -imbalance\n",
    "\n",
    "        boundary_reaction.kf = imbalance / met.ic\n",
    "        boundary_reaction.steady_state_flux = imbalance\n",
    "        try:\n",
    "            # Update PERCs\n",
    "            new_model.calculate_PERCs(\n",
    "                fluxes={\n",
    "                    r: v for r, v in new_model.steady_state_fluxes.items()\n",
    "                    if not r.boundary},\n",
    "                update_reactions=True)\n",
    "        except:\n",
    "            print(\"Negative PERCs for {0}\".format(new_model.id))\n",
    "            continue\n",
    "    models_for_ensemble.append(new_model)\n",
    "print(\"Number of models in ensemble: {0:d}\".format(\n",
    "    len(models_for_ensemble)))\n",
    "print(models_for_ensemble)"
   ]
  },
  {
   "cell_type": "code",
   "execution_count": 43,
   "metadata": {},
   "outputs": [],
   "source": [
    "# Determine imbalances in the reduced network\n",
    "fluxes = np.array(list(glycolysis.steady_state_fluxes.values()))\n",
    "imbalanced_metabolites = glycolysis.S.dot(fluxes)\n",
    "\n",
    "# Iterate through metabolites\n",
    "for mid, imbalance in imbalanced_metabolites.iteritems():\n",
    "    # Ignore balanced metabolites\n",
    "    if imbalance == 0:\n",
    "        continue\n",
    "    # Get metabolite object\n",
    "    met = glycolysis.metabolites.get_by_id(mid)\n",
    "\n",
    "    # Add boundary reactions for imbalanced metabolites\n",
    "    boundary_type = \"sink\"    \n",
    "    # Add boundary reaction with imbalance as flux value\n",
    "    boundary_reaction = glycolysis.add_boundary(\n",
    "        mid, boundary_type, boundary_condition=met.ic)\n",
    "\n",
    "    boundary_reaction.Keq = 1\n",
    "    if imbalance < 0:\n",
    "        boundary_reaction.reverse_stoichiometry(inplace=True)\n",
    "        imbalance = -imbalance\n",
    "\n",
    "    boundary_reaction.kf = imbalance / met.ic\n",
    "    boundary_reaction.steady_state_flux = imbalance\n",
    "    try:\n",
    "        # Update PERCs\n",
    "        glycolysis.calculate_PERCs(\n",
    "            fluxes={\n",
    "                r: v for r, v in glycolysis.steady_state_fluxes.items()\n",
    "                if not r.boundary},\n",
    "            update_reactions=True)\n",
    "    except:\n",
    "        print(\"Negative PERCs for {0}\".format(new_model.id))\n",
    "        continue"
   ]
  },
  {
   "cell_type": "markdown",
   "metadata": {},
   "source": [
    "## QC/QA"
   ]
  },
  {
   "cell_type": "code",
   "execution_count": null,
   "metadata": {},
   "outputs": [],
   "source": [
    "#qcqa_model(glycolysis, parameters=True, concentrations=True,\n",
    "#           fluxes=True, superfluous=True, elemental=True)\n"
   ]
  },
  {
   "cell_type": "code",
   "execution_count": null,
   "metadata": {},
   "outputs": [],
   "source": [
    "## balancing charges on reactions manually\n",
    "\n",
    "#glycolysis.metabolites.h_c.charge=1\n",
    "#glycolysis.metabolites.h_m.charge=1\n",
    "#glycolysis.metabolites.h_i.charge=1\n",
    "#glycolysis.metabolites.pi_c.charge=-2\n",
    "#glycolysis.metabolites.pi_m.charge=-2\n"
   ]
  },
  {
   "cell_type": "code",
   "execution_count": 1,
   "metadata": {},
   "outputs": [
    {
     "ename": "NameError",
     "evalue": "name 'glycolysis' is not defined",
     "output_type": "error",
     "traceback": [
      "\u001b[1;31m---------------------------------------------------------------------------\u001b[0m",
      "\u001b[1;31mNameError\u001b[0m                                 Traceback (most recent call last)",
      "\u001b[1;32m<ipython-input-1-4c8d82619948>\u001b[0m in \u001b[0;36m<module>\u001b[1;34m\u001b[0m\n\u001b[1;32m----> 1\u001b[1;33m \u001b[0mglycolysis\u001b[0m\u001b[1;33m.\u001b[0m\u001b[0mcalculate_PERCs\u001b[0m\u001b[1;33m(\u001b[0m\u001b[0mupdate_reactions\u001b[0m\u001b[1;33m=\u001b[0m\u001b[1;32mTrue\u001b[0m\u001b[1;33m)\u001b[0m\u001b[1;33m\u001b[0m\u001b[1;33m\u001b[0m\u001b[0m\n\u001b[0m\u001b[0;32m      2\u001b[0m \u001b[1;33m\u001b[0m\u001b[0m\n\u001b[0;32m      3\u001b[0m \u001b[0mprint\u001b[0m\u001b[1;33m(\u001b[0m\u001b[1;34m\"Forward Rate Constants\\n----------------------\"\u001b[0m\u001b[1;33m)\u001b[0m\u001b[1;33m\u001b[0m\u001b[1;33m\u001b[0m\u001b[0m\n\u001b[0;32m      4\u001b[0m \u001b[1;32mfor\u001b[0m \u001b[0mreaction\u001b[0m \u001b[1;32min\u001b[0m \u001b[0mglycolysis\u001b[0m\u001b[1;33m.\u001b[0m\u001b[0mreactions\u001b[0m\u001b[1;33m:\u001b[0m\u001b[1;33m\u001b[0m\u001b[1;33m\u001b[0m\u001b[0m\n\u001b[0;32m      5\u001b[0m     \u001b[0mprint\u001b[0m\u001b[1;33m(\u001b[0m\u001b[1;34m\"{0}: {1:.6f}\"\u001b[0m\u001b[1;33m.\u001b[0m\u001b[0mformat\u001b[0m\u001b[1;33m(\u001b[0m\u001b[0mreaction\u001b[0m\u001b[1;33m.\u001b[0m\u001b[0mkf_str\u001b[0m\u001b[1;33m,\u001b[0m \u001b[0mreaction\u001b[0m\u001b[1;33m.\u001b[0m\u001b[0mkf\u001b[0m\u001b[1;33m)\u001b[0m\u001b[1;33m)\u001b[0m\u001b[1;33m\u001b[0m\u001b[1;33m\u001b[0m\u001b[0m\n",
      "\u001b[1;31mNameError\u001b[0m: name 'glycolysis' is not defined"
     ]
    }
   ],
   "source": [
    "glycolysis.calculate_PERCs(update_reactions=True)\n",
    "\n",
    "print(\"Forward Rate Constants\\n----------------------\")\n",
    "for reaction in glycolysis.reactions:\n",
    "    print(\"{0}: {1:.6f}\".format(reaction.kf_str, reaction.kf))\n"
   ]
  },
  {
   "cell_type": "code",
   "execution_count": null,
   "metadata": {},
   "outputs": [],
   "source": [
    "#glycolysis.reactions.PGK"
   ]
  },
  {
   "cell_type": "markdown",
   "metadata": {},
   "source": [
    "## Simulate Glycolysis"
   ]
  },
  {
   "cell_type": "code",
   "execution_count": null,
   "metadata": {},
   "outputs": [],
   "source": [
    "#tfinal = 1e4\n",
    "#verbose = False\n",
    "\n",
    "#sim = Simulation(glycolysis, verbose=False)\n",
    "\n",
    "\n",
    "# Setup simulation object\n",
    "#sim = Simulation(glycolysis, verbose=True)\n",
    "# Simulate from 0 to 1000 with 10001 points in the output\n",
    "#conc_sol, flux_sol = sim.simulate(glycolysis, time=(0, 1e3, 1e4 + 1))\n",
    "# Quickly render and display time profiles\n",
    "#conc_sol.view_time_profile()\n"
   ]
  },
  {
   "cell_type": "markdown",
   "metadata": {},
   "source": [
    "## Ensure model is in steady state and export"
   ]
  },
  {
   "cell_type": "code",
   "execution_count": null,
   "metadata": {},
   "outputs": [],
   "source": [
    "# Ensure all models are simulated to a long time and that\n",
    "# there are enough time points to determine if model reached steady state.\n",
    "tfinal = 1e4\n",
    "verbose = False\n",
    "\n",
    "sim = Simulation(reference_model=models_for_ensemble[0], verbose=verbose)\n",
    "sim.add_models(models_for_ensemble[1:], verbose=verbose, disable_safe_load=True)\n",
    "sim.integrator.absolute_tolerance = 1e-15\n",
    "sim.integrator.relative_tolerance = 1e-9\n",
    "\n",
    "models_to_export = []\n",
    "with warnings.catch_warnings():\n",
    "    warnings.simplefilter(\"ignore\")\n",
    "    for model in models_for_ensemble:\n",
    "        # Attempt to determine steady state\n",
    "        conc_sol, flux_sol = sim.find_steady_state(\n",
    "            models=model, strategy=\"simulate\", update_values=True,\n",
    "            tfinal=tfinal, \n",
    "            verbose=verbose)\n",
    "        if conc_sol and flux_sol:\n",
    "            continue\n",
    "        print(str(model) + \" first attempt failed.\")\n",
    "        # First attempt was not successful, lengthen time for second attempt\n",
    "        # Attempt to determine steady state\n",
    "        conc_sol, flux_sol = sim.find_steady_state(\n",
    "            models=model, strategy=\"simulate\", update_values=True,\n",
    "            tfinal=tfinal * 10, \n",
    "            verbose=verbose)\n",
    "        if conc_sol and flux_sol:\n",
    "            continue\n",
    "        print(str(model) + \" second attempt failed.\")\n",
    "        # Second attempt was not successful, lengthen time for second attempt\n",
    "        # Attempt to determine steady state\n",
    "        conc_sol, flux_sol = sim.find_steady_state(\n",
    "            models=model, strategy=\"simulate\", update_values=True,\n",
    "            tfinal=tfinal * 100, \n",
    "            verbose=verbose)\n",
    "        if conc_sol and flux_sol:\n",
    "            continue\n",
    "        print(str(model) + \" third attempt failed. Eliminating model.\")\n",
    "        # Third attempt was not successful, eliminate the model\n",
    "        sim.remove_models(models=model, verbose=verbose)"
   ]
  },
  {
   "cell_type": "code",
   "execution_count": 44,
   "metadata": {},
   "outputs": [
    {
     "name": "stderr",
     "output_type": "stream",
     "text": [
      "\u001b[91mERROR:\u001b[0m \u001b[91mError encountered trying to  <set gene id  for '3099_AT1'>.\u001b[0m\n",
      "\u001b[91mERROR:\u001b[0m \u001b[91mLibSBML error code -4: A value passed as an argument to the method is not of a type that is valid for the operation or kind of object involved. For example, this return code is used when a calling program attempts to set an SBML object identifier to a string whose syntax does not conform to the SBML identifier syntax.\u001b[0m\n"
     ]
    },
    {
     "ename": "MassSimulationError",
     "evalue": "Could not load MassModel 'Glycolysis': Cannot load SBML Model 'Glycolysis' into RoadRunner due to error:\nline 244: (fbc-21203 [Error]) A <GeneProduct> object must have the required attributes 'fbc:id' and 'fbc:label' may have the optional attributes 'fbc:name' and 'fbc:associatedSpecies'. No other attributes from the SBML Level 3 Flux Balance Constraints namespace are permitted on a <GeneProduct> object. \nReference: L3V1 Fbc V2 Section 3.5\n Fbc attribute 'id' is missing from 'geneProduct' object.\n\n Make sure the model can be exported to a valid SBML model using the 'validate_model_to_SBML' method in the SBML submodule to ensure there are no SBML compliance issues with the model.",
     "output_type": "error",
     "traceback": [
      "\u001b[1;31m---------------------------------------------------------------------------\u001b[0m",
      "\u001b[1;31mMassSimulationError\u001b[0m                       Traceback (most recent call last)",
      "\u001b[1;32m~\\anaconda3\\lib\\site-packages\\mass\\simulation\\simulation.py\u001b[0m in \u001b[0;36m__init__\u001b[1;34m(self, reference_model, id, name, verbose, **kwargs)\u001b[0m\n\u001b[0;32m    186\u001b[0m             \u001b[1;31m# Load model into RoadRunner\u001b[0m\u001b[1;33m\u001b[0m\u001b[1;33m\u001b[0m\u001b[1;33m\u001b[0m\u001b[0m\n\u001b[1;32m--> 187\u001b[1;33m             rr = _load_model_into_roadrunner(reference_model, rr=None,\n\u001b[0m\u001b[0;32m    188\u001b[0m                                              verbose=verbose, **_SBML_KWARGS)\n",
      "\u001b[1;32m~\\anaconda3\\lib\\site-packages\\mass\\simulation\\simulation.py\u001b[0m in \u001b[0;36m_load_model_into_roadrunner\u001b[1;34m(mass_model, rr, verbose, **kwargs)\u001b[0m\n\u001b[0;32m   1394\u001b[0m                        \"issues with the model.\")\n\u001b[1;32m-> 1395\u001b[1;33m         \u001b[1;32mraise\u001b[0m \u001b[0mMassSimulationError\u001b[0m\u001b[1;33m(\u001b[0m\u001b[0mmsg\u001b[0m\u001b[1;33m)\u001b[0m\u001b[1;33m\u001b[0m\u001b[1;33m\u001b[0m\u001b[0m\n\u001b[0m\u001b[0;32m   1396\u001b[0m \u001b[1;33m\u001b[0m\u001b[0m\n",
      "\u001b[1;31mMassSimulationError\u001b[0m: Cannot load SBML Model 'Glycolysis' into RoadRunner due to error:\nline 244: (fbc-21203 [Error]) A <GeneProduct> object must have the required attributes 'fbc:id' and 'fbc:label' may have the optional attributes 'fbc:name' and 'fbc:associatedSpecies'. No other attributes from the SBML Level 3 Flux Balance Constraints namespace are permitted on a <GeneProduct> object. \nReference: L3V1 Fbc V2 Section 3.5\n Fbc attribute 'id' is missing from 'geneProduct' object.\n\n Make sure the model can be exported to a valid SBML model using the 'validate_model_to_SBML' method in the SBML submodule to ensure there are no SBML compliance issues with the model.",
      "\nDuring handling of the above exception, another exception occurred:\n",
      "\u001b[1;31mMassSimulationError\u001b[0m                       Traceback (most recent call last)",
      "\u001b[1;32m<ipython-input-44-9c0cbdd4b5c5>\u001b[0m in \u001b[0;36m<module>\u001b[1;34m\u001b[0m\n\u001b[0;32m      1\u001b[0m \u001b[1;31m###RUN THIS FOR TIME PROFILE\u001b[0m\u001b[1;33m\u001b[0m\u001b[1;33m\u001b[0m\u001b[1;33m\u001b[0m\u001b[0m\n\u001b[0;32m      2\u001b[0m \u001b[1;31m# Setup simulation object\u001b[0m\u001b[1;33m\u001b[0m\u001b[1;33m\u001b[0m\u001b[1;33m\u001b[0m\u001b[0m\n\u001b[1;32m----> 3\u001b[1;33m \u001b[0msim\u001b[0m \u001b[1;33m=\u001b[0m \u001b[0mSimulation\u001b[0m\u001b[1;33m(\u001b[0m\u001b[0mglycolysis\u001b[0m\u001b[1;33m,\u001b[0m \u001b[0mverbose\u001b[0m\u001b[1;33m=\u001b[0m\u001b[1;32mTrue\u001b[0m\u001b[1;33m)\u001b[0m\u001b[1;33m\u001b[0m\u001b[1;33m\u001b[0m\u001b[0m\n\u001b[0m\u001b[0;32m      4\u001b[0m \u001b[1;31m# Simulate from 0 to 1000 with 10001 points in the output\u001b[0m\u001b[1;33m\u001b[0m\u001b[1;33m\u001b[0m\u001b[1;33m\u001b[0m\u001b[0m\n\u001b[0;32m      5\u001b[0m \u001b[0mconc_sol\u001b[0m\u001b[1;33m,\u001b[0m \u001b[0mflux_sol\u001b[0m \u001b[1;33m=\u001b[0m \u001b[0msim\u001b[0m\u001b[1;33m.\u001b[0m\u001b[0msimulate\u001b[0m\u001b[1;33m(\u001b[0m\u001b[0mglycolysis\u001b[0m\u001b[1;33m,\u001b[0m \u001b[0mtime\u001b[0m\u001b[1;33m=\u001b[0m\u001b[1;33m(\u001b[0m\u001b[1;36m0\u001b[0m\u001b[1;33m,\u001b[0m \u001b[1;36m1e3\u001b[0m\u001b[1;33m,\u001b[0m \u001b[1;36m1e4\u001b[0m \u001b[1;33m+\u001b[0m \u001b[1;36m1\u001b[0m\u001b[1;33m)\u001b[0m\u001b[1;33m)\u001b[0m\u001b[1;33m\u001b[0m\u001b[1;33m\u001b[0m\u001b[0m\n",
      "\u001b[1;32m~\\anaconda3\\lib\\site-packages\\mass\\simulation\\simulation.py\u001b[0m in \u001b[0;36m__init__\u001b[1;34m(self, reference_model, id, name, verbose, **kwargs)\u001b[0m\n\u001b[0;32m    192\u001b[0m             \u001b[1;32mif\u001b[0m \u001b[0mverbose\u001b[0m\u001b[1;33m:\u001b[0m\u001b[1;33m\u001b[0m\u001b[1;33m\u001b[0m\u001b[0m\n\u001b[0;32m    193\u001b[0m                 \u001b[0mmsg\u001b[0m \u001b[1;33m+=\u001b[0m \u001b[1;34m\": \"\u001b[0m \u001b[1;33m+\u001b[0m \u001b[0mstr\u001b[0m\u001b[1;33m(\u001b[0m\u001b[0me\u001b[0m\u001b[1;33m)\u001b[0m\u001b[1;33m\u001b[0m\u001b[1;33m\u001b[0m\u001b[0m\n\u001b[1;32m--> 194\u001b[1;33m             \u001b[1;32mraise\u001b[0m \u001b[0mMassSimulationError\u001b[0m\u001b[1;33m(\u001b[0m\u001b[0mmsg\u001b[0m\u001b[1;33m)\u001b[0m\u001b[1;33m\u001b[0m\u001b[1;33m\u001b[0m\u001b[0m\n\u001b[0m\u001b[0;32m    195\u001b[0m \u001b[1;33m\u001b[0m\u001b[0m\n\u001b[0;32m    196\u001b[0m         \u001b[1;31m# Initialize Simulation\u001b[0m\u001b[1;33m\u001b[0m\u001b[1;33m\u001b[0m\u001b[1;33m\u001b[0m\u001b[0m\n",
      "\u001b[1;31mMassSimulationError\u001b[0m: Could not load MassModel 'Glycolysis': Cannot load SBML Model 'Glycolysis' into RoadRunner due to error:\nline 244: (fbc-21203 [Error]) A <GeneProduct> object must have the required attributes 'fbc:id' and 'fbc:label' may have the optional attributes 'fbc:name' and 'fbc:associatedSpecies'. No other attributes from the SBML Level 3 Flux Balance Constraints namespace are permitted on a <GeneProduct> object. \nReference: L3V1 Fbc V2 Section 3.5\n Fbc attribute 'id' is missing from 'geneProduct' object.\n\n Make sure the model can be exported to a valid SBML model using the 'validate_model_to_SBML' method in the SBML submodule to ensure there are no SBML compliance issues with the model."
     ]
    }
   ],
   "source": [
    "###RUN THIS FOR TIME PROFILE\n",
    "# Setup simulation object\n",
    "sim = Simulation(glycolysis, verbose=True)\n",
    "# Simulate from 0 to 1000 with 10001 points in the output\n",
    "conc_sol, flux_sol = sim.simulate(glycolysis, time=(0, 1e3, 1e4 + 1))\n",
    "# Quickly render and display time profiles\n",
    "conc_sol.view_time_profile()"
   ]
  },
  {
   "cell_type": "code",
   "execution_count": null,
   "metadata": {},
   "outputs": [],
   "source": []
  },
  {
   "cell_type": "code",
   "execution_count": null,
   "metadata": {},
   "outputs": [],
   "source": []
  },
  {
   "cell_type": "code",
   "execution_count": null,
   "metadata": {},
   "outputs": [],
   "source": []
  },
  {
   "cell_type": "code",
   "execution_count": null,
   "metadata": {},
   "outputs": [],
   "source": []
  },
  {
   "cell_type": "code",
   "execution_count": null,
   "metadata": {},
   "outputs": [],
   "source": [
    "## Adding additional reactions\n",
    "ADK1 = MassReaction(\n",
    "    \"ADK1\",\n",
    "    name=\"Adenylate kinase\",\n",
    "    subsystem=\"Misc.\",\n",
    "    reversible=True)\n",
    "\n",
    "ADK = ['amp_c','atp_c']\n",
    "for i in ADK:\n",
    "    item = glycolysis.metabolites.get_by_id(i)\n",
    "    ADK1.add_metabolites({item:1})\n",
    "    \n",
    "ADP =['adp_c']\n",
    "for i in ADP:\n",
    "    item = glycolysis.metabolites.get_by_id(i)\n",
    "    ADK1.add_metabolites({item:-2})\n"
   ]
  },
  {
   "cell_type": "code",
   "execution_count": null,
   "metadata": {},
   "outputs": [],
   "source": [
    "ATPM = MassReaction(\n",
    "    \"ATPM\",\n",
    "    name=\"ATP maintenance requirement\",\n",
    "    subsystem=\"Pseudoreaction\",\n",
    "    reversible=False)\n",
    "\n",
    "ATPM_1 = ['atp_c', 'h2o_c']\n",
    "ATPM_2= ['adp_c','h_c','pi_c']\n",
    "\n",
    "for i in ATPM_1:\n",
    "    item = glycolysis.metabolites.get_by_id(i)\n",
    "    ATPM.add_metabolites({item:-1})\n",
    "    \n",
    "\n",
    "for i in ATPM_2:\n",
    "    item = glycolysis.metabolites.get_by_id(i)\n",
    "    ATPM.add_metabolites({item:1})\n",
    "\n"
   ]
  },
  {
   "cell_type": "code",
   "execution_count": null,
   "metadata": {
    "scrolled": true
   },
   "outputs": [],
   "source": [
    "DM_nadh = MassReaction(\n",
    "    \"DM_nadh\",\n",
    "    name=\"Demand NADH\",\n",
    "    subsystem=\"Pseudoreaction\",\n",
    "    reversible=False)\n",
    "\n",
    "DM_nadh_1 = ['nadh_c']\n",
    "DM_nadh_2= ['nad_c','h_c']\n",
    "\n",
    "for i in DM_nadh_1:\n",
    "    item = glycolysis.metabolites.get_by_id(i)\n",
    "    DM_nadh.add_metabolites({item:-1})\n",
    "    \n",
    "\n",
    "for i in DM_nadh_2:\n",
    "    item = glycolysis.metabolites.get_by_id(i)\n",
    "    DM_nadh.add_metabolites({item:1})\n",
    "\n"
   ]
  },
  {
   "cell_type": "code",
   "execution_count": null,
   "metadata": {},
   "outputs": [],
   "source": [
    "# Add new reactions\n",
    "glycolysis.add_reactions([ADK1, ATPM, DM_nadh])\n",
    "\n",
    "for reaction in glycolysis.reactions:\n",
    "    print(reaction)"
   ]
  },
  {
   "cell_type": "markdown",
   "metadata": {},
   "source": [
    "### View extracted network"
   ]
  },
  {
   "cell_type": "code",
   "execution_count": null,
   "metadata": {},
   "outputs": [],
   "source": [
    "### NEED TO CHECK!!\n",
    "escher_builder = escher.Builder(\n",
    "    model=glycolysis,\n",
    "    map_json=os.path.join(\n",
    "        maps_dir, \".\".join((\n",
    "            glycolysis.id, \"map\", \"json\"))\n",
    "    ),\n",
    "    highlight_missing=True)\n",
    "\n",
    "escher_builder"
   ]
  },
  {
   "cell_type": "markdown",
   "metadata": {},
   "source": [
    "### Boundary Reactions"
   ]
  },
  {
   "cell_type": "code",
   "execution_count": null,
   "metadata": {},
   "outputs": [],
   "source": [
    "SK_glc__D_c = glycolysis.add_boundary(\n",
    "    metabolite=glycolysis.metabolites.get_by_id('glc__D_c'), boundary_type=\"sink\", subsystem=\"Pseudoreaction\",\n",
    "    boundary_condition=1)\n",
    "SK_glc__D_c.reverse_stoichiometry(inplace=True)\n",
    "\n",
    "SK_amp_c = glycolysis.add_boundary(\n",
    "    metabolite=glycolysis.metabolites.get_by_id('amp_c'), boundary_type=\"sink\", subsystem=\"Pseudoreaction\",\n",
    "    boundary_condition=1)\n",
    "SK_amp_c.reverse_stoichiometry(inplace=True)\n",
    "\n",
    "\n",
    "SK_lac__L_c = glycolysis.add_boundary(\n",
    "    metabolite=glycolysis.metabolites.get_by_id('lac__L_c'), boundary_type=\"sink\", subsystem=\"Pseudoreaction\",\n",
    "    boundary_condition=1)\n",
    "\n",
    "SK_pyr_c = glycolysis.add_boundary(\n",
    "    metabolite=glycolysis.metabolites.get_by_id('pyr_c'), boundary_type=\"sink\", subsystem=\"Pseudoreaction\",\n",
    "    boundary_condition=0.06)\n",
    "\n",
    "SK_h_c = glycolysis.add_boundary(\n",
    "    metabolite=glycolysis.metabolites.get_by_id('h_c'), boundary_type=\"sink\", subsystem=\"Pseudoreaction\",\n",
    "    boundary_condition=6.30957e-05)\n",
    "\n",
    "SK_h2o_c = glycolysis.add_boundary(\n",
    "    metabolite=glycolysis.metabolites.get_by_id('h2o_c'), boundary_type=\"sink\", subsystem=\"Pseudoreaction\",\n",
    "    boundary_condition=1)\n",
    "\n",
    "\n",
    "\n",
    "DM_amp_c = glycolysis.add_boundary(\n",
    "    metabolite=glycolysis.metabolites.get_by_id('amp_c'), boundary_type=\"demand\", subsystem=\"Pseudoreaction\",\n",
    "    boundary_condition=1)\n",
    "\n",
    "print(\"Boundary Reactions and Values\\n-----------------------------\")\n",
    "for reaction in glycolysis.boundary:\n",
    "    boundary_met = reaction.boundary_metabolite\n",
    "    bc_value = glycolysis.boundary_conditions.get(boundary_met)\n",
    "    print(\"{0}\\n{1}: {2}\\n\".format(\n",
    "        reaction, boundary_met, bc_value))"
   ]
  },
  {
   "cell_type": "code",
   "execution_count": null,
   "metadata": {},
   "outputs": [],
   "source": [
    "\n",
    "\n"
   ]
  },
  {
   "cell_type": "markdown",
   "metadata": {},
   "source": [
    "## Simulate at steady state"
   ]
  },
  {
   "cell_type": "code",
   "execution_count": null,
   "metadata": {},
   "outputs": [],
   "source": [
    "# Setup simulation object\n",
    "sim = Simulation(glycolysis, verbose=True)\n",
    "# Simulate from 0 to 1000 with 10001 points in the output\n",
    "conc_sol, flux_sol = sim.simulate(glycolysis, time=(0, 1e3, 1e4 + 1))\n",
    "# Quickly render and display time profiles\n",
    "conc_sol.view_time_profile()"
   ]
  },
  {
   "cell_type": "code",
   "execution_count": null,
   "metadata": {},
   "outputs": [],
   "source": []
  },
  {
   "cell_type": "markdown",
   "metadata": {},
   "source": [
    "# Export MASS model"
   ]
  },
  {
   "cell_type": "code",
   "execution_count": null,
   "metadata": {},
   "outputs": [],
   "source": [
    "save_json_mass_model(\n",
    "    mass_model=glycolysis,\n",
    "    filename=os.path.join(model_dir, glycolysis.id + \".json\"))"
   ]
  },
  {
   "cell_type": "code",
   "execution_count": null,
   "metadata": {},
   "outputs": [],
   "source": []
  }
 ],
 "metadata": {
  "kernelspec": {
   "display_name": "Python 3",
   "language": "python",
   "name": "python3"
  },
  "language_info": {
   "codemirror_mode": {
    "name": "ipython",
    "version": 3
   },
   "file_extension": ".py",
   "mimetype": "text/x-python",
   "name": "python",
   "nbconvert_exporter": "python",
   "pygments_lexer": "ipython3",
   "version": "3.8.3"
  }
 },
 "nbformat": 4,
 "nbformat_minor": 4
}
