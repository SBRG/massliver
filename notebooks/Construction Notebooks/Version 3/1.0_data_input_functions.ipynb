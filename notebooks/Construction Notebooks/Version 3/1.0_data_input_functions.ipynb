{
 "cells": [
  {
   "cell_type": "code",
   "execution_count": 1,
   "metadata": {},
   "outputs": [],
   "source": [
    "\"\"\"Contains functions for facilitating the Liver Metabolism case study.\"\"\"\n",
    "\n",
    "import pandas as pd\n",
    "\n",
    "from six import iteritems\n",
    "\n",
    "import sympy as sym\n",
    "\n",
    "#from mass import MassMetabolite\n",
    "#from mass.enzyme_modules import (\n",
    "    #EnzymeModule, EnzymeModuleForm, EnzymeModuleReaction)\n",
    "#from mass.io.json import load_json_model\n",
    "#from mass.util.expressions import strip_time\n"
   ]
  },
  {
   "cell_type": "code",
   "execution_count": 2,
   "metadata": {},
   "outputs": [],
   "source": [
    "# This takes in the file name (filepath) and sheet name to then extract data to then \n",
    "def load_data(filepath, sheet_name):\n",
    "    \"\"\"Load Liver data from an excel sheet\"\"\"\n",
    "    df = pd.read_excel(\n",
    "        io=filepath,\n",
    "        sheet_name=sheet_name,\n",
    "        index_col=0)\n",
    "    df = df.drop(\"Additional Notes\", axis=1)\n",
    "    df = df.drop(\"Name\", axis=1)\n",
    "    return df"
   ]
  },
  {
   "cell_type": "code",
   "execution_count": 4,
   "metadata": {
    "scrolled": false
   },
   "outputs": [
    {
     "data": {
      "text/html": [
       "<div>\n",
       "<style scoped>\n",
       "    .dataframe tbody tr th:only-of-type {\n",
       "        vertical-align: middle;\n",
       "    }\n",
       "\n",
       "    .dataframe tbody tr th {\n",
       "        vertical-align: top;\n",
       "    }\n",
       "\n",
       "    .dataframe thead th {\n",
       "        text-align: right;\n",
       "    }\n",
       "</style>\n",
       "<table border=\"1\" class=\"dataframe\">\n",
       "  <thead>\n",
       "    <tr style=\"text-align: right;\">\n",
       "      <th></th>\n",
       "      <th>Concentration (mM)</th>\n",
       "    </tr>\n",
       "    <tr>\n",
       "      <th>ID</th>\n",
       "      <th></th>\n",
       "    </tr>\n",
       "  </thead>\n",
       "  <tbody>\n",
       "    <tr>\n",
       "      <th>13dpg_c</th>\n",
       "      <td>NaN</td>\n",
       "    </tr>\n",
       "    <tr>\n",
       "      <th>2amac_c</th>\n",
       "      <td>NaN</td>\n",
       "    </tr>\n",
       "    <tr>\n",
       "      <th>2pg_c</th>\n",
       "      <td>0.110561</td>\n",
       "    </tr>\n",
       "    <tr>\n",
       "      <th>3haACP_c</th>\n",
       "      <td>NaN</td>\n",
       "    </tr>\n",
       "    <tr>\n",
       "      <th>3hbcoa_m</th>\n",
       "      <td>NaN</td>\n",
       "    </tr>\n",
       "    <tr>\n",
       "      <th>...</th>\n",
       "      <td>...</td>\n",
       "    </tr>\n",
       "    <tr>\n",
       "      <th>udp_c</th>\n",
       "      <td>0.315888</td>\n",
       "    </tr>\n",
       "    <tr>\n",
       "      <th>udpg_c</th>\n",
       "      <td>0.679781</td>\n",
       "    </tr>\n",
       "    <tr>\n",
       "      <th>urea_c</th>\n",
       "      <td>31.939803</td>\n",
       "    </tr>\n",
       "    <tr>\n",
       "      <th>utp_c</th>\n",
       "      <td>0.882147</td>\n",
       "    </tr>\n",
       "    <tr>\n",
       "      <th>xu5p__D_c</th>\n",
       "      <td>0.042703</td>\n",
       "    </tr>\n",
       "  </tbody>\n",
       "</table>\n",
       "<p>179 rows × 1 columns</p>\n",
       "</div>"
      ],
      "text/plain": [
       "           Concentration (mM)\n",
       "ID                           \n",
       "13dpg_c                   NaN\n",
       "2amac_c                   NaN\n",
       "2pg_c                0.110561\n",
       "3haACP_c                  NaN\n",
       "3hbcoa_m                  NaN\n",
       "...                       ...\n",
       "udp_c                0.315888\n",
       "udpg_c               0.679781\n",
       "urea_c              31.939803\n",
       "utp_c                0.882147\n",
       "xu5p__D_c            0.042703\n",
       "\n",
       "[179 rows x 1 columns]"
      ]
     },
     "execution_count": 4,
     "metadata": {},
     "output_type": "execute_result"
    }
   ],
   "source": [
    "conc_df = load_data(\"1.2-ma-data-collection.xlsx\", \"Concentrations\")\n",
    "conc_df"
   ]
  },
  {
   "cell_type": "code",
   "execution_count": null,
   "metadata": {},
   "outputs": [],
   "source": []
  }
 ],
 "metadata": {
  "kernelspec": {
   "display_name": "Python 3",
   "language": "python",
   "name": "python3"
  },
  "language_info": {
   "codemirror_mode": {
    "name": "ipython",
    "version": 3
   },
   "file_extension": ".py",
   "mimetype": "text/x-python",
   "name": "python",
   "nbconvert_exporter": "python",
   "pygments_lexer": "ipython3",
   "version": "3.8.3"
  }
 },
 "nbformat": 4,
 "nbformat_minor": 4
}
