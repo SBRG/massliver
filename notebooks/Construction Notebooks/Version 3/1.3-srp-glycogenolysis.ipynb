{
 "cells": [
  {
   "cell_type": "markdown",
   "metadata": {},
   "source": [
    "# Liver Model Construction: Notebook-Glycogenolysis"
   ]
  },
  {
   "cell_type": "markdown",
   "metadata": {},
   "source": [
    "## Setup workflow"
   ]
  },
  {
   "cell_type": "markdown",
   "metadata": {},
   "source": [
    "### Import packages"
   ]
  },
  {
   "cell_type": "code",
   "execution_count": 1,
   "metadata": {},
   "outputs": [
    {
     "name": "stdout",
     "output_type": "stream",
     "text": [
      "MASSpy version: 0.1.1\n"
     ]
    }
   ],
   "source": [
    "import os\n",
    "import warnings\n",
    "from cobra.io.json import load_json_model as load_json_cobra_model\n",
    "import escher\n",
    "import mass\n",
    "import numpy as np\n",
    "import pandas as pd\n",
    "import sympy as sym\n",
    "from cobra import Model, Reaction, Metabolite\n",
    "import cobra.test\n",
    "from os.path import join\n",
    "from mass.util import qcqa_model\n",
    "from cobra import DictList\n",
    "from mass import (\n",
    "    MassConfiguration, MassMetabolite, MassModel,\n",
    "    MassReaction, Simulation, UnitDefinition)\n",
    "from mass.io.json import save_json_model as save_json_mass_model\n",
    "from mass.visualization import plot_comparison, plot_time_profile\n",
    "mass_config = MassConfiguration()\n",
    "mass_config.irreversible_Keq = float(\"inf\")\n",
    "print(\"MASSpy version: {0}\".format(mass.__version__))\n",
    "from six import iteritems\n",
    "import matplotlib.pyplot as plt\n",
    "from mass.thermo import (\n",
    "    ConcSolver, sample_concentrations,\n",
    "    update_model_with_concentration_solution)"
   ]
  },
  {
   "cell_type": "markdown",
   "metadata": {},
   "source": [
    "## Set paths and constants"
   ]
  },
  {
   "cell_type": "code",
   "execution_count": 2,
   "metadata": {},
   "outputs": [],
   "source": [
    "seed = int(4)\n",
    "#increase number of models from before\n",
    "n_models = 20\n",
    "\n",
    "mass_config = MassConfiguration()\n",
    "mass_config.solver = \"cplex\""
   ]
  },
  {
   "cell_type": "code",
   "execution_count": null,
   "metadata": {},
   "outputs": [],
   "source": []
  },
  {
   "cell_type": "markdown",
   "metadata": {},
   "source": [
    "### Directory paths"
   ]
  },
  {
   "cell_type": "code",
   "execution_count": 3,
   "metadata": {},
   "outputs": [],
   "source": [
    "#had to remove the mass\n",
    "model_dir = os.path.abspath(\"../mass_user/models\")\n",
    "maps_dir = os.path.abspath(\"../mass_user/maps\")\n",
    "data_dir = os.path.abspath(\"../mass_user/data\")"
   ]
  },
  {
   "cell_type": "code",
   "execution_count": 4,
   "metadata": {},
   "outputs": [],
   "source": [
    "# Allow Escher to close without pop-up\n",
    "escher.rc['never_ask_before_quit'] = True\n"
   ]
  },
  {
   "cell_type": "markdown",
   "metadata": {},
   "source": [
    "### Load COBRA model"
   ]
  },
  {
   "cell_type": "code",
   "execution_count": 5,
   "metadata": {},
   "outputs": [
    {
     "data": {
      "text/html": [
       "\n",
       "        <table>\n",
       "            <tr>\n",
       "                <td><strong>Name</strong></td>\n",
       "                <td>None</td>\n",
       "            </tr><tr>\n",
       "                <td><strong>Memory address</strong></td>\n",
       "                <td>0x07f04292cfa50</td>\n",
       "            </tr><tr>\n",
       "                <td><strong>Number of metabolites</strong></td>\n",
       "                <td>178</td>\n",
       "            </tr><tr>\n",
       "                <td><strong>Number of reactions</strong></td>\n",
       "                <td>187</td>\n",
       "            </tr><tr>\n",
       "                <td><strong>Number of groups</strong></td>\n",
       "                <td>0</td>\n",
       "            </tr><tr>\n",
       "                <td><strong>Objective expression</strong></td>\n",
       "                <td>1.0*ATPM - 1.0*ATPM_reverse_5b752</td>\n",
       "            </tr><tr>\n",
       "                <td><strong>Compartments</strong></td>\n",
       "                <td>m, i, c, r, </td>\n",
       "            </tr>\n",
       "          </table>"
      ],
      "text/plain": [
       "<Model None at 0x7f04292cfa50>"
      ]
     },
     "execution_count": 5,
     "metadata": {},
     "output_type": "execute_result"
    }
   ],
   "source": [
    "core_model=load_json_cobra_model(filename=os.path.join(model_dir,\"CoreModel.json\"))\n",
    "core_model"
   ]
  },
  {
   "cell_type": "code",
   "execution_count": 6,
   "metadata": {},
   "outputs": [],
   "source": [
    "# core_model.reactions.remove_from_model()\n",
    "\n",
    "core_model.reactions.EX_glc__D_c.remove_from_model()\n"
   ]
  },
  {
   "cell_type": "code",
   "execution_count": 7,
   "metadata": {},
   "outputs": [],
   "source": [
    "# core_model.remove_reactions([EX_glc__D_c])"
   ]
  },
  {
   "cell_type": "code",
   "execution_count": null,
   "metadata": {},
   "outputs": [],
   "source": []
  },
  {
   "cell_type": "code",
   "execution_count": 8,
   "metadata": {},
   "outputs": [],
   "source": [
    "## adding reactions from Recon3D\n",
    "R3D=load_json_cobra_model(filename=os.path.join(model_dir,\"Recon3D.json\"))"
   ]
  },
  {
   "cell_type": "code",
   "execution_count": 9,
   "metadata": {},
   "outputs": [],
   "source": [
    "## adding reactions from glycogenloysis \n",
    "gly=load_json_cobra_model(filename=os.path.join(model_dir,\"Glycogenolysis.json\"))"
   ]
  },
  {
   "cell_type": "code",
   "execution_count": 10,
   "metadata": {},
   "outputs": [],
   "source": [
    "## change after double checking this, maybe not needed to be added to core?\n",
    "a= R3D.reactions.EX_glc__D_e\n",
    "b= R3D.reactions.GLCt1\n",
    "g= gly.reactions.SK_g6p_c\n",
    "new_r_list=[\n",
    "            a,\n",
    "            b,\n",
    "            g\n",
    "    \n",
    "]\n"
   ]
  },
  {
   "cell_type": "code",
   "execution_count": 11,
   "metadata": {},
   "outputs": [],
   "source": [
    "for x in new_r_list:\n",
    "    c= x\n",
    "    core_model.add_reaction(c)"
   ]
  },
  {
   "cell_type": "code",
   "execution_count": 12,
   "metadata": {},
   "outputs": [
    {
     "data": {
      "text/html": [
       "\n",
       "        <table>\n",
       "            <tr>\n",
       "                <td><strong>Reaction identifier</strong></td><td>GLCt1</td>\n",
       "            </tr><tr>\n",
       "                <td><strong>Name</strong></td><td>Glucose transport  uniport </td>\n",
       "            </tr><tr>\n",
       "                <td><strong>Memory address</strong></td>\n",
       "                <td>0x07f0420aef210</td>\n",
       "            </tr><tr>\n",
       "                <td><strong>Stoichiometry</strong></td>\n",
       "                <td>\n",
       "                    <p style='text-align:right'>glc__D_e <=> glc__D_c</p>\n",
       "                    <p style='text-align:right'>D-Glucose <=> D-Glucose</p>\n",
       "                </td>\n",
       "            </tr><tr>\n",
       "                <td><strong>GPR</strong></td><td>66035_AT1 or 6517_AT1 or 56606_AT1 or 154091_AT1 or 6513_AT1 or 11182_AT1 or 29988_AT1 or 6514_AT...</td>\n",
       "            </tr><tr>\n",
       "                <td><strong>Lower bound</strong></td><td>-1000.0</td>\n",
       "            </tr><tr>\n",
       "                <td><strong>Upper bound</strong></td><td>1000.0</td>\n",
       "            </tr>\n",
       "        </table>\n",
       "        "
      ],
      "text/plain": [
       "<Reaction GLCt1 at 0x7f0420aef210>"
      ]
     },
     "execution_count": 12,
     "metadata": {},
     "output_type": "execute_result"
    }
   ],
   "source": [
    "core_model.reactions.GLCt1"
   ]
  },
  {
   "cell_type": "markdown",
   "metadata": {},
   "source": [
    "## View Escher map"
   ]
  },
  {
   "cell_type": "code",
   "execution_count": 13,
   "metadata": {},
   "outputs": [
    {
     "data": {
      "application/vnd.jupyter.widget-view+json": {
       "model_id": "c0ab5bbec0464c6cb2f6e831fe043401",
       "version_major": 2,
       "version_minor": 0
      },
      "text/plain": [
       "Builder(highlight_missing=True, never_ask_before_quit=True)"
      ]
     },
     "metadata": {},
     "output_type": "display_data"
    }
   ],
   "source": [
    "#view all the reactions that we need build\n",
    "escher_builder = escher.Builder(\n",
    "    model=core_model,\n",
    "    map_json=os.path.join(\n",
    "        maps_dir, \".\".join((\n",
    "            \"Glycogenolysis\", \"map\", \"json\"))\n",
    "    ),\n",
    "    highlight_missing=True)\n",
    "\n",
    "escher_builder\n"
   ]
  },
  {
   "cell_type": "markdown",
   "metadata": {},
   "source": [
    "### Loading Measured Fluxes"
   ]
  },
  {
   "cell_type": "code",
   "execution_count": 14,
   "metadata": {},
   "outputs": [],
   "source": [
    "def load_data(filepath, sheet_name):\n",
    "    \"\"\"Load Liver data from an excel sheet\"\"\"\n",
    "    df = pd.read_excel(engine='openpyxl',\n",
    "        io=filepath,\n",
    "        sheet_name=sheet_name,\n",
    "        index_col=0)\n",
    "    return df"
   ]
  },
  {
   "cell_type": "code",
   "execution_count": 15,
   "metadata": {},
   "outputs": [
    {
     "data": {
      "text/html": [
       "<div>\n",
       "<style scoped>\n",
       "    .dataframe tbody tr th:only-of-type {\n",
       "        vertical-align: middle;\n",
       "    }\n",
       "\n",
       "    .dataframe tbody tr th {\n",
       "        vertical-align: top;\n",
       "    }\n",
       "\n",
       "    .dataframe thead th {\n",
       "        text-align: right;\n",
       "    }\n",
       "</style>\n",
       "<table border=\"1\" class=\"dataframe\">\n",
       "  <thead>\n",
       "    <tr style=\"text-align: right;\">\n",
       "      <th></th>\n",
       "      <th>Flux (mmol/gDW*hr)</th>\n",
       "    </tr>\n",
       "    <tr>\n",
       "      <th>ID</th>\n",
       "      <th></th>\n",
       "    </tr>\n",
       "  </thead>\n",
       "  <tbody>\n",
       "    <tr>\n",
       "      <th>GLCter</th>\n",
       "      <td>-0.001682</td>\n",
       "    </tr>\n",
       "    <tr>\n",
       "      <th>G6PPer</th>\n",
       "      <td>0.001682</td>\n",
       "    </tr>\n",
       "    <tr>\n",
       "      <th>G6Pter</th>\n",
       "      <td>0.001682</td>\n",
       "    </tr>\n",
       "    <tr>\n",
       "      <th>GLPASE1</th>\n",
       "      <td>0.000223</td>\n",
       "    </tr>\n",
       "    <tr>\n",
       "      <th>PGMT</th>\n",
       "      <td>0.000223</td>\n",
       "    </tr>\n",
       "    <tr>\n",
       "      <th>EX_glygn2_c</th>\n",
       "      <td>-0.000223</td>\n",
       "    </tr>\n",
       "    <tr>\n",
       "      <th>GAPD</th>\n",
       "      <td>-0.002919</td>\n",
       "    </tr>\n",
       "    <tr>\n",
       "      <th>PGK</th>\n",
       "      <td>0.002919</td>\n",
       "    </tr>\n",
       "    <tr>\n",
       "      <th>PGM</th>\n",
       "      <td>0.002919</td>\n",
       "    </tr>\n",
       "    <tr>\n",
       "      <th>ENO</th>\n",
       "      <td>-0.002919</td>\n",
       "    </tr>\n",
       "    <tr>\n",
       "      <th>PEPCKm</th>\n",
       "      <td>0.004877</td>\n",
       "    </tr>\n",
       "    <tr>\n",
       "      <th>PCm</th>\n",
       "      <td>0.004685</td>\n",
       "    </tr>\n",
       "    <tr>\n",
       "      <th>LDH_L</th>\n",
       "      <td>0.002727</td>\n",
       "    </tr>\n",
       "    <tr>\n",
       "      <th>PYK</th>\n",
       "      <td>0.001951</td>\n",
       "    </tr>\n",
       "    <tr>\n",
       "      <th>ME2</th>\n",
       "      <td>0.001951</td>\n",
       "    </tr>\n",
       "    <tr>\n",
       "      <th>CSm</th>\n",
       "      <td>0.002903</td>\n",
       "    </tr>\n",
       "    <tr>\n",
       "      <th>MDHm</th>\n",
       "      <td>0.003095</td>\n",
       "    </tr>\n",
       "    <tr>\n",
       "      <th>EX_glc__D_e</th>\n",
       "      <td>0.001682</td>\n",
       "    </tr>\n",
       "    <tr>\n",
       "      <th>GLCt1</th>\n",
       "      <td>-0.001682</td>\n",
       "    </tr>\n",
       "    <tr>\n",
       "      <th>EX_lac__L_c</th>\n",
       "      <td>-0.000548</td>\n",
       "    </tr>\n",
       "    <tr>\n",
       "      <th>EX_pyr_c</th>\n",
       "      <td>-0.000078</td>\n",
       "    </tr>\n",
       "    <tr>\n",
       "      <th>TPI</th>\n",
       "      <td>0.000000</td>\n",
       "    </tr>\n",
       "    <tr>\n",
       "      <th>FBA</th>\n",
       "      <td>-0.002919</td>\n",
       "    </tr>\n",
       "    <tr>\n",
       "      <th>FBP</th>\n",
       "      <td>0.002919</td>\n",
       "    </tr>\n",
       "    <tr>\n",
       "      <th>PFK</th>\n",
       "      <td>0.000000</td>\n",
       "    </tr>\n",
       "    <tr>\n",
       "      <th>PGI</th>\n",
       "      <td>-0.002919</td>\n",
       "    </tr>\n",
       "  </tbody>\n",
       "</table>\n",
       "</div>"
      ],
      "text/plain": [
       "             Flux (mmol/gDW*hr)\n",
       "ID                             \n",
       "GLCter                -0.001682\n",
       "G6PPer                 0.001682\n",
       "G6Pter                 0.001682\n",
       "GLPASE1                0.000223\n",
       "PGMT                   0.000223\n",
       "EX_glygn2_c           -0.000223\n",
       "GAPD                  -0.002919\n",
       "PGK                    0.002919\n",
       "PGM                    0.002919\n",
       "ENO                   -0.002919\n",
       "PEPCKm                 0.004877\n",
       "PCm                    0.004685\n",
       "LDH_L                  0.002727\n",
       "PYK                    0.001951\n",
       "ME2                    0.001951\n",
       "CSm                    0.002903\n",
       "MDHm                   0.003095\n",
       "EX_glc__D_e            0.001682\n",
       "GLCt1                 -0.001682\n",
       "EX_lac__L_c           -0.000548\n",
       "EX_pyr_c              -0.000078\n",
       "TPI                    0.000000\n",
       "FBA                   -0.002919\n",
       "FBP                    0.002919\n",
       "PFK                    0.000000\n",
       "PGI                   -0.002919"
      ]
     },
     "execution_count": 15,
     "metadata": {},
     "output_type": "execute_result"
    }
   ],
   "source": [
    "#define data sheet as latest data sheet\n",
    "data_sheet=os.path.join(data_dir,\"1.12-ma-data-collection-glycogenolysis.xlsx\")\n",
    "\n",
    "flux_df = load_data(\n",
    "    filepath=data_sheet,\n",
    "    sheet_name=\"Fluxes\").drop(\"Fasting Time\", axis=1).drop(\"Additional Notes\", axis=1).drop(\"Unnamed: 4\", axis=1).drop(\"Unnamed: 5\", axis=1)\n",
    "    ## weird anomaly, shouldn't happen * unnames:4 and 5\n",
    "\n",
    "flux_df = flux_df.dropna() #drops rows with NaN\n",
    "flux_df\n"
   ]
  },
  {
   "cell_type": "code",
   "execution_count": 16,
   "metadata": {},
   "outputs": [],
   "source": [
    "v_vars = []\n",
    "v_data = []\n",
    "\n",
    "# How much flux to allow through irreversible reaction pairs\n",
    "# e.g, PFK/FBP & reverse_flux_percent = 0.1, raise both fluxes by 10% of non-zero flux value\n",
    "reverse_flux_percent = 0.1\n",
    "irreversible_enzyme_pairs = [\"PFK\", \"FBP\"]"
   ]
  },
  {
   "cell_type": "code",
   "execution_count": 17,
   "metadata": {},
   "outputs": [
    {
     "data": {
      "text/plain": [
       "[<Reaction CSm at 0x7f04291e2150>,\n",
       " <Reaction ACONTm at 0x7f04291e21d0>,\n",
       " <Reaction ICDHxm at 0x7f04291e2210>,\n",
       " <Reaction AKGDm at 0x7f04291e2190>,\n",
       " <Reaction SUCOASm at 0x7f04291e27d0>,\n",
       " <Reaction SUCD1m at 0x7f04291e2250>,\n",
       " <Reaction FUMm at 0x7f04291ed310>,\n",
       " <Reaction MDHm at 0x7f04291ed510>,\n",
       " <Reaction NADH2_u10mi at 0x7f04291edb10>,\n",
       " <Reaction FADH2ETC at 0x7f04291e2790>,\n",
       " <Reaction CYOR_u10mi at 0x7f04291f6d10>,\n",
       " <Reaction CYOOm2i at 0x7f04291f6890>,\n",
       " <Reaction ATPS4mi at 0x7f04291f6910>,\n",
       " <Reaction Htmi at 0x7f04292cfcd0>,\n",
       " <Reaction HEX1 at 0x7f04291fdd90>,\n",
       " <Reaction PGI at 0x7f04291fd610>,\n",
       " <Reaction PFK at 0x7f0429193bd0>,\n",
       " <Reaction FBA at 0x7f0429197090>,\n",
       " <Reaction TPI at 0x7f04291939d0>,\n",
       " <Reaction GAPD at 0x7f042907a0d0>,\n",
       " <Reaction PGK at 0x7f042907a750>,\n",
       " <Reaction PGM at 0x7f042907a310>,\n",
       " <Reaction ENO at 0x7f042907a910>,\n",
       " <Reaction PYK at 0x7f042907b0d0>,\n",
       " <Reaction ADK1 at 0x7f042907b6d0>,\n",
       " <Reaction PDHm at 0x7f042907d210>,\n",
       " <Reaction LDH_L at 0x7f042907dd10>,\n",
       " <Reaction G6PDH2r at 0x7f042907d710>,\n",
       " <Reaction PGL at 0x7f042907dcd0>,\n",
       " <Reaction GND at 0x7f042907ca90>,\n",
       " <Reaction RPI at 0x7f042907c2d0>,\n",
       " <Reaction RPE at 0x7f042907fe90>,\n",
       " <Reaction TKT1 at 0x7f042907fa10>,\n",
       " <Reaction TKT2 at 0x7f042903e190>,\n",
       " <Reaction TALA at 0x7f042903e4d0>,\n",
       " <Reaction PCm at 0x7f042903e550>,\n",
       " <Reaction PEPCKm at 0x7f042903e7d0>,\n",
       " <Reaction FBP at 0x7f042903e710>,\n",
       " <Reaction G6PPer at 0x7f042903f550>,\n",
       " <Reaction G6Pter at 0x7f042903f150>,\n",
       " <Reaction GLCter at 0x7f042903fc10>,\n",
       " <Reaction MALtm at 0x7f042903f510>,\n",
       " <Reaction MDH at 0x7f0429046c90>,\n",
       " <Reaction PEPCK_re at 0x7f0429046d10>,\n",
       " <Reaction PGMT at 0x7f0429046b90>,\n",
       " <Reaction GALUi at 0x7f0429047710>,\n",
       " <Reaction GLGNS1 at 0x7f04290471d0>,\n",
       " <Reaction GLBRAN at 0x7f0429047790>,\n",
       " <Reaction GLPASE1 at 0x7f0429047c10>,\n",
       " <Reaction GLDBRAN at 0x7f0429047ed0>,\n",
       " <Reaction GLPASE2 at 0x7f0429077ed0>,\n",
       " <Reaction GGNG at 0x7f0429077410>,\n",
       " <Reaction ACACT1m at 0x7f042904b350>,\n",
       " <Reaction HMGCOASm at 0x7f042904bf90>,\n",
       " <Reaction HMGLm at 0x7f042904bf50>,\n",
       " <Reaction ADCim at 0x7f04291aab90>,\n",
       " <Reaction BDHm at 0x7f04291aa150>,\n",
       " <Reaction OCOAT1m at 0x7f04291b2610>,\n",
       " <Reaction NDPK1 at 0x7f04291b2150>,\n",
       " <Reaction NDPK1m at 0x7f04291b2110>,\n",
       " <Reaction NDPK2 at 0x7f04291b2dd0>,\n",
       " <Reaction HCO3Em at 0x7f04291b7b10>,\n",
       " <Reaction ATPtm at 0x7f04291b7290>,\n",
       " <Reaction AKGMALtm at 0x7f04291b7d90>,\n",
       " <Reaction ASPTA at 0x7f04291c0210>,\n",
       " <Reaction ASPTAm at 0x7f04291c0650>,\n",
       " <Reaction CITtam at 0x7f04291c08d0>,\n",
       " <Reaction CITL at 0x7f04291caa50>,\n",
       " <Reaction ME2 at 0x7f04291cae10>,\n",
       " <Reaction ACS at 0x7f04291cae50>,\n",
       " <Reaction ARGN at 0x7f0429012a50>,\n",
       " <Reaction OCBTm at 0x7f0429012250>,\n",
       " <Reaction ARGSS at 0x7f0429012490>,\n",
       " <Reaction ARGSL at 0x7f0429012e90>,\n",
       " <Reaction CBPSam at 0x7f042901a950>,\n",
       " <Reaction NH4tm at 0x7f042901a510>,\n",
       " <Reaction GDHm at 0x7f042901a990>,\n",
       " <Reaction GLNS at 0x7f042901f350>,\n",
       " <Reaction GLUN at 0x7f042901f050>,\n",
       " <Reaction ALATA_L at 0x7f042901f8d0>,\n",
       " <Reaction CYSO at 0x7f042901f310>,\n",
       " <Reaction 3SALATAi at 0x7f0429028cd0>,\n",
       " <Reaction 3SPYRSP at 0x7f0429028810>,\n",
       " <Reaction PGCD at 0x7f0429028c90>,\n",
       " <Reaction PSERT at 0x7f042902f950>,\n",
       " <Reaction PSP_L at 0x7f042902fe10>,\n",
       " <Reaction GHMT2r at 0x7f042902fa10>,\n",
       " <Reaction ASNS1 at 0x7f0429037210>,\n",
       " <Reaction GLYtm at 0x7f0429037a10>,\n",
       " <Reaction MLTHFtm at 0x7f04290371d0>,\n",
       " <Reaction THFtm at 0x7f0429037250>,\n",
       " <Reaction KHK at 0x7f0429037690>,\n",
       " <Reaction FBA2 at 0x7f0429040790>,\n",
       " <Reaction TRIOK at 0x7f0429040e50>,\n",
       " <Reaction ALCD19y at 0x7f0429040ad0>,\n",
       " <Reaction GLYK at 0x7f0429040850>,\n",
       " <Reaction 2AMACHYD at 0x7f042904a250>,\n",
       " <Reaction SERHL at 0x7f042904ac50>,\n",
       " <Reaction ALCD2x at 0x7f042904a750>,\n",
       " <Reaction ACALDtm at 0x7f0428fd9b50>,\n",
       " <Reaction ALDD2xm at 0x7f0428fd9e50>,\n",
       " <Reaction ACSm at 0x7f0428fd9dd0>,\n",
       " <Reaction Htm at 0x7f0428fd9090>,\n",
       " <Reaction O2tm at 0x7f04291c0b50>,\n",
       " <Reaction H2Otr at 0x7f0428fd9d90>,\n",
       " <Reaction H2Otm at 0x7f0428fe8450>,\n",
       " <Reaction PItm at 0x7f0428fe8390>,\n",
       " <Reaction PItr at 0x7f0428fe8490>,\n",
       " <Reaction CO2tm at 0x7f0428fe8650>,\n",
       " <Reaction PPA at 0x7f0428fe8810>,\n",
       " <Reaction HCO3E at 0x7f0428fe89d0>,\n",
       " <Reaction PEPtm at 0x7f0428fe8b90>,\n",
       " <Reaction PYRt2m at 0x7f0428fe8ed0>,\n",
       " <Reaction ASPGLUm at 0x7f0428ff0290>,\n",
       " <Reaction THD1m at 0x7f0428ff00d0>,\n",
       " <Reaction BHBtm at 0x7f0428ff0910>,\n",
       " <Reaction ACETONEt2m at 0x7f0428ff0c50>,\n",
       " <Reaction ORNt4m at 0x7f0428ff05d0>,\n",
       " <Reaction FUMtm at 0x7f0428ff7910>,\n",
       " <Reaction GLUt2m at 0x7f0428ff78d0>,\n",
       " <Reaction GLYCLm at 0x7f0428ff7450>,\n",
       " <Reaction FACOAL80PROD at 0x7f0428ff7c90>,\n",
       " <Reaction GAPT at 0x7f0428fff810>,\n",
       " <Reaction AGPTAT at 0x7f0428fff450>,\n",
       " <Reaction LPIN at 0x7f0428fff490>,\n",
       " <Reaction DGAT at 0x7f0429006590>,\n",
       " <Reaction ACCOAC at 0x7f04290060d0>,\n",
       " <Reaction MCOATA at 0x7f0429006550>,\n",
       " <Reaction ACOATA at 0x7f0429006f90>,\n",
       " <Reaction KAS14 at 0x7f0429006910>,\n",
       " <Reaction 30AR40 at 0x7f0429006c50>,\n",
       " <Reaction 3HAD40 at 0x7f042900d810>,\n",
       " <Reaction EAR40y at 0x7f042900d850>,\n",
       " <Reaction 30AS60 at 0x7f042900dbd0>,\n",
       " <Reaction 30AR60 at 0x7f0429095810>,\n",
       " <Reaction 3HAD60 at 0x7f0429095a90>,\n",
       " <Reaction EAR60y at 0x7f0429095390>,\n",
       " <Reaction 30AS80 at 0x7f04290953d0>,\n",
       " <Reaction 30AR80 at 0x7f042909b790>,\n",
       " <Reaction 3HAD80 at 0x7f042909ba10>,\n",
       " <Reaction EAR80y at 0x7f042909b310>,\n",
       " <Reaction FA80ACPHi at 0x7f042909b350>,\n",
       " <Reaction FACOAL80 at 0x7f04290a3710>,\n",
       " <Reaction C80CPT1 at 0x7f04290a3290>,\n",
       " <Reaction r2434 at 0x7f04290a3d90>,\n",
       " <Reaction CRNtim at 0x7f04290a3990>,\n",
       " <Reaction r0636 at 0x7f04290a32d0>,\n",
       " <Reaction COAtim at 0x7f04290aa610>,\n",
       " <Reaction ACOAD3fm at 0x7f04290aa650>,\n",
       " <Reaction ECOAH3m at 0x7f04290aa9d0>,\n",
       " <Reaction HACD3m at 0x7f04290aad10>,\n",
       " <Reaction ACACT3rm at 0x7f04290aaed0>,\n",
       " <Reaction ACOAD2fm at 0x7f04290b1750>,\n",
       " <Reaction ECOAH2m at 0x7f04290b1250>,\n",
       " <Reaction HACD2m at 0x7f04290b19d0>,\n",
       " <Reaction ACACT2rm at 0x7f04290b1410>,\n",
       " <Reaction ACOAD1fm at 0x7f04290b1dd0>,\n",
       " <Reaction ECOAH1m at 0x7f04290b9710>,\n",
       " <Reaction HACD1m at 0x7f04290b9490>,\n",
       " <Reaction ACACT1rm at 0x7f04290b9150>,\n",
       " <Reaction ATPM at 0x7f04290b9b10>,\n",
       " <Reaction EX_h_c at 0x7f04290b9e50>,\n",
       " <Reaction EX_pyr_c at 0x7f04290bf850>,\n",
       " <Reaction EX_h2o_c at 0x7f04290bf450>,\n",
       " <Reaction EX_pi_c at 0x7f04290bfad0>,\n",
       " <Reaction EX_lac__L_c at 0x7f04290bffd0>,\n",
       " <Reaction EX_co2_c at 0x7f04290bf1d0>,\n",
       " <Reaction EX_o2_c at 0x7f04290c7310>,\n",
       " <Reaction EX_octa_prod_c at 0x7f04290c7210>,\n",
       " <Reaction EX_octa_cons_c at 0x7f04290c7410>,\n",
       " <Reaction EX_urea_c at 0x7f04290c7510>,\n",
       " <Reaction EX_gln__L_c at 0x7f04290c7610>,\n",
       " <Reaction EX_acetone_c at 0x7f04290c7710>,\n",
       " <Reaction EX_bhb_c at 0x7f04290c7810>,\n",
       " <Reaction EX_glu__L_c at 0x7f04290c7910>,\n",
       " <Reaction EX_ser__L_c at 0x7f04290c7a10>,\n",
       " <Reaction EX_cys__L_c at 0x7f04290c7b10>,\n",
       " <Reaction EX_gly_c at 0x7f04290c7c10>,\n",
       " <Reaction EX_glygn2_c at 0x7f04290c7d10>,\n",
       " <Reaction EX_Tyr_ggn_c at 0x7f04290c7e10>,\n",
       " <Reaction EX_ala__L_c at 0x7f04290c7f10>,\n",
       " <Reaction EX_nh4_c at 0x7f04290c7fd0>,\n",
       " <Reaction EX_so3_c at 0x7f04290c7110>,\n",
       " <Reaction EX_etoh_c at 0x7f0429153350>,\n",
       " <Reaction EX_glyc_3octa_c at 0x7f0429153250>,\n",
       " <Reaction EX_fru_c at 0x7f0429153450>,\n",
       " <Reaction EX_glc__D_e at 0x7f0422de4450>,\n",
       " <Reaction GLCt1 at 0x7f0420aef210>,\n",
       " <Reaction SK_g6p_c at 0x7f0428170bd0>]"
      ]
     },
     "execution_count": 17,
     "metadata": {},
     "output_type": "execute_result"
    }
   ],
   "source": [
    "core_model.reactions"
   ]
  },
  {
   "cell_type": "code",
   "execution_count": 18,
   "metadata": {},
   "outputs": [
    {
     "name": "stdout",
     "output_type": "stream",
     "text": [
      "GLCter: glc__D_c <=> glc__D_r\n",
      "G6PPer: g6p_r + h2o_r --> glc__D_r + pi_r\n",
      "G6Pter: g6p_c <=> g6p_r\n",
      "GLPASE1: glygn2_c + 3.0 pi_c --> dxtrn_c + 3.0 g1p_c\n",
      "PGMT: g1p_c <=> g6p_c\n",
      "EX_glygn2_c: glygn2_c --> \n",
      "GAPD: g3p_c + nad_c + pi_c <=> 13dpg_c + h_c + nadh_c\n",
      "PGK: 3pg_c + atp_c <=> 13dpg_c + adp_c\n",
      "PGM: 2pg_c <=> 3pg_c\n",
      "ENO: 2pg_c <=> h2o_c + pep_c\n",
      "PEPCKm: gtp_m + oaa_m --> co2_m + gdp_m + pep_m\n",
      "PCm: atp_m + hco3_m + pyr_m --> adp_m + h_m + oaa_m + pi_m\n",
      "LDH_L: lac__L_c + nad_c <=> h_c + nadh_c + pyr_c\n",
      "PYK: adp_c + h_c + pep_c --> atp_c + pyr_c\n",
      "ME2: mal__L_c + nadp_c --> co2_c + nadph_c + pyr_c\n",
      "CSm: accoa_m + h2o_m + oaa_m --> cit_m + coa_m + h_m\n",
      "MDHm: mal__L_m + nad_m <=> h_m + nadh_m + oaa_m\n",
      "EX_glc__D_e: glc__D_e <=> \n",
      "GLCt1: glc__D_e <=> glc__D_c\n",
      "EX_lac__L_c: lac__L_c --> \n",
      "EX_pyr_c: pyr_c --> \n",
      "TPI: dhap_c <=> g3p_c\n",
      "FBA: fdp_c <=> dhap_c + g3p_c\n",
      "FBP: fdp_c + h2o_c --> f6p_c + pi_c\n",
      "PFK: atp_c + f6p_c --> adp_c + fdp_c + h_c\n",
      "PGI: g6p_c <=> f6p_c\n"
     ]
    }
   ],
   "source": [
    "for rid, flux in flux_df.itertuples():\n",
    "    reaction = core_model.reactions.get_by_id(rid)\n",
    "    print(reaction)"
   ]
  },
  {
   "cell_type": "code",
   "execution_count": 19,
   "metadata": {},
   "outputs": [
    {
     "data": {
      "text/plain": [
       "[<Reaction CSm at 0x7f04291e2150>,\n",
       " <Reaction ACONTm at 0x7f04291e21d0>,\n",
       " <Reaction ICDHxm at 0x7f04291e2210>,\n",
       " <Reaction AKGDm at 0x7f04291e2190>,\n",
       " <Reaction SUCOASm at 0x7f04291e27d0>,\n",
       " <Reaction SUCD1m at 0x7f04291e2250>,\n",
       " <Reaction FUMm at 0x7f04291ed310>,\n",
       " <Reaction MDHm at 0x7f04291ed510>,\n",
       " <Reaction NADH2_u10mi at 0x7f04291edb10>,\n",
       " <Reaction FADH2ETC at 0x7f04291e2790>,\n",
       " <Reaction CYOR_u10mi at 0x7f04291f6d10>,\n",
       " <Reaction CYOOm2i at 0x7f04291f6890>,\n",
       " <Reaction ATPS4mi at 0x7f04291f6910>,\n",
       " <Reaction Htmi at 0x7f04292cfcd0>,\n",
       " <Reaction HEX1 at 0x7f04291fdd90>,\n",
       " <Reaction PGI at 0x7f04291fd610>,\n",
       " <Reaction PFK at 0x7f0429193bd0>,\n",
       " <Reaction FBA at 0x7f0429197090>,\n",
       " <Reaction TPI at 0x7f04291939d0>,\n",
       " <Reaction GAPD at 0x7f042907a0d0>,\n",
       " <Reaction PGK at 0x7f042907a750>,\n",
       " <Reaction PGM at 0x7f042907a310>,\n",
       " <Reaction ENO at 0x7f042907a910>,\n",
       " <Reaction PYK at 0x7f042907b0d0>,\n",
       " <Reaction ADK1 at 0x7f042907b6d0>,\n",
       " <Reaction PDHm at 0x7f042907d210>,\n",
       " <Reaction LDH_L at 0x7f042907dd10>,\n",
       " <Reaction G6PDH2r at 0x7f042907d710>,\n",
       " <Reaction PGL at 0x7f042907dcd0>,\n",
       " <Reaction GND at 0x7f042907ca90>,\n",
       " <Reaction RPI at 0x7f042907c2d0>,\n",
       " <Reaction RPE at 0x7f042907fe90>,\n",
       " <Reaction TKT1 at 0x7f042907fa10>,\n",
       " <Reaction TKT2 at 0x7f042903e190>,\n",
       " <Reaction TALA at 0x7f042903e4d0>,\n",
       " <Reaction PCm at 0x7f042903e550>,\n",
       " <Reaction PEPCKm at 0x7f042903e7d0>,\n",
       " <Reaction FBP at 0x7f042903e710>,\n",
       " <Reaction G6PPer at 0x7f042903f550>,\n",
       " <Reaction G6Pter at 0x7f042903f150>,\n",
       " <Reaction GLCter at 0x7f042903fc10>,\n",
       " <Reaction MALtm at 0x7f042903f510>,\n",
       " <Reaction MDH at 0x7f0429046c90>,\n",
       " <Reaction PEPCK_re at 0x7f0429046d10>,\n",
       " <Reaction PGMT at 0x7f0429046b90>,\n",
       " <Reaction GALUi at 0x7f0429047710>,\n",
       " <Reaction GLGNS1 at 0x7f04290471d0>,\n",
       " <Reaction GLBRAN at 0x7f0429047790>,\n",
       " <Reaction GLPASE1 at 0x7f0429047c10>,\n",
       " <Reaction GLDBRAN at 0x7f0429047ed0>,\n",
       " <Reaction GLPASE2 at 0x7f0429077ed0>,\n",
       " <Reaction GGNG at 0x7f0429077410>,\n",
       " <Reaction ACACT1m at 0x7f042904b350>,\n",
       " <Reaction HMGCOASm at 0x7f042904bf90>,\n",
       " <Reaction HMGLm at 0x7f042904bf50>,\n",
       " <Reaction ADCim at 0x7f04291aab90>,\n",
       " <Reaction BDHm at 0x7f04291aa150>,\n",
       " <Reaction OCOAT1m at 0x7f04291b2610>,\n",
       " <Reaction NDPK1 at 0x7f04291b2150>,\n",
       " <Reaction NDPK1m at 0x7f04291b2110>,\n",
       " <Reaction NDPK2 at 0x7f04291b2dd0>,\n",
       " <Reaction HCO3Em at 0x7f04291b7b10>,\n",
       " <Reaction ATPtm at 0x7f04291b7290>,\n",
       " <Reaction AKGMALtm at 0x7f04291b7d90>,\n",
       " <Reaction ASPTA at 0x7f04291c0210>,\n",
       " <Reaction ASPTAm at 0x7f04291c0650>,\n",
       " <Reaction CITtam at 0x7f04291c08d0>,\n",
       " <Reaction CITL at 0x7f04291caa50>,\n",
       " <Reaction ME2 at 0x7f04291cae10>,\n",
       " <Reaction ACS at 0x7f04291cae50>,\n",
       " <Reaction ARGN at 0x7f0429012a50>,\n",
       " <Reaction OCBTm at 0x7f0429012250>,\n",
       " <Reaction ARGSS at 0x7f0429012490>,\n",
       " <Reaction ARGSL at 0x7f0429012e90>,\n",
       " <Reaction CBPSam at 0x7f042901a950>,\n",
       " <Reaction NH4tm at 0x7f042901a510>,\n",
       " <Reaction GDHm at 0x7f042901a990>,\n",
       " <Reaction GLNS at 0x7f042901f350>,\n",
       " <Reaction GLUN at 0x7f042901f050>,\n",
       " <Reaction ALATA_L at 0x7f042901f8d0>,\n",
       " <Reaction CYSO at 0x7f042901f310>,\n",
       " <Reaction 3SALATAi at 0x7f0429028cd0>,\n",
       " <Reaction 3SPYRSP at 0x7f0429028810>,\n",
       " <Reaction PGCD at 0x7f0429028c90>,\n",
       " <Reaction PSERT at 0x7f042902f950>,\n",
       " <Reaction PSP_L at 0x7f042902fe10>,\n",
       " <Reaction GHMT2r at 0x7f042902fa10>,\n",
       " <Reaction ASNS1 at 0x7f0429037210>,\n",
       " <Reaction GLYtm at 0x7f0429037a10>,\n",
       " <Reaction MLTHFtm at 0x7f04290371d0>,\n",
       " <Reaction THFtm at 0x7f0429037250>,\n",
       " <Reaction KHK at 0x7f0429037690>,\n",
       " <Reaction FBA2 at 0x7f0429040790>,\n",
       " <Reaction TRIOK at 0x7f0429040e50>,\n",
       " <Reaction ALCD19y at 0x7f0429040ad0>,\n",
       " <Reaction GLYK at 0x7f0429040850>,\n",
       " <Reaction 2AMACHYD at 0x7f042904a250>,\n",
       " <Reaction SERHL at 0x7f042904ac50>,\n",
       " <Reaction ALCD2x at 0x7f042904a750>,\n",
       " <Reaction ACALDtm at 0x7f0428fd9b50>,\n",
       " <Reaction ALDD2xm at 0x7f0428fd9e50>,\n",
       " <Reaction ACSm at 0x7f0428fd9dd0>,\n",
       " <Reaction Htm at 0x7f0428fd9090>,\n",
       " <Reaction O2tm at 0x7f04291c0b50>,\n",
       " <Reaction H2Otr at 0x7f0428fd9d90>,\n",
       " <Reaction H2Otm at 0x7f0428fe8450>,\n",
       " <Reaction PItm at 0x7f0428fe8390>,\n",
       " <Reaction PItr at 0x7f0428fe8490>,\n",
       " <Reaction CO2tm at 0x7f0428fe8650>,\n",
       " <Reaction PPA at 0x7f0428fe8810>,\n",
       " <Reaction HCO3E at 0x7f0428fe89d0>,\n",
       " <Reaction PEPtm at 0x7f0428fe8b90>,\n",
       " <Reaction PYRt2m at 0x7f0428fe8ed0>,\n",
       " <Reaction ASPGLUm at 0x7f0428ff0290>,\n",
       " <Reaction THD1m at 0x7f0428ff00d0>,\n",
       " <Reaction BHBtm at 0x7f0428ff0910>,\n",
       " <Reaction ACETONEt2m at 0x7f0428ff0c50>,\n",
       " <Reaction ORNt4m at 0x7f0428ff05d0>,\n",
       " <Reaction FUMtm at 0x7f0428ff7910>,\n",
       " <Reaction GLUt2m at 0x7f0428ff78d0>,\n",
       " <Reaction GLYCLm at 0x7f0428ff7450>,\n",
       " <Reaction FACOAL80PROD at 0x7f0428ff7c90>,\n",
       " <Reaction GAPT at 0x7f0428fff810>,\n",
       " <Reaction AGPTAT at 0x7f0428fff450>,\n",
       " <Reaction LPIN at 0x7f0428fff490>,\n",
       " <Reaction DGAT at 0x7f0429006590>,\n",
       " <Reaction ACCOAC at 0x7f04290060d0>,\n",
       " <Reaction MCOATA at 0x7f0429006550>,\n",
       " <Reaction ACOATA at 0x7f0429006f90>,\n",
       " <Reaction KAS14 at 0x7f0429006910>,\n",
       " <Reaction 30AR40 at 0x7f0429006c50>,\n",
       " <Reaction 3HAD40 at 0x7f042900d810>,\n",
       " <Reaction EAR40y at 0x7f042900d850>,\n",
       " <Reaction 30AS60 at 0x7f042900dbd0>,\n",
       " <Reaction 30AR60 at 0x7f0429095810>,\n",
       " <Reaction 3HAD60 at 0x7f0429095a90>,\n",
       " <Reaction EAR60y at 0x7f0429095390>,\n",
       " <Reaction 30AS80 at 0x7f04290953d0>,\n",
       " <Reaction 30AR80 at 0x7f042909b790>,\n",
       " <Reaction 3HAD80 at 0x7f042909ba10>,\n",
       " <Reaction EAR80y at 0x7f042909b310>,\n",
       " <Reaction FA80ACPHi at 0x7f042909b350>,\n",
       " <Reaction FACOAL80 at 0x7f04290a3710>,\n",
       " <Reaction C80CPT1 at 0x7f04290a3290>,\n",
       " <Reaction r2434 at 0x7f04290a3d90>,\n",
       " <Reaction CRNtim at 0x7f04290a3990>,\n",
       " <Reaction r0636 at 0x7f04290a32d0>,\n",
       " <Reaction COAtim at 0x7f04290aa610>,\n",
       " <Reaction ACOAD3fm at 0x7f04290aa650>,\n",
       " <Reaction ECOAH3m at 0x7f04290aa9d0>,\n",
       " <Reaction HACD3m at 0x7f04290aad10>,\n",
       " <Reaction ACACT3rm at 0x7f04290aaed0>,\n",
       " <Reaction ACOAD2fm at 0x7f04290b1750>,\n",
       " <Reaction ECOAH2m at 0x7f04290b1250>,\n",
       " <Reaction HACD2m at 0x7f04290b19d0>,\n",
       " <Reaction ACACT2rm at 0x7f04290b1410>,\n",
       " <Reaction ACOAD1fm at 0x7f04290b1dd0>,\n",
       " <Reaction ECOAH1m at 0x7f04290b9710>,\n",
       " <Reaction HACD1m at 0x7f04290b9490>,\n",
       " <Reaction ACACT1rm at 0x7f04290b9150>,\n",
       " <Reaction ATPM at 0x7f04290b9b10>,\n",
       " <Reaction EX_h_c at 0x7f04290b9e50>,\n",
       " <Reaction EX_pyr_c at 0x7f04290bf850>,\n",
       " <Reaction EX_h2o_c at 0x7f04290bf450>,\n",
       " <Reaction EX_pi_c at 0x7f04290bfad0>,\n",
       " <Reaction EX_lac__L_c at 0x7f04290bffd0>,\n",
       " <Reaction EX_co2_c at 0x7f04290bf1d0>,\n",
       " <Reaction EX_o2_c at 0x7f04290c7310>,\n",
       " <Reaction EX_octa_prod_c at 0x7f04290c7210>,\n",
       " <Reaction EX_octa_cons_c at 0x7f04290c7410>,\n",
       " <Reaction EX_urea_c at 0x7f04290c7510>,\n",
       " <Reaction EX_gln__L_c at 0x7f04290c7610>,\n",
       " <Reaction EX_acetone_c at 0x7f04290c7710>,\n",
       " <Reaction EX_bhb_c at 0x7f04290c7810>,\n",
       " <Reaction EX_glu__L_c at 0x7f04290c7910>,\n",
       " <Reaction EX_ser__L_c at 0x7f04290c7a10>,\n",
       " <Reaction EX_cys__L_c at 0x7f04290c7b10>,\n",
       " <Reaction EX_gly_c at 0x7f04290c7c10>,\n",
       " <Reaction EX_glygn2_c at 0x7f04290c7d10>,\n",
       " <Reaction EX_Tyr_ggn_c at 0x7f04290c7e10>,\n",
       " <Reaction EX_ala__L_c at 0x7f04290c7f10>,\n",
       " <Reaction EX_nh4_c at 0x7f04290c7fd0>,\n",
       " <Reaction EX_so3_c at 0x7f04290c7110>,\n",
       " <Reaction EX_etoh_c at 0x7f0429153350>,\n",
       " <Reaction EX_glyc_3octa_c at 0x7f0429153250>,\n",
       " <Reaction EX_fru_c at 0x7f0429153450>,\n",
       " <Reaction EX_glc__D_e at 0x7f0422de4450>,\n",
       " <Reaction GLCt1 at 0x7f0420aef210>,\n",
       " <Reaction SK_g6p_c at 0x7f0428170bd0>]"
      ]
     },
     "execution_count": 19,
     "metadata": {},
     "output_type": "execute_result"
    }
   ],
   "source": [
    "core_model.reactions"
   ]
  },
  {
   "cell_type": "code",
   "execution_count": 20,
   "metadata": {},
   "outputs": [
    {
     "name": "stdout",
     "output_type": "stream",
     "text": [
      "GLCter -0.001682007621\n",
      "G6PPer 0.001682007621\n",
      "G6Pter 0.001682007621\n",
      "GLPASE1 0.0002227316028\n",
      "PGMT 0.0002227316028\n",
      "EX_glygn2_c -0.0002227316028\n",
      "GAPD -0.002918552036\n",
      "PGK 0.002918552036\n",
      "PGM 0.002918552036\n",
      "ENO -0.002918552036\n",
      "PEPCKm 0.00487705406\n",
      "PCm 0.004685044058\n",
      "LDH_L 0.002726542034\n",
      "PYK 0.001950821624\n",
      "ME2 0.001950821624\n",
      "CSm 0.002903191236\n",
      "MDHm 0.003095201238\n",
      "EX_glc__D_e 0.001682007621\n",
      "GLCt1 -0.001682007621\n",
      "EX_lac__L_c -0.0005484158966\n",
      "EX_pyr_c -7.774254584e-05\n",
      "TPI 0.0\n",
      "FBA -0.002918552036\n"
     ]
    },
    {
     "ename": "KeyError",
     "evalue": "'Flux(mmol/(gDW*hr))'",
     "output_type": "error",
     "traceback": [
      "\u001b[0;31m---------------------------------------------------------------------------\u001b[0m",
      "\u001b[0;31mKeyError\u001b[0m                                  Traceback (most recent call last)",
      "\u001b[0;32m/usr/local/lib/python3.7/site-packages/pandas/core/indexes/base.py\u001b[0m in \u001b[0;36mget_loc\u001b[0;34m(self, key, method, tolerance)\u001b[0m\n\u001b[1;32m   2894\u001b[0m             \u001b[0;32mtry\u001b[0m\u001b[0;34m:\u001b[0m\u001b[0;34m\u001b[0m\u001b[0;34m\u001b[0m\u001b[0m\n\u001b[0;32m-> 2895\u001b[0;31m                 \u001b[0;32mreturn\u001b[0m \u001b[0mself\u001b[0m\u001b[0;34m.\u001b[0m\u001b[0m_engine\u001b[0m\u001b[0;34m.\u001b[0m\u001b[0mget_loc\u001b[0m\u001b[0;34m(\u001b[0m\u001b[0mcasted_key\u001b[0m\u001b[0;34m)\u001b[0m\u001b[0;34m\u001b[0m\u001b[0;34m\u001b[0m\u001b[0m\n\u001b[0m\u001b[1;32m   2896\u001b[0m             \u001b[0;32mexcept\u001b[0m \u001b[0mKeyError\u001b[0m \u001b[0;32mas\u001b[0m \u001b[0merr\u001b[0m\u001b[0;34m:\u001b[0m\u001b[0;34m\u001b[0m\u001b[0;34m\u001b[0m\u001b[0m\n",
      "\u001b[0;32mpandas/_libs/index.pyx\u001b[0m in \u001b[0;36mpandas._libs.index.IndexEngine.get_loc\u001b[0;34m()\u001b[0m\n",
      "\u001b[0;32mpandas/_libs/index.pyx\u001b[0m in \u001b[0;36mpandas._libs.index.IndexEngine.get_loc\u001b[0;34m()\u001b[0m\n",
      "\u001b[0;32mpandas/_libs/hashtable_class_helper.pxi\u001b[0m in \u001b[0;36mpandas._libs.hashtable.PyObjectHashTable.get_item\u001b[0;34m()\u001b[0m\n",
      "\u001b[0;32mpandas/_libs/hashtable_class_helper.pxi\u001b[0m in \u001b[0;36mpandas._libs.hashtable.PyObjectHashTable.get_item\u001b[0;34m()\u001b[0m\n",
      "\u001b[0;31mKeyError\u001b[0m: 'Flux(mmol/(gDW*hr))'",
      "\nThe above exception was the direct cause of the following exception:\n",
      "\u001b[0;31mKeyError\u001b[0m                                  Traceback (most recent call last)",
      "\u001b[0;32m<ipython-input-20-611911aadb7a>\u001b[0m in \u001b[0;36m<module>\u001b[0;34m\u001b[0m\n\u001b[1;32m     20\u001b[0m     \u001b[0;32mfor\u001b[0m \u001b[0mirreversible_enzyme_pair\u001b[0m \u001b[0;32min\u001b[0m \u001b[0mirreversible_enzyme_pairs\u001b[0m\u001b[0;34m:\u001b[0m\u001b[0;34m\u001b[0m\u001b[0;34m\u001b[0m\u001b[0m\n\u001b[1;32m     21\u001b[0m         \u001b[0;32mif\u001b[0m \u001b[0mrid\u001b[0m \u001b[0;32min\u001b[0m \u001b[0mirreversible_enzyme_pair\u001b[0m\u001b[0;34m:\u001b[0m\u001b[0;34m\u001b[0m\u001b[0;34m\u001b[0m\u001b[0m\n\u001b[0;32m---> 22\u001b[0;31m             \u001b[0mflux1\u001b[0m\u001b[0;34m,\u001b[0m \u001b[0mflux2\u001b[0m \u001b[0;34m=\u001b[0m \u001b[0mflux_df\u001b[0m\u001b[0;34m.\u001b[0m\u001b[0mloc\u001b[0m\u001b[0;34m[\u001b[0m\u001b[0mirreversible_enzyme_pairs\u001b[0m\u001b[0;34m,\u001b[0m \u001b[0;34m\"Flux(mmol/(gDW*hr))\"\u001b[0m\u001b[0;34m]\u001b[0m\u001b[0;34m.\u001b[0m\u001b[0mvalues\u001b[0m\u001b[0;34m\u001b[0m\u001b[0;34m\u001b[0m\u001b[0m\n\u001b[0m\u001b[1;32m     23\u001b[0m             \u001b[0;32mif\u001b[0m \u001b[0mflux1\u001b[0m \u001b[0;34m==\u001b[0m \u001b[0;36m0\u001b[0m\u001b[0;34m:\u001b[0m\u001b[0;34m\u001b[0m\u001b[0;34m\u001b[0m\u001b[0m\n\u001b[1;32m     24\u001b[0m                 \u001b[0mflux\u001b[0m \u001b[0;34m+=\u001b[0m \u001b[0mreverse_flux_percent\u001b[0m \u001b[0;34m*\u001b[0m \u001b[0mflux2\u001b[0m \u001b[0;31m# mmol*gDW^-1*hr^-1\u001b[0m\u001b[0;34m\u001b[0m\u001b[0;34m\u001b[0m\u001b[0m\n",
      "\u001b[0;32m/usr/local/lib/python3.7/site-packages/pandas/core/indexing.py\u001b[0m in \u001b[0;36m__getitem__\u001b[0;34m(self, key)\u001b[0m\n\u001b[1;32m    871\u001b[0m                     \u001b[0;31m# AttributeError for IntervalTree get_value\u001b[0m\u001b[0;34m\u001b[0m\u001b[0;34m\u001b[0m\u001b[0;34m\u001b[0m\u001b[0m\n\u001b[1;32m    872\u001b[0m                     \u001b[0;32mpass\u001b[0m\u001b[0;34m\u001b[0m\u001b[0;34m\u001b[0m\u001b[0m\n\u001b[0;32m--> 873\u001b[0;31m             \u001b[0;32mreturn\u001b[0m \u001b[0mself\u001b[0m\u001b[0;34m.\u001b[0m\u001b[0m_getitem_tuple\u001b[0m\u001b[0;34m(\u001b[0m\u001b[0mkey\u001b[0m\u001b[0;34m)\u001b[0m\u001b[0;34m\u001b[0m\u001b[0;34m\u001b[0m\u001b[0m\n\u001b[0m\u001b[1;32m    874\u001b[0m         \u001b[0;32melse\u001b[0m\u001b[0;34m:\u001b[0m\u001b[0;34m\u001b[0m\u001b[0;34m\u001b[0m\u001b[0m\n\u001b[1;32m    875\u001b[0m             \u001b[0;31m# we by definition only have the 0th axis\u001b[0m\u001b[0;34m\u001b[0m\u001b[0;34m\u001b[0m\u001b[0;34m\u001b[0m\u001b[0m\n",
      "\u001b[0;32m/usr/local/lib/python3.7/site-packages/pandas/core/indexing.py\u001b[0m in \u001b[0;36m_getitem_tuple\u001b[0;34m(self, tup)\u001b[0m\n\u001b[1;32m   1042\u001b[0m     \u001b[0;32mdef\u001b[0m \u001b[0m_getitem_tuple\u001b[0m\u001b[0;34m(\u001b[0m\u001b[0mself\u001b[0m\u001b[0;34m,\u001b[0m \u001b[0mtup\u001b[0m\u001b[0;34m:\u001b[0m \u001b[0mTuple\u001b[0m\u001b[0;34m)\u001b[0m\u001b[0;34m:\u001b[0m\u001b[0;34m\u001b[0m\u001b[0;34m\u001b[0m\u001b[0m\n\u001b[1;32m   1043\u001b[0m         \u001b[0;32mtry\u001b[0m\u001b[0;34m:\u001b[0m\u001b[0;34m\u001b[0m\u001b[0;34m\u001b[0m\u001b[0m\n\u001b[0;32m-> 1044\u001b[0;31m             \u001b[0;32mreturn\u001b[0m \u001b[0mself\u001b[0m\u001b[0;34m.\u001b[0m\u001b[0m_getitem_lowerdim\u001b[0m\u001b[0;34m(\u001b[0m\u001b[0mtup\u001b[0m\u001b[0;34m)\u001b[0m\u001b[0;34m\u001b[0m\u001b[0;34m\u001b[0m\u001b[0m\n\u001b[0m\u001b[1;32m   1045\u001b[0m         \u001b[0;32mexcept\u001b[0m \u001b[0mIndexingError\u001b[0m\u001b[0;34m:\u001b[0m\u001b[0;34m\u001b[0m\u001b[0;34m\u001b[0m\u001b[0m\n\u001b[1;32m   1046\u001b[0m             \u001b[0;32mpass\u001b[0m\u001b[0;34m\u001b[0m\u001b[0;34m\u001b[0m\u001b[0m\n",
      "\u001b[0;32m/usr/local/lib/python3.7/site-packages/pandas/core/indexing.py\u001b[0m in \u001b[0;36m_getitem_lowerdim\u001b[0;34m(self, tup)\u001b[0m\n\u001b[1;32m    784\u001b[0m                 \u001b[0;31m# We don't need to check for tuples here because those are\u001b[0m\u001b[0;34m\u001b[0m\u001b[0;34m\u001b[0m\u001b[0;34m\u001b[0m\u001b[0m\n\u001b[1;32m    785\u001b[0m                 \u001b[0;31m#  caught by the _is_nested_tuple_indexer check above.\u001b[0m\u001b[0;34m\u001b[0m\u001b[0;34m\u001b[0m\u001b[0;34m\u001b[0m\u001b[0m\n\u001b[0;32m--> 786\u001b[0;31m                 \u001b[0msection\u001b[0m \u001b[0;34m=\u001b[0m \u001b[0mself\u001b[0m\u001b[0;34m.\u001b[0m\u001b[0m_getitem_axis\u001b[0m\u001b[0;34m(\u001b[0m\u001b[0mkey\u001b[0m\u001b[0;34m,\u001b[0m \u001b[0maxis\u001b[0m\u001b[0;34m=\u001b[0m\u001b[0mi\u001b[0m\u001b[0;34m)\u001b[0m\u001b[0;34m\u001b[0m\u001b[0;34m\u001b[0m\u001b[0m\n\u001b[0m\u001b[1;32m    787\u001b[0m \u001b[0;34m\u001b[0m\u001b[0m\n\u001b[1;32m    788\u001b[0m                 \u001b[0;31m# We should never have a scalar section here, because\u001b[0m\u001b[0;34m\u001b[0m\u001b[0;34m\u001b[0m\u001b[0;34m\u001b[0m\u001b[0m\n",
      "\u001b[0;32m/usr/local/lib/python3.7/site-packages/pandas/core/indexing.py\u001b[0m in \u001b[0;36m_getitem_axis\u001b[0;34m(self, key, axis)\u001b[0m\n\u001b[1;32m   1108\u001b[0m         \u001b[0;31m# fall thru to straight lookup\u001b[0m\u001b[0;34m\u001b[0m\u001b[0;34m\u001b[0m\u001b[0;34m\u001b[0m\u001b[0m\n\u001b[1;32m   1109\u001b[0m         \u001b[0mself\u001b[0m\u001b[0;34m.\u001b[0m\u001b[0m_validate_key\u001b[0m\u001b[0;34m(\u001b[0m\u001b[0mkey\u001b[0m\u001b[0;34m,\u001b[0m \u001b[0maxis\u001b[0m\u001b[0;34m)\u001b[0m\u001b[0;34m\u001b[0m\u001b[0;34m\u001b[0m\u001b[0m\n\u001b[0;32m-> 1110\u001b[0;31m         \u001b[0;32mreturn\u001b[0m \u001b[0mself\u001b[0m\u001b[0;34m.\u001b[0m\u001b[0m_get_label\u001b[0m\u001b[0;34m(\u001b[0m\u001b[0mkey\u001b[0m\u001b[0;34m,\u001b[0m \u001b[0maxis\u001b[0m\u001b[0;34m=\u001b[0m\u001b[0maxis\u001b[0m\u001b[0;34m)\u001b[0m\u001b[0;34m\u001b[0m\u001b[0;34m\u001b[0m\u001b[0m\n\u001b[0m\u001b[1;32m   1111\u001b[0m \u001b[0;34m\u001b[0m\u001b[0m\n\u001b[1;32m   1112\u001b[0m     \u001b[0;32mdef\u001b[0m \u001b[0m_get_slice_axis\u001b[0m\u001b[0;34m(\u001b[0m\u001b[0mself\u001b[0m\u001b[0;34m,\u001b[0m \u001b[0mslice_obj\u001b[0m\u001b[0;34m:\u001b[0m \u001b[0mslice\u001b[0m\u001b[0;34m,\u001b[0m \u001b[0maxis\u001b[0m\u001b[0;34m:\u001b[0m \u001b[0mint\u001b[0m\u001b[0;34m)\u001b[0m\u001b[0;34m:\u001b[0m\u001b[0;34m\u001b[0m\u001b[0;34m\u001b[0m\u001b[0m\n",
      "\u001b[0;32m/usr/local/lib/python3.7/site-packages/pandas/core/indexing.py\u001b[0m in \u001b[0;36m_get_label\u001b[0;34m(self, label, axis)\u001b[0m\n\u001b[1;32m   1057\u001b[0m     \u001b[0;32mdef\u001b[0m \u001b[0m_get_label\u001b[0m\u001b[0;34m(\u001b[0m\u001b[0mself\u001b[0m\u001b[0;34m,\u001b[0m \u001b[0mlabel\u001b[0m\u001b[0;34m,\u001b[0m \u001b[0maxis\u001b[0m\u001b[0;34m:\u001b[0m \u001b[0mint\u001b[0m\u001b[0;34m)\u001b[0m\u001b[0;34m:\u001b[0m\u001b[0;34m\u001b[0m\u001b[0;34m\u001b[0m\u001b[0m\n\u001b[1;32m   1058\u001b[0m         \u001b[0;31m# GH#5667 this will fail if the label is not present in the axis.\u001b[0m\u001b[0;34m\u001b[0m\u001b[0;34m\u001b[0m\u001b[0;34m\u001b[0m\u001b[0m\n\u001b[0;32m-> 1059\u001b[0;31m         \u001b[0;32mreturn\u001b[0m \u001b[0mself\u001b[0m\u001b[0;34m.\u001b[0m\u001b[0mobj\u001b[0m\u001b[0;34m.\u001b[0m\u001b[0mxs\u001b[0m\u001b[0;34m(\u001b[0m\u001b[0mlabel\u001b[0m\u001b[0;34m,\u001b[0m \u001b[0maxis\u001b[0m\u001b[0;34m=\u001b[0m\u001b[0maxis\u001b[0m\u001b[0;34m)\u001b[0m\u001b[0;34m\u001b[0m\u001b[0;34m\u001b[0m\u001b[0m\n\u001b[0m\u001b[1;32m   1060\u001b[0m \u001b[0;34m\u001b[0m\u001b[0m\n\u001b[1;32m   1061\u001b[0m     \u001b[0;32mdef\u001b[0m \u001b[0m_handle_lowerdim_multi_index_axis0\u001b[0m\u001b[0;34m(\u001b[0m\u001b[0mself\u001b[0m\u001b[0;34m,\u001b[0m \u001b[0mtup\u001b[0m\u001b[0;34m:\u001b[0m \u001b[0mTuple\u001b[0m\u001b[0;34m)\u001b[0m\u001b[0;34m:\u001b[0m\u001b[0;34m\u001b[0m\u001b[0;34m\u001b[0m\u001b[0m\n",
      "\u001b[0;32m/usr/local/lib/python3.7/site-packages/pandas/core/generic.py\u001b[0m in \u001b[0;36mxs\u001b[0;34m(self, key, axis, level, drop_level)\u001b[0m\n\u001b[1;32m   3483\u001b[0m \u001b[0;34m\u001b[0m\u001b[0m\n\u001b[1;32m   3484\u001b[0m         \u001b[0;32mif\u001b[0m \u001b[0maxis\u001b[0m \u001b[0;34m==\u001b[0m \u001b[0;36m1\u001b[0m\u001b[0;34m:\u001b[0m\u001b[0;34m\u001b[0m\u001b[0;34m\u001b[0m\u001b[0m\n\u001b[0;32m-> 3485\u001b[0;31m             \u001b[0;32mreturn\u001b[0m \u001b[0mself\u001b[0m\u001b[0;34m[\u001b[0m\u001b[0mkey\u001b[0m\u001b[0;34m]\u001b[0m\u001b[0;34m\u001b[0m\u001b[0;34m\u001b[0m\u001b[0m\n\u001b[0m\u001b[1;32m   3486\u001b[0m \u001b[0;34m\u001b[0m\u001b[0m\n\u001b[1;32m   3487\u001b[0m         \u001b[0mindex\u001b[0m \u001b[0;34m=\u001b[0m \u001b[0mself\u001b[0m\u001b[0;34m.\u001b[0m\u001b[0mindex\u001b[0m\u001b[0;34m\u001b[0m\u001b[0;34m\u001b[0m\u001b[0m\n",
      "\u001b[0;32m/usr/local/lib/python3.7/site-packages/pandas/core/frame.py\u001b[0m in \u001b[0;36m__getitem__\u001b[0;34m(self, key)\u001b[0m\n\u001b[1;32m   2900\u001b[0m             \u001b[0;32mif\u001b[0m \u001b[0mself\u001b[0m\u001b[0;34m.\u001b[0m\u001b[0mcolumns\u001b[0m\u001b[0;34m.\u001b[0m\u001b[0mnlevels\u001b[0m \u001b[0;34m>\u001b[0m \u001b[0;36m1\u001b[0m\u001b[0;34m:\u001b[0m\u001b[0;34m\u001b[0m\u001b[0;34m\u001b[0m\u001b[0m\n\u001b[1;32m   2901\u001b[0m                 \u001b[0;32mreturn\u001b[0m \u001b[0mself\u001b[0m\u001b[0;34m.\u001b[0m\u001b[0m_getitem_multilevel\u001b[0m\u001b[0;34m(\u001b[0m\u001b[0mkey\u001b[0m\u001b[0;34m)\u001b[0m\u001b[0;34m\u001b[0m\u001b[0;34m\u001b[0m\u001b[0m\n\u001b[0;32m-> 2902\u001b[0;31m             \u001b[0mindexer\u001b[0m \u001b[0;34m=\u001b[0m \u001b[0mself\u001b[0m\u001b[0;34m.\u001b[0m\u001b[0mcolumns\u001b[0m\u001b[0;34m.\u001b[0m\u001b[0mget_loc\u001b[0m\u001b[0;34m(\u001b[0m\u001b[0mkey\u001b[0m\u001b[0;34m)\u001b[0m\u001b[0;34m\u001b[0m\u001b[0;34m\u001b[0m\u001b[0m\n\u001b[0m\u001b[1;32m   2903\u001b[0m             \u001b[0;32mif\u001b[0m \u001b[0mis_integer\u001b[0m\u001b[0;34m(\u001b[0m\u001b[0mindexer\u001b[0m\u001b[0;34m)\u001b[0m\u001b[0;34m:\u001b[0m\u001b[0;34m\u001b[0m\u001b[0;34m\u001b[0m\u001b[0m\n\u001b[1;32m   2904\u001b[0m                 \u001b[0mindexer\u001b[0m \u001b[0;34m=\u001b[0m \u001b[0;34m[\u001b[0m\u001b[0mindexer\u001b[0m\u001b[0;34m]\u001b[0m\u001b[0;34m\u001b[0m\u001b[0;34m\u001b[0m\u001b[0m\n",
      "\u001b[0;32m/usr/local/lib/python3.7/site-packages/pandas/core/indexes/base.py\u001b[0m in \u001b[0;36mget_loc\u001b[0;34m(self, key, method, tolerance)\u001b[0m\n\u001b[1;32m   2895\u001b[0m                 \u001b[0;32mreturn\u001b[0m \u001b[0mself\u001b[0m\u001b[0;34m.\u001b[0m\u001b[0m_engine\u001b[0m\u001b[0;34m.\u001b[0m\u001b[0mget_loc\u001b[0m\u001b[0;34m(\u001b[0m\u001b[0mcasted_key\u001b[0m\u001b[0;34m)\u001b[0m\u001b[0;34m\u001b[0m\u001b[0;34m\u001b[0m\u001b[0m\n\u001b[1;32m   2896\u001b[0m             \u001b[0;32mexcept\u001b[0m \u001b[0mKeyError\u001b[0m \u001b[0;32mas\u001b[0m \u001b[0merr\u001b[0m\u001b[0;34m:\u001b[0m\u001b[0;34m\u001b[0m\u001b[0;34m\u001b[0m\u001b[0m\n\u001b[0;32m-> 2897\u001b[0;31m                 \u001b[0;32mraise\u001b[0m \u001b[0mKeyError\u001b[0m\u001b[0;34m(\u001b[0m\u001b[0mkey\u001b[0m\u001b[0;34m)\u001b[0m \u001b[0;32mfrom\u001b[0m \u001b[0merr\u001b[0m\u001b[0;34m\u001b[0m\u001b[0;34m\u001b[0m\u001b[0m\n\u001b[0m\u001b[1;32m   2898\u001b[0m \u001b[0;34m\u001b[0m\u001b[0m\n\u001b[1;32m   2899\u001b[0m         \u001b[0;32mif\u001b[0m \u001b[0mtolerance\u001b[0m \u001b[0;32mis\u001b[0m \u001b[0;32mnot\u001b[0m \u001b[0;32mNone\u001b[0m\u001b[0;34m:\u001b[0m\u001b[0;34m\u001b[0m\u001b[0;34m\u001b[0m\u001b[0m\n",
      "\u001b[0;31mKeyError\u001b[0m: 'Flux(mmol/(gDW*hr))'"
     ]
    }
   ],
   "source": [
    "for rid, flux in flux_df.itertuples():\n",
    "    reaction = core_model.reactions.get_by_id(rid)\n",
    "    #reaction.bounds = (flux, flux)\n",
    "    #set bounds for all boundary reactions \n",
    "    #uptake --> (-value, 1000)\n",
    "    #secretion --> (-1000 --> value)\n",
    "    #reversible --> (-1000,1000)\n",
    "    if (rid == \"EX_lac__L_c\"): #uptake\n",
    "        reaction = core_model.reactions.get_by_id(rid)\n",
    "        reaction.bounds = (0,1000) \n",
    "    elif (rid == \"EX_glc__L_c\"): #secretion\n",
    "        reaction = core_model.reactions.get_by_id(rid)\n",
    "        reaction.bounds = (-1000, 0) \n",
    "    elif (rid == \"EX_pyr_c\"): #uptake\n",
    "        reaction = core_model.reactions.get_by_id(rid)\n",
    "        reaction.bounds = (0, 1000) \n",
    "    elif (rid == \"EX_glygn2_c\"): #uptake\n",
    "        reaction = core_model.reactions.get_by_id(rid)\n",
    "        reaction.bounds = (-1, 1000) \n",
    "    for irreversible_enzyme_pair in irreversible_enzyme_pairs:\n",
    "        if rid in irreversible_enzyme_pair:\n",
    "            flux1, flux2 = flux_df.loc[irreversible_enzyme_pairs, \"Flux(mmol/(gDW*hr))\"].values\n",
    "            if flux1 == 0:\n",
    "                flux += reverse_flux_percent * flux2 # mmol*gDW^-1*hr^-1\n",
    "            if flux2 == 0:\n",
    "                flux += reverse_flux_percent * flux1 # mmol*gDW^-1*hr^-1\n",
    "   \n",
    "    #address irreversible enzyme pair boundary reactions if necessary\n",
    "\n",
    "    print(rid, flux)\n",
    "\n",
    "    v_vars.append(sym.Symbol(rid))\n",
    "    v_data.append(flux)\n",
    "    \n",
    "#print(v_vars)\n",
    "#print(v_data)\n"
   ]
  },
  {
   "cell_type": "code",
   "execution_count": null,
   "metadata": {},
   "outputs": [],
   "source": []
  },
  {
   "cell_type": "code",
   "execution_count": 21,
   "metadata": {},
   "outputs": [],
   "source": [
    "# Make symbolic for optlang objective \n",
    "v_vars = sym.Matrix(v_vars)\n",
    "v_data = sym.Matrix(v_data)\n",
    "\n",
    "F = sym.Matrix(2 * sym.eye(len(v_vars)))\n",
    "\n",
    "objective = 0.5 * v_vars.T * F * v_vars  - (2 * v_data).T * v_vars\n",
    "core_model.objective = objective[0]\n",
    "core_model.objective_direction = \"min\"\n",
    "\n",
    "flux_solution = core_model.optimize()"
   ]
  },
  {
   "cell_type": "code",
   "execution_count": 22,
   "metadata": {},
   "outputs": [
    {
     "data": {
      "text/html": [
       "<strong><em>Optimal</em> solution with objective value -0.000</strong><br><div>\n",
       "<style scoped>\n",
       "    .dataframe tbody tr th:only-of-type {\n",
       "        vertical-align: middle;\n",
       "    }\n",
       "\n",
       "    .dataframe tbody tr th {\n",
       "        vertical-align: top;\n",
       "    }\n",
       "\n",
       "    .dataframe thead th {\n",
       "        text-align: right;\n",
       "    }\n",
       "</style>\n",
       "<table border=\"1\" class=\"dataframe\">\n",
       "  <thead>\n",
       "    <tr style=\"text-align: right;\">\n",
       "      <th></th>\n",
       "      <th>fluxes</th>\n",
       "      <th>reduced_costs</th>\n",
       "    </tr>\n",
       "  </thead>\n",
       "  <tbody>\n",
       "    <tr>\n",
       "      <th>CSm</th>\n",
       "      <td>6.957146e-04</td>\n",
       "      <td>4.414953e-03</td>\n",
       "    </tr>\n",
       "    <tr>\n",
       "      <th>ACONTm</th>\n",
       "      <td>6.757528e-04</td>\n",
       "      <td>0.000000e+00</td>\n",
       "    </tr>\n",
       "    <tr>\n",
       "      <th>ICDHxm</th>\n",
       "      <td>6.757528e-04</td>\n",
       "      <td>0.000000e+00</td>\n",
       "    </tr>\n",
       "    <tr>\n",
       "      <th>AKGDm</th>\n",
       "      <td>6.757528e-04</td>\n",
       "      <td>0.000000e+00</td>\n",
       "    </tr>\n",
       "    <tr>\n",
       "      <th>SUCOASm</th>\n",
       "      <td>-6.757528e-04</td>\n",
       "      <td>-1.734723e-18</td>\n",
       "    </tr>\n",
       "    <tr>\n",
       "      <th>...</th>\n",
       "      <td>...</td>\n",
       "      <td>...</td>\n",
       "    </tr>\n",
       "    <tr>\n",
       "      <th>EX_glyc_3octa_c</th>\n",
       "      <td>-0.000000e+00</td>\n",
       "      <td>0.000000e+00</td>\n",
       "    </tr>\n",
       "    <tr>\n",
       "      <th>EX_fru_c</th>\n",
       "      <td>0.000000e+00</td>\n",
       "      <td>1.311567e-02</td>\n",
       "    </tr>\n",
       "    <tr>\n",
       "      <th>EX_glc__D_e</th>\n",
       "      <td>1.367710e-03</td>\n",
       "      <td>0.000000e+00</td>\n",
       "    </tr>\n",
       "    <tr>\n",
       "      <th>GLCt1</th>\n",
       "      <td>-1.367710e-03</td>\n",
       "      <td>3.364015e-03</td>\n",
       "    </tr>\n",
       "    <tr>\n",
       "      <th>SK_g6p_c</th>\n",
       "      <td>-1.626303e-19</td>\n",
       "      <td>0.000000e+00</td>\n",
       "    </tr>\n",
       "  </tbody>\n",
       "</table>\n",
       "<p>189 rows × 2 columns</p>\n",
       "</div>"
      ],
      "text/plain": [
       "<Solution -0.000 at 0x7f0423341210>"
      ]
     },
     "execution_count": 22,
     "metadata": {},
     "output_type": "execute_result"
    }
   ],
   "source": [
    "flux_solution"
   ]
  },
  {
   "cell_type": "code",
   "execution_count": null,
   "metadata": {},
   "outputs": [],
   "source": []
  },
  {
   "cell_type": "code",
   "execution_count": 23,
   "metadata": {},
   "outputs": [
    {
     "data": {
      "image/png": "[encoded data removed]",
      "text/plain": [
       "<Figure size 360x360 with 1 Axes>"
      ]
     },
     "metadata": {
      "needs_background": "light"
     },
     "output_type": "display_data"
    }
   ],
   "source": [
    "flux_comparison_fig, ax = plt.subplots(nrows=1, ncols=1, figsize=(5, 5))\n",
    "plot_comparison(\n",
    "    x=flux_df[\"Flux (mmol/gDW*hr)\"], y=flux_solution, compare=\"fluxes\",\n",
    "    observable=[rid for rid in flux_df.index], ax=ax,\n",
    "    legend=\"right outside\", plot_function=\"plot\",\n",
    "    xlim=(-0.005,0.005), ylim=(-0.005, 0.005),\n",
    "    xy_line=True,\n",
    "    xy_legend=\"best\", xlabel=\"Measured [mmol/(gDW * h)]\", ylabel=\"Adjusted [mmol/(gDW * h)]\")\n",
    "\n",
    "flux_comparison_fig.tight_layout()\n",
    "#check directionality \n"
   ]
  },
  {
   "cell_type": "markdown",
   "metadata": {},
   "source": [
    "## Create MASS model"
   ]
  },
  {
   "cell_type": "code",
   "execution_count": 24,
   "metadata": {},
   "outputs": [
    {
     "data": {
      "text/html": [
       "\n",
       "            <table>\n",
       "                <tr>\n",
       "                    <td><strong>Name</strong></td><td>Glycogenolysis</td>\n",
       "                </tr><tr>\n",
       "                    <td><strong>Memory address</strong></td><td>0x07f042330a910</td>\n",
       "                </tr><tr>\n",
       "                    <td><strong>Stoichiometric Matrix</strong></td>\n",
       "                    <td>0x0</td>\n",
       "                </tr><tr>\n",
       "                    <td><strong>Matrix Rank</strong></td>\n",
       "                    <td>0</td>\n",
       "                </tr><tr>\n",
       "                    <td><strong>Number of metabolites</strong></td>\n",
       "                    <td>0</td>\n",
       "                </tr><tr>\n",
       "                    <td><strong>Initial conditions defined</strong></td>\n",
       "                    <td>0/0</td>\n",
       "                </tr><tr>\n",
       "                    <td><strong>Number of reactions</strong></td>\n",
       "                    <td>0</td>\n",
       "                </tr><tr>\n",
       "                    <td><strong>Number of genes</strong></td>\n",
       "                    <td>0</td>\n",
       "                </tr><tr>\n",
       "                    <td><strong>Number of enzyme modules</strong></td>\n",
       "                    <td>0</td>\n",
       "                </tr><tr>\n",
       "                    <td><strong>Number of groups</strong></td>\n",
       "                    <td>0</td>\n",
       "                </tr><tr>\n",
       "                    <td><strong>Objective expression</strong></td>\n",
       "                    <td>0</td>\n",
       "                </tr><tr>\n",
       "                    <td><strong>Compartments</strong></td>\n",
       "                    <td></td>\n",
       "                </tr>\n",
       "            </table>\n",
       "        "
      ],
      "text/plain": [
       "<MassModel Glycogenolysis at 0x7f042330a910>"
      ]
     },
     "execution_count": 24,
     "metadata": {},
     "output_type": "execute_result"
    }
   ],
   "source": [
    "glycogenolysis = MassModel(\"Glycogenolysis\", array_type='DataFrame', dtype=np.int64)\n",
    "glycogenolysis"
   ]
  },
  {
   "cell_type": "markdown",
   "metadata": {},
   "source": [
    "### Define reactions"
   ]
  },
  {
   "cell_type": "code",
   "execution_count": 25,
   "metadata": {},
   "outputs": [],
   "source": [
    "#add reactions one at a time\n",
    "reaction_list=[]\n",
    "reaction_list = ['HEX1',\n",
    "                  'GLCt1'\n",
    "#                  'G6Pter',\n",
    "#                  'G6PPer'\n",
    "#                 #'PGI',\n",
    "#                 #'FBP',\n",
    "#                 'PFK',\n",
    "#                 'FBA',\n",
    "#                 'TPI',\n",
    "#                 'GAPD',\n",
    "#                 'PGK',\n",
    "#                 'PGM',\n",
    "#                 'ENO',\n",
    "#                 #'PEPtm',\n",
    "#                 #'PEPCKm',\n",
    "#                 #'LDH_L',\n",
    "#                 'PYK'\n",
    "#                 #'PCm',\n",
    "#                 #'PYRt2m'\n",
    "                ]\n",
    "\n",
    "# a= R3D.reactions.EX_glc__D_e\n",
    "# b= R3D.reactions.GLCt1\n",
    "# g= gly.reactions.SK_g6p_c\n",
    "# new_r_list=[\n",
    "#             a,\n",
    "#             b,\n",
    "#             g\n",
    "    \n",
    "# ]\n"
   ]
  },
  {
   "cell_type": "code",
   "execution_count": 26,
   "metadata": {},
   "outputs": [],
   "source": [
    "# Convert cobra.Reactions to mass.MassReactions\n",
    "for rid in reaction_list:\n",
    "    reaction = core_model.reactions.get_by_id(rid)\n",
    "    glycogenolysis.add_reactions([MassReaction(reaction)])"
   ]
  },
  {
   "cell_type": "code",
   "execution_count": 27,
   "metadata": {},
   "outputs": [
    {
     "data": {
      "text/html": [
       "<strong><em>Optimal</em> solution with objective value -0.000</strong><br><div>\n",
       "<style scoped>\n",
       "    .dataframe tbody tr th:only-of-type {\n",
       "        vertical-align: middle;\n",
       "    }\n",
       "\n",
       "    .dataframe tbody tr th {\n",
       "        vertical-align: top;\n",
       "    }\n",
       "\n",
       "    .dataframe thead th {\n",
       "        text-align: right;\n",
       "    }\n",
       "</style>\n",
       "<table border=\"1\" class=\"dataframe\">\n",
       "  <thead>\n",
       "    <tr style=\"text-align: right;\">\n",
       "      <th></th>\n",
       "      <th>fluxes</th>\n",
       "      <th>reduced_costs</th>\n",
       "    </tr>\n",
       "  </thead>\n",
       "  <tbody>\n",
       "    <tr>\n",
       "      <th>CSm</th>\n",
       "      <td>6.957146e-04</td>\n",
       "      <td>4.414953e-03</td>\n",
       "    </tr>\n",
       "    <tr>\n",
       "      <th>ACONTm</th>\n",
       "      <td>6.757528e-04</td>\n",
       "      <td>0.000000e+00</td>\n",
       "    </tr>\n",
       "    <tr>\n",
       "      <th>ICDHxm</th>\n",
       "      <td>6.757528e-04</td>\n",
       "      <td>0.000000e+00</td>\n",
       "    </tr>\n",
       "    <tr>\n",
       "      <th>AKGDm</th>\n",
       "      <td>6.757528e-04</td>\n",
       "      <td>0.000000e+00</td>\n",
       "    </tr>\n",
       "    <tr>\n",
       "      <th>SUCOASm</th>\n",
       "      <td>-6.757528e-04</td>\n",
       "      <td>-1.734723e-18</td>\n",
       "    </tr>\n",
       "    <tr>\n",
       "      <th>...</th>\n",
       "      <td>...</td>\n",
       "      <td>...</td>\n",
       "    </tr>\n",
       "    <tr>\n",
       "      <th>EX_glyc_3octa_c</th>\n",
       "      <td>-0.000000e+00</td>\n",
       "      <td>0.000000e+00</td>\n",
       "    </tr>\n",
       "    <tr>\n",
       "      <th>EX_fru_c</th>\n",
       "      <td>0.000000e+00</td>\n",
       "      <td>1.311567e-02</td>\n",
       "    </tr>\n",
       "    <tr>\n",
       "      <th>EX_glc__D_e</th>\n",
       "      <td>1.367710e-03</td>\n",
       "      <td>0.000000e+00</td>\n",
       "    </tr>\n",
       "    <tr>\n",
       "      <th>GLCt1</th>\n",
       "      <td>-1.367710e-03</td>\n",
       "      <td>3.364015e-03</td>\n",
       "    </tr>\n",
       "    <tr>\n",
       "      <th>SK_g6p_c</th>\n",
       "      <td>-1.626303e-19</td>\n",
       "      <td>0.000000e+00</td>\n",
       "    </tr>\n",
       "  </tbody>\n",
       "</table>\n",
       "<p>189 rows × 2 columns</p>\n",
       "</div>"
      ],
      "text/plain": [
       "<Solution -0.000 at 0x7f0423341210>"
      ]
     },
     "execution_count": 27,
     "metadata": {},
     "output_type": "execute_result"
    }
   ],
   "source": [
    "flux_solution"
   ]
  },
  {
   "cell_type": "markdown",
   "metadata": {},
   "source": [
    "##  Set Fluxes"
   ]
  },
  {
   "cell_type": "code",
   "execution_count": 28,
   "metadata": {},
   "outputs": [
    {
     "name": "stdout",
     "output_type": "stream",
     "text": [
      "v_HEX1: 0.0026801484976521125\n",
      "v_GLCt1: -0.0017487607845813448\n"
     ]
    }
   ],
   "source": [
    "for reaction, flux in flux_solution[reaction_list].iteritems():\n",
    "    reaction = glycogenolysis.reactions.get_by_id(reaction)\n",
    "    reaction.steady_state_flux = flux * 1278.605 / 1000 \n",
    "    # mmol/gdW*hr --> mmol/L * hr ---> mol/L*hr\n",
    "    print(\"{0}: {1}\".format(reaction.flux_symbol_str,\n",
    "                            reaction.steady_state_flux))"
   ]
  },
  {
   "cell_type": "markdown",
   "metadata": {},
   "source": [
    "## Set Keqs"
   ]
  },
  {
   "cell_type": "code",
   "execution_count": 29,
   "metadata": {},
   "outputs": [
    {
     "data": {
      "text/html": [
       "<div>\n",
       "<style scoped>\n",
       "    .dataframe tbody tr th:only-of-type {\n",
       "        vertical-align: middle;\n",
       "    }\n",
       "\n",
       "    .dataframe tbody tr th {\n",
       "        vertical-align: top;\n",
       "    }\n",
       "\n",
       "    .dataframe thead th {\n",
       "        text-align: right;\n",
       "    }\n",
       "</style>\n",
       "<table border=\"1\" class=\"dataframe\">\n",
       "  <thead>\n",
       "    <tr style=\"text-align: right;\">\n",
       "      <th></th>\n",
       "      <th>Equlibrium Constant</th>\n",
       "    </tr>\n",
       "    <tr>\n",
       "      <th>Reaction</th>\n",
       "      <th></th>\n",
       "    </tr>\n",
       "  </thead>\n",
       "  <tbody>\n",
       "    <tr>\n",
       "      <th>GLCt1</th>\n",
       "      <td>1.000000</td>\n",
       "    </tr>\n",
       "    <tr>\n",
       "      <th>HEX1</th>\n",
       "      <td>3000.000000</td>\n",
       "    </tr>\n",
       "    <tr>\n",
       "      <th>G6PPer</th>\n",
       "      <td>41.300000</td>\n",
       "    </tr>\n",
       "    <tr>\n",
       "      <th>G6Pter</th>\n",
       "      <td>2.761096</td>\n",
       "    </tr>\n",
       "    <tr>\n",
       "      <th>GLCter</th>\n",
       "      <td>1.000000</td>\n",
       "    </tr>\n",
       "  </tbody>\n",
       "</table>\n",
       "</div>"
      ],
      "text/plain": [
       "          Equlibrium Constant\n",
       "Reaction                     \n",
       "GLCt1                1.000000\n",
       "HEX1              3000.000000\n",
       "G6PPer              41.300000\n",
       "G6Pter               2.761096\n",
       "GLCter               1.000000"
      ]
     },
     "execution_count": 29,
     "metadata": {},
     "output_type": "execute_result"
    }
   ],
   "source": [
    "# Load equilibrium constants\n",
    "Keq_df = pd.read_excel(engine='openpyxl',\n",
    "    io=data_sheet,\n",
    "    sheet_name=\"Keqs\",\n",
    "    index_col=0).drop(\"Reference\", axis=1).drop(\"Stoichiometry\", axis=1).drop('Keq unit', axis=1)\n",
    "\n",
    "Keq_df = Keq_df.dropna() #drops rows with NaN\n",
    "Keq_df\n",
    "\n",
    "Keq_df"
   ]
  },
  {
   "cell_type": "code",
   "execution_count": 30,
   "metadata": {},
   "outputs": [
    {
     "name": "stdout",
     "output_type": "stream",
     "text": [
      "Keq_GLCt1: 1.0\n",
      "Keq_HEX1: 3000.0\n"
     ]
    }
   ],
   "source": [
    "Keq_list =[]\n",
    "for rid, Keq in Keq_df.itertuples():\n",
    "    if rid in reaction_list: \n",
    "        reaction = glycogenolysis.reactions.get_by_id(rid)\n",
    "        reaction.Keq = Keq\n",
    "        Keq_list.append(reaction.Keq)\n",
    "        print(\"{0}: {1}\".format(reaction.Keq_str, Keq))"
   ]
  },
  {
   "cell_type": "markdown",
   "metadata": {},
   "source": [
    "## Set H2O/H Constants"
   ]
  },
  {
   "cell_type": "code",
   "execution_count": 31,
   "metadata": {},
   "outputs": [],
   "source": [
    "# Set concentrations of hydrogen, water as fixed\n",
    "# Assume hydrogen in all compartments are fixed \n",
    "for metabolite in [\n",
    "#     \"h2o_c\",\n",
    "    \"h_c\"\n",
    "#     \"glc__D_e\",\n",
    "#     'h20_r'\n",
    "    \n",
    "       #'h_i'\n",
    "       #'h_m' \n",
    "    #remove h_i and h_m if not mitochondrial reactions\n",
    "                  ]:\n",
    "    metabolite = glycogenolysis.metabolites.get_by_id(metabolite)\n",
    "    metabolite.fixed = True"
   ]
  },
  {
   "cell_type": "markdown",
   "metadata": {},
   "source": [
    "## Obtain Concentrations"
   ]
  },
  {
   "cell_type": "code",
   "execution_count": 32,
   "metadata": {},
   "outputs": [
    {
     "data": {
      "text/html": [
       "<div>\n",
       "<style scoped>\n",
       "    .dataframe tbody tr th:only-of-type {\n",
       "        vertical-align: middle;\n",
       "    }\n",
       "\n",
       "    .dataframe tbody tr th {\n",
       "        vertical-align: top;\n",
       "    }\n",
       "\n",
       "    .dataframe thead th {\n",
       "        text-align: right;\n",
       "    }\n",
       "</style>\n",
       "<table border=\"1\" class=\"dataframe\">\n",
       "  <thead>\n",
       "    <tr style=\"text-align: right;\">\n",
       "      <th></th>\n",
       "      <th>Name</th>\n",
       "      <th>Concentration(M)</th>\n",
       "    </tr>\n",
       "    <tr>\n",
       "      <th>ID</th>\n",
       "      <th></th>\n",
       "      <th></th>\n",
       "    </tr>\n",
       "  </thead>\n",
       "  <tbody>\n",
       "    <tr>\n",
       "      <th>glc__D_c</th>\n",
       "      <td>D-Glucose</td>\n",
       "      <td>0.010483</td>\n",
       "    </tr>\n",
       "    <tr>\n",
       "      <th>atp_c</th>\n",
       "      <td>ATP C10H12N5O13P3</td>\n",
       "      <td>0.004727</td>\n",
       "    </tr>\n",
       "    <tr>\n",
       "      <th>adp_c</th>\n",
       "      <td>ADP C10H12N5O10P2</td>\n",
       "      <td>0.001995</td>\n",
       "    </tr>\n",
       "    <tr>\n",
       "      <th>g6p_c</th>\n",
       "      <td>D-Glucose 6-phosphate</td>\n",
       "      <td>0.000140</td>\n",
       "    </tr>\n",
       "    <tr>\n",
       "      <th>g6p_r</th>\n",
       "      <td>D-Glucose 6-phosphate</td>\n",
       "      <td>0.000387</td>\n",
       "    </tr>\n",
       "    <tr>\n",
       "      <th>pi_r</th>\n",
       "      <td>Phosphate</td>\n",
       "      <td>0.009744</td>\n",
       "    </tr>\n",
       "  </tbody>\n",
       "</table>\n",
       "</div>"
      ],
      "text/plain": [
       "                           Name  Concentration(M)\n",
       "ID                                               \n",
       "glc__D_c              D-Glucose          0.010483\n",
       "atp_c         ATP C10H12N5O13P3          0.004727\n",
       "adp_c         ADP C10H12N5O10P2          0.001995\n",
       "g6p_c     D-Glucose 6-phosphate          0.000140\n",
       "g6p_r     D-Glucose 6-phosphate          0.000387\n",
       "pi_r                  Phosphate          0.009744"
      ]
     },
     "execution_count": 32,
     "metadata": {},
     "output_type": "execute_result"
    }
   ],
   "source": [
    "#Load Concentration Data\n",
    "conc_df = load_data(\n",
    "    filepath=data_sheet,\n",
    "    sheet_name=\"Concentrations\").drop(\"Concentration (mM)\", axis=1)\n",
    "#conc_df = conc_df.drop(\"Name\", axis=1)\n",
    "conc_df = conc_df.drop(\"Additional Notes\", axis=1)\n",
    "conc_df = conc_df.dropna() #drops rows with NaN\n",
    "conc_df"
   ]
  },
  {
   "cell_type": "code",
   "execution_count": 33,
   "metadata": {},
   "outputs": [],
   "source": [
    "#Set Concentrations\n",
    "\n",
    "metabolite_list = [\n",
    "# HEX1    \n",
    "    'glc__D_c',\n",
    "    'g6p_c',\n",
    "    'adp_c',\n",
    "    'atp_c',\n",
    "    #'pi_c',\n",
    "    'h_c',\n",
    "# GLCt1\n",
    "    'glc__D_e'\n",
    "# #G6Pter\n",
    "#             'g6p_r',\n",
    "# #G6PPer \n",
    "#             'h2o_r',\n",
    "#             'glc__D_r',\n",
    "#             'pi_r'\n",
    "            \n",
    "                  ]"
   ]
  },
  {
   "cell_type": "code",
   "execution_count": 34,
   "metadata": {},
   "outputs": [],
   "source": [
    "met_list = []\n",
    "for mid, name, conc in conc_df.itertuples():\n",
    "    if mid in metabolite_list: \n",
    "        metabolite = glycogenolysis.metabolites.get_by_id(mid)\n",
    "        metabolite.name = name\n",
    "        \n",
    "        metabolite.ic = conc #data sheet is in M units\n",
    "        met_list.append(metabolite.ic)"
   ]
  },
  {
   "cell_type": "code",
   "execution_count": 35,
   "metadata": {},
   "outputs": [],
   "source": [
    "# glycogenolysis.metabolites.glc__D_e"
   ]
  },
  {
   "cell_type": "code",
   "execution_count": 36,
   "metadata": {},
   "outputs": [
    {
     "name": "stdout",
     "output_type": "stream",
     "text": [
      "adp_c: 0.00199495195\n",
      "atp_c: 0.004727145980000001\n",
      "g6p_c: 0.00014000000000000001\n",
      "glc__D_c: 0.01048280703\n",
      "h_c: 1\n",
      "glc__D_e: 0.01048280703\n"
     ]
    }
   ],
   "source": [
    "for metabolite in [\n",
    "    #'h_i',\n",
    "    #'h_m',\n",
    "    \"h_c\", \n",
    "    #\"h2o_c\"\n",
    "#'h20_r'\n",
    "]:\n",
    "    metabolite = glycogenolysis.metabolites.get_by_id(metabolite)\n",
    "    metabolite.ic = 1 #M\n",
    "    \n",
    "glycogenolysis.metabolites.glc__D_e.ic= glycogenolysis.metabolites.glc__D_c.ic\n",
    "\n",
    "for metabolite in glycogenolysis.metabolites:\n",
    "    print(\"{0}: {1}\".format(metabolite.id, metabolite.ic))"
   ]
  },
  {
   "cell_type": "code",
   "execution_count": 37,
   "metadata": {},
   "outputs": [
    {
     "data": {
      "text/html": [
       "<strong><em>Optimal</em> solution with objective value 0.000</strong><br><div>\n",
       "<style scoped>\n",
       "    .dataframe tbody tr th:only-of-type {\n",
       "        vertical-align: middle;\n",
       "    }\n",
       "\n",
       "    .dataframe tbody tr th {\n",
       "        vertical-align: top;\n",
       "    }\n",
       "\n",
       "    .dataframe thead th {\n",
       "        text-align: right;\n",
       "    }\n",
       "</style>\n",
       "<table border=\"1\" class=\"dataframe\">\n",
       "  <thead>\n",
       "    <tr style=\"text-align: right;\">\n",
       "      <th></th>\n",
       "      <th>variables</th>\n",
       "      <th>reduced_costs</th>\n",
       "    </tr>\n",
       "  </thead>\n",
       "  <tbody>\n",
       "    <tr>\n",
       "      <th>adp_c</th>\n",
       "      <td>0.001995</td>\n",
       "      <td>0.0</td>\n",
       "    </tr>\n",
       "    <tr>\n",
       "      <th>atp_c</th>\n",
       "      <td>0.004727</td>\n",
       "      <td>0.0</td>\n",
       "    </tr>\n",
       "    <tr>\n",
       "      <th>g6p_c</th>\n",
       "      <td>0.000140</td>\n",
       "      <td>0.0</td>\n",
       "    </tr>\n",
       "    <tr>\n",
       "      <th>glc__D_c</th>\n",
       "      <td>0.014630</td>\n",
       "      <td>0.0</td>\n",
       "    </tr>\n",
       "    <tr>\n",
       "      <th>glc__D_e</th>\n",
       "      <td>0.007511</td>\n",
       "      <td>0.0</td>\n",
       "    </tr>\n",
       "    <tr>\n",
       "      <th>Keq_HEX1</th>\n",
       "      <td>3000.000000</td>\n",
       "      <td>0.0</td>\n",
       "    </tr>\n",
       "    <tr>\n",
       "      <th>Keq_GLCt1</th>\n",
       "      <td>0.716531</td>\n",
       "      <td>0.0</td>\n",
       "    </tr>\n",
       "  </tbody>\n",
       "</table>\n",
       "</div>"
      ],
      "text/plain": [
       "<Solution 0.000 at 0x7f0423c17310>"
      ]
     },
     "execution_count": 37,
     "metadata": {},
     "output_type": "execute_result"
    }
   ],
   "source": [
    "#Formulate QP minimization list for concentrations\n",
    "## double check this?\n",
    "conc_solver = ConcSolver(\n",
    "    glycogenolysis, # bc only want metabolites in glycogenolysis \n",
    "    excluded_metabolites=[\n",
    "        #'h_i', 'h_m', 'co2_m', 'gdp_m', 'gtp_m', 'hco3_m'\n",
    "        \"h_c\", \n",
    "        #\"h2o_c\",'13dpg_c'\n",
    "    ],\n",
    "    constraint_buffer=1)\n",
    "\n",
    "conc_solver.setup_feasible_qp_problem(\n",
    "fixed_conc_bounds=list(glycogenolysis.fixed))\n",
    "fixed_Keq_bounds=glycogenolysis.reactions.list_attr(\"Keq_str\")\n",
    "    \n",
    "#assumption: provide uncertainity to allow for a variance for the Keqs rather than staying fixed\n",
    "#conc_solver.setup_feasible_qp_problem(Keq_percent_deviation=0.1)\n",
    "\n",
    "conc_solution = conc_solver.optimize()\n",
    "conc_solution"
   ]
  },
  {
   "cell_type": "code",
   "execution_count": 38,
   "metadata": {},
   "outputs": [
    {
     "name": "stderr",
     "output_type": "stream",
     "text": [
      "mass/visualization/visualization_util.py:1270 \u001b[1;31mUserWarning\u001b[0m: Ignoring {'g6p_r', 'pi_r'}, only in one set of given values\n",
      "mass/visualization/visualization_util.py:806 \u001b[1;31mUserWarning\u001b[0m: Attempted to set non-positive left xlim on a log-scaled axis.\n",
      "Invalid limit will be ignored.\n",
      "mass/visualization/visualization_util.py:806 \u001b[1;31mUserWarning\u001b[0m: Attempted to set non-positive bottom ylim on a log-scaled axis.\n",
      "Invalid limit will be ignored.\n"
     ]
    },
    {
     "data": {
      "image/png": "[encoded data removed]",
      "text/plain": [
       "<Figure size 360x360 with 1 Axes>"
      ]
     },
     "metadata": {
      "needs_background": "light"
     },
     "output_type": "display_data"
    }
   ],
   "source": [
    "#Compare Results\n",
    "conc_comparison_fig, ax = plt.subplots(nrows=1, ncols=1,\n",
    "                                       figsize=(5, 5))\n",
    "\n",
    "plot_comparison(\n",
    "    x=conc_df[\"Concentration(M)\"], y=conc_solution,\n",
    "    compare=\"concentrations\",\n",
    "    observable=[mid for mid in conc_df.index], ax=ax,\n",
    "    legend=\"right outside\", plot_function=\"loglog\",\n",
    "    xlim=(0, 20), ylim=(0, 20), xy_line=True,\n",
    "    xy_legend=\"best\", xlabel=\"Initial [mol/L]\", ylabel=\"Adjusted [mol/L]\")\n",
    "\n",
    "conc_comparison_fig.tight_layout()\n",
    "update_model_with_concentration_solution(\n",
    "    glycogenolysis, conc_solution, concentrations=True, inplace=True);"
   ]
  },
  {
   "cell_type": "markdown",
   "metadata": {},
   "source": [
    "## Sample Concentrations"
   ]
  },
  {
   "cell_type": "code",
   "execution_count": 39,
   "metadata": {},
   "outputs": [
    {
     "data": {
      "text/html": [
       "<div>\n",
       "<style scoped>\n",
       "    .dataframe tbody tr th:only-of-type {\n",
       "        vertical-align: middle;\n",
       "    }\n",
       "\n",
       "    .dataframe tbody tr th {\n",
       "        vertical-align: top;\n",
       "    }\n",
       "\n",
       "    .dataframe thead th {\n",
       "        text-align: right;\n",
       "    }\n",
       "</style>\n",
       "<table border=\"1\" class=\"dataframe\">\n",
       "  <thead>\n",
       "    <tr style=\"text-align: right;\">\n",
       "      <th></th>\n",
       "      <th>adp_c</th>\n",
       "      <th>atp_c</th>\n",
       "      <th>g6p_c</th>\n",
       "      <th>glc__D_c</th>\n",
       "      <th>glc__D_e</th>\n",
       "    </tr>\n",
       "  </thead>\n",
       "  <tbody>\n",
       "    <tr>\n",
       "      <th>0</th>\n",
       "      <td>0.003654</td>\n",
       "      <td>0.001531</td>\n",
       "      <td>0.000111</td>\n",
       "      <td>0.006823</td>\n",
       "      <td>0.001107</td>\n",
       "    </tr>\n",
       "    <tr>\n",
       "      <th>1</th>\n",
       "      <td>0.000571</td>\n",
       "      <td>0.001135</td>\n",
       "      <td>0.000789</td>\n",
       "      <td>0.012839</td>\n",
       "      <td>0.003689</td>\n",
       "    </tr>\n",
       "    <tr>\n",
       "      <th>2</th>\n",
       "      <td>0.010671</td>\n",
       "      <td>0.001391</td>\n",
       "      <td>0.000066</td>\n",
       "      <td>0.002028</td>\n",
       "      <td>0.000848</td>\n",
       "    </tr>\n",
       "    <tr>\n",
       "      <th>3</th>\n",
       "      <td>0.014204</td>\n",
       "      <td>0.006498</td>\n",
       "      <td>0.000314</td>\n",
       "      <td>0.053941</td>\n",
       "      <td>0.002023</td>\n",
       "    </tr>\n",
       "    <tr>\n",
       "      <th>4</th>\n",
       "      <td>0.007301</td>\n",
       "      <td>0.002004</td>\n",
       "      <td>0.000104</td>\n",
       "      <td>0.062034</td>\n",
       "      <td>0.001812</td>\n",
       "    </tr>\n",
       "  </tbody>\n",
       "</table>\n",
       "</div>"
      ],
      "text/plain": [
       "      adp_c     atp_c     g6p_c  glc__D_c  glc__D_e\n",
       "0  0.003654  0.001531  0.000111  0.006823  0.001107\n",
       "1  0.000571  0.001135  0.000789  0.012839  0.003689\n",
       "2  0.010671  0.001391  0.000066  0.002028  0.000848\n",
       "3  0.014204  0.006498  0.000314  0.053941  0.002023\n",
       "4  0.007301  0.002004  0.000104  0.062034  0.001812"
      ]
     },
     "execution_count": 39,
     "metadata": {},
     "output_type": "execute_result"
    }
   ],
   "source": [
    "conc_solver.setup_sampling_problem(\n",
    "    fixed_conc_bounds=list(glycogenolysis.fixed),\n",
    "    fixed_Keq_bounds=glycogenolysis.reactions.list_attr(\"Keq_str\"))\n",
    "for variable in conc_solver.variables:\n",
    "    try:\n",
    "        met = glycogenolysis.metabolites.get_by_id(variable.name)\n",
    "        variable.lb, variable.ub = np.log([met.ic / 10, met.ic * 10])\n",
    "    except:\n",
    "        pass\n",
    "conc_samples = sample_concentrations(conc_solver, n=n_models, seed=seed)\n",
    "conc_samples.head()"
   ]
  },
  {
   "cell_type": "markdown",
   "metadata": {},
   "source": [
    "## Set concentrations and balance models with pseudoreactions"
   ]
  },
  {
   "cell_type": "code",
   "execution_count": 40,
   "metadata": {},
   "outputs": [
    {
     "name": "stdout",
     "output_type": "stream",
     "text": [
      "Number of models in ensemble: 20\n",
      "[<MassModel Glycogenolysis_C0 at 0x7f0424227410>, <MassModel Glycogenolysis_C1 at 0x7f04242270d0>, <MassModel Glycogenolysis_C2 at 0x7f042449b650>, <MassModel Glycogenolysis_C3 at 0x7f04247298d0>, <MassModel Glycogenolysis_C4 at 0x7f0424906dd0>, <MassModel Glycogenolysis_C5 at 0x7f04246f6c10>, <MassModel Glycogenolysis_C6 at 0x7f0424f38cd0>, <MassModel Glycogenolysis_C7 at 0x7f0424fc0810>, <MassModel Glycogenolysis_C8 at 0x7f04251f9650>, <MassModel Glycogenolysis_C9 at 0x7f0425345390>, <MassModel Glycogenolysis_C10 at 0x7f0425345b10>, <MassModel Glycogenolysis_C11 at 0x7f04251049d0>, <MassModel Glycogenolysis_C12 at 0x7f0425610f10>, <MassModel Glycogenolysis_C13 at 0x7f04259f8050>, <MassModel Glycogenolysis_C14 at 0x7f0425a7f410>, <MassModel Glycogenolysis_C15 at 0x7f0425bef810>, <MassModel Glycogenolysis_C16 at 0x7f0425d16750>, <MassModel Glycogenolysis_C17 at 0x7f0425f71210>, <MassModel Glycogenolysis_C18 at 0x7f04265bdf50>, <MassModel Glycogenolysis_C19 at 0x7f0425ef6ed0>]\n"
     ]
    }
   ],
   "source": [
    "models_for_ensemble = []\n",
    "for idx, conc_sample in conc_samples.iterrows():\n",
    "    # Make copy of new model\n",
    "    new_model = glycogenolysis.copy()\n",
    "    new_model.id += \"_C{0:d}\".format(idx)\n",
    "    # Get concentration sample and update model with sample\n",
    "    new_model.update_initial_conditions(conc_sample.to_dict())\n",
    "\n",
    "    # Determine imbalances in the reduced network\n",
    "    fluxes = np.array(list(new_model.steady_state_fluxes.values()))\n",
    "    imbalanced_metabolites = new_model.S.dot(fluxes)\n",
    "\n",
    "    # Iterate through metabolites\n",
    "    for mid, imbalance in imbalanced_metabolites.iteritems():\n",
    "        # Ignore balanced metabolites\n",
    "        if imbalance == 0:\n",
    "            continue\n",
    "        # Get metabolite object\n",
    "        met = new_model.metabolites.get_by_id(mid)\n",
    "\n",
    "        # Add boundary reactions for imbalanced metabolites\n",
    "        boundary_type = \"sink\"    \n",
    "        # Add boundary reaction with imbalance as flux value\n",
    "        boundary_reaction = new_model.add_boundary(\n",
    "            mid, boundary_type, boundary_condition=met.ic)\n",
    "        \n",
    "        boundary_reaction.Keq = 1\n",
    "        if imbalance < 0:\n",
    "            boundary_reaction.reverse_stoichiometry(inplace=True)\n",
    "            imbalance = -imbalance\n",
    "\n",
    "        boundary_reaction.kf = imbalance / met.ic\n",
    "        boundary_reaction.steady_state_flux = imbalance\n",
    "        try:\n",
    "            # Update PERCs\n",
    "            new_model.calculate_PERCs(\n",
    "                fluxes={\n",
    "                    r: v for r, v in new_model.steady_state_fluxes.items()\n",
    "                    if not r.boundary},\n",
    "                update_reactions=True)\n",
    "        except:\n",
    "            print(\"Negative PERCs for {0}\".format(new_model.id))\n",
    "            continue\n",
    "    models_for_ensemble.append(new_model)\n",
    "print(\"Number of models in ensemble: {0:d}\".format(\n",
    "    len(models_for_ensemble)))\n",
    "print(models_for_ensemble)"
   ]
  },
  {
   "cell_type": "markdown",
   "metadata": {},
   "source": [
    "#### Ensure model is in steady state and export"
   ]
  },
  {
   "cell_type": "code",
   "execution_count": 43,
   "metadata": {},
   "outputs": [],
   "source": [
    "## determine imbalances in the reduced network\n",
    "fluxes = np.array(list(glycogenolysis.steady_state_fluxes.values()))\n",
    "imbalanced_metabolites = glycogenolysis.S.dot(fluxes)\n",
    "\n",
    "# Iterate through metabolites\n",
    "for mid, imbalance in imbalanced_metabolites.iteritems():\n",
    "    # Ignore balanced metabolites\n",
    "    if imbalance == 0:\n",
    "        continue\n",
    "    # Get metabolite object\n",
    "    met = glycogenolysis.metabolites.get_by_id(mid)\n",
    "\n",
    "    # Add boundary reactions for imbalanced metabolites\n",
    "    boundary_type = \"sink\"    \n",
    "    # Add boundary reaction with imbalance as flux value\n",
    "    boundary_reaction = glycogenolysis.add_boundary(\n",
    "        mid, boundary_type, boundary_condition=met.ic)\n",
    "\n",
    "    boundary_reaction.Keq = 1\n",
    "    if imbalance < 0:\n",
    "        boundary_reaction.reverse_stoichiometry(inplace=True)\n",
    "        imbalance = -imbalance\n",
    "\n",
    "    boundary_reaction.kf = imbalance / met.ic\n",
    "    boundary_reaction.steady_state_flux = imbalance\n",
    "    try:\n",
    "        # Update PERCs\n",
    "        glycogenolysis.calculate_PERCs(\n",
    "            fluxes={\n",
    "                r: v for r, v in glycogenolysis.steady_state_fluxes.items()\n",
    "                if not r.boundary},\n",
    "            update_reactions=True)\n",
    "    except:\n",
    "        print(\"Negative PERCs for {0}\".format(new_model.id))\n",
    "        continue"
   ]
  },
  {
   "cell_type": "code",
   "execution_count": 44,
   "metadata": {},
   "outputs": [],
   "source": [
    "## balancing charges on reactions manually\n",
    "\n",
    "glycogenolysis.metabolites.h_c.charge=1"
   ]
  },
  {
   "cell_type": "code",
   "execution_count": 45,
   "metadata": {},
   "outputs": [
    {
     "name": "stdout",
     "output_type": "stream",
     "text": [
      "╒══════════════════════════════════════════╕\n",
      "│ MODEL ID: Glycogenolysis                 │\n",
      "│ SIMULATABLE: True                        │\n",
      "│ PARAMETERS NUMERICALY CONSISTENT: True   │\n",
      "╞══════════════════════════════════════════╡\n",
      "╘══════════════════════════════════════════╛\n"
     ]
    }
   ],
   "source": [
    "qcqa_model(glycogenolysis, parameters=True, concentrations=True,\n",
    "          fluxes=True, superfluous=True, elemental=True)\n"
   ]
  },
  {
   "cell_type": "code",
   "execution_count": null,
   "metadata": {},
   "outputs": [],
   "source": [
    "# Whether to print messages as loop occurs. \n",
    "verbose = False\n",
    "# Ensure all models are simulated to a long time and that\n",
    "# there are enough time points to determine if model reached steady state.\n",
    "tfinal = 1e4\n",
    "\n",
    "sim = Simulation(reference_model=models_for_ensemble[0], verbose=verbose)\n",
    "sim.add_models(models_for_ensemble[1:], verbose=verbose, disable_safe_load=True)\n",
    "sim.integrator.absolute_tolerance = 1e-15\n",
    "sim.integrator.relative_tolerance = 1e-9\n",
    "\n",
    "models_to_export = []\n",
    "with warnings.catch_warnings():\n",
    "    warnings.simplefilter(\"ignore\")\n",
    "    for model in models_for_ensemble:\n",
    "        # Attempt to determine steady state\n",
    "        conc_sol, flux_sol = sim.find_steady_state(\n",
    "            models=model, strategy=\"simulate\", update_values=True,\n",
    "            tfinal=tfinal, \n",
    "            verbose=verbose)\n",
    "        if conc_sol and flux_sol:\n",
    "            continue\n",
    "        print(str(model) + \" first attempt failed.\")\n",
    "        # First attempt was not successful, lengthen time for second attempt\n",
    "        # Attempt to determine steady state\n",
    "        conc_sol, flux_sol = sim.find_steady_state(\n",
    "            models=model, strategy=\"simulate\", update_values=True,\n",
    "            tfinal=tfinal * 10, \n",
    "            verbose=verbose)\n",
    "        if conc_sol and flux_sol:\n",
    "            continue\n",
    "        print(str(model) + \" second attempt failed.\")\n",
    "        # Second attempt was not successful, lengthen time for second attempt\n",
    "        # Attempt to determine steady state\n",
    "        conc_sol, flux_sol = sim.find_steady_state(\n",
    "            models=model, strategy=\"simulate\", update_values=True,\n",
    "            tfinal=tfinal * 100, \n",
    "            verbose=verbose)\n",
    "        if conc_sol and flux_sol:\n",
    "            continue\n",
    "        print(str(model) + \" third attempt failed. Eliminating model.\")\n",
    "        # Third attempt was not successful, eliminate the model\n",
    "        sim.remove_models(models=model, verbose=verbose)"
   ]
  },
  {
   "cell_type": "code",
   "execution_count": 47,
   "metadata": {},
   "outputs": [],
   "source": [
    "glycogenolysis.genes.remove('3099_AT1')\n",
    "glycogenolysis.genes.remove('154091_AT1')\n",
    "# glycogenolysis.genes.remove('2542_AT1')"
   ]
  },
  {
   "cell_type": "code",
   "execution_count": 50,
   "metadata": {},
   "outputs": [
    {
     "data": {
      "image/png": "[encoded data removed]",
      "text/plain": [
       "<Figure size 432x288 with 1 Axes>"
      ]
     },
     "metadata": {
      "needs_background": "light"
     },
     "output_type": "display_data"
    }
   ],
   "source": [
    "###RUN THIS FOR TIME PROFILE\n",
    "# Setup simulation object\n",
    "sim = Simulation(glycogenolysis, verbose=False)\n",
    "# Simulate from 0 to 1000 with 10001 points in the output\n",
    "conc_sol, flux_sol = sim.simulate(glycogenolysis, time=(0, 1e10, 1e4 + 1))\n",
    "# Quickly render and display time profiles\n",
    "conc_sol.view_time_profile()"
   ]
  },
  {
   "cell_type": "code",
   "execution_count": 51,
   "metadata": {},
   "outputs": [
    {
     "data": {
      "image/png": "[encoded data removed]",
      "text/plain": [
       "<Figure size 720x432 with 2 Axes>"
      ]
     },
     "metadata": {
      "needs_background": "light"
     },
     "output_type": "display_data"
    }
   ],
   "source": [
    "fig_1, axes = plt.subplots(nrows=2, ncols=1, figsize=(10, 6));\n",
    "(ax1, ax2) = axes.flatten()\n",
    "L_FONT = {\"size\": \"large\"}\n",
    "plot_time_profile(\n",
    "    conc_sol, ax=ax1, legend=\"right outside\",\n",
    "    plot_function=\"semilogx\",\n",
    "    xlabel=\"Time [hr]\", ylabel=\"Concentration [mM]\",\n",
    "    title=(\"Concentration Profile\", L_FONT));\n",
    "\n",
    "plot_time_profile(\n",
    "    flux_sol, ax=ax2, legend=\"right outside\",\n",
    "    plot_function=\"semilogx\",\n",
    "    xlabel=\"Time [hr]\", ylabel=\"Flux [mol/L*hr]\",\n",
    "    title=(\"Flux Profile\", L_FONT));\n",
    "fig_1.tight_layout()\n",
    "\n"
   ]
  },
  {
   "cell_type": "code",
   "execution_count": null,
   "metadata": {},
   "outputs": [],
   "source": []
  }
 ],
 "metadata": {
  "kernelspec": {
   "display_name": "Python 3",
   "language": "python",
   "name": "python3"
  },
  "language_info": {
   "codemirror_mode": {
    "name": "ipython",
    "version": 3
   },
   "file_extension": ".py",
   "mimetype": "text/x-python",
   "name": "python",
   "nbconvert_exporter": "python",
   "pygments_lexer": "ipython3",
   "version": "3.7.9"
  }
 },
 "nbformat": 4,
 "nbformat_minor": 4
}
