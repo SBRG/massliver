{
 "cells": [
  {
   "cell_type": "markdown",
   "metadata": {},
   "source": [
    "# Liver Model Construction: Glycolysis Gluconeogenesis & Lactate Fermentation"
   ]
  },
  {
   "cell_type": "markdown",
   "metadata": {},
   "source": [
    "## Setup workflow"
   ]
  },
  {
   "cell_type": "markdown",
   "metadata": {},
   "source": [
    "### Import packages"
   ]
  },
  {
   "cell_type": "code",
   "execution_count": 1,
   "metadata": {},
   "outputs": [
    {
     "name": "stdout",
     "output_type": "stream",
     "text": [
      "MASSpy version: 0.1.1\n"
     ]
    }
   ],
   "source": [
    "import os\n",
    "import warnings\n",
    "from cobra.io.json import load_json_model as load_json_cobra_model\n",
    "import escher\n",
    "import mass\n",
    "import numpy as np\n",
    "import pandas as pd\n",
    "import sympy as sy\n",
    "from cobra import Model, Reaction, Metabolite\n",
    "import cobra.test\n",
    "from os.path import join\n",
    "from mass import MassMetabolite, MassModel, MassReaction\n",
    "from mass.io.json import save_json_model as save_json_mass_model\n",
    "\n",
    "print(\"MASSpy version: {0}\".format(mass.__version__))"
   ]
  },
  {
   "cell_type": "markdown",
   "metadata": {},
   "source": [
    "## Set paths and constants"
   ]
  },
  {
   "cell_type": "markdown",
   "metadata": {},
   "source": [
    "### Directory paths"
   ]
  },
  {
   "cell_type": "markdown",
   "metadata": {},
   "source": [
    "model_dir = os.path.abspath(\"../models\")\n",
    "maps_dir = os.path.abspath(\"../maps\")"
   ]
  },
  {
   "cell_type": "code",
   "execution_count": 2,
   "metadata": {},
   "outputs": [],
   "source": [
    "# **changed the path depending on the file on where the files are located**\n",
    "model_dir = os.path.abspath(\"/Users/RiyaMathur/MASSliver/models\")\n",
    "maps_dir = os.path.abspath(\"/Users/RiyaMathur/MASSliver/models/maps\")\n",
    "data_dir = os.path.abspath(\"/Users/RiyaMathur/MASSliver/data/interim\")"
   ]
  },
  {
   "cell_type": "markdown",
   "metadata": {},
   "source": [
    "# Create MASS model from COBRA model"
   ]
  },
  {
   "cell_type": "markdown",
   "metadata": {},
   "source": [
    "### Load COBRA model"
   ]
  },
  {
   "cell_type": "code",
   "execution_count": 3,
   "metadata": {},
   "outputs": [
    {
     "data": {
      "text/html": [
       "\n",
       "        <table>\n",
       "            <tr>\n",
       "                <td><strong>Name</strong></td>\n",
       "                <td>None</td>\n",
       "            </tr><tr>\n",
       "                <td><strong>Memory address</strong></td>\n",
       "                <td>0x07f8b14418af0</td>\n",
       "            </tr><tr>\n",
       "                <td><strong>Number of metabolites</strong></td>\n",
       "                <td>178</td>\n",
       "            </tr><tr>\n",
       "                <td><strong>Number of reactions</strong></td>\n",
       "                <td>187</td>\n",
       "            </tr><tr>\n",
       "                <td><strong>Number of groups</strong></td>\n",
       "                <td>0</td>\n",
       "            </tr><tr>\n",
       "                <td><strong>Objective expression</strong></td>\n",
       "                <td>1.0*ATPM - 1.0*ATPM_reverse_5b752</td>\n",
       "            </tr><tr>\n",
       "                <td><strong>Compartments</strong></td>\n",
       "                <td>m, i, c, r, </td>\n",
       "            </tr>\n",
       "          </table>"
      ],
      "text/plain": [
       "<Model None at 0x7f8b14418af0>"
      ]
     },
     "execution_count": 3,
     "metadata": {},
     "output_type": "execute_result"
    }
   ],
   "source": [
    "core_model=load_json_cobra_model(filename=os.path.join(model_dir,\"CoreModel.json\"))\n",
    "recon=load_json_cobra_model(filename=os.path.join(model_dir,\"Recon3D.json\"))\n",
    "core_model"
   ]
  },
  {
   "cell_type": "markdown",
   "metadata": {},
   "source": [
    "## Create MASS model"
   ]
  },
  {
   "cell_type": "code",
   "execution_count": 4,
   "metadata": {},
   "outputs": [],
   "source": [
    "glycogenolysis = MassModel(\"Glycogenolysis\", array_type='DataFrame', dtype=np.int64)"
   ]
  },
  {
   "cell_type": "markdown",
   "metadata": {},
   "source": [
    "### Define reactions"
   ]
  },
  {
   "cell_type": "code",
   "execution_count": null,
   "metadata": {},
   "outputs": [],
   "source": [
    "# glycolysis_map = escher.Builder(model=core_model,  map_json=\"Glycolysis, gluconeogenesis lactate fermentation 2.json\",\n",
    "#                                 highlight_missing=True) \n",
    "# glycolysis_map"
   ]
  },
  {
   "cell_type": "code",
   "execution_count": 5,
   "metadata": {},
   "outputs": [
    {
     "name": "stderr",
     "output_type": "stream",
     "text": [
      "Ignoring reaction 'G6Pter' since it already exists.\n",
      "Ignoring reaction 'GLCter' since it already exists.\n",
      "Ignoring reaction 'SK_g6p_c' since it already exists.\n"
     ]
    },
    {
     "name": "stdout",
     "output_type": "stream",
     "text": [
      "[<Reaction HEX1 at 0x7f8b1d21ca00>, <Reaction PGI at 0x7f8b1d21c8e0>, <Reaction FBP at 0x7f8b1d232fa0>, <Reaction PFK at 0x7f8b1d21c040>, <Reaction FBA at 0x7f8b1d21c430>, <Reaction TPI at 0x7f8b1d1fbee0>, <Reaction GAPD at 0x7f8b1d21c400>, <Reaction PGK at 0x7f8b1d229700>, <Reaction PGM at 0x7f8b1d229640>, <Reaction ENO at 0x7f8b1d37fa30>, <Reaction PEPtm at 0x7f8b1d341160>, <Reaction PEPCKm at 0x7f8b1d232100>, <Reaction PYK at 0x7f8b1d37f7c0>, <Reaction PCm at 0x7f8b1d2328e0>, <Reaction LDH_L at 0x7f8b1d3d9dc0>, <Reaction PYRt2m at 0x7f8b1d3412b0>, <Reaction G6PDH2r at 0x7f8b1d3d9af0>, <Reaction PGMT at 0x7f8b1d235af0>, <Reaction G6Pter at 0x7f8b1d232580>, <Reaction GLCter at 0x7f8b1d232c10>, <Reaction TKT2 at 0x7f8b1d215460>, <Reaction PGCD at 0x7f8b1d3a85e0>, <Reaction 3SPYRSP at 0x7f8b1d3a8280>, <Reaction ALATA_L at 0x7f8b1d3a2f70>, <Reaction 2AMACHYD at 0x7f8b1d37c4c0>, <Reaction PEPCK_re at 0x7f8b1d235bb0>, <Reaction MDH at 0x7f8b1d2356d0>, <Reaction MALtm at 0x7f8b1d235970>, <Reaction EX_glc__D_c at 0x7f8b1d3c41f0>, <Reaction EX_pyr_c at 0x7f8b1d3bdcd0>, <Reaction EX_lac__L_c at 0x7f8b1d3c42b0>, <Reaction G6Pter at 0x7f8b1d232580>, <Reaction G6PPer at 0x7f8b1d232340>, <Reaction GLCter at 0x7f8b1d232c10>, <Reaction EX_glc__D_e at 0x7f8b03a54fa0>, <Reaction GLCt1 at 0x7f8b05b807c0>, <MassReaction SK_g6p_c at 0x7f8b03fd0f70>]\n"
     ]
    }
   ],
   "source": [
    "reaction_list = ['HEX1',\n",
    "                'PGI',\n",
    "                'FBP',\n",
    "                'PFK',\n",
    "                'FBA',\n",
    "                'TPI',\n",
    "                'GAPD',\n",
    "                'PGK',\n",
    "                'PGM',\n",
    "                'ENO',\n",
    "                'PEPtm',\n",
    "                'PEPCKm',\n",
    "                'PYK',\n",
    "                'PCm',\n",
    "                'LDH_L',\n",
    "                'PYRt2m', \n",
    "              #  'SUCR', This is a sucrose metabolism reaction... \n",
    "                'G6PDH2r',\n",
    "                'PGMT',\n",
    "                'G6Pter',\n",
    "                'GLCter',\n",
    "                'TKT2',\n",
    "                'PGCD', \n",
    "                '3SPYRSP', \n",
    "                'ALATA_L', \n",
    "                '2AMACHYD', \n",
    "               # 'GLCt1', This is a surcose metabolism reaction...\n",
    "                'PEPCK_re',\n",
    "                'MDH',\n",
    "                'MALtm', \n",
    "                'EX_glc__D_c',\n",
    "                'EX_pyr_c',\n",
    "                'EX_lac__L_c',\n",
    "                'G6Pter',\n",
    "                'G6PPer',\n",
    "                'GLCter']\n",
    "\n",
    "\n",
    "\n",
    "new = ['EX_glc__D_e', 'GLCt1'] #from RECONN\n",
    "\n",
    "\n",
    "new_reaction_list = []\n",
    "for item in reaction_list: \n",
    "    item = core_model.reactions.get_by_id(item)\n",
    "    new_reaction_list.append(item) \n",
    "\n",
    "new_reaction_list\n",
    "for i in new: \n",
    "    i = recon.reactions.get_by_id(i)\n",
    "    new_reaction_list.append(i) \n",
    "\n",
    "# Convert cobra.Reactions to mass.MassReactions\n",
    "for rid in reaction_list:\n",
    "    reaction = core_model.reactions.get_by_id(rid)\n",
    "    glycogenolysis.add_reactions([MassReaction(reaction)])\n",
    "for rid in new:\n",
    "    reaction = recon.reactions.get_by_id(rid)\n",
    "    glycogenolysis.add_reactions([MassReaction(reaction)])  \n",
    "new_reaction_list\n",
    "\n",
    "metabolite = core_model.metabolites.get_by_id('g6p_c')\n",
    "\n",
    "SK_g6p_c = glycogenolysis.add_boundary(\n",
    "    metabolite= 'g6p_c', boundary_type=\"sink\", subsystem=\"Pseudoreaction\",\n",
    "    boundary_condition=1)\n",
    "\n",
    "glycogenolysis.add_reactions([MassReaction(SK_g6p_c)]) \n",
    "new_reaction_list.append(SK_g6p_c)\n",
    "\n",
    "print(new_reaction_list)"
   ]
  },
  {
   "cell_type": "markdown",
   "metadata": {},
   "source": [
    "### View extracted network"
   ]
  },
  {
   "cell_type": "code",
   "execution_count": 6,
   "metadata": {},
   "outputs": [
    {
     "ename": "NameError",
     "evalue": "name 'glycolysis' is not defined",
     "output_type": "error",
     "traceback": [
      "\u001b[0;31m---------------------------------------------------------------------------\u001b[0m",
      "\u001b[0;31mNameError\u001b[0m                                 Traceback (most recent call last)",
      "\u001b[0;32m<ipython-input-6-892524fca4af>\u001b[0m in \u001b[0;36m<module>\u001b[0;34m\u001b[0m\n\u001b[1;32m      1\u001b[0m escher_builder = escher.Builder(\n\u001b[0;32m----> 2\u001b[0;31m     \u001b[0mmodel\u001b[0m\u001b[0;34m=\u001b[0m\u001b[0mglycolysis\u001b[0m\u001b[0;34m,\u001b[0m\u001b[0;34m\u001b[0m\u001b[0;34m\u001b[0m\u001b[0m\n\u001b[0m\u001b[1;32m      3\u001b[0m     map_json=os.path.join(\n\u001b[1;32m      4\u001b[0m         model_dir, \".\".join((\n\u001b[1;32m      5\u001b[0m             glycolysis.id, \"map\", \"json\"))\n",
      "\u001b[0;31mNameError\u001b[0m: name 'glycolysis' is not defined"
     ]
    }
   ],
   "source": [
    "escher_builder = escher.Builder(\n",
    "    model=glycogenolysis,\n",
    "    map_json=os.path.join(\n",
    "        model_dir, \".\".join((\n",
    "            glycogenolysis.id, \"map\", \"json\"))\n",
    "    ),\n",
    "    highlight_missing=True)\n",
    "\n",
    "escher_builder"
   ]
  },
  {
   "cell_type": "markdown",
   "metadata": {},
   "source": [
    "## Parameterize MASS model"
   ]
  },
  {
   "cell_type": "code",
   "execution_count": null,
   "metadata": {},
   "outputs": [],
   "source": []
  },
  {
   "cell_type": "code",
   "execution_count": null,
   "metadata": {},
   "outputs": [],
   "source": []
  },
  {
   "cell_type": "code",
   "execution_count": null,
   "metadata": {},
   "outputs": [],
   "source": []
  },
  {
   "cell_type": "code",
   "execution_count": null,
   "metadata": {},
   "outputs": [],
   "source": [
    "\n"
   ]
  },
  {
   "cell_type": "code",
   "execution_count": null,
   "metadata": {
    "scrolled": true
   },
   "outputs": [],
   "source": []
  },
  {
   "cell_type": "code",
   "execution_count": null,
   "metadata": {},
   "outputs": [],
   "source": []
  },
  {
   "cell_type": "markdown",
   "metadata": {},
   "source": [
    "# Export MASS model"
   ]
  },
  {
   "cell_type": "code",
   "execution_count": 7,
   "metadata": {},
   "outputs": [],
   "source": [
    "save_json_mass_model(\n",
    "    mass_model=glycogenolysis,\n",
    "    filename=os.path.join(model_dir, glycogenolysis.id + \".json\"))"
   ]
  },
  {
   "cell_type": "code",
   "execution_count": null,
   "metadata": {},
   "outputs": [],
   "source": []
  }
 ],
 "metadata": {
  "kernelspec": {
   "display_name": "Python 3",
   "language": "python",
   "name": "python3"
  },
  "language_info": {
   "codemirror_mode": {
    "name": "ipython",
    "version": 3
   },
   "file_extension": ".py",
   "mimetype": "text/x-python",
   "name": "python",
   "nbconvert_exporter": "python",
   "pygments_lexer": "ipython3",
   "version": "3.8.3"
  }
 },
 "nbformat": 4,
 "nbformat_minor": 4
}
