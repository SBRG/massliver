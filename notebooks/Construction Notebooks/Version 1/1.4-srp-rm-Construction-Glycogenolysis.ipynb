{
 "cells": [
  {
   "cell_type": "markdown",
   "metadata": {},
   "source": [
    "# Liver Model Construction: Glycolysis Gluconeogenesis & Lactate Fermentation"
   ]
  },
  {
   "cell_type": "markdown",
   "metadata": {},
   "source": [
    "## Setup workflow"
   ]
  },
  {
   "cell_type": "markdown",
   "metadata": {},
   "source": [
    "### Import packages"
   ]
  },
  {
   "cell_type": "code",
   "execution_count": 1,
   "metadata": {},
   "outputs": [
    {
     "name": "stdout",
     "output_type": "stream",
     "text": [
      "MASSpy version: 0.1.1\n"
     ]
    }
   ],
   "source": [
    "import os\n",
    "import warnings\n",
    "from cobra.io.json import load_json_model as load_json_cobra_model\n",
    "import escher\n",
    "import mass\n",
    "import numpy as np\n",
    "import pandas as pd\n",
    "import sympy as sy\n",
    "from cobra import Model, Reaction, Metabolite\n",
    "import cobra.test\n",
    "from os.path import join\n",
    "from mass import MassMetabolite, MassModel, MassReaction\n",
    "from mass.io.json import save_json_model as save_json_mass_model\n",
    "\n",
    "print(\"MASSpy version: {0}\".format(mass.__version__))"
   ]
  },
  {
   "cell_type": "markdown",
   "metadata": {},
   "source": [
    "## Set paths and constants"
   ]
  },
  {
   "cell_type": "markdown",
   "metadata": {},
   "source": [
    "### Directory paths"
   ]
  },
  {
   "cell_type": "markdown",
   "metadata": {},
   "source": [
    "## Change this before upload!!\n",
    "\n",
    "model_dir = os.path.abspath(\"../models\")\n",
    "maps_dir = os.path.abspath(\"../maps\")"
   ]
  },
  {
   "cell_type": "code",
   "execution_count": 2,
   "metadata": {},
   "outputs": [],
   "source": [
    "# **changed the path depending on the file on where the files are located**\n",
    "model_dir = os.path.abspath(\"/Users/RiyaMathur/Coding HERE/MASSliver/models\")\n",
    "maps_dir = os.path.abspath(\"/Users/RiyaMathur//Coding HERE/MASSliver/models/maps\")\n",
    "data_dir = os.path.abspath(\"/Users/RiyaMathur//Coding HERE/MASSliver/data/interim\")"
   ]
  },
  {
   "cell_type": "markdown",
   "metadata": {},
   "source": [
    "# Create MASS model from COBRA model"
   ]
  },
  {
   "cell_type": "markdown",
   "metadata": {},
   "source": [
    "### Load COBRA model"
   ]
  },
  {
   "cell_type": "code",
   "execution_count": 3,
   "metadata": {},
   "outputs": [
    {
     "data": {
      "text/html": [
       "\n",
       "        <table>\n",
       "            <tr>\n",
       "                <td><strong>Name</strong></td>\n",
       "                <td>None</td>\n",
       "            </tr><tr>\n",
       "                <td><strong>Memory address</strong></td>\n",
       "                <td>0x07fadba419dc0</td>\n",
       "            </tr><tr>\n",
       "                <td><strong>Number of metabolites</strong></td>\n",
       "                <td>178</td>\n",
       "            </tr><tr>\n",
       "                <td><strong>Number of reactions</strong></td>\n",
       "                <td>187</td>\n",
       "            </tr><tr>\n",
       "                <td><strong>Number of groups</strong></td>\n",
       "                <td>0</td>\n",
       "            </tr><tr>\n",
       "                <td><strong>Objective expression</strong></td>\n",
       "                <td>1.0*ATPM - 1.0*ATPM_reverse_5b752</td>\n",
       "            </tr><tr>\n",
       "                <td><strong>Compartments</strong></td>\n",
       "                <td>m, i, c, r, </td>\n",
       "            </tr>\n",
       "          </table>"
      ],
      "text/plain": [
       "<Model None at 0x7fadba419dc0>"
      ]
     },
     "execution_count": 3,
     "metadata": {},
     "output_type": "execute_result"
    }
   ],
   "source": [
    "core_model=load_json_cobra_model(filename=os.path.join(model_dir,\"CoreModel.json\"))\n",
    "recon=load_json_cobra_model(filename=os.path.join(model_dir,\"Recon3D.json\"))\n",
    "core_model"
   ]
  },
  {
   "cell_type": "markdown",
   "metadata": {},
   "source": [
    "## Create MASS model"
   ]
  },
  {
   "cell_type": "code",
   "execution_count": 4,
   "metadata": {},
   "outputs": [],
   "source": [
    "glycogenolysis = MassModel(\"Glycogenolysis\", array_type='DataFrame', dtype=np.int64)"
   ]
  },
  {
   "cell_type": "markdown",
   "metadata": {},
   "source": [
    "### Define reactions"
   ]
  },
  {
   "cell_type": "code",
   "execution_count": 5,
   "metadata": {},
   "outputs": [],
   "source": [
    "# glycolysis_map = escher.Builder(model=core_model,  map_json=\"Glycolysis, gluconeogenesis lactate fermentation 2.json\",\n",
    "#                                 highlight_missing=True) \n",
    "# glycolysis_map"
   ]
  },
  {
   "cell_type": "code",
   "execution_count": 6,
   "metadata": {},
   "outputs": [
    {
     "name": "stderr",
     "output_type": "stream",
     "text": [
      "Ignoring reaction 'G6Pter' since it already exists.\n",
      "Ignoring reaction 'GLCter' since it already exists.\n",
      "Ignoring reaction 'SK_pyr_c' since it already exists.\n",
      "Ignoring reaction 'SK_pyr_m' since it already exists.\n",
      "Ignoring reaction 'SK_hco3_m' since it already exists.\n",
      "Ignoring reaction 'SK_co2_m' since it already exists.\n",
      "Ignoring reaction 'SK_gtp_m' since it already exists.\n",
      "Ignoring reaction 'SK_gdp_m' since it already exists.\n",
      "Ignoring reaction 'SK_atp_c' since it already exists.\n",
      "Ignoring reaction 'SK_atp_m' since it already exists.\n",
      "Ignoring reaction 'SK_adp_c' since it already exists.\n",
      "Ignoring reaction 'SK_adp_m' since it already exists.\n",
      "Ignoring reaction 'SK_pi_m' since it already exists.\n",
      "Ignoring reaction 'SK_h_m' since it already exists.\n",
      "Ignoring reaction 'SK_nadh_c' since it already exists.\n",
      "Ignoring reaction 'SK_nad_c' since it already exists.\n",
      "Ignoring reaction 'SK_pep_m' since it already exists.\n",
      "Ignoring reaction 'SK_oaa_m' since it already exists.\n",
      "Ignoring reaction 'EX_pyr_e' since it already exists.\n",
      "Ignoring reaction 'EX_lac__L_e' since it already exists.\n"
     ]
    },
    {
     "name": "stdout",
     "output_type": "stream",
     "text": [
      "[<Reaction HEX1 at 0x7fadc332a940>, <Reaction PGI at 0x7fadc332a8e0>, <Reaction FBP at 0x7fadc333efa0>, <Reaction PFK at 0x7fadc332a040>, <Reaction FBA at 0x7fadc332a430>, <Reaction TPI at 0x7fadc332a400>, <Reaction GAPD at 0x7fadc3336be0>, <Reaction PGK at 0x7fadc3336af0>, <Reaction PGM at 0x7fadc3314e20>, <Reaction ENO at 0x7fadc33143a0>, <Reaction PEPtm at 0x7fadc354d730>, <Reaction PEPCKm at 0x7fadc333e040>, <Reaction PYK at 0x7fadc3594970>, <Reaction PCm at 0x7fadc333e820>, <Reaction LDH_L at 0x7fadc35eed00>, <Reaction G6PDH2r at 0x7fadc35eea30>, <Reaction PGMT at 0x7fadc3344a30>, <Reaction G6Pter at 0x7fadc333e4c0>, <Reaction GLCter at 0x7fadc333eb50>, <Reaction TKT2 at 0x7fadc33243a0>, <Reaction PGCD at 0x7fadc35bc520>, <Reaction 3SPYRSP at 0x7fadc35bc1c0>, <Reaction ALATA_L at 0x7fadc35b6f70>, <Reaction 2AMACHYD at 0x7fadc358f400>, <Reaction PEPCK_re at 0x7fadc3344af0>, <Reaction MDH at 0x7fadc3344610>, <Reaction MALtm at 0x7fadc33448b0>, <Reaction EX_glc__D_c at 0x7fadc35d2430>, <Reaction EX_pyr_c at 0x7fadc35d2c10>, <Reaction EX_lac__L_c at 0x7fadc35d81f0>, <Reaction G6Pter at 0x7fadc333e4c0>, <Reaction G6PPer at 0x7fadc333e280>, <Reaction GLCter at 0x7fadc333eb50>, <Reaction EX_glc__D_e at 0x7fada99dc0d0>, <Reaction GLCt1 at 0x7fadabbd18b0>, <Reaction PYRt2m at 0x7fadac16ce20>, <Reaction H2Oter at 0x7fada6a5a0d0>, <Reaction PIter at 0x7fada74a6be0>, <Reaction H2Ot at 0x7fada8c16ac0>, <Reaction PIt at 0x7fada796bfd0>, <Reaction EX_pi_e at 0x7fada8c312b0>, <Reaction EX_h2o_e at 0x7fada8c168b0>, <Reaction EX_h_e at 0x7fadaac06be0>, <Reaction Ht at 0x7fadaabd1520>, <Reaction L_LACt2r at 0x7fadaae91430>, <Reaction PYRt2 at 0x7fada8d4ea90>, <MassReaction SK_pyr_c at 0x7fada8b3bfd0>, <MassReaction SK_pyr_m at 0x7fada9ac32e0>, <MassReaction SK_hco3_m at 0x7fada98255b0>, <MassReaction SK_co2_m at 0x7fada8b3bdf0>, <MassReaction SK_gtp_m at 0x7fada8b3bd60>, <MassReaction SK_gdp_m at 0x7fada8b3b850>, <MassReaction SK_atp_c at 0x7fada9825a60>, <MassReaction SK_atp_m at 0x7fada9825970>, <MassReaction SK_adp_c at 0x7fada9825ee0>, <MassReaction SK_adp_m at 0x7fada9825f70>, <MassReaction SK_pi_m at 0x7fada9825d60>, <MassReaction SK_h_m at 0x7fadac24f670>, <MassReaction SK_nadh_c at 0x7fadac24f550>, <MassReaction SK_nad_c at 0x7fadac24fa30>, <MassReaction SK_pep_m at 0x7fadac24fd00>, <MassReaction SK_oaa_m at 0x7fadac24ff70>, <MassReaction EX_pyr_e at 0x7fadac24f940>, <MassReaction EX_lac__L_e at 0x7fadac24fbe0>]\n"
     ]
    }
   ],
   "source": [
    "reaction_list = ['HEX1',\n",
    "                'PGI',\n",
    "                'FBP',\n",
    "                'PFK',\n",
    "                'FBA',\n",
    "                'TPI',\n",
    "                'GAPD',\n",
    "                'PGK',\n",
    "                'PGM',\n",
    "                'ENO',\n",
    "                'PEPtm',\n",
    "                'PEPCKm',\n",
    "                'PYK',\n",
    "                'PCm',\n",
    "                'LDH_L',\n",
    "              # 'PYRt2m', This is being taken from Reconn (below) since CORE has it in inner mitochodria (h_i)\n",
    "              #  'SUCR', This is a sucrose metabolism reaction... \n",
    "                'G6PDH2r',\n",
    "                'PGMT',\n",
    "                'G6Pter',\n",
    "                'GLCter',\n",
    "                'TKT2',\n",
    "                'PGCD', \n",
    "                '3SPYRSP', \n",
    "                'ALATA_L', \n",
    "                '2AMACHYD', \n",
    "               # 'GLCt1', This is a surcose metabolism reaction...\n",
    "                'PEPCK_re',\n",
    "                'MDH',\n",
    "                'MALtm', \n",
    "                'EX_glc__D_c',\n",
    "                'EX_pyr_c',\n",
    "                'EX_lac__L_c',\n",
    "                'G6Pter',\n",
    "                'G6PPer',\n",
    "                'GLCter']\n",
    "\n",
    "\n",
    "\n",
    "new = ['EX_glc__D_e', 'GLCt1', 'PYRt2m', 'H2Oter', 'PIter', 'H2Ot', 'PIt', 'EX_pi_e', \n",
    "       'EX_h2o_e', 'EX_h_e', 'Ht',  'L_LACt2r', #lactose transport between lactate in cytosol and extracellular \n",
    "     'PYRt2'] #pyruvate transport between pyruvate in cytosol and extracellular] #from RECONN\n",
    "\n",
    "\n",
    "new_reaction_list = []\n",
    "for item in reaction_list: \n",
    "    item = core_model.reactions.get_by_id(item)\n",
    "    new_reaction_list.append(item) \n",
    "\n",
    "new_reaction_list\n",
    "for i in new: \n",
    "    i = recon.reactions.get_by_id(i)\n",
    "    new_reaction_list.append(i) \n",
    "\n",
    "# Convert cobra.Reactions to mass.MassReactions\n",
    "for rid in reaction_list:\n",
    "    reaction = core_model.reactions.get_by_id(rid)\n",
    "    glycogenolysis.add_reactions([MassReaction(reaction)])\n",
    "for rid in new:\n",
    "    reaction = recon.reactions.get_by_id(rid)\n",
    "    glycogenolysis.add_reactions([MassReaction(reaction)])  \n",
    "new_reaction_list\n",
    "\n",
    "## This section is adding the sinks that are necessary \n",
    "\n",
    "#pyr_c sink \n",
    "metabolite = recon.metabolites.get_by_id('pyr_c')\n",
    "\n",
    "SK_pyr_c = glycogenolysis.add_boundary(\n",
    "    metabolite= 'pyr_c', boundary_type=\"sink\", subsystem=\"Pseudoreaction\",\n",
    "    boundary_condition=1)\n",
    "\n",
    "glycogenolysis.add_reactions([MassReaction(SK_pyr_c)]) \n",
    "new_reaction_list.append(SK_pyr_c)\n",
    "\n",
    "#pyr_m sink\n",
    "metabolite = recon.metabolites.get_by_id('pyr_m')\n",
    "\n",
    "SK_pyr_m = glycogenolysis.add_boundary(\n",
    "    metabolite= 'pyr_m', boundary_type=\"sink\", subsystem=\"Pseudoreaction\",\n",
    "    boundary_condition=1)\n",
    "\n",
    "glycogenolysis.add_reactions([MassReaction(SK_pyr_m)]) \n",
    "new_reaction_list.append(SK_pyr_m)\n",
    "\n",
    "#hco3_m sink\n",
    "metabolite = recon.metabolites.get_by_id('hco3_m')\n",
    "\n",
    "SK_hco3_m = glycogenolysis.add_boundary(\n",
    "    metabolite= 'hco3_m', boundary_type=\"sink\", subsystem=\"Pseudoreaction\",\n",
    "    boundary_condition=1)\n",
    "\n",
    "glycogenolysis.add_reactions([MassReaction(SK_hco3_m)]) \n",
    "new_reaction_list.append(SK_hco3_m)\n",
    "\n",
    "#co2_m sink\n",
    "metabolite = recon.metabolites.get_by_id('co2_m')\n",
    "\n",
    "SK_co2_m = glycogenolysis.add_boundary(\n",
    "    metabolite= 'co2_m', boundary_type=\"sink\", subsystem=\"Pseudoreaction\",\n",
    "    boundary_condition=1)\n",
    "\n",
    "glycogenolysis.add_reactions([MassReaction(SK_co2_m)]) \n",
    "new_reaction_list.append(SK_co2_m)\n",
    "\n",
    "#gtp_m sink\n",
    "metabolite = recon.metabolites.get_by_id('gtp_m')\n",
    "\n",
    "SK_gtp_m = glycogenolysis.add_boundary(\n",
    "    metabolite= 'gtp_m', boundary_type=\"sink\", subsystem=\"Pseudoreaction\",\n",
    "    boundary_condition=1)\n",
    "\n",
    "glycogenolysis.add_reactions([MassReaction(SK_gtp_m)]) \n",
    "new_reaction_list.append(SK_gtp_m)\n",
    "\n",
    "#gdp_m sink\n",
    "metabolite = recon.metabolites.get_by_id('gdp_m')\n",
    "\n",
    "SK_gdp_m = glycogenolysis.add_boundary(\n",
    "    metabolite= 'gdp_m', boundary_type=\"sink\", subsystem=\"Pseudoreaction\",\n",
    "    boundary_condition=1)\n",
    "\n",
    "glycogenolysis.add_reactions([MassReaction(SK_gdp_m)]) \n",
    "new_reaction_list.append(SK_gdp_m)\n",
    "\n",
    "#atp_c sink\n",
    "metabolite = recon.metabolites.get_by_id('atp_c')\n",
    "\n",
    "SK_atp_c = glycogenolysis.add_boundary(\n",
    "    metabolite= 'atp_c', boundary_type=\"sink\", subsystem=\"Pseudoreaction\",\n",
    "    boundary_condition=1)\n",
    "\n",
    "glycogenolysis.add_reactions([MassReaction(SK_atp_c)]) \n",
    "new_reaction_list.append(SK_atp_c)\n",
    "\n",
    "#atp_m sink\n",
    "metabolite = recon.metabolites.get_by_id('atp_m')\n",
    "\n",
    "SK_atp_m = glycogenolysis.add_boundary(\n",
    "    metabolite= 'atp_m', boundary_type=\"sink\", subsystem=\"Pseudoreaction\",\n",
    "    boundary_condition=1)\n",
    "\n",
    "glycogenolysis.add_reactions([MassReaction(SK_atp_m)]) \n",
    "new_reaction_list.append(SK_atp_m)\n",
    "\n",
    "#adp_c sink\n",
    "metabolite = recon.metabolites.get_by_id('adp_c')\n",
    "\n",
    "SK_adp_c = glycogenolysis.add_boundary(\n",
    "    metabolite= 'adp_c', boundary_type=\"sink\", subsystem=\"Pseudoreaction\",\n",
    "    boundary_condition=1)\n",
    "\n",
    "glycogenolysis.add_reactions([MassReaction(SK_adp_c)]) \n",
    "new_reaction_list.append(SK_adp_c)\n",
    "\n",
    "#adp_m sink\n",
    "metabolite = recon.metabolites.get_by_id('adp_m')\n",
    "\n",
    "SK_adp_m = glycogenolysis.add_boundary(\n",
    "    metabolite= 'adp_m', boundary_type=\"sink\", subsystem=\"Pseudoreaction\",\n",
    "    boundary_condition=1)\n",
    "\n",
    "glycogenolysis.add_reactions([MassReaction(SK_adp_m)]) \n",
    "new_reaction_list.append(SK_adp_m)\n",
    "\n",
    "#pi_m sink\n",
    "metabolite = recon.metabolites.get_by_id('pi_m')\n",
    "\n",
    "SK_pi_m = glycogenolysis.add_boundary(\n",
    "    metabolite= 'pi_m', boundary_type=\"sink\", subsystem=\"Pseudoreaction\",\n",
    "    boundary_condition=1)\n",
    "\n",
    "glycogenolysis.add_reactions([MassReaction(SK_pi_m)]) \n",
    "new_reaction_list.append(SK_pi_m)\n",
    "\n",
    "#h_m sink\n",
    "metabolite = recon.metabolites.get_by_id('h_m')\n",
    "\n",
    "SK_h_m = glycogenolysis.add_boundary(\n",
    "    metabolite= 'h_m', boundary_type=\"sink\", subsystem=\"Pseudoreaction\",\n",
    "    boundary_condition=1)\n",
    "\n",
    "glycogenolysis.add_reactions([MassReaction(SK_h_m)]) \n",
    "new_reaction_list.append(SK_h_m)\n",
    "\n",
    "#nadh_c sink\n",
    "metabolite = recon.metabolites.get_by_id('nadh_c')\n",
    "\n",
    "SK_nadh_c = glycogenolysis.add_boundary(\n",
    "    metabolite= 'nadh_c', boundary_type=\"sink\", subsystem=\"Pseudoreaction\",\n",
    "    boundary_condition=1)\n",
    "\n",
    "glycogenolysis.add_reactions([MassReaction(SK_nadh_c)]) \n",
    "new_reaction_list.append(SK_nadh_c)\n",
    "\n",
    "#nad_c sink\n",
    "metabolite = recon.metabolites.get_by_id('nad_c')\n",
    "\n",
    "SK_nad_c = glycogenolysis.add_boundary(\n",
    "    metabolite= 'nad_c', boundary_type=\"sink\", subsystem=\"Pseudoreaction\",\n",
    "    boundary_condition=1)\n",
    "\n",
    "glycogenolysis.add_reactions([MassReaction(SK_nad_c)]) \n",
    "new_reaction_list.append(SK_nad_c)\n",
    "\n",
    "#pep_m sink\n",
    "metabolite = recon.metabolites.get_by_id('pep_m')\n",
    "\n",
    "SK_pep_m = glycogenolysis.add_boundary(\n",
    "    metabolite= 'pep_m', boundary_type=\"sink\", subsystem=\"Pseudoreaction\",\n",
    "    boundary_condition=1)\n",
    "\n",
    "glycogenolysis.add_reactions([MassReaction(SK_pep_m)]) \n",
    "new_reaction_list.append(SK_pep_m)\n",
    "\n",
    "#oaa_m sink\n",
    "metabolite = recon.metabolites.get_by_id('oaa_m')\n",
    "\n",
    "SK_oaa_m = glycogenolysis.add_boundary(\n",
    "    metabolite= 'oaa_m', boundary_type=\"sink\", subsystem=\"Pseudoreaction\",\n",
    "    boundary_condition=1)\n",
    "\n",
    "glycogenolysis.add_reactions([MassReaction(SK_oaa_m)]) \n",
    "new_reaction_list.append(SK_oaa_m)\n",
    "\n",
    "\n",
    "\n",
    "## This section is adding the exchanges that are necessary\n",
    "\n",
    "#pyr_e exchange\n",
    "metabolite = recon.metabolites.get_by_id('pyr_e')\n",
    "\n",
    "EX_pyr_e = glycogenolysis.add_boundary(\n",
    "    metabolite= 'pyr_e', boundary_type=\"exchange\", subsystem=\"Pseudoreaction\")\n",
    "\n",
    "glycogenolysis.add_reactions([MassReaction(EX_pyr_e)]) \n",
    "new_reaction_list.append(EX_pyr_e)\n",
    "\n",
    "#lac__L_e exchange\n",
    "metabolite = recon.metabolites.get_by_id('lac__L_e')\n",
    "\n",
    "EX_lac__L_e = glycogenolysis.add_boundary(\n",
    "    metabolite= 'lac__L_e', boundary_type=\"exchange\", subsystem=\"Pseudoreaction\")\n",
    "\n",
    "glycogenolysis.add_reactions([MassReaction(EX_lac__L_e)]) \n",
    "new_reaction_list.append(EX_lac__L_e)\n",
    "\n",
    "print(new_reaction_list)"
   ]
  },
  {
   "cell_type": "markdown",
   "metadata": {},
   "source": [
    "### View extracted network"
   ]
  },
  {
   "cell_type": "code",
   "execution_count": 7,
   "metadata": {},
   "outputs": [
    {
     "ename": "ValueError",
     "evalue": "Could not load map_json. Not valid json, url, or filepath",
     "output_type": "error",
     "traceback": [
      "\u001b[0;31m---------------------------------------------------------------------------\u001b[0m",
      "\u001b[0;31mJSONDecodeError\u001b[0m                           Traceback (most recent call last)",
      "\u001b[0;32m/opt/anaconda3/lib/python3.8/site-packages/escher/plots.py\u001b[0m in \u001b[0;36m_load_resource\u001b[0;34m(resource, name)\u001b[0m\n\u001b[1;32m    138\u001b[0m     \u001b[0;32mtry\u001b[0m\u001b[0;34m:\u001b[0m\u001b[0;34m\u001b[0m\u001b[0;34m\u001b[0m\u001b[0m\n\u001b[0;32m--> 139\u001b[0;31m         \u001b[0m_\u001b[0m \u001b[0;34m=\u001b[0m \u001b[0mjson\u001b[0m\u001b[0;34m.\u001b[0m\u001b[0mloads\u001b[0m\u001b[0;34m(\u001b[0m\u001b[0mresource\u001b[0m\u001b[0;34m)\u001b[0m\u001b[0;34m\u001b[0m\u001b[0;34m\u001b[0m\u001b[0m\n\u001b[0m\u001b[1;32m    140\u001b[0m     \u001b[0;32mexcept\u001b[0m \u001b[0mValueError\u001b[0m \u001b[0;32mas\u001b[0m \u001b[0merr\u001b[0m\u001b[0;34m:\u001b[0m\u001b[0;34m\u001b[0m\u001b[0;34m\u001b[0m\u001b[0m\n",
      "\u001b[0;32m/opt/anaconda3/lib/python3.8/json/__init__.py\u001b[0m in \u001b[0;36mloads\u001b[0;34m(s, cls, object_hook, parse_float, parse_int, parse_constant, object_pairs_hook, **kw)\u001b[0m\n\u001b[1;32m    356\u001b[0m             parse_constant is None and object_pairs_hook is None and not kw):\n\u001b[0;32m--> 357\u001b[0;31m         \u001b[0;32mreturn\u001b[0m \u001b[0m_default_decoder\u001b[0m\u001b[0;34m.\u001b[0m\u001b[0mdecode\u001b[0m\u001b[0;34m(\u001b[0m\u001b[0ms\u001b[0m\u001b[0;34m)\u001b[0m\u001b[0;34m\u001b[0m\u001b[0;34m\u001b[0m\u001b[0m\n\u001b[0m\u001b[1;32m    358\u001b[0m     \u001b[0;32mif\u001b[0m \u001b[0mcls\u001b[0m \u001b[0;32mis\u001b[0m \u001b[0;32mNone\u001b[0m\u001b[0;34m:\u001b[0m\u001b[0;34m\u001b[0m\u001b[0;34m\u001b[0m\u001b[0m\n",
      "\u001b[0;32m/opt/anaconda3/lib/python3.8/json/decoder.py\u001b[0m in \u001b[0;36mdecode\u001b[0;34m(self, s, _w)\u001b[0m\n\u001b[1;32m    336\u001b[0m         \"\"\"\n\u001b[0;32m--> 337\u001b[0;31m         \u001b[0mobj\u001b[0m\u001b[0;34m,\u001b[0m \u001b[0mend\u001b[0m \u001b[0;34m=\u001b[0m \u001b[0mself\u001b[0m\u001b[0;34m.\u001b[0m\u001b[0mraw_decode\u001b[0m\u001b[0;34m(\u001b[0m\u001b[0ms\u001b[0m\u001b[0;34m,\u001b[0m \u001b[0midx\u001b[0m\u001b[0;34m=\u001b[0m\u001b[0m_w\u001b[0m\u001b[0;34m(\u001b[0m\u001b[0ms\u001b[0m\u001b[0;34m,\u001b[0m \u001b[0;36m0\u001b[0m\u001b[0;34m)\u001b[0m\u001b[0;34m.\u001b[0m\u001b[0mend\u001b[0m\u001b[0;34m(\u001b[0m\u001b[0;34m)\u001b[0m\u001b[0;34m)\u001b[0m\u001b[0;34m\u001b[0m\u001b[0;34m\u001b[0m\u001b[0m\n\u001b[0m\u001b[1;32m    338\u001b[0m         \u001b[0mend\u001b[0m \u001b[0;34m=\u001b[0m \u001b[0m_w\u001b[0m\u001b[0;34m(\u001b[0m\u001b[0ms\u001b[0m\u001b[0;34m,\u001b[0m \u001b[0mend\u001b[0m\u001b[0;34m)\u001b[0m\u001b[0;34m.\u001b[0m\u001b[0mend\u001b[0m\u001b[0;34m(\u001b[0m\u001b[0;34m)\u001b[0m\u001b[0;34m\u001b[0m\u001b[0;34m\u001b[0m\u001b[0m\n",
      "\u001b[0;32m/opt/anaconda3/lib/python3.8/json/decoder.py\u001b[0m in \u001b[0;36mraw_decode\u001b[0;34m(self, s, idx)\u001b[0m\n\u001b[1;32m    354\u001b[0m         \u001b[0;32mexcept\u001b[0m \u001b[0mStopIteration\u001b[0m \u001b[0;32mas\u001b[0m \u001b[0merr\u001b[0m\u001b[0;34m:\u001b[0m\u001b[0;34m\u001b[0m\u001b[0;34m\u001b[0m\u001b[0m\n\u001b[0;32m--> 355\u001b[0;31m             \u001b[0;32mraise\u001b[0m \u001b[0mJSONDecodeError\u001b[0m\u001b[0;34m(\u001b[0m\u001b[0;34m\"Expecting value\"\u001b[0m\u001b[0;34m,\u001b[0m \u001b[0ms\u001b[0m\u001b[0;34m,\u001b[0m \u001b[0merr\u001b[0m\u001b[0;34m.\u001b[0m\u001b[0mvalue\u001b[0m\u001b[0;34m)\u001b[0m \u001b[0;32mfrom\u001b[0m \u001b[0;32mNone\u001b[0m\u001b[0;34m\u001b[0m\u001b[0;34m\u001b[0m\u001b[0m\n\u001b[0m\u001b[1;32m    356\u001b[0m         \u001b[0;32mreturn\u001b[0m \u001b[0mobj\u001b[0m\u001b[0;34m,\u001b[0m \u001b[0mend\u001b[0m\u001b[0;34m\u001b[0m\u001b[0;34m\u001b[0m\u001b[0m\n",
      "\u001b[0;31mJSONDecodeError\u001b[0m: Expecting value: line 1 column 1 (char 0)",
      "\nDuring handling of the above exception, another exception occurred:\n",
      "\u001b[0;31mValueError\u001b[0m                                Traceback (most recent call last)",
      "\u001b[0;32m<ipython-input-7-2189af5b6820>\u001b[0m in \u001b[0;36m<module>\u001b[0;34m\u001b[0m\n\u001b[0;32m----> 1\u001b[0;31m escher_builder = escher.Builder(\n\u001b[0m\u001b[1;32m      2\u001b[0m     \u001b[0mmodel\u001b[0m\u001b[0;34m=\u001b[0m\u001b[0mglycogenolysis\u001b[0m\u001b[0;34m,\u001b[0m\u001b[0;34m\u001b[0m\u001b[0;34m\u001b[0m\u001b[0m\n\u001b[1;32m      3\u001b[0m     map_json=os.path.join(\n\u001b[1;32m      4\u001b[0m         model_dir, \".\".join((\n\u001b[1;32m      5\u001b[0m             glycogenolysis.id, \"map\", \"json\"))\n",
      "\u001b[0;32m/opt/anaconda3/lib/python3.8/site-packages/escher/plots.py\u001b[0m in \u001b[0;36m__init__\u001b[0;34m(self, map_name, map_json, model, model_name, model_json, **kwargs)\u001b[0m\n\u001b[1;32m    536\u001b[0m             \u001b[0;32mif\u001b[0m \u001b[0mmap_name\u001b[0m\u001b[0;34m:\u001b[0m\u001b[0;34m\u001b[0m\u001b[0;34m\u001b[0m\u001b[0m\n\u001b[1;32m    537\u001b[0m                 \u001b[0mwarn\u001b[0m\u001b[0;34m(\u001b[0m\u001b[0;34m'map_json overrides map_name'\u001b[0m\u001b[0;34m)\u001b[0m\u001b[0;34m\u001b[0m\u001b[0;34m\u001b[0m\u001b[0m\n\u001b[0;32m--> 538\u001b[0;31m             \u001b[0mself\u001b[0m\u001b[0;34m.\u001b[0m\u001b[0mmap_json\u001b[0m \u001b[0;34m=\u001b[0m \u001b[0mmap_json\u001b[0m\u001b[0;34m\u001b[0m\u001b[0;34m\u001b[0m\u001b[0m\n\u001b[0m\u001b[1;32m    539\u001b[0m         \u001b[0;32melse\u001b[0m\u001b[0;34m:\u001b[0m\u001b[0;34m\u001b[0m\u001b[0;34m\u001b[0m\u001b[0m\n\u001b[1;32m    540\u001b[0m             \u001b[0mself\u001b[0m\u001b[0;34m.\u001b[0m\u001b[0mmap_name\u001b[0m \u001b[0;34m=\u001b[0m \u001b[0mmap_name\u001b[0m\u001b[0;34m\u001b[0m\u001b[0;34m\u001b[0m\u001b[0m\n",
      "\u001b[0;32m/opt/anaconda3/lib/python3.8/site-packages/traitlets/traitlets.py\u001b[0m in \u001b[0;36m__set__\u001b[0;34m(self, obj, value)\u001b[0m\n\u001b[1;32m    583\u001b[0m             \u001b[0;32mraise\u001b[0m \u001b[0mTraitError\u001b[0m\u001b[0;34m(\u001b[0m\u001b[0;34m'The \"%s\" trait is read-only.'\u001b[0m \u001b[0;34m%\u001b[0m \u001b[0mself\u001b[0m\u001b[0;34m.\u001b[0m\u001b[0mname\u001b[0m\u001b[0;34m)\u001b[0m\u001b[0;34m\u001b[0m\u001b[0;34m\u001b[0m\u001b[0m\n\u001b[1;32m    584\u001b[0m         \u001b[0;32melse\u001b[0m\u001b[0;34m:\u001b[0m\u001b[0;34m\u001b[0m\u001b[0;34m\u001b[0m\u001b[0m\n\u001b[0;32m--> 585\u001b[0;31m             \u001b[0mself\u001b[0m\u001b[0;34m.\u001b[0m\u001b[0mset\u001b[0m\u001b[0;34m(\u001b[0m\u001b[0mobj\u001b[0m\u001b[0;34m,\u001b[0m \u001b[0mvalue\u001b[0m\u001b[0;34m)\u001b[0m\u001b[0;34m\u001b[0m\u001b[0;34m\u001b[0m\u001b[0m\n\u001b[0m\u001b[1;32m    586\u001b[0m \u001b[0;34m\u001b[0m\u001b[0m\n\u001b[1;32m    587\u001b[0m     \u001b[0;32mdef\u001b[0m \u001b[0m_validate\u001b[0m\u001b[0;34m(\u001b[0m\u001b[0mself\u001b[0m\u001b[0;34m,\u001b[0m \u001b[0mobj\u001b[0m\u001b[0;34m,\u001b[0m \u001b[0mvalue\u001b[0m\u001b[0;34m)\u001b[0m\u001b[0;34m:\u001b[0m\u001b[0;34m\u001b[0m\u001b[0;34m\u001b[0m\u001b[0m\n",
      "\u001b[0;32m/opt/anaconda3/lib/python3.8/site-packages/traitlets/traitlets.py\u001b[0m in \u001b[0;36mset\u001b[0;34m(self, obj, value)\u001b[0m\n\u001b[1;32m    572\u001b[0m             \u001b[0;31m# we explicitly compare silent to True just in case the equality\u001b[0m\u001b[0;34m\u001b[0m\u001b[0;34m\u001b[0m\u001b[0;34m\u001b[0m\u001b[0m\n\u001b[1;32m    573\u001b[0m             \u001b[0;31m# comparison above returns something other than True/False\u001b[0m\u001b[0;34m\u001b[0m\u001b[0;34m\u001b[0m\u001b[0;34m\u001b[0m\u001b[0m\n\u001b[0;32m--> 574\u001b[0;31m             \u001b[0mobj\u001b[0m\u001b[0;34m.\u001b[0m\u001b[0m_notify_trait\u001b[0m\u001b[0;34m(\u001b[0m\u001b[0mself\u001b[0m\u001b[0;34m.\u001b[0m\u001b[0mname\u001b[0m\u001b[0;34m,\u001b[0m \u001b[0mold_value\u001b[0m\u001b[0;34m,\u001b[0m \u001b[0mnew_value\u001b[0m\u001b[0;34m)\u001b[0m\u001b[0;34m\u001b[0m\u001b[0;34m\u001b[0m\u001b[0m\n\u001b[0m\u001b[1;32m    575\u001b[0m \u001b[0;34m\u001b[0m\u001b[0m\n\u001b[1;32m    576\u001b[0m     \u001b[0;32mdef\u001b[0m \u001b[0m__set__\u001b[0m\u001b[0;34m(\u001b[0m\u001b[0mself\u001b[0m\u001b[0;34m,\u001b[0m \u001b[0mobj\u001b[0m\u001b[0;34m,\u001b[0m \u001b[0mvalue\u001b[0m\u001b[0;34m)\u001b[0m\u001b[0;34m:\u001b[0m\u001b[0;34m\u001b[0m\u001b[0;34m\u001b[0m\u001b[0m\n",
      "\u001b[0;32m/opt/anaconda3/lib/python3.8/site-packages/traitlets/traitlets.py\u001b[0m in \u001b[0;36m_notify_trait\u001b[0;34m(self, name, old_value, new_value)\u001b[0m\n\u001b[1;32m   1132\u001b[0m \u001b[0;34m\u001b[0m\u001b[0m\n\u001b[1;32m   1133\u001b[0m     \u001b[0;32mdef\u001b[0m \u001b[0m_notify_trait\u001b[0m\u001b[0;34m(\u001b[0m\u001b[0mself\u001b[0m\u001b[0;34m,\u001b[0m \u001b[0mname\u001b[0m\u001b[0;34m,\u001b[0m \u001b[0mold_value\u001b[0m\u001b[0;34m,\u001b[0m \u001b[0mnew_value\u001b[0m\u001b[0;34m)\u001b[0m\u001b[0;34m:\u001b[0m\u001b[0;34m\u001b[0m\u001b[0;34m\u001b[0m\u001b[0m\n\u001b[0;32m-> 1134\u001b[0;31m         self.notify_change(Bunch(\n\u001b[0m\u001b[1;32m   1135\u001b[0m             \u001b[0mname\u001b[0m\u001b[0;34m=\u001b[0m\u001b[0mname\u001b[0m\u001b[0;34m,\u001b[0m\u001b[0;34m\u001b[0m\u001b[0;34m\u001b[0m\u001b[0m\n\u001b[1;32m   1136\u001b[0m             \u001b[0mold\u001b[0m\u001b[0;34m=\u001b[0m\u001b[0mold_value\u001b[0m\u001b[0;34m,\u001b[0m\u001b[0;34m\u001b[0m\u001b[0;34m\u001b[0m\u001b[0m\n",
      "\u001b[0;32m/opt/anaconda3/lib/python3.8/site-packages/ipywidgets/widgets/widget.py\u001b[0m in \u001b[0;36mnotify_change\u001b[0;34m(self, change)\u001b[0m\n\u001b[1;32m    604\u001b[0m                 \u001b[0;31m# Send new state to front-end\u001b[0m\u001b[0;34m\u001b[0m\u001b[0;34m\u001b[0m\u001b[0;34m\u001b[0m\u001b[0m\n\u001b[1;32m    605\u001b[0m                 \u001b[0mself\u001b[0m\u001b[0;34m.\u001b[0m\u001b[0msend_state\u001b[0m\u001b[0;34m(\u001b[0m\u001b[0mkey\u001b[0m\u001b[0;34m=\u001b[0m\u001b[0mname\u001b[0m\u001b[0;34m)\u001b[0m\u001b[0;34m\u001b[0m\u001b[0;34m\u001b[0m\u001b[0m\n\u001b[0;32m--> 606\u001b[0;31m         \u001b[0msuper\u001b[0m\u001b[0;34m(\u001b[0m\u001b[0mWidget\u001b[0m\u001b[0;34m,\u001b[0m \u001b[0mself\u001b[0m\u001b[0;34m)\u001b[0m\u001b[0;34m.\u001b[0m\u001b[0mnotify_change\u001b[0m\u001b[0;34m(\u001b[0m\u001b[0mchange\u001b[0m\u001b[0;34m)\u001b[0m\u001b[0;34m\u001b[0m\u001b[0;34m\u001b[0m\u001b[0m\n\u001b[0m\u001b[1;32m    607\u001b[0m \u001b[0;34m\u001b[0m\u001b[0m\n\u001b[1;32m    608\u001b[0m     \u001b[0;32mdef\u001b[0m \u001b[0m__repr__\u001b[0m\u001b[0;34m(\u001b[0m\u001b[0mself\u001b[0m\u001b[0;34m)\u001b[0m\u001b[0;34m:\u001b[0m\u001b[0;34m\u001b[0m\u001b[0;34m\u001b[0m\u001b[0m\n",
      "\u001b[0;32m/opt/anaconda3/lib/python3.8/site-packages/traitlets/traitlets.py\u001b[0m in \u001b[0;36mnotify_change\u001b[0;34m(self, change)\u001b[0m\n\u001b[1;32m   1174\u001b[0m                 \u001b[0mc\u001b[0m \u001b[0;34m=\u001b[0m \u001b[0mgetattr\u001b[0m\u001b[0;34m(\u001b[0m\u001b[0mself\u001b[0m\u001b[0;34m,\u001b[0m \u001b[0mc\u001b[0m\u001b[0;34m.\u001b[0m\u001b[0mname\u001b[0m\u001b[0;34m)\u001b[0m\u001b[0;34m\u001b[0m\u001b[0;34m\u001b[0m\u001b[0m\n\u001b[1;32m   1175\u001b[0m \u001b[0;34m\u001b[0m\u001b[0m\n\u001b[0;32m-> 1176\u001b[0;31m             \u001b[0mc\u001b[0m\u001b[0;34m(\u001b[0m\u001b[0mchange\u001b[0m\u001b[0;34m)\u001b[0m\u001b[0;34m\u001b[0m\u001b[0;34m\u001b[0m\u001b[0m\n\u001b[0m\u001b[1;32m   1177\u001b[0m \u001b[0;34m\u001b[0m\u001b[0m\n\u001b[1;32m   1178\u001b[0m     \u001b[0;32mdef\u001b[0m \u001b[0m_add_notifiers\u001b[0m\u001b[0;34m(\u001b[0m\u001b[0mself\u001b[0m\u001b[0;34m,\u001b[0m \u001b[0mhandler\u001b[0m\u001b[0;34m,\u001b[0m \u001b[0mname\u001b[0m\u001b[0;34m,\u001b[0m \u001b[0mtype\u001b[0m\u001b[0;34m)\u001b[0m\u001b[0;34m:\u001b[0m\u001b[0;34m\u001b[0m\u001b[0;34m\u001b[0m\u001b[0m\n",
      "\u001b[0;32m/opt/anaconda3/lib/python3.8/site-packages/escher/plots.py\u001b[0m in \u001b[0;36m_observe_map_json\u001b[0;34m(self, change)\u001b[0m\n\u001b[1;32m    346\u001b[0m     \u001b[0;32mdef\u001b[0m \u001b[0m_observe_map_json\u001b[0m\u001b[0;34m(\u001b[0m\u001b[0mself\u001b[0m\u001b[0;34m,\u001b[0m \u001b[0mchange\u001b[0m\u001b[0;34m)\u001b[0m\u001b[0;34m:\u001b[0m\u001b[0;34m\u001b[0m\u001b[0;34m\u001b[0m\u001b[0m\n\u001b[1;32m    347\u001b[0m         \u001b[0;32mif\u001b[0m \u001b[0mchange\u001b[0m\u001b[0;34m.\u001b[0m\u001b[0mnew\u001b[0m\u001b[0;34m:\u001b[0m\u001b[0;34m\u001b[0m\u001b[0;34m\u001b[0m\u001b[0m\n\u001b[0;32m--> 348\u001b[0;31m             \u001b[0mself\u001b[0m\u001b[0;34m.\u001b[0m\u001b[0m_loaded_map_json\u001b[0m \u001b[0;34m=\u001b[0m \u001b[0m_load_resource\u001b[0m\u001b[0;34m(\u001b[0m\u001b[0mchange\u001b[0m\u001b[0;34m.\u001b[0m\u001b[0mnew\u001b[0m\u001b[0;34m,\u001b[0m \u001b[0;34m'map_json'\u001b[0m\u001b[0;34m)\u001b[0m\u001b[0;34m\u001b[0m\u001b[0;34m\u001b[0m\u001b[0m\n\u001b[0m\u001b[1;32m    349\u001b[0m         \u001b[0;32melse\u001b[0m\u001b[0;34m:\u001b[0m\u001b[0;34m\u001b[0m\u001b[0;34m\u001b[0m\u001b[0m\n\u001b[1;32m    350\u001b[0m             \u001b[0mself\u001b[0m\u001b[0;34m.\u001b[0m\u001b[0m_loaded_map_json\u001b[0m \u001b[0;34m=\u001b[0m \u001b[0;32mNone\u001b[0m\u001b[0;34m\u001b[0m\u001b[0;34m\u001b[0m\u001b[0m\n",
      "\u001b[0;32m/opt/anaconda3/lib/python3.8/site-packages/escher/plots.py\u001b[0m in \u001b[0;36m_load_resource\u001b[0;34m(resource, name)\u001b[0m\n\u001b[1;32m    139\u001b[0m         \u001b[0m_\u001b[0m \u001b[0;34m=\u001b[0m \u001b[0mjson\u001b[0m\u001b[0;34m.\u001b[0m\u001b[0mloads\u001b[0m\u001b[0;34m(\u001b[0m\u001b[0mresource\u001b[0m\u001b[0;34m)\u001b[0m\u001b[0;34m\u001b[0m\u001b[0;34m\u001b[0m\u001b[0m\n\u001b[1;32m    140\u001b[0m     \u001b[0;32mexcept\u001b[0m \u001b[0mValueError\u001b[0m \u001b[0;32mas\u001b[0m \u001b[0merr\u001b[0m\u001b[0;34m:\u001b[0m\u001b[0;34m\u001b[0m\u001b[0;34m\u001b[0m\u001b[0m\n\u001b[0;32m--> 141\u001b[0;31m         raise ValueError('Could not load %s. Not valid json, url, or filepath'\n\u001b[0m\u001b[1;32m    142\u001b[0m                          % name)\n\u001b[1;32m    143\u001b[0m     \u001b[0;32melse\u001b[0m\u001b[0;34m:\u001b[0m\u001b[0;34m\u001b[0m\u001b[0;34m\u001b[0m\u001b[0m\n",
      "\u001b[0;31mValueError\u001b[0m: Could not load map_json. Not valid json, url, or filepath"
     ]
    }
   ],
   "source": [
    "escher_builder = escher.Builder(\n",
    "    model=glycogenolysis,\n",
    "    map_json=os.path.join(\n",
    "        model_dir, \".\".join((\n",
    "            glycogenolysis.id, \"map\", \"json\"))\n",
    "    ),\n",
    "    highlight_missing=True)\n",
    "\n",
    "escher_builder"
   ]
  },
  {
   "cell_type": "markdown",
   "metadata": {},
   "source": [
    "## Parameterize MASS model"
   ]
  },
  {
   "cell_type": "code",
   "execution_count": null,
   "metadata": {},
   "outputs": [],
   "source": []
  },
  {
   "cell_type": "code",
   "execution_count": null,
   "metadata": {},
   "outputs": [],
   "source": []
  },
  {
   "cell_type": "code",
   "execution_count": null,
   "metadata": {},
   "outputs": [],
   "source": []
  },
  {
   "cell_type": "code",
   "execution_count": null,
   "metadata": {},
   "outputs": [],
   "source": [
    "\n"
   ]
  },
  {
   "cell_type": "code",
   "execution_count": null,
   "metadata": {
    "scrolled": true
   },
   "outputs": [],
   "source": []
  },
  {
   "cell_type": "code",
   "execution_count": null,
   "metadata": {},
   "outputs": [],
   "source": []
  },
  {
   "cell_type": "markdown",
   "metadata": {},
   "source": [
    "# Export MASS model"
   ]
  },
  {
   "cell_type": "code",
   "execution_count": 8,
   "metadata": {},
   "outputs": [],
   "source": [
    "save_json_mass_model(\n",
    "    mass_model=glycogenolysis,\n",
    "    filename=os.path.join(model_dir, glycogenolysis.id + \".json\"))"
   ]
  },
  {
   "cell_type": "code",
   "execution_count": null,
   "metadata": {},
   "outputs": [],
   "source": []
  }
 ],
 "metadata": {
  "kernelspec": {
   "display_name": "Python 3",
   "language": "python",
   "name": "python3"
  },
  "language_info": {
   "codemirror_mode": {
    "name": "ipython",
    "version": 3
   },
   "file_extension": ".py",
   "mimetype": "text/x-python",
   "name": "python",
   "nbconvert_exporter": "python",
   "pygments_lexer": "ipython3",
   "version": "3.8.3"
  }
 },
 "nbformat": 4,
 "nbformat_minor": 4
}
