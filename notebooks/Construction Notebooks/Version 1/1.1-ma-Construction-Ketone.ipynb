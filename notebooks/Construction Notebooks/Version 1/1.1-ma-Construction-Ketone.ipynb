{
 "cells": [
  {
   "cell_type": "markdown",
   "metadata": {},
   "source": [
    "<font color=red>Add headers in markdown to help mark sections. I added them for now, but as you go try to add them too.</font>\n",
    "\n",
    "# Liver Model Construction: Ketogenesis and Ketone Oxidation\n",
    "## Setup workflow\n",
    "### Import packages"
   ]
  },
  {
   "cell_type": "code",
   "execution_count": 1,
   "metadata": {},
   "outputs": [
    {
     "name": "stdout",
     "output_type": "stream",
     "text": [
      "MASSpy version: 0.1.1\n"
     ]
    }
   ],
   "source": [
    "import os\n",
    "\n",
    "from cobra.io.json import load_json_model as load_json_cobra_model\n",
    "\n",
    "import escher\n",
    "\n",
    "import numpy as np\n",
    "\n",
    "import mass\n",
    "from mass import MassMetabolite, MassModel, MassReaction\n",
    "from mass.io.json import save_json_model as save_json_mass_model\n",
    "\n",
    "print(\"MASSpy version: {0}\".format(mass.__version__))"
   ]
  },
  {
   "cell_type": "markdown",
   "metadata": {},
   "source": [
    "### Set paths and constants\n",
    "#### Directory paths"
   ]
  },
  {
   "cell_type": "code",
   "execution_count": 2,
   "metadata": {},
   "outputs": [],
   "source": [
    "model_dir = os.path.abspath(\"../models\")\n",
    "maps_dir = os.path.abspath(\"../maps\")"
   ]
  },
  {
   "cell_type": "markdown",
   "metadata": {},
   "source": [
    "## Create MASS model from COBRA model\n",
    "### Load COBRA model"
   ]
  },
  {
   "cell_type": "markdown",
   "metadata": {},
   "source": [
    "<font color=red>\n",
    "I couldnt run the notebook because the model file wasn't present. Make sure in your next commit, you include it as well! \n",
    "\n",
    "I set the path for where it should be found and what the file should be called (For model names, lets try using no spaces or underscores, but capitalize each new word</font>"
   ]
  },
  {
   "cell_type": "code",
   "execution_count": 4,
   "metadata": {},
   "outputs": [
    {
     "data": {
      "text/html": [
       "\n",
       "        <table>\n",
       "            <tr>\n",
       "                <td><strong>Name</strong></td>\n",
       "                <td>None</td>\n",
       "            </tr><tr>\n",
       "                <td><strong>Memory address</strong></td>\n",
       "                <td>0x07fd3c42ff040</td>\n",
       "            </tr><tr>\n",
       "                <td><strong>Number of metabolites</strong></td>\n",
       "                <td>178</td>\n",
       "            </tr><tr>\n",
       "                <td><strong>Number of reactions</strong></td>\n",
       "                <td>187</td>\n",
       "            </tr><tr>\n",
       "                <td><strong>Number of groups</strong></td>\n",
       "                <td>0</td>\n",
       "            </tr><tr>\n",
       "                <td><strong>Objective expression</strong></td>\n",
       "                <td>1.0*ATPM - 1.0*ATPM_reverse_5b752</td>\n",
       "            </tr><tr>\n",
       "                <td><strong>Compartments</strong></td>\n",
       "                <td>m, i, c, r, </td>\n",
       "            </tr>\n",
       "          </table>"
      ],
      "text/plain": [
       "<Model None at 0x7fd3c42ff040>"
      ]
     },
     "execution_count": 4,
     "metadata": {},
     "output_type": "execute_result"
    }
   ],
   "source": [
    "cobra_model = load_json_cobra_model(\n",
    "    filename=os.path.join(model_dir, \"CoreModel.json\"))\n",
    "cobra_model"
   ]
  },
  {
   "cell_type": "markdown",
   "metadata": {},
   "source": [
    "### Create MASS model"
   ]
  },
  {
   "cell_type": "code",
   "execution_count": 5,
   "metadata": {},
   "outputs": [],
   "source": [
    "model = MassModel(\"Ketone\", array_type='DataFrame', dtype=np.int64)"
   ]
  },
  {
   "cell_type": "markdown",
   "metadata": {},
   "source": [
    "<font color=red>For something like a reaction list of this length, consider using formatting that doesn't require scrolling to the side in the cell (good practice)</font>\n",
    "\n",
    "<font color=red>I refactored the code a bit. Beforehand, you had just made the cobra model. I modified it to make the MassModel. Essentially, you just need to switch it over from COBRApy use to MASSpy, which is what you are familiar with</font>"
   ]
  },
  {
   "cell_type": "markdown",
   "metadata": {},
   "source": [
    "#### Define reactions"
   ]
  },
  {
   "cell_type": "code",
   "execution_count": 6,
   "metadata": {},
   "outputs": [
    {
     "data": {
      "text/html": [
       "\n",
       "            <table>\n",
       "                <tr>\n",
       "                    <td><strong>Name</strong></td><td>Ketone</td>\n",
       "                </tr><tr>\n",
       "                    <td><strong>Memory address</strong></td><td>0x07fd3cd534b50</td>\n",
       "                </tr><tr>\n",
       "                    <td><strong>Stoichiometric Matrix</strong></td>\n",
       "                    <td>17x8</td>\n",
       "                </tr><tr>\n",
       "                    <td><strong>Matrix Rank</strong></td>\n",
       "                    <td>8</td>\n",
       "                </tr><tr>\n",
       "                    <td><strong>Number of metabolites</strong></td>\n",
       "                    <td>17</td>\n",
       "                </tr><tr>\n",
       "                    <td><strong>Initial conditions defined</strong></td>\n",
       "                    <td>0/17</td>\n",
       "                </tr><tr>\n",
       "                    <td><strong>Number of reactions</strong></td>\n",
       "                    <td>8</td>\n",
       "                </tr><tr>\n",
       "                    <td><strong>Number of genes</strong></td>\n",
       "                    <td>5</td>\n",
       "                </tr><tr>\n",
       "                    <td><strong>Number of enzyme modules</strong></td>\n",
       "                    <td>0</td>\n",
       "                </tr><tr>\n",
       "                    <td><strong>Number of groups</strong></td>\n",
       "                    <td>0</td>\n",
       "                </tr><tr>\n",
       "                    <td><strong>Objective expression</strong></td>\n",
       "                    <td>0</td>\n",
       "                </tr><tr>\n",
       "                    <td><strong>Compartments</strong></td>\n",
       "                    <td>, m, i</td>\n",
       "                </tr>\n",
       "            </table>\n",
       "        "
      ],
      "text/plain": [
       "<MassModel Ketone at 0x7fd3cd534b50>"
      ]
     },
     "execution_count": 6,
     "metadata": {},
     "output_type": "execute_result"
    }
   ],
   "source": [
    "# Define list of reactions to extract\n",
    "reaction_list = [\n",
    "    'ACETONEt2m',\n",
    "    'ADCim',\n",
    "    'OCOAT1m',\n",
    "    'HMGCOASm',\n",
    "    'HMGLm',\n",
    "    'BDHm',\n",
    "    'BHBtm',\n",
    "    'ACACT1m'\n",
    "]\n",
    "\n",
    "# Convert cobra.Reactions to mass.MassReactions\n",
    "for item in reaction_list:\n",
    "    reaction = cobra_model.reactions.get_by_id(item)\n",
    "    model.add_reactions([MassReaction(reaction)])\n",
    "model"
   ]
  },
  {
   "cell_type": "markdown",
   "metadata": {},
   "source": [
    "### View extracted network"
   ]
  },
  {
   "cell_type": "markdown",
   "metadata": {},
   "source": [
    "<font color=red>Path to amino acid map will be needed. Lets call maps with the name \"MODELID.map.json\"</font>"
   ]
  },
  {
   "cell_type": "code",
   "execution_count": 8,
   "metadata": {},
   "outputs": [
    {
     "data": {
      "application/vnd.jupyter.widget-view+json": {
       "model_id": "effc3fe6c2bc4f2e85eb7e3344f39b87",
       "version_major": 2,
       "version_minor": 0
      },
      "text/plain": [
       "Builder(highlight_missing=True)"
      ]
     },
     "metadata": {},
     "output_type": "display_data"
    }
   ],
   "source": [
    "escher_builder = escher.Builder(\n",
    "    model=model,\n",
    "    map_json=os.path.join(\n",
    "        model_dir, \".\".join((\n",
    "            model.id, \"map\", \"json\"))\n",
    "    ),\n",
    "    highlight_missing=True)\n",
    "\n",
    "escher_builder"
   ]
  },
  {
   "cell_type": "markdown",
   "metadata": {},
   "source": [
    "## Parameterize MASS model\n",
    "### Continue below..."
   ]
  },
  {
   "cell_type": "code",
   "execution_count": null,
   "metadata": {},
   "outputs": [],
   "source": []
  },
  {
   "cell_type": "code",
   "execution_count": null,
   "metadata": {},
   "outputs": [],
   "source": []
  },
  {
   "cell_type": "code",
   "execution_count": null,
   "metadata": {},
   "outputs": [],
   "source": []
  },
  {
   "cell_type": "code",
   "execution_count": null,
   "metadata": {},
   "outputs": [],
   "source": []
  },
  {
   "cell_type": "markdown",
   "metadata": {},
   "source": [
    "## Export MASS model"
   ]
  },
  {
   "cell_type": "markdown",
   "metadata": {},
   "source": [
    "<font color=red>Save model at the end of notebook. Over time, we will likely use this notebook to parameterize later as well.\"</font>"
   ]
  },
  {
   "cell_type": "code",
   "execution_count": 9,
   "metadata": {},
   "outputs": [],
   "source": [
    "save_json_mass_model(\n",
    "    mass_model=model,\n",
    "    filename=os.path.join(model_dir, model.id + \".json\"))"
   ]
  },
  {
   "cell_type": "code",
   "execution_count": null,
   "metadata": {},
   "outputs": [],
   "source": []
  }
 ],
 "metadata": {
  "kernelspec": {
   "display_name": "Python 3",
   "language": "python",
   "name": "python3"
  },
  "language_info": {
   "codemirror_mode": {
    "name": "ipython",
    "version": 3
   },
   "file_extension": ".py",
   "mimetype": "text/x-python",
   "name": "python",
   "nbconvert_exporter": "python",
   "pygments_lexer": "ipython3",
   "version": "3.8.3"
  }
 },
 "nbformat": 4,
 "nbformat_minor": 4
}
