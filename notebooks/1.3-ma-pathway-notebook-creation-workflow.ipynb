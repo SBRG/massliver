{
 "cells": [
  {
   "cell_type": "code",
   "execution_count": 2,
   "metadata": {},
   "outputs": [],
   "source": [
    "from cobra.io.json import load_json_model as load_json_cobra_model\n",
    "\n",
    "from cobra import Model, Reaction, Metabolite\n",
    "import cobra.test\n",
    "import os\n",
    "from os.path import join"
   ]
  },
  {
   "cell_type": "code",
   "execution_count": 3,
   "metadata": {},
   "outputs": [
    {
     "data": {
      "text/html": [
       "\n",
       "        <table>\n",
       "            <tr>\n",
       "                <td><strong>Name</strong></td>\n",
       "                <td>None</td>\n",
       "            </tr><tr>\n",
       "                <td><strong>Memory address</strong></td>\n",
       "                <td>0x07f13920ea150</td>\n",
       "            </tr><tr>\n",
       "                <td><strong>Number of metabolites</strong></td>\n",
       "                <td>164</td>\n",
       "            </tr><tr>\n",
       "                <td><strong>Number of reactions</strong></td>\n",
       "                <td>173</td>\n",
       "            </tr><tr>\n",
       "                <td><strong>Number of groups</strong></td>\n",
       "                <td>0</td>\n",
       "            </tr><tr>\n",
       "                <td><strong>Objective expression</strong></td>\n",
       "                <td>1.0*ATPM - 1.0*ATPM_reverse_5b752</td>\n",
       "            </tr><tr>\n",
       "                <td><strong>Compartments</strong></td>\n",
       "                <td>m, i, c, r, </td>\n",
       "            </tr>\n",
       "          </table>"
      ],
      "text/plain": [
       "<Model None at 0x7f13920ea150>"
      ]
     },
     "execution_count": 3,
     "metadata": {},
     "output_type": "execute_result"
    }
   ],
   "source": [
    "core_model = load_json_cobra_model('core_model.json')\n",
    "core_model"
   ]
  },
  {
   "cell_type": "code",
   "execution_count": 5,
   "metadata": {},
   "outputs": [
    {
     "data": {
      "text/plain": [
       "[<Reaction GLUN at 0x7f1391e95150>,\n",
       " <Reaction GLNS at 0x7f1391e95050>,\n",
       " <Reaction GLUt2m at 0x7f1391f1d410>,\n",
       " <Reaction GDHm at 0x7f1391e95410>,\n",
       " <Reaction GLYCLm at 0x7f1391f1d7d0>,\n",
       " <Reaction GLYtm at 0x7f1391eabad0>,\n",
       " <Reaction THFtm at 0x7f1391eab310>,\n",
       " <Reaction MLTHFtm at 0x7f1391eab390>,\n",
       " <Reaction PGCD at 0x7f1391e9cd50>,\n",
       " <Reaction PSERT at 0x7f1391ea3a50>,\n",
       " <Reaction PSP_L at 0x7f1391ea3ed0>,\n",
       " <Reaction GHMT2r at 0x7f1391ea3a10>,\n",
       " <Reaction SERHL at 0x7f1391eb2f10>,\n",
       " <Reaction 2AMACHYD at 0x7f1391eb20d0>,\n",
       " <Reaction 3SPYRSP at 0x7f1391e9c9d0>,\n",
       " <Reaction 3SALATAi at 0x7f1391e9cd90>,\n",
       " <Reaction CYSO at 0x7f1391e95450>,\n",
       " <Reaction ALATA_L at 0x7f1391e95110>]"
      ]
     },
     "execution_count": 5,
     "metadata": {},
     "output_type": "execute_result"
    }
   ],
   "source": [
    "reaction_list = ['GLUN','GLNS','GLUt2m','GDHm','GLYCLm','GLYtm','THFtm','MLTHFtm','PGCD','PSERT','PSP_L','GHMT2r','SERHL','2AMACHYD','3SPYRSP','3SALATAi','CYSO','ALATA_L']\n",
    "new_reaction_list = []\n",
    "for item in reaction_list:\n",
    "    item = core_model.reactions.get_by_id(item)\n",
    "    new_reaction_list.append(item)\n",
    "    \n",
    "new_reaction_list"
   ]
  },
  {
   "cell_type": "code",
   "execution_count": 7,
   "metadata": {},
   "outputs": [
    {
     "data": {
      "text/html": [
       "\n",
       "        <table>\n",
       "            <tr>\n",
       "                <td><strong>Name</strong></td>\n",
       "                <td>amino_acids</td>\n",
       "            </tr><tr>\n",
       "                <td><strong>Memory address</strong></td>\n",
       "                <td>0x07f1391eb7a90</td>\n",
       "            </tr><tr>\n",
       "                <td><strong>Number of metabolites</strong></td>\n",
       "                <td>38</td>\n",
       "            </tr><tr>\n",
       "                <td><strong>Number of reactions</strong></td>\n",
       "                <td>18</td>\n",
       "            </tr><tr>\n",
       "                <td><strong>Number of groups</strong></td>\n",
       "                <td>0</td>\n",
       "            </tr><tr>\n",
       "                <td><strong>Objective expression</strong></td>\n",
       "                <td>0</td>\n",
       "            </tr><tr>\n",
       "                <td><strong>Compartments</strong></td>\n",
       "                <td>c, m, i</td>\n",
       "            </tr>\n",
       "          </table>"
      ],
      "text/plain": [
       "<Model amino_acids at 0x7f1391eb7a90>"
      ]
     },
     "execution_count": 7,
     "metadata": {},
     "output_type": "execute_result"
    }
   ],
   "source": [
    "model = Model('amino_acids')\n",
    "for item in new_reaction_list:\n",
    "    model.add_reactions([item])\n",
    "    \n",
    "model\n"
   ]
  },
  {
   "cell_type": "code",
   "execution_count": null,
   "metadata": {},
   "outputs": [],
   "source": []
  }
 ],
 "metadata": {
  "kernelspec": {
   "display_name": "Python 3",
   "language": "python",
   "name": "python3"
  },
  "language_info": {
   "codemirror_mode": {
    "name": "ipython",
    "version": 3
   },
   "file_extension": ".py",
   "mimetype": "text/x-python",
   "name": "python",
   "nbconvert_exporter": "python",
   "pygments_lexer": "ipython3",
   "version": "3.7.9"
  }
 },
 "nbformat": 4,
 "nbformat_minor": 4
}
